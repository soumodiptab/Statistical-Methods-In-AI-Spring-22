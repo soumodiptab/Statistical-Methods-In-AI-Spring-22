{
  "cells": [
    {
      "cell_type": "markdown",
      "id": "02c54141",
      "metadata": {
        "id": "02c54141"
      },
      "source": [
        "## Spam Email Classifier with KNN using TF-IDF scores"
      ]
    },
    {
      "cell_type": "markdown",
      "id": "1c17102e",
      "metadata": {
        "id": "1c17102e"
      },
      "source": [
        "1.   Assignment must be implemented in Python 3 only.\n",
        "2.   You are allowed to use libraries for data preprocessing (numpy, pandas, nltk etc) and for evaluation metrics, data visualization (matplotlib etc.).\n",
        "3.   You will be evaluated not just on the overall performance of the model and also on the experimentation with hyper parameters, data prepossessing techniques etc.\n",
        "4.   The report file must be a well documented jupyter notebook, explaining the experiments you have performed, evaluation metrics and corresponding code. The code must run and be able to reproduce the accuracies, figures/graphs etc.\n",
        "5.   For all the questions, you must create a train-validation data split and test the hyperparameter tuning on the validation set. Your jupyter notebook must reflect the same.\n",
        "6.   Strict plagiarism checking will be done. An F will be awarded for plagiarism."
      ]
    },
    {
      "cell_type": "markdown",
      "id": "0d34a310",
      "metadata": {
        "id": "0d34a310"
      },
      "source": [
        "**Task: Given an email, classify it as spam or ham**\n",
        "\n",
        "Given input text file (\"emails.txt\") containing 5572 email messages, with each row having its corresponding label (spam/ham) attached to it.\n",
        "\n",
        "This task also requires basic pre-processing of text (like removing stopwords, stemming/lemmatizing, replacing email_address with 'email-tag', etc..).\n",
        "\n",
        "You are required to find the tf-idf scores for the given data and use them to perform KNN using Cosine Similarity."
      ]
    },
    {
      "cell_type": "markdown",
      "id": "b0c87696",
      "metadata": {
        "id": "b0c87696"
      },
      "source": [
        "### Import necessary libraries"
      ]
    },
    {
      "cell_type": "code",
      "execution_count": 38,
      "id": "3d5a1fe2",
      "metadata": {
        "id": "3d5a1fe2"
      },
      "outputs": [],
      "source": [
        "import pandas as pd\n",
        "import numpy as np\n",
        "import matplotlib.pyplot as plt\n",
        "import string\n",
        "from nltk.corpus import stopwords\n",
        "from nltk.tokenize import word_tokenize\n",
        "from nltk.stem.wordnet import WordNetLemmatizer\n",
        "from sklearn.model_selection import train_test_split\n",
        "from sklearn.neighbors import KNeighborsClassifier\n",
        "from sklearn.metrics import accuracy_score\n",
        "from sklearn.metrics import confusion_matrix\n",
        "from scipy.spatial.distance import hamming\n",
        "#using only to check if our implementation of TF-IDF is working similar to it\n",
        "from sklearn.feature_extraction.text import CountVectorizer\n",
        "from sklearn.feature_extraction.text import TfidfTransformer\n",
        "from sklearn.feature_extraction.text import TfidfVectorizer\n",
        "import nltk\n",
        "import math"
      ]
    },
    {
      "cell_type": "code",
      "execution_count": 39,
      "id": "sQJ8c3MjtqUG",
      "metadata": {
        "colab": {
          "base_uri": "https://localhost:8080/"
        },
        "id": "sQJ8c3MjtqUG",
        "outputId": "f586e505-c19f-4a6a-ab18-a56cc2910d15"
      },
      "outputs": [
        {
          "name": "stdout",
          "output_type": "stream",
          "text": [
            "[nltk_data] Downloading package punkt to /root/nltk_data...\n",
            "[nltk_data]   Package punkt is already up-to-date!\n",
            "[nltk_data] Downloading package stopwords to /root/nltk_data...\n",
            "[nltk_data]   Package stopwords is already up-to-date!\n",
            "[nltk_data] Downloading package wordnet to /root/nltk_data...\n",
            "[nltk_data]   Package wordnet is already up-to-date!\n"
          ]
        },
        {
          "data": {
            "text/plain": [
              "True"
            ]
          },
          "execution_count": 39,
          "metadata": {},
          "output_type": "execute_result"
        }
      ],
      "source": [
        "#Downloading the nltk libraries\n",
        "nltk.download('punkt')\n",
        "nltk.download('stopwords')\n",
        "nltk.download('wordnet')"
      ]
    },
    {
      "cell_type": "markdown",
      "id": "yMyWwAWj_wKa",
      "metadata": {
        "id": "yMyWwAWj_wKa"
      },
      "source": [
        "### Load Dataset"
      ]
    },
    {
      "cell_type": "code",
      "execution_count": 71,
      "id": "f178f892",
      "metadata": {
        "colab": {
          "base_uri": "https://localhost:8080/",
          "height": 423
        },
        "id": "f178f892",
        "outputId": "046decdd-01b2-4108-c50e-fa534935386c"
      },
      "outputs": [
        {
          "data": {
            "text/html": [
              "\n",
              "  <div id=\"df-f6f52925-b7d8-437c-94e7-44a9501a4513\">\n",
              "    <div class=\"colab-df-container\">\n",
              "      <div>\n",
              "<style scoped>\n",
              "    .dataframe tbody tr th:only-of-type {\n",
              "        vertical-align: middle;\n",
              "    }\n",
              "\n",
              "    .dataframe tbody tr th {\n",
              "        vertical-align: top;\n",
              "    }\n",
              "\n",
              "    .dataframe thead th {\n",
              "        text-align: right;\n",
              "    }\n",
              "</style>\n",
              "<table border=\"1\" class=\"dataframe\">\n",
              "  <thead>\n",
              "    <tr style=\"text-align: right;\">\n",
              "      <th></th>\n",
              "      <th>type</th>\n",
              "      <th>text</th>\n",
              "    </tr>\n",
              "  </thead>\n",
              "  <tbody>\n",
              "    <tr>\n",
              "      <th>0</th>\n",
              "      <td>ham</td>\n",
              "      <td>Go until jurong point, crazy.. Available only ...</td>\n",
              "    </tr>\n",
              "    <tr>\n",
              "      <th>1</th>\n",
              "      <td>ham</td>\n",
              "      <td>Ok lar... Joking wif u oni...</td>\n",
              "    </tr>\n",
              "    <tr>\n",
              "      <th>2</th>\n",
              "      <td>spam</td>\n",
              "      <td>Free entry in 2 a wkly comp to win FA Cup fina...</td>\n",
              "    </tr>\n",
              "    <tr>\n",
              "      <th>3</th>\n",
              "      <td>ham</td>\n",
              "      <td>U dun say so early hor... U c already then say...</td>\n",
              "    </tr>\n",
              "    <tr>\n",
              "      <th>4</th>\n",
              "      <td>ham</td>\n",
              "      <td>Nah I don't think he goes to usf, he lives aro...</td>\n",
              "    </tr>\n",
              "    <tr>\n",
              "      <th>...</th>\n",
              "      <td>...</td>\n",
              "      <td>...</td>\n",
              "    </tr>\n",
              "    <tr>\n",
              "      <th>5567</th>\n",
              "      <td>spam</td>\n",
              "      <td>This is the 2nd time we have tried 2 contact u...</td>\n",
              "    </tr>\n",
              "    <tr>\n",
              "      <th>5568</th>\n",
              "      <td>ham</td>\n",
              "      <td>Will ü b going to esplanade fr home?</td>\n",
              "    </tr>\n",
              "    <tr>\n",
              "      <th>5569</th>\n",
              "      <td>ham</td>\n",
              "      <td>Pity, * was in mood for that. So...any other s...</td>\n",
              "    </tr>\n",
              "    <tr>\n",
              "      <th>5570</th>\n",
              "      <td>ham</td>\n",
              "      <td>The guy did some bitching but I acted like i'd...</td>\n",
              "    </tr>\n",
              "    <tr>\n",
              "      <th>5571</th>\n",
              "      <td>ham</td>\n",
              "      <td>Rofl. Its true to its name</td>\n",
              "    </tr>\n",
              "  </tbody>\n",
              "</table>\n",
              "<p>5572 rows × 2 columns</p>\n",
              "</div>\n",
              "      <button class=\"colab-df-convert\" onclick=\"convertToInteractive('df-f6f52925-b7d8-437c-94e7-44a9501a4513')\"\n",
              "              title=\"Convert this dataframe to an interactive table.\"\n",
              "              style=\"display:none;\">\n",
              "        \n",
              "  <svg xmlns=\"http://www.w3.org/2000/svg\" height=\"24px\"viewBox=\"0 0 24 24\"\n",
              "       width=\"24px\">\n",
              "    <path d=\"M0 0h24v24H0V0z\" fill=\"none\"/>\n",
              "    <path d=\"M18.56 5.44l.94 2.06.94-2.06 2.06-.94-2.06-.94-.94-2.06-.94 2.06-2.06.94zm-11 1L8.5 8.5l.94-2.06 2.06-.94-2.06-.94L8.5 2.5l-.94 2.06-2.06.94zm10 10l.94 2.06.94-2.06 2.06-.94-2.06-.94-.94-2.06-.94 2.06-2.06.94z\"/><path d=\"M17.41 7.96l-1.37-1.37c-.4-.4-.92-.59-1.43-.59-.52 0-1.04.2-1.43.59L10.3 9.45l-7.72 7.72c-.78.78-.78 2.05 0 2.83L4 21.41c.39.39.9.59 1.41.59.51 0 1.02-.2 1.41-.59l7.78-7.78 2.81-2.81c.8-.78.8-2.07 0-2.86zM5.41 20L4 18.59l7.72-7.72 1.47 1.35L5.41 20z\"/>\n",
              "  </svg>\n",
              "      </button>\n",
              "      \n",
              "  <style>\n",
              "    .colab-df-container {\n",
              "      display:flex;\n",
              "      flex-wrap:wrap;\n",
              "      gap: 12px;\n",
              "    }\n",
              "\n",
              "    .colab-df-convert {\n",
              "      background-color: #E8F0FE;\n",
              "      border: none;\n",
              "      border-radius: 50%;\n",
              "      cursor: pointer;\n",
              "      display: none;\n",
              "      fill: #1967D2;\n",
              "      height: 32px;\n",
              "      padding: 0 0 0 0;\n",
              "      width: 32px;\n",
              "    }\n",
              "\n",
              "    .colab-df-convert:hover {\n",
              "      background-color: #E2EBFA;\n",
              "      box-shadow: 0px 1px 2px rgba(60, 64, 67, 0.3), 0px 1px 3px 1px rgba(60, 64, 67, 0.15);\n",
              "      fill: #174EA6;\n",
              "    }\n",
              "\n",
              "    [theme=dark] .colab-df-convert {\n",
              "      background-color: #3B4455;\n",
              "      fill: #D2E3FC;\n",
              "    }\n",
              "\n",
              "    [theme=dark] .colab-df-convert:hover {\n",
              "      background-color: #434B5C;\n",
              "      box-shadow: 0px 1px 3px 1px rgba(0, 0, 0, 0.15);\n",
              "      filter: drop-shadow(0px 1px 2px rgba(0, 0, 0, 0.3));\n",
              "      fill: #FFFFFF;\n",
              "    }\n",
              "  </style>\n",
              "\n",
              "      <script>\n",
              "        const buttonEl =\n",
              "          document.querySelector('#df-f6f52925-b7d8-437c-94e7-44a9501a4513 button.colab-df-convert');\n",
              "        buttonEl.style.display =\n",
              "          google.colab.kernel.accessAllowed ? 'block' : 'none';\n",
              "\n",
              "        async function convertToInteractive(key) {\n",
              "          const element = document.querySelector('#df-f6f52925-b7d8-437c-94e7-44a9501a4513');\n",
              "          const dataTable =\n",
              "            await google.colab.kernel.invokeFunction('convertToInteractive',\n",
              "                                                     [key], {});\n",
              "          if (!dataTable) return;\n",
              "\n",
              "          const docLinkHtml = 'Like what you see? Visit the ' +\n",
              "            '<a target=\"_blank\" href=https://colab.research.google.com/notebooks/data_table.ipynb>data table notebook</a>'\n",
              "            + ' to learn more about interactive tables.';\n",
              "          element.innerHTML = '';\n",
              "          dataTable['output_type'] = 'display_data';\n",
              "          await google.colab.output.renderOutput(dataTable, element);\n",
              "          const docLink = document.createElement('div');\n",
              "          docLink.innerHTML = docLinkHtml;\n",
              "          element.appendChild(docLink);\n",
              "        }\n",
              "      </script>\n",
              "    </div>\n",
              "  </div>\n",
              "  "
            ],
            "text/plain": [
              "      type                                               text\n",
              "0      ham  Go until jurong point, crazy.. Available only ...\n",
              "1      ham                      Ok lar... Joking wif u oni...\n",
              "2     spam  Free entry in 2 a wkly comp to win FA Cup fina...\n",
              "3      ham  U dun say so early hor... U c already then say...\n",
              "4      ham  Nah I don't think he goes to usf, he lives aro...\n",
              "...    ...                                                ...\n",
              "5567  spam  This is the 2nd time we have tried 2 contact u...\n",
              "5568   ham               Will ü b going to esplanade fr home?\n",
              "5569   ham  Pity, * was in mood for that. So...any other s...\n",
              "5570   ham  The guy did some bitching but I acted like i'd...\n",
              "5571   ham                         Rofl. Its true to its name\n",
              "\n",
              "[5572 rows x 2 columns]"
            ]
          },
          "execution_count": 71,
          "metadata": {},
          "output_type": "execute_result"
        }
      ],
      "source": [
        "# from google.colab import drive\n",
        "# drive.mount('/content/drive')\n",
        "# %cd /content/drive/My Drive/smai/\n",
        "data=pd.read_csv('emails.txt',sep='\\t',header=None)\n",
        "data.columns=['type','text']\n",
        "data"
      ]
    },
    {
      "cell_type": "markdown",
      "id": "cd1ef5ba",
      "metadata": {
        "id": "cd1ef5ba"
      },
      "source": [
        "### Preprocess data:\n",
        "1. Removing Punctuation\n",
        "2. Tokenizing\n",
        "3. Converting to lower case\n",
        "4. Removing stop words\n",
        "5. Lemmatizing the tokens"
      ]
    },
    {
      "cell_type": "code",
      "execution_count": 41,
      "id": "fd1733d7",
      "metadata": {
        "id": "fd1733d7"
      },
      "outputs": [],
      "source": [
        "# punctuations\n",
        "punctuations=string.punctuation\n",
        "# stopwords\n",
        "stop_words=stopwords.words('english')\n",
        "def remove_punctuations(text):\n",
        "  for c in punctuations:\n",
        "    text=text.replace(c,\" \")\n",
        "  return text\n",
        "wn = WordNetLemmatizer()\n",
        "#removing stopwords\n",
        "data['text'] = data['text'].apply(remove_punctuations)\n",
        "#tokenizing the text\n",
        "data['text'] = data['text'].apply(word_tokenize)\n",
        "#removing the \n",
        "data['text'] = data['text'].apply(lambda x: ([word.lower() for word in x if word.lower() not in stop_words]))\n",
        "#Lemmatizing\n",
        "data['text'] = data['text'].apply(lambda x: [wn.lemmatize(word) for word in x])"
      ]
    },
    {
      "cell_type": "code",
      "execution_count": 42,
      "id": "zjbnH-DisfLO",
      "metadata": {
        "colab": {
          "base_uri": "https://localhost:8080/",
          "height": 363
        },
        "id": "zjbnH-DisfLO",
        "outputId": "290a451f-15ea-4b09-bd15-5ee53c651d94"
      },
      "outputs": [
        {
          "data": {
            "text/html": [
              "\n",
              "  <div id=\"df-49ee9c97-56ce-4b96-a38b-0134fd717066\">\n",
              "    <div class=\"colab-df-container\">\n",
              "      <div>\n",
              "<style scoped>\n",
              "    .dataframe tbody tr th:only-of-type {\n",
              "        vertical-align: middle;\n",
              "    }\n",
              "\n",
              "    .dataframe tbody tr th {\n",
              "        vertical-align: top;\n",
              "    }\n",
              "\n",
              "    .dataframe thead th {\n",
              "        text-align: right;\n",
              "    }\n",
              "</style>\n",
              "<table border=\"1\" class=\"dataframe\">\n",
              "  <thead>\n",
              "    <tr style=\"text-align: right;\">\n",
              "      <th></th>\n",
              "      <th>type</th>\n",
              "      <th>text</th>\n",
              "    </tr>\n",
              "  </thead>\n",
              "  <tbody>\n",
              "    <tr>\n",
              "      <th>2168</th>\n",
              "      <td>ham</td>\n",
              "      <td>[yes, good, crickiting, mind]</td>\n",
              "    </tr>\n",
              "    <tr>\n",
              "      <th>1702</th>\n",
              "      <td>ham</td>\n",
              "      <td>[come, room, come, house, co, house, still, me...</td>\n",
              "    </tr>\n",
              "    <tr>\n",
              "      <th>1010</th>\n",
              "      <td>ham</td>\n",
              "      <td>[dear, hero, leaving, qatar, tonite, apt, oppo...</td>\n",
              "    </tr>\n",
              "    <tr>\n",
              "      <th>1862</th>\n",
              "      <td>ham</td>\n",
              "      <td>[aiyah, wait, lor, u, entertain, hee]</td>\n",
              "    </tr>\n",
              "    <tr>\n",
              "      <th>605</th>\n",
              "      <td>ham</td>\n",
              "      <td>[meet, lunch, la]</td>\n",
              "    </tr>\n",
              "    <tr>\n",
              "      <th>1901</th>\n",
              "      <td>ham</td>\n",
              "      <td>[miss, vday, parachute, double, coin, u, must,...</td>\n",
              "    </tr>\n",
              "    <tr>\n",
              "      <th>4146</th>\n",
              "      <td>ham</td>\n",
              "      <td>[lol, would, despite, cramp, like, girl]</td>\n",
              "    </tr>\n",
              "    <tr>\n",
              "      <th>906</th>\n",
              "      <td>ham</td>\n",
              "      <td>[hey, charles, sorry, late, reply]</td>\n",
              "    </tr>\n",
              "    <tr>\n",
              "      <th>2002</th>\n",
              "      <td>ham</td>\n",
              "      <td>[idea, soon, get, converted, live]</td>\n",
              "    </tr>\n",
              "    <tr>\n",
              "      <th>1927</th>\n",
              "      <td>ham</td>\n",
              "      <td>[dont, give, monkey, wot, think, certainly, mi...</td>\n",
              "    </tr>\n",
              "  </tbody>\n",
              "</table>\n",
              "</div>\n",
              "      <button class=\"colab-df-convert\" onclick=\"convertToInteractive('df-49ee9c97-56ce-4b96-a38b-0134fd717066')\"\n",
              "              title=\"Convert this dataframe to an interactive table.\"\n",
              "              style=\"display:none;\">\n",
              "        \n",
              "  <svg xmlns=\"http://www.w3.org/2000/svg\" height=\"24px\"viewBox=\"0 0 24 24\"\n",
              "       width=\"24px\">\n",
              "    <path d=\"M0 0h24v24H0V0z\" fill=\"none\"/>\n",
              "    <path d=\"M18.56 5.44l.94 2.06.94-2.06 2.06-.94-2.06-.94-.94-2.06-.94 2.06-2.06.94zm-11 1L8.5 8.5l.94-2.06 2.06-.94-2.06-.94L8.5 2.5l-.94 2.06-2.06.94zm10 10l.94 2.06.94-2.06 2.06-.94-2.06-.94-.94-2.06-.94 2.06-2.06.94z\"/><path d=\"M17.41 7.96l-1.37-1.37c-.4-.4-.92-.59-1.43-.59-.52 0-1.04.2-1.43.59L10.3 9.45l-7.72 7.72c-.78.78-.78 2.05 0 2.83L4 21.41c.39.39.9.59 1.41.59.51 0 1.02-.2 1.41-.59l7.78-7.78 2.81-2.81c.8-.78.8-2.07 0-2.86zM5.41 20L4 18.59l7.72-7.72 1.47 1.35L5.41 20z\"/>\n",
              "  </svg>\n",
              "      </button>\n",
              "      \n",
              "  <style>\n",
              "    .colab-df-container {\n",
              "      display:flex;\n",
              "      flex-wrap:wrap;\n",
              "      gap: 12px;\n",
              "    }\n",
              "\n",
              "    .colab-df-convert {\n",
              "      background-color: #E8F0FE;\n",
              "      border: none;\n",
              "      border-radius: 50%;\n",
              "      cursor: pointer;\n",
              "      display: none;\n",
              "      fill: #1967D2;\n",
              "      height: 32px;\n",
              "      padding: 0 0 0 0;\n",
              "      width: 32px;\n",
              "    }\n",
              "\n",
              "    .colab-df-convert:hover {\n",
              "      background-color: #E2EBFA;\n",
              "      box-shadow: 0px 1px 2px rgba(60, 64, 67, 0.3), 0px 1px 3px 1px rgba(60, 64, 67, 0.15);\n",
              "      fill: #174EA6;\n",
              "    }\n",
              "\n",
              "    [theme=dark] .colab-df-convert {\n",
              "      background-color: #3B4455;\n",
              "      fill: #D2E3FC;\n",
              "    }\n",
              "\n",
              "    [theme=dark] .colab-df-convert:hover {\n",
              "      background-color: #434B5C;\n",
              "      box-shadow: 0px 1px 3px 1px rgba(0, 0, 0, 0.15);\n",
              "      filter: drop-shadow(0px 1px 2px rgba(0, 0, 0, 0.3));\n",
              "      fill: #FFFFFF;\n",
              "    }\n",
              "  </style>\n",
              "\n",
              "      <script>\n",
              "        const buttonEl =\n",
              "          document.querySelector('#df-49ee9c97-56ce-4b96-a38b-0134fd717066 button.colab-df-convert');\n",
              "        buttonEl.style.display =\n",
              "          google.colab.kernel.accessAllowed ? 'block' : 'none';\n",
              "\n",
              "        async function convertToInteractive(key) {\n",
              "          const element = document.querySelector('#df-49ee9c97-56ce-4b96-a38b-0134fd717066');\n",
              "          const dataTable =\n",
              "            await google.colab.kernel.invokeFunction('convertToInteractive',\n",
              "                                                     [key], {});\n",
              "          if (!dataTable) return;\n",
              "\n",
              "          const docLinkHtml = 'Like what you see? Visit the ' +\n",
              "            '<a target=\"_blank\" href=https://colab.research.google.com/notebooks/data_table.ipynb>data table notebook</a>'\n",
              "            + ' to learn more about interactive tables.';\n",
              "          element.innerHTML = '';\n",
              "          dataTable['output_type'] = 'display_data';\n",
              "          await google.colab.output.renderOutput(dataTable, element);\n",
              "          const docLink = document.createElement('div');\n",
              "          docLink.innerHTML = docLinkHtml;\n",
              "          element.appendChild(docLink);\n",
              "        }\n",
              "      </script>\n",
              "    </div>\n",
              "  </div>\n",
              "  "
            ],
            "text/plain": [
              "     type                                               text\n",
              "2168  ham                      [yes, good, crickiting, mind]\n",
              "1702  ham  [come, room, come, house, co, house, still, me...\n",
              "1010  ham  [dear, hero, leaving, qatar, tonite, apt, oppo...\n",
              "1862  ham              [aiyah, wait, lor, u, entertain, hee]\n",
              "605   ham                                  [meet, lunch, la]\n",
              "1901  ham  [miss, vday, parachute, double, coin, u, must,...\n",
              "4146  ham           [lol, would, despite, cramp, like, girl]\n",
              "906   ham                 [hey, charles, sorry, late, reply]\n",
              "2002  ham                 [idea, soon, get, converted, live]\n",
              "1927  ham  [dont, give, monkey, wot, think, certainly, mi..."
            ]
          },
          "execution_count": 42,
          "metadata": {},
          "output_type": "execute_result"
        }
      ],
      "source": [
        "data.sample(10)"
      ]
    },
    {
      "cell_type": "code",
      "execution_count": 43,
      "id": "wMLUMyu_2gj5",
      "metadata": {
        "colab": {
          "base_uri": "https://localhost:8080/",
          "height": 363
        },
        "id": "wMLUMyu_2gj5",
        "outputId": "a64c718e-ed3e-4f5c-ccbc-c9bb064693c1"
      },
      "outputs": [
        {
          "data": {
            "text/html": [
              "\n",
              "  <div id=\"df-e2f6be37-9892-48e3-b8d8-cd004f1eef0e\">\n",
              "    <div class=\"colab-df-container\">\n",
              "      <div>\n",
              "<style scoped>\n",
              "    .dataframe tbody tr th:only-of-type {\n",
              "        vertical-align: middle;\n",
              "    }\n",
              "\n",
              "    .dataframe tbody tr th {\n",
              "        vertical-align: top;\n",
              "    }\n",
              "\n",
              "    .dataframe thead th {\n",
              "        text-align: right;\n",
              "    }\n",
              "</style>\n",
              "<table border=\"1\" class=\"dataframe\">\n",
              "  <thead>\n",
              "    <tr style=\"text-align: right;\">\n",
              "      <th></th>\n",
              "      <th>type</th>\n",
              "      <th>text</th>\n",
              "    </tr>\n",
              "  </thead>\n",
              "  <tbody>\n",
              "    <tr>\n",
              "      <th>2490</th>\n",
              "      <td>ham</td>\n",
              "      <td>[2, doc, appointment, next, week, tired, shovi...</td>\n",
              "    </tr>\n",
              "    <tr>\n",
              "      <th>2124</th>\n",
              "      <td>spam</td>\n",
              "      <td>[123, congratulation, week, competition, draw,...</td>\n",
              "    </tr>\n",
              "    <tr>\n",
              "      <th>4716</th>\n",
              "      <td>ham</td>\n",
              "      <td>[8, min, go, lunch]</td>\n",
              "    </tr>\n",
              "    <tr>\n",
              "      <th>4316</th>\n",
              "      <td>ham</td>\n",
              "      <td>[captain, room]</td>\n",
              "    </tr>\n",
              "    <tr>\n",
              "      <th>2407</th>\n",
              "      <td>ham</td>\n",
              "      <td>[one, best, dialogue, cute, reltnship, wen, di...</td>\n",
              "    </tr>\n",
              "    <tr>\n",
              "      <th>4767</th>\n",
              "      <td>ham</td>\n",
              "      <td>[whens, radio, show]</td>\n",
              "    </tr>\n",
              "    <tr>\n",
              "      <th>2566</th>\n",
              "      <td>ham</td>\n",
              "      <td>[told, dr, appt, next, week, think, gon, na, d...</td>\n",
              "    </tr>\n",
              "    <tr>\n",
              "      <th>2157</th>\n",
              "      <td>ham</td>\n",
              "      <td>[hey, cutie, go, wale, kinda, ok, like, hill, ...</td>\n",
              "    </tr>\n",
              "    <tr>\n",
              "      <th>2858</th>\n",
              "      <td>ham</td>\n",
              "      <td>[today, workin, free, oso, gee, thgt, u, worki...</td>\n",
              "    </tr>\n",
              "    <tr>\n",
              "      <th>2688</th>\n",
              "      <td>ham</td>\n",
              "      <td>[okie]</td>\n",
              "    </tr>\n",
              "  </tbody>\n",
              "</table>\n",
              "</div>\n",
              "      <button class=\"colab-df-convert\" onclick=\"convertToInteractive('df-e2f6be37-9892-48e3-b8d8-cd004f1eef0e')\"\n",
              "              title=\"Convert this dataframe to an interactive table.\"\n",
              "              style=\"display:none;\">\n",
              "        \n",
              "  <svg xmlns=\"http://www.w3.org/2000/svg\" height=\"24px\"viewBox=\"0 0 24 24\"\n",
              "       width=\"24px\">\n",
              "    <path d=\"M0 0h24v24H0V0z\" fill=\"none\"/>\n",
              "    <path d=\"M18.56 5.44l.94 2.06.94-2.06 2.06-.94-2.06-.94-.94-2.06-.94 2.06-2.06.94zm-11 1L8.5 8.5l.94-2.06 2.06-.94-2.06-.94L8.5 2.5l-.94 2.06-2.06.94zm10 10l.94 2.06.94-2.06 2.06-.94-2.06-.94-.94-2.06-.94 2.06-2.06.94z\"/><path d=\"M17.41 7.96l-1.37-1.37c-.4-.4-.92-.59-1.43-.59-.52 0-1.04.2-1.43.59L10.3 9.45l-7.72 7.72c-.78.78-.78 2.05 0 2.83L4 21.41c.39.39.9.59 1.41.59.51 0 1.02-.2 1.41-.59l7.78-7.78 2.81-2.81c.8-.78.8-2.07 0-2.86zM5.41 20L4 18.59l7.72-7.72 1.47 1.35L5.41 20z\"/>\n",
              "  </svg>\n",
              "      </button>\n",
              "      \n",
              "  <style>\n",
              "    .colab-df-container {\n",
              "      display:flex;\n",
              "      flex-wrap:wrap;\n",
              "      gap: 12px;\n",
              "    }\n",
              "\n",
              "    .colab-df-convert {\n",
              "      background-color: #E8F0FE;\n",
              "      border: none;\n",
              "      border-radius: 50%;\n",
              "      cursor: pointer;\n",
              "      display: none;\n",
              "      fill: #1967D2;\n",
              "      height: 32px;\n",
              "      padding: 0 0 0 0;\n",
              "      width: 32px;\n",
              "    }\n",
              "\n",
              "    .colab-df-convert:hover {\n",
              "      background-color: #E2EBFA;\n",
              "      box-shadow: 0px 1px 2px rgba(60, 64, 67, 0.3), 0px 1px 3px 1px rgba(60, 64, 67, 0.15);\n",
              "      fill: #174EA6;\n",
              "    }\n",
              "\n",
              "    [theme=dark] .colab-df-convert {\n",
              "      background-color: #3B4455;\n",
              "      fill: #D2E3FC;\n",
              "    }\n",
              "\n",
              "    [theme=dark] .colab-df-convert:hover {\n",
              "      background-color: #434B5C;\n",
              "      box-shadow: 0px 1px 3px 1px rgba(0, 0, 0, 0.15);\n",
              "      filter: drop-shadow(0px 1px 2px rgba(0, 0, 0, 0.3));\n",
              "      fill: #FFFFFF;\n",
              "    }\n",
              "  </style>\n",
              "\n",
              "      <script>\n",
              "        const buttonEl =\n",
              "          document.querySelector('#df-e2f6be37-9892-48e3-b8d8-cd004f1eef0e button.colab-df-convert');\n",
              "        buttonEl.style.display =\n",
              "          google.colab.kernel.accessAllowed ? 'block' : 'none';\n",
              "\n",
              "        async function convertToInteractive(key) {\n",
              "          const element = document.querySelector('#df-e2f6be37-9892-48e3-b8d8-cd004f1eef0e');\n",
              "          const dataTable =\n",
              "            await google.colab.kernel.invokeFunction('convertToInteractive',\n",
              "                                                     [key], {});\n",
              "          if (!dataTable) return;\n",
              "\n",
              "          const docLinkHtml = 'Like what you see? Visit the ' +\n",
              "            '<a target=\"_blank\" href=https://colab.research.google.com/notebooks/data_table.ipynb>data table notebook</a>'\n",
              "            + ' to learn more about interactive tables.';\n",
              "          element.innerHTML = '';\n",
              "          dataTable['output_type'] = 'display_data';\n",
              "          await google.colab.output.renderOutput(dataTable, element);\n",
              "          const docLink = document.createElement('div');\n",
              "          docLink.innerHTML = docLinkHtml;\n",
              "          element.appendChild(docLink);\n",
              "        }\n",
              "      </script>\n",
              "    </div>\n",
              "  </div>\n",
              "  "
            ],
            "text/plain": [
              "      type                                               text\n",
              "2490   ham  [2, doc, appointment, next, week, tired, shovi...\n",
              "2124  spam  [123, congratulation, week, competition, draw,...\n",
              "4716   ham                                [8, min, go, lunch]\n",
              "4316   ham                                    [captain, room]\n",
              "2407   ham  [one, best, dialogue, cute, reltnship, wen, di...\n",
              "4767   ham                               [whens, radio, show]\n",
              "2566   ham  [told, dr, appt, next, week, think, gon, na, d...\n",
              "2157   ham  [hey, cutie, go, wale, kinda, ok, like, hill, ...\n",
              "2858   ham  [today, workin, free, oso, gee, thgt, u, worki...\n",
              "2688   ham                                             [okie]"
            ]
          },
          "execution_count": 43,
          "metadata": {},
          "output_type": "execute_result"
        }
      ],
      "source": [
        "#removing lines with empty text\n",
        "data=data[data['text'].map(lambda d: len(d)) > 0]\n",
        "data.sample(10)"
      ]
    },
    {
      "cell_type": "markdown",
      "id": "gfzjouR_tDOy",
      "metadata": {
        "id": "gfzjouR_tDOy"
      },
      "source": [
        "#### Splitting Cleaned Data into test and train:"
      ]
    },
    {
      "cell_type": "code",
      "execution_count": 44,
      "id": "6TwW4rqA0ZDY",
      "metadata": {
        "id": "6TwW4rqA0ZDY"
      },
      "outputs": [],
      "source": [
        "text_train, text_test,labels_train, labels_test = train_test_split(data['text'],data['type'] ,test_size=0.20, random_state=42)\n",
        "labels_train=np.array(labels_train)\n",
        "labels_test=np.array(labels_test)\n",
        "text_train=np.array(text_train)\n",
        "text_test=np.array(text_test)"
      ]
    },
    {
      "cell_type": "markdown",
      "id": "b15bb760",
      "metadata": {
        "id": "b15bb760"
      },
      "source": [
        "##### Functions to calculate TF-IDF"
      ]
    },
    {
      "cell_type": "code",
      "execution_count": 45,
      "id": "z481EBWm5DbY",
      "metadata": {
        "id": "z481EBWm5DbY"
      },
      "outputs": [],
      "source": [
        "def term_freq(sentence, word):\n",
        "    N = len(sentence)\n",
        "    freq = len([x for x in sentence if x==word])\n",
        "    return freq/float(N)\n",
        "\n",
        "def inverse_doc_freq(word,doc_word_count,total_sentences):\n",
        "    doc_freq = doc_word_count[word] + 1\n",
        "    return math.log10(total_sentences/float(doc_freq))\n",
        "\n",
        "def tf_idf(sentence,doc_word_count,index_unique_words,unique_words,total_sentences):\n",
        "    tf_idf_vector = np.zeros((len(unique_words),))\n",
        "    for word in set(sentence):\n",
        "      tf = term_freq(sentence,word)\n",
        "      idf = inverse_doc_freq(word,doc_word_count,total_sentences)\n",
        "      value = tf*idf\n",
        "      tf_idf_vector[index_unique_words[word]] = value\n",
        "    return tf_idf_vector\n",
        "test_data=[]"
      ]
    },
    {
      "cell_type": "code",
      "execution_count": 46,
      "id": "eVf-q930y89N",
      "metadata": {
        "id": "eVf-q930y89N"
      },
      "outputs": [],
      "source": [
        "def build_unique_words(data_frame_col):\n",
        "  unique_words=set()\n",
        "  for text in data_frame_col:\n",
        "    unique_words=unique_words.union(set(text))\n",
        "  return unique_words\n",
        "def build_doc_freq(data_frame_col,unique_words):\n",
        "  doc_word_count=dict.fromkeys(unique_words, 0)\n",
        "  for text in data_frame_col:\n",
        "    for word in unique_words:\n",
        "      if word in text:\n",
        "        doc_word_count[word]+=1\n",
        "  return doc_word_count\n",
        "def calc_tf_idf(data_frame_col):\n",
        "  total_sentences=len(data_frame_col)\n",
        "  unique_words=build_unique_words(data_frame_col)\n",
        "  #for calculation of document freq:\n",
        "  doc_word_count=build_doc_freq(data_frame_col,unique_words)\n",
        "  print(doc_word_count)\n",
        "  index_unique_words={}\n",
        "  index=0\n",
        "  for word in unique_words:\n",
        "    index_unique_words[word]=index\n",
        "    index+=1\n",
        "  vectors=[]\n",
        "  for sentence in data_frame_col:\n",
        "    tf_idf_vector = tf_idf(sentence,doc_word_count,index_unique_words\n",
        "                             ,unique_words,total_sentences)\n",
        "    vectors.append(tf_idf_vector)\n",
        "  return vectors,index_unique_words,doc_word_count,total_sentences\n",
        "#labels=np.array(data['type'])\n",
        "#vectors=calc_tf_idf(data['text'])\n",
        "#test_data=data['text'].sample(10)\n",
        "#vectors,index_dict=calc_tf_idf(test_data)\n",
        "#test_data"
      ]
    },
    {
      "cell_type": "markdown",
      "id": "7413aa4c",
      "metadata": {
        "id": "7413aa4c"
      },
      "source": [
        "##### Calculating the TF-IDF Vector for the Train Data"
      ]
    },
    {
      "cell_type": "code",
      "execution_count": null,
      "id": "MpJz5qZByGSa",
      "metadata": {
        "colab": {
          "base_uri": "https://localhost:8080/"
        },
        "id": "MpJz5qZByGSa",
        "outputId": "32236a5b-761f-4dbc-cb1d-c18ba938a5bf"
      },
      "outputs": [],
      "source": [
        "vectors_train,index_unique_words,doc_word_count,total_sentences=calc_tf_idf(text_train)"
      ]
    },
    {
      "cell_type": "markdown",
      "id": "4ec94e97",
      "metadata": {
        "id": "4ec94e97"
      },
      "source": [
        "##### Calculating TF-IDF for Test data using Train Vector size"
      ]
    },
    {
      "cell_type": "code",
      "execution_count": 48,
      "id": "9o5i8UVi5yT_",
      "metadata": {
        "id": "9o5i8UVi5yT_"
      },
      "outputs": [],
      "source": [
        "#testing data\n",
        "def testing_tf_idf(data,index_unique_words,doc_word_count,total_sentences):\n",
        "  vectors=[]\n",
        "  i=0\n",
        "  for sentence in data:\n",
        "    unique_words=index_unique_words.keys()\n",
        "    vector=np.zeros((len(unique_words),))\n",
        "    for word in set(sentence):\n",
        "      if word not in unique_words:\n",
        "        continue\n",
        "      tf = term_freq(sentence,word)\n",
        "      idf = inverse_doc_freq(word,doc_word_count,total_sentences+1)\n",
        "      value = tf*idf\n",
        "      vector[index_unique_words[word]] = value\n",
        "    vectors.append(vector)\n",
        "    i+=1\n",
        "  return vectors\n",
        "vectors_test=testing_tf_idf(text_test,index_unique_words,doc_word_count,total_sentences)"
      ]
    },
    {
      "cell_type": "code",
      "execution_count": 49,
      "id": "f75e6cd2",
      "metadata": {
        "colab": {
          "base_uri": "https://localhost:8080/"
        },
        "id": "f75e6cd2",
        "outputId": "826adf40-9c79-49a0-f3b2-49de8b0c299c"
      },
      "outputs": [
        {
          "name": "stdout",
          "output_type": "stream",
          "text": [
            "7280\n"
          ]
        }
      ],
      "source": [
        "#labels_train, labels_test, vectors_train, vectors_test = train_test_split(labels, vectors, test_size=0.05, random_state=42)\n",
        "print(len(index_unique_words))"
      ]
    },
    {
      "cell_type": "code",
      "execution_count": 50,
      "id": "11agGu-ry-DT",
      "metadata": {
        "colab": {
          "base_uri": "https://localhost:8080/"
        },
        "id": "11agGu-ry-DT",
        "outputId": "a155ce30-272a-4ca6-91a7-966892cbd36c"
      },
      "outputs": [
        {
          "name": "stdout",
          "output_type": "stream",
          "text": [
            "1113\n",
            "4452\n",
            "1113\n",
            "4452\n"
          ]
        }
      ],
      "source": [
        "print(len(labels_test))\n",
        "print(len(labels_train))\n",
        "print(len(vectors_test))\n",
        "print(len(vectors_train))"
      ]
    },
    {
      "cell_type": "markdown",
      "id": "9b205075",
      "metadata": {
        "id": "9b205075"
      },
      "source": [
        "Functions for Different distances: Cosine, Euclidean, Manhattan"
      ]
    },
    {
      "cell_type": "code",
      "execution_count": 51,
      "id": "bff45ebc",
      "metadata": {
        "id": "bff45ebc"
      },
      "outputs": [],
      "source": [
        "#Calculating cosine similarity\n",
        "def cosine_distance(vector_a,vector_b):\n",
        "  dot_product=np.dot(vector_a, vector_b)\n",
        "  mag_a=math.sqrt(np.dot(vector_a, vector_a.T))\n",
        "  mag_b=math.sqrt(np.dot(vector_b,vector_b.T))\n",
        "  val=0\n",
        "  if mag_a != 0 and mag_b != 0:\n",
        "    val=dot_product/float(mag_a*mag_b)\n",
        "  return (1.0-(val))\n",
        "def euclidean_distance(vector_a,vector_b):\n",
        "  return np.linalg.norm(vector_a - vector_b)\n",
        "def manhattan_distance(a, b):\n",
        "    return np.abs(a - b).sum()\n",
        "def hamming_distance(vector_a,vector_b):\n",
        "  return hamming(vector_a,vector_b)*len(vector_a)\n",
        "def calc_distance(vector_a,vector_b,metric):\n",
        "  if metric == \"euclidean\":\n",
        "    return euclidean_distance(vector_a,vector_b)\n",
        "  elif metric == \"manhattan\":\n",
        "    return manhattan_distance(vector_a,vector_b)\n",
        "  elif metric == \"hamming\":\n",
        "    return hamming_distance(vector_a,vector_b)\n",
        "  else:\n",
        "    return cosine_distance(vector_a,vector_b)"
      ]
    },
    {
      "cell_type": "markdown",
      "id": "3c9b85f3",
      "metadata": {
        "id": "3c9b85f3"
      },
      "source": [
        "Assigns class based on majority"
      ]
    },
    {
      "cell_type": "code",
      "execution_count": 52,
      "id": "rxJjWRhavZW4",
      "metadata": {
        "id": "rxJjWRhavZW4"
      },
      "outputs": [],
      "source": [
        "def get_class(selected_values):\n",
        "    s,h = 0,0\n",
        "    for value in selected_values:\n",
        "        if value == \"spam\":\n",
        "            s += 1\n",
        "        else:\n",
        "            h += 1\n",
        "    if s > h:\n",
        "        return \"spam\"\n",
        "    else:\n",
        "        return \"ham\""
      ]
    },
    {
      "cell_type": "markdown",
      "id": "2f222f64",
      "metadata": {
        "id": "2f222f64"
      },
      "source": [
        "- f1_score calculates the f1 score\n",
        "- score_display prints confusionmatrix,precision,recall,f1_score"
      ]
    },
    {
      "cell_type": "code",
      "execution_count": 53,
      "id": "26521377",
      "metadata": {
        "id": "26521377"
      },
      "outputs": [],
      "source": [
        "def score_display(y_true,y_pred,labels):\n",
        "    print('Confusion matrix: ')\n",
        "    print(confusion_matrix(y_true, y_pred,labels=labels))\n",
        "    tn, fp, fn, tp = confusion_matrix(y_true, y_pred,labels=labels).ravel()\n",
        "    precision=tp/(tp+fp)\n",
        "    print('Precision: ',end='')\n",
        "    print(precision,end='')\n",
        "    recall=tp/(tp+fn)\n",
        "    print('\\tRecall: ',end='')\n",
        "    print(recall,end='')\n",
        "    f1_score=2*(precision*recall)/(precision+recall)\n",
        "    print('\\tF1 Score: ',end='')\n",
        "    print(f1_score,end='')\n",
        "    print('\\tAccuracy: ',end='')\n",
        "    print(accuracy_score(y_true,y_pred))\n",
        "def f1_score(y_true,y_pred,labels):\n",
        "    tn, fp, fn, tp = confusion_matrix(y_true, y_pred,labels=labels).ravel()\n",
        "    precision=tp/(tp+fp)\n",
        "    recall=tp/(tp+fn)\n",
        "    f1_score=2*(precision*recall)/(precision+recall)\n",
        "    return f1_score"
      ]
    },
    {
      "cell_type": "markdown",
      "id": "ee6eb76b",
      "metadata": {
        "id": "ee6eb76b"
      },
      "source": [
        "### Train your KNN model (reuse previously iplemented model built from scratch) and test on your data"
      ]
    },
    {
      "cell_type": "markdown",
      "id": "9e779f1b",
      "metadata": {
        "id": "9e779f1b"
      },
      "source": [
        "Implementation of K-NN"
      ]
    },
    {
      "cell_type": "code",
      "execution_count": 54,
      "id": "3beNoZ0GFOSh",
      "metadata": {
        "id": "3beNoZ0GFOSh"
      },
      "outputs": [],
      "source": [
        "\n",
        "def k_nearest_neighbours(k,train_data,train_labels,test_data,metric=\"cosine\"):\n",
        "  test_labels=[]\n",
        "  for i in range(len(test_data)):\n",
        "    k_labels=[]\n",
        "    distances=[]\n",
        "    for j in range(len(train_data)):\n",
        "      distance=calc_distance(test_data[i],train_data[j],metric)\n",
        "      distances.append((distance,train_labels[j]))\n",
        "    top_k_labels=[]\n",
        "    distances.sort()\n",
        "    for j  in distances[:k]:\n",
        "      top_k_labels.append(j[1])\n",
        "    test_labels.append(get_class(top_k_labels))\n",
        "  test_labels=np.array(test_labels)\n",
        "  return test_labels\n",
        "#testing_labels=k_nearest_neighbours(5,vectors_train,labels_train,vectors_test)\n",
        "#f1_score(labels_test,testing_labels,['ham','spam'])"
      ]
    },
    {
      "cell_type": "markdown",
      "id": "f0f0e621",
      "metadata": {
        "id": "f0f0e621"
      },
      "source": [
        "KNN for list of k values"
      ]
    },
    {
      "cell_type": "code",
      "execution_count": 55,
      "id": "b9e08883",
      "metadata": {
        "id": "b9e08883"
      },
      "outputs": [],
      "source": [
        "#using an array of k-values\n",
        "def k_nearest_neighbours_batch(k_values,train_data,train_labels,test_data,true_label,metric=\"cosine\",display=False):\n",
        "    xtrue_label=np.array(true_label)\n",
        "    all_distances=[]\n",
        "    for i in range(len(test_data)):\n",
        "        distances=[]\n",
        "        for j in range(len(train_data)):\n",
        "            distance=calc_distance(test_data[i],train_data[j],metric)\n",
        "            distances.append((distance,train_labels[j]))\n",
        "        distances.sort()\n",
        "        all_distances.append(distances)\n",
        "    f1_scores=[]\n",
        "    for k in k_values:\n",
        "        test_labels=[]\n",
        "        for i in range(len(test_data)):\n",
        "            top_k_labels=[]\n",
        "            for pair  in all_distances[i][:k]:\n",
        "                top_k_labels.append(pair[1])\n",
        "            test_labels.append(get_class(top_k_labels))\n",
        "        test_labels=np.array(test_labels)\n",
        "        score=f1_score(xtrue_label,test_labels,['ham','spam'])\n",
        "        if display:\n",
        "            print(f\"k = {k}\")\n",
        "            score_display(xtrue_label,test_labels,['ham','spam'])\n",
        "        f1_scores.append(score)\n",
        "    return f1_scores"
      ]
    },
    {
      "cell_type": "markdown",
      "id": "22baf6b2",
      "metadata": {
        "id": "22baf6b2"
      },
      "source": [
        "***1. Experiment with different distance measures [Euclidean distance, Manhattan distance, Hamming Distance] and compare with the Cosine Similarity distance results.***"
      ]
    },
    {
      "cell_type": "code",
      "execution_count": 56,
      "id": "5d7ae1e6",
      "metadata": {
        "colab": {
          "base_uri": "https://localhost:8080/"
        },
        "id": "5d7ae1e6",
        "outputId": "9cf8dcdd-9684-43d6-a629-3da62867c2bb"
      },
      "outputs": [
        {
          "name": "stdout",
          "output_type": "stream",
          "text": [
            "Confusion matrix: \n",
            "[[949   2]\n",
            " [ 42 120]]\n",
            "Precision: 0.9836065573770492\tRecall: 0.7407407407407407\tF1 Score: 0.8450704225352113\tAccuracy: 0.9604672057502246\n"
          ]
        }
      ],
      "source": [
        "cosine_labels=k_nearest_neighbours(5,vectors_train,labels_train,vectors_test)\n",
        "score_display(labels_test,cosine_labels,['ham','spam'])"
      ]
    },
    {
      "cell_type": "code",
      "execution_count": 57,
      "id": "660711bd",
      "metadata": {
        "colab": {
          "base_uri": "https://localhost:8080/"
        },
        "id": "660711bd",
        "outputId": "d6c17886-64a6-411b-ca27-bd32966877b8"
      },
      "outputs": [
        {
          "name": "stdout",
          "output_type": "stream",
          "text": [
            "Confusion matrix: \n",
            "[[949   2]\n",
            " [ 42 120]]\n",
            "Precision: 0.9836065573770492\tRecall: 0.7407407407407407\tF1 Score: 0.8450704225352113\tAccuracy: 0.9604672057502246\n"
          ]
        }
      ],
      "source": [
        "euclidean_labels=k_nearest_neighbours(5,vectors_train,labels_train,vectors_test)\n",
        "score_display(labels_test,euclidean_labels,['ham','spam'])"
      ]
    },
    {
      "cell_type": "code",
      "execution_count": 58,
      "id": "9f276ba3",
      "metadata": {
        "colab": {
          "base_uri": "https://localhost:8080/"
        },
        "id": "9f276ba3",
        "outputId": "b1c66715-dbb8-4081-ffde-276460fdce70"
      },
      "outputs": [
        {
          "name": "stdout",
          "output_type": "stream",
          "text": [
            "Confusion matrix: \n",
            "[[949   2]\n",
            " [ 42 120]]\n",
            "Precision: 0.9836065573770492\tRecall: 0.7407407407407407\tF1 Score: 0.8450704225352113\tAccuracy: 0.9604672057502246\n"
          ]
        }
      ],
      "source": [
        "manhattan_labels=k_nearest_neighbours(5,vectors_train,labels_train,vectors_test)\n",
        "score_display(labels_test,manhattan_labels,['ham','spam'])"
      ]
    },
    {
      "cell_type": "code",
      "execution_count": 59,
      "id": "a274a682",
      "metadata": {
        "id": "a274a682"
      },
      "outputs": [],
      "source": [
        "k_values=[1,3,5,7,11,17,23,28]"
      ]
    },
    {
      "cell_type": "code",
      "execution_count": 60,
      "id": "dc86afcf",
      "metadata": {
        "id": "dc86afcf"
      },
      "outputs": [],
      "source": [
        "f1_scores_cosine=k_nearest_neighbours_batch(k_values,vectors_train,labels_train,vectors_test,labels_test,metric=\"cosine\")\n",
        "f1_scores_euclidean=k_nearest_neighbours_batch(k_values,vectors_train,labels_train,vectors_test,labels_test,metric=\"euclidean\")\n",
        "f1_scores_manhattan=k_nearest_neighbours_batch(k_values,vectors_train,labels_train,vectors_test,labels_test,metric=\"manhattan\")"
      ]
    },
    {
      "cell_type": "code",
      "execution_count": 61,
      "id": "9d72a358",
      "metadata": {
        "colab": {
          "base_uri": "https://localhost:8080/",
          "height": 295
        },
        "id": "9d72a358",
        "outputId": "31ddf0a8-9a4d-46ad-d8a2-9d4c6ebaaf1d"
      },
      "outputs": [
        {
          "data": {
            "image/png": "[encoded data removed]",
            "text/plain": [
              "<Figure size 432x288 with 1 Axes>"
            ]
          },
          "metadata": {
            "needs_background": "light"
          },
          "output_type": "display_data"
        }
      ],
      "source": [
        "plt.plot(k_values,f1_scores_cosine,label='Cosine')\n",
        "plt.plot(k_values,f1_scores_euclidean,label='Euclidean')\n",
        "plt.plot(k_values,f1_scores_manhattan,label='Manhattan')\n",
        "plt.xlabel(\"k\")\n",
        "plt.ylabel(\"F1 score\")\n",
        "plt.legend()\n",
        "plt.title(\"KNN distance comparison\")\n",
        "plt.show()"
      ]
    },
    {
      "cell_type": "markdown",
      "id": "bcf6f3b1",
      "metadata": {
        "id": "bcf6f3b1"
      },
      "source": [
        "***2. Explain which distance measure works best and why? Explore the distance measures and weigh their pro and cons in different application settings.***"
      ]
    },
    {
      "cell_type": "markdown",
      "id": "d5db7d0c",
      "metadata": {
        "id": "d5db7d0c"
      },
      "source": [
        "Observing the above graph we clearly understand that Cosine distance metric works best as it has better f1 score than the other metrics. This is because in Cosine similarity we look for the angle between two vectors whereas in Eucledian and Manhattan we look for the distance between them using the Minkowski formula.\n",
        "\n",
        "In our particluar use case the angle measurements provide far more accuracy for similarity between words due to the fact that it measures number counts between terms that are semantically similar, on the other hand euclidean and manhattan suffers from high dimensionality of vectors.\n",
        "\n",
        "1. **Cosine Similarity/Distance**: It is the cosine of the angle between the two distance vectors.\n",
        "  - Advantages:\n",
        "    * Since it deals with angles even if two similar vectors are far apart in eucledian distance, they could still have smaller angle between  them.\n",
        "    * Useful in high dimensional data where the magnitude of the vectors of the vectors are not much important.\n",
        "  - Disadvantages:\n",
        "    * Magnitude of vectors are not taken into account only their direction. So for lets say in reccomender systems it does not take into account the difference in rating scale between two users.\n",
        "  - Applications:\n",
        "    * Document Similarity\n",
        "    * Pose Matching\n",
        "2. **Eucledian distance**:It is the distance of the line segment joining the two points using the Pythagoras Theorem formula.\n",
        "  - Advantages:\n",
        "    * Since it deals with angles even if two similar vectors are far apart in eucledian distance, they could still have smaller angle between  them.\n",
        "    * Useful in high dimensional data where the magnitude of the vectors of the vectors are not much important.\n",
        "  - Disadvantages:\n",
        "    * Not scale-invariant,might be skewed depending on the units of features and hence needs to be normalized before using. \n",
        "    * Suffers from high dimensionality\n",
        "  - Applications:\n",
        "    * Useful in low dimensionality methods like KNN and HDBSCAN\n",
        "    * Gene Analysis\n",
        "3. **Manhattan distance**: Distance betweeen two vectors if they could only move at right angles.\n",
        "  - Advantages:\n",
        "    * Unlike Euclidean works for high dimensional data.\n",
        "  - Disadvantages:\n",
        "    * Although it does not suffer from curse of dimensionality like euclidean, it is somewhat less intuitive than euclidean distance.\n",
        "  - Applications:\n",
        "    * Useful for datasets that have discrete or binary data where eucledian will try to create a straight line which might not actually be possible.\n",
        "    * Gene Analysis"
      ]
    },
    {
      "cell_type": "markdown",
      "id": "45a99c76",
      "metadata": {
        "id": "45a99c76"
      },
      "source": [
        "***3. For evaluating model, show confusion matrix, accuracy, recall, precision and F1-score. Answer why accuracy alone is not sufficient to evaluate the model. Why we need precision/recall/f1-score. ?***"
      ]
    },
    {
      "cell_type": "markdown",
      "id": "67cfe50b",
      "metadata": {
        "id": "67cfe50b"
      },
      "source": [
        "Cosine Metric"
      ]
    },
    {
      "cell_type": "code",
      "execution_count": 62,
      "id": "f9e4b72b",
      "metadata": {
        "colab": {
          "base_uri": "https://localhost:8080/"
        },
        "id": "f9e4b72b",
        "outputId": "0bf5bb99-9636-469d-ed04-daaa6a6c31f1"
      },
      "outputs": [
        {
          "name": "stdout",
          "output_type": "stream",
          "text": [
            "k = 1\n",
            "Confusion matrix: \n",
            "[[948   3]\n",
            " [ 17 145]]\n",
            "Precision: 0.9797297297297297\tRecall: 0.8950617283950617\tF1 Score: 0.9354838709677419\tAccuracy: 0.9820305480682839\n",
            "k = 3\n",
            "Confusion matrix: \n",
            "[[949   2]\n",
            " [ 33 129]]\n",
            "Precision: 0.9847328244274809\tRecall: 0.7962962962962963\tF1 Score: 0.8805460750853241\tAccuracy: 0.9685534591194969\n",
            "k = 5\n",
            "Confusion matrix: \n",
            "[[949   2]\n",
            " [ 42 120]]\n",
            "Precision: 0.9836065573770492\tRecall: 0.7407407407407407\tF1 Score: 0.8450704225352113\tAccuracy: 0.9604672057502246\n",
            "k = 7\n",
            "Confusion matrix: \n",
            "[[948   3]\n",
            " [ 41 121]]\n",
            "Precision: 0.9758064516129032\tRecall: 0.7469135802469136\tF1 Score: 0.8461538461538461\tAccuracy: 0.9604672057502246\n",
            "k = 11\n",
            "Confusion matrix: \n",
            "[[949   2]\n",
            " [ 44 118]]\n",
            "Precision: 0.9833333333333333\tRecall: 0.7283950617283951\tF1 Score: 0.8368794326241135\tAccuracy: 0.958670260557053\n",
            "k = 17\n",
            "Confusion matrix: \n",
            "[[948   3]\n",
            " [ 44 118]]\n",
            "Precision: 0.9752066115702479\tRecall: 0.7283950617283951\tF1 Score: 0.8339222614840989\tAccuracy: 0.9577717879604672\n",
            "k = 23\n",
            "Confusion matrix: \n",
            "[[950   1]\n",
            " [ 51 111]]\n",
            "Precision: 0.9910714285714286\tRecall: 0.6851851851851852\tF1 Score: 0.8102189781021897\tAccuracy: 0.9532794249775381\n",
            "k = 28\n",
            "Confusion matrix: \n",
            "[[950   1]\n",
            " [ 58 104]]\n",
            "Precision: 0.9904761904761905\tRecall: 0.6419753086419753\tF1 Score: 0.7790262172284643\tAccuracy: 0.9469901168014375\n"
          ]
        },
        {
          "data": {
            "text/plain": [
              "[0.9354838709677419,\n",
              " 0.8805460750853241,\n",
              " 0.8450704225352113,\n",
              " 0.8461538461538461,\n",
              " 0.8368794326241135,\n",
              " 0.8339222614840989,\n",
              " 0.8102189781021897,\n",
              " 0.7790262172284643]"
            ]
          },
          "execution_count": 62,
          "metadata": {},
          "output_type": "execute_result"
        }
      ],
      "source": [
        "k_nearest_neighbours_batch(k_values,vectors_train,labels_train,vectors_test,labels_test,metric=\"cosine\",display=True)"
      ]
    },
    {
      "cell_type": "markdown",
      "id": "dd383ccd",
      "metadata": {
        "id": "dd383ccd"
      },
      "source": [
        "Euclidean Metric"
      ]
    },
    {
      "cell_type": "code",
      "execution_count": 63,
      "id": "3d769eb6",
      "metadata": {
        "colab": {
          "base_uri": "https://localhost:8080/"
        },
        "id": "3d769eb6",
        "outputId": "dc6c2337-dcc1-4fc4-92cc-c7635f0aebe5"
      },
      "outputs": [
        {
          "name": "stdout",
          "output_type": "stream",
          "text": [
            "k = 1\n",
            "Confusion matrix: \n",
            "[[933  18]\n",
            " [ 36 126]]\n",
            "Precision: 0.875\tRecall: 0.7777777777777778\tF1 Score: 0.823529411764706\tAccuracy: 0.9514824797843666\n",
            "k = 3\n",
            "Confusion matrix: \n",
            "[[938  13]\n",
            " [ 67  95]]\n",
            "Precision: 0.8796296296296297\tRecall: 0.5864197530864198\tF1 Score: 0.7037037037037037\tAccuracy: 0.9281221922731356\n",
            "k = 5\n",
            "Confusion matrix: \n",
            "[[940  11]\n",
            " [ 75  87]]\n",
            "Precision: 0.8877551020408163\tRecall: 0.5370370370370371\tF1 Score: 0.6692307692307694\tAccuracy: 0.9227313566936208\n",
            "k = 7\n",
            "Confusion matrix: \n",
            "[[943   8]\n",
            " [ 86  76]]\n",
            "Precision: 0.9047619047619048\tRecall: 0.4691358024691358\tF1 Score: 0.6178861788617886\tAccuracy: 0.9155435759209344\n",
            "k = 11\n",
            "Confusion matrix: \n",
            "[[943   8]\n",
            " [ 97  65]]\n",
            "Precision: 0.8904109589041096\tRecall: 0.4012345679012346\tF1 Score: 0.5531914893617021\tAccuracy: 0.9056603773584906\n",
            "k = 17\n",
            "Confusion matrix: \n",
            "[[944   7]\n",
            " [111  51]]\n",
            "Precision: 0.8793103448275862\tRecall: 0.3148148148148148\tF1 Score: 0.4636363636363637\tAccuracy: 0.8939802336028752\n",
            "k = 23\n",
            "Confusion matrix: \n",
            "[[946   5]\n",
            " [124  38]]\n",
            "Precision: 0.8837209302325582\tRecall: 0.2345679012345679\tF1 Score: 0.37073170731707317\tAccuracy: 0.8840970350404312\n",
            "k = 28\n",
            "Confusion matrix: \n",
            "[[945   6]\n",
            " [138  24]]\n",
            "Precision: 0.8\tRecall: 0.14814814814814814\tF1 Score: 0.25\tAccuracy: 0.8706199460916442\n"
          ]
        },
        {
          "data": {
            "text/plain": [
              "[0.823529411764706,\n",
              " 0.7037037037037037,\n",
              " 0.6692307692307694,\n",
              " 0.6178861788617886,\n",
              " 0.5531914893617021,\n",
              " 0.4636363636363637,\n",
              " 0.37073170731707317,\n",
              " 0.25]"
            ]
          },
          "execution_count": 63,
          "metadata": {},
          "output_type": "execute_result"
        }
      ],
      "source": [
        "k_nearest_neighbours_batch(k_values,vectors_train,labels_train,vectors_test,labels_test,metric=\"euclidean\",display=True)"
      ]
    },
    {
      "cell_type": "markdown",
      "id": "2c2fb7b0",
      "metadata": {
        "id": "2c2fb7b0"
      },
      "source": [
        "Manhattan Metric"
      ]
    },
    {
      "cell_type": "code",
      "execution_count": 64,
      "id": "04c5d648",
      "metadata": {
        "colab": {
          "base_uri": "https://localhost:8080/"
        },
        "id": "04c5d648",
        "outputId": "3bb65233-7123-4ef2-ed98-9c2830a7bd1a"
      },
      "outputs": [
        {
          "name": "stdout",
          "output_type": "stream",
          "text": [
            "k = 1\n",
            "Confusion matrix: \n",
            "[[933  18]\n",
            " [ 36 126]]\n",
            "Precision: 0.875\tRecall: 0.7777777777777778\tF1 Score: 0.823529411764706\tAccuracy: 0.9514824797843666\n",
            "k = 3\n",
            "Confusion matrix: \n",
            "[[938  13]\n",
            " [ 67  95]]\n",
            "Precision: 0.8796296296296297\tRecall: 0.5864197530864198\tF1 Score: 0.7037037037037037\tAccuracy: 0.9281221922731356\n",
            "k = 5\n",
            "Confusion matrix: \n",
            "[[940  11]\n",
            " [ 75  87]]\n",
            "Precision: 0.8877551020408163\tRecall: 0.5370370370370371\tF1 Score: 0.6692307692307694\tAccuracy: 0.9227313566936208\n",
            "k = 7\n",
            "Confusion matrix: \n",
            "[[943   8]\n",
            " [ 86  76]]\n",
            "Precision: 0.9047619047619048\tRecall: 0.4691358024691358\tF1 Score: 0.6178861788617886\tAccuracy: 0.9155435759209344\n",
            "k = 11\n",
            "Confusion matrix: \n",
            "[[943   8]\n",
            " [ 97  65]]\n",
            "Precision: 0.8904109589041096\tRecall: 0.4012345679012346\tF1 Score: 0.5531914893617021\tAccuracy: 0.9056603773584906\n",
            "k = 17\n",
            "Confusion matrix: \n",
            "[[944   7]\n",
            " [111  51]]\n",
            "Precision: 0.8793103448275862\tRecall: 0.3148148148148148\tF1 Score: 0.4636363636363637\tAccuracy: 0.8939802336028752\n",
            "k = 23\n",
            "Confusion matrix: \n",
            "[[946   5]\n",
            " [124  38]]\n",
            "Precision: 0.8837209302325582\tRecall: 0.2345679012345679\tF1 Score: 0.37073170731707317\tAccuracy: 0.8840970350404312\n",
            "k = 28\n",
            "Confusion matrix: \n",
            "[[945   6]\n",
            " [138  24]]\n",
            "Precision: 0.8\tRecall: 0.14814814814814814\tF1 Score: 0.25\tAccuracy: 0.8706199460916442\n"
          ]
        },
        {
          "data": {
            "text/plain": [
              "[0.823529411764706,\n",
              " 0.7037037037037037,\n",
              " 0.6692307692307694,\n",
              " 0.6178861788617886,\n",
              " 0.5531914893617021,\n",
              " 0.4636363636363637,\n",
              " 0.37073170731707317,\n",
              " 0.25]"
            ]
          },
          "execution_count": 64,
          "metadata": {},
          "output_type": "execute_result"
        }
      ],
      "source": [
        "k_nearest_neighbours_batch(k_values,vectors_train,labels_train,vectors_test,labels_test,metric=\"euclidean\",display=True)"
      ]
    },
    {
      "cell_type": "markdown",
      "id": "17295626",
      "metadata": {
        "id": "17295626"
      },
      "source": [
        "**Why accuracy alone is not sufficient to evaluate the model. Why we need precision/recall/f1-score. ?**\n"
      ]
    },
    {
      "cell_type": "markdown",
      "id": "d3f81917",
      "metadata": {
        "id": "d3f81917"
      },
      "source": [
        "Accuracy alone cannot be considered a good evaluation metric. This is due to the fact that we have data imbalances like per say in our dataset we have more ham data than spam. So this does not give a clear idea about our model, on the surface we might think that its working pretty well but we dont consider the false positives and false negatives then from a business point of view our model as failed. So in such cases we need some different metrics of evaluation.\n",
        "- Precision: It is defined as the ratio of correct positive predictions to the total predicted positives. It helps us to identity how accurate our model is in identifying true positive cases over all positive cases and when we dont want False Positives.\n",
        "- Recall:  Recall is defined as the number of true positives divided by the total number of elements that actually belong to the positive class. It is used where false negatives are important.\n",
        "- f1-score: It is the harmonic mean of Precision and Recall.\n",
        "There is a tradeoff between precision and recall. As precision increases, recall decreases and vice versa. So in scenarios where both precision and recall are important, we want to have a balance of Precision and Recall, in such cases we should use f1-score."
      ]
    },
    {
      "cell_type": "markdown",
      "id": "d4dde8d3",
      "metadata": {
        "id": "d4dde8d3"
      },
      "source": [
        "***4. Choose different K values (k=1,3,5,7,11,17,23,28) and experiment. Plot a graph showing F1 - score vs k.***"
      ]
    },
    {
      "cell_type": "code",
      "execution_count": 65,
      "id": "45e0fd2f",
      "metadata": {
        "colab": {
          "base_uri": "https://localhost:8080/",
          "height": 295
        },
        "id": "45e0fd2f",
        "outputId": "9d95cab8-ee3c-435f-f545-69b20f80992f"
      },
      "outputs": [
        {
          "data": {
            "image/png": "[encoded data removed]",
            "text/plain": [
              "<Figure size 432x288 with 1 Axes>"
            ]
          },
          "metadata": {
            "needs_background": "light"
          },
          "output_type": "display_data"
        }
      ],
      "source": [
        "f1_scores_cosine=k_nearest_neighbours_batch(k_values,vectors_train,labels_train,vectors_test,labels_test,metric=\"cosine\")\n",
        "plt.plot(k_values,f1_scores_cosine)\n",
        "plt.xlabel(\"k\")\n",
        "plt.ylabel(\"F1 score\")\n",
        "plt.title(\"KNN Cosine distance\")\n",
        "plt.show()"
      ]
    },
    {
      "cell_type": "code",
      "execution_count": 66,
      "id": "ea06275a",
      "metadata": {
        "colab": {
          "base_uri": "https://localhost:8080/",
          "height": 295
        },
        "id": "ea06275a",
        "outputId": "4a986e62-450f-4b11-9ef2-fe7becb7d818"
      },
      "outputs": [
        {
          "data": {
            "image/png": "[encoded data removed]",
            "text/plain": [
              "<Figure size 432x288 with 1 Axes>"
            ]
          },
          "metadata": {
            "needs_background": "light"
          },
          "output_type": "display_data"
        }
      ],
      "source": [
        "f1_scores_euclidean=k_nearest_neighbours_batch(k_values,vectors_train,labels_train,vectors_test,labels_test,metric=\"euclidean\")\n",
        "plt.plot(k_values,f1_scores_euclidean)\n",
        "plt.xlabel(\"k\")\n",
        "plt.ylabel(\"F1 score\")\n",
        "plt.title(\"KNN Euclidean distance\")\n",
        "plt.show()"
      ]
    },
    {
      "cell_type": "code",
      "execution_count": 67,
      "id": "eea67c5a",
      "metadata": {
        "colab": {
          "base_uri": "https://localhost:8080/",
          "height": 295
        },
        "id": "eea67c5a",
        "outputId": "4b1d42f3-1764-46ec-a1f9-9ce604df33e3"
      },
      "outputs": [
        {
          "data": {
            "image/png": "[encoded data removed]",
            "text/plain": [
              "<Figure size 432x288 with 1 Axes>"
            ]
          },
          "metadata": {
            "needs_background": "light"
          },
          "output_type": "display_data"
        }
      ],
      "source": [
        "f1_scores_manhattan=k_nearest_neighbours_batch(k_values,vectors_train,labels_train,vectors_test,labels_test,metric=\"manhattan\")\n",
        "plt.plot(k_values,f1_scores_manhattan)\n",
        "plt.xlabel(\"k\")\n",
        "plt.ylabel(\"F1 score\")\n",
        "plt.title(\"KNN Manhattan distance\")\n",
        "plt.show()"
      ]
    },
    {
      "cell_type": "markdown",
      "id": "15000352",
      "metadata": {
        "id": "15000352"
      },
      "source": [
        "### Train and test Sklearn's KNN classifier model on your data (use metric which gave best results on your experimentation with built-from-scratch model.)"
      ]
    },
    {
      "cell_type": "markdown",
      "id": "fff3949f",
      "metadata": {
        "id": "fff3949f"
      },
      "source": [
        "Using ideal TF-IDF Vectorizer to compare results between own TF-IDF and sklearn's TF-IDF"
      ]
    },
    {
      "cell_type": "code",
      "execution_count": 68,
      "id": "233d56a6",
      "metadata": {
        "id": "233d56a6"
      },
      "outputs": [],
      "source": [
        "tfidf = TfidfVectorizer(tokenizer=lambda x:x, stop_words=None, lowercase=False)    \n",
        "tf_idf_text = tfidf.fit_transform(data['text'])\n",
        "x_train, x_test, y_train, y_test = train_test_split(tf_idf_text, data['type'], test_size=0.2, random_state=42)"
      ]
    },
    {
      "cell_type": "code",
      "execution_count": 69,
      "id": "5dd6a8eb",
      "metadata": {
        "colab": {
          "base_uri": "https://localhost:8080/",
          "height": 1000
        },
        "id": "5dd6a8eb",
        "outputId": "b42493eb-de9e-4e9b-d970-eb009670c28d"
      },
      "outputs": [
        {
          "name": "stdout",
          "output_type": "stream",
          "text": [
            "k=1\n",
            "Confusion matrix: \n",
            "[[947   4]\n",
            " [ 17 145]]\n",
            "Precision: 0.9731543624161074\tRecall: 0.8950617283950617\tF1 Score: 0.932475884244373\tAccuracy: 0.9811320754716981\n",
            "k=3\n",
            "Confusion matrix: \n",
            "[[949   2]\n",
            " [ 34 128]]\n",
            "Precision: 0.9846153846153847\tRecall: 0.7901234567901234\tF1 Score: 0.8767123287671232\tAccuracy: 0.967654986522911\n",
            "k=5\n",
            "Confusion matrix: \n",
            "[[949   2]\n",
            " [ 39 123]]\n",
            "Precision: 0.984\tRecall: 0.7592592592592593\tF1 Score: 0.8571428571428572\tAccuracy: 0.963162623539982\n",
            "k=7\n",
            "Confusion matrix: \n",
            "[[949   2]\n",
            " [ 40 122]]\n",
            "Precision: 0.9838709677419355\tRecall: 0.7530864197530864\tF1 Score: 0.8531468531468532\tAccuracy: 0.9622641509433962\n",
            "k=11\n",
            "Confusion matrix: \n",
            "[[950   1]\n",
            " [ 44 118]]\n",
            "Precision: 0.9915966386554622\tRecall: 0.7283950617283951\tF1 Score: 0.8398576512455516\tAccuracy: 0.9595687331536388\n",
            "k=17\n",
            "Confusion matrix: \n",
            "[[948   3]\n",
            " [ 48 114]]\n",
            "Precision: 0.9743589743589743\tRecall: 0.7037037037037037\tF1 Score: 0.8172043010752689\tAccuracy: 0.954177897574124\n",
            "k=23\n",
            "Confusion matrix: \n",
            "[[950   1]\n",
            " [ 50 112]]\n",
            "Precision: 0.9911504424778761\tRecall: 0.691358024691358\tF1 Score: 0.8145454545454545\tAccuracy: 0.954177897574124\n",
            "k=28\n",
            "Confusion matrix: \n",
            "[[950   1]\n",
            " [ 55 107]]\n",
            "Precision: 0.9907407407407407\tRecall: 0.6604938271604939\tF1 Score: 0.7925925925925926\tAccuracy: 0.949685534591195\n"
          ]
        },
        {
          "data": {
            "image/png": "[encoded data removed]",
            "text/plain": [
              "<Figure size 432x288 with 1 Axes>"
            ]
          },
          "metadata": {
            "needs_background": "light"
          },
          "output_type": "display_data"
        }
      ],
      "source": [
        "k_values=[1,3,5,7,11,17,23,28]\n",
        "accuracy_list_pred_sk=[]\n",
        "predicted_labels_list_sk=[]\n",
        "for k in k_values:\n",
        "  neigh = KNeighborsClassifier(n_neighbors=k,metric='cosine')\n",
        "  neigh.fit(x_train,y_train)\n",
        "  predicted_labels_sk=neigh.predict(x_test)\n",
        "  score=f1_score(y_test,predicted_labels_sk,labels=['ham','spam'])\n",
        "  print(f\"k={k}\")\n",
        "  score_display(y_test,predicted_labels_sk,labels=['ham','spam'])\n",
        "  accuracy_list_pred_sk.append(score)\n",
        "  predicted_labels_list_sk.append(predicted_labels_sk)\n",
        "plt.plot(k_values,accuracy_list_pred_sk)\n",
        "plt.xlabel(\"k\")\n",
        "plt.ylabel(\"F1 score\")\n",
        "plt.title(\"SK Learn cosine\")\n",
        "plt.show()"
      ]
    },
    {
      "cell_type": "markdown",
      "id": "7d22aa47",
      "metadata": {
        "id": "7d22aa47"
      },
      "source": [
        "***Compare both the models result.***"
      ]
    },
    {
      "cell_type": "code",
      "execution_count": 70,
      "id": "6a7a5274",
      "metadata": {
        "colab": {
          "base_uri": "https://localhost:8080/",
          "height": 295
        },
        "id": "6a7a5274",
        "outputId": "9c3be7f7-5862-4c51-d9d4-44fa7eda19c1"
      },
      "outputs": [
        {
          "data": {
            "image/png": "[encoded data removed]",
            "text/plain": [
              "<Figure size 432x288 with 1 Axes>"
            ]
          },
          "metadata": {
            "needs_background": "light"
          },
          "output_type": "display_data"
        }
      ],
      "source": [
        "plt.plot(k_values,accuracy_list_pred_sk,label=\" SK LEARN\")\n",
        "plt.plot(k_values,f1_scores_cosine,label=\"OWN\")\n",
        "plt.legend()\n",
        "plt.xlabel(\"k\")\n",
        "plt.ylabel(\"F1 score\")\n",
        "plt.title(\"Comparison SKLEARN VS OWN\")\n",
        "plt.show()"
      ]
    },
    {
      "cell_type": "markdown",
      "id": "491c20ee",
      "metadata": {
        "id": "491c20ee"
      },
      "source": [
        "If we observe the above graph, it is evident that our KNN implementation works very similar to that of SK Learn's KNN.\n",
        "This is firstly due to the fact that our Initial pre-processing steps are same for both.\n",
        "\n",
        "We can also conclude that our own TF-IDF vectorizer works very close to the SK Learn's Vectorizer because of the aboce result."
      ]
    },
    {
      "cell_type": "markdown",
      "id": "64987575",
      "metadata": {
        "id": "64987575"
      },
      "source": [
        "***What is the time complexity of training using KNN classifier?***"
      ]
    },
    {
      "cell_type": "markdown",
      "id": "2770c106",
      "metadata": {
        "id": "2770c106"
      },
      "source": [
        "#### SK Learn :\n",
        "Time complexity: O(1)\n",
        "#### Our Implementation:\n",
        "Time Complexity: O(1)\n",
        "\n",
        "This is due to the fact that there is training in KNN\n"
      ]
    },
    {
      "cell_type": "markdown",
      "id": "fad1f345",
      "metadata": {
        "id": "fad1f345"
      },
      "source": [
        "***What is the time complexity while testing? Is KNN a linear classifier or can it learn any boundary?***"
      ]
    },
    {
      "cell_type": "markdown",
      "id": "931c2471",
      "metadata": {
        "id": "931c2471"
      },
      "source": [
        "#### SK Learn :\n",
        "Time complexity: O(n*d)\n",
        "#### Our Implementation:\n",
        "Time Complexity:  O(n\\*d + nlogn)\n",
        "\n",
        "where n = Number of Training dataset and d = Number of unique words(dimensionality)\n",
        "\n",
        "A classifier is considered to be linear if its decision boundary on the feature space is a linear function: positive and negative examples are separated by an hyperplane. K-NN is considered to be a non-linear classifier.\n",
        "The decision boundaries of K-NN are locally linear segments, but in general have a complex shape that is not equivalent to a line in 2D or a hyperplane in higher dimensions.\n",
        "Since K-NN is a non linear classifier, it can learn any boundary.\n",
        "\n"
      ]
    }
  ],
  "metadata": {
    "colab": {
      "collapsed_sections": [],
      "name": "2021201086_Assignment1_Question3.ipynb",
      "provenance": []
    },
    "kernelspec": {
      "display_name": "Python 3",
      "language": "python",
      "name": "python3"
    },
    "language_info": {
      "codemirror_mode": {
        "name": "ipython",
        "version": 3
      },
      "file_extension": ".py",
      "mimetype": "text/x-python",
      "name": "python",
      "nbconvert_exporter": "python",
      "pygments_lexer": "ipython3",
      "version": "3.8.10"
    }
  },
  "nbformat": 4,
  "nbformat_minor": 5
}
