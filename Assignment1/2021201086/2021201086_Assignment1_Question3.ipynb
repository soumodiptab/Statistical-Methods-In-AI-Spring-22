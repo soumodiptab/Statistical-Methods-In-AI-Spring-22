{
  "cells": [
    {
      "cell_type": "markdown",
      "metadata": {
        "id": "02c54141"
      },
      "source": [
        "## Spam Email Classifier with KNN using TF-IDF scores"
      ],
      "id": "02c54141"
    },
    {
      "cell_type": "markdown",
      "metadata": {
        "id": "1c17102e"
      },
      "source": [
        "1.   Assignment must be implemented in Python 3 only.\n",
        "2.   You are allowed to use libraries for data preprocessing (numpy, pandas, nltk etc) and for evaluation metrics, data visualization (matplotlib etc.).\n",
        "3.   You will be evaluated not just on the overall performance of the model and also on the experimentation with hyper parameters, data prepossessing techniques etc.\n",
        "4.   The report file must be a well documented jupyter notebook, explaining the experiments you have performed, evaluation metrics and corresponding code. The code must run and be able to reproduce the accuracies, figures/graphs etc.\n",
        "5.   For all the questions, you must create a train-validation data split and test the hyperparameter tuning on the validation set. Your jupyter notebook must reflect the same.\n",
        "6.   Strict plagiarism checking will be done. An F will be awarded for plagiarism."
      ],
      "id": "1c17102e"
    },
    {
      "cell_type": "markdown",
      "metadata": {
        "id": "0d34a310"
      },
      "source": [
        "**Task: Given an email, classify it as spam or ham**\n",
        "\n",
        "Given input text file (\"emails.txt\") containing 5572 email messages, with each row having its corresponding label (spam/ham) attached to it.\n",
        "\n",
        "This task also requires basic pre-processing of text (like removing stopwords, stemming/lemmatizing, replacing email_address with 'email-tag', etc..).\n",
        "\n",
        "You are required to find the tf-idf scores for the given data and use them to perform KNN using Cosine Similarity."
      ],
      "id": "0d34a310"
    },
    {
      "cell_type": "markdown",
      "metadata": {
        "id": "b0c87696"
      },
      "source": [
        "### Import necessary libraries"
      ],
      "id": "b0c87696"
    },
    {
      "cell_type": "code",
      "execution_count": 38,
      "metadata": {
        "id": "3d5a1fe2"
      },
      "outputs": [],
      "source": [
        "import pandas as pd\n",
        "import numpy as np\n",
        "import matplotlib.pyplot as plt\n",
        "import string\n",
        "from nltk.corpus import stopwords\n",
        "from nltk.tokenize import word_tokenize\n",
        "from nltk.stem.wordnet import WordNetLemmatizer\n",
        "from sklearn.model_selection import train_test_split\n",
        "from sklearn.neighbors import KNeighborsClassifier\n",
        "from sklearn.metrics import accuracy_score\n",
        "from sklearn.metrics import confusion_matrix\n",
        "from scipy.spatial.distance import hamming\n",
        "#using only to check if our implementation of TF-IDF is working similar to it\n",
        "from sklearn.feature_extraction.text import CountVectorizer\n",
        "from sklearn.feature_extraction.text import TfidfTransformer\n",
        "from sklearn.feature_extraction.text import TfidfVectorizer\n",
        "import nltk\n",
        "import math"
      ],
      "id": "3d5a1fe2"
    },
    {
      "cell_type": "code",
      "execution_count": 39,
      "metadata": {
        "colab": {
          "base_uri": "https://localhost:8080/"
        },
        "id": "sQJ8c3MjtqUG",
        "outputId": "f586e505-c19f-4a6a-ab18-a56cc2910d15"
      },
      "outputs": [
        {
          "output_type": "stream",
          "name": "stdout",
          "text": [
            "[nltk_data] Downloading package punkt to /root/nltk_data...\n",
            "[nltk_data]   Package punkt is already up-to-date!\n",
            "[nltk_data] Downloading package stopwords to /root/nltk_data...\n",
            "[nltk_data]   Package stopwords is already up-to-date!\n",
            "[nltk_data] Downloading package wordnet to /root/nltk_data...\n",
            "[nltk_data]   Package wordnet is already up-to-date!\n"
          ]
        },
        {
          "output_type": "execute_result",
          "data": {
            "text/plain": [
              "True"
            ]
          },
          "metadata": {},
          "execution_count": 39
        }
      ],
      "source": [
        "#Downloading the nltk libraries\n",
        "nltk.download('punkt')\n",
        "nltk.download('stopwords')\n",
        "nltk.download('wordnet')"
      ],
      "id": "sQJ8c3MjtqUG"
    },
    {
      "cell_type": "markdown",
      "metadata": {
        "id": "yMyWwAWj_wKa"
      },
      "source": [
        "### Load Dataset"
      ],
      "id": "yMyWwAWj_wKa"
    },
    {
      "cell_type": "code",
      "execution_count": 71,
      "metadata": {
        "colab": {
          "base_uri": "https://localhost:8080/",
          "height": 423
        },
        "id": "f178f892",
        "outputId": "046decdd-01b2-4108-c50e-fa534935386c"
      },
      "outputs": [
        {
          "output_type": "execute_result",
          "data": {
            "text/html": [
              "\n",
              "  <div id=\"df-f6f52925-b7d8-437c-94e7-44a9501a4513\">\n",
              "    <div class=\"colab-df-container\">\n",
              "      <div>\n",
              "<style scoped>\n",
              "    .dataframe tbody tr th:only-of-type {\n",
              "        vertical-align: middle;\n",
              "    }\n",
              "\n",
              "    .dataframe tbody tr th {\n",
              "        vertical-align: top;\n",
              "    }\n",
              "\n",
              "    .dataframe thead th {\n",
              "        text-align: right;\n",
              "    }\n",
              "</style>\n",
              "<table border=\"1\" class=\"dataframe\">\n",
              "  <thead>\n",
              "    <tr style=\"text-align: right;\">\n",
              "      <th></th>\n",
              "      <th>type</th>\n",
              "      <th>text</th>\n",
              "    </tr>\n",
              "  </thead>\n",
              "  <tbody>\n",
              "    <tr>\n",
              "      <th>0</th>\n",
              "      <td>ham</td>\n",
              "      <td>Go until jurong point, crazy.. Available only ...</td>\n",
              "    </tr>\n",
              "    <tr>\n",
              "      <th>1</th>\n",
              "      <td>ham</td>\n",
              "      <td>Ok lar... Joking wif u oni...</td>\n",
              "    </tr>\n",
              "    <tr>\n",
              "      <th>2</th>\n",
              "      <td>spam</td>\n",
              "      <td>Free entry in 2 a wkly comp to win FA Cup fina...</td>\n",
              "    </tr>\n",
              "    <tr>\n",
              "      <th>3</th>\n",
              "      <td>ham</td>\n",
              "      <td>U dun say so early hor... U c already then say...</td>\n",
              "    </tr>\n",
              "    <tr>\n",
              "      <th>4</th>\n",
              "      <td>ham</td>\n",
              "      <td>Nah I don't think he goes to usf, he lives aro...</td>\n",
              "    </tr>\n",
              "    <tr>\n",
              "      <th>...</th>\n",
              "      <td>...</td>\n",
              "      <td>...</td>\n",
              "    </tr>\n",
              "    <tr>\n",
              "      <th>5567</th>\n",
              "      <td>spam</td>\n",
              "      <td>This is the 2nd time we have tried 2 contact u...</td>\n",
              "    </tr>\n",
              "    <tr>\n",
              "      <th>5568</th>\n",
              "      <td>ham</td>\n",
              "      <td>Will ü b going to esplanade fr home?</td>\n",
              "    </tr>\n",
              "    <tr>\n",
              "      <th>5569</th>\n",
              "      <td>ham</td>\n",
              "      <td>Pity, * was in mood for that. So...any other s...</td>\n",
              "    </tr>\n",
              "    <tr>\n",
              "      <th>5570</th>\n",
              "      <td>ham</td>\n",
              "      <td>The guy did some bitching but I acted like i'd...</td>\n",
              "    </tr>\n",
              "    <tr>\n",
              "      <th>5571</th>\n",
              "      <td>ham</td>\n",
              "      <td>Rofl. Its true to its name</td>\n",
              "    </tr>\n",
              "  </tbody>\n",
              "</table>\n",
              "<p>5572 rows × 2 columns</p>\n",
              "</div>\n",
              "      <button class=\"colab-df-convert\" onclick=\"convertToInteractive('df-f6f52925-b7d8-437c-94e7-44a9501a4513')\"\n",
              "              title=\"Convert this dataframe to an interactive table.\"\n",
              "              style=\"display:none;\">\n",
              "        \n",
              "  <svg xmlns=\"http://www.w3.org/2000/svg\" height=\"24px\"viewBox=\"0 0 24 24\"\n",
              "       width=\"24px\">\n",
              "    <path d=\"M0 0h24v24H0V0z\" fill=\"none\"/>\n",
              "    <path d=\"M18.56 5.44l.94 2.06.94-2.06 2.06-.94-2.06-.94-.94-2.06-.94 2.06-2.06.94zm-11 1L8.5 8.5l.94-2.06 2.06-.94-2.06-.94L8.5 2.5l-.94 2.06-2.06.94zm10 10l.94 2.06.94-2.06 2.06-.94-2.06-.94-.94-2.06-.94 2.06-2.06.94z\"/><path d=\"M17.41 7.96l-1.37-1.37c-.4-.4-.92-.59-1.43-.59-.52 0-1.04.2-1.43.59L10.3 9.45l-7.72 7.72c-.78.78-.78 2.05 0 2.83L4 21.41c.39.39.9.59 1.41.59.51 0 1.02-.2 1.41-.59l7.78-7.78 2.81-2.81c.8-.78.8-2.07 0-2.86zM5.41 20L4 18.59l7.72-7.72 1.47 1.35L5.41 20z\"/>\n",
              "  </svg>\n",
              "      </button>\n",
              "      \n",
              "  <style>\n",
              "    .colab-df-container {\n",
              "      display:flex;\n",
              "      flex-wrap:wrap;\n",
              "      gap: 12px;\n",
              "    }\n",
              "\n",
              "    .colab-df-convert {\n",
              "      background-color: #E8F0FE;\n",
              "      border: none;\n",
              "      border-radius: 50%;\n",
              "      cursor: pointer;\n",
              "      display: none;\n",
              "      fill: #1967D2;\n",
              "      height: 32px;\n",
              "      padding: 0 0 0 0;\n",
              "      width: 32px;\n",
              "    }\n",
              "\n",
              "    .colab-df-convert:hover {\n",
              "      background-color: #E2EBFA;\n",
              "      box-shadow: 0px 1px 2px rgba(60, 64, 67, 0.3), 0px 1px 3px 1px rgba(60, 64, 67, 0.15);\n",
              "      fill: #174EA6;\n",
              "    }\n",
              "\n",
              "    [theme=dark] .colab-df-convert {\n",
              "      background-color: #3B4455;\n",
              "      fill: #D2E3FC;\n",
              "    }\n",
              "\n",
              "    [theme=dark] .colab-df-convert:hover {\n",
              "      background-color: #434B5C;\n",
              "      box-shadow: 0px 1px 3px 1px rgba(0, 0, 0, 0.15);\n",
              "      filter: drop-shadow(0px 1px 2px rgba(0, 0, 0, 0.3));\n",
              "      fill: #FFFFFF;\n",
              "    }\n",
              "  </style>\n",
              "\n",
              "      <script>\n",
              "        const buttonEl =\n",
              "          document.querySelector('#df-f6f52925-b7d8-437c-94e7-44a9501a4513 button.colab-df-convert');\n",
              "        buttonEl.style.display =\n",
              "          google.colab.kernel.accessAllowed ? 'block' : 'none';\n",
              "\n",
              "        async function convertToInteractive(key) {\n",
              "          const element = document.querySelector('#df-f6f52925-b7d8-437c-94e7-44a9501a4513');\n",
              "          const dataTable =\n",
              "            await google.colab.kernel.invokeFunction('convertToInteractive',\n",
              "                                                     [key], {});\n",
              "          if (!dataTable) return;\n",
              "\n",
              "          const docLinkHtml = 'Like what you see? Visit the ' +\n",
              "            '<a target=\"_blank\" href=https://colab.research.google.com/notebooks/data_table.ipynb>data table notebook</a>'\n",
              "            + ' to learn more about interactive tables.';\n",
              "          element.innerHTML = '';\n",
              "          dataTable['output_type'] = 'display_data';\n",
              "          await google.colab.output.renderOutput(dataTable, element);\n",
              "          const docLink = document.createElement('div');\n",
              "          docLink.innerHTML = docLinkHtml;\n",
              "          element.appendChild(docLink);\n",
              "        }\n",
              "      </script>\n",
              "    </div>\n",
              "  </div>\n",
              "  "
            ],
            "text/plain": [
              "      type                                               text\n",
              "0      ham  Go until jurong point, crazy.. Available only ...\n",
              "1      ham                      Ok lar... Joking wif u oni...\n",
              "2     spam  Free entry in 2 a wkly comp to win FA Cup fina...\n",
              "3      ham  U dun say so early hor... U c already then say...\n",
              "4      ham  Nah I don't think he goes to usf, he lives aro...\n",
              "...    ...                                                ...\n",
              "5567  spam  This is the 2nd time we have tried 2 contact u...\n",
              "5568   ham               Will ü b going to esplanade fr home?\n",
              "5569   ham  Pity, * was in mood for that. So...any other s...\n",
              "5570   ham  The guy did some bitching but I acted like i'd...\n",
              "5571   ham                         Rofl. Its true to its name\n",
              "\n",
              "[5572 rows x 2 columns]"
            ]
          },
          "metadata": {},
          "execution_count": 71
        }
      ],
      "source": [
        "# from google.colab import drive\n",
        "# drive.mount('/content/drive')\n",
        "# %cd /content/drive/My Drive/smai/\n",
        "data=pd.read_csv('emails.txt',sep='\\t',header=None)\n",
        "data.columns=['type','text']\n",
        "data"
      ],
      "id": "f178f892"
    },
    {
      "cell_type": "markdown",
      "metadata": {
        "id": "cd1ef5ba"
      },
      "source": [
        "### Preprocess data:\n",
        "1. Removing Punctuation\n",
        "2. Tokenizing\n",
        "3. Converting to lower case\n",
        "4. Removing stop words\n",
        "5. Lemmatizing the tokens"
      ],
      "id": "cd1ef5ba"
    },
    {
      "cell_type": "code",
      "execution_count": 41,
      "metadata": {
        "id": "fd1733d7"
      },
      "outputs": [],
      "source": [
        "# punctuations\n",
        "punctuations=string.punctuation\n",
        "# stopwords\n",
        "stop_words=stopwords.words('english')\n",
        "def remove_punctuations(text):\n",
        "  for c in punctuations:\n",
        "    text=text.replace(c,\" \")\n",
        "  return text\n",
        "wn = WordNetLemmatizer()\n",
        "#removing stopwords\n",
        "data['text'] = data['text'].apply(remove_punctuations)\n",
        "#tokenizing the text\n",
        "data['text'] = data['text'].apply(word_tokenize)\n",
        "#removing the \n",
        "data['text'] = data['text'].apply(lambda x: ([word.lower() for word in x if word.lower() not in stop_words]))\n",
        "#Lemmatizing\n",
        "data['text'] = data['text'].apply(lambda x: [wn.lemmatize(word) for word in x])"
      ],
      "id": "fd1733d7"
    },
    {
      "cell_type": "code",
      "execution_count": 42,
      "metadata": {
        "colab": {
          "base_uri": "https://localhost:8080/",
          "height": 363
        },
        "id": "zjbnH-DisfLO",
        "outputId": "290a451f-15ea-4b09-bd15-5ee53c651d94"
      },
      "outputs": [
        {
          "output_type": "execute_result",
          "data": {
            "text/html": [
              "\n",
              "  <div id=\"df-49ee9c97-56ce-4b96-a38b-0134fd717066\">\n",
              "    <div class=\"colab-df-container\">\n",
              "      <div>\n",
              "<style scoped>\n",
              "    .dataframe tbody tr th:only-of-type {\n",
              "        vertical-align: middle;\n",
              "    }\n",
              "\n",
              "    .dataframe tbody tr th {\n",
              "        vertical-align: top;\n",
              "    }\n",
              "\n",
              "    .dataframe thead th {\n",
              "        text-align: right;\n",
              "    }\n",
              "</style>\n",
              "<table border=\"1\" class=\"dataframe\">\n",
              "  <thead>\n",
              "    <tr style=\"text-align: right;\">\n",
              "      <th></th>\n",
              "      <th>type</th>\n",
              "      <th>text</th>\n",
              "    </tr>\n",
              "  </thead>\n",
              "  <tbody>\n",
              "    <tr>\n",
              "      <th>2168</th>\n",
              "      <td>ham</td>\n",
              "      <td>[yes, good, crickiting, mind]</td>\n",
              "    </tr>\n",
              "    <tr>\n",
              "      <th>1702</th>\n",
              "      <td>ham</td>\n",
              "      <td>[come, room, come, house, co, house, still, me...</td>\n",
              "    </tr>\n",
              "    <tr>\n",
              "      <th>1010</th>\n",
              "      <td>ham</td>\n",
              "      <td>[dear, hero, leaving, qatar, tonite, apt, oppo...</td>\n",
              "    </tr>\n",
              "    <tr>\n",
              "      <th>1862</th>\n",
              "      <td>ham</td>\n",
              "      <td>[aiyah, wait, lor, u, entertain, hee]</td>\n",
              "    </tr>\n",
              "    <tr>\n",
              "      <th>605</th>\n",
              "      <td>ham</td>\n",
              "      <td>[meet, lunch, la]</td>\n",
              "    </tr>\n",
              "    <tr>\n",
              "      <th>1901</th>\n",
              "      <td>ham</td>\n",
              "      <td>[miss, vday, parachute, double, coin, u, must,...</td>\n",
              "    </tr>\n",
              "    <tr>\n",
              "      <th>4146</th>\n",
              "      <td>ham</td>\n",
              "      <td>[lol, would, despite, cramp, like, girl]</td>\n",
              "    </tr>\n",
              "    <tr>\n",
              "      <th>906</th>\n",
              "      <td>ham</td>\n",
              "      <td>[hey, charles, sorry, late, reply]</td>\n",
              "    </tr>\n",
              "    <tr>\n",
              "      <th>2002</th>\n",
              "      <td>ham</td>\n",
              "      <td>[idea, soon, get, converted, live]</td>\n",
              "    </tr>\n",
              "    <tr>\n",
              "      <th>1927</th>\n",
              "      <td>ham</td>\n",
              "      <td>[dont, give, monkey, wot, think, certainly, mi...</td>\n",
              "    </tr>\n",
              "  </tbody>\n",
              "</table>\n",
              "</div>\n",
              "      <button class=\"colab-df-convert\" onclick=\"convertToInteractive('df-49ee9c97-56ce-4b96-a38b-0134fd717066')\"\n",
              "              title=\"Convert this dataframe to an interactive table.\"\n",
              "              style=\"display:none;\">\n",
              "        \n",
              "  <svg xmlns=\"http://www.w3.org/2000/svg\" height=\"24px\"viewBox=\"0 0 24 24\"\n",
              "       width=\"24px\">\n",
              "    <path d=\"M0 0h24v24H0V0z\" fill=\"none\"/>\n",
              "    <path d=\"M18.56 5.44l.94 2.06.94-2.06 2.06-.94-2.06-.94-.94-2.06-.94 2.06-2.06.94zm-11 1L8.5 8.5l.94-2.06 2.06-.94-2.06-.94L8.5 2.5l-.94 2.06-2.06.94zm10 10l.94 2.06.94-2.06 2.06-.94-2.06-.94-.94-2.06-.94 2.06-2.06.94z\"/><path d=\"M17.41 7.96l-1.37-1.37c-.4-.4-.92-.59-1.43-.59-.52 0-1.04.2-1.43.59L10.3 9.45l-7.72 7.72c-.78.78-.78 2.05 0 2.83L4 21.41c.39.39.9.59 1.41.59.51 0 1.02-.2 1.41-.59l7.78-7.78 2.81-2.81c.8-.78.8-2.07 0-2.86zM5.41 20L4 18.59l7.72-7.72 1.47 1.35L5.41 20z\"/>\n",
              "  </svg>\n",
              "      </button>\n",
              "      \n",
              "  <style>\n",
              "    .colab-df-container {\n",
              "      display:flex;\n",
              "      flex-wrap:wrap;\n",
              "      gap: 12px;\n",
              "    }\n",
              "\n",
              "    .colab-df-convert {\n",
              "      background-color: #E8F0FE;\n",
              "      border: none;\n",
              "      border-radius: 50%;\n",
              "      cursor: pointer;\n",
              "      display: none;\n",
              "      fill: #1967D2;\n",
              "      height: 32px;\n",
              "      padding: 0 0 0 0;\n",
              "      width: 32px;\n",
              "    }\n",
              "\n",
              "    .colab-df-convert:hover {\n",
              "      background-color: #E2EBFA;\n",
              "      box-shadow: 0px 1px 2px rgba(60, 64, 67, 0.3), 0px 1px 3px 1px rgba(60, 64, 67, 0.15);\n",
              "      fill: #174EA6;\n",
              "    }\n",
              "\n",
              "    [theme=dark] .colab-df-convert {\n",
              "      background-color: #3B4455;\n",
              "      fill: #D2E3FC;\n",
              "    }\n",
              "\n",
              "    [theme=dark] .colab-df-convert:hover {\n",
              "      background-color: #434B5C;\n",
              "      box-shadow: 0px 1px 3px 1px rgba(0, 0, 0, 0.15);\n",
              "      filter: drop-shadow(0px 1px 2px rgba(0, 0, 0, 0.3));\n",
              "      fill: #FFFFFF;\n",
              "    }\n",
              "  </style>\n",
              "\n",
              "      <script>\n",
              "        const buttonEl =\n",
              "          document.querySelector('#df-49ee9c97-56ce-4b96-a38b-0134fd717066 button.colab-df-convert');\n",
              "        buttonEl.style.display =\n",
              "          google.colab.kernel.accessAllowed ? 'block' : 'none';\n",
              "\n",
              "        async function convertToInteractive(key) {\n",
              "          const element = document.querySelector('#df-49ee9c97-56ce-4b96-a38b-0134fd717066');\n",
              "          const dataTable =\n",
              "            await google.colab.kernel.invokeFunction('convertToInteractive',\n",
              "                                                     [key], {});\n",
              "          if (!dataTable) return;\n",
              "\n",
              "          const docLinkHtml = 'Like what you see? Visit the ' +\n",
              "            '<a target=\"_blank\" href=https://colab.research.google.com/notebooks/data_table.ipynb>data table notebook</a>'\n",
              "            + ' to learn more about interactive tables.';\n",
              "          element.innerHTML = '';\n",
              "          dataTable['output_type'] = 'display_data';\n",
              "          await google.colab.output.renderOutput(dataTable, element);\n",
              "          const docLink = document.createElement('div');\n",
              "          docLink.innerHTML = docLinkHtml;\n",
              "          element.appendChild(docLink);\n",
              "        }\n",
              "      </script>\n",
              "    </div>\n",
              "  </div>\n",
              "  "
            ],
            "text/plain": [
              "     type                                               text\n",
              "2168  ham                      [yes, good, crickiting, mind]\n",
              "1702  ham  [come, room, come, house, co, house, still, me...\n",
              "1010  ham  [dear, hero, leaving, qatar, tonite, apt, oppo...\n",
              "1862  ham              [aiyah, wait, lor, u, entertain, hee]\n",
              "605   ham                                  [meet, lunch, la]\n",
              "1901  ham  [miss, vday, parachute, double, coin, u, must,...\n",
              "4146  ham           [lol, would, despite, cramp, like, girl]\n",
              "906   ham                 [hey, charles, sorry, late, reply]\n",
              "2002  ham                 [idea, soon, get, converted, live]\n",
              "1927  ham  [dont, give, monkey, wot, think, certainly, mi..."
            ]
          },
          "metadata": {},
          "execution_count": 42
        }
      ],
      "source": [
        "data.sample(10)"
      ],
      "id": "zjbnH-DisfLO"
    },
    {
      "cell_type": "code",
      "execution_count": 43,
      "metadata": {
        "colab": {
          "base_uri": "https://localhost:8080/",
          "height": 363
        },
        "id": "wMLUMyu_2gj5",
        "outputId": "a64c718e-ed3e-4f5c-ccbc-c9bb064693c1"
      },
      "outputs": [
        {
          "output_type": "execute_result",
          "data": {
            "text/html": [
              "\n",
              "  <div id=\"df-e2f6be37-9892-48e3-b8d8-cd004f1eef0e\">\n",
              "    <div class=\"colab-df-container\">\n",
              "      <div>\n",
              "<style scoped>\n",
              "    .dataframe tbody tr th:only-of-type {\n",
              "        vertical-align: middle;\n",
              "    }\n",
              "\n",
              "    .dataframe tbody tr th {\n",
              "        vertical-align: top;\n",
              "    }\n",
              "\n",
              "    .dataframe thead th {\n",
              "        text-align: right;\n",
              "    }\n",
              "</style>\n",
              "<table border=\"1\" class=\"dataframe\">\n",
              "  <thead>\n",
              "    <tr style=\"text-align: right;\">\n",
              "      <th></th>\n",
              "      <th>type</th>\n",
              "      <th>text</th>\n",
              "    </tr>\n",
              "  </thead>\n",
              "  <tbody>\n",
              "    <tr>\n",
              "      <th>2490</th>\n",
              "      <td>ham</td>\n",
              "      <td>[2, doc, appointment, next, week, tired, shovi...</td>\n",
              "    </tr>\n",
              "    <tr>\n",
              "      <th>2124</th>\n",
              "      <td>spam</td>\n",
              "      <td>[123, congratulation, week, competition, draw,...</td>\n",
              "    </tr>\n",
              "    <tr>\n",
              "      <th>4716</th>\n",
              "      <td>ham</td>\n",
              "      <td>[8, min, go, lunch]</td>\n",
              "    </tr>\n",
              "    <tr>\n",
              "      <th>4316</th>\n",
              "      <td>ham</td>\n",
              "      <td>[captain, room]</td>\n",
              "    </tr>\n",
              "    <tr>\n",
              "      <th>2407</th>\n",
              "      <td>ham</td>\n",
              "      <td>[one, best, dialogue, cute, reltnship, wen, di...</td>\n",
              "    </tr>\n",
              "    <tr>\n",
              "      <th>4767</th>\n",
              "      <td>ham</td>\n",
              "      <td>[whens, radio, show]</td>\n",
              "    </tr>\n",
              "    <tr>\n",
              "      <th>2566</th>\n",
              "      <td>ham</td>\n",
              "      <td>[told, dr, appt, next, week, think, gon, na, d...</td>\n",
              "    </tr>\n",
              "    <tr>\n",
              "      <th>2157</th>\n",
              "      <td>ham</td>\n",
              "      <td>[hey, cutie, go, wale, kinda, ok, like, hill, ...</td>\n",
              "    </tr>\n",
              "    <tr>\n",
              "      <th>2858</th>\n",
              "      <td>ham</td>\n",
              "      <td>[today, workin, free, oso, gee, thgt, u, worki...</td>\n",
              "    </tr>\n",
              "    <tr>\n",
              "      <th>2688</th>\n",
              "      <td>ham</td>\n",
              "      <td>[okie]</td>\n",
              "    </tr>\n",
              "  </tbody>\n",
              "</table>\n",
              "</div>\n",
              "      <button class=\"colab-df-convert\" onclick=\"convertToInteractive('df-e2f6be37-9892-48e3-b8d8-cd004f1eef0e')\"\n",
              "              title=\"Convert this dataframe to an interactive table.\"\n",
              "              style=\"display:none;\">\n",
              "        \n",
              "  <svg xmlns=\"http://www.w3.org/2000/svg\" height=\"24px\"viewBox=\"0 0 24 24\"\n",
              "       width=\"24px\">\n",
              "    <path d=\"M0 0h24v24H0V0z\" fill=\"none\"/>\n",
              "    <path d=\"M18.56 5.44l.94 2.06.94-2.06 2.06-.94-2.06-.94-.94-2.06-.94 2.06-2.06.94zm-11 1L8.5 8.5l.94-2.06 2.06-.94-2.06-.94L8.5 2.5l-.94 2.06-2.06.94zm10 10l.94 2.06.94-2.06 2.06-.94-2.06-.94-.94-2.06-.94 2.06-2.06.94z\"/><path d=\"M17.41 7.96l-1.37-1.37c-.4-.4-.92-.59-1.43-.59-.52 0-1.04.2-1.43.59L10.3 9.45l-7.72 7.72c-.78.78-.78 2.05 0 2.83L4 21.41c.39.39.9.59 1.41.59.51 0 1.02-.2 1.41-.59l7.78-7.78 2.81-2.81c.8-.78.8-2.07 0-2.86zM5.41 20L4 18.59l7.72-7.72 1.47 1.35L5.41 20z\"/>\n",
              "  </svg>\n",
              "      </button>\n",
              "      \n",
              "  <style>\n",
              "    .colab-df-container {\n",
              "      display:flex;\n",
              "      flex-wrap:wrap;\n",
              "      gap: 12px;\n",
              "    }\n",
              "\n",
              "    .colab-df-convert {\n",
              "      background-color: #E8F0FE;\n",
              "      border: none;\n",
              "      border-radius: 50%;\n",
              "      cursor: pointer;\n",
              "      display: none;\n",
              "      fill: #1967D2;\n",
              "      height: 32px;\n",
              "      padding: 0 0 0 0;\n",
              "      width: 32px;\n",
              "    }\n",
              "\n",
              "    .colab-df-convert:hover {\n",
              "      background-color: #E2EBFA;\n",
              "      box-shadow: 0px 1px 2px rgba(60, 64, 67, 0.3), 0px 1px 3px 1px rgba(60, 64, 67, 0.15);\n",
              "      fill: #174EA6;\n",
              "    }\n",
              "\n",
              "    [theme=dark] .colab-df-convert {\n",
              "      background-color: #3B4455;\n",
              "      fill: #D2E3FC;\n",
              "    }\n",
              "\n",
              "    [theme=dark] .colab-df-convert:hover {\n",
              "      background-color: #434B5C;\n",
              "      box-shadow: 0px 1px 3px 1px rgba(0, 0, 0, 0.15);\n",
              "      filter: drop-shadow(0px 1px 2px rgba(0, 0, 0, 0.3));\n",
              "      fill: #FFFFFF;\n",
              "    }\n",
              "  </style>\n",
              "\n",
              "      <script>\n",
              "        const buttonEl =\n",
              "          document.querySelector('#df-e2f6be37-9892-48e3-b8d8-cd004f1eef0e button.colab-df-convert');\n",
              "        buttonEl.style.display =\n",
              "          google.colab.kernel.accessAllowed ? 'block' : 'none';\n",
              "\n",
              "        async function convertToInteractive(key) {\n",
              "          const element = document.querySelector('#df-e2f6be37-9892-48e3-b8d8-cd004f1eef0e');\n",
              "          const dataTable =\n",
              "            await google.colab.kernel.invokeFunction('convertToInteractive',\n",
              "                                                     [key], {});\n",
              "          if (!dataTable) return;\n",
              "\n",
              "          const docLinkHtml = 'Like what you see? Visit the ' +\n",
              "            '<a target=\"_blank\" href=https://colab.research.google.com/notebooks/data_table.ipynb>data table notebook</a>'\n",
              "            + ' to learn more about interactive tables.';\n",
              "          element.innerHTML = '';\n",
              "          dataTable['output_type'] = 'display_data';\n",
              "          await google.colab.output.renderOutput(dataTable, element);\n",
              "          const docLink = document.createElement('div');\n",
              "          docLink.innerHTML = docLinkHtml;\n",
              "          element.appendChild(docLink);\n",
              "        }\n",
              "      </script>\n",
              "    </div>\n",
              "  </div>\n",
              "  "
            ],
            "text/plain": [
              "      type                                               text\n",
              "2490   ham  [2, doc, appointment, next, week, tired, shovi...\n",
              "2124  spam  [123, congratulation, week, competition, draw,...\n",
              "4716   ham                                [8, min, go, lunch]\n",
              "4316   ham                                    [captain, room]\n",
              "2407   ham  [one, best, dialogue, cute, reltnship, wen, di...\n",
              "4767   ham                               [whens, radio, show]\n",
              "2566   ham  [told, dr, appt, next, week, think, gon, na, d...\n",
              "2157   ham  [hey, cutie, go, wale, kinda, ok, like, hill, ...\n",
              "2858   ham  [today, workin, free, oso, gee, thgt, u, worki...\n",
              "2688   ham                                             [okie]"
            ]
          },
          "metadata": {},
          "execution_count": 43
        }
      ],
      "source": [
        "#removing lines with empty text\n",
        "data=data[data['text'].map(lambda d: len(d)) > 0]\n",
        "data.sample(10)"
      ],
      "id": "wMLUMyu_2gj5"
    },
    {
      "cell_type": "markdown",
      "metadata": {
        "id": "gfzjouR_tDOy"
      },
      "source": [
        "#### Splitting Cleaned Data into test and train:"
      ],
      "id": "gfzjouR_tDOy"
    },
    {
      "cell_type": "code",
      "execution_count": 44,
      "metadata": {
        "id": "6TwW4rqA0ZDY"
      },
      "outputs": [],
      "source": [
        "text_train, text_test,labels_train, labels_test = train_test_split(data['text'],data['type'] ,test_size=0.20, random_state=42)\n",
        "labels_train=np.array(labels_train)\n",
        "labels_test=np.array(labels_test)\n",
        "text_train=np.array(text_train)\n",
        "text_test=np.array(text_test)"
      ],
      "id": "6TwW4rqA0ZDY"
    },
    {
      "cell_type": "markdown",
      "metadata": {
        "id": "b15bb760"
      },
      "source": [
        "##### Functions to calculate TF-IDF"
      ],
      "id": "b15bb760"
    },
    {
      "cell_type": "code",
      "execution_count": 45,
      "metadata": {
        "id": "z481EBWm5DbY"
      },
      "outputs": [],
      "source": [
        "def term_freq(sentence, word):\n",
        "    N = len(sentence)\n",
        "    freq = len([x for x in sentence if x==word])\n",
        "    return freq/float(N)\n",
        "\n",
        "def inverse_doc_freq(word,doc_word_count,total_sentences):\n",
        "    doc_freq = doc_word_count[word] + 1\n",
        "    return math.log10(total_sentences/float(doc_freq))\n",
        "\n",
        "def tf_idf(sentence,doc_word_count,index_unique_words,unique_words,total_sentences):\n",
        "    tf_idf_vector = np.zeros((len(unique_words),))\n",
        "    for word in set(sentence):\n",
        "      tf = term_freq(sentence,word)\n",
        "      idf = inverse_doc_freq(word,doc_word_count,total_sentences)\n",
        "      value = tf*idf\n",
        "      tf_idf_vector[index_unique_words[word]] = value\n",
        "    return tf_idf_vector\n",
        "test_data=[]"
      ],
      "id": "z481EBWm5DbY"
    },
    {
      "cell_type": "code",
      "execution_count": 46,
      "metadata": {
        "id": "eVf-q930y89N"
      },
      "outputs": [],
      "source": [
        "def build_unique_words(data_frame_col):\n",
        "  unique_words=set()\n",
        "  for text in data_frame_col:\n",
        "    unique_words=unique_words.union(set(text))\n",
        "  return unique_words\n",
        "def build_doc_freq(data_frame_col,unique_words):\n",
        "  doc_word_count=dict.fromkeys(unique_words, 0)\n",
        "  for text in data_frame_col:\n",
        "    for word in unique_words:\n",
        "      if word in text:\n",
        "        doc_word_count[word]+=1\n",
        "  return doc_word_count\n",
        "def calc_tf_idf(data_frame_col):\n",
        "  total_sentences=len(data_frame_col)\n",
        "  unique_words=build_unique_words(data_frame_col)\n",
        "  #for calculation of document freq:\n",
        "  doc_word_count=build_doc_freq(data_frame_col,unique_words)\n",
        "  print(doc_word_count)\n",
        "  index_unique_words={}\n",
        "  index=0\n",
        "  for word in unique_words:\n",
        "    index_unique_words[word]=index\n",
        "    index+=1\n",
        "  vectors=[]\n",
        "  for sentence in data_frame_col:\n",
        "    tf_idf_vector = tf_idf(sentence,doc_word_count,index_unique_words\n",
        "                             ,unique_words,total_sentences)\n",
        "    vectors.append(tf_idf_vector)\n",
        "  return vectors,index_unique_words,doc_word_count,total_sentences\n",
        "#labels=np.array(data['type'])\n",
        "#vectors=calc_tf_idf(data['text'])\n",
        "#test_data=data['text'].sample(10)\n",
        "#vectors,index_dict=calc_tf_idf(test_data)\n",
        "#test_data"
      ],
      "id": "eVf-q930y89N"
    },
    {
      "cell_type": "markdown",
      "metadata": {
        "id": "7413aa4c"
      },
      "source": [
        "##### Calculating the TF-IDF Vector for the Train Data"
      ],
      "id": "7413aa4c"
    },
    {
      "cell_type": "code",
      "execution_count": 47,
      "metadata": {
        "colab": {
          "base_uri": "https://localhost:8080/"
        },
        "id": "MpJz5qZByGSa",
        "outputId": "32236a5b-761f-4dbc-cb1d-c18ba938a5bf"
      },
      "outputs": [
        {
          "output_type": "stream",
          "name": "stdout",
          "text": [
            "{'steamboat': 1, 'olowoyey': 1, 'glass': 1, 'wot': 18, 'treacle': 1, '18p': 1, '40': 1, 'transfer': 3, 'giv': 3, 'last': 62, 'forfeit': 1, '65': 2, 'nighters': 1, '0870': 5, 'strike': 3, 'visiting': 1, 'terror': 1, 'cock': 3, 'guoyang': 1, 'ffectionate': 1, 'evrydy': 2, 'wating': 2, 'rally': 2, 'convince': 1, 'warwick': 1, 'shadow': 1, 'lunchtime': 1, 'nuclear': 1, 'looked': 5, 'victoria': 1, 'show': 51, 'shuhui': 7, 'tuth': 1, 'anythiing': 1, 'unique': 4, 'gep': 1, 'kvb': 1, '81010': 1, 'doesnt': 7, 'wipe': 1, 'shoving': 1, 'grab': 1, 'mtalk': 2, 'version': 4, 'question': 30, 'sick': 9, 'even': 50, 'bash': 1, 'love': 161, 'yoville': 1, 'feed': 1, 'gsoh': 1, 'somebody': 10, '1lemon': 1, 'match': 12, 'daddy': 7, 'barbie': 1, 'gary': 3, 'chik': 1, 'dangerous': 1, 'tau': 1, 'mob': 17, 'necklace': 2, 'dough': 2, 'suddenly': 1, 'efficient': 1, 'feel': 53, '087147123779am': 1, 'o2fwd': 1, 'shortly': 3, 'let': 76, 'jeremiah': 1, 'weddingfriend': 1, 'passable': 1, 'm263uz': 2, 'burgundy': 1, 'boo': 6, 'ink': 1, 'death': 3, 'hill': 4, 'huh': 14, '07742676969': 1, 'awake': 5, 'nick': 1, 'stamp': 2, 'black': 4, 'railway': 3, 'jack': 1, 'miller': 1, 'final': 14, 'vijaykanth': 1, 'disturbing': 2, 'someonone': 1, 'necesity': 1, 'really': 68, 'received': 4, 'interesting': 4, 'edition': 1, 'challenging': 1, 'lager': 1, 'sweetest': 3, 'roger': 3, 'diff': 2, 'tax': 1, 'booking': 3, 'miiiiiiissssssssss': 1, 'kip': 1, 'formally': 1, 'shindig': 1, 'logon': 1, 'w1jhl': 1, 'apparently': 4, 'project': 13, '48922': 1, 'lighter': 1, 'caring': 3, '89080': 1, 'simpson': 1, 'age': 14, '08712402578': 1, 'sat': 25, 'idk': 3, 'shijas': 2, 'fwiw': 1, 'developer': 1, 'imposter': 1, 'hell': 6, 'planning': 7, 'westlife': 2, 'lost': 11, 'aretaking': 1, 'australia': 1, 'parking': 3, 'full': 14, '9280114': 1, 'merememberin': 1, 'wylie': 4, 'throat': 3, '21870000': 1, 'marine': 1, 'rumour': 2, 'stoptxtstop£1': 1, 'videophones': 4, 'freemsg': 10, 'found': 12, 'velly': 1, 'want2come': 1, 'hook': 2, 'ran': 4, 'wahala': 1, 'embarassing': 1, 'uploaded': 1, 'panasonic': 1, 'w4': 1, '6times': 1, '08715500022': 1, 'friday': 12, '10ppm': 2, 'feellikw': 1, 'rebooting': 1, 'olol': 1, 'subscriptn3gbp': 1, 'itcould': 2, 'care': 60, 'shall': 25, 'battle': 2, 'gt': 202, 'dnt': 10, 'arises': 1, '09064015307': 1, 'ntt': 5, 'white': 4, 'accumulation': 1, 'prey': 3, 'headache': 3, 'network': 26, 'callfreefone': 2, 'service': 59, 'trial': 1, 'felt': 13, '50': 49, 'allah': 3, 'connected': 1, 'signal': 1, 'a21': 1, 'designation': 1, '08712402779': 1, 'fetching': 1, 'dusk': 1, 'whether': 4, '£1': 33, 'uk': 61, '08707808226': 1, 'todo': 1, 'escape': 3, '730': 1, '5years': 1, '50ea': 1, 'dine': 1, 'sd': 2, '69855': 1, 'google': 2, 'regard': 7, 'unicef': 1, 'world': 31, 'straight': 3, 'rakhesh': 9, 'truth': 7, 'initiate': 1, 'gettin': 7, 'normally': 3, 'enter': 10, 'lonely': 4, 'range': 2, 'country': 5, 'pleassssssseeeeee': 1, 'gold': 1, 'slaaaaave': 1, '083': 1, 'echo': 1, 'everything': 25, 'delivered': 4, 'exciting': 5, 'korli': 1, 'nahi': 1, '1winaweek': 3, 'jurong': 1, '151': 1, 'cheese': 2, 'callin': 3, '1172': 1, 'rodger': 1, 'thk': 37, 'ambrith': 1, 'afternoon': 25, 'girl': 33, 'dick': 3, 'msgrcvd18': 1, 'vat': 1, 'costume': 1, '£54': 1, 'bleak': 1, 'slurp': 1, 'wearing': 3, 'mandan': 2, 'bimbo': 1, 'gay': 4, 'ipaditan': 1, 'shinco': 1, 'okie': 15, 'terry': 1, 'cochin': 2, '13': 2, 'tmr': 24, 'croydon': 4, '62468': 6, 'flip': 2, 'unlike': 1, 'map': 4, 'rang': 3, 'stay': 19, 'tallent': 1, 'readiness': 1, 'tb': 5, 'spot': 1, '2309': 1, 'balloon': 1, 'steering': 1, 'disclose': 2, 'drivin': 3, 'impress': 1, 'declare': 1, 'area': 9, 'heavy': 5, 'oic': 3, 'arul': 1, 'call2optout': 7, '7mp': 1, 'trav': 1, 'priscilla': 2, 'held': 2, 'clark': 1, 'costa': 7, 'wah': 3, 'artist': 1, 'borderline': 1, 'groovy': 1, 'invader': 2, 'weak': 3, 'squishy': 1, 'confirmed': 2, 'logoff': 1, 'apology': 1, 'ofice': 1, 'divorce': 1, 'individual': 2, 'receivea': 1, 'gift': 17, '08712402972': 1, 'lily': 1, 'ente': 1, 'playing': 4, 'courageous': 1, '09099726553': 1, '08701417012': 2, 'sochte': 1, '45239': 2, 'dogwood': 1, 'kalaachutaarama': 1, 'astoundingly': 1, 'change': 21, 'dubsack': 2, 'without': 18, 'mfl': 1, 'decide': 6, 'alian': 1, '61610': 2, 'offline': 1, 'collection': 20, 'foregate': 1, 'gaytextbuddy': 2, 'forever': 7, 'bhaskar': 1, 'corrct': 1, 'assume': 4, '08701237397': 1, '700': 2, 'flea': 1, 'adult': 5, 'keyword': 1, 'teach': 7, 'chastity': 1, 'misfit': 1, 'prize': 66, '1er': 1, 'wtc': 1, 'ct': 1, 'present': 3, 'cup': 8, 'vitamin': 1, 'hard': 14, 'meetins': 1, 'true18': 1, '49557': 1, 'arrange': 5, 'jot': 1, 'chickened': 1, 'dialogue': 1, 'audition': 1, 'yuou': 1, 'ing': 2, '89555': 1, '87066': 11, 'watchng': 1, 'aging': 1, 'abeg': 1, 'swatch': 1, 'guessing': 1, '2lands': 11, 'probs': 1, 'cardiff': 2, 'bridal': 1, 'ball': 1, 'explicitly': 1, '0844': 2, 'clarify': 1, 'calicut': 3, 'drunk': 3, 'deer': 1, 'starving': 1, 'potato': 2, 'said': 65, 'loyal': 2, '83600': 2, 'due': 5, 'ray': 5, 'jst': 6, 'resuming': 1, 'apologize': 1, 'firefox': 1, 'lord': 1, 'soo': 2, 'intro': 5, 'finding': 1, 'pout': 1, 'bookshelf': 1, '09061743806': 2, '630': 2, 'mrng': 13, 'xavier': 2, 'dear': 91, 'string': 1, 'funky': 1, 'gardener': 2, 'killing': 2, 'helping': 1, 'stil': 1, 'deficient': 1, 'flood': 1, 'otherwise': 6, 'philosophy': 2, 'doublemins': 1, 'subscribe6gbp': 1, 'motherfucker': 1, 'italian': 5, 'disk': 1, '150ppermesssubscription': 3, '87121': 3, 'negative': 1, 'ny': 2, 'perform': 1, 'previously': 3, 'dust': 1, 'plm': 1, 'way': 81, 'putting': 6, 'tayseer': 2, 'freaky': 1, 'name1': 2, 'bmw': 2, 'shrek': 1, 'involve': 1, 'interviw': 1, 'finally': 11, 'coin': 4, 'makiing': 1, '4mths': 3, 'hardcore': 3, 'century': 1, 'comfort': 1, 'rat': 1, '6': 37, 'n9dx': 2, 'ga': 1, 'madstini': 1, 'loving': 16, 'reaching': 5, 'wc1n': 1, 'dozen': 1, 'tncs': 5, 'boring': 4, 'company': 16, 'wave': 1, 'cutest': 1, 'touch': 17, 'catch': 8, 'conversation': 1, 'smoke': 11, 'itried2tell': 1, 'prove': 2, 'bhaji': 2, 'issue': 7, '02072069400': 1, 'fraud': 2, 'fucking': 11, '28': 6, 'er': 5, 'administrator': 1, 'finishd': 1, 'mcat': 1, 'thirtyeight': 1, 'mtmsgrcvd18': 3, 'british': 1, 'nok': 1, 'oyster': 1, '08702490080': 1, 'campus': 5, '2yrs': 1, 'lil': 2, 'bottom': 3, 'alaipayuthe': 2, 'pickle': 2, 'simonwatson5120': 1, 'cribbs': 1, 'kept': 6, '5249': 1, 'long': 33, 'collapsed': 1, 'current': 5, '£1250': 2, 'monkey': 3, 'urgoin': 1, 'steal': 1, 'chk': 1, 'psxtra': 1, 'ltd': 10, 'dentist': 2, 'monkeespeople': 1, 'lotta': 2, 'thank': 26, 'culture': 1, 'walk': 14, 'byatch': 1, 'pete': 8, '08712402902': 1, 'reltnship': 1, 'hurt': 20, 'craziest': 2, 'thinl': 1, 'catching': 2, 'spelling': 1, 'spirit': 1, 'please': 105, 'bullshit': 1, 'arestaurant': 1, 'ro': 1, 'journey': 1, '6ish': 1, 'dd': 1, 'transferred': 1, 'archive': 1, 'warner': 1, 'audrie': 1, 'yeh': 3, 'costing': 1, 'la1': 1, 'germany': 3, 'pobox84': 4, 'lobby': 1, 'uncomfortable': 1, '08000407165': 1, 'evr': 2, 'taka': 1, 'must': 25, 'ooh': 1, 'mo': 6, '08712405022': 2, '02085076972': 1, 'dear1': 3, '02': 6, '09066612661': 3, 'arise': 1, 'immediately': 9, 'laid': 3, 'luck': 11, 'advising': 1, 'uin': 1, 'intention': 1, 'funeral': 2, 'otbox': 1, 'unfortunately': 2, 'ure': 4, '2go': 2, 'sweet': 26, 'outfor': 1, 'guai': 1, 'completely': 7, 'gastroenteritis': 1, 'bridge': 1, 'ruthful': 1, '650': 1, 'xt': 1, 'weird': 3, 'screen': 2, 'financial': 1, 'toa': 2, '087016248': 1, 'headin': 2, 'uh': 1, 'halloween': 2, 'yetty': 1, 'august': 2, 'julianaland': 1, 'respond': 4, 'sometimes': 7, 'whole': 12, 'fold': 1, 'jon': 1, 'shud': 1, 'intend': 1, 'donyt': 1, 'earlier': 11, 'stuffed': 1, 'fly': 4, 'roommate': 6, 'chase': 2, '8007': 10, 'pax': 1, 'extreme': 1, 'hmv1': 1, 'message': 91, 'fond': 1, 'rto': 1, 'sankranti': 1, 'kodstini': 1, 'roast': 1, 'katexxx': 1, 'hype': 1, 'landmark': 1, 'woah': 1, 'processed': 1, 'vague': 1, 'thts': 4, 'equally': 1, 'disappeared': 1, 'general': 1, 'peak': 1, 'norm': 2, 'flat': 3, 'grow': 2, 'rajini': 1, 'section': 2, 'need': 143, 'w1': 3, 'management': 3, 'lovingly': 1, 'ciao': 1, 'stomach': 3, 'stalk': 1, '09061790121': 2, 'freeentry': 1, '2004': 7, 'blind': 1, 'britney': 1, 'canary': 2, 'keluviri': 1, 'aptitude': 1, 'bsn': 1, 'shoot': 2, 'hubby': 3, '‘': 22, 'watr': 1, 'throwin': 1, 'resent': 1, 'lindsay': 1, 'tape': 3, 'pop': 1, 'correctly': 1, 'xy': 7, 'charming': 1, 'pavanaputra': 1, 'rpl': 1, 'guarantee': 1, 'fav': 2, 'treated': 2, 'telediscount': 1, 'stockport': 6, 'impressed': 1, 'ultimate': 1, 'truble': 1, 'recent': 2, 'chip': 1, 'dollar': 6, 'genius': 2, 'aust': 1, 'barely': 4, 'sr': 1, 'phoned': 2, 'brothas': 3, 'basketball': 1, 'failure': 1, 'ourbacks': 1, 'nitw': 1, 'advice': 2, 'opposed': 1, 'permanent': 1, 'grl': 1, 'yuo': 2, 'bless': 3, 'saeed': 1, 'aco': 1, 'box177': 1, 'right': 70, 'disconnected': 1, 'business': 3, 'reason': 14, 'dress': 2, 'darkest': 1, 'noun': 1, '85023': 5, 'hip': 3, 'walkin': 1, 'jan': 3, 'silent': 9, 'ew': 1, 'button': 1, 'ava': 1, 'k718': 1, 'reapply': 1, 'videochat': 4, '08000938767': 3, 'see': 129, 'cres': 1, 'lay': 3, 'txtno': 2, 'karaoke': 2, 'hostile': 1, 'wud': 2, 'tddnewsletter': 1, 'lionm': 2, 'gautham': 2, 'ploughing': 1, 'lt': 202, 'oscar': 1, 'soiree': 1, 'mila': 2, 'aquarius': 1, 'previous': 2, '81618': 3, 'elaya': 1, 'posted': 6, 'prospect': 2, '1x150p': 4, 'mandy': 1, 'whats': 14, 'anderson': 1, '09058091870': 1, 'speaking': 2, 'cancelled': 2, 'ym': 5, 'virgin': 1, 'kiss': 28, 'pc': 6, 'silently': 1, 'box245c2150pm': 1, 'eve': 14, 'book': 22, 'anybody': 4, 'culdnt': 1, 'soc': 1, 'i\\x92m': 3, 'bakrid': 1, 'easy': 26, '88066': 2, 'clothes': 1, '09065989180': 1, '20m12aq': 1, 'lo': 2, 'envy': 1, 'depression': 1, 'mite': 3, 'hanging': 4, 'maraikara': 1, 'exactly': 3, 'hp20': 1, 'rememberi': 1, 'famous': 1, 'cm': 2, 'local': 6, 'cabin': 5, 'telly': 2, 'callcost': 2, 'mahal': 2, 'side': 7, 'plate': 1, 'sleeping': 15, 'frequently': 1, 'sry': 3, 'flurry': 1, 'ques': 1, '03': 10, '95': 1, 'lautech': 1, 'includes': 1, 'necessity': 1, 'kappa': 2, 'computational': 1, 'av': 2, 'fifty': 1, 'enjoyin': 2, 'number': 85, 'goin': 18, 'muah': 2, 'dice': 1, 'download': 6, '£250': 12, 'library': 8, 'phil': 1, 'wishin': 2, '69866': 2, 'hiding': 1, 'ape': 1, '20': 6, 'whenevr': 2, 'cruel': 1, 'palm': 1, 'group': 6, 'sexual': 1, 'clos1': 3, '440': 2, 'stayin': 2, 'laughed': 3, 'salam': 2, 'prob': 13, 'exam': 13, 'jus': 20, 'db': 1, 'impressively': 1, 'suntec': 3, 'uworld': 1, 'm95': 2, 'dontplease': 1, 'become': 4, 'amigo': 1, 'durban': 2, 'restaurant': 1, 'rael': 2, 'paypal': 1, 'wannatell': 1, 'fat': 6, 'scratch': 1, 'selfindependence': 1, 'tie': 1, 'payback': 1, 'savamob': 6, 'champneys': 1, 'havent': 21, 'asleep': 6, 'la3': 1, 'mising': 1, 'def': 3, 'miwa': 1, 'vibrator': 1, 'ela': 2, 'leaf': 9, 'brdget': 1, 'doinat': 1, 'anyways': 2, 'stapati': 1, 'everytime': 1, 'almost': 13, 'ali': 1, '255': 1, 'coach': 1, 'champlaxigating': 1, 'worst': 2, 'emigrated': 1, 'finger': 6, 'bubbletext': 1, 'gokila': 1, 'belly': 4, 'wallpaper': 3, '0871277810710p': 1, '07946746291': 1, '07xxxxxxxxx': 3, 'compensation': 1, 'ttyl': 3, 'cake': 6, 'underwear': 2, 'join': 18, 'margaret': 2, 'splleing': 2, 'kalisidare': 1, 'value': 4, 'riley': 1, 'apt': 1, 'cd': 10, 'night': 85, 'cc': 5, 'community': 1, 'claim': 87, 'kill': 3, 'chart': 3, 'phrase': 1, 'dot': 2, 'thepub': 1, 'jungle': 1, '09090900040': 1, 'fooled': 1, 'opponenter': 1, 'action': 4, '08712402050': 2, 'prepared': 2, 'jap': 1, 'taught': 1, 'spring': 2, '1thing': 1, '30apr': 1, 'lrg': 1, '400': 1, 'hiya': 9, '100': 15, 'gail': 1, 'infact': 1, 'oblivious': 1, '86021': 3, 'whens': 1, 'anti': 2, '24': 4, 'extract': 1, 'golden': 1, 'printing': 1, 'flag': 4, 'max6': 1, 'put': 25, 'invnted': 2, 'chillaxin': 1, 'instead': 5, 'loud': 2, 'thia': 1, 'irene': 1, 'tonexs': 1, 'hustle': 1, 'yor': 3, 'belive': 1, 'fm': 1, 'jean': 1, 'b4': 12, 'attitude': 1, 'shakespeare': 1, 'tree': 4, 'tel': 11, 'tarpon': 1, 'oblisingately': 1, 'raksha': 1, 'stunning': 1, 'joy': 8, 'training': 6, 'soul': 2, 'sch': 16, '4got': 1, 'tgxxrz': 1, 'acc': 5, '100txt': 1, 'aka': 2, 'chocolate': 1, '2exit': 1, 'ard': 15, 'derp': 1, 'checked': 5, 'quiteamuzing': 1, 'thanksgiving': 3, 'lunsford': 1, 'logged': 1, 'token': 1, 'tome': 1, 'brings': 5, 'assessment': 1, 'reformat': 1, 'size': 2, 'moment': 11, 'guitar': 1, 'eh74rr': 1, '08718720201': 5, 'wale': 3, 'monday': 11, 'reassuring': 1, 'spark': 1, 'edukkukayee': 1, 'pace': 1, 'gotany': 1, 'talkin': 1, 'factory': 1, 'cyclist': 1, 'puzzeles': 1, 'frontierville': 1, 'waz': 1, 'lion': 3, '3lp': 3, '£100': 18, 'expression': 2, 'motivating': 1, 'footy': 1, 'rhythm': 1, 'priority': 1, 'checkup': 1, 'wen': 21, 'namous': 1, 'wicklow': 1, 'resend': 1, 'cop': 1, 'elaborating': 1, 'buyer': 2, 'immed': 1, 'africa': 1, 'fink': 1, 'bloody': 3, 'compare': 1, 'toll': 3, 'beyond': 2, 'il': 8, 'triumphed': 1, 'cheyyamo': 1, 'analysis': 1, 'rtf': 1, 'global': 1, 'clear': 2, 'callon': 1, 'early': 27, 'coming': 34, 'bedrm': 1, 'enjoying': 1, 'gist': 2, 'sugar': 4, 'gr8': 13, 'church': 3, 'schedule': 4, 'macho': 3, 'atleast': 1, 'ramaduth': 1, 'bid': 4, 'unsold': 3, 'ivatte': 1, 'yaxx': 1, 'yesterday': 21, 'antibiotic': 1, '1cup': 1, 'freephone': 7, 'loosing': 1, 'buzy': 2, 'partnership': 2, 'chrgd': 1, 'process': 5, 'hesitant': 1, 'pro': 2, 'faggy': 2, 'tackle': 1, 'experience': 7, 'netvision': 1, 'din': 7, 'auction': 8, 'unconvinced': 1, 'inviting': 5, 'work': 83, 'algorithm': 1, 'pocked': 1, 'willing': 5, 'still': 121, 'atrocious': 1, 't91': 1, 'drove': 2, 'shakara': 1, 'stuck': 3, 'matrix3': 2, 'bw': 1, 'bear': 3, 'edison': 2, 'murdered': 5, 'battery': 6, '89545': 3, 'going': 136, 'up4': 1, 'grateful': 1, 'gap': 4, 'maximum': 1, 'durham': 1, 'ralphs': 1, 'sptv': 1, 'id': 18, 'reset': 1, 'card': 14, 'worse': 6, 'wap': 5, 'released': 3, 'imprtant': 1, 'amrita': 1, 'thread': 2, 'thanku': 1, 'marley': 1, 'piah': 1, '1win150ppmx3': 1, '3d': 3, 'pressure': 1, 'isaiah': 1, 'bus8': 1, 'wonderful': 12, 'using': 9, 'ip4': 5, '4years': 1, 'get4an18th': 1, 'clever': 2, '2moro': 4, 'bleh': 1, 'teenager': 1, 'divert': 1, 'sorting': 3, 'starer': 1, 'pain': 23, 'digi': 1, 'collected': 2, 'snogs': 1, 'mobcudb': 1, 'ready': 33, 'bike': 1, 'pushbutton': 1, 'desire': 2, 'mustprovide': 1, 'comedy': 3, 'heavily': 1, 'boat': 2, 'faith': 2, 'anniversary': 2, 'batch': 1, 'shagged': 2, 'pan': 1, '07786200117': 2, 'completed': 2, 'wat': 83, 'mailed': 1, 'innocent': 1, 'ph': 2, '08712103738': 1, 'siva': 1, 'rate': 29, 'speling': 1, 'str': 1, 'shouted': 2, 'auto': 3, 'receiving': 3, 'scary': 2, 'chatter': 1, 'recpt': 1, 'sleepy': 2, 'would': 55, 'student': 6, 'smell': 1, 'linear': 1, '»': 1, '9755': 1, 'grace': 1, 'high': 6, 'mee': 1, 'xxxxxxx': 1, 'fated': 1, 'dwn': 1, 'havnt': 3, 'braved': 1, 'dict': 1, 'sneham': 1, '88039': 3, 'idu': 1, 'weapon': 1, 'alone': 14, '5min': 1, '07781482378': 1, 'arcade': 3, 'respectful': 2, 'tooth': 1, 'timi': 1, 'garment': 1, 'instantly': 3, 'big': 24, 'awkward': 1, 'replace': 1, 'miss': 57, 'erotic': 1, 'academic': 1, 'puzzle': 1, '2gthr': 2, 'rr': 1, 'sundayish': 1, 'rise': 1, 'waheed': 1, 'talkbut': 1, 'ayo': 1, 'hat': 1, 'worried': 10, 'walkabout': 1, 'unbelievable': 2, 'residency': 1, '3510i': 5, 'sed': 5, 'incident': 2, 'sister': 17, 'semester': 9, 'eightish': 1, 'txting': 8, '3gbp': 3, 'swann': 1, 'basic': 4, 'listed': 1, 'darlin': 15, 'tortilla': 2, 'dept': 1, 'creativity': 1, 'noi\\x92m': 1, 'tuition': 3, 'tired': 9, 'tallahassee': 1, 'rgds': 2, 'flame': 1, 'babe': 69, 'getstop': 1, 'lately': 2, 'possession': 2, 'fantasy': 8, 'sudn': 1, 'travel': 4, 'confidence': 4, 'marvel': 1, 'blame': 3, 'delivery': 18, 'upcharge': 1, 'twin': 1, 'towards': 7, 'arrow': 1, 'spend': 9, 'sip': 2, 'working': 22, 'shortcode': 1, 'mnth': 2, 'soladha': 1, 'teresa': 1, 'worth': 11, 'sweater': 1, '200': 3, 'limping': 1, 'mark': 7, 'fool': 5, 'placement': 1, 'renewal': 2, 'package': 4, '4403ldnw1a7rw18': 1, 'away': 19, 'invite': 2, 'ratio': 1, 'lect': 7, '09099726395': 1, 'played': 3, 'dream': 20, 'maintain': 3, 'pobox45w2tg150p': 2, 'smarter': 1, 'nitros': 1, '4get': 3, 'lined': 1, 'thinked': 1, 'cumming': 1, 'umma': 5, 'juliana': 1, 'control': 1, 'honestly': 1, 'itwhichturnedinto': 1, 'frndz': 1, 'cooky': 2, 'ha': 6, 'tigress': 1, 'coupla': 1, 'dehydrated': 1, 'sup': 6, '08709222922': 1, 'madurai': 1, 'myparents': 1, 'shock': 1, 'personality': 3, 'morn': 3, 'main': 1, 'team': 6, '8p': 1, 'officially': 1, 'inpersonation': 1, 'topped': 1, 'okors': 1, 'future': 4, 'i\\x92llspeak': 1, 'java': 4, 'describe': 1, 'room': 28, 'forevr': 2, 'budget': 4, 'tamilnadu': 1, 'touched': 2, 'remove': 8, 'submitting': 1, 'dungerees': 1, 'try': 43, 'lightly': 1, 'ofcourse': 1, 'bend': 1, 'expensive': 3, 'icmb3cktz8r7': 1, 'swhrt': 1, 'axis': 1, 'rcv': 2, 'thinkin': 7, 'nimbomsons': 1, 'm221bp': 1, '09064017295': 1, 'blogging': 1, 'wishing': 8, 'transport': 2, 'watchin': 1, 'jolt': 2, 'lyfu': 1, 'so': 1, 'fruit': 1, 'dub': 1, 'relaxing': 1, 'brain': 3, 'private': 15, 'wnevr': 1, 'recently': 7, 'refunded': 1, 'chachi': 1, 'gprs': 1, '09065174042': 2, '09094100151': 1, 'bread': 2, 'muz': 8, 'texd': 1, 'lotz': 1, 'chinese': 3, 'becoz': 4, '4thnov': 1, 'different': 7, '82277': 6, 'v': 38, 'kerala': 6, 'sang': 1, 'decision': 4, 'nacho': 1, 'grocer': 1, 'capital': 2, '09063442151': 1, 'vth': 1, 'real1': 1, 'dogging': 6, 'afford': 1, 'drink': 18, 'servs': 1, '11': 15, 'pod': 4, 'sake': 2, 'max£7': 3, 'placed': 1, 'img': 1, 'approaching': 1, 'sankatmochan': 1, 'superb': 2, 'smsing': 1, 'friendship': 20, 'anthony': 2, 'immunisation': 1, 'giggle': 1, 'somtimes': 2, 'insect': 1, '4a': 2, 'sen': 2, 'owe': 1, 'shocking': 2, 'guide': 6, 'raised': 1, 'box95qu': 2, 'aphex\\x92s': 1, '69969': 1, 'smoking': 3, 'advisor': 1, 'daywith': 1, 'jenne': 1, 'rec': 2, 'entertain': 1, 'sterling': 1, '80': 1, 'getting': 40, 'ie': 1, 'discreet': 2, 'spageddies': 1, 'romcapspam': 1, 'horrible': 4, 'curtsey': 1, 'village': 2, 'devouring': 2, 'bcm1896wc1n3xx': 2, 'useless': 1, 'appendix': 1, 'dodda': 1, 'arr': 1, 'wisheds': 1, 'laptop': 10, 'rightly': 2, 'a£1': 1, 'person': 41, 'ldew': 7, 'uncut': 1, 'helen': 2, 'scoring': 2, 'worthless': 1, 'mountain': 2, 'dang': 1, 'stop': 116, 'shaking': 1, 'save': 9, 'unless': 5, 'unbreakable': 2, '674': 2, 'feb': 5, 'strain': 1, 'sausage': 1, 'forgotten': 2, 'rebtel': 1, 'ibn': 2, 'assumed': 1, 'avin': 1, 'rudi': 1, 'staring': 1, '08708034412': 2, 'warning': 2, '113': 1, 'unni': 1, 'tocall': 1, 'scold': 1, 'fab': 2, 'admission': 1, 'attached': 2, 'fluid': 1, 'engagement': 1, 'quitting': 1, 'gotbabes': 1, 'bcz': 1, '114': 2, 'hrishi': 2, 'model': 6, 'enemy': 4, 'chit': 1, 'whilltake': 1, 'jeevithathile': 1, 'vikky': 7, 'remb': 1, 'reduce': 1, 'plaza': 2, 'managed': 2, 'fight': 6, 'eg': 9, 'refused': 3, 'lac': 2, 'eldest': 1, 'guy': 42, 'news': 15, 'nic': 2, 'nxt': 5, 'register': 3, '83332': 1, 'macleran': 1, 'iff': 1, 'expecting': 4, 'med': 5, 'allday': 1, 'w1j6hl': 10, 'pandy': 2, 'wld': 2, 'jelly': 1, 'raviyog': 1, 'agree': 1, 'grr': 1, 'texted': 2, 'torture': 1, 'wml': 2, '850': 1, 'shared': 1, '88888': 1, 'fujitsu': 2, 'ptbo': 3, '12hrs': 13, 'fren': 4, 'selection': 3, '82242': 2, 'possibly': 1, 'evry1': 1, 'unit': 1, 'argue': 1, 'official': 5, 'wkg': 2, 'height': 3, '7am': 1, 'around': 49, 'either': 15, 'exeter': 2, 'openin': 1, 'redeemed': 10, 'beggar': 1, '24m': 1, 'drive': 13, 'moral': 8, 'favourite': 2, 'tron': 1, 'reppurcussions': 1, 'tonght': 1, 'meatball': 1, 'picsfree1': 1, 'hairdresser': 1, 'mmmm': 2, 'chat': 38, 'kidz': 4, 'registration': 1, 'moved': 2, 'mr': 10, 'university': 1, 'macha': 1, 'pound': 23, 'picking': 8, '86688': 15, 'galileo': 2, 'goldviking': 1, 'speechless': 3, 'asking': 10, 'electricity': 1, 'meaningful': 1, 'hunting': 1, 'acnt': 1, '36504': 6, 'epi': 1, 'saturday': 14, 'sing': 2, 'wont': 26, 'gamestar': 2, '450p': 1, 'accident': 3, 'antha': 1, 'e14': 1, '14': 2, 'ollu': 1, 'much': 83, '150': 6, 'neighbor': 2, 'ithink': 1, 'cross': 3, 'reserve': 2, 'marriage': 5, 'tampa': 8, 'body': 4, 'breathe1': 1, 'fallen': 1, 'agalla': 1, '08714712412': 1, 'bowa': 1, 'thinkthis': 1, 'kid': 7, 'sunoco': 1, 'wikipedia': 1, 'stitch': 1, 'mj': 1, 'dependable': 1, 'axel': 1, 'song': 10, 'disturbance': 1, 'feng': 1, 'cuddled': 1, 'unemployed': 1, 'dont': 116, 'listn': 1, 'helpful': 1, 'whn': 2, '08719180248': 1, 'theplace': 1, 'returning': 1, 'chatting': 2, 'hurried': 2, '820554ad0a1705572711': 1, 'askd': 12, 'txtauction': 5, 'xxxxxx': 1, 'jb': 1, 'vava': 2, '0207': 3, 'studentfinancial': 1, 'stone': 3, 'truly': 3, 'welp': 3, 'disappointment': 1, 'mango': 1, 'goodo': 2, 'lot': 47, 'vday': 2, 'mobno': 2, 'fuelled': 1, 'tue': 1, 'swap': 1, 'upload': 2, 'dogbreath': 1, 'entire': 1, 'mid': 5, 'furniture': 2, 'suffering': 1, 'sleepwell': 1, 'granite': 1, 'pthis': 1, '50rcvd': 1, 'hundred': 3, 'freezing': 3, '09058091854': 2, '09050000555': 1, 'history': 3, 'frens': 6, 'mca': 1, 'amanda': 1, 'nasty': 2, 'yah': 1, 'ingredient': 1, 'reliant': 1, 'dracula': 2, 'stdtxtrate': 1, 'jumper': 1, 'subscription': 4, 'safely': 1, 'achieve': 1, '08': 1, 'document': 1, 'stopbcm': 1, 'eerulli': 1, 'abta': 1, 'cuddle': 3, 'xxxxxxxxxxxxxx': 1, 'connect': 3, 'wtlp': 1, 'ofsi': 1, 'claimcode': 1, 'recorded': 1, 'adress': 1, 'hm': 2, 'sad': 18, 'po19': 1, 'asus': 1, 'wright': 1, 'smsco': 1, 'kidding': 1, 'making': 19, 'txt': 125, 'blessed': 2, 'exchanged': 1, 'diet': 2, 'stable': 1, 'jetton': 1, 'freedom': 1, 'wudn': 1, 'nigeria': 8, 'box39822': 3, 'beating': 1, 'taco': 2, '50pmmorefrommobile2bremoved': 1, 'tlk': 1, 'query': 1, 'barmed': 1, 'pleasured': 1, 'likely': 2, 'anal': 1, 'adventuring': 1, '08714712379': 1, 'cozy': 1, 'cloud': 1, 'dating': 14, 'webeburnin': 1, 'format': 2, 'poly3': 1, 'jsut': 2, 'terminated': 1, 'jacuzzi': 1, '09095350301': 1, 'fal': 1, 'slowing': 1, 'bud': 2, 'starring': 1, 'tenerife': 5, 'slipper': 3, 'carlos': 12, 'postal': 1, 'drunken': 2, 'smiling': 15, 'imin': 1, 'the4th': 1, 'mjzgroup': 1, 'jules': 1, 'mobilesvary': 2, 'tata': 1, 'rest': 9, 'accessible': 1, '864233': 1, 'rodds1': 1, 'cheap': 6, 'depends': 6, 'settling': 1, 'edrunk': 1, 'slave': 6, 'm8': 3, 'nosy': 1, 'anot': 2, 'worry': 27, 'spotty': 1, 'silly': 1, 'attend': 3, 'april': 5, 'superior': 2, 'endof': 1, '2stoptxt': 3, 'ibhltd': 3, 'lodging': 1, 'b': 65, 'kg': 2, 'walsall': 1, 'prompt': 1, 'serious': 5, 'centre': 5, 'laying': 1, 'emailed': 1, 'wil': 16, 'tonight': 47, 'wthout': 1, '09063440451': 1, 'vpod': 1, 'addie': 2, 'missing': 16, 'conference': 1, 'scrumptious': 1, '08000930705': 14, 'imma': 6, 'handsome': 1, 'reacting': 1, 'swoop': 1, 'nosh': 1, '40mph': 1, 'wa': 3, 'wellda': 1, '09058094455': 1, 'reserved': 1, 'bad': 27, 'division': 1, 'decent': 1, 'matter': 6, 'celebration': 1, 'tat': 7, '09077818151': 1, 'btw': 3, 'e£nd': 1, '09061701851': 1, 'monster': 1, 'payee': 2, 'woould': 1, 'chop': 1, 'fullonsms': 4, '3x£150pw': 1, 'subs16': 1, 'rupaul': 1, 'read': 11, 'market': 1, 'leo': 1, 'cooperative': 1, 'greeting': 3, 'copy': 9, 'sorta': 1, 'low': 2, 'sathya': 1, 'pouch': 1, 'vomit': 2, 'seing': 1, 'wound': 1, 'customersqueries': 1, 'cancel': 7, 'passed': 3, 'girlie': 1, '09090204448': 1, 'ft': 1, '09050001295': 1, 'thanx4': 1, 'clubmoby': 1, 'paris': 3, 'program': 3, 'venugopal': 1, 'tune': 1, 'clarification': 1, 'lyric': 1, 'spree': 6, 'benny': 1, 'aldrine': 1, 'tiwary': 2, 'route': 1, 'spoken': 3, 'ringing': 1, 'planet': 2, 'seen': 10, 'box1146': 1, '3rd': 3, 'sunlight': 1, '731': 1, 'hav': 20, 'cola': 1, '1': 83, 'squatting': 1, 'didntgive': 1, 'vry': 4, 'cable': 1, 'way2sms': 1, 'hopeso': 1, 'jaz': 1, 'easily': 1, 'medicine': 2, '7pm': 4, 'reveal': 8, 'retired': 1, 'grasp': 1, 'lucyxx': 1, '08715203652': 1, 'cute': 7, 'thesmszone': 1, 'perspective': 1, '750': 14, 'east': 2, '09071512433': 2, 'mapquest': 1, 'small': 8, 'arnt': 1, 'achan': 1, '600': 1, '7ws': 1, 'w1a': 1, 'drug': 13, 'matric': 1, 'checkboxes': 1, 'rude': 4, 'pas': 7, 'problum': 1, 'bettersn': 1, 'coz': 21, 'inside': 7, 'bold': 6, 'nature': 5, 'cool': 36, 'performed': 1, 'giving': 5, '09058094597': 1, '08709501522': 1, 'slp': 2, 'yr': 14, 'bank': 7, 'dizzee': 1, 'island': 5, 'win150ppmx3age16': 1, '09': 2, 'nver': 1, 'nah': 7, 'minnaminunginte': 3, 'gei': 1, 'theoretically': 1, '83049': 2, 'bunker': 1, 'heard': 8, 'embarassed': 3, 'sexy': 22, 'rstm': 2, 'cough': 1, '100percent': 1, 'l8rs': 1, '04': 10, 'that2worzels': 1, 'textbook': 1, 'vargu': 1, 'tiring': 1, 'poem': 2, 'wendy': 1, 'astronomer': 1, 'cme': 1, 'wizzle': 1, 'fals': 1, 'beneath': 1, 'chicken': 1, 'outl8r': 1, 'strict': 1, 'life': 54, 'by\\x94leafcutter': 1, 'fell': 2, 'satthen': 1, 'haha': 40, 'darkness': 1, 'guaranteed': 41, '£2000': 16, 'gving': 2, 'owned': 1, 'education': 1, 'fifa': 1, 'prasanth': 1, 'mostly': 2, 'wats': 6, 'angry': 9, '169': 1, 'folk': 1, 'product': 1, 'inning': 2, '09050000301': 1, 'iwas': 1, 'chief': 1, 'sportsx': 1, 'weasel': 1, 'limiting': 1, 'settle': 3, 'twinks': 1, 'semiobscure': 1, 'elliot': 1, 'grooved': 1, 'winnersclub': 1, 'barkley': 1, 'allow': 2, 'bpo': 1, '08708800282': 1, 'upgrading': 1, 'meant': 12, 'suganya': 1, 'harri': 1, 'sooner': 3, 'granted': 1, 'beauty': 2, '7548': 1, 'kisi': 1, 'satisfied': 3, 'luckily': 1, '£400': 2, 'usher': 1, 'exposed': 1, 'brother': 19, 'polyc': 1, 'traffic': 1, 'planned': 7, 'tsunami': 3, '21': 5, 'hurry': 5, 'urination': 1, 'wan': 70, 'basq': 1, 'president': 1, 'isn\\x92t': 1, 'supervisor': 2, 'laxinorficated': 1, 'picture': 4, 'huai': 1, 'ettans': 1, 'teacher': 3, 'randomly': 3, 'mojibiola': 1, 'technology': 1, 'un': 10, 'shifad': 1, 'craving': 1, 'lasagna': 1, 'available': 13, 'stopcost': 1, 'back': 116, '300p': 1, 'yaxxx': 1, 'slippery': 1, '177': 1, 'wid': 15, 'rcvd': 6, 'voucher': 27, 'careabout': 1, 'stylist': 1, 'breakfast': 1, 'dudette': 1, '08081263000': 1, 'ta': 13, 'chad': 1, 'note': 5, 'brolly': 1, 'beneficiary': 2, 'following': 6, 'possessiveness': 1, 'sday': 1, 'pudunga': 1, 'hoped': 2, 'twilight': 2, 'woot': 1, '5': 47, 'signin': 1, 'com1win150ppmx3age16': 3, 'submitted': 1, 'dnot': 1, 'yijue': 6, 'mycalls': 1, 'door': 9, '–': 3, 'although': 2, 'verified': 2, 'delayed': 1, 'sheet': 2, 'jen': 4, 'glad': 8, 'length': 2, 'subject': 1, 'inconvenient': 1, '3xx': 1, 'mathematics': 2, 'knee': 1, 'smile': 32, 'yellow': 2, '37819': 1, '4info': 2, '7250': 2, 'spoiled': 2, 'diaper': 1, '1im': 1, 'pic': 24, 'useful': 1, 'whenever': 9, 'apple': 1, 'ktv': 1, 'xuhui': 3, 'mate': 25, '75max': 1, 'painting': 2, 'memory': 2, 'top': 20, '09058094507': 1, 'arsenal': 1, 'noworriesloans': 1, 'channel': 2, 'shudvetold': 1, 'tone': 40, 'notixiquating': 1, 'lage': 1, 'mone': 1, 'lab': 4, 'track': 5, 'half8th': 1, 'samantha': 1, 'exhibition': 1, 'incredible': 1, 'elsewhere': 3, 'peach': 1, 'subpoly': 3, 'activity': 4, 'waht': 2, 'happens': 7, 'uterus': 1, 'aft': 17, 'regular': 2, 'nothin': 2, 'fieldof': 1, 'tactless': 1, 'nammanna': 1, '88877': 1, 'peace': 3, 'dance': 1, 'box61': 1, 'water': 8, 'missy': 1, 'ding': 2, 'inclusive': 3, 'hari': 1, 'watever': 2, 'swell': 1, 'grown': 1, 'uwana': 1, 'audiitions': 1, 'free': 183, 'nokia6650': 1, 'throw': 3, 'po': 22, 'eaten': 1, 'friendsare': 1, 'tmrw': 1, 'velusamy': 1, 'deleted': 3, 'squeeeeeze': 1, 'msg150p': 2, 'boston': 2, 'w1j': 1, 'ni8': 14, 'confirm': 11, '8077': 2, 'ctter': 1, 'practical': 2, '18': 39, 'hop': 4, 'buff': 3, '2wt': 2, 'moby': 4, 'barred': 1, 'gently': 3, 'cold': 4, '08701213186': 1, 'shes': 1, 'packing': 1, 'money': 48, 'push': 3, '5wq': 1, 'lnly': 1, 'borin': 1, 'scallies': 1, 'org': 1, 'womdarfull': 1, 'instruction': 2, 'aiyah': 4, 'waiting': 49, 'ceiling': 1, 'dislike': 3, 'uptown': 1, '5we': 5, 'c': 130, 'die': 8, 'fast': 15, 'center': 2, '118p': 1, 'vu': 2, 'attention': 1, 'bec': 2, '£5000': 15, '07': 2, 'ajith': 1, 'staying': 7, 'bloke': 3, 'latr': 4, 'someday': 1, 'badly': 1, 'lanka': 1, 'infection': 1, 'hopefully': 5, 'actin': 1, 'aeroplane': 2, 'stupid': 11, 'lovejen': 2, 'duchess': 2, '1956669': 3, '10am': 4, 'wear': 4, 'nike': 1, 'calculation': 1, 'tomeandsaid': 1, '77': 1, 'missin': 2, 'reached': 10, 'appear': 1, 'owl': 1, 'spin': 1, 'k': 91, 'yes': 85, 'sell': 8, 'velachery': 1, 'tirupur': 3, 'goigng': 1, '18yrs': 3, 'page': 10, '7732584351': 1, 'kintu': 1, 'peep': 1, 'revealed': 4, 'calld': 2, 'ijust': 1, 'bought': 5, 'bognor': 1, 'say': 89, '08715203028': 1, 'remain': 4, 'prabu': 1, 'follow': 1, 'swimsuit': 1, 'arng': 2, '08002986030': 2, 'yalru': 1, 'misscall': 1, 'txtstar': 1, 'light': 9, 'wow': 11, 'shah': 1, 'ugadi': 1, 'nri': 1, 'bought\\x94braindance\\x94a': 1, 'rdy': 1, 'n': 98, 'cashbin': 1, 'album': 3, 'learned': 1, 'smart': 2, 'speed': 2, 'spreadsheet': 1, 'playng': 1, 'phone': 112, 'september': 1, 'pest': 1, '85222': 1, 'fine': 38, 'tightly': 1, '449050000301': 1, 'gibbs': 1, 'needy': 1, 'synced': 1, 'shite': 1, 'degree': 2, 'ultimatum': 1, 'brownie': 1, 'concentrate': 3, 'sha': 4, 'speak': 29, 'shortage': 2, 'dessert': 1, 'holy': 1, 'cartoon': 3, 'stamped': 1, 'rhode': 1, 'leftover': 1, 'asks': 4, 'dileep': 1, 'happenin': 1, 'reading': 12, 'rather': 6, 'camry': 1, '0871212025016': 1, 'scrappy': 1, '6230': 1, '6zf': 1, 'within': 11, 'decided': 15, 'monoc': 1, '4utxt': 1, 'attended': 1, 'mom': 18, 'add': 7, 'fiend': 1, 'patent': 1, 'sold': 1, 'hoo': 1, 'bt': 27, 'master': 2, 'evone': 1, '81303': 3, 'souveniers': 1, 'understood': 3, 'onam': 1, 'dinner': 28, 'special': 40, 'lounge': 3, 'cream': 4, 'moseley': 1, 'bird': 5, 'drunkard': 1, 'frndshp': 1, 'pub': 18, 'desparate': 2, 'uniform': 1, 'ax': 1, 'as': 10, 'accomodations': 1, 'gim': 3, 'daily': 6, 'box334sk38ch': 1, 'sitting': 7, '4041': 1, 'lotto': 1, 'sol': 7, 'increase': 1, 'gaze': 1, 'i\\x92ve': 1, 'noice': 1, 'belt': 1, '87239': 4, 'plaid': 1, 'profit': 3, 'crickiting': 1, '1b6a5ecef91ff9': 1, 'us': 1, 'diwali': 2, 'txttowin': 2, 'bonus': 14, 'topic': 1, 'club4': 1, 'imagination': 1, 'ü': 115, 'effect': 3, 'problms': 1, '08452810071': 1, 'oncall': 1, 'dreamz': 1, 'belovd': 4, 'carton': 1, 'visitor': 2, 'gdeve': 1, 'somerset': 1, 'fringe': 2, 'buying': 7, 'marrge': 1, '3qxj9': 3, 'help': 45, 'uncle': 15, 'chap': 1, 'pours': 2, 'ugo': 1, 'sambar': 1, 'response': 3, 'jd': 2, 'absolutly': 1, 'crowd': 1, 'attraction': 1, 'adewale': 1, '07880867867': 1, 'alwa': 1, 'ahmad': 6, 'vewy': 1, 'olage': 1, 'whore': 1, 'dosomething': 1, 'jason': 3, 'eckankar': 1, '8': 25, 'alle': 1, '£1000call': 1, 'christian': 1, 'amy': 2, 'vibrate': 1, 'pink': 2, '2geva': 1, 'debating': 1, 'bet': 3, 'emc1': 1, 'muchand': 1, 'h': 3, 'gona': 2, 'representative': 7, 'beware': 2, 'horny': 5, 'spook': 2, 'believe': 17, 'tiny': 1, 'sooo': 1, 'ugh': 8, '08717890890£1': 1, 'chex': 1, 'ring': 18, 'decimal': 17, 'weddin': 1, 'woken': 1, 'vilikkam': 1, '5k': 1, 'punch': 1, 'ti': 5, 'nora': 1, 'merry': 9, 'wipro': 2, '0089': 1, 'racal': 1, 'bcums': 3, '9t': 2, 'juicy': 2, 'bbdeluxe': 1, 'da': 108, 'upd8': 2, '09066368470': 1, 'sura': 3, 'replied': 6, 'wherevr': 1, 'allows': 1, 'textoperator': 1, 'review': 4, 'south': 7, 'unjalur': 1, 'serena': 1, 'period': 3, 'weekend': 34, 'profile': 2, 'cheaper': 3, 'wishlist': 1, 'device': 1, 'doke': 1, 'pair': 1, 'funk': 1, 'fifth': 1, 'afterwards': 1, 'nz': 1, 'cousin': 2, 'skye': 1, 'minmobsmore': 1, 'xxxx': 4, 'look': 32, 'or': 1, 'heal': 1, '69988': 1, 'fifteen': 4, 'lancaster': 1, 'sar': 2, 'rv': 1, 'sun': 12, '09057039994': 1, 'lk': 2, 'wrnog': 2, 'greatly': 1, 'unintentional': 1, 'minuts': 4, 'changed': 5, 'msging': 2, 'gifted': 1, 'bang': 2, 'disease': 1, '350': 2, 'nutter': 1, 'poop': 2, 'want': 174, '4xx26': 1, 'popping': 1, 'mah': 8, 'site': 3, 'steve': 1, 'pause': 1, 'fetch': 4, 'eta': 2, 'turn': 10, 'msg': 104, 'watch': 28, 'usually': 6, 'jam': 1, '80062': 4, 'mention': 1, 'organise': 1, 'split': 1, 'banter': 1, 'aspect': 1, 'babysitting': 1, 'poured': 1, 'parade': 1, 'soooo': 1, 'mys': 1, 'happiness': 10, 'lov': 1, 'fuuuuck': 1, 'carly': 1, 'colour': 19, 'allalo': 1, 'overdose': 1, 'head…': 1, 'doubt': 1, 'shirt': 6, 'morning': 66, 'u4': 2, 'every': 48, 'theyre': 1, 'selfish': 2, 'ipads': 1, 'spending': 4, 'pharmacy': 1, 'franyxxxxx': 1, 'abuser': 1, 'nanny': 1, 'baby': 26, '1winawk': 1, 'peaceful': 1, 'mtnl': 1, 'upset': 3, 'sale': 7, 'weakness': 2, 'sac': 1, 'fuckinnice': 1, 'saved': 4, 'sending': 8, 'everywhere': 2, 'checkin': 1, 'impression': 1, '2rcv': 2, 'nalli': 1, 'idiot': 4, 'remind': 3, 'zoom': 1, 'floor': 3, 'evey': 1, 'eurodisinc': 1, 'alcohol': 2, 'shame': 4, 'okden': 1, 'pass': 1, 'pilate': 6, 'go2sri': 1, '150pm': 4, 'finished': 17, 'least': 10, 'movie': 21, '07090201529': 1, 'hmmross': 1, 'sane': 1, '420': 1, 'cal': 4, 'know': 203, 'potential': 2, 'voted': 1, 'dis': 19, 'yeovil': 1, '82468': 1, 'lunch': 33, 'cost': 28, 'frndship': 4, 'everyday': 1, 'medical': 5, 'badrith': 1, 'exe': 1, 'housewife': 1, 'gbp': 2, 'prescribed': 1, 'appreciated': 2, 'finance': 1, 'denying': 1, 'somewheresomeone': 1, 'manda': 3, 'aah': 3, 'killed': 2, 'pride': 2, '08002986906': 3, 'started': 16, 'i\\x92l': 1, '2u2': 1, 'clubsaisai': 1, 'rinu': 1, 'urgnt': 4, 'unnecessarily': 1, 'computer': 8, 'duvet': 1, 'predictive': 1, 'cutter': 1, 'hello': 38, 'xafter': 1, 'thursday': 4, 'opportunity': 4, 'freaked': 1, 'it\\x92s': 2, 'avalarr': 1, 'k61': 1, 'amla': 1, 'await': 17, '24hrs': 2, 'freefone': 4, 'safe': 8, '3mobile': 1, 'usb': 1, 'street': 9, 'pg': 2, 'voila': 1, 'infra': 1, 'ducking': 1, 'enjoyed': 3, 'faggot': 1, 'mobile': 112, 'munsters': 2, '08712300220': 3, 'punj': 1, 'rcd': 1, 'snake': 2, 'crossing': 1, 'victor': 1, 'rich': 2, 'engaged': 1, 'upgrdcentre': 1, '4217': 1, 'burden': 1, 'hopeful': 1, 'address': 19, 'meow': 1, 'dumb': 1, 'well': 93, 'ctla': 1, 'somone': 1, 'witin': 1, 'singing': 2, 'asthere': 1, 'wind': 3, 'aunt': 2, 'ummmmmaah': 2, '0871': 2, 'boltblue': 1, 'maat': 1, 'sink': 1, 'oops': 9, 'armand': 4, 'stress': 2, '£10': 8, 'understand': 12, 'jock': 1, 'wondar': 1, 'recharge': 1, 'rugby': 1, 'burning': 2, '87070': 1, 'tap': 2, 'fo': 1, 'apnt': 1, 'install': 1, 'celebrated': 1, 'flirt': 4, 'director': 1, 'ripped': 1, 'related': 1, 'tight': 2, 'laughing': 4, 'pobox': 13, 'weaseling': 1, 'yay': 4, 'form': 3, 'dormitory': 1, 'wednesday': 5, 'court': 1, 'supposed': 10, 'predicting': 1, 'birthdate': 1, 'moan': 3, 'aathi': 4, 'inner': 1, 'wall': 3, 'w': 15, 'age23': 2, 'dignity': 2, 'nat27081980': 2, 'esplanade': 3, 'smth': 9, '50gbp': 3, 'doesdiscount': 1, 'yummmm': 1, 'nitz': 1, '9pm': 3, 'vco': 1, 'weigh': 2, 'soft': 3, 'foreign': 2, 'shanil': 1, 'ola': 2, 'inr': 1, 'determined': 1, 'happier': 1, 'pee': 2, 'identification': 1, 'thru': 8, 'turkey': 1, 'considering': 3, 'click': 4, 'bluray': 1, 'approx': 1, 'cast': 1, 'league': 1, 'smoked': 1, 'fran': 3, 'driving': 13, 'ibm': 1, '£2': 10, 'super': 4, 'ls278bb': 1, 'evil': 1, 'janx': 1, 'manageable': 1, 'sehwag': 1, 'ashley': 2, 'spacebucks': 1, 'part': 23, '6wu': 2, 'draw': 40, 'bloo': 1, 'arun': 3, 'pix': 8, 'sometime': 3, 'comfey': 1, 'noe': 15, 'ooooooh': 1, 'figure': 10, 'sipix': 5, 'ú1': 1, 'avent': 3, 'china': 3, '83222': 3, '09099726429': 1, 'sachin': 3, 'soon': 50, 'kanagu': 1, 'dancce': 1, '08719899230': 1, 'thekingshead': 1, 'teeth': 3, 'sh': 2, 'weight': 5, 'hogli': 1, 'teaching': 2, 'infernal': 4, 'patient': 1, 'sashimi': 1, 'leona': 4, 'goggles': 1, 'accept': 5, 'pale': 1, 'abj': 2, 'member': 8, '62220cncl': 1, 'liquor': 1, 'maangalyam': 2, 'panty': 1, 'nap': 3, 'driver': 2, 'sacrifice': 2, 'linerental': 3, 'jealous': 1, 'maruti': 1, 'excuse': 7, 'mist': 1, '0808': 3, 'stoner': 1, 'nearby': 1, 'nigh': 1, 'lag': 2, 'sumthin': 1, 'dob': 1, 'ritten': 1, 'starting': 8, 'forgiven': 2, 'shower': 11, 'ringtones': 7, 'boob': 1, '09064019014': 2, 'accounting': 1, 'siguviri': 1, 'joke': 6, 'hol': 2, 'melt': 2, 'talent': 2, 'agent': 2, 'smiley': 1, 'carryin': 1, 'dent': 1, '£79': 1, 'flatter': 1, 'absence': 1, 'random': 5, 'online': 19, '150p16': 1, 'waste': 4, 'stock': 4, 'mokka': 1, 'lotsof': 1, 'prestige': 1, 'sponsor': 1, 'cherish': 2, 'recharged': 1, 'praying': 3, '7250i': 1, 'credited': 4, 'highest': 1, 'day': 209, 'tough': 5, 'wondering': 7, 'payoh': 2, 'esaplanade': 1, 'xam': 2, '40gb': 6, 'fever': 3, 'lose': 10, 'purity': 4, 'morphine': 3, 'stomp': 1, 'closer': 4, 'mind': 31, 'sutra': 1, 'virtual': 1, 'complacent': 1, 'urgh': 1, 'smear': 1, 'bcum': 1, 'tantrum': 1, 'flower': 4, 'ericsson': 2, 'man': 36, 'pl': 1, 'ice': 8, '61': 1, 'awaiting': 5, 'scenario': 1, 'ruining': 1, 'abel': 1, 'promoting': 1, 'grinder': 1, 'unconscious': 1, 'wun': 6, 'onwards': 3, 'plyr': 1, 'adore': 3, 'outdoors': 1, 'rock': 10, 'road': 8, 'sorted': 3, 'sathy': 1, 'shijutta': 1, 'a30': 1, 'energy': 6, 'geeee': 5, 'unspoken': 1, '08081560665': 2, 'order': 17, 'bcm4284': 2, '09061104276': 1, 'phne': 2, 'varunnathu': 1, 'gandhipuram': 1, 'accordingly': 3, 'else': 17, 'deck': 1, 'sorrow': 2, 'gm': 5, 'replacement': 2, 'maybe': 25, 'voice': 9, 'that\\x92scool': 1, 'resizing': 1, 'thrown': 1, '08715705022': 2, 'dysentry': 1, 'ko': 1, 'talk': 38, 'ibh': 2, '09066358361': 1, 'looovvve': 1, 'mailbox': 1, 'fromm': 4, '9307622': 1, 'mmm': 4, 'ese': 3, 'downloaded': 1, 'spell': 2, 'northampton': 2, 'wheat': 1, 'reminding': 2, 'graphic': 1, 'ikea': 3, 'darling': 7, 'enufcredeit': 1, 'pmt': 1, 'babysit': 1, 'kegger': 2, 'occurs': 1, 'cricket': 1, 'landing': 1, '800': 11, 'pract': 1, 'along': 3, 'haven\\x92t': 2, 'bedroom': 6, 'slap': 2, 'unlimited': 11, 'independence': 1, 'molested': 1, 'jamz': 1, 'checking': 10, 'check': 35, 'ctargg': 1, 'novelty': 1, 'snuggle': 1, 'table': 2, 'piece': 4, '4give': 1, 'qatar': 5, 'ne': 2, 'em': 9, '8000930705': 1, 'sometext': 1, 'lucky': 15, 'dearer': 3, 'secret': 12, 'nb': 2, 'significant': 1, 'zaher': 1, 'billion': 2, '930': 2, 'charity': 2, '£75': 3, 'til': 23, 'truck': 2, 'stranger': 3, 'q': 4, 'senrd': 1, '4msgs': 1, 'asjesus': 1, 'cereal': 1, 'apply': 26, 'shining': 2, 'old': 15, 'nydc': 1, 'help08700621170150p': 1, 'sticky': 2, 'spam': 1, '83435': 1, 'crucial': 1, 'th': 13, 'buffet': 2, 'silver': 2, '0789xxxxxxx': 1, 'blonde': 2, 'safety': 1, 'role': 6, '7ish': 1, 'mn': 1, 'seat': 2, 'smsservices': 1, 'hitter': 1, 'promptly': 1, 'original': 4, 'dorm': 2, 'html': 1, 't4get2text': 1, 'shipped': 2, 'icicibank': 2, 'bull': 1, 'inlude': 1, 'photo': 10, 'wake': 23, 'styling': 1, 'field': 2, 'copied': 1, 'fuck': 24, 'closed': 5, 'notebook': 1, 'fails': 1, 'txts': 9, 'blur': 1, 'steam': 2, 'buzz': 5, 'fill': 7, 'faded': 1, '89938': 1, 'hit': 12, 'okday': 1, 'forwarding': 1, 'hav2hear': 1, 'kodthini': 1, 'kavalan': 2, 'cantdo': 1, 'a£50': 1, 'pull': 3, '528': 1, 'price': 19, 'amt': 4, 'taxt': 1, '6missed': 1, 'overheating': 1, 'wt': 2, '08000776320': 2, 'conform': 1, 'plum': 1, 'mu': 13, 'function': 2, 'praveesh': 1, 'lip': 3, 'juswoke': 1, 'repeat': 2, 'visit': 12, 'smashed': 2, 'deduct': 1, '11pm': 3, 'ahead': 7, 'watevr': 1, 'happening': 7, 'ore': 1, 'confused': 1, 'rct': 1, 'j': 6, 'helloooo': 2, 'fave': 2, 'prepaid': 1, 'sindu': 1, 'dieting': 1, 'mornin': 2, 'nh': 1, 'pillow': 1, 'fps': 1, 'contented': 1, 'machi': 1, 'changing': 1, 'havbeen': 1, 'loxahatchee': 2, 'rain': 7, 'for£38': 1, 'elaborate': 1, 'hsbc': 2, 'arranging': 1, 'gynae': 1, '30th': 1, 'responding': 3, 'popcorn': 1, 'coaxing': 1, 'remembered': 2, 'ex': 9, 'brah': 2, '66': 1, 'seeing': 13, 'chillin': 3, 'except': 6, 'stagwood': 1, 'password': 4, 'morefrmmob': 1, 'healer': 1, '872': 1, '07099833605': 1, 'redeemable': 1, 'tool': 2, 'affection': 4, 'theater': 1, 'violated': 1, '1327': 4, 'restocked': 1, 'sun0819': 1, 'etlp': 1, 'fathima': 2, 'bedbut': 1, 'chapter': 1, 'careful': 3, 'aint': 2, 'pure': 1, '1000': 4, 'month': 35, '〨ud': 1, 'pongal': 2, 'server': 1, 'addamsfa': 2, 'meal': 5, 'relationship': 1, 'tolerance': 1, 'stolen': 1, 'goodnite': 2, '500': 20, 'somewhat': 1, 'carlin': 1, 'randomlly': 1, 'died': 5, '5p': 2, 'pocay': 1, 'loo': 1, 'idea': 10, 'cutie': 1, 'knowing': 3, 'opposite': 1, 'respect': 4, '2nhite': 1, 'spoke': 6, 'cleaning': 4, 'poorly': 1, 'tcr': 2, 'definitly': 1, 'lock': 2, 'tkts': 4, 'ccna': 1, 'bx420': 5, '140ppm': 1, 'biz': 5, 'ammo': 1, 'reality': 1, '£33': 2, 'legitimat': 1, 'go': 229, 'red': 9, 'known': 1, 'shoppin': 2, 'cruise': 3, 'wrc': 2, 'tariff': 4, 'vouch4me': 1, 'nobbing': 1, 'spile': 2, 'r836': 1, 'struggling': 1, 'upping': 1, 'athome': 1, 'shipping': 2, 'mei': 2, 'loss': 3, 'heading': 2, 'face': 19, '6days': 1, 'daaaaa': 1, 'england': 8, 'inperialmusic': 1, 'westshore': 1, 'aom': 1, 'milk': 3, 'vomitin': 1, 'uneventful': 1, 'gnarl': 1, '8714714': 1, 'billing': 1, 'sall': 1, 'goal': 1, 'can\\x92t': 1, 'befor': 3, 'machan': 3, 'survey': 2, 'captaining': 1, '910': 1, 'nyc': 3, 'rajitha': 1, 'king': 6, '£71': 1, 'begging': 1, 'checkmate': 1, 'jide': 1, '2667': 1, 'arrive': 6, '7th': 3, 'paid': 2, 'unintentionally': 1, 'cum': 11, 'khelate': 1, 'pear': 1, '23f': 1, 'vill': 1, '09066380611': 2, 'cricketer': 2, 'storming': 2, 'dlf': 1, 'dave': 3, 'shelf': 3, 'coca': 1, 'self': 7, 'ringtone': 23, 'cashed': 1, 'jaklin': 1, 'ls1': 1, 'shivratri': 1, '3650': 2, 'left': 29, 'phoenix': 2, 'login': 5, 'lovable': 10, 'john\\x94': 1, 'woke': 8, 'take': 119, 'link': 6, '8883': 1, 'sentiment': 1, 'professor': 2, 'quickly': 3, 'unfortuntly': 1, 'gudnyt': 1, 'timing': 4, 'gek1510': 1, 'st': 9, 'tmorow': 1, 'complimentary': 8, 'speedchat': 1, 'reader': 2, 'adjustable': 1, 'positive': 1, 'seriously': 7, 'thy': 2, 'mistake': 9, 'cuck': 1, 'surly': 1, 'taking': 16, 'euro2004': 5, 'jabo': 1, 'cbe': 3, 'men': 9, 'syrup': 1, 'appreciate': 7, 'raglan': 1, '21st': 2, 'bluff': 2, 'meetin': 4, 'tho': 14, 'ahold': 1, '85555': 1, 'tscs08714740323': 1, 'needed': 3, 'm26': 3, 'ovr': 1, 'bribe': 1, 'suit': 1, 'andros': 2, 'sit': 7, 'brilliant': 4, '80082': 2, 'gobi': 1, 'nope': 12, '09061221066': 4, 'dual': 1, 'performance': 1, 'lololo': 1, 'emergency': 1, 'list': 4, 'sleep': 47, 'tming': 1, 'chess': 1, '0quit': 1, 'fb': 3, 'fiting': 1, 'improved': 2, 'chg': 1, 'cheque': 1, 'doggy': 1, 'renewing': 1, 'fredericksburg': 1, 'mobilesdirect': 3, 'bathing': 3, 'blackberry': 4, '09066362206': 1, 'wildlife': 1, 'lubly': 1, 'trash': 1, 'purse': 2, 'no1': 7, 'treasure': 1, '310303': 1, 'fightng': 3, 'badass': 1, '08712404000': 1, 'class': 36, 'bishan': 3, 'blanket': 2, 'swtheart': 3, 'description': 1, 'lor': 116, 'deliver': 3, 'canname': 1, 'listening2the': 1, 'textbuddy': 2, 'hava': 1, '08718738002': 1, 'keen': 1, 'level': 1, 'blu': 1, 'gv': 2, 'shangela': 1, 'speeding': 2, 'asked': 25, 'cocksucker': 1, 'wrks': 1, 'waqt': 1, 'tones2you': 2, 'mac': 3, '4w': 1, '4eva': 2, 'pretsovru': 1, 'washob': 1, 'forgets': 1, 'feathery': 1, 'poor': 6, '1yf': 1, '09071512432': 1, 'ennal': 1, 'aig': 1, 'rule': 3, 'forgot': 27, 'rob': 1, 'social': 3, '0870753331018': 1, 'gumby': 1, 'pleasure': 6, 'puttin': 2, 'outta': 3, 'brisk': 1, 'lvblefrnd': 3, 'notxt': 1, 'erm': 2, 'bedreal': 1, 'sight': 4, 'gam': 1, 'fudge': 1, 'sam': 4, 'verify': 2, 'akon': 1, '30pp': 2, 'actor': 2, 'telling': 8, 'usf': 11, 'lyk': 1, 'system': 4, '30ish': 2, 'devil': 1, 'pig': 4, 'knw': 11, 'avoiding': 2, 'merely': 1, 'wait': 55, 'iam': 5, 'passion': 1, 'eek': 2, '£125': 1, 'delicious': 1, 'ip': 1, 'otside': 2, 'tagged': 1, 'wrking': 1, 'remembrs': 1, 'sigh': 6, 'record': 7, 'barrel': 1, 'optin': 1, 'ba128nnfwfly150ppm': 1, 'randy': 2, 'cutefrnd': 3, 'panalam': 1, 'footprint': 1, 'snatch': 1, 'remember': 26, 'replacing': 1, 'pt2': 1, 'coincidence': 1, 'sullivan': 1, 'buy': 46, 'quick': 5, 'nokias': 2, 'religiously': 1, 'glory': 1, 'index': 2, 'paperwork': 1, 'skillgame': 3, 'lick': 3, 'hut': 1, 'skilgme': 3, 'prakasam': 1, 'jess': 3, 'prepare': 3, 'closeby': 1, 'honest': 1, 'mmmmm': 2, 'gbp1': 1, 'hanumanji': 1, 'geeeee': 2, 'charge': 18, 'groovying': 1, 'wenever': 1, 'ec2a': 3, 'persolvo': 1, '25p': 6, 'of£2000': 2, 'wan2': 2, 'listen': 12, 'waliking': 1, 'symptom': 1, 'running': 4, 'hillsborough': 1, 'biro': 1, 'naal': 1, '7oz': 1, 'percent': 1, 'cappuccino': 2, 'ah': 29, 'dirty': 3, 'nickey': 1, 'he\\x92s': 1, 'october': 1, 'toyota': 1, 'chick': 1, 'hopeing': 1, 'break': 14, '000pes': 1, 'yar': 10, 'sack': 1, 'imp': 1, 'heat': 1, 'punto': 1, 'blown': 1, '2day': 8, 'suprman': 2, 'vip': 3, 'doubletxt': 1, 'tsandcs': 1, 'search': 10, 'svc': 1, '2006': 1, 'sum': 2, 'needa': 1, 'dec': 1, 'dancin': 1, 'abuse': 1, 'congrats': 16, 'hen': 1, 'star': 1, 'tlp': 3, 'meg': 1, 'acknowledgement': 1, 'box334': 1, 'psychologist': 1, '09061749602': 1, 'compromised': 1, 'career': 4, 'dem': 4, 'laundry': 2, 'maga': 3, 'jenxxx': 1, 'blessing': 4, 'didnt': 26, 'questioned': 2, 'icon': 1, 'bathe': 9, 'tm': 6, 'spain': 1, 'fakeye': 1, 'announced': 1, 'oi': 1, 'sitter': 1, 'am': 1, 'laugh': 9, 'least5times': 1, '09050002311': 2, 'dancing': 2, 'evn': 2, 'pen': 2, 'guild': 1, 'flim': 1, 'freaking': 1, 'open': 14, '3mins': 3, 'weekly': 20, 'transfr': 2, '4brekkie': 1, 'unredeemed': 3, 'o2': 6, 'proof': 3, 'dbuk': 1, 'talking': 9, 'salmon': 1, 'zogtorius': 1, 'saying': 14, 'nigpun': 1, 'proove': 1, '92h': 1, 'angel': 1, 'yan': 4, 'lux': 2, 'roomate': 1, 'p£3': 1, 'rubber': 1, 'derek': 4, 'thasa': 1, 'indeed': 1, 'smartcall': 1, '2nd': 22, 'caroline': 2, 'front': 2, 'europe': 2, 'ppm': 3, 'week': 98, 'couldn\\x92t': 1, 'baaaaabe': 1, 'trip': 11, 'unable': 5, 'surely': 5, '89123': 1, 'justfound': 1, 'theme': 1, 'loved': 10, 'nonetheless': 1, 'living': 4, 'comp': 11, 'able': 21, 'yavnt': 1, 'cuddling': 2, 'sunday': 10, 'ppm150': 1, 'crammed': 1, 'sux': 1, '08719899217': 1, 'loose': 1, 'franxx': 1, 'promise': 9, 'sayhey': 1, 'kalstiya': 1, 'somethin': 4, 'omw': 7, 'whisper': 1, 'status': 2, 'hottest': 1, 'homeowner': 3, '47': 1, 'di': 3, 'corect': 1, 'tyrone': 3, 'call09050000327': 2, 'bristol': 2, 'contention': 1, 'classmate': 1, 'izzit': 7, 'ibuprofen': 1, 'hee': 9, '08701417012150p': 2, '50perweeksub': 1, 'urfeeling': 1, '31': 2, 'law': 5, 'machine': 1, 'conduct': 1, 'appointment': 3, 'glorious': 1, 'detailed': 1, 'meive': 1, 'justthought': 1, 'new': 111, 'motivate': 1, 'govt': 3, '67441233': 1, 'exhausted': 2, 'hey': 94, 'tex': 1, 'shldxxxx': 1, 'kate': 9, 'contract': 5, 'kitty': 1, 'expect': 3, 'blimey': 1, 'tulip': 1, 'terrorist': 2, 'sw7': 2, 'fret': 2, 'ymca': 1, 'outside': 10, 'aletter': 1, 'enjoy': 31, 'coat': 1, 'sinco': 2, 'also': 58, 'tke': 1, 'stressfull': 1, 'formal': 1, 'cheek': 1, 'nooooooo': 1, 'pa': 27, 'windy': 1, 'activate': 5, 'venaam': 1, 'cap': 1, 'avo': 1, 'r': 127, 'lotr': 2, 'gray': 1, 'thats': 36, 'good': 202, 'orchard': 7, 'remains': 1, 'lush': 2, '145': 3, 'hallaq': 2, 'female': 1, 'inshah': 1, 'property': 2, 'ishtamayoo': 1, 'hint': 1, 'latelyxxx': 1, 'famamus': 1, 'brought': 4, 'stuff': 37, 'sucker': 1, 'breeze': 1, 'yogasana': 3, 'weed': 7, '85': 2, 'lf56': 2, 'lead': 4, 'forgive': 1, 'he': 2, 'associate': 1, 'nottingham': 1, 'first': 56, 'csbcm4235wc1n3xx': 3, 'cnupdates': 1, 'signing': 2, 'offered': 1, 'annoying': 2, 'code': 23, 'bb': 8, '鈥┾': 1, 'minmobsmorelkpobox177hp51fl': 3, 'tscs': 3, 'planettalkinstant': 1, 'coffee': 8, '81151': 3, '09066649731from': 1, 'nte': 1, 'jokin': 2, 'mids': 2, 'pissed': 5, 'boggy': 1, 'stand': 7, 'convey': 9, 'orig': 2, 'noon': 11, 'result': 7, 'lesser': 1, 'mindset': 1, 'punishment': 1, 'nan': 1, 'sugardad': 1, 'hdd': 1, 'starve': 1, '9153': 1, '50p': 7, 'horniest': 1, 'newsletter': 1, 'sk3': 3, 'lyf': 1, 'calculated': 1, 'tix': 1, 'ileave': 1, 'five': 5, 'bevy': 1, 'damn': 6, 'cinema': 7, 'james': 2, 'imposed': 1, 'smeone': 1, 'mag': 2, 'cr01327bt': 1, 'word': 55, 'panther': 1, 'breather': 1, 'run': 21, 'messaging': 1, 'abnormally': 1, 'alaikkum': 1, '83110': 1, 'transfred': 1, 'moon': 5, 'luv': 25, 'movietrivia': 2, 'hugging': 1, 'kaiez': 1, 'mobstorequiz10ppm': 1, 'flung': 1, '09061213237': 1, 'bong': 1, 'quite': 25, 'iriver': 1, 'possibility': 1, 'appeal': 1, 'evng': 5, '24th': 1, 'four': 3, 'msgrcvd': 1, 'konw': 2, '0776xxxxxxx': 2, 'urmom': 1, 'rent': 7, 'multimedia': 1, 'possessive': 1, 'jez': 1, 'kz': 1, 'predict': 1, 'moving': 2, 'thnk': 5, 'handle': 3, 'mall': 1, 'shaved': 1, 'drinking': 3, 'appt': 3, 'drum': 1, 'perf': 1, 'compass': 1, 'deny': 1, 'portal': 1, 'uwant': 1, 'alwys': 2, 'snowball': 1, '87077': 4, 'suzy': 2, 'perfect': 3, 'spare': 3, 'corporation': 1, 'bigger': 2, 'writhing': 1, 'wrecked': 1, 'beer': 2, 'corvette': 1, 'greatest': 1, 'rentl': 4, 'cherthala': 1, 'hittng': 1, 'pint': 1, 'tension': 2, 'supreme': 1, 'advise': 2, 'husband': 3, 'hypotheticalhuagauahahuagahyuhagga': 1, 'mouth': 2, 'stash': 1, 'inch': 4, 'taj': 1, '40533': 1, '09058094454': 1, 'impatient': 1, 'recieve': 1, 'anythin': 3, 'pack': 4, 'iscoming': 3, 'neither': 2, 'ld': 1, 'pump': 1, 'gym': 10, 'lakh': 1, 'weighed': 1, 'nokia': 39, 'warming': 1, 'fall': 5, 'matured': 4, 'comprehensive': 1, 'dontmatter': 1, 'asusual': 1, 'walking': 5, 'gram': 3, 'bunch': 1, 'bloomberg': 1, 'honi': 1, 'supply': 2, 'disc': 1, 'caveboy': 1, '2stoptx': 1, 'hunt': 1, 'sg': 1, '50ppm': 1, 'park': 11, 'enketa': 1, 'grahmbell': 2, 'latest': 31, 'begin': 6, 'gd': 13, '0721072': 1, '83355': 4, '08718726970': 1, 'annie': 2, 'threw': 2, 'deluxe': 1, 'amazing': 4, 'pc1323': 1, 'pray': 8, 'hont': 1, 'foundurself': 1, 'disastrous': 1, 'slow': 8, 'kickoff': 2, 'poboxox36504w45wq': 1, 'lovely': 11, 'wherre': 1, 'desparately': 1, 'dint': 4, 'popped': 2, 'libertine': 1, 'w1t1jy': 1, 'twelve': 3, 'dad': 26, '09061790126': 1, 'jamster': 1, 'display': 3, 'chennai': 9, 'baaaaaaaabe': 1, 'wet': 4, 'prem': 1, 'parachute': 1, 'bored': 15, 'mission': 1, 'callertune': 5, 'footbl': 1, '3hrs': 1, 'lark': 1, 'christmas': 10, 'detail': 24, 'reward': 6, 'bos': 8, 'entropication': 1, 'round': 7, 'el': 1, 'earliest': 1, 'kanji': 1, 'hooked': 1, 'sens': 1, 'nearly': 3, 'sarasota': 2, 'accent': 1, 'treat': 11, 'art': 5, 'executive': 3, 'dock': 1, 'science': 3, 'definitely': 5, 'suggest': 3, 'express': 2, 'jackson': 1, 'entry41': 1, 'cornwall': 3, 'today': 152, 'apo': 1, 'hg': 8, 'converted': 1, 'mitsake': 2, 'idew': 2, 'strtd': 1, 'realize': 1, '£800': 9, 'mess': 2, '09066660100': 1, 'meh': 6, 'paul': 1, 'petticoatdreams': 1, '382': 1, 'pin': 6, 'skint': 1, 'heehee': 1, 'tissco': 2, 'cost£1': 6, 'addicted': 1, 'birth': 2, 'dog': 6, 'mrt': 8, 'flight': 7, 'gnt': 2, 'c52': 2, 'wotz': 1, 'gnun': 1, 'fortune': 1, 'screaming': 5, 'required': 1, 'mentionned': 1, 'bangb': 1, 'spatula': 1, 'hmph': 1, 'wing': 1, 'nino': 1, 'sony': 7, 'juz': 13, 'darker': 1, 'recycling': 1, 'tp': 1, 'japanese': 2, 'olave': 1, 'adp': 1, '09066358152': 1, 'protect': 2, 'vipclub4u': 1, 'cut': 8, 'yelling': 2, 'answerin': 1, 'stream': 1, 'neva': 14, 'qbank': 1, 'motor': 1, 'india': 10, 'often': 4, '30pm': 1, 'nt': 13, 'real': 29, 'sirji': 1, 'accommodation': 1, 'pobox365o4w45wq': 1, '130': 1, 'yoga': 5, 'bootydelious': 1, 'muhommad': 1, 'datz': 2, 'ceri': 1, 'punish': 1, 'obey': 1, 'scratching': 1, 'heron': 1, 'ups': 1, 'thanx': 25, 'chest': 2, 'there': 1, 'abroad': 1, 'flavour': 1, 'snd': 1, 'bowl': 5, 'datebox1282essexcm61xn': 1, '08718738034': 1, 'best': 27, 'sept': 4, 'deal': 7, 'spider': 1, 'crashing': 1, '08718727870': 4, 'congratulation': 13, 'mystery': 1, 'dental': 1, 'outage': 2, 'fatty': 1, 'amount': 4, 'train': 9, 'mecause': 1, 'mk45': 2, 'tour': 6, 'yi': 1, 'withdraw': 1, '000': 22, 'nurse': 1, 'rearrange': 1, 'saving': 1, 'manual': 1, 'secure': 1, '07808': 1, 'prior': 1, 'posible': 1, 'incorrect': 1, 'stereo': 1, 'lib': 2, 'x49': 1, 'undrstnd': 1, 'cr9': 4, '2hook': 1, 'miracle': 8, 'hogolo': 1, 'wee': 1, 'presnts': 1, 'facebook': 6, 'piss': 2, 'ay': 1, 'creep': 1, 'sexychat': 1, 'cooked': 2, 'havn': 1, 'revision': 1, 'sem': 2, 'ummifying': 1, 'helpline': 1, 'hv': 4, '645': 1, 'june': 3, 'luvs': 2, 'den': 20, 'b\\x92day': 2, '£48': 1, 'eshxxxxxxxxxxx': 1, 'party': 12, 'becaus': 1, 'leave': 46, 'taxi': 2, 'participate': 1, 'celeb': 2, 'getzed': 8, 'sef': 1, 'treble': 1, 'sympathetic': 1, 'petey': 2, 'like': 185, 'eventually': 1, 'watt': 1, 'stadium': 1, 'fancied': 1, 'swan': 1, 'batsman': 1, 'hotmix': 1, 'logo': 5, 'clas': 1, 'toothpaste': 1, 'continued': 1, 'greece': 1, 'dining': 1, 'relax': 5, '09061743386': 2, 'abstract': 1, 'lyricalladie': 1, '09050000878': 1, 'toppoly': 1, 'reallyneed': 1, 'dependent': 1, 'club4mobiles': 1, 'tnc': 2, 'co': 99, 'viva': 2, 'we\\x92ve': 1, 'enna': 1, 'relation': 4, 'despite': 1, 'busy': 17, 'buffy': 1, 'admit': 1, 'x29': 1, 'deviousbitch': 1, 'pobox12n146tf150p': 1, 'brief': 1, 'pose': 1, 'air1': 1, 'oooh': 2, 'untamed': 2, 'retard': 1, 'email': 14, '09064011000': 1, 'eight': 2, 'relieved': 1, '008704050406': 2, 'purpose': 4, 'rightio': 1, 'papa': 1, 'icky': 1, 'fulfil': 1, 'belligerent': 1, '69911': 1, 'workand': 1, 'ganesh': 1, 'erupt': 1, 'everyso': 1, 'fancy': 14, 'heart': 38, 'faglord': 1, 'holiday': 37, 'bian': 1, 'block': 2, 'loko': 1, '45pm': 1, 'lift': 4, 'gossip': 2, 'film': 10, 'path': 1, 'max10mins': 6, 'ave': 8, 'squeezed': 1, 'drms': 1, '8am': 2, 'afghanistan': 1, 'relocate': 1, 'minimum': 1, '28th': 1, '00': 7, 'sorry': 126, 'pretend': 1, 'yetunde': 4, 'expressoffer': 2, 'concern': 1, 'wherever': 4, '84484': 1, 'grandfather': 1, '08002888812': 2, 'ish': 4, 'nuther': 1, 'told': 44, 'convinced': 1, 'spent': 7, 'favor': 2, 'lower': 2, 'posh': 1, 'space': 6, 'camp': 1, 'goodtime': 1, 'hlp': 2, 'frnd': 13, 'bead': 1, 'cash': 57, 'radiator': 1, 'natalja': 2, 'anonymous': 1, 'num': 3, 'j89': 1, 'january': 6, 'nmde': 1, 'shoranur': 1, 'band': 1, 'searching': 4, 'brighten': 1, 'wer': 2, 'eleven': 1, '2025050': 1, 'pobox36504w45wq': 5, 'courage': 1, 'successfully': 1, 'happily': 2, 'contains': 1, '2marrow': 1, 'lousy': 2, '434': 4, 'cl': 1, 'parent': 14, 'manage': 2, 'aroundn': 1, 'festival': 1, 'syd': 1, 'dreading': 1, 'family': 18, 'owns': 2, 'temp': 1, '139': 1, 'fixedline': 1, 'forwarded': 8, 'ayn': 2, 'laden': 1, '121': 2, 'mental': 2, 'ls15hb': 1, 'conveying': 1, 'howard': 2, 'ditto': 1, 'gravy': 1, 'hungover': 1, 'haiz': 2, 'gonnamissu': 1, 'yummy': 3, 'spiffing': 1, 'pansy': 1, 'custcare': 8, 'slept': 6, 'nimya': 5, '86888': 1, 'frwd': 1, 'handing': 1, 'raping': 1, 'dontcha': 1, 'dressed': 2, 'chance': 29, 'renewed': 1, 'account': 29, 'thinking': 13, 'alrite': 6, 'ru': 2, 'technical': 3, 'y87': 1, '087187262701': 3, 'telephone': 1, 'fml': 2, 'starwars3': 2, 'ey': 1, 'may': 43, 'case': 11, 'whatever': 14, 'eye': 10, 'weiyi': 1, 'rahul': 1, 'cann': 3, '07090298926': 1, '87131': 2, 'ba': 1, 'tyler': 5, '021': 2, 'dedicate': 2, 'propsd': 2, 'humanity': 1, 'bein': 3, 'occur': 1, 'close': 16, 'interfued': 1, '373': 1, 'harder': 1, '09053750005': 1, 'racing': 1, 'okies': 1, 'internet': 6, '08715203685': 1, 'taunton': 4, 'gas': 11, 'cupboard': 1, 'proverb': 2, 'shade': 1, 'wrench': 1, 'three': 4, 'request': 11, 'sw73ss': 1, 'prakasamanu': 1, '150ppmpobox10183bhamb64xe': 1, '078498': 1, 'till': 18, 'havebeen': 1, 'people': 42, 'euro': 3, 'vettam': 3, '1st': 31, 'apologise': 3, 'scared': 2, 'firmware': 1, 'wasted': 1, 'wewa': 1, '07732584351': 1, 'temple': 3, 'formatting': 1, 'scotsman': 1, 'meat': 1, 'envelope': 3, 'leg': 4, '087123002209am': 1, '330': 1, '08707500020': 1, 'opening': 3, 'exorcist': 2, 'duo': 1, 'comb': 1, 'answering': 4, 'ending': 7, 'del': 9, 'player': 17, 'spouse': 1, 'defer': 1, 'billed': 2, 'othrwise': 1, 'misbehaved': 1, 'practising': 1, 'dramastorm': 1, 'acid': 1, 'mix': 2, 'predicte': 1, 'kadeem': 3, 'clearly': 1, 'involved': 1, 'selected': 23, 'd3wv': 1, 'qi': 1, '2px': 1, 'skin': 1, 'cafe': 5, 'evry': 1, 'reverse': 2, 'eveb': 2, 'vodafone': 5, 'splendid': 1, 'discount': 6, 'point': 25, 'smack': 1, 'calling': 19, 'whr': 1, 'tirunelvai': 1, '3100': 1, 'fit': 2, 'steed': 1, 'neville': 1, 'however': 6, 'finishing': 3, 'nvm': 5, 'havin': 2, 'castor': 2, '27': 1, 'clock': 1, 'undrstndng': 1, 'squid': 1, 'firsg': 1, 'vega': 1, 'bay': 4, 'conserve': 1, 'lacking': 1, 'motorola': 9, 'shore': 1, 'thangam': 4, 'flew': 1, '80086': 2, 'summon': 1, 'inclu': 1, '09065069120': 1, 'plane': 2, 'jiu': 4, 'paragon': 2, 'letter': 6, 'fish': 3, 'crave': 11, 'paranoid': 1, 'tai': 1, 'wise': 3, 'ignore': 5, 'job': 32, '08717895698': 1, 'mundhe': 1, '£900': 4, '09066382422': 2, 'hiphop': 1, 'everyones': 1, 'orc': 1, 'justify': 1, 'dealer': 1, 'burrito': 1, 'breathing': 1, 'polyph': 2, 'fr': 12, '84025': 1, 'pathaya': 1, '123': 2, 'cave': 1, 'net': 16, 'tkls': 1, 'baig': 1, 'stifled': 1, 'mail': 23, 'expiry': 1, 'moji': 4, 'access': 7, 'alternative': 1, 'mileage': 1, 'persian': 1, 'urgran': 1, 'season': 3, 'cm2': 3, 'hon': 2, 'comin': 11, 'given': 2, '4719': 1, 'river': 1, 'ml': 1, '1hr': 1, 'christ': 1, 'research': 2, 'happy': 73, 'winner': 13, '1120': 1, '\\x93harry': 1, 'cheating': 2, 'messed': 1, 'rgent': 1, '09066362231': 2, 'inspection': 1, 'consider': 2, 'west': 2, 'l': 3, 'cmon': 1, 'provider': 1, '2ez': 1, 'bslvyl': 8, 'store': 10, 'mouse': 1, 'ctagg': 1, 'married': 7, 'shag': 1, '83738': 1, 'colourful': 1, 'boyf': 1, 'kind': 12, 'slide': 2, 'sculpture': 1, 'maturity': 1, 'goodmorning': 13, 'lavender': 1, 'skyving': 1, 'zyada': 1, 'objection': 1, 'fowler': 1, '08717507382': 1, 'murali': 1, 'masteriastering': 1, 'concerned': 1, 'gota': 1, 'tip': 2, 'clearer': 1, 'tiime': 1, 'thing': 89, 'mk17': 1, '15': 3, 'pocy': 1, 'buck': 6, 'staff': 3, 'blue': 8, 'myspace': 1, 'landline': 25, 'loses': 1, '08719899229': 1, 'tram': 1, 'time': 190, 'refund': 1, 'juan': 1, 'wasn\\x92t': 1, 'spinout': 1, 'someplace': 1, 'teasing': 4, 'comingdown': 1, 'bathroom': 1, 'swing': 8, 'unconditionally': 1, 'recd': 4, '£1million': 1, 'feeling': 18, 'masked': 1, 'argh': 2, 'dead': 7, 'sib': 2, 'think': 112, 'half': 33, 'tomarrow': 3, 'hanuman': 1, 'ltdhelpdesk': 1, 'happend': 3, 'jia': 2, 'operator': 12, 'pile': 1, 'txt82228': 1, 'raja': 1, 'sitll': 2, 'math': 3, 'website': 6, 'hardly': 2, 'enough': 24, 'saibaba': 1, 'make': 96, 'window': 4, 'gage': 1, '0': 4, 'opened': 1, 'give': 82, 'hmmmm': 1, 'neck': 2, 'sore': 4, 'getiing': 1, 'sk38xh': 7, 'hold': 10, 'term': 12, 'tonite': 7, 'yck': 2, 'sleepingwith': 1, 'premium': 2, 'usual': 6, '08448714184': 1, 'sae': 18, 'nelson': 1, 'vic': 1, 'meaning': 3, 'othrs': 1, 'evrey': 2, 'ntwk': 3, 'kilo': 1, 'oz': 4, 'ibiza': 3, '07801543489': 1, 'resubmit': 1, 'ho': 7, 'valued': 10, 'rayan': 1, 'single': 8, '4txt': 1, 'propose': 2, 'distance': 3, 'tattoo': 1, 'sound\\x92s': 1, 'box385': 2, 'im': 58, 'buddy': 1, 'renting': 1, 'plenty': 5, 'weirdy': 1, 'quote': 4, 'key': 6, 'used': 11, 'atlanta': 3, 'wenwecan': 1, 'returned': 3, 'termsapply': 1, '09050000460': 1, 'arrested': 4, 'weirdo': 1, 'malaria': 1, 'penny': 4, 'cali': 2, 'deciding': 1, '84': 1, 'arrived': 1, 'write': 8, 'callcost150ppmmobilesvary': 1, 'bye': 4, '449071512431': 1, 'bat': 2, 'text': 166, 'largest': 2, '0871750': 1, 'chic': 1, 'bhayandar': 1, 'none': 5, '150p': 53, '08717509990': 1, 'jos': 1, 'syria': 1, 'admirer': 8, 'oni': 2, 'ranjith': 1, 'meanwhile': 3, '3030': 6, 'tank': 2, 'character': 6, 'ebay': 2, 'cancer': 6, 'cttargg': 1, 'turned': 1, 'bx': 1, 'meet': 71, 'hence': 2, 'jones': 1, 'nice': 50, 'poker': 2, 'valentine': 13, 'countin': 1, 'curious': 2, 'tor': 1, 'sugababes': 1, 'makin': 1, 'avatar': 3, 'odi': 2, 'maid': 5, '3': 72, '87575': 2, 'rough': 1, 'gal': 9, 'office': 23, 'ow': 1, 'decking': 1, 'orh': 1, 'imagine': 6, 'ill': 34, 'insurance': 3, 'neshanth': 1, 'keralacircle': 1, 'strewn': 1, 'auntie': 1, 'hourish': 1, 'foot': 3, 'texting': 6, 'properly': 2, 'customer': 47, 'crckt': 1, 'atural': 1, 'goto': 5, 'little': 27, 'pity': 1, 'specify': 1, 'floating': 1, 'obedient': 1, 'decorating': 1, 'mum': 19, 'gower': 1, 'bruce': 2, 'kindly': 3, 'report': 3, 'image': 2, 'londn': 1, 'w45wq': 5, 'janarige': 1, 'armenia': 1, 'tog': 3, 'http': 15, 'blastin': 1, 'url': 4, 'complete': 8, '2find': 2, 'occupied': 1, 'bath': 8, 'thedailydraw': 1, '450ppw': 1, 'thgt': 1, 'vodka': 1, 'transaction': 4, '5th': 3, 'usc': 3, 'shorter': 3, 'polyphonic': 3, 'landlineonly': 1, 'chez': 1, 'amk': 1, '448712404000': 1, 'cared': 2, 'noline': 4, 'ppl': 3, 'platt': 1, 'receipt': 4, 'land': 17, 'hussey': 1, 'now1': 1, 'hols': 3, '1131': 1, 'cer': 1, 'deserve': 1, 'èn': 1, 'kotees': 1, 'barry': 1, 'balance': 11, 'deliveredtomorrow': 3, 'freak': 3, 'vijay': 3, 'ken': 1, 'lou': 2, '2007': 2, 'capacity': 1, 'meaningless': 1, '12mths': 1, 'nobody': 9, '0430': 1, 'dresser': 3, 'f': 9, 'short': 7, 'lastest': 1, 'shaping': 1, 'symbol': 2, 'airtel': 1, 'andrew': 1, 'ji': 1, 'sky': 2, 'accommodationvouchers': 1, 'cust': 4, 'musthu': 2, 'intrude': 1, 'mike': 1, 'kallis': 6, 'video': 23, 'followin': 1, 'jog': 1, 'melody': 1, 'score': 3, 'invention': 1, 'flash': 3, 'console': 2, 'keeping': 5, 'understanding': 2, 'gave': 10, 'constantly': 3, 'sian': 2, 'mega': 2, 'wahleykkum': 1, 'ger': 1, 'rvx': 1, 'harish': 1, 'earn': 1, 'ello': 1, 'saucy': 2, 'unclaimed': 1, 'lik': 5, '4742': 3, 'upto': 3, 'la': 6, '14tcr': 1, 'lido': 3, 'maretare': 1, 'violence': 1, 'sayin': 1, 'tomorro': 2, 'nat': 3, 'caller': 15, 'surfing': 4, 'cat': 2, 'ak': 1, 'disagreeable': 1, '07046744435': 1, 'kath': 1, 'text82228': 1, 'ive': 8, 'paper': 11, 'beendropping': 1, 'holla': 6, 'head': 16, 'breakin': 1, 'llc': 1, 'complexity': 1, 'ear': 1, 'skirt': 1, 'upgrade': 3, 'boy': 24, 'valuing': 1, '2': 335, 'smsrewards': 1, 'particularly': 1, 'burger': 2, '08712400200': 1, 'got': 194, 'sonyericsson': 1, 'kent': 1, 'mode': 7, 'confuses': 2, '08717898035': 3, 'nag': 2, 'girlfrnd': 2, 'thkin': 1, 'practice': 4, '2c': 2, '08704439680ts': 1, 'smokin': 1, 'jacket': 1, '3uz': 3, 'athletic': 1, 'optout': 3, '62735': 1, 'deepest': 1, 'consent': 1, 'courtroom': 1, 'gudnite': 3, 'delhi': 1, 'unconsciously': 1, 'handed': 1, 'fletcher': 1, 'explain': 4, '08712400602450p': 2, 'tactful': 1, 'entry': 18, 'pist': 1, 'deus': 2, 'problematic': 1, 'spl': 4, 'occupy': 2, 'middle': 3, 'bridgwater': 1, 'saristar': 1, 'specialise': 1, 'age16': 8, 'mtmsg': 1, 'definite': 2, 'hostel': 3, 'xmas': 19, 'went': 42, '09061221061': 1, 'certainly': 3, 'brison': 1, 'hehe': 1, 'truffle': 1, 'recount': 1, 'adventure': 2, '42478': 1, '8th': 4, 'coimbatore': 1, 'lttrs': 2, 'belong': 1, 'bakra': 1, 'guilty': 3, 'digit': 1, 'paying': 8, 'radio': 4, 'reflex': 1, 'rem': 3, 'luxury': 3, '08715203677': 1, 'sway': 1, 'loan': 9, 'portion': 1, 'fyi': 4, 'willpower': 1, 'en': 1, 'duffer': 1, 'wasnt': 1, 'parked': 1, 'thousand': 1, 'outbid': 1, 'hesitation': 1, '88088': 2, 'tech': 2, 'perhaps': 2, '28days': 1, 'cn': 3, 'parco': 2, 'pocket': 1, 'va': 1, 'milta': 1, 'breaker': 1, 'reassurance': 1, 'particular': 1, 'opted': 1, 'cudnt': 1, '£1000': 26, 'wedding': 3, 'wad': 1, 'gpu': 2, 'p': 10, 'carlie': 1, '07008009200': 1, 'blah': 1, 'fan': 2, 'clearing': 2, 'african': 1, 'sufficient': 2, 'tomorw': 1, 'vatian': 1, 'coast': 2, 'crush': 1, 'arm': 5, '08718726971': 1, 'drama': 1, 'ere': 1, 'nagar': 2, 'chasing': 3, 'unusual': 1, 'listener': 1, 'dirt': 1, 'rounder': 1, 'footie': 1, 'dhanush': 1, 'came': 24, '89693': 2, 'preschoolco': 1, 'frankie': 1, 'didn\\x92t': 2, '2nite': 8, 'content': 13, 'amore': 1, 'troubleshooting': 1, 'xxx': 27, '08719839835': 1, 'shop': 18, '1st4terms': 1, 'year': 62, 'sn': 4, 'establish': 1, '09066364589': 1, 'marking': 1, 'asp': 1, 'msgrcvdhg': 3, '09063458130': 2, 'gymnastics': 1, '08718727870150ppm': 1, 'significance': 1, 'yeesh': 1, '09065989182': 1, 'motive': 1, 'oooooh': 1, '09066368327': 1, 'goin2bed': 1, 'panren': 1, '530': 5, 'one': 134, 'b4280703': 2, '0121': 1, 'closingdate04': 1, 'calls£1': 4, 'quiet': 1, 'urgently': 2, 'overemphasise': 1, 'comuk': 3, 'dvd': 5, 'easier': 4, 'walmart': 3, 'mnths': 2, 'terrific': 2, 'slacking': 1, 'mono': 4, 'argument': 3, 'nowadays': 2, 'mquiz': 1, 'second': 15, '£150': 7, 'oso': 18, '8wp': 3, 'friend': 85, 'camera': 27, 'xx': 12, '£200': 6, 'psychiatrist': 1, 'heater': 1, 'supplier': 1, 'sic': 1, 'hlday': 1, 'mia': 1, 'zealand': 1, 'simpler': 1, 'cld': 2, 'done': 37, 'unrecognized': 1, 'flowing': 1, '80160': 1, 'vote': 4, 'funny': 7, '69101': 1, 'gn': 8, 'success': 1, 'surname': 1, 'raed': 2, 'arab': 1, 'citizen': 1, 'build': 2, 'style': 6, 'edward': 2, 'csh11': 1, 'chechi': 1, 'strong': 5, 'scotland': 1, 'bajarangabali': 1, 'junna': 1, 'epsilon': 2, 'nichols': 2, 'thesis': 1, 'longer': 6, 'garbage': 2, 'ffffffffff': 1, 'skip': 3, 'anything': 51, 'm': 1, 'manchester': 1, 'bookmark': 1, 'vary': 4, 'oreo': 2, 'peril': 1, 'true': 20, 'gon': 45, 'thanks': 59, 'oxygen': 1, 'twenty': 2, 'air': 4, 'march': 11, '128': 1, 'hurting': 2, 'sir': 29, '05': 4, 'sub': 10, 'fucked': 2, 'onlyfound': 1, '74355': 1, 'eighth': 1, 'stability': 1, '69669': 2, 'shitload': 2, 'gbp4': 1, 'base': 1, 'sayy': 1, 'mallika': 1, 'burn': 3, '2wks': 1, 'steak': 1, 'wood': 1, 'wadebridge': 1, 'networking': 3, 'bam': 1, 'develop': 2, '08719180219': 1, 'lucy': 1, 'arngd': 1, 'hows': 14, 'wifi': 1, 'unhappy': 1, '6th': 3, 'later': 111, '£12': 1, 'pending': 3, '08718723815': 1, '6hrs': 3, 'type': 15, 'experiment': 1, 'regret': 4, 'busty': 1, 'personal': 3, 'repent': 1, 'acting': 2, '09058094594': 1, 'unfolds': 1, 'remixed': 1, 'explicit': 2, 'alex': 6, 'bother': 5, 'afew': 1, 'printed': 2, 'mth': 2, 'telugu': 2, 'mobileupd8': 11, 'tiger': 1, 'crucify': 1, 'payed': 1, 'send': 157, 'kuch': 1, 'pretty': 12, 'biola': 2, 'magical': 2, 'restrict': 1, 'onum': 1, 'worrying': 1, '08718711108': 1, 'boatin': 1, 'sunshine': 7, 'min': 82, 'abi': 2, 'trackmarque': 1, 'oyea': 1, 'replys150': 1, 'mesages': 2, 'removal': 2, 'animation': 2, 'that\\x92s': 4, 'ordinator': 1, 'exhaust': 2, '09058094565': 2, 'entirely': 1, 'jet': 1, 'gr8fun': 1, 'ujhhhhhhh': 1, 'chinchilla': 1, 'aaniye': 1, 'failed': 2, 'egbon': 1, 'difficulty': 1, 'royal': 2, 'stool': 1, 'joining': 2, 'realise': 2, 'condition': 4, 'george': 1, 'born': 3, 'specialisation': 1, '08714714011': 1, 'xin': 1, 'simple': 9, 'honeybee': 3, 'opt': 15, 'sonetimes': 1, 'payed2day': 1, 'annoncement': 1, 'cr': 1, 'curry': 2, '050703': 2, 'valuable': 3, 'enuff': 2, 'zouk': 1, 'urn': 2, 'reminder': 3, 'forth': 1, 'flirting': 1, '15541': 1, 'measure': 1, 'asian': 1, 'lifebook': 1, 'andre': 1, '7876150ppm': 2, 'sooooo': 2, 'unsubscribed': 1, 'answer': 20, '5000': 3, 'intelligent': 3, 'many': 40, 'location': 5, 'republic': 1, 'trust': 8, 'jolly': 2, 'cant': 49, 'every1': 1, 'naseeb': 1, 'answered': 2, 'hella': 4, 'jobyet': 1, 'tobed': 1, 'waking': 4, 'something': 52, 'mylife': 1, 'doc': 5, 'july': 3, 'favour': 4, 'frnds': 13, 'start': 38, '09066350750': 2, 'gran': 1, 'hp': 1, 'get': 292, 'mat': 1, 'info': 12, 'dt': 2, 'mentioned': 1, 'unsubscribe': 15, 'filled': 2, '08704439680': 1, 'nearer': 1, '09061209465': 2, '16': 36, 'hockey': 2, '0870737910216yrs': 1, 'taken': 4, 'spiritual': 1, 'atlast': 2, 'rush': 4, 'ac': 9, 'bringing': 4, '5ish': 1, '0871277810810': 1, 'nw': 2, 'bugis': 7, 'dsn': 1, 'sent': 50, 'membership': 3, '4882': 2, 'necessarily': 2, 'madam': 2, 'maniac': 1, 'pussy': 6, '08718738001': 1, 'or2stoptxt': 3, 'title': 4, 'thx': 1, 'magicalsongs': 1, 'kolathupalayam': 1, 'booty': 3, 'toledo': 1, 'listened2the': 1, 'jul': 1, 'jogging': 2, '8552': 2, 'stage': 1, 'solved': 2, 'exercise': 1, 'subscriber': 4, 'rajnikant': 1, 'pocketbabe': 2, 'hor': 2, 'murder': 3, 'mon': 8, 'sth': 1, 'engalnd': 1, '0800': 10, 'wanted': 21, 'infront': 2, 'maggi': 1, 'recession': 2, 'remembr': 2, 'already': 73, 'anymore': 6, 'nav': 1, 'stroke': 1, 'kfc': 1, 'thandiyachu': 1, 'childrens': 1, 'shola': 1, 'pre': 2, '09111032124': 1, '68866': 1, 'quit': 2, '5free': 2, 'murderer': 5, 'jesus': 3, '4ward': 1, 'sandiago': 1, 'limit': 1, 'toss': 1, 'joanna': 1, 'toshiba': 1, 'verifying': 1, 'cumin': 1, 'aha': 6, 'someone': 48, '09096102316': 1, 'disconnect': 2, 'disturb': 9, 'flaked': 3, 's3xy': 1, 'promised': 1, 'empty': 2, 'mg': 1, 'mathews': 1, 'choose': 13, 'newquay': 1, 'px3748': 1, 'lolnice': 1, 'fun': 23, 'ummma': 1, 'causing': 2, '10th': 1, 'minute': 41, 'tescos': 1, 'utter': 1, 'zero': 1, 'hang': 2, 'advance': 5, 'zindgi': 1, 'informed': 6, 'woo': 1, 'somewhr': 1, 'pesky': 1, 'attach': 1, 'dhoni': 2, '28thfeb': 1, 'cover': 9, 'twice': 3, 'soz': 1, 'broke': 4, '09065171142': 1, 'onbus': 1, 'school': 21, 'keep': 54, 'treatin': 1, 'practicing': 2, 'configure': 1, 'tag': 1, 'trauma': 1, 'wire3': 1, '9am': 4, 'built': 1, 'de': 15, 'l8r': 5, 'owo': 1, 'thankyou': 1, 'luton': 1, 'vale': 1, 'double': 15, 'traveling': 1, 'guess': 27, 'irritating': 3, 'kothi': 1, 'mc': 1, 'cud': 2, 'labor': 1, 'bday': 3, '9': 27, 'cleared': 2, 'iraq': 1, 'rub': 2, 'stopped': 4, 'car': 35, 'unsub': 6, 'goodmate': 1, 'young': 1, 'yeah': 62, 'late': 45, 'downloads': 3, 'obese': 1, 'companion': 1, 'sound': 21, 'clean': 10, 'o': 1, 'wamma': 1, 'phd': 1, 'ask': 62, 'served': 1, 'commit': 1, '220': 3, 'broken': 2, '…': 10, '12hours': 1, 'stated': 1, 'scrounge': 2, 'teju': 1, 'cam': 3, 'urself': 5, '07808247860': 1, 'frndsship': 1, 'reference': 7, 'ego': 1, 'loverboy': 6, 'ended': 6, 'ultimately': 1, 'onto': 4, 'down': 1, 'sphosting': 1, 'approve': 1, 'hyde': 1, 'shortbreaks': 1, '5wkg': 1, 'referin': 1, 'beerage': 1, 'prop': 1, '63miles': 1, 'in2': 3, '762': 1, 'lotsly': 1, 'oveable': 1, 'donate': 1, 'fumbling': 1, 'habba': 1, 'activ8': 1, 'plumber': 1, 'pm': 17, 'aboutas': 1, 'harlem': 1, 'textin': 1, 'chinky': 1, 'deep': 8, 'ref': 4, 'foned': 1, 'reache': 1, 'peripheral': 1, 'diddy': 1, 'edu': 2, 'explosive': 1, 'teletext': 1, 'fake': 2, '08718730666': 1, 'carefully': 2, 'brat': 1, '45': 1, 'appy': 1, 'rawring': 1, 'common': 4, 'hanger': 1, 'hot': 17, 'shd': 4, 'coping': 2, 'move': 12, 'pizza': 6, 'tirunelvali': 2, 'station': 6, 'nurungu': 3, 'kb': 3, 'bac': 1, 'tihs': 2, 'textpod': 2, 'irritation': 1, 'rimac': 1, 'upon': 1, 'ghost': 2, 'sherawat': 1, 'december': 4, 'hunk': 1, 'intrepid': 1, 'backwards': 1, 'warm': 7, 'leh': 23, '41685': 2, 'dena': 1, 'plan': 36, 'polo': 1, 'reslove': 1, 'headstart': 1, 'egg': 8, 'wif': 21, 'finest': 1, 'neway': 2, 'load': 11, 'reception': 1, 'reg': 2, 'offdam': 1, 'okmail': 1, 'hmmm': 12, 'dontignore': 1, 'fro': 1, 'go2': 1, 'powerful': 1, 'bao': 1, 'fidalfication': 1, '2000': 1, 'deposit': 1, '09065394973': 1, 'ovulation': 2, 'gailxx': 1, 'spy': 1, 'bite': 2, '£50': 1, 'pay': 24, 'mb': 1, 'korean': 1, 'total': 3, 'sacked': 1, '09056242159': 1, 'ryan': 1, '88800': 1, '£350': 6, 'ringtoneking': 2, 'areyouunique': 1, 'leaving': 15, 'requirement': 1, 'usa': 1, 'slot': 1, 'invitation': 1, 'toughest': 1, '861': 2, 'outsider': 1, 'alright': 16, '08712400603': 1, 'clubzed': 1, 'hw': 7, 'error': 2, 'captain': 2, 'plz': 12, '8lb': 1, 'prefer': 2, '3230': 1, 'wtf': 2, 'chain': 3, 'post': 18, 'nd': 1, 'jade': 1, '08719181259': 1, '087187272008': 1, 'dat': 32, '07821230901': 2, 'dark': 2, 'wonder': 12, 'howu': 1, 'beforehand': 1, 'celebrate': 4, 'reach': 25, 'blog': 1, 'cw25wx': 2, 'crack': 3, 'coherently': 1, 'foley': 2, '80155': 1, 'lifeis': 1, 'wine': 6, 'apps': 3, '25': 7, 'cashto': 1, 'tmw': 1, 'nipost': 1, 'identifier': 13, 'dehydration': 1, 'filthyguys': 1, 'countinlots': 1, 'headset': 1, 'suggestion': 2, 'jas': 2, 'ned': 1, 'askin': 5, 'cell': 5, 'z': 1, 'lifting': 1, 'ovulate': 1, 'nbme': 1, 'hum': 1, '08701752560': 1, 'reunion': 1, 'dude': 19, 'gong': 1, 'fix': 5, 'dan': 2, 'inconsiderate': 2, 'madodu': 1, '50perwksub': 2, 'excited': 1, 'arent': 2, 'canada': 1, 'sofa': 7, 'paru': 1, 'tear': 8, 'norm150p': 5, 'avoids': 1, 'sweetheart': 2, 'language': 2, 'smoothly': 1, 'wasting': 1, '09061702893': 1, 'dose': 1, '0825': 2, 'date': 20, 'u': 711, 'boost': 2, 'l8tr': 2, 'hmm': 14, 'cu': 1, '98321561': 1, 'vital': 1, 'hungry': 9, 'uawake': 1, 'prizeawaiting': 1, 'overtime': 1, 'priya': 1, 'kingdom': 1, 'cttergg': 1, 'anyhow': 1, 'bambling': 1, 'speciale': 1, 'acted': 2, 'mw': 1, 'election': 2, 'hitler': 1, 'youre': 2, 'workage': 1, 'come': 191, 'bilo': 1, 'obviously': 4, 'starshine': 1, 'wildest': 1, 'selling': 3, 'correct': 9, 'mumhas': 1, 'possible': 8, 'loser': 1, 'breathe': 2, 'mad': 3, 'award': 18, 'smaller': 1, '3lions': 1, 'cusoon': 1, 'wife': 18, 'far': 13, '1205': 1, 'santa': 2, 'kochi': 1, 'resolved': 1, 'directly': 4, 'potter': 2, 'eerie': 4, '1146': 1, '3wks': 1, 'bob': 1, 'forgt': 1, 'kickboxing': 1, 'csc': 1, 'ron': 4, 'penis': 1, 'flirtparty': 1, 'yest': 1, 'romantic': 5, 'mile': 1, 'cine': 7, 'recorder': 1, 'bruv': 2, 'board': 1, 'per': 48, '2waxsto': 2, 'g': 21, 'miserable': 1, 'weightloss': 1, 'bar': 2, 'raise': 2, 'panicks': 1, 'mother': 6, '4u': 7, '09061701461': 1, 'reservation': 1, 'passionate': 4, 'gravity': 2, 'gain': 2, '£750': 1, 'knackered': 3, 'ever': 25, 'inst': 1, 'wihtuot': 2, 'hidden': 1, 'lane': 1, 'dhorte': 1, 'event': 3, '1tulsi': 1, 'bahamas': 2, 'food': 16, 'favorite': 1, '80488': 3, 'prevent': 1, 'including': 6, 'anjola': 1, 'important': 22, 'ag': 2, 'sarcasm': 1, 'hearted': 1, 'reflection': 1, 'ammae': 1, 'shrub': 1, 'amrca': 1, 'beloved': 1, 'naked': 6, 'responsibility': 1, 'via': 10, 'ecstasy': 1, 'availa': 1, 'vivek': 1, 'wither': 1, 'aight': 24, 'made': 25, '14thmarch': 1, 'christmassy': 1, 'harry': 2, 'dammit': 1, 'crash': 1, 'app': 4, 'ubandu': 1, 'dare': 3, 'sounding': 1, 'baller': 1, 'wks': 2, 'irritates': 1, 'aww': 2, '69696': 2, 'comment': 1, 'hotel': 8, '97n7qp': 1, 'onion': 1, 'surgical': 1, 'telphone': 2, 'ate': 3, 'holder': 6, 'sao': 1, 'standing': 2, 'shun': 1, 'ortxt': 1, 'casing': 1, 'feelin': 3, 'normal': 8, 'minecraft': 1, '430': 1, 'eatin': 6, '£1500': 2, 'uhhhhrmm': 1, 'occasion': 1, 'busetop': 1, 'gone': 14, 'timin': 1, 'jerry': 1, 'hi': 97, 'since': 22, 'casualty': 1, 'dom': 1, 'stuffing': 1, 'waaaat': 1, 'alter': 1, 'inde': 1, 'completes': 1, 'emerging': 1, 'darren': 7, 'borrow': 2, 'huge': 2, 'polyh': 2, 'greet': 2, 'argentina': 1, '515': 1, 'doctor': 8, 'birthday': 23, 'illness': 1, 'drugdealer': 1, 'widelive': 2, 'currently': 11, 'bring': 19, 'mmmmmm': 2, 'blood': 8, '09041940223': 1, 'successful': 2, 'module': 3, 'stretch': 2, 'snow': 11, 'goody': 1, '£6': 1, '08712460324': 5, '61200': 2, 'multis': 1, 'john': 7, 'bawling': 1, 'share': 7, 'admin': 2, 'bed': 21, 'ranju': 1, 'male': 2, 'sweetie': 2, 'place': 49, 'nìte': 1, 'bbc': 1, 'shot': 2, 'sentence': 3, '9061100010': 1, 'instant': 1, 'ticket': 13, 'expose': 1, 'cheer': 10, 'lived': 2, 'promo': 2, '\\x96': 3, '2mrw': 4, 'doug': 1, 'yoyyooo': 1, 'entered': 9, 'follows': 1, '2wu': 1, 'oath': 1, 'user': 7, 'hear': 29, 'charles': 2, 'litre': 1, 'interest': 1, 'nigro': 1, 'child': 10, 'some1': 5, 'sittin': 1, 'goodnoon': 2, 'accidentally': 4, 'messaged': 2, 'dramatic': 1, 'bot': 1, 'dokey': 2, 'tones2u': 1, 'prizeswith': 1, 'cried': 1, 'ar': 6, 'aluable': 1, '545': 1, 'petrol': 2, 'dun': 41, '6031': 1, 'bf': 4, 'monkeyaround': 1, 'urawinner': 4, 'bcoz': 9, 'scream': 5, 'hui': 1, 'responce': 2, 'werethe': 1, 'filling': 2, 'prof': 1, 'cage': 1, 'grave': 1, 'took': 14, 'arrival': 1, '2b': 1, '1030': 2, '06': 8, 'um': 1, 'pick': 62, 'unknown': 2, 'rcb': 1, 'dearly': 3, 'se': 1, 'alive': 3, 'w111wx': 3, 'anyway': 24, 'fne': 1, 'facility': 1, 'wiv': 6, 'continue': 2, 'ke': 2, '08718726270': 2, 'realized': 2, 'supose': 1, 'notification': 1, 'fireplace': 1, 'dengra': 1, 'crazy': 9, 'various': 2, 'onwords': 1, 'xoxo': 1, 'club': 15, 'thou': 1, 'prasad': 1, 'receipts—well': 1, 'luvd': 1, 'nokia6600': 2, 'dedicated': 2, 'digital': 6, 'gyno': 1, 'contact': 52, 'prolly': 2, 'sensible': 1, 'mobypobox734ls27yf': 1, 'box97n7qp': 3, 'heaven': 1, 'torrent': 1, 'dropped': 4, '32000': 1, 'chill': 3, 'bill': 11, 'tui': 1, 'rewarding': 2, 'hamster': 1, 'nitro': 1, 'live': 32, 'whatsup': 1, 'antelope': 1, '11mths': 8, 'vid': 2, '08712466669': 1, 'test': 19, 'perumbavoor': 1, 'monthlysubscription': 1, 'prone': 1, 'pattern': 2, 'adding': 1, 'childporn': 1, 'count': 2, 'brb': 1, 'f4q': 1, 'nursery': 1, 'kusruthi': 4, 'vomiting': 1, '09050003091': 2, 'hep': 1, 'aunty': 2, 'jersey': 1, 'awarded': 26, 'thought': 37, 'emotion': 1, '83338': 1, 'met': 11, 'asia': 1, 'wrk': 2, 'ana': 1, 'stopcs': 1, 'goodfriend': 1, 'kano': 5, 'testing': 2, 'worc': 1, 'responsible': 1, 'ideal': 2, 'coulda': 1, 'retrieve': 1, 'green': 4, 'wish': 48, 'tried': 18, '80608': 2, 'operate': 1, 'fired': 1, 'roller': 1, 'taylor': 3, 'behalf': 1, '09064012160': 2, 'contacted': 4, '09066364311': 2, 'sarcastic': 2, 'beverage': 1, 'large': 1, 'offering': 1, 'pls': 89, 'pobox12n146tf15': 1, 'wrong': 13, 'applyed': 1, 'falling': 1, 'poyyarikatur': 1, 'cthen': 1, 'werebored': 1, 'sq825': 1, 'fee': 2, 'resume': 2, 'sf': 1, 'shattered': 1, 'youdoing': 1, 'thm': 3, 'algebra': 1, '9ja': 1, 'wana': 9, 'win': 59, 'earning': 1, 'wi': 1, 'boye': 3, 'massive': 1, 'cnn': 2, 'hilarious': 1, 'fone': 11, 'scenery': 1, 'enc': 1, 'swt': 6, '08700621170150p': 2, 'indyarocks': 1, '40411': 1, 'complementary': 1, 'might': 27, 'prominent': 1, '4my': 1, 'smash': 1, 'takecare': 1, '09058095107': 1, 'omg': 6, 'gopalettan': 1, 'nowhere': 1, 'quarter': 1, 'shut': 1, 'macedonia': 1, 'fuckin': 2, '2003': 10, 'oclock': 1, 'seventeen': 1, 'pap': 2, 'vibrant': 1, 'lst': 2, 'aproach': 2, 'salon': 1, 'raji': 3, 'improve': 1, 'imat': 1, 'nyt': 11, 'farm': 3, 'recognises': 1, '£50award': 1, 'expired': 2, 'position': 2, 'carpark': 1, 'kissing': 1, 'wc1n3xx': 3, 'dunno': 24, 'soil': 1, '5mls': 1, 'olympics': 1, 'reasonable': 2, '9996': 1, '300': 4, 'robinson': 1, 'chatlines': 1, 'benefit': 1, 'haunt': 1, 'shahjahan': 1, 'handset': 6, 'problem': 35, 'visa': 1, 'box326': 2, 'silence': 1, 'buttheres': 1, 'ikno': 1, '3750': 1, 'person2die': 1, 'nite': 19, 'attending': 1, 'bfore': 1, 'anythingtomorrow': 1, '6ph': 1, 'trishul': 1, 'creepy': 1, 'ofstuff': 1, 'replying': 7, 'cps': 1, 'god': 35, 'spelled': 1, '08717111821': 1, 'keypad': 1, 'threat': 3, 'essential': 3, 'malarky': 1, 'simply': 4, 'rowdy': 1, 'secretary': 2, 'jordan': 4, 'tc': 16, 'data': 1, 'sim': 7, 'reminded': 1, 'fixed': 8, 'ironing': 1, 'tooo': 2, '09061744553': 2, 'exterminator': 1, 'gent': 2, '07734396839': 2, 'sort': 12, 'b4190604': 2, 'shracomorsglsuplt': 1, '08452810073': 3, 'narcotic': 1, 'exist': 1, 'hall': 1, '12': 9, 'reminds': 1, 'shove': 1, '09111030116': 1, 'drop': 14, 'aftr': 4, 'constant': 2, 'pant': 1, 'trouble': 5, 'stop2': 1, 'stubborn': 1, 'mmmmmmm': 1, 'entitled': 7, 'cosign': 1, 'bitching': 1, 'brin': 1, 'afraid': 4, '82050': 2, 'joker': 1, 'atm': 4, '32': 1, 'sabarish': 1, '01223585334': 2, 'phb1': 1, '’': 2, 'select': 2, 'blake': 3, 'cheat': 2, 'prsn': 1, 'ondu': 1, 'ifink': 1, 'billy': 1, 'reffering': 1, 'mentor': 1, 'asshole': 1, '09058097218': 1, 'univ': 1, 'drivby': 1, 'no': 1, 'reply': 110, 'si': 18, 'le': 11, 'lul': 1, 'forget': 14, 'suffer': 1, 'distract': 2, 'prometazine': 1, 'gari': 1, 'aiyar': 4, '2price': 1, 'irritated': 1, 'crap': 2, 'crazyin': 1, 'dobby': 2, 'hoping': 7, 'nookii': 1, 'lucozade': 2, '£s': 1, 'philosophical': 1, 'pie': 2, 'never': 32, 'dha': 1, 'fund': 1, 'probthat': 1, 'feature': 1, '9yt': 1, 'box': 23, 'shexy': 1, 'yet': 41, 'sex': 11, 'mood': 7, 'provided': 3, 'slowly': 9, 'wrote': 2, 'wicked': 1, 'raiden': 1, '10k': 1, 'php': 1, 'bag': 8, 'yahoo': 8, 'lem': 6, 'efreefone': 1, 'rite': 13, 'support': 11, 'rply': 10, 'jaykwon': 1, 'line': 37, 'across': 8, 'iq': 4, 'awesome': 17, '2i': 1, 'amp': 56, 'shant': 1, 'adrian': 1, 'tues': 1, 'sterm': 1, 'yun': 3, 'shit': 30, '08001950382': 3, 'marry': 6, 'slo': 1, 'prayrs': 1, 'suck': 6, '2p': 1, 'frying': 2, 'source': 2, 'maximize': 6, '7': 32, 'resolution': 1, 'mary': 1, 'totally': 4, 'seem': 2, 'idc': 1, 'clover': 1, 'discussed': 1, 'joined': 8, 'bone': 2, '09066368753': 1, 'defeat': 1, 'pressies': 1, 'past': 6, 'aeronautics': 2, 'dismissial': 1, 'rose': 7, 'okey': 3, 'pretsorginta': 1, '88222': 1, 'removed': 1, 'woohoo': 1, 'customercare': 1, 'sunny': 6, 'browse': 1, 'apart': 2, 'sum1': 3, 'nange': 1, 'skype': 4, 'gud': 49, 'joking': 5, 'grandma': 2, '08452810075over18': 2, 'convenience': 1, 'sliding': 1, 'named': 2, 'cliff': 1, 'kane': 1, 'bellearlier': 1, 'isv': 1, 'realising': 1, 'rental': 10, 'indicate': 2, 'soonlots': 1, '29': 3, 'mean': 40, 'pimple': 1, 'maneesha': 3, 'lingerie': 1, 'sozi': 1, 'notice': 7, 'yunny': 1, 'haf': 15, 'stressed': 1, 'brand': 6, 'waited': 2, 'holding': 6, 'claire': 1, 'london': 5, 'apologetic': 1, 'wk': 24, 'yer': 3, 'forum': 4, 'colleg': 1, 'study': 8, '\\x91morrow': 1, 'witot': 1, 'colleague': 6, 'non': 1, 'na': 79, 'snickering': 1, 'liked': 7, 'brilliantly': 1, 'reckon': 2, 'neighbour': 2, '0870241182716': 1, 'prabha': 4, '54': 1, '09050000332': 1, 'sharing': 2, 'cloth': 1, 'information': 10, 'buzzzz': 1, 'calm': 1, '08718727868': 2, 'com': 53, '526': 1, 'postcard': 2, 'temper': 1, 'neglet': 1, 'fresh': 1, 'k52': 3, 'exact': 3, 'coco': 1, '£5': 2, 'avoid': 1, 'ya': 38, 'painful': 3, 'janinexx': 1, 'webpage': 1, 'jeetey': 1, 'grin': 9, 'regarding': 3, 'abiola': 9, 'playin': 1, 'postcode': 3, 'environment': 2, 'tall': 1, 'attempt': 19, 'm6': 2, 'chloe': 1, 'aid': 2, 'halla': 1, 'gmw': 1, 'happened': 13, 'oga': 1, 'doit': 1, 'shopping': 25, 'february': 4, 'filth': 1, 'dabooks': 1, 'progress': 1, 'melle': 3, 'preponed': 1, 'subscribed': 2, 'help08718728876': 2, 'wo': 1, '08712101358': 2, 'confirmd': 2, 'thnq': 1, 'ninish': 1, 'wkend': 3, 'hai': 4, 'toplay': 1, 'attractive': 1, 'payment': 2, 'aiyo': 5, 'varaya': 1, 'step': 2, 'police': 4, 'hospital': 8, 'camcorder': 13, 'biggest': 4, 'trainners': 1, 'absolutely': 1, 'outstanding': 2, 'opinion': 8, 'thirunelvali': 1, 'wavering': 1, 'knew': 9, 'pobox334': 6, 'attracts': 1, 'shoul': 1, 'preview': 1, 'winning': 3, 'semi': 1, 'familiar': 1, '4t': 3, '3aj': 1, 'shiny': 1, '3days': 1, 'settled': 4, 'bailiff': 1, '2nights': 1, '84199': 3, 'maaaan': 1, 'finn': 1, '300603t': 1, 'mina': 1, '5226': 1, 'poortiyagi': 1, 'bstfrnd': 3, 'dismay': 1, 'bandage': 1, 'swashbuckling': 1, 'dryer': 1, 'thecd': 1, 'determine': 1, 'behave': 2, 'sender': 3, 'downstem': 1, 'afternon': 1, 'arabian': 1, '0871277810910p': 1, 'ringtone¡': 1, 'msn': 2, 'subsequent': 1, 'broad': 2, 'insha': 2, 'denis': 1, 'dino': 1, 'next': 48, 'canal': 2, 'grownup': 1, 'max': 1, 'announcement': 5, 'warranty': 1, '6089': 1, 'hectic': 1, 'hppnss': 1, '\\x91rents': 1, 'oru': 4, 'dictionary': 2, 'lccltd': 1, 'california': 2, 'bra': 1, 'shld': 3, 'ocean': 1, 'lingo': 1, 'simulate': 1, 'santacalling': 1, 'fishrman': 1, 'gee': 5, 'ur': 236, 'orange': 25, 'salt': 1, 'hopeu': 1, 'pokkiri': 1, '£450': 1, 'chikku': 11, '£4': 4, '447801259231': 1, 'erutupalam': 1, 'sleepin': 2, '26': 4, 'audrey': 2, 'engin': 2, 'seperated': 1, 'major': 2, '3pound': 1, 'anyone': 16, 'kr': 1, 'nu': 2, 'yo': 26, '447797706009': 1, 'choice': 4, 'langport': 2, 'growing': 2, 'doggin': 1, 'power': 4, 'nusstu': 1, 'preferably': 3, 'aberdeen': 1, 'ou': 1, 'sory': 3, 'bun': 5, 'std': 11, 'hug': 4, 'could': 43, 'tomo': 15, 'followed': 2, 'uni': 4, 'irulinae': 1, 'x': 40, 'inc': 6, 'm227xy': 1, 'queen': 3, '2yr': 1, '2years': 1, 'opener': 1, 'freinds': 1, 'somewhere': 5, 'ternal': 1, 'greatness': 1, 'continent': 1, 'thus': 1, 'competition': 6, 'prix': 1, 'public': 3, 'praise': 1, 'tasts': 1, 'persevered': 1, 'welcome': 15, 'allo': 1, 'lasting': 1, 'surrounded': 1, 'course': 12, 'aiya': 3, 'chore': 1, 'kaypoh': 1, 'wa14': 1, 'finalise': 1, 'bck': 1, 'wed': 5, 'liver': 1, 'interview': 4, 'blank': 2, 'lara': 1, 'bookedthe': 1, 'transfered': 2, 'newest': 2, 'cheesy': 1, 'overdid': 1, 'bitch': 3, 'lookin': 5, 'dealing': 2, 'tonsolitusaswell': 1, 'chosen': 3, 'finish': 34, 'howz': 3, 'swimming': 3, 'tessy': 2, 'invited': 11, 'gorgeous': 4, 'sparkling': 1, 'press': 12, 'probpop': 1, 'belongs': 1, 'flaky': 1, '786': 3, 'bffs': 1, 'je': 1, 'iknow': 1, 'applausestore': 1, '08448350055': 1, 'handsomes': 1, 'gotten': 2, 'chord': 1, 'surprise': 10, 'summer': 4, 'mirror': 1, 'cst': 1, 'ldnw15h': 3, 'sickness': 1, '89034': 1, 'sec': 6, 'missed': 20, 'cooking': 3, 'sensitive': 2, 'gotmarried': 1, '402': 1, 'lei': 15, 'poly': 12, 'naughty': 6, 'dao': 1, 'gamb': 1, 'burnt': 1, 'ctxt': 1, 'wesley': 2, 'minded': 1, 'lanre': 1, 'babygoodbye': 1, 'hero': 2, 'complaint': 2, 'spanish': 3, 'neekunna': 1, 'delete': 1, 'rofl': 2, 'several': 2, 'typical': 1, 'called': 25, '150ppm': 27, 'kettoda': 3, 'txt43': 1, '09071517866': 1, 'sc': 1, '08712405020': 4, 'studyn': 1, 'trend': 1, 'bin': 4, 'blacko': 1, 'privacy': 1, 'hole': 1, 'bottle': 1, 'mi': 2, 'smiled': 1, 'tranquility': 1, 'tease': 2, '09050001808': 2, 'liking': 1, 'showroom': 1, 'lady': 8, 'polys': 6, 'six': 3, 'yep': 10, 'twiggs': 1, 'alfie': 2, '08706091795': 1, 'studying': 8, 'educational': 2, 'cnl': 1, '08700435505150p': 1, 'salary': 2, 'childish': 5, 'invoice': 1, '09065069154': 1, 'collect': 24, 'pert': 1, 'twittering': 1, 'toilet': 1, 'lit': 1, 'themob': 4, 'soup': 3, 'tea': 7, 'wth': 1, 'challenge': 3, 'tablet': 3, 'amused': 1, 'mahaveer': 1, 'wkly': 12, 'ic': 2, 'jo': 1, 'paining': 1, 'oh': 90, 'dey': 5, 'breath': 2, 'necessary': 1, '4wrd': 1, 'trained': 1, 'looking': 20, 'shitinnit': 1, '“': 2, 'ree': 1, 'hvae': 1, 'erode': 1, 'mandara': 1, 'tom': 2, '125gift': 3, 'pleased': 4, 'updat': 1, '8pm': 1, 'town': 20, 'uve': 1, '22': 2, '146tf150p': 1, 'shb': 1, 'avenge': 1, 'e': 69, 'dasara': 1, 'jstfrnd': 3, 'cheered': 1, 'mths': 5, 'flying': 1, 'wrongly': 1, 'ansr': 3, '09058094599': 2, 'stuff42moro': 1, 'repair': 3, 'pei': 1, 'twat': 1, 'gentleman': 2, 'zed': 5, 'saw': 17, 'lifpartnr': 3, 'woulda': 1, '09094646631': 1, 'nevamind': 1, 'upstairs': 2, 'aa': 1, '09094646899': 2, 'misundrstud': 1, 'whose': 2, 'chgs': 1, 'bright': 2, 'animal': 1, 'toking': 1, 'dr': 2, 'noisy': 1, 'dinero': 1, '44': 1, 'shoe': 1, 'slice': 1, 'update': 18, '4fil': 1, 'poet': 1, 'home': 141, 'frog': 1, 'knock': 1, 'log': 9, 'swear': 1, 'employee': 1, 'jazz': 2, 'plus': 17, '07753741225': 1, 'tiz': 1, 'excused': 1, 'espe': 1, 'sm': 40, '2morrow': 3, 'jaya': 1, 'hour': 40, 'recognise': 2, 'oil': 2, 'jiayin': 2, 'registered': 8, 'hex': 2, 'fffff': 1, 'airport': 4, 'tunde': 1, 'fedex': 1, 'nervous': 1, 'u2moro': 1, 'm60': 1, '09050000928': 1, 'discus': 4, 'name2': 2, 'crisis': 2, 'bluetoothhdset': 1, 'elaine': 1, '2optout': 5, '83383': 2, 'hahaha': 3, 'mack': 1, 'dane': 1, 'tensed': 1, 'm39m51': 1, 'sez': 1, 'asa': 1, 'probably': 22, 'hate': 5, '09099726481': 1, 'toot': 2, 'ffffuuuuuuu': 1, 'volcano': 1, 'rtm': 1, 'quality': 5, 'outgoing': 1, 'amnow': 1, 'ton': 2, 'nuerologist': 1, 'prince': 3, 'salesman': 1, '60p': 5, 'sense': 3, 'ipod': 11, 'increment': 2, 'jane': 3, 'forced': 1, 'abdomen': 1, 'mumbai': 1, 'department': 2, 'offer': 34, 'watched': 1, '09050005321': 1, 'yifeng': 1, 'gauti': 1, 'takin': 2, '1stone': 1, 'concentrating': 1, 'realy': 6, 'olayiwola': 1, '1225': 1, 'soryda': 3, 'bus': 25, 'thuglyfe': 1, 'bk': 1, 'likeyour': 1, '2morow': 2, 'series': 4, 'trouser': 1, 'hand': 14, 'gained': 1, 'receive': 30, 'suite342': 11, 'kaitlyn': 1, 'raining': 5, 'subtoitles': 1, 'bulb': 1, 'con': 1, 'strip': 1, 'netflix': 1, 'perpetual': 1, 'prepayment': 2, 'trying': 36, 'yourinclusive': 1, 'danger': 1, 'monthly': 1, 'premier': 1, 'youuuuu': 1, 'gang': 2, 'seemed': 3, 'aaooooright': 1, 'meeting': 33, 'shake': 1, 'feelingood': 1, 'inform': 3, '09058099801': 2, 'm8s': 2, 'frank': 1, 'great': 93, '09050090044': 6, 'difficult': 10, 'messy': 2, 'fault': 4, 'city': 4, 'hollalater': 1, 'rebel': 1, 'bcaz': 1, 'cause': 17, 'rushing': 1, 'seems': 5, 'kay': 2, '0845': 3, 'xxxxx': 2, 'mayb': 13, 'fear': 2, 'tomorrow': 81, 'national': 15, 'wocay': 1, 'especially': 2, 'jackpot': 1, '83021': 1, '84128': 3, 'tuesday': 6, 'include': 2, 'jada': 4, 'waitin': 3, 'stereophonics': 1, 'fridge': 1, 'presence': 1, 'sextextuk': 1, 'desk': 1, 'satisfy': 2, '542': 4, 'snowman': 2, 'w8in': 1, 'eyed': 1, 'midnight': 5, '08707509020': 3, 'travelled': 1, 'couple': 9, 'chuck': 1, 'bbq': 1, 'thot': 2, '5wb': 4, 'others': 7, 'eat': 28, 'vivekanand': 1, 'grand': 4, 'domain': 1, '20p': 6, 'fastest': 2, 'happen': 16, 'blow': 2, 'bothering': 1, 'chuckin': 1, 'payasam': 1, '£3': 10, '9ae': 3, '83039': 1, 'brainy': 1, '23g': 1, 'goodnight': 8, '£1450': 3, '08006344447': 2, 'detroit': 2, 'file': 5, 'musta': 1, 'pleasant': 1, 'lipo': 1, 'tv': 25, '2getha': 1, 'yen': 1, 'hesitate': 1, 'prod': 1, 'offcampus': 1, 'oredi': 14, 'golf': 1, 'underdtand': 1, 'biatch': 1, 'snoring': 1, 'tradition': 1, 'fondly': 1, 'return': 10, 'raj': 2, 'hannaford': 1, 'ambitious': 1, 'another': 29, 'quoting': 3, 'violet': 1, 'valid': 18, 'dl': 1, '85069': 1, '47per': 1, 'two': 31, 'muchxxlove': 1, 'lesson': 19, 'ache': 4, 'sary': 1, 'amma': 1, 'agency': 1, 'xxsp': 1, 'calls1': 1, 'weirdest': 2, 'bout': 15, 'fair': 1, 'fa': 2, 'prescription': 1, 'boytoy': 15, 'lmao': 2, 'gigolo': 1, 'senthil': 3, 'dippeditinadew': 1, 'losing': 2, 'an': 8, 'abt': 19, 'exp': 1, 'exmpel': 2, 'scraped': 1, 'concert': 3, 'parantella': 1, 'ship': 2, '42810': 1, 'pole': 2, 'completing': 1, 'ponnungale': 1, 'bold2': 1, 'ubi': 1, 'you\\x92re': 1, 'rayman': 1, 'find': 67, 'voda': 3, 'txtstop': 1, 'deltomorrow': 1, '80182': 3, 'internal': 1, 'tongued': 1, 'shesil': 2, 'plural': 1, 'hide': 2, 'matthew': 1, 'football': 4, 'orno': 1, 'witout': 1, 'experiencehttp': 1, 'lionp': 2, 'fassyole': 1, 'jay': 13, 'skyped': 1, 'plumbing': 1, 'organizer': 1, 'clue': 1, 'diesel': 1, 'isnt': 6, '5pm': 2, '6hl': 1, 'tosend': 1, '300603': 2, 'coccooning': 1, 'use': 39, 'stripe': 1, '250': 2, 'charged': 8, '08718725756': 1, 'triple': 1, 'thatmum': 1, 'near': 9, 'phonebook': 1, '153': 2, 'lonlines': 1, 'vegetable': 2, 'mt': 3, 'generally': 2, 'caught': 3, '08000839402': 10, 'abbey': 1, 'printer': 1, 'music': 18, 'asap': 10, 'innu': 1, '2end': 2, 'vl': 7, '3000': 1, 'beside': 1, 'strt': 1, 'daytime': 1, 'hunny': 6, 'contribute': 1, 'doin': 8, 'textcomp': 3, 'frnt': 1, 'free2day': 1, 'ground': 3, 'proper': 1, 'chat80155': 1, 'dificult': 3, 'iter': 1, 'united': 1, 'spk': 3, 'reaction': 1, 'impede': 1, 'secretly': 1, 'mp3': 6, 'realizes': 1, 'westonzoyland': 1, 'hope': 86, 'eruku': 1, 'cha': 3, 'together': 18, 'honeymoon': 1, 'falconerf': 1, 'l8er': 1, 'matra': 1, 'walked': 2, 'frosty': 1, 'adoring': 2, 'minapn': 1, 'desperate': 2, 'evo': 1, 'lar': 36, 'shy': 3, 'mummy': 2, 'ridden': 1, 'collecting': 3, 'end': 41, 'i\\x92d': 2, 'owed': 1, 'fixd': 1, 'kinda': 6, '69200': 1, 'everyone': 13, 'ldn': 8, 'hamper': 1, 'newport': 1, 'batt': 1, 'asda': 1, 'kalainar': 1, 'mymoby': 1, 'birla': 3, '2u': 3, 'story': 18, 'rummer': 1, 'set': 18, 'failing': 1, 'custom': 1, 'ee': 1, 'cost£3': 1, 'forgiveness': 1, 'tot': 17, 'chiong': 1, '80878': 2, 'qlynnbv': 1, 'princess': 25, '10': 24, 'turning': 2, 'studio': 1, 'selflessness': 1, 'g696ga': 1, 'true¡c': 1, 'american': 3, 'bak': 7, 'depressed': 2, 'lkpobox177hp51fl': 1, 'bcmsfwc1n3xx': 1, 'call': 447, 'diamond': 3, 'massage': 2, 'usmle': 1, '2docd': 1, '8ball': 1, 'fizz': 1, 'ia': 2, '087018728737': 1, 'batchlor': 1, 'marandratha': 1, 'fried': 1, 'yupz': 1, '0796xxxxxx': 1, 'invest': 2, 'toclaim': 6, 'easter': 1, 'itz': 2, 'carry': 2, 'figuring': 1, 'unkempt': 2, 'hearing': 1, 'eh': 10, 'evening': 26, 'spoon': 2, 'lv': 2, 'tht': 7, 'permission': 2, 'box403': 1, 'thriller': 1, 'ipad': 2, 'gucci': 1, 'theatre': 5, 'icic': 1, 'canceled': 1, 'impossible': 2, 'netcollex': 3, 'freely': 1, 'porn': 3, 'lie': 4, 'sea': 12, 'tahan': 2, '0578': 2, 'behind': 4, 'nit': 2, 'etc': 9, 'mint': 1, 'minor': 2, 'thenampet': 1, 'forward': 5, 'conclusion': 1, 'bit': 35, 'frm': 11, 'brum': 1, 'affidavit': 1, 'kaila': 1, 'spec': 1, 'dai': 2, 'pple': 5, 'better': 33, 'game': 27, 'actually': 29, 'maintaining': 1, 'astrology': 1, 'apartment': 8, 'wn': 3, 'stylish': 5, 'lazy': 9, 'praps': 1, 'com1win150ppmx3age16subscription': 1, 'annoyin': 1, 'workin': 6, 'satsgettin': 1, 'lambu': 1, '9th': 1, '7cfca1a': 1, 'colany': 1, 'garage': 3, 'rumbling': 1, 'pobox75ldns7': 1, 'dry': 4, '3g': 5, 'oli': 1, 'ago': 9, 'woman': 7, 'mumtaz': 1, 'satanic': 1, '07123456789': 2, 'dialling': 1, 'ge': 11, '0125698789': 1, 'rd': 2, 'wit': 10, 'destiny': 1, 'gender': 2, 'illspeak': 1, 'ride': 5, 'sport': 5, 'aburo': 1, 'expires': 14, 'messenger': 3, 'youwanna': 1, 'sonathaya': 1, 'wknd': 1, 'disaster': 2, 'publish': 1, 'force': 2, 'fri': 11, 'mwahs': 1, 'bray': 1, 'surprised': 3, 'priest': 1, 'nauseous': 1, 'elephant': 1, 'winterstone': 1, 'zebra': 1, '1apple': 1, 'srsly': 1, 'purchase': 3, 'nationwide': 1, '1stchoice': 1, 'outfit': 1, 'pobox114': 1, '88600': 3, 'onluy': 1, 'phone750': 1, 'extra': 10, 'mtmsg18': 3, 'lovin': 1, 'dawn': 1, 'spoilt': 1, 'natural': 2, 'natwest': 1, 'instituitions': 3, 'oble': 1, 'talked': 1, 'anywhere': 1, 'hr': 6, 'leading': 1, '26th': 2, 'affair': 4, '09064017305': 1, 'ihave': 1, 'howdy': 1, 'pool': 2, 'yup': 38, 'veggie': 1, 'tt': 3, 'difference': 1, 'houseful': 1, 'hmv': 2, 'created': 4, 'weather': 7, '2stop': 2, 'urgent': 52, '4th': 5, '87021': 2, 'installing': 1, 'hellogorgeous': 1, '0906346330': 1, 'cdgt': 1, 'hl': 3, 'quiz': 12, 'premarica': 1, 'anjie': 1, 'print': 1, 'cuz': 6, 'dload': 4, '02073162414': 2, 'butt': 3, 'wuld': 1, 'sp': 6, 'learn': 6, 'liverpool': 1, 'eire': 1, 'intha': 1, 'conacted': 1, 'lecture': 3, '10p': 16, 'strongly': 1, 'xclusive': 1, 'ashwini': 1, 'tarot': 1, 'refilled': 1, '15pm': 1, 'ed': 1, 'seed': 1, 'serving': 2, '69876': 1, 'strange': 1, 'phyhcmk': 1, 'fire': 3, 'begun': 1, '09058094583': 1, 'refreshed': 1, 'becz': 1, 'mine': 16, 'sometme': 1, 'french': 1, 'xxuk': 1, 'cougar': 1, 'rt': 1, 'resort': 1, 'gf': 2, '09061701444': 1, 'lool': 1, 'prediction': 1, 'njan': 1, '0a': 1, 'gimmi': 1, 'switch': 2, 'combine': 1, 'algarve': 2, 'revealing': 1, 'grumble': 1, 'screamed': 1, 'valid12hrs': 3, '£500': 17, '69888': 1, 'standard': 4, 'seven': 3, 'though': 23, 'asssssholeeee': 1, 'tscs087147403231winawk': 2, 'sagamu': 1, '945': 1, 'rencontre': 1, 'lim': 1, 'added': 4, 'november': 1, 'al': 6, '1pm': 1, '£600': 1, 'tenant': 4, 'kick': 6, 'cab': 1, '3680': 2, 'como': 1, 'ma': 3, 'melnite': 1, 'edge': 2, 'amplikater': 1, 'bangbabes': 1, 'nevr': 1, 'inconvenience': 1, 'fox': 1, 'cook': 3, 'blogspot': 1, 'solve': 3, 'whereare': 1, '6pm': 2, 'promotion': 1, 'province': 1, 'yourjob': 1, 'statement': 13, 'active': 2, '2814032': 1, 'thurs': 4, 'ten': 13, 'item': 2, 'restock': 1, 'golddigger': 1, 'visionsms': 2, 'hair': 13, 'iz': 4, 'tick': 1, 'okay': 21, 'combination': 1, 'booked': 8, 'fusion': 1, 'terrible': 3, '09066362220': 1, 'lover': 10, 'eppolum': 1, 'ham': 3, '99': 1, 'liao': 31, '08715203694': 1, 'outrageous': 1, 'situation': 5, 'menu': 5, 'perfume': 1, 'drinkin': 2, 'adam': 2, 'reboot': 2, '2hrs': 1, 'house': 31, 'tait': 1, 'spice': 1, 'sign': 5, 'grief': 1, 'bell': 2, '900': 2, '89105': 1, 'gentle': 4, 'software': 3, 'listening': 4, 'dip': 1, 'boyfriend': 1, 'dime': 1, 'skateboarding': 1, 'indian': 7, '2005': 3, 'earth': 5, 'anytime': 14, 'bros': 1, '4d': 1, 'college': 12, 'robs': 1, 'housing': 1, 'panic': 1, 'specially': 8, 'hoody': 1, 'shell': 1, '08715203656': 1, 'kl341': 1, 'wisdom': 3, 'hail': 1, 'chef': 1, 'crab': 1, 'iouri': 3, 'interested': 7, 'entrepreneur': 1, 'wnt': 3, 'allowed': 1, 'partner': 2, 'varma': 1, 'theory': 2, 'acl03530150pm': 1, 'ability': 2, 'stu': 1, 'always': 43, '£250k': 2, 'graduated': 1, 'www': 79, 'neft': 2, '523': 1, 'astne': 1, 'anand': 1, 'virgil': 1, '08702840625': 3, 'credit': 16, 'don\\x92t': 3, 'tell': 115, '08712317606': 2, 'beautiful': 17, 'ben': 3, 'only1more': 1, 'risk': 1, '6months': 3, 'btwn': 1, 'answr': 1, 'legal': 4, 'lambda': 1, 'splash': 1, 'fact': 9, 'play': 28, 'pisces': 1, 'autocorrect': 1, 'showing': 5, 'picked': 7, 'woozles': 1, 'loveme': 2, 'loyalty': 6, 'watching': 26, 'cry': 4, 'gudni8': 1, 'gate': 1, 'txtin': 2, 'rip': 1, 'among': 3, 'gbp5': 1, 'ordered': 4, 'garden': 1, 'suite': 3, 't': 8, 'direct': 10, 'chapel': 1, 'usps': 1, 'anna': 2, 'ok': 217, 'gsex': 1, 'kama': 1, 'connection': 6, 'hun': 5, 'hank': 1, 'snot': 1, 'suppose': 2, '077xxx': 1, 'mutai': 1, 'excellent': 8, 'flippin': 1, 'callback': 3, 'faster': 3, 'fighting': 5, 'english': 4, 'fantastic': 7, 'eastenders': 1, '2morrowxxxx': 1, 'youi': 1, 'freek': 1, 'bluetooth': 6, 'xchat': 3, '4': 236, 'taste': 2, 'dartboard': 1, 'name': 40, 'torch': 4, '2morro': 1, 'everybody': 4, 'demand': 2, 'hurricane': 1, '08714342399': 1, 'ful': 3, 'slower': 1, 'locaxx': 1, 'who': 2, 'youphone': 1, 'eating': 6, 'genuine': 1, 'wheellock': 1, 'nasdaq': 1, 'ad': 6, 'layin': 1, 'professional': 1, 'beg': 1, 'odalebeku': 1, 'actual': 1, 'pehle': 1, 'lamp': 1, 'nvq': 1, 'mm': 7, 'toxic': 1, 'crashed': 1, 'soundtrack': 1, 'lol': 54, 'father': 8, 'alert': 3, 'stink': 1, 'nothing': 27, 'pulling': 1, 'trade': 2, 'wanting': 3, 'stopsms': 1, '30': 14, 'everythin': 1, 'waheeda': 1, 'eng': 3, 'sends': 2, 'sure': 56, 'certificate': 1, 'specific': 2, '48': 1, '42049': 1, 'option': 2, 'best1': 3, 'betta': 1, 'ecstacy': 1, 'building': 3, 'web': 2, 'wkent': 1, 'canlove': 1, 'physic': 1, 'surya': 1, 'regretted': 1, 'setting': 6, 'edhae': 1, 'wondarfull': 1, 'literally': 1, 'ntimate': 1, 'lifetime': 2, 'anyones': 1, 'basically': 3, 'whassup': 1, 'honey': 7, 'ppt150x3': 1, 'filthy': 2, 'minmoremobsemspobox45po139wa': 1, 'row': 16, 'hotmail': 1, 'slightly': 2}\n"
          ]
        }
      ],
      "source": [
        "vectors_train,index_unique_words,doc_word_count,total_sentences=calc_tf_idf(text_train)"
      ],
      "id": "MpJz5qZByGSa"
    },
    {
      "cell_type": "markdown",
      "metadata": {
        "id": "4ec94e97"
      },
      "source": [
        "##### Calculating TF-IDF for Test data using Train Vector size"
      ],
      "id": "4ec94e97"
    },
    {
      "cell_type": "code",
      "execution_count": 48,
      "metadata": {
        "id": "9o5i8UVi5yT_"
      },
      "outputs": [],
      "source": [
        "#testing data\n",
        "def testing_tf_idf(data,index_unique_words,doc_word_count,total_sentences):\n",
        "  vectors=[]\n",
        "  i=0\n",
        "  for sentence in data:\n",
        "    unique_words=index_unique_words.keys()\n",
        "    vector=np.zeros((len(unique_words),))\n",
        "    for word in set(sentence):\n",
        "      if word not in unique_words:\n",
        "        continue\n",
        "      tf = term_freq(sentence,word)\n",
        "      idf = inverse_doc_freq(word,doc_word_count,total_sentences+1)\n",
        "      value = tf*idf\n",
        "      vector[index_unique_words[word]] = value\n",
        "    vectors.append(vector)\n",
        "    i+=1\n",
        "  return vectors\n",
        "vectors_test=testing_tf_idf(text_test,index_unique_words,doc_word_count,total_sentences)"
      ],
      "id": "9o5i8UVi5yT_"
    },
    {
      "cell_type": "code",
      "execution_count": 49,
      "metadata": {
        "colab": {
          "base_uri": "https://localhost:8080/"
        },
        "id": "f75e6cd2",
        "outputId": "826adf40-9c79-49a0-f3b2-49de8b0c299c"
      },
      "outputs": [
        {
          "output_type": "stream",
          "name": "stdout",
          "text": [
            "7280\n"
          ]
        }
      ],
      "source": [
        "#labels_train, labels_test, vectors_train, vectors_test = train_test_split(labels, vectors, test_size=0.05, random_state=42)\n",
        "print(len(index_unique_words))"
      ],
      "id": "f75e6cd2"
    },
    {
      "cell_type": "code",
      "execution_count": 50,
      "metadata": {
        "colab": {
          "base_uri": "https://localhost:8080/"
        },
        "id": "11agGu-ry-DT",
        "outputId": "a155ce30-272a-4ca6-91a7-966892cbd36c"
      },
      "outputs": [
        {
          "output_type": "stream",
          "name": "stdout",
          "text": [
            "1113\n",
            "4452\n",
            "1113\n",
            "4452\n"
          ]
        }
      ],
      "source": [
        "print(len(labels_test))\n",
        "print(len(labels_train))\n",
        "print(len(vectors_test))\n",
        "print(len(vectors_train))"
      ],
      "id": "11agGu-ry-DT"
    },
    {
      "cell_type": "markdown",
      "metadata": {
        "id": "9b205075"
      },
      "source": [
        "Functions for Different distances: Cosine, Euclidean, Manhattan"
      ],
      "id": "9b205075"
    },
    {
      "cell_type": "code",
      "execution_count": 51,
      "metadata": {
        "id": "bff45ebc"
      },
      "outputs": [],
      "source": [
        "#Calculating cosine similarity\n",
        "def cosine_distance(vector_a,vector_b):\n",
        "  dot_product=np.dot(vector_a, vector_b)\n",
        "  mag_a=math.sqrt(np.dot(vector_a, vector_a.T))\n",
        "  mag_b=math.sqrt(np.dot(vector_b,vector_b.T))\n",
        "  val=0\n",
        "  if mag_a != 0 and mag_b != 0:\n",
        "    val=dot_product/float(mag_a*mag_b)\n",
        "  return (1.0-(val))\n",
        "def euclidean_distance(vector_a,vector_b):\n",
        "  return np.linalg.norm(vector_a - vector_b)\n",
        "def manhattan_distance(a, b):\n",
        "    return np.abs(a - b).sum()\n",
        "def hamming_distance(vector_a,vector_b):\n",
        "  return hamming(vector_a,vector_b)*len(vector_a)\n",
        "def calc_distance(vector_a,vector_b,metric):\n",
        "  if metric == \"euclidean\":\n",
        "    return euclidean_distance(vector_a,vector_b)\n",
        "  elif metric == \"manhattan\":\n",
        "    return manhattan_distance(vector_a,vector_b)\n",
        "  elif metric == \"hamming\":\n",
        "    return hamming_distance(vector_a,vector_b)\n",
        "  else:\n",
        "    return cosine_distance(vector_a,vector_b)"
      ],
      "id": "bff45ebc"
    },
    {
      "cell_type": "markdown",
      "metadata": {
        "id": "3c9b85f3"
      },
      "source": [
        "Assigns class based on majority"
      ],
      "id": "3c9b85f3"
    },
    {
      "cell_type": "code",
      "execution_count": 52,
      "metadata": {
        "id": "rxJjWRhavZW4"
      },
      "outputs": [],
      "source": [
        "def get_class(selected_values):\n",
        "    s,h = 0,0\n",
        "    for value in selected_values:\n",
        "        if value == \"spam\":\n",
        "            s += 1\n",
        "        else:\n",
        "            h += 1\n",
        "    if s > h:\n",
        "        return \"spam\"\n",
        "    else:\n",
        "        return \"ham\""
      ],
      "id": "rxJjWRhavZW4"
    },
    {
      "cell_type": "markdown",
      "metadata": {
        "id": "2f222f64"
      },
      "source": [
        "- f1_score calculates the f1 score\n",
        "- score_display prints confusionmatrix,precision,recall,f1_score"
      ],
      "id": "2f222f64"
    },
    {
      "cell_type": "code",
      "execution_count": 53,
      "metadata": {
        "id": "26521377"
      },
      "outputs": [],
      "source": [
        "def score_display(y_true,y_pred,labels):\n",
        "    print('Confusion matrix: ')\n",
        "    print(confusion_matrix(y_true, y_pred,labels=labels))\n",
        "    tn, fp, fn, tp = confusion_matrix(y_true, y_pred,labels=labels).ravel()\n",
        "    precision=tp/(tp+fp)\n",
        "    print('Precision: ',end='')\n",
        "    print(precision,end='')\n",
        "    recall=tp/(tp+fn)\n",
        "    print('\\tRecall: ',end='')\n",
        "    print(recall,end='')\n",
        "    f1_score=2*(precision*recall)/(precision+recall)\n",
        "    print('\\tF1 Score: ',end='')\n",
        "    print(f1_score,end='')\n",
        "    print('\\tAccuracy: ',end='')\n",
        "    print(accuracy_score(y_true,y_pred))\n",
        "def f1_score(y_true,y_pred,labels):\n",
        "    tn, fp, fn, tp = confusion_matrix(y_true, y_pred,labels=labels).ravel()\n",
        "    precision=tp/(tp+fp)\n",
        "    recall=tp/(tp+fn)\n",
        "    f1_score=2*(precision*recall)/(precision+recall)\n",
        "    return f1_score"
      ],
      "id": "26521377"
    },
    {
      "cell_type": "markdown",
      "metadata": {
        "id": "ee6eb76b"
      },
      "source": [
        "### Train your KNN model (reuse previously iplemented model built from scratch) and test on your data"
      ],
      "id": "ee6eb76b"
    },
    {
      "cell_type": "markdown",
      "metadata": {
        "id": "9e779f1b"
      },
      "source": [
        "Implementation of K-NN"
      ],
      "id": "9e779f1b"
    },
    {
      "cell_type": "code",
      "execution_count": 54,
      "metadata": {
        "id": "3beNoZ0GFOSh"
      },
      "outputs": [],
      "source": [
        "\n",
        "def k_nearest_neighbours(k,train_data,train_labels,test_data,metric=\"cosine\"):\n",
        "  test_labels=[]\n",
        "  for i in range(len(test_data)):\n",
        "    k_labels=[]\n",
        "    distances=[]\n",
        "    for j in range(len(train_data)):\n",
        "      distance=calc_distance(test_data[i],train_data[j],metric)\n",
        "      distances.append((distance,train_labels[j]))\n",
        "    top_k_labels=[]\n",
        "    distances.sort()\n",
        "    for j  in distances[:k]:\n",
        "      top_k_labels.append(j[1])\n",
        "    test_labels.append(get_class(top_k_labels))\n",
        "  test_labels=np.array(test_labels)\n",
        "  return test_labels\n",
        "#testing_labels=k_nearest_neighbours(5,vectors_train,labels_train,vectors_test)\n",
        "#f1_score(labels_test,testing_labels,['ham','spam'])"
      ],
      "id": "3beNoZ0GFOSh"
    },
    {
      "cell_type": "markdown",
      "metadata": {
        "id": "f0f0e621"
      },
      "source": [
        "KNN for list of k values"
      ],
      "id": "f0f0e621"
    },
    {
      "cell_type": "code",
      "execution_count": 55,
      "metadata": {
        "id": "b9e08883"
      },
      "outputs": [],
      "source": [
        "#using an array of k-values\n",
        "def k_nearest_neighbours_batch(k_values,train_data,train_labels,test_data,true_label,metric=\"cosine\",display=False):\n",
        "    xtrue_label=np.array(true_label)\n",
        "    all_distances=[]\n",
        "    for i in range(len(test_data)):\n",
        "        distances=[]\n",
        "        for j in range(len(train_data)):\n",
        "            distance=calc_distance(test_data[i],train_data[j],metric)\n",
        "            distances.append((distance,train_labels[j]))\n",
        "        distances.sort()\n",
        "        all_distances.append(distances)\n",
        "    f1_scores=[]\n",
        "    for k in k_values:\n",
        "        test_labels=[]\n",
        "        for i in range(len(test_data)):\n",
        "            top_k_labels=[]\n",
        "            for pair  in all_distances[i][:k]:\n",
        "                top_k_labels.append(pair[1])\n",
        "            test_labels.append(get_class(top_k_labels))\n",
        "        test_labels=np.array(test_labels)\n",
        "        score=f1_score(xtrue_label,test_labels,['ham','spam'])\n",
        "        if display:\n",
        "            print(f\"k = {k}\")\n",
        "            score_display(xtrue_label,test_labels,['ham','spam'])\n",
        "        f1_scores.append(score)\n",
        "    return f1_scores"
      ],
      "id": "b9e08883"
    },
    {
      "cell_type": "markdown",
      "metadata": {
        "id": "22baf6b2"
      },
      "source": [
        "***1. Experiment with different distance measures [Euclidean distance, Manhattan distance, Hamming Distance] and compare with the Cosine Similarity distance results.***"
      ],
      "id": "22baf6b2"
    },
    {
      "cell_type": "code",
      "execution_count": 56,
      "metadata": {
        "colab": {
          "base_uri": "https://localhost:8080/"
        },
        "id": "5d7ae1e6",
        "outputId": "9cf8dcdd-9684-43d6-a629-3da62867c2bb"
      },
      "outputs": [
        {
          "output_type": "stream",
          "name": "stdout",
          "text": [
            "Confusion matrix: \n",
            "[[949   2]\n",
            " [ 42 120]]\n",
            "Precision: 0.9836065573770492\tRecall: 0.7407407407407407\tF1 Score: 0.8450704225352113\tAccuracy: 0.9604672057502246\n"
          ]
        }
      ],
      "source": [
        "cosine_labels=k_nearest_neighbours(5,vectors_train,labels_train,vectors_test)\n",
        "score_display(labels_test,cosine_labels,['ham','spam'])"
      ],
      "id": "5d7ae1e6"
    },
    {
      "cell_type": "code",
      "execution_count": 57,
      "metadata": {
        "colab": {
          "base_uri": "https://localhost:8080/"
        },
        "id": "660711bd",
        "outputId": "d6c17886-64a6-411b-ca27-bd32966877b8"
      },
      "outputs": [
        {
          "output_type": "stream",
          "name": "stdout",
          "text": [
            "Confusion matrix: \n",
            "[[949   2]\n",
            " [ 42 120]]\n",
            "Precision: 0.9836065573770492\tRecall: 0.7407407407407407\tF1 Score: 0.8450704225352113\tAccuracy: 0.9604672057502246\n"
          ]
        }
      ],
      "source": [
        "euclidean_labels=k_nearest_neighbours(5,vectors_train,labels_train,vectors_test)\n",
        "score_display(labels_test,euclidean_labels,['ham','spam'])"
      ],
      "id": "660711bd"
    },
    {
      "cell_type": "code",
      "execution_count": 58,
      "metadata": {
        "colab": {
          "base_uri": "https://localhost:8080/"
        },
        "id": "9f276ba3",
        "outputId": "b1c66715-dbb8-4081-ffde-276460fdce70"
      },
      "outputs": [
        {
          "output_type": "stream",
          "name": "stdout",
          "text": [
            "Confusion matrix: \n",
            "[[949   2]\n",
            " [ 42 120]]\n",
            "Precision: 0.9836065573770492\tRecall: 0.7407407407407407\tF1 Score: 0.8450704225352113\tAccuracy: 0.9604672057502246\n"
          ]
        }
      ],
      "source": [
        "manhattan_labels=k_nearest_neighbours(5,vectors_train,labels_train,vectors_test)\n",
        "score_display(labels_test,manhattan_labels,['ham','spam'])"
      ],
      "id": "9f276ba3"
    },
    {
      "cell_type": "code",
      "execution_count": 59,
      "metadata": {
        "id": "a274a682"
      },
      "outputs": [],
      "source": [
        "k_values=[1,3,5,7,11,17,23,28]"
      ],
      "id": "a274a682"
    },
    {
      "cell_type": "code",
      "execution_count": 60,
      "metadata": {
        "id": "dc86afcf"
      },
      "outputs": [],
      "source": [
        "f1_scores_cosine=k_nearest_neighbours_batch(k_values,vectors_train,labels_train,vectors_test,labels_test,metric=\"cosine\")\n",
        "f1_scores_euclidean=k_nearest_neighbours_batch(k_values,vectors_train,labels_train,vectors_test,labels_test,metric=\"euclidean\")\n",
        "f1_scores_manhattan=k_nearest_neighbours_batch(k_values,vectors_train,labels_train,vectors_test,labels_test,metric=\"manhattan\")"
      ],
      "id": "dc86afcf"
    },
    {
      "cell_type": "code",
      "execution_count": 61,
      "metadata": {
        "colab": {
          "base_uri": "https://localhost:8080/",
          "height": 295
        },
        "id": "9d72a358",
        "outputId": "31ddf0a8-9a4d-46ad-d8a2-9d4c6ebaaf1d"
      },
      "outputs": [
        {
          "output_type": "display_data",
          "data": {
            "image/png": "[encoded data removed]",
            "text/plain": [
              "<Figure size 432x288 with 1 Axes>"
            ]
          },
          "metadata": {
            "needs_background": "light"
          }
        }
      ],
      "source": [
        "plt.plot(k_values,f1_scores_cosine,label='Cosine')\n",
        "plt.plot(k_values,f1_scores_euclidean,label='Euclidean')\n",
        "plt.plot(k_values,f1_scores_manhattan,label='Manhattan')\n",
        "plt.xlabel(\"k\")\n",
        "plt.ylabel(\"F1 score\")\n",
        "plt.legend()\n",
        "plt.title(\"KNN distance comparison\")\n",
        "plt.show()"
      ],
      "id": "9d72a358"
    },
    {
      "cell_type": "markdown",
      "metadata": {
        "id": "bcf6f3b1"
      },
      "source": [
        "***2. Explain which distance measure works best and why? Explore the distance measures and weigh their pro and cons in different application settings.***"
      ],
      "id": "bcf6f3b1"
    },
    {
      "cell_type": "markdown",
      "metadata": {
        "id": "d5db7d0c"
      },
      "source": [
        "Observing the above graph we clearly understand that Cosine distance metric works best as it has better f1 score than the other metrics. This is because in Cosine similarity we look for the angle between two vectors whereas in Eucledian and Manhattan we look for the distance between them using the Minkowski formula.\n",
        "\n",
        "In our particluar use case the angle measurements provide far more accuracy for similarity between words due to the fact that it measures number counts between terms that are semantically similar, on the other hand euclidean and manhattan suffers from high dimensionality of vectors.\n",
        "\n",
        "1. **Cosine Similarity/Distance**: It is the cosine of the angle between the two distance vectors.\n",
        "  - Advantages:\n",
        "    * Since it deals with angles even if two similar vectors are far apart in eucledian distance, they could still have smaller angle between  them.\n",
        "    * Useful in high dimensional data where the magnitude of the vectors of the vectors are not much important.\n",
        "  - Disadvantages:\n",
        "    * Magnitude of vectors are not taken into account only their direction. So for lets say in reccomender systems it does not take into account the difference in rating scale between two users.\n",
        "  - Applications:\n",
        "    * Document Similarity\n",
        "    * Pose Matching\n",
        "2. **Eucledian distance**:It is the distance of the line segment joining the two points using the Pythagoras Theorem formula.\n",
        "  - Advantages:\n",
        "    * Since it deals with angles even if two similar vectors are far apart in eucledian distance, they could still have smaller angle between  them.\n",
        "    * Useful in high dimensional data where the magnitude of the vectors of the vectors are not much important.\n",
        "  - Disadvantages:\n",
        "    * Not scale-invariant,might be skewed depending on the units of features and hence needs to be normalized before using. \n",
        "    * Suffers from high dimensionality\n",
        "  - Applications:\n",
        "    * Useful in low dimensionality methods like KNN and HDBSCAN\n",
        "    * Gene Analysis\n",
        "3. **Manhattan distance**: Distance betweeen two vectors if they could only move at right angles.\n",
        "  - Advantages:\n",
        "    * Unlike Euclidean works for high dimensional data.\n",
        "  - Disadvantages:\n",
        "    * Although it does not suffer from curse of dimensionality like euclidean, it is somewhat less intuitive than euclidean distance.\n",
        "  - Applications:\n",
        "    * Useful for datasets that have discrete or binary data where eucledian will try to create a straight line which might not actually be possible.\n",
        "    * Gene Analysis"
      ],
      "id": "d5db7d0c"
    },
    {
      "cell_type": "markdown",
      "metadata": {
        "id": "45a99c76"
      },
      "source": [
        "***3. For evaluating model, show confusion matrix, accuracy, recall, precision and F1-score. Answer why accuracy alone is not sufficient to evaluate the model. Why we need precision/recall/f1-score. ?***"
      ],
      "id": "45a99c76"
    },
    {
      "cell_type": "markdown",
      "metadata": {
        "id": "67cfe50b"
      },
      "source": [
        "Cosine Metric"
      ],
      "id": "67cfe50b"
    },
    {
      "cell_type": "code",
      "execution_count": 62,
      "metadata": {
        "colab": {
          "base_uri": "https://localhost:8080/"
        },
        "id": "f9e4b72b",
        "outputId": "0bf5bb99-9636-469d-ed04-daaa6a6c31f1"
      },
      "outputs": [
        {
          "output_type": "stream",
          "name": "stdout",
          "text": [
            "k = 1\n",
            "Confusion matrix: \n",
            "[[948   3]\n",
            " [ 17 145]]\n",
            "Precision: 0.9797297297297297\tRecall: 0.8950617283950617\tF1 Score: 0.9354838709677419\tAccuracy: 0.9820305480682839\n",
            "k = 3\n",
            "Confusion matrix: \n",
            "[[949   2]\n",
            " [ 33 129]]\n",
            "Precision: 0.9847328244274809\tRecall: 0.7962962962962963\tF1 Score: 0.8805460750853241\tAccuracy: 0.9685534591194969\n",
            "k = 5\n",
            "Confusion matrix: \n",
            "[[949   2]\n",
            " [ 42 120]]\n",
            "Precision: 0.9836065573770492\tRecall: 0.7407407407407407\tF1 Score: 0.8450704225352113\tAccuracy: 0.9604672057502246\n",
            "k = 7\n",
            "Confusion matrix: \n",
            "[[948   3]\n",
            " [ 41 121]]\n",
            "Precision: 0.9758064516129032\tRecall: 0.7469135802469136\tF1 Score: 0.8461538461538461\tAccuracy: 0.9604672057502246\n",
            "k = 11\n",
            "Confusion matrix: \n",
            "[[949   2]\n",
            " [ 44 118]]\n",
            "Precision: 0.9833333333333333\tRecall: 0.7283950617283951\tF1 Score: 0.8368794326241135\tAccuracy: 0.958670260557053\n",
            "k = 17\n",
            "Confusion matrix: \n",
            "[[948   3]\n",
            " [ 44 118]]\n",
            "Precision: 0.9752066115702479\tRecall: 0.7283950617283951\tF1 Score: 0.8339222614840989\tAccuracy: 0.9577717879604672\n",
            "k = 23\n",
            "Confusion matrix: \n",
            "[[950   1]\n",
            " [ 51 111]]\n",
            "Precision: 0.9910714285714286\tRecall: 0.6851851851851852\tF1 Score: 0.8102189781021897\tAccuracy: 0.9532794249775381\n",
            "k = 28\n",
            "Confusion matrix: \n",
            "[[950   1]\n",
            " [ 58 104]]\n",
            "Precision: 0.9904761904761905\tRecall: 0.6419753086419753\tF1 Score: 0.7790262172284643\tAccuracy: 0.9469901168014375\n"
          ]
        },
        {
          "output_type": "execute_result",
          "data": {
            "text/plain": [
              "[0.9354838709677419,\n",
              " 0.8805460750853241,\n",
              " 0.8450704225352113,\n",
              " 0.8461538461538461,\n",
              " 0.8368794326241135,\n",
              " 0.8339222614840989,\n",
              " 0.8102189781021897,\n",
              " 0.7790262172284643]"
            ]
          },
          "metadata": {},
          "execution_count": 62
        }
      ],
      "source": [
        "k_nearest_neighbours_batch(k_values,vectors_train,labels_train,vectors_test,labels_test,metric=\"cosine\",display=True)"
      ],
      "id": "f9e4b72b"
    },
    {
      "cell_type": "markdown",
      "metadata": {
        "id": "dd383ccd"
      },
      "source": [
        "Euclidean Metric"
      ],
      "id": "dd383ccd"
    },
    {
      "cell_type": "code",
      "execution_count": 63,
      "metadata": {
        "colab": {
          "base_uri": "https://localhost:8080/"
        },
        "id": "3d769eb6",
        "outputId": "dc6c2337-dcc1-4fc4-92cc-c7635f0aebe5"
      },
      "outputs": [
        {
          "output_type": "stream",
          "name": "stdout",
          "text": [
            "k = 1\n",
            "Confusion matrix: \n",
            "[[933  18]\n",
            " [ 36 126]]\n",
            "Precision: 0.875\tRecall: 0.7777777777777778\tF1 Score: 0.823529411764706\tAccuracy: 0.9514824797843666\n",
            "k = 3\n",
            "Confusion matrix: \n",
            "[[938  13]\n",
            " [ 67  95]]\n",
            "Precision: 0.8796296296296297\tRecall: 0.5864197530864198\tF1 Score: 0.7037037037037037\tAccuracy: 0.9281221922731356\n",
            "k = 5\n",
            "Confusion matrix: \n",
            "[[940  11]\n",
            " [ 75  87]]\n",
            "Precision: 0.8877551020408163\tRecall: 0.5370370370370371\tF1 Score: 0.6692307692307694\tAccuracy: 0.9227313566936208\n",
            "k = 7\n",
            "Confusion matrix: \n",
            "[[943   8]\n",
            " [ 86  76]]\n",
            "Precision: 0.9047619047619048\tRecall: 0.4691358024691358\tF1 Score: 0.6178861788617886\tAccuracy: 0.9155435759209344\n",
            "k = 11\n",
            "Confusion matrix: \n",
            "[[943   8]\n",
            " [ 97  65]]\n",
            "Precision: 0.8904109589041096\tRecall: 0.4012345679012346\tF1 Score: 0.5531914893617021\tAccuracy: 0.9056603773584906\n",
            "k = 17\n",
            "Confusion matrix: \n",
            "[[944   7]\n",
            " [111  51]]\n",
            "Precision: 0.8793103448275862\tRecall: 0.3148148148148148\tF1 Score: 0.4636363636363637\tAccuracy: 0.8939802336028752\n",
            "k = 23\n",
            "Confusion matrix: \n",
            "[[946   5]\n",
            " [124  38]]\n",
            "Precision: 0.8837209302325582\tRecall: 0.2345679012345679\tF1 Score: 0.37073170731707317\tAccuracy: 0.8840970350404312\n",
            "k = 28\n",
            "Confusion matrix: \n",
            "[[945   6]\n",
            " [138  24]]\n",
            "Precision: 0.8\tRecall: 0.14814814814814814\tF1 Score: 0.25\tAccuracy: 0.8706199460916442\n"
          ]
        },
        {
          "output_type": "execute_result",
          "data": {
            "text/plain": [
              "[0.823529411764706,\n",
              " 0.7037037037037037,\n",
              " 0.6692307692307694,\n",
              " 0.6178861788617886,\n",
              " 0.5531914893617021,\n",
              " 0.4636363636363637,\n",
              " 0.37073170731707317,\n",
              " 0.25]"
            ]
          },
          "metadata": {},
          "execution_count": 63
        }
      ],
      "source": [
        "k_nearest_neighbours_batch(k_values,vectors_train,labels_train,vectors_test,labels_test,metric=\"euclidean\",display=True)"
      ],
      "id": "3d769eb6"
    },
    {
      "cell_type": "markdown",
      "metadata": {
        "id": "2c2fb7b0"
      },
      "source": [
        "Manhattan Metric"
      ],
      "id": "2c2fb7b0"
    },
    {
      "cell_type": "code",
      "execution_count": 64,
      "metadata": {
        "colab": {
          "base_uri": "https://localhost:8080/"
        },
        "id": "04c5d648",
        "outputId": "3bb65233-7123-4ef2-ed98-9c2830a7bd1a"
      },
      "outputs": [
        {
          "output_type": "stream",
          "name": "stdout",
          "text": [
            "k = 1\n",
            "Confusion matrix: \n",
            "[[933  18]\n",
            " [ 36 126]]\n",
            "Precision: 0.875\tRecall: 0.7777777777777778\tF1 Score: 0.823529411764706\tAccuracy: 0.9514824797843666\n",
            "k = 3\n",
            "Confusion matrix: \n",
            "[[938  13]\n",
            " [ 67  95]]\n",
            "Precision: 0.8796296296296297\tRecall: 0.5864197530864198\tF1 Score: 0.7037037037037037\tAccuracy: 0.9281221922731356\n",
            "k = 5\n",
            "Confusion matrix: \n",
            "[[940  11]\n",
            " [ 75  87]]\n",
            "Precision: 0.8877551020408163\tRecall: 0.5370370370370371\tF1 Score: 0.6692307692307694\tAccuracy: 0.9227313566936208\n",
            "k = 7\n",
            "Confusion matrix: \n",
            "[[943   8]\n",
            " [ 86  76]]\n",
            "Precision: 0.9047619047619048\tRecall: 0.4691358024691358\tF1 Score: 0.6178861788617886\tAccuracy: 0.9155435759209344\n",
            "k = 11\n",
            "Confusion matrix: \n",
            "[[943   8]\n",
            " [ 97  65]]\n",
            "Precision: 0.8904109589041096\tRecall: 0.4012345679012346\tF1 Score: 0.5531914893617021\tAccuracy: 0.9056603773584906\n",
            "k = 17\n",
            "Confusion matrix: \n",
            "[[944   7]\n",
            " [111  51]]\n",
            "Precision: 0.8793103448275862\tRecall: 0.3148148148148148\tF1 Score: 0.4636363636363637\tAccuracy: 0.8939802336028752\n",
            "k = 23\n",
            "Confusion matrix: \n",
            "[[946   5]\n",
            " [124  38]]\n",
            "Precision: 0.8837209302325582\tRecall: 0.2345679012345679\tF1 Score: 0.37073170731707317\tAccuracy: 0.8840970350404312\n",
            "k = 28\n",
            "Confusion matrix: \n",
            "[[945   6]\n",
            " [138  24]]\n",
            "Precision: 0.8\tRecall: 0.14814814814814814\tF1 Score: 0.25\tAccuracy: 0.8706199460916442\n"
          ]
        },
        {
          "output_type": "execute_result",
          "data": {
            "text/plain": [
              "[0.823529411764706,\n",
              " 0.7037037037037037,\n",
              " 0.6692307692307694,\n",
              " 0.6178861788617886,\n",
              " 0.5531914893617021,\n",
              " 0.4636363636363637,\n",
              " 0.37073170731707317,\n",
              " 0.25]"
            ]
          },
          "metadata": {},
          "execution_count": 64
        }
      ],
      "source": [
        "k_nearest_neighbours_batch(k_values,vectors_train,labels_train,vectors_test,labels_test,metric=\"euclidean\",display=True)"
      ],
      "id": "04c5d648"
    },
    {
      "cell_type": "markdown",
      "metadata": {
        "id": "17295626"
      },
      "source": [
        "**Why accuracy alone is not sufficient to evaluate the model. Why we need precision/recall/f1-score. ?**\n"
      ],
      "id": "17295626"
    },
    {
      "cell_type": "markdown",
      "metadata": {
        "id": "d3f81917"
      },
      "source": [
        "Accuracy alone cannot be considered a good evaluation metric. This is due to the fact that we have data imbalances like per say in our dataset we have more ham data than spam. So this does not give a clear idea about our model, on the surface we might think that its working pretty well but we dont consider the false positives and false negatives then from a business point of view our model as failed. So in such cases we need some different metrics of evaluation.\n",
        "- Precision: It is defined as the ratio of correct positive predictions to the total predicted positives. It helps us to identity how accurate our model is in identifying true positive cases over all positive cases and when we dont want False Positives.\n",
        "- Recall:  Recall is defined as the number of true positives divided by the total number of elements that actually belong to the positive class. It is used where false negatives are important.\n",
        "- f1-score: It is the harmonic mean of Precision and Recall.\n",
        "There is a tradeoff between precision and recall. As precision increases, recall decreases and vice versa. So in scenarios where both precision and recall are important, we want to have a balance of Precision and Recall, in such cases we should use f1-score."
      ],
      "id": "d3f81917"
    },
    {
      "cell_type": "markdown",
      "metadata": {
        "id": "d4dde8d3"
      },
      "source": [
        "***4. Choose different K values (k=1,3,5,7,11,17,23,28) and experiment. Plot a graph showing F1 - score vs k.***"
      ],
      "id": "d4dde8d3"
    },
    {
      "cell_type": "code",
      "execution_count": 65,
      "metadata": {
        "colab": {
          "base_uri": "https://localhost:8080/",
          "height": 295
        },
        "id": "45e0fd2f",
        "outputId": "9d95cab8-ee3c-435f-f545-69b20f80992f"
      },
      "outputs": [
        {
          "output_type": "display_data",
          "data": {
            "image/png": "[encoded data removed]",
            "text/plain": [
              "<Figure size 432x288 with 1 Axes>"
            ]
          },
          "metadata": {
            "needs_background": "light"
          }
        }
      ],
      "source": [
        "f1_scores_cosine=k_nearest_neighbours_batch(k_values,vectors_train,labels_train,vectors_test,labels_test,metric=\"cosine\")\n",
        "plt.plot(k_values,f1_scores_cosine)\n",
        "plt.xlabel(\"k\")\n",
        "plt.ylabel(\"F1 score\")\n",
        "plt.title(\"KNN Cosine distance\")\n",
        "plt.show()"
      ],
      "id": "45e0fd2f"
    },
    {
      "cell_type": "code",
      "execution_count": 66,
      "metadata": {
        "colab": {
          "base_uri": "https://localhost:8080/",
          "height": 295
        },
        "id": "ea06275a",
        "outputId": "4a986e62-450f-4b11-9ef2-fe7becb7d818"
      },
      "outputs": [
        {
          "output_type": "display_data",
          "data": {
            "image/png": "[encoded data removed]",
            "text/plain": [
              "<Figure size 432x288 with 1 Axes>"
            ]
          },
          "metadata": {
            "needs_background": "light"
          }
        }
      ],
      "source": [
        "f1_scores_euclidean=k_nearest_neighbours_batch(k_values,vectors_train,labels_train,vectors_test,labels_test,metric=\"euclidean\")\n",
        "plt.plot(k_values,f1_scores_euclidean)\n",
        "plt.xlabel(\"k\")\n",
        "plt.ylabel(\"F1 score\")\n",
        "plt.title(\"KNN Euclidean distance\")\n",
        "plt.show()"
      ],
      "id": "ea06275a"
    },
    {
      "cell_type": "code",
      "execution_count": 67,
      "metadata": {
        "id": "eea67c5a",
        "colab": {
          "base_uri": "https://localhost:8080/",
          "height": 295
        },
        "outputId": "4b1d42f3-1764-46ec-a1f9-9ce604df33e3"
      },
      "outputs": [
        {
          "output_type": "display_data",
          "data": {
            "image/png": "[encoded data removed]",
            "text/plain": [
              "<Figure size 432x288 with 1 Axes>"
            ]
          },
          "metadata": {
            "needs_background": "light"
          }
        }
      ],
      "source": [
        "f1_scores_manhattan=k_nearest_neighbours_batch(k_values,vectors_train,labels_train,vectors_test,labels_test,metric=\"manhattan\")\n",
        "plt.plot(k_values,f1_scores_manhattan)\n",
        "plt.xlabel(\"k\")\n",
        "plt.ylabel(\"F1 score\")\n",
        "plt.title(\"KNN Manhattan distance\")\n",
        "plt.show()"
      ],
      "id": "eea67c5a"
    },
    {
      "cell_type": "markdown",
      "metadata": {
        "id": "15000352"
      },
      "source": [
        "### Train and test Sklearn's KNN classifier model on your data (use metric which gave best results on your experimentation with built-from-scratch model.)"
      ],
      "id": "15000352"
    },
    {
      "cell_type": "markdown",
      "metadata": {
        "id": "fff3949f"
      },
      "source": [
        "Using ideal TF-IDF Vectorizer to compare results between own TF-IDF and sklearn's TF-IDF"
      ],
      "id": "fff3949f"
    },
    {
      "cell_type": "code",
      "execution_count": 68,
      "metadata": {
        "id": "233d56a6"
      },
      "outputs": [],
      "source": [
        "tfidf = TfidfVectorizer(tokenizer=lambda x:x, stop_words=None, lowercase=False)    \n",
        "tf_idf_text = tfidf.fit_transform(data['text'])\n",
        "x_train, x_test, y_train, y_test = train_test_split(tf_idf_text, data['type'], test_size=0.2, random_state=42)"
      ],
      "id": "233d56a6"
    },
    {
      "cell_type": "code",
      "execution_count": 69,
      "metadata": {
        "id": "5dd6a8eb",
        "colab": {
          "base_uri": "https://localhost:8080/",
          "height": 1000
        },
        "outputId": "b42493eb-de9e-4e9b-d970-eb009670c28d"
      },
      "outputs": [
        {
          "output_type": "stream",
          "name": "stdout",
          "text": [
            "k=1\n",
            "Confusion matrix: \n",
            "[[947   4]\n",
            " [ 17 145]]\n",
            "Precision: 0.9731543624161074\tRecall: 0.8950617283950617\tF1 Score: 0.932475884244373\tAccuracy: 0.9811320754716981\n",
            "k=3\n",
            "Confusion matrix: \n",
            "[[949   2]\n",
            " [ 34 128]]\n",
            "Precision: 0.9846153846153847\tRecall: 0.7901234567901234\tF1 Score: 0.8767123287671232\tAccuracy: 0.967654986522911\n",
            "k=5\n",
            "Confusion matrix: \n",
            "[[949   2]\n",
            " [ 39 123]]\n",
            "Precision: 0.984\tRecall: 0.7592592592592593\tF1 Score: 0.8571428571428572\tAccuracy: 0.963162623539982\n",
            "k=7\n",
            "Confusion matrix: \n",
            "[[949   2]\n",
            " [ 40 122]]\n",
            "Precision: 0.9838709677419355\tRecall: 0.7530864197530864\tF1 Score: 0.8531468531468532\tAccuracy: 0.9622641509433962\n",
            "k=11\n",
            "Confusion matrix: \n",
            "[[950   1]\n",
            " [ 44 118]]\n",
            "Precision: 0.9915966386554622\tRecall: 0.7283950617283951\tF1 Score: 0.8398576512455516\tAccuracy: 0.9595687331536388\n",
            "k=17\n",
            "Confusion matrix: \n",
            "[[948   3]\n",
            " [ 48 114]]\n",
            "Precision: 0.9743589743589743\tRecall: 0.7037037037037037\tF1 Score: 0.8172043010752689\tAccuracy: 0.954177897574124\n",
            "k=23\n",
            "Confusion matrix: \n",
            "[[950   1]\n",
            " [ 50 112]]\n",
            "Precision: 0.9911504424778761\tRecall: 0.691358024691358\tF1 Score: 0.8145454545454545\tAccuracy: 0.954177897574124\n",
            "k=28\n",
            "Confusion matrix: \n",
            "[[950   1]\n",
            " [ 55 107]]\n",
            "Precision: 0.9907407407407407\tRecall: 0.6604938271604939\tF1 Score: 0.7925925925925926\tAccuracy: 0.949685534591195\n"
          ]
        },
        {
          "output_type": "display_data",
          "data": {
            "image/png": "[encoded data removed]",
            "text/plain": [
              "<Figure size 432x288 with 1 Axes>"
            ]
          },
          "metadata": {
            "needs_background": "light"
          }
        }
      ],
      "source": [
        "k_values=[1,3,5,7,11,17,23,28]\n",
        "accuracy_list_pred_sk=[]\n",
        "predicted_labels_list_sk=[]\n",
        "for k in k_values:\n",
        "  neigh = KNeighborsClassifier(n_neighbors=k,metric='cosine')\n",
        "  neigh.fit(x_train,y_train)\n",
        "  predicted_labels_sk=neigh.predict(x_test)\n",
        "  score=f1_score(y_test,predicted_labels_sk,labels=['ham','spam'])\n",
        "  print(f\"k={k}\")\n",
        "  score_display(y_test,predicted_labels_sk,labels=['ham','spam'])\n",
        "  accuracy_list_pred_sk.append(score)\n",
        "  predicted_labels_list_sk.append(predicted_labels_sk)\n",
        "plt.plot(k_values,accuracy_list_pred_sk)\n",
        "plt.xlabel(\"k\")\n",
        "plt.ylabel(\"F1 score\")\n",
        "plt.title(\"SK Learn cosine\")\n",
        "plt.show()"
      ],
      "id": "5dd6a8eb"
    },
    {
      "cell_type": "markdown",
      "metadata": {
        "id": "7d22aa47"
      },
      "source": [
        "***Compare both the models result.***"
      ],
      "id": "7d22aa47"
    },
    {
      "cell_type": "code",
      "execution_count": 70,
      "metadata": {
        "id": "6a7a5274",
        "colab": {
          "base_uri": "https://localhost:8080/",
          "height": 295
        },
        "outputId": "9c3be7f7-5862-4c51-d9d4-44fa7eda19c1"
      },
      "outputs": [
        {
          "output_type": "display_data",
          "data": {
            "image/png": "[encoded data removed]",
            "text/plain": [
              "<Figure size 432x288 with 1 Axes>"
            ]
          },
          "metadata": {
            "needs_background": "light"
          }
        }
      ],
      "source": [
        "plt.plot(k_values,accuracy_list_pred_sk,label=\" SK LEARN\")\n",
        "plt.plot(k_values,f1_scores_cosine,label=\"OWN\")\n",
        "plt.legend()\n",
        "plt.xlabel(\"k\")\n",
        "plt.ylabel(\"F1 score\")\n",
        "plt.title(\"Comparison SKLEARN VS OWN\")\n",
        "plt.show()"
      ],
      "id": "6a7a5274"
    },
    {
      "cell_type": "markdown",
      "metadata": {
        "id": "491c20ee"
      },
      "source": [
        "If we observe the above graph, it is evident that our KNN implementation works very similar to that of SK Learn's KNN.\n",
        "This is firstly due to the fact that our Initial pre-processing steps are same for both.\n",
        "\n",
        "We can also conclude that our own TF-IDF vectorizer works very close to the SK Learn's Vectorizer because of the aboce result."
      ],
      "id": "491c20ee"
    },
    {
      "cell_type": "markdown",
      "metadata": {
        "id": "64987575"
      },
      "source": [
        "***What is the time complexity of training using KNN classifier?***"
      ],
      "id": "64987575"
    },
    {
      "cell_type": "markdown",
      "metadata": {
        "id": "2770c106"
      },
      "source": [
        "#### SK Learn :\n",
        "Time complexity: O(1)\n",
        "#### Our Implementation:\n",
        "Time Complexity: O(1)\n",
        "\n",
        "This is due to the fact that there is training in KNN\n"
      ],
      "id": "2770c106"
    },
    {
      "cell_type": "markdown",
      "metadata": {
        "id": "fad1f345"
      },
      "source": [
        "***What is the time complexity while testing? Is KNN a linear classifier or can it learn any boundary?***"
      ],
      "id": "fad1f345"
    },
    {
      "cell_type": "markdown",
      "metadata": {
        "id": "931c2471"
      },
      "source": [
        "#### SK Learn :\n",
        "Time complexity: O(n*d)\n",
        "#### Our Implementation:\n",
        "Time Complexity:  O(n\\*d + nlogn)\n",
        "\n",
        "where n = Number of Training dataset and d = Number of unique words(dimensionality)\n",
        "\n",
        "A classifier is considered to be linear if its decision boundary on the feature space is a linear function: positive and negative examples are separated by an hyperplane. K-NN is considered to be a non-linear classifier.\n",
        "The decision boundaries of K-NN are locally linear segments, but in general have a complex shape that is not equivalent to a line in 2D or a hyperplane in higher dimensions.\n",
        "Since K-NN is a non linear classifier, it can learn any boundary.\n",
        "\n"
      ],
      "id": "931c2471"
    }
  ],
  "metadata": {
    "colab": {
      "collapsed_sections": [],
      "name": "2021201086_Assignment1_Question3.ipynb",
      "provenance": []
    },
    "kernelspec": {
      "display_name": "Python 3",
      "language": "python",
      "name": "python3"
    },
    "language_info": {
      "codemirror_mode": {
        "name": "ipython",
        "version": 3
      },
      "file_extension": ".py",
      "mimetype": "text/x-python",
      "name": "python",
      "nbconvert_exporter": "python",
      "pygments_lexer": "ipython3",
      "version": "3.8.10"
    }
  },
  "nbformat": 4,
  "nbformat_minor": 5
}