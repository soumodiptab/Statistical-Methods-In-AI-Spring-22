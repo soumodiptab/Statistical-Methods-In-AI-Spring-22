{
  "cells": [
    {
      "cell_type": "markdown",
      "id": "866ed254",
      "metadata": {
        "id": "866ed254"
      },
      "source": [
        "# Approximate Nearest Neighbors:\n",
        "\n",
        "# Image Recommendation System via Collaborative Filtering"
      ]
    },
    {
      "cell_type": "markdown",
      "id": "2e08937a",
      "metadata": {
        "id": "2e08937a"
      },
      "source": [
        "# ***Please read the instructions very carefully***\n",
        "This is a modified version of the previous question and requires you to use an artificial nearest neighbors library\n",
        "\n",
        "We suggest you to use one of the following:\n",
        "- [ScaNN](https://github.com/google-research/google-research/tree/master/scann)\n",
        "- [FAISS](https://github.com/facebookresearch/faiss)\n",
        "- [Annoy](https://github.com/spotify/annoy.git)"
      ]
    },
    {
      "cell_type": "markdown",
      "id": "489a4212",
      "metadata": {
        "id": "489a4212"
      },
      "source": [
        "1.   Assignment must be implemented in Python 3 only.\n",
        "2.   You are allowed to use libraries for data preprocessing (numpy, pandas, nltk etc) and for evaluation metrics, data visualization (matplotlib etc.).\n",
        "3.   You will be evaluated not just on the overall performance of the model and also on the experimentation with hyper parameters, data prepossessing techniques etc.\n",
        "4.   ⚠️ The Assignment will be evaluated automatically. Please adhere to taking proper inputs from `config.csv` file. You can change your `config.csv` file to experiment with your code. But at the end, make sure that your outputs are corresponding to input values in `config.csv`\n",
        "5.   Strict plagiarism checking will be done. An F will be awarded for plagiarism."
      ]
    },
    {
      "cell_type": "markdown",
      "id": "f494560c",
      "metadata": {
        "id": "f494560c"
      },
      "source": [
        "## About the Dataset\n",
        "Behance is a community art website where users showcase and discover creative work. Each user is able to “appreciate” (equivalent to a “like” on Instagram or a “react” on Facebook) an image, indicating that they like the image. It is in the website’s best interests to show users pictures that they would like, to keep them engaged for longer. For this question, given a set of pictures that a user has already appreciated, you have to show them a new picture that they would like based on what similar users appreciated.\n",
        "\n",
        "\n",
        "<br><br>\n",
        "**The dataset has information of 1 million appreciates of 63,497 users on 178,788 items. The file Behance appreciate 1M has a triplet in each line in the form of (user id, item id, unix timestamp).**"
      ]
    },
    {
      "cell_type": "markdown",
      "id": "d8dd3f15",
      "metadata": {
        "id": "d8dd3f15"
      },
      "source": [
        "**Task: Take the inputs from the config.csv file and output the recommendations for a particular person**\n",
        "- Collaborative Filtering is a way to predict items to the user based on the the\n",
        "user’s history and the history of similar users. The similarity between users can be quantified by the number of images that both the users appreciated.\n",
        "- The images appreciated by a similar user would be the most suitable images to show a user. Since we can find the similarity between any two users, we would be able to find the “nearest” neighbours of any user, allowing us to use a KNN-based algorithm to recommend new images to a user.\n",
        "- Since people do not like seeing pictures that they have seen already. Make sure that you do not recommend pictures that a user has appreciated already.\n",
        "- Output the final response will be saved in the file named ```config['output_file']```.\n"
      ]
    },
    {
      "cell_type": "markdown",
      "id": "68a52fe5",
      "metadata": {
        "id": "68a52fe5"
      },
      "source": [
        "**Output file format:**\n",
        "Populate the output file with images that the user has not seen of the k most\n",
        "similar users, in descending order of their similarity. Each line in the output\n",
        "file should be a duplet in the form of (item id, user id), where the user id is the\n",
        "id of the kth similar user. The order of the images corresponding to the same\n",
        "similar user would not matter. The output file would look something like this:\n",
        "```\n",
        "item_id_1_of_1st_similar_user 1st_most_similar_user_id\n",
        "item_id_2_of_1st_similar_user 1st_most_similar_user_id\n",
        "item_id_3_of_1st_similar_user 1st_most_similar_user_id\n",
        "...\n",
        "item_id_1_of_2nd_similar_user 2nd_most_similar_user_id\n",
        "item_id_2_of_2nd_similar_user 2nd_most_similar_user_id\n",
        "item_id_3_of_2nd_similar_user 2nd_most_similar_user_id\n",
        "...\n",
        "item_id_1_of_kth_similar_user kth_most_similar_user_id\n",
        "item_id_2_of_kth_similar_user kth_most_similar_user_id\n",
        "item_id_3_of_kth_similar_user kth_most_similar_user_id\n",
        "```"
      ]
    },
    {
      "cell_type": "markdown",
      "id": "26d46fd2",
      "metadata": {
        "id": "26d46fd2"
      },
      "source": [
        "You may use any other recommendation system that you wish to use. However,\n",
        "evaluation script will score your submission by measuring the similarity between\n",
        "users with the number of common images they appreciated.\n",
        "The dataset was extracted using Behance’s API as a part of the paper\n",
        "“Vista: A visually, socially, and temporally-aware model for artistic\n",
        "recommendation, RecSys, 2016”. Check out this [Google Drive folder](https://drive.google.com/drive/folders/0B9Ck8jw-TZUEc3NlMjVXdDlPU1k?resourcekey=0-6_8ykn0o4fLc5fuTEm91xA) for\n",
        "more information about the dataset.\n",
        "\n",
        "\n",
        "Have fun! The users are waiting to see new pictures!"
      ]
    },
    {
      "cell_type": "markdown",
      "id": "912088cf",
      "metadata": {
        "id": "912088cf"
      },
      "source": [
        "### Import necessary libraries"
      ]
    },
    {
      "cell_type": "code",
      "execution_count": 16,
      "id": "13e9cbe3",
      "metadata": {
        "colab": {
          "base_uri": "https://localhost:8080/"
        },
        "id": "13e9cbe3",
        "outputId": "67c11120-4c77-4d33-bc3b-47ea68827785"
      },
      "outputs": [
        {
          "name": "stdout",
          "output_type": "stream",
          "text": [
            "Requirement already satisfied: annoy in /root/.local/lib/python3.7/site-packages (1.17.0)\n"
          ]
        }
      ],
      "source": []
    },
    {
      "cell_type": "code",
      "execution_count": 17,
      "id": "wlos-uNh6KS0",
      "metadata": {
        "colab": {
          "base_uri": "https://localhost:8080/",
          "height": 372
        },
        "id": "wlos-uNh6KS0",
        "outputId": "f851aa4a-6628-491d-f2d1-cc006ada28bc"
      },
      "outputs": [
        {
          "ename": "ModuleNotFoundError",
          "evalue": "ignored",
          "output_type": "error",
          "traceback": [
            "\u001b[0;31m---------------------------------------------------------------------------\u001b[0m",
            "\u001b[0;31mModuleNotFoundError\u001b[0m                       Traceback (most recent call last)",
            "\u001b[0;32m<ipython-input-17-d7eb71ba494f>\u001b[0m in \u001b[0;36m<module>\u001b[0;34m()\u001b[0m\n\u001b[1;32m      1\u001b[0m \u001b[0;32mimport\u001b[0m \u001b[0mnumpy\u001b[0m \u001b[0;32mas\u001b[0m \u001b[0mnp\u001b[0m\u001b[0;34m\u001b[0m\u001b[0;34m\u001b[0m\u001b[0m\n\u001b[1;32m      2\u001b[0m \u001b[0;32mimport\u001b[0m \u001b[0mpandas\u001b[0m \u001b[0;32mas\u001b[0m \u001b[0mpd\u001b[0m\u001b[0;34m\u001b[0m\u001b[0;34m\u001b[0m\u001b[0m\n\u001b[0;32m----> 3\u001b[0;31m \u001b[0;32mfrom\u001b[0m \u001b[0mannoy\u001b[0m \u001b[0;32mimport\u001b[0m \u001b[0mAnnoyIndex\u001b[0m\u001b[0;34m\u001b[0m\u001b[0;34m\u001b[0m\u001b[0m\n\u001b[0m\u001b[1;32m      4\u001b[0m \u001b[0;32mimport\u001b[0m \u001b[0mrandom\u001b[0m\u001b[0;34m\u001b[0m\u001b[0;34m\u001b[0m\u001b[0m\n",
            "\u001b[0;31mModuleNotFoundError\u001b[0m: No module named 'annoy'",
            "",
            "\u001b[0;31m---------------------------------------------------------------------------\u001b[0;32m\nNOTE: If your import is failing due to a missing package, you can\nmanually install dependencies using either !pip or !apt.\n\nTo view examples of installing some common dependencies, click the\n\"Open Examples\" button below.\n\u001b[0;31m---------------------------------------------------------------------------\u001b[0m\n"
          ]
        }
      ],
      "source": [
        "import numpy as np\n",
        "import pandas as pd\n",
        "from annoy import AnnoyIndex\n",
        "import random"
      ]
    },
    {
      "cell_type": "code",
      "execution_count": null,
      "id": "0c9c4cd1",
      "metadata": {
        "id": "0c9c4cd1"
      },
      "outputs": [],
      "source": [
        "# Config Generation Sample Code.\n",
        "# ⚠️ Only for experimentation on your side.\n",
        "# ⚠️ Should be commented during submission.\n",
        "\n",
        "# df = pd.DataFrame(data=[{'id':276633,\n",
        "#                   'k':5,\n",
        "#                   'dataset_file':'./Behance_appreciate_1M',\n",
        "#                   'output_file':'./output.txt'}])\n",
        "# df.to_csv('config.csv')"
      ]
    },
    {
      "cell_type": "code",
      "execution_count": null,
      "id": "cb6bc1ff",
      "metadata": {
        "id": "cb6bc1ff"
      },
      "outputs": [],
      "source": [
        "config = pd.read_csv('config.csv').iloc[0]"
      ]
    },
    {
      "cell_type": "code",
      "execution_count": null,
      "id": "ef721d6b",
      "metadata": {
        "id": "ef721d6b"
      },
      "outputs": [],
      "source": [
        "config"
      ]
    },
    {
      "cell_type": "code",
      "execution_count": null,
      "id": "4966a889",
      "metadata": {
        "id": "4966a889"
      },
      "outputs": [],
      "source": [
        "user = config['id']\n",
        "k_value = config['k']"
      ]
    },
    {
      "cell_type": "markdown",
      "id": "e8e50dee",
      "metadata": {
        "id": "e8e50dee"
      },
      "source": [
        "### Read the Data"
      ]
    },
    {
      "cell_type": "code",
      "execution_count": null,
      "id": "cd74173b",
      "metadata": {
        "id": "cd74173b"
      },
      "outputs": [],
      "source": [
        "with open(config['dataset_file'], 'r') as inFile:\n",
        "    appreciate_data = inFile.readlines()"
      ]
    },
    {
      "cell_type": "code",
      "execution_count": null,
      "id": "e8542cda",
      "metadata": {
        "id": "e8542cda"
      },
      "outputs": [],
      "source": [
        "# your code here"
      ]
    },
    {
      "cell_type": "markdown",
      "id": "e09e9961",
      "metadata": {
        "id": "e09e9961"
      },
      "source": [
        "### Initialize a dictionary to store the item_ids that a user likes\n",
        "\n",
        "### Go through each line of the input file and construct the user_likes dictionary"
      ]
    },
    {
      "cell_type": "code",
      "execution_count": null,
      "id": "8ff4a80d",
      "metadata": {
        "id": "8ff4a80d"
      },
      "outputs": [],
      "source": [
        "user_likes = dict()"
      ]
    },
    {
      "cell_type": "code",
      "execution_count": null,
      "id": "5b55dc0b",
      "metadata": {
        "id": "5b55dc0b"
      },
      "outputs": [],
      "source": [
        "users_total=0\n",
        "users=[]\n",
        "images=[]\n",
        "for line in appreciate_data:\n",
        "  line = line.strip()\n",
        "  user_id = int(line.split()[0])\n",
        "  item_id = int(line.split()[1])\n",
        "  images.append(item_id)\n",
        "  users.append(user_id)\n",
        "  if user_id not in user_likes:\n",
        "    user_likes[user_id] = list()\n",
        "  users_total+=1\n",
        "  user_likes[user_id].append(item_id)"
      ]
    },
    {
      "cell_type": "code",
      "execution_count": null,
      "id": "5FwDx1Yv5a51",
      "metadata": {
        "id": "5FwDx1Yv5a51"
      },
      "outputs": [],
      "source": [
        "items_dict={}\n",
        "user_dict={}\n",
        "index=0\n",
        "for item in images:\n",
        "  if item not in items_dict.keys():\n",
        "    items_dict[item]=index\n",
        "  index+=1\n",
        "index=0\n",
        "for user in users:\n",
        "  if user not in user_dict.keys():\n",
        "    user_dict[user]=index\n",
        "  index+=1\n",
        "users=set(users)\n",
        "images=set(images)"
      ]
    },
    {
      "cell_type": "code",
      "execution_count": null,
      "id": "K3zLlqv-5qkM",
      "metadata": {
        "id": "K3zLlqv-5qkM"
      },
      "outputs": [],
      "source": [
        "images_total=len(images)\n",
        "users_total=len(users)"
      ]
    },
    {
      "cell_type": "code",
      "execution_count": null,
      "id": "6XF-mKby5tSY",
      "metadata": {
        "id": "6XF-mKby5tSY"
      },
      "outputs": [],
      "source": [
        "print(users_total)\n",
        "print(images_total)"
      ]
    },
    {
      "cell_type": "code",
      "execution_count": null,
      "id": "-2E5Jj0i5vY0",
      "metadata": {
        "id": "-2E5Jj0i5vY0"
      },
      "outputs": [],
      "source": [
        "data=np.zeros(shape=(users_total,images_total),dtype=np.int8)"
      ]
    },
    {
      "cell_type": "code",
      "execution_count": null,
      "id": "FIu2S5Fi5w3m",
      "metadata": {
        "id": "FIu2S5Fi5w3m"
      },
      "outputs": [],
      "source": [
        "for user in user_likes.keys():\n",
        "  for image in user_likes[user]:\n",
        "    data[user_dict[user],items_dict[image]]=1"
      ]
    },
    {
      "cell_type": "code",
      "execution_count": null,
      "id": "Iab5gqex5ydo",
      "metadata": {
        "id": "Iab5gqex5ydo"
      },
      "outputs": [],
      "source": [
        "data=csr_matrix(data)"
      ]
    },
    {
      "cell_type": "code",
      "execution_count": null,
      "id": "NJF-T1TO51im",
      "metadata": {
        "id": "NJF-T1TO51im"
      },
      "outputs": [],
      "source": [
        "print(data)"
      ]
    },
    {
      "cell_type": "code",
      "execution_count": null,
      "id": "DTHOStDT509o",
      "metadata": {
        "id": "DTHOStDT509o"
      },
      "outputs": [],
      "source": [
        "svd = TruncatedSVD(n_components=1000,random_state=17)\n",
        "svd_data=svd.fit_transform(data)"
      ]
    },
    {
      "cell_type": "code",
      "execution_count": null,
      "id": "89zF5P0G531k",
      "metadata": {
        "id": "89zF5P0G531k"
      },
      "outputs": [],
      "source": [
        "print(data)"
      ]
    },
    {
      "cell_type": "markdown",
      "id": "cd017880",
      "metadata": {
        "id": "cd017880"
      },
      "source": [
        "### Use your choice of Approximate Nearest Neigbor after Collaborative Filtering to find nearest neighbors"
      ]
    },
    {
      "cell_type": "code",
      "execution_count": null,
      "id": "5ee1d377",
      "metadata": {
        "id": "5ee1d377"
      },
      "outputs": [],
      "source": [
        "# Finding distance using Jaccards similarity\n",
        "def jaccard_distance(user_x,user_y,data):\n",
        "  inter=len(set(data[user_x]).intersection(data[user_y]))\n",
        "  union=len(data[user_x])+len(data[user_y])-inter\n",
        "  similarity_score=(float(inter)/union)\n",
        "  return similarity_score\n",
        "def simple_similarity(user_x,user_y,data):\n",
        "  inter=len(set(data[user_x]).intersection(data[user_y]))\n",
        "  return inter\n",
        "def cosine_similarity(vector_a,vector_b):\n",
        "  dot_product=np.dot(vector_a, vector_b)\n",
        "  mag_a=np.linalg.norm(vector_a)\n",
        "  mag_b=np.linalg.norm(vector_b)\n",
        "  return (dot_product/float(mag_a*mag_b))\n",
        "# Finding the k nearest users of a user using item watching patterns\n",
        "def neighbors(user,k_value):\n",
        "    \"\"\" returns an iterable object (like list or generator) \"\"\"\n",
        "    # list of tuples of distances and corresponding user attached\n",
        "    top_k_users=[]\n",
        "    distances=[]\n",
        "    for neighbour in user_dict.keys():\n",
        "      if neighbour == user:\n",
        "        continue\n",
        "      #distance=jaccard_distance(user,neighbour,user_likes)\n",
        "      distance=cosine_similarity(svd_data[user_dict[user]],svd_data[user_dict[neighbour]])\n",
        "      distances.append((distance,neighbour))\n",
        "    top_k_users=[]\n",
        "    distances.sort(reverse=True)\n",
        "    for i  in distances[:k_value]:\n",
        "      top_k_users.append(i[1])\n",
        "    return top_k_users\n",
        "neighbors(276633,5)"
      ]
    },
    {
      "cell_type": "markdown",
      "id": "0b6f24d6",
      "metadata": {
        "id": "0b6f24d6"
      },
      "source": [
        "### Answer the following questions:"
      ]
    },
    {
      "cell_type": "markdown",
      "id": "012f72f8",
      "metadata": {
        "id": "012f72f8"
      },
      "source": [
        "#### Q1. **Explain how your choice of library works**\n",
        "\n",
        "*your solution here*"
      ]
    },
    {
      "cell_type": "markdown",
      "id": "3b0ac14b",
      "metadata": {
        "id": "3b0ac14b"
      },
      "source": [
        "#### Q2. **Compare your choice of library with vanilla KNN.**\n",
        "***Hint: Include Time Complexity, and explain the tradeoff with recall***\n",
        "\n",
        "*your solution here*"
      ]
    },
    {
      "cell_type": "markdown",
      "id": "400d7827",
      "metadata": {
        "id": "400d7827"
      },
      "source": [
        "#### Q3. **Compare your choice of library with implementation of ScaNN, faiss and annoy.**\n",
        "***Hint: Include Time Complexity, and explain the tradeoff with recall***\n",
        "\n",
        "*your solution here*"
      ]
    },
    {
      "cell_type": "markdown",
      "id": "142440b0",
      "metadata": {
        "id": "142440b0"
      },
      "source": [
        "### Open the output file to write all the lines to the file"
      ]
    },
    {
      "cell_type": "code",
      "execution_count": null,
      "id": "977b08f9",
      "metadata": {
        "id": "977b08f9"
      },
      "outputs": [],
      "source": [
        "outFile = open(config['output_file'], 'w')\n",
        "\n",
        "for n_user in neighbors(user,k_value):\n",
        "    user_id = list(user_likes.keys())[n_user]\n",
        "    for item_id in user_likes[user_id]:\n",
        "        outFile.write(str(item_id) + ' ' + str(user_id) + '\\n')\n",
        "\n",
        "outFile.close()"
      ]
    }
  ],
  "metadata": {
    "colab": {
      "name": "2021201086_Assignment1_Question2.ipynb",
      "provenance": []
    },
    "kernelspec": {
      "display_name": "Python 3",
      "language": "python",
      "name": "python3"
    },
    "language_info": {
      "codemirror_mode": {
        "name": "ipython",
        "version": 3
      },
      "file_extension": ".py",
      "mimetype": "text/x-python",
      "name": "python",
      "nbconvert_exporter": "python",
      "pygments_lexer": "ipython3",
      "version": "3.8.10"
    }
  },
  "nbformat": 4,
  "nbformat_minor": 5
}
