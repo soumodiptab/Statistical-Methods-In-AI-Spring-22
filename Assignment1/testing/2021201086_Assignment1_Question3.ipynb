{
  "cells": [
    {
      "cell_type": "markdown",
      "id": "02c54141",
      "metadata": {
        "id": "02c54141"
      },
      "source": [
        "## Spam Email Classifier with KNN using TF-IDF scores"
      ]
    },
    {
      "cell_type": "markdown",
      "id": "1c17102e",
      "metadata": {
        "id": "1c17102e"
      },
      "source": [
        "1.   Assignment must be implemented in Python 3 only.\n",
        "2.   You are allowed to use libraries for data preprocessing (numpy, pandas, nltk etc) and for evaluation metrics, data visualization (matplotlib etc.).\n",
        "3.   You will be evaluated not just on the overall performance of the model and also on the experimentation with hyper parameters, data prepossessing techniques etc.\n",
        "4.   The report file must be a well documented jupyter notebook, explaining the experiments you have performed, evaluation metrics and corresponding code. The code must run and be able to reproduce the accuracies, figures/graphs etc.\n",
        "5.   For all the questions, you must create a train-validation data split and test the hyperparameter tuning on the validation set. Your jupyter notebook must reflect the same.\n",
        "6.   Strict plagiarism checking will be done. An F will be awarded for plagiarism."
      ]
    },
    {
      "cell_type": "markdown",
      "id": "0d34a310",
      "metadata": {
        "id": "0d34a310"
      },
      "source": [
        "**Task: Given an email, classify it as spam or ham**\n",
        "\n",
        "Given input text file (\"emails.txt\") containing 5572 email messages, with each row having its corresponding label (spam/ham) attached to it.\n",
        "\n",
        "This task also requires basic pre-processing of text (like removing stopwords, stemming/lemmatizing, replacing email_address with 'email-tag', etc..).\n",
        "\n",
        "You are required to find the tf-idf scores for the given data and use them to perform KNN using Cosine Similarity."
      ]
    },
    {
      "cell_type": "markdown",
      "id": "b0c87696",
      "metadata": {
        "id": "b0c87696"
      },
      "source": [
        "### Import necessary libraries"
      ]
    },
    {
      "cell_type": "code",
      "execution_count": 82,
      "id": "3d5a1fe2",
      "metadata": {
        "id": "3d5a1fe2"
      },
      "outputs": [],
      "source": [
        "import pandas as pd\n",
        "import numpy as np\n",
        "import matplotlib.pyplot as plt\n",
        "import string\n",
        "from nltk.corpus import stopwords\n",
        "from nltk.tokenize import word_tokenize\n",
        "from nltk.stem.wordnet import WordNetLemmatizer\n",
        "from sklearn.model_selection import train_test_split\n",
        "from sklearn.neighbors import KNeighborsClassifier\n",
        "from sklearn.metrics import accuracy_score\n",
        "from sklearn.metrics import confusion_matrix\n",
        "from scipy.spatial.distance import hamming\n",
        "from sklearn.feature_extraction.text import CountVectorizer\n",
        "from sklearn.feature_extraction.text import TfidfTransformer\n",
        "from sklearn.feature_extraction.text import TfidfVectorizer\n",
        "import nltk\n",
        "import math"
      ]
    },
    {
      "cell_type": "code",
      "execution_count": 2,
      "id": "sQJ8c3MjtqUG",
      "metadata": {
        "colab": {
          "base_uri": "https://localhost:8080/"
        },
        "id": "sQJ8c3MjtqUG",
        "outputId": "92cb3688-4235-491c-d9fb-947048edf7e1"
      },
      "outputs": [
        {
          "name": "stderr",
          "output_type": "stream",
          "text": [
            "[nltk_data] Downloading package punkt to\n",
            "[nltk_data]     /home/soumodiptab/nltk_data...\n",
            "[nltk_data]   Package punkt is already up-to-date!\n",
            "[nltk_data] Downloading package stopwords to\n",
            "[nltk_data]     /home/soumodiptab/nltk_data...\n",
            "[nltk_data]   Package stopwords is already up-to-date!\n",
            "[nltk_data] Downloading package wordnet to\n",
            "[nltk_data]     /home/soumodiptab/nltk_data...\n",
            "[nltk_data]   Package wordnet is already up-to-date!\n"
          ]
        },
        {
          "data": {
            "text/plain": [
              "True"
            ]
          },
          "execution_count": 2,
          "metadata": {},
          "output_type": "execute_result"
        }
      ],
      "source": [
        "#Downloading the nltk libraries\n",
        "nltk.download('punkt')\n",
        "nltk.download('stopwords')\n",
        "nltk.download('wordnet')"
      ]
    },
    {
      "cell_type": "markdown",
      "id": "yMyWwAWj_wKa",
      "metadata": {
        "id": "yMyWwAWj_wKa"
      },
      "source": [
        "### Load Dataset"
      ]
    },
    {
      "cell_type": "code",
      "execution_count": 3,
      "id": "f178f892",
      "metadata": {
        "colab": {
          "base_uri": "https://localhost:8080/",
          "height": 458
        },
        "id": "f178f892",
        "outputId": "0f14c687-90b1-4c49-fcc5-3ffb0ff85513"
      },
      "outputs": [
        {
          "data": {
            "text/html": [
              "<div>\n",
              "<style scoped>\n",
              "    .dataframe tbody tr th:only-of-type {\n",
              "        vertical-align: middle;\n",
              "    }\n",
              "\n",
              "    .dataframe tbody tr th {\n",
              "        vertical-align: top;\n",
              "    }\n",
              "\n",
              "    .dataframe thead th {\n",
              "        text-align: right;\n",
              "    }\n",
              "</style>\n",
              "<table border=\"1\" class=\"dataframe\">\n",
              "  <thead>\n",
              "    <tr style=\"text-align: right;\">\n",
              "      <th></th>\n",
              "      <th>type</th>\n",
              "      <th>text</th>\n",
              "    </tr>\n",
              "  </thead>\n",
              "  <tbody>\n",
              "    <tr>\n",
              "      <th>0</th>\n",
              "      <td>ham</td>\n",
              "      <td>Go until jurong point, crazy.. Available only ...</td>\n",
              "    </tr>\n",
              "    <tr>\n",
              "      <th>1</th>\n",
              "      <td>ham</td>\n",
              "      <td>Ok lar... Joking wif u oni...</td>\n",
              "    </tr>\n",
              "    <tr>\n",
              "      <th>2</th>\n",
              "      <td>spam</td>\n",
              "      <td>Free entry in 2 a wkly comp to win FA Cup fina...</td>\n",
              "    </tr>\n",
              "    <tr>\n",
              "      <th>3</th>\n",
              "      <td>ham</td>\n",
              "      <td>U dun say so early hor... U c already then say...</td>\n",
              "    </tr>\n",
              "    <tr>\n",
              "      <th>4</th>\n",
              "      <td>ham</td>\n",
              "      <td>Nah I don't think he goes to usf, he lives aro...</td>\n",
              "    </tr>\n",
              "    <tr>\n",
              "      <th>...</th>\n",
              "      <td>...</td>\n",
              "      <td>...</td>\n",
              "    </tr>\n",
              "    <tr>\n",
              "      <th>5567</th>\n",
              "      <td>spam</td>\n",
              "      <td>This is the 2nd time we have tried 2 contact u...</td>\n",
              "    </tr>\n",
              "    <tr>\n",
              "      <th>5568</th>\n",
              "      <td>ham</td>\n",
              "      <td>Will ü b going to esplanade fr home?</td>\n",
              "    </tr>\n",
              "    <tr>\n",
              "      <th>5569</th>\n",
              "      <td>ham</td>\n",
              "      <td>Pity, * was in mood for that. So...any other s...</td>\n",
              "    </tr>\n",
              "    <tr>\n",
              "      <th>5570</th>\n",
              "      <td>ham</td>\n",
              "      <td>The guy did some bitching but I acted like i'd...</td>\n",
              "    </tr>\n",
              "    <tr>\n",
              "      <th>5571</th>\n",
              "      <td>ham</td>\n",
              "      <td>Rofl. Its true to its name</td>\n",
              "    </tr>\n",
              "  </tbody>\n",
              "</table>\n",
              "<p>5572 rows × 2 columns</p>\n",
              "</div>"
            ],
            "text/plain": [
              "      type                                               text\n",
              "0      ham  Go until jurong point, crazy.. Available only ...\n",
              "1      ham                      Ok lar... Joking wif u oni...\n",
              "2     spam  Free entry in 2 a wkly comp to win FA Cup fina...\n",
              "3      ham  U dun say so early hor... U c already then say...\n",
              "4      ham  Nah I don't think he goes to usf, he lives aro...\n",
              "...    ...                                                ...\n",
              "5567  spam  This is the 2nd time we have tried 2 contact u...\n",
              "5568   ham               Will ü b going to esplanade fr home?\n",
              "5569   ham  Pity, * was in mood for that. So...any other s...\n",
              "5570   ham  The guy did some bitching but I acted like i'd...\n",
              "5571   ham                         Rofl. Its true to its name\n",
              "\n",
              "[5572 rows x 2 columns]"
            ]
          },
          "execution_count": 3,
          "metadata": {},
          "output_type": "execute_result"
        }
      ],
      "source": [
        "\"\"\"from google.colab import drive\n",
        "drive.mount('/content/drive')\n",
        "%cd /content/drive/My Drive/smai/\n",
        "\"\"\"\n",
        "data=pd.read_csv('emails.txt',sep='\\t',header=None)\n",
        "data.columns=['type','text']\n",
        "data"
      ]
    },
    {
      "cell_type": "markdown",
      "id": "cd1ef5ba",
      "metadata": {
        "id": "cd1ef5ba"
      },
      "source": [
        "### Preprocess data:\n",
        "1. Removing Punctuation\n",
        "2. Tokenizing\n",
        "3. Converting to lower case\n",
        "4. Removing stop words\n",
        "5. Lemmatizing the tokens"
      ]
    },
    {
      "cell_type": "code",
      "execution_count": 4,
      "id": "fd1733d7",
      "metadata": {
        "id": "fd1733d7"
      },
      "outputs": [],
      "source": [
        "# punctuations\n",
        "punctuations=string.punctuation\n",
        "# stopwords\n",
        "stop_words=stopwords.words('english')\n",
        "def remove_punctuations(text):\n",
        "  for c in punctuations:\n",
        "    text=text.replace(c,\" \")\n",
        "  return text\n",
        "wn = WordNetLemmatizer()\n",
        "#removing stopwords\n",
        "data['text'] = data['text'].apply(remove_punctuations)\n",
        "#tokenizing the text\n",
        "data['text'] = data['text'].apply(word_tokenize)\n",
        "#removing the \n",
        "data['text'] = data['text'].apply(lambda x: ([word.lower() for word in x if word.lower() not in stop_words]))\n",
        "#Lemmatizing\n",
        "data['text'] = data['text'].apply(lambda x: [wn.lemmatize(word) for word in x])"
      ]
    },
    {
      "cell_type": "code",
      "execution_count": 5,
      "id": "zjbnH-DisfLO",
      "metadata": {
        "colab": {
          "base_uri": "https://localhost:8080/"
        },
        "id": "zjbnH-DisfLO",
        "outputId": "3cbe448e-6676-4c1e-de1c-6ad8749b6209"
      },
      "outputs": [
        {
          "data": {
            "text/html": [
              "<div>\n",
              "<style scoped>\n",
              "    .dataframe tbody tr th:only-of-type {\n",
              "        vertical-align: middle;\n",
              "    }\n",
              "\n",
              "    .dataframe tbody tr th {\n",
              "        vertical-align: top;\n",
              "    }\n",
              "\n",
              "    .dataframe thead th {\n",
              "        text-align: right;\n",
              "    }\n",
              "</style>\n",
              "<table border=\"1\" class=\"dataframe\">\n",
              "  <thead>\n",
              "    <tr style=\"text-align: right;\">\n",
              "      <th></th>\n",
              "      <th>type</th>\n",
              "      <th>text</th>\n",
              "    </tr>\n",
              "  </thead>\n",
              "  <tbody>\n",
              "    <tr>\n",
              "      <th>3182</th>\n",
              "      <td>ham</td>\n",
              "      <td>[many, people, seems, special, first, sight, r...</td>\n",
              "    </tr>\n",
              "    <tr>\n",
              "      <th>4088</th>\n",
              "      <td>spam</td>\n",
              "      <td>[private, 2003, account, statement, 0797378824...</td>\n",
              "    </tr>\n",
              "    <tr>\n",
              "      <th>3733</th>\n",
              "      <td>ham</td>\n",
              "      <td>[gud, mrng, dear, hav, nice, day]</td>\n",
              "    </tr>\n",
              "    <tr>\n",
              "      <th>528</th>\n",
              "      <td>ham</td>\n",
              "      <td>[yes, pretty, lady, like, single]</td>\n",
              "    </tr>\n",
              "    <tr>\n",
              "      <th>3344</th>\n",
              "      <td>ham</td>\n",
              "      <td>[forgotten, might, couple, buck, send, tomorro...</td>\n",
              "    </tr>\n",
              "    <tr>\n",
              "      <th>2469</th>\n",
              "      <td>ham</td>\n",
              "      <td>[lol, well, without, could, big, sale, together]</td>\n",
              "    </tr>\n",
              "    <tr>\n",
              "      <th>1290</th>\n",
              "      <td>ham</td>\n",
              "      <td>[hey, great, deal, farm, tour, 9am, 5pm, 95, p...</td>\n",
              "    </tr>\n",
              "    <tr>\n",
              "      <th>3004</th>\n",
              "      <td>ham</td>\n",
              "      <td>[see, half, hour]</td>\n",
              "    </tr>\n",
              "    <tr>\n",
              "      <th>629</th>\n",
              "      <td>spam</td>\n",
              "      <td>[new, textbuddy, chat, 2, horny, guy, ur, area...</td>\n",
              "    </tr>\n",
              "    <tr>\n",
              "      <th>4722</th>\n",
              "      <td>ham</td>\n",
              "      <td>[yup, anything, lor, u, dun, wan, ok]</td>\n",
              "    </tr>\n",
              "  </tbody>\n",
              "</table>\n",
              "</div>"
            ],
            "text/plain": [
              "      type                                               text\n",
              "3182   ham  [many, people, seems, special, first, sight, r...\n",
              "4088  spam  [private, 2003, account, statement, 0797378824...\n",
              "3733   ham                  [gud, mrng, dear, hav, nice, day]\n",
              "528    ham                  [yes, pretty, lady, like, single]\n",
              "3344   ham  [forgotten, might, couple, buck, send, tomorro...\n",
              "2469   ham   [lol, well, without, could, big, sale, together]\n",
              "1290   ham  [hey, great, deal, farm, tour, 9am, 5pm, 95, p...\n",
              "3004   ham                                  [see, half, hour]\n",
              "629   spam  [new, textbuddy, chat, 2, horny, guy, ur, area...\n",
              "4722   ham              [yup, anything, lor, u, dun, wan, ok]"
            ]
          },
          "execution_count": 5,
          "metadata": {},
          "output_type": "execute_result"
        }
      ],
      "source": [
        "data.sample(10)"
      ]
    },
    {
      "cell_type": "code",
      "execution_count": 6,
      "id": "wMLUMyu_2gj5",
      "metadata": {
        "colab": {
          "base_uri": "https://localhost:8080/"
        },
        "id": "wMLUMyu_2gj5",
        "outputId": "93b45c37-52f2-41a9-a1fe-aa837d2e0b58"
      },
      "outputs": [
        {
          "data": {
            "text/html": [
              "<div>\n",
              "<style scoped>\n",
              "    .dataframe tbody tr th:only-of-type {\n",
              "        vertical-align: middle;\n",
              "    }\n",
              "\n",
              "    .dataframe tbody tr th {\n",
              "        vertical-align: top;\n",
              "    }\n",
              "\n",
              "    .dataframe thead th {\n",
              "        text-align: right;\n",
              "    }\n",
              "</style>\n",
              "<table border=\"1\" class=\"dataframe\">\n",
              "  <thead>\n",
              "    <tr style=\"text-align: right;\">\n",
              "      <th></th>\n",
              "      <th>type</th>\n",
              "      <th>text</th>\n",
              "    </tr>\n",
              "  </thead>\n",
              "  <tbody>\n",
              "    <tr>\n",
              "      <th>3978</th>\n",
              "      <td>spam</td>\n",
              "      <td>[great, new, offer, double, min, double, txt, ...</td>\n",
              "    </tr>\n",
              "    <tr>\n",
              "      <th>1155</th>\n",
              "      <td>ham</td>\n",
              "      <td>[u, find, sitter, kaitlyn, sick, slept, day, y...</td>\n",
              "    </tr>\n",
              "    <tr>\n",
              "      <th>5441</th>\n",
              "      <td>ham</td>\n",
              "      <td>[way, make, sure, u, get, train, worc, foregat...</td>\n",
              "    </tr>\n",
              "    <tr>\n",
              "      <th>1059</th>\n",
              "      <td>ham</td>\n",
              "      <td>[tell, female, v, throwing, deciding, get]</td>\n",
              "    </tr>\n",
              "    <tr>\n",
              "      <th>3434</th>\n",
              "      <td>ham</td>\n",
              "      <td>[christmas, occasion, celebrated, reflection, ...</td>\n",
              "    </tr>\n",
              "    <tr>\n",
              "      <th>296</th>\n",
              "      <td>spam</td>\n",
              "      <td>[mobile, customer, may, claim, free, camera, p...</td>\n",
              "    </tr>\n",
              "    <tr>\n",
              "      <th>348</th>\n",
              "      <td>ham</td>\n",
              "      <td>[one, small, prestige, problem]</td>\n",
              "    </tr>\n",
              "    <tr>\n",
              "      <th>3134</th>\n",
              "      <td>ham</td>\n",
              "      <td>[message, food]</td>\n",
              "    </tr>\n",
              "    <tr>\n",
              "      <th>1868</th>\n",
              "      <td>ham</td>\n",
              "      <td>[mmmm, fuck, fair, know, weakness, grin, push,...</td>\n",
              "    </tr>\n",
              "    <tr>\n",
              "      <th>4114</th>\n",
              "      <td>ham</td>\n",
              "      <td>[thought, could, go, dinner, treat, seem, ok]</td>\n",
              "    </tr>\n",
              "  </tbody>\n",
              "</table>\n",
              "</div>"
            ],
            "text/plain": [
              "      type                                               text\n",
              "3978  spam  [great, new, offer, double, min, double, txt, ...\n",
              "1155   ham  [u, find, sitter, kaitlyn, sick, slept, day, y...\n",
              "5441   ham  [way, make, sure, u, get, train, worc, foregat...\n",
              "1059   ham         [tell, female, v, throwing, deciding, get]\n",
              "3434   ham  [christmas, occasion, celebrated, reflection, ...\n",
              "296   spam  [mobile, customer, may, claim, free, camera, p...\n",
              "348    ham                    [one, small, prestige, problem]\n",
              "3134   ham                                    [message, food]\n",
              "1868   ham  [mmmm, fuck, fair, know, weakness, grin, push,...\n",
              "4114   ham      [thought, could, go, dinner, treat, seem, ok]"
            ]
          },
          "execution_count": 6,
          "metadata": {},
          "output_type": "execute_result"
        }
      ],
      "source": [
        "#removing lines with empty text\n",
        "data=data[data['text'].map(lambda d: len(d)) > 0]\n",
        "data.sample(10)"
      ]
    },
    {
      "cell_type": "markdown",
      "id": "gfzjouR_tDOy",
      "metadata": {
        "id": "gfzjouR_tDOy"
      },
      "source": [
        "#### Splitting Cleaned Data into test and train:"
      ]
    },
    {
      "cell_type": "code",
      "execution_count": 7,
      "id": "6TwW4rqA0ZDY",
      "metadata": {
        "id": "6TwW4rqA0ZDY"
      },
      "outputs": [],
      "source": [
        "text_train, text_test,labels_train, labels_test = train_test_split(data['text'],data['type'] ,test_size=0.20, random_state=42)\n",
        "labels_train=np.array(labels_train)\n",
        "labels_test=np.array(labels_test)\n",
        "text_train=np.array(text_train)\n",
        "text_test=np.array(text_test)"
      ]
    },
    {
      "cell_type": "markdown",
      "id": "b15bb760",
      "metadata": {},
      "source": [
        "##### Functions to calculate TF-IDF"
      ]
    },
    {
      "cell_type": "code",
      "execution_count": 8,
      "id": "z481EBWm5DbY",
      "metadata": {
        "id": "z481EBWm5DbY"
      },
      "outputs": [],
      "source": [
        "def term_freq(sentence, word):\n",
        "    N = len(sentence)\n",
        "    freq = len([x for x in sentence if x==word])\n",
        "    return freq/float(N)\n",
        "\n",
        "def inverse_doc_freq(word,doc_word_count,total_sentences):\n",
        "    doc_freq = doc_word_count[word] + 1\n",
        "    return math.log10(total_sentences/float(doc_freq))\n",
        "\n",
        "def tf_idf(sentence,doc_word_count,index_unique_words,unique_words,total_sentences):\n",
        "    tf_idf_vector = np.zeros((len(unique_words),))\n",
        "    for word in set(sentence):\n",
        "      tf = term_freq(sentence,word)\n",
        "      idf = inverse_doc_freq(word,doc_word_count,total_sentences)\n",
        "      value = tf*idf\n",
        "      tf_idf_vector[index_unique_words[word]] = value\n",
        "    return tf_idf_vector\n",
        "test_data=[]"
      ]
    },
    {
      "cell_type": "code",
      "execution_count": 9,
      "id": "eVf-q930y89N",
      "metadata": {
        "id": "eVf-q930y89N"
      },
      "outputs": [],
      "source": [
        "def build_unique_words(data_frame_col):\n",
        "  unique_words=set()\n",
        "  for text in data_frame_col:\n",
        "    unique_words=unique_words.union(set(text))\n",
        "  return unique_words\n",
        "def build_doc_freq(data_frame_col,unique_words):\n",
        "  doc_word_count=dict.fromkeys(unique_words, 0)\n",
        "  for text in data_frame_col:\n",
        "    for word in unique_words:\n",
        "      if word in text:\n",
        "        doc_word_count[word]+=1\n",
        "  return doc_word_count\n",
        "def calc_tf_idf(data_frame_col):\n",
        "  total_sentences=len(data_frame_col)\n",
        "  unique_words=build_unique_words(data_frame_col)\n",
        "  #for calculation of document freq:\n",
        "  doc_word_count=build_doc_freq(data_frame_col,unique_words)\n",
        "  print(doc_word_count)\n",
        "  index_unique_words={}\n",
        "  index=0\n",
        "  for word in unique_words:\n",
        "    index_unique_words[word]=index\n",
        "    index+=1\n",
        "  vectors=[]\n",
        "  for sentence in data_frame_col:\n",
        "    tf_idf_vector = tf_idf(sentence,doc_word_count,index_unique_words\n",
        "                             ,unique_words,total_sentences)\n",
        "    vectors.append(tf_idf_vector)\n",
        "  return vectors,index_unique_words,doc_word_count,total_sentences\n",
        "#labels=np.array(data['type'])\n",
        "#vectors=calc_tf_idf(data['text'])\n",
        "#test_data=data['text'].sample(10)\n",
        "#vectors,index_dict=calc_tf_idf(test_data)\n",
        "#test_data"
      ]
    },
    {
      "cell_type": "markdown",
      "id": "7413aa4c",
      "metadata": {},
      "source": [
        "##### Calculating the TF-IDF Vector for the Train Data"
      ]
    },
    {
      "cell_type": "code",
      "execution_count": 49,
      "id": "MpJz5qZByGSa",
      "metadata": {
        "colab": {
          "base_uri": "https://localhost:8080/"
        },
        "id": "MpJz5qZByGSa",
        "outputId": "0b6bbdf2-ab8d-4ee9-9a03-ce75ce8daa1a"
      },
      "outputs": [
        {
          "name": "stdout",
          "output_type": "stream",
          "text": [
            "{'anderson': 1, 'revision': 1, 'freek': 1, 'sens': 1, 'harder': 1, 'auntie': 1, 'properly': 2, 'wed': 5, 'tron': 1, 'untamed': 2, 'stuck': 3, 'argentina': 1, 'lord': 1, 'sam': 4, '69200': 1, 'chillin': 3, 'asa': 1, 'fondly': 1, 'hanumanji': 1, 'dunno': 24, '5wb': 4, 'street': 9, 'honestly': 1, 'glorious': 1, 'necesity': 1, 'walk': 14, 'wnt': 3, 'siva': 1, 'abt': 19, 'user': 7, 'addie': 2, 'onum': 1, 'lip': 3, 'probs': 1, 'pair': 1, 'onluy': 1, 'sim': 7, 'subscribed': 2, 'vry': 4, 'tallent': 1, 'mg': 1, 'revealing': 1, 'soup': 3, 'nange': 1, 'sake': 2, 'cribbs': 1, 'interviw': 1, 'goigng': 1, 'mum': 19, 'zero': 1, '08719180219': 1, 'poured': 1, 'waliking': 1, 'sometme': 1, '121': 2, 'soladha': 1, 'scenery': 1, 'mob': 17, 'lightly': 1, 'sitter': 1, 'stay': 19, 'abuser': 1, 'nobbing': 1, 'saw': 17, 'sup': 6, 'box1146': 1, '2': 335, '8007': 10, '83355': 4, 'knock': 1, 'del': 9, 'available': 13, 'sale': 7, 'pthis': 1, 'life': 54, 'divert': 1, '09095350301': 1, 'aptitude': 1, '3650': 2, 'meetins': 1, 'anyhow': 1, '40gb': 6, 'tensed': 1, 'darlin': 15, 'suntec': 3, 'revealed': 4, 'preferably': 3, 'arr': 1, 'whatever': 14, 'endof': 1, 'blake': 3, '09061209465': 2, 'videochat': 4, 'carefully': 2, 'frying': 2, '£500': 17, 'bill': 11, 'laughing': 4, '9pm': 3, 'antelope': 1, 'tosend': 1, 'wing': 1, '£2': 10, 'mobstorequiz10ppm': 1, 'rr': 1, 'prasad': 1, 'really': 68, '£4': 4, 'bowa': 1, 'med': 5, 'hor': 2, 'hill': 4, 'purse': 2, 'wan': 70, 'roller': 1, 'o2': 6, 'asks': 4, 'soz': 1, 'vibrant': 1, 'realized': 2, 'aunt': 2, 'wtlp': 1, 'evil': 1, 'week': 98, '2nd': 22, 'file': 5, '02085076972': 1, 'izzit': 7, '09111032124': 1, '7cfca1a': 1, 'fantastic': 7, 'pobox75ldns7': 1, 'electricity': 1, 'granite': 1, 'promotion': 1, 'hannaford': 1, 'people': 42, 'landline': 25, 'head…': 1, '2wks': 1, 'yupz': 1, 'bathing': 3, 'perf': 1, '45239': 2, '2025050': 1, '09065394973': 1, 'taylor': 3, 'common': 4, 'jo': 1, 'painful': 3, 'specify': 1, 'applausestore': 1, 'explicitly': 1, 'publish': 1, 'passed': 3, 'totally': 4, 'role': 6, 'ibhltd': 3, 'messed': 1, 'head': 16, 'naughty': 6, 'innocent': 1, 'wannatell': 1, 'thanx4': 1, 'random': 5, 'book': 22, 'bcm1896wc1n3xx': 2, 'held': 2, 'pick': 62, '087018728737': 1, 'unicef': 1, 'whereare': 1, 'flight': 7, 'salmon': 1, 'rite': 13, 'discussed': 1, 'nag': 2, 'beware': 2, 'wa': 3, 'put': 25, 'homeowner': 3, 'wicked': 1, '7ws': 1, 'sday': 1, 'weirdo': 1, 'drop': 14, 'forced': 1, 'nottingham': 1, 'chuckin': 1, 'freely': 1, 'silent': 9, '95': 1, 'short': 7, 'siguviri': 1, 'tooo': 2, 'pleasured': 1, 'holder': 6, 'dl': 1, 'chex': 1, '08708034412': 2, '82468': 1, 'gudni8': 1, 'gee': 5, '3mobile': 1, 'identifier': 13, 'darren': 7, 'oscar': 1, '1im': 1, '1120': 1, 'phoned': 2, 'ipads': 1, 'mode': 7, 'algebra': 1, 'phb1': 1, 'greatly': 1, '434': 4, 'hrishi': 2, 'svc': 1, 'burnt': 1, '04': 10, 'feelin': 3, 'joking': 5, 'otbox': 1, 'surfing': 4, 'aight': 24, 'jap': 1, 'dent': 1, 'oso': 18, 'quick': 5, '3g': 5, '6times': 1, 'fund': 1, 'aiyah': 4, 'side': 7, 'invnted': 2, '08715203677': 1, '£800': 9, 'allah': 3, 'u4': 2, '6031': 1, 'clarify': 1, 'vip': 3, 'byatch': 1, 'stapati': 1, 'fixd': 1, 'ava': 1, 'agalla': 1, 'aletter': 1, '69696': 2, 'speeding': 2, 'nah': 7, 'roommate': 6, 'read': 11, 'fox': 1, 'acting': 2, '100txt': 1, 'bhaskar': 1, 'rugby': 1, 'potential': 2, 'fujitsu': 2, 'nope': 12, '83110': 1, '3hrs': 1, 'placement': 1, 'stated': 1, 'bootydelious': 1, 'voda': 3, 'note': 5, 'inde': 1, 'hotel': 8, '145': 3, 'mp3': 6, 'swatch': 1, 'justify': 1, 'rec': 2, 'postcard': 2, 'hair': 13, 'cage': 1, 'idew': 2, 'change': 21, 'loud': 2, 'thatmum': 1, 'mirror': 1, '2nhite': 1, 'oblisingately': 1, 'iq': 4, 'saturday': 14, '08714712412': 1, '118p': 1, 'lyk': 1, 'wikipedia': 1, 'varaya': 1, 'interested': 7, 'aig': 1, 'tmrw': 1, '8am': 2, 'tb': 5, 'discreet': 2, 'anythin': 3, 'crazy': 9, '07808247860': 1, 'i\\x92l': 1, 'en': 1, '14': 2, 'impression': 1, 'wherre': 1, 'period': 3, 'epi': 1, 'index': 2, 'aspect': 1, 'jobyet': 1, 'every1': 1, 'word': 55, 'congratulation': 13, 'cornwall': 3, 'or2stoptxt': 3, 'isnt': 6, 'wind': 3, 'diesel': 1, 'snuggle': 1, 'ubi': 1, 'strt': 1, 'largest': 2, 'dose': 1, 'maximum': 1, 'craving': 1, 'annoyin': 1, 'plz': 12, 'agency': 1, 'hogolo': 1, 'penny': 4, 'disturbance': 1, 'hop': 4, 'janx': 1, 'offcampus': 1, 'necessarily': 2, 'belovd': 4, 'despite': 1, 'stereophonics': 1, 'rto': 1, 'cantdo': 1, 'spice': 1, '1winawk': 1, 'bottle': 1, 'seing': 1, 'amy': 2, 'sth': 1, 'overdose': 1, 'aiyar': 4, 'sister': 17, '113': 1, 'tolerance': 1, '7250i': 1, 'weed': 7, 'album': 3, 'mobypobox734ls27yf': 1, 'scenario': 1, 'costa': 7, 'clean': 10, 'hesitation': 1, 'jolt': 2, 'midnight': 5, 'il': 8, 'thrown': 1, 'birla': 3, 'include': 2, 'belly': 4, 'keeping': 5, 'wifi': 1, '£6': 1, 'caught': 3, 'wasnt': 1, '0906346330': 1, 'eerulli': 1, 'level': 1, 'smaller': 1, 'thepub': 1, 'tonght': 1, 'mah': 8, 'pressure': 1, 'youi': 1, 'chick': 1, 'finish': 34, 'yalru': 1, '2yr': 1, 'jul': 1, 'use': 39, '5226': 1, 'europe': 2, 'sir': 29, 'system': 4, 'code': 23, 'pro': 2, 'ringtone¡': 1, 'term': 12, 'computer': 8, 'redeemed': 10, 'followed': 2, 'pout': 1, 'wanted': 21, 'access': 7, 'jelly': 1, 'grave': 1, 'ratio': 1, 'minmobsmorelkpobox177hp51fl': 3, 'country': 5, 'aroundn': 1, 'prey': 3, 'vu': 2, 'wkg': 2, 'text82228': 1, 'efreefone': 1, 'done': 37, 'tyrone': 3, 'ignore': 5, 'high': 6, 'manda': 3, 'spile': 2, 'appointment': 3, 'absence': 1, 'address': 19, 'sachin': 3, 'espe': 1, 'an': 8, 'awkward': 1, 'sentiment': 1, 'chachi': 1, '2yrs': 1, 'form': 3, 'artist': 1, 'market': 1, '8p': 1, 'guoyang': 1, 'anythingtomorrow': 1, 'accessible': 1, 'cuck': 1, 'kintu': 1, 'for£38': 1, 'logon': 1, 'tue': 1, 'smack': 1, 'known': 1, 'gpu': 2, 'reach': 25, 'public': 3, 'pmt': 1, 'annie': 2, 'weird': 3, 'dedicate': 2, '08000407165': 1, 'headstart': 1, 'skye': 1, 'roomate': 1, 'faith': 2, 'yuou': 1, 'twenty': 2, 'ahold': 1, 'sathya': 1, 'bec': 2, 'chic': 1, '000pes': 1, 'fredericksburg': 1, 'natalja': 2, 'exact': 3, 'gbp4': 1, 'barmed': 1, '09050001295': 1, 'abstract': 1, 'clever': 2, 'either': 15, '5th': 3, 'asp': 1, 'speaking': 2, 'woulda': 1, 'started': 16, 'cr01327bt': 1, 'shock': 1, 'apps': 3, 'settled': 4, 'poortiyagi': 1, '3680': 2, 'renting': 1, 'trishul': 1, '11pm': 3, 'we\\x92ve': 1, 'mandara': 1, 'office': 23, 'speling': 1, '9153': 1, 'getiing': 1, '4get': 3, 'order': 17, 'hiphop': 1, 'doubt': 1, '0721072': 1, 'printed': 2, 'trust': 8, 'bend': 1, 'deserve': 1, 'thx': 1, 'acknowledgement': 1, 'see': 129, 'remove': 8, 'american': 3, 'spelling': 1, 'tune': 1, 'ding': 2, 'frndshp': 1, 'clos1': 3, '09065069120': 1, '09064019014': 2, 'la3': 1, 'popped': 2, 'forfeit': 1, 'received': 4, 'airport': 4, 'yummmm': 1, 'amla': 1, 'land': 17, 'tirunelvali': 2, 'sleepin': 2, 'witot': 1, 'eyed': 1, 'uncomfortable': 1, 'bian': 1, 'reaching': 5, 'serena': 1, '15pm': 1, 'swap': 1, 'biz': 5, '09058094583': 1, '0776xxxxxxx': 2, 'squishy': 1, 'expecting': 4, '08706091795': 1, 'wellda': 1, '85555': 1, 'newport': 1, 'live': 32, 'mid': 5, 'racing': 1, 'blood': 8, 'suppose': 2, 'baby': 26, 'wednesday': 5, 'shakara': 1, '08448350055': 1, 'ques': 1, 'lect': 7, 'wylie': 4, 'rich': 2, '69855': 1, 'bite': 2, 'yourinclusive': 1, 'taught': 1, 'awesome': 17, 'itried2tell': 1, 'pleasure': 6, 'di': 3, 'rhythm': 1, 'rewarding': 2, 'tc': 16, 'idc': 1, 'weigh': 2, 'pobox114': 1, 'am': 1, 'warner': 1, 'claim': 87, 'someday': 1, 'perhaps': 2, 'recieve': 1, 'yijue': 6, 'improved': 2, 'benny': 1, 'absolutly': 1, 'j89': 1, '08712402779': 1, 'frosty': 1, 'outfor': 1, 'sun0819': 1, 'swhrt': 1, 'everythin': 1, '5k': 1, 'correctly': 1, 'la1': 1, 'cine': 7, 'olowoyey': 1, 'pap': 2, 'nearer': 1, 'rgds': 2, 'john': 7, 'stadium': 1, 'fuckin': 2, 'start': 38, 'bob': 1, 'blog': 1, 'sonetimes': 1, 'rule': 3, 'carpark': 1, '6230': 1, 'clear': 2, 'parked': 1, 'starving': 1, 'westshore': 1, 'leg': 4, 'sacrifice': 2, 'fallen': 1, 'toilet': 1, 'weaseling': 1, '28thfeb': 1, '7ish': 1, '2wt': 2, 'misundrstud': 1, 'royal': 2, 'onion': 1, 'wrking': 1, 'subscribe6gbp': 1, 'outstanding': 2, 'hogli': 1, 'friendship': 20, 'repeat': 2, 'forgiveness': 1, 'exhausted': 2, '3uz': 3, 'checkin': 1, 'match': 12, 'whether': 4, 'dime': 1, 'lastest': 1, 'unless': 5, 'booking': 3, 'sugardad': 1, 'help': 45, 'm6': 2, 'idea': 10, 'ennal': 1, 'bot': 1, 'boston': 2, '08081263000': 1, 'jesus': 3, 'alter': 1, 'ahmad': 6, 'iam': 5, 'catch': 8, 'sextextuk': 1, 'wonder': 12, '4d': 1, 'pobox': 13, 'wn': 3, 'pint': 1, 'gprs': 1, 'came': 24, 'iouri': 3, 'jia': 2, 'significance': 1, 'remain': 4, 'dinner': 28, 'depends': 6, 'w45wq': 5, 'moral': 8, 'planettalkinstant': 1, '150p16': 1, 'imin': 1, '08001950382': 3, 'collect': 24, 'omg': 6, 'across': 8, 'ro': 1, 'earning': 1, 'floating': 1, 'ü': 115, 'pudunga': 1, '24m': 1, '£5000': 15, 'wid': 15, 'immediately': 9, 'get4an18th': 1, 'camp': 1, '87131': 2, 'snd': 1, 'vpod': 1, 'legal': 4, 'golddigger': 1, 'listening': 4, 'dual': 1, 'bcoz': 9, 'saristar': 1, 'shes': 1, 'wc1n': 1, 'applyed': 1, '21': 5, 'invest': 2, '1winaweek': 3, 'queen': 3, 'sent': 50, 'fringe': 2, 'galileo': 2, 'praveesh': 1, 'liquor': 1, 'xam': 2, 'pattern': 2, 'mother': 6, 'plum': 1, 'tattoo': 1, '1172': 1, 'attempt': 19, 'coimbatore': 1, 'staying': 7, 'franxx': 1, 'waht': 2, 'gonnamissu': 1, 'yay': 4, '1st': 31, 'punishment': 1, 'playing': 4, 'cuddled': 1, 'simonwatson5120': 1, 'mylife': 1, '542': 4, 'madurai': 1, 'oil': 2, '4txt': 1, 'sound': 21, 'lingo': 1, 'useless': 1, 'pilate': 6, 'stubborn': 1, 'til': 23, 'pocy': 1, 'groovying': 1, 'reformat': 1, 'blu': 1, 'tor': 1, 'fone': 11, 'management': 3, 'fave': 2, 'sindu': 1, 'burn': 3, 'peripheral': 1, 'flurry': 1, 'amt': 4, 'prevent': 1, 'ebay': 2, '£150': 7, 'stone': 3, 'somone': 1, '3750': 1, 'john\\x94': 1, 'busetop': 1, 'perfect': 3, 'uptown': 1, 'laden': 1, 'signing': 2, 'welp': 3, 'raksha': 1, 'okden': 1, 'ipad': 2, 'andre': 1, 'mine': 16, 'lou': 2, '07742676969': 1, 'shared': 1, 'email': 14, 'explain': 4, 'utter': 1, 'headache': 3, 'edhae': 1, 'greece': 1, 'sport': 5, 'decimal': 17, 'holiday': 37, '08712460324': 5, 'deciding': 1, 'teju': 1, 'open': 14, 'forth': 1, '2geva': 1, 'computational': 1, '08718730666': 1, 'blessed': 2, 'sink': 1, 'dogbreath': 1, 'mouth': 2, 'allow': 2, 'recently': 7, 'surely': 5, 'dialling': 1, '80488': 3, 'quiteamuzing': 1, 'brilliantly': 1, 'jokin': 2, '4thnov': 1, 'certainly': 3, 'mumtaz': 1, 'thekingshead': 1, 'fr': 12, 'turkey': 1, 'comuk': 3, 'sympathetic': 1, '80608': 2, 'hex': 2, 'de': 15, 'isaiah': 1, '530': 5, 'jones': 1, 'wheellock': 1, 'crammed': 1, 'leona': 4, 'tocall': 1, 'stripe': 1, 'velly': 1, 'complacent': 1, 'ofcourse': 1, 'unconvinced': 1, 'goodmate': 1, 'peep': 1, 'weasel': 1, 'frens': 6, 'celebrate': 4, '08718726970': 1, 'rounder': 1, 'uve': 1, 'dog': 6, 'tscs': 3, 'nite': 19, 'courageous': 1, 'hmmross': 1, 'luv': 25, 'kanagu': 1, 'dropped': 4, 'txts': 9, 'fool': 5, 'seem': 2, 'predictive': 1, '2exit': 1, '08712402050': 2, 'understand': 12, 'nationwide': 1, 'vill': 1, 'presence': 1, 'dearer': 3, 'm8s': 2, 'katexxx': 1, '36504': 6, 'ummifying': 1, '1205': 1, 'ringtones': 7, 'woozles': 1, '0871212025016': 1, 'arrange': 5, 'social': 3, 'august': 2, 'jade': 1, 'itwhichturnedinto': 1, '10p': 16, 'forever': 7, 'dec': 1, 'begging': 1, 'aa': 1, 'propsd': 2, 'opportunity': 4, 'howard': 2, 'coming': 34, 'risk': 1, 'ninish': 1, 'day': 209, 'exist': 1, 'march': 11, 'girl': 33, 'whr': 1, 'looking': 20, 'ag': 2, 'confidence': 4, 'cab': 1, 'eek': 2, 'bx420': 5, 'given': 2, 'noun': 1, 'prayrs': 1, 'credit': 16, 'mandan': 2, '4882': 2, 'style': 6, 'shove': 1, 'forgot': 27, '2006': 1, 'cum': 11, 'warming': 1, 'textcomp': 3, '61': 1, 'sh': 2, 'somewheresomeone': 1, 'causing': 2, 'pig': 4, 'entitled': 7, 'probably': 22, '89938': 1, '£75': 3, 'walsall': 1, 'range': 2, 'lkpobox177hp51fl': 1, 'steamboat': 1, 'syrup': 1, 'geeeee': 2, 'nice': 50, 'education': 1, 'pm': 17, 'jog': 1, 'nike': 1, '07753741225': 1, 'captain': 2, 'wound': 1, 'gei': 1, 'narcotic': 1, 'timin': 1, '40mph': 1, 'name1': 2, 'touched': 2, 'accident': 3, 'shame': 4, 'determined': 1, 'sack': 1, 'cl': 1, 'exhaust': 2, 'upgrade': 3, '3x£150pw': 1, 'fedex': 1, 'abbey': 1, 'ac': 9, 'justfound': 1, 'designation': 1, 'pale': 1, '5min': 1, 'maretare': 1, 'bun': 5, 'listn': 1, 'phne': 2, 'connection': 6, 'mahal': 2, 'cooking': 3, 'expression': 2, 'freedom': 1, 'plumbing': 1, 'lt': 202, 'willpower': 1, 'buck': 6, 'badass': 1, 'busy': 17, 'shld': 3, 'transfered': 2, 'drunken': 2, 'blur': 1, 'pillow': 1, '13': 2, 'lambda': 1, 'hilarious': 1, 'stockport': 6, '08712103738': 1, 'necklace': 2, 'everyones': 1, 'peril': 1, 'gravy': 1, 'alwa': 1, 'air': 4, 'pin': 6, 'jacket': 1, 'wherever': 4, 'bookshelf': 1, 'call': 447, 'salam': 2, 'becaus': 1, 'formal': 1, 'suck': 6, 'restaurant': 1, 'anand': 1, 'tat': 7, 'allo': 1, 'strip': 1, 'sterling': 1, 'pobox36504w45wq': 5, 'jiayin': 2, 'remembrs': 1, 'cttargg': 1, 'conveying': 1, 'anywhere': 1, 'po19': 1, 'ultimately': 1, '£400': 2, 'cousin': 2, 'gravity': 2, 'mathews': 1, 'camry': 1, 'atm': 4, '89123': 1, '08712400603': 1, 'born': 3, 'box61': 1, 'tscs08714740323': 1, 'cr': 1, '2wu': 1, 'kappa': 2, 'nydc': 1, 'abnormally': 1, 'up4': 1, 'afford': 1, 'abj': 2, 'nd': 1, 'shocking': 2, 'exmpel': 2, 'tata': 1, 'away': 19, 'sunshine': 7, 'already': 73, 'eire': 1, 'dancin': 1, 'liked': 7, 'super': 4, 'contention': 1, 'iter': 1, 'ajith': 1, '09061744553': 2, 'red': 9, 'eppolum': 1, 'cap': 1, 'lnly': 1, 'may': 43, 'havin': 2, 'dieting': 1, 'bothering': 1, 'enuff': 2, 'jack': 1, 'prompt': 1, 'monthly': 1, 'sch': 16, 'petticoatdreams': 1, 'need': 143, 'xchat': 3, 'daywith': 1, 'joining': 2, 'u': 711, 'entry41': 1, 'dorm': 2, 'evn': 2, 'kg': 2, 'parantella': 1, 'senthil': 3, 'bid': 4, 'java': 4, 'go2sri': 1, 'ambrith': 1, 'persian': 1, '09064017305': 1, 'fruit': 1, 'score': 3, 'gsoh': 1, 'idiot': 4, 'oic': 3, 'followin': 1, '41685': 2, 'depression': 1, 'debating': 1, 'anythiing': 1, 'fuck': 24, 'hence': 2, 'increase': 1, 'terrorist': 2, 'mahaveer': 1, 'uterus': 1, 'creep': 1, 'cm': 2, 'hearing': 1, 'handsomes': 1, 'ctla': 1, 'tome': 1, 'ayn': 2, '09061701444': 1, 'gbp1': 1, 'ride': 5, 'proper': 1, 'shortage': 2, 'stream': 1, 'ntimate': 1, 'kolathupalayam': 1, 'tiwary': 2, 'chit': 1, 'seen': 10, 'gnarl': 1, 'cw25wx': 2, 'chest': 2, 'num': 3, 'gail': 1, 'blow': 2, 'icky': 1, 'sib': 2, 'prescription': 1, 'neekunna': 1, 'fink': 1, 'thedailydraw': 1, 'deer': 1, 'wkend': 3, '£10': 8, 'stool': 1, 'optin': 1, 'rent': 7, 'date': 20, 'shudvetold': 1, 'mon': 8, 'everytime': 1, 'tonite': 7, 'i\\x92m': 3, 'ham': 3, 'thinl': 1, 'actin': 1, 'forget': 14, 'literally': 1, 'rub': 2, 'burden': 1, 'cried': 1, 'data': 1, 'gotten': 2, 'dozen': 1, '80878': 2, '09058097218': 1, '£50': 1, 'kama': 1, '11mths': 8, 'pocket': 1, 'seed': 1, 'box326': 2, '84484': 1, 'dracula': 2, 'lil': 2, 'residency': 1, 'kalstiya': 1, 'box334sk38ch': 1, 'wit': 10, 'compass': 1, 'gaze': 1, 'nature': 5, 'baaaaaaaabe': 1, 'insect': 1, 'stifled': 1, 'm39m51': 1, 'salesman': 1, 'dust': 1, 'first': 56, 'jeevithathile': 1, 'dey': 5, 'faster': 3, 'ldn': 8, 'crap': 2, 'oyea': 1, '2go': 2, 'hairdresser': 1, 'kip': 1, 'paragon': 2, 'sw7': 2, 'challenging': 1, 'shopping': 25, 'takecare': 1, 'malaria': 1, 'deduct': 1, 'un': 10, 'lolnice': 1, 'congrats': 16, 'neway': 2, 'ntt': 5, '30': 14, 'quit': 2, 'newsletter': 1, 'hittng': 1, 'bos': 8, 'entertain': 1, 'thnq': 1, 'anyways': 2, '75max': 1, 'spoilt': 1, 'bcaz': 1, 'packing': 1, 'tomeandsaid': 1, 'payoh': 2, '08715500022': 1, 'comedy': 3, 'amnow': 1, 'dip': 1, 'meg': 1, 'miracle': 8, 'starwars3': 2, 'behave': 2, 'begin': 6, 'slot': 1, 'bandage': 1, 'w': 15, 'unni': 1, 'bellearlier': 1, 'cthen': 1, 'undrstndng': 1, '3gbp': 3, '0871750': 1, '373': 1, 'prix': 1, 'ditto': 1, 'maid': 5, 'ctxt': 1, 'spelled': 1, 'brainy': 1, 'tiny': 1, 'fifteen': 4, 'us': 1, 'yuo': 2, 'sparkling': 1, 'training': 6, 'ing': 2, 'grahmbell': 2, 'sehwag': 1, 'graphic': 1, 'cave': 1, 'lady': 8, 'truck': 2, 'csbcm4235wc1n3xx': 3, 'familiar': 1, 'beside': 1, 'bash': 1, 'weekend': 34, '4u': 7, 'lay': 3, 'spot': 1, '6089': 1, 'disc': 1, 'jenxxx': 1, 'lol': 54, 'fran': 3, 'beforehand': 1, 'shite': 1, 'coincidence': 1, 'settling': 1, 'punish': 1, 'textbuddy': 2, 'txting': 8, 'bless': 3, 'prepare': 3, 'shortcode': 1, 'ooooooh': 1, 'woah': 1, 'calm': 1, 'reference': 7, 'muchand': 1, 'ie': 1, 'sao': 1, '5wq': 1, 'sleepingwith': 1, 'phonebook': 1, 'msgrcvd18': 1, 'erutupalam': 1, '000': 22, 'talked': 1, 'honey': 7, 'enjoyin': 2, 'chapter': 1, 'filthyguys': 1, 'continued': 1, 'logged': 1, 'scratching': 1, 'dhoni': 2, 'satisfied': 3, 'crickiting': 1, 'deck': 1, 'bcum': 1, 'astoundingly': 1, 'mmm': 4, 'kinda': 6, 'appreciate': 7, 'father': 8, '08452810075over18': 2, 'brum': 1, 'allows': 1, 'ctagg': 1, 'bud': 2, 'bawling': 1, 'impossible': 2, 'enc': 1, 'sankatmochan': 1, 'earliest': 1, 'housewife': 1, 'bookmark': 1, 'sheet': 2, 'bugis': 7, '89545': 3, '\\x93harry': 1, 'tightly': 1, 'thinkin': 7, 'wahala': 1, 'certificate': 1, 'nalli': 1, 'advance': 5, 'swell': 1, '42810': 1, 'rdy': 1, 'fast': 15, 'kate': 9, 'sk3': 3, 'lacking': 1, 'inside': 7, 'peak': 1, '9996': 1, '08717509990': 1, 'soil': 1, 'helpful': 1, 'prestige': 1, '08707500020': 1, 'asia': 1, 'eatin': 6, 'nahi': 1, 'sem': 2, 'ahead': 7, 'rumour': 2, 'calls1': 1, 'flung': 1, 'bubbletext': 1, 'matra': 1, 'alive': 3, 'toll': 3, 'propose': 2, 'sozi': 1, '25p': 6, 'ivatte': 1, 'ccna': 1, '£900': 4, 'wonderful': 12, 'rate': 29, 'transfr': 2, 'ridden': 1, 'posible': 1, 'tortilla': 2, 'layin': 1, 'nigro': 1, 'picking': 8, 'attracts': 1, '448712404000': 1, 'reppurcussions': 1, 'haf': 15, 'cartoon': 3, 'trav': 1, 'bstfrnd': 3, 'caller': 15, 'lesser': 1, 'weekly': 20, 'watchin': 1, 'grasp': 1, '2morow': 2, 'buff': 3, 'amma': 1, 'lecture': 3, 'mn': 1, 'suganya': 1, 'funny': 7, '09058094599': 2, 'postal': 1, 'parent': 14, 'fifth': 1, 'c52': 2, 'paining': 1, 'img': 1, 'happenin': 1, 'buttheres': 1, 'scrumptious': 1, 'planned': 7, 'previously': 3, 'newest': 2, 'scoring': 2, 'welcome': 15, '2814032': 1, 'tease': 2, 'church': 3, 'edu': 2, 'prescribed': 1, '2hook': 1, 'shud': 1, 'wavering': 1, 'nver': 1, 'screen': 2, 'dealing': 2, 'line': 37, 'm95': 2, '82050': 2, 'ente': 1, 'coaxing': 1, 'picsfree1': 1, 'green': 4, 'christmassy': 1, 'club': 15, 'kfc': 1, 'refunded': 1, 'arrived': 1, 'jackson': 1, 'seeing': 13, '5years': 1, 'girlie': 1, 'vegetable': 2, 'hahaha': 3, 'download': 6, 'aft': 17, 'jacuzzi': 1, 'subscriptn3gbp': 1, 'burgundy': 1, 'ranju': 1, 'uawake': 1, 'taking': 16, 'bat': 2, 'opposed': 1, 'a21': 1, '83738': 1, 'tasts': 1, 'maneesha': 3, 'nooooooo': 1, 'prakasam': 1, 'register': 3, 'wait': 55, 'group': 6, 'built': 1, 'tooth': 1, 'dressed': 2, '1pm': 1, '14thmarch': 1, '50pmmorefrommobile2bremoved': 1, 'dramastorm': 1, 'maggi': 1, '5mls': 1, 'deltomorrow': 1, 'outbid': 1, 'cut': 8, '62468': 6, 'pete': 8, 'afew': 1, 'britney': 1, 'gone': 14, 'bong': 1, 'racal': 1, 'cer': 1, 'low': 2, 'upstairs': 2, 'might': 27, 'vic': 1, 'crucify': 1, '88066': 2, 'signal': 1, 'halloween': 2, 'handle': 3, 'valuable': 3, 'no': 1, 'requirement': 1, 'spageddies': 1, 'potter': 2, '87066': 11, 'don\\x92t': 3, 'chess': 1, 'hillsborough': 1, 'dumb': 1, 'pickle': 2, 'rememberi': 1, 'terrible': 3, 'practicing': 2, 'total': 3, 'dialogue': 1, 'ran': 4, 'chad': 1, 'glad': 8, 'unknown': 2, 'unfolds': 1, 'yavnt': 1, 'river': 1, 'kadeem': 3, 'nelson': 1, 'anyones': 1, 'monthlysubscription': 1, 'juz': 13, 'ppm': 3, 'kath': 1, 'satsgettin': 1, 'spatula': 1, 'regarding': 3, 'wipro': 2, 'olayiwola': 1, 'baig': 1, 'yoville': 1, 'cust': 4, 'responsibility': 1, '09099726395': 1, 'mc': 1, 'reception': 1, '08700435505150p': 1, 'delhi': 1, 'shahjahan': 1, 'password': 4, 'huh': 14, 'toclaim': 6, 'feed': 1, 'kochi': 1, 'console': 2, 'tonsolitusaswell': 1, 'dodda': 1, 'account': 29, 'science': 3, 'dokey': 2, 'confused': 1, 'rajitha': 1, 'truble': 1, 'got': 194, 'rentl': 4, 'imprtant': 1, 'como': 1, 'issue': 7, 'constantly': 3, 'exterminator': 1, 'enemy': 4, '9t': 2, 'suffer': 1, 'vague': 1, 'repair': 3, 'westonzoyland': 1, 'uni': 4, '83600': 2, 'so': 1, 'phone': 112, 'sexychat': 1, 'successful': 2, '4years': 1, 'keralacircle': 1, 'tog': 3, 'soft': 3, 'query': 1, '250': 2, 'atleast': 1, 'oyster': 1, 'holy': 1, 'verify': 2, 'ltdhelpdesk': 1, '0808': 3, '0089': 1, '083': 1, 'hav2hear': 1, 'fall': 5, 'expires': 14, 'appendix': 1, 'gary': 3, 'gbp': 2, '1030': 2, 'pobox334': 6, 'apologetic': 1, '08712405020': 4, 'railway': 3, 'much': 83, 'openin': 1, 'cmon': 1, 'braved': 1, 'math': 3, 'ex': 9, 'vibrate': 1, 'unit': 1, 'soon': 50, 'there': 1, 'distract': 2, 'hg': 8, 'nigh': 1, 'gopalettan': 1, 'bk': 1, 'organizer': 1, 'massive': 1, 'work': 83, 'arng': 2, 'smell': 1, 'robinson': 1, 'accomodations': 1, 'fatty': 1, 'quiet': 1, 'wall': 3, 'sept': 4, 'somewhere': 5, 'national': 15, 'combine': 1, 'gn': 8, 'directly': 4, 'lyricalladie': 1, 'gynae': 1, 'run': 21, 'panther': 1, 'truffle': 1, 'can\\x92t': 1, 'mwahs': 1, 'ifink': 1, '7mp': 1, 'blackberry': 4, 'step': 2, 'valentine': 13, 'blonde': 2, 'suggest': 3, 'shijutta': 1, 'lor': 116, 'blown': 1, 'toyota': 1, 'fren': 4, 'deposit': 1, 'wrongly': 1, 'useful': 1, 'finished': 17, '84025': 1, 'reserved': 1, 'monoc': 1, 'dub': 1, 'romcapspam': 1, 'sunlight': 1, 'problms': 1, 'natural': 2, 'macho': 3, 'questioned': 2, 'dreading': 1, 'okies': 1, '2mrw': 4, 'suite342': 11, 'gang': 2, 'business': 3, 'dehydrated': 1, 'hopeing': 1, 'llc': 1, 'bitch': 3, 'completely': 7, 'gorgeous': 4, 'adult': 5, 'gotmarried': 1, 'united': 1, 'silence': 1, 'dreamz': 1, 'derp': 1, 'firsg': 1, 'amplikater': 1, '£600': 1, 'section': 2, 'boat': 2, 'labor': 1, 'bunch': 1, 'evry': 1, 'salary': 2, 'saving': 1, 'knw': 11, 'purpose': 4, 'nic': 2, 'figuring': 1, 'ticket': 13, 'fletcher': 1, 'oooh': 2, 'sonyericsson': 1, 'relocate': 1, 'although': 2, 'avoiding': 2, 'rose': 7, 'best': 27, 'wrong': 13, 'world': 31, 'bout': 15, 'breakin': 1, 'happening': 7, 'shah': 1, 'ducking': 1, 'deal': 7, 'zouk': 1, 'goodfriend': 1, 'involved': 1, 'semester': 9, 'ambitious': 1, 'ful': 3, 'soonlots': 1, 'pretend': 1, 'watching': 26, 'cooperative': 1, 'come': 191, 'reward': 6, '09058094565': 2, 'cat': 2, 'argue': 1, 'wood': 1, 'jaz': 1, 'simpler': 1, 'dough': 2, 'hide': 2, 'bird': 5, '09066382422': 2, 'activity': 4, 'thank': 26, 'j': 6, 'havn': 1, 'hurried': 2, 'tram': 1, 'beerage': 1, 'mojibiola': 1, 'btw': 3, 'simple': 9, 'okmail': 1, 'disappointment': 1, '08002888812': 2, 'specific': 2, 'stuff': 37, 'wana': 9, 'swan': 1, 'sorry': 126, 'printing': 1, 'saucy': 2, 'netvision': 1, 'headin': 2, 'i\\x92llspeak': 1, 'paying': 8, 'guaranteed': 41, '83039': 1, 'woo': 1, 'ibn': 2, 'gas': 11, 'nit': 2, 'pouch': 1, '80082': 2, 'ali': 1, 'consider': 2, 'vatian': 1, 'companion': 1, 'cleared': 2, 'mile': 1, 'entered': 9, 'odalebeku': 1, '2morro': 1, 'balance': 11, 'flirt': 4, 'moving': 2, 'waaaat': 1, 'coupla': 1, 'bet': 3, 'hi': 97, 'sitll': 2, '09058094454': 1, 'yer': 3, 'sometext': 1, 'freephone': 7, 'underwear': 2, '9ae': 3, 'anybody': 4, 'exercise': 1, 'prince': 3, 'fetch': 4, 'perspective': 1, 'cutter': 1, 'crab': 1, 'surname': 1, 'mist': 1, 'eaten': 1, 'wow': 11, '88088': 2, 'cst': 1, 'owe': 1, 'anal': 1, 'tiime': 1, 'luxury': 3, '6ish': 1, '8th': 4, '8000930705': 1, 'aldrine': 1, 'ia': 2, 'desparate': 2, 'n9dx': 2, 'intrepid': 1, 'beer': 2, 'gong': 1, 'tall': 1, 'way': 81, 'struggling': 1, 'wtc': 1, 'maraikara': 1, 'kiss': 28, '2004': 7, 'voice': 9, 'pace': 1, 'alaipayuthe': 2, 'discount': 6, '220': 3, 'nimya': 5, 'pound': 23, 'imposter': 1, 'give': 82, 'traffic': 1, '09058091854': 2, 'cancel': 7, 'particular': 1, 'str': 1, 'longer': 6, '900': 2, 'embarassed': 3, '83383': 2, 'enjoy': 31, 'shouted': 2, '£250': 12, 'value': 4, 'motor': 1, 'fun': 23, 'box403': 1, 'every': 48, 'wrk': 2, 'favor': 2, 'raiden': 1, 'shake': 1, 'velachery': 1, 'entire': 1, 'brb': 1, '0789xxxxxxx': 1, 'lager': 1, 'rcv': 2, 'f': 9, '89034': 1, 'plan': 36, 'station': 6, 'nevr': 1, 'track': 5, 'th': 13, '02072069400': 1, 'aww': 2, 'rudi': 1, 'vid': 2, 'polo': 1, 'sp': 6, 'virgil': 1, 'golf': 1, 'unclaimed': 1, 'ltd': 10, 'walmart': 3, 'feathery': 1, 'yep': 10, 'inconvenient': 1, 'treatin': 1, 'lst': 2, 'corporation': 1, 'hun': 5, 'took': 14, 'gud': 49, 'food': 16, 'nothin': 2, 'walkabout': 1, 'string': 1, 'mailed': 1, 'thankyou': 1, 'singing': 2, 'prsn': 1, 'countinlots': 1, 'babygoodbye': 1, 'road': 8, 'shivratri': 1, 'dungerees': 1, 'fidalfication': 1, 'lololo': 1, 'secretary': 2, 'sittin': 1, 'mids': 2, 'tag': 1, 'denying': 1, 'melnite': 1, 'meaningful': 1, 'virtual': 1, 'decking': 1, 'egbon': 1, 'tot': 17, 'temper': 1, 'including': 6, 'signin': 1, 'detroit': 2, 'that\\x92s': 4, 'othrwise': 1, 'announcement': 5, 'stable': 1, 'latelyxxx': 1, 'nasdaq': 1, 'prabu': 1, 'demand': 2, 'single': 8, 'weightloss': 1, 'befor': 3, 'wats': 6, 'convinced': 1, 'answer': 20, '28days': 1, 'store': 10, 'hai': 4, 'christian': 1, 'hook': 2, 'eshxxxxxxxxxxx': 1, 'measure': 1, 'indeed': 1, 'lindsay': 1, '07008009200': 1, 'shexy': 1, 'wks': 2, 'reminding': 2, 'chatting': 2, 'l': 3, 'honi': 1, 'old': 15, 'somerset': 1, 'helping': 1, 'evry1': 1, 'invader': 2, 'morphine': 3, 'mk17': 1, 'per': 48, 'lovin': 1, 'readiness': 1, 'shldxxxx': 1, 'dirty': 3, '£1450': 3, 'prediction': 1, 'skin': 1, 'blame': 3, 'unconsciously': 1, '515': 1, 'boyfriend': 1, 'sundayish': 1, 'continue': 2, 'dsn': 1, 'administrator': 1, 'mac': 3, '£100': 18, 'goodtime': 1, 'test': 19, 'hiya': 9, 'asus': 1, 'tnc': 2, '87077': 4, 'gmw': 1, 'strong': 5, 'garden': 1, 'jason': 3, '730': 1, 'reassurance': 1, 'disastrous': 1, 'voucher': 27, '07734396839': 2, 'fudge': 1, 'january': 6, 'respond': 4, 'frndsship': 1, 'tour': 6, 'hlp': 2, 'searching': 4, 'plumber': 1, '7oz': 1, 'chord': 1, 'ceiling': 1, 'arrow': 1, 'ayo': 1, 'try': 43, 'def': 3, 'obviously': 4, 'couldn\\x92t': 1, 'hip': 3, 'snogs': 1, 'visitor': 2, 'pharmacy': 1, 'tel': 11, 'melt': 2, 'pours': 2, 'provider': 1, 'medical': 5, 'close': 16, 'opposite': 1, 'dental': 1, 'busty': 1, 'drivin': 3, 'usps': 1, 'jos': 1, 'didn\\x92t': 2, 'easier': 4, 'polyphonic': 3, 'tlk': 1, 'u2moro': 1, 'truly': 3, '600': 1, 'sc': 1, 'antha': 1, 'topic': 1, 'thandiyachu': 1, 'grumble': 1, 'birthdate': 1, 'crack': 3, 'ended': 6, '08006344447': 2, 'unemployed': 1, 'lac': 2, 'theoretically': 1, 'motive': 1, 'carryin': 1, 'assessment': 1, 'cast': 1, 'rearrange': 1, '“': 2, 'talkbut': 1, 'nh': 1, 'm8': 3, 'june': 3, 'feeling': 18, 'building': 3, 'reaction': 1, '4mths': 3, 'base': 1, 'yetunde': 4, 'nat27081980': 2, 'cross': 3, 'gage': 1, 'thou': 1, 'infra': 1, 'im': 58, 'complete': 8, 'jst': 6, 'permission': 2, 'efficient': 1, 'html': 1, 'managed': 2, 'transfer': 3, 'freaky': 1, 'biggest': 4, 'various': 2, 'intro': 5, 'ritten': 1, 'pass': 1, 'hee': 9, 'buying': 7, '08002986906': 3, 'picture': 4, '4403ldnw1a7rw18': 1, 'lower': 2, 'watr': 1, 'chapel': 1, 'playng': 1, 'mundhe': 1, 'hostel': 3, '0871277810710p': 1, '450ppw': 1, 'selfindependence': 1, 'joanna': 1, 'goodo': 2, '09061790121': 2, 'university': 1, 'canal': 2, '01223585334': 2, 'switch': 2, 'ak': 1, 'discus': 4, 'scrappy': 1, 'belive': 1, 'mention': 1, 'donate': 1, 'george': 1, 'eightish': 1, 'psychiatrist': 1, 'great': 93, 'different': 7, 'fromm': 4, 'invention': 1, '23g': 1, 'billing': 1, 'gold': 1, 'pile': 1, 'oooooh': 1, 'matured': 4, 'yoga': 5, 'putting': 6, 'loo': 1, 'wa14': 1, '86888': 1, 'possibility': 1, 'cake': 6, 'back': 116, 'k718': 1, 'technology': 1, 'hell': 6, 'due': 5, 'stock': 4, 'coccooning': 1, '81151': 3, 'masteriastering': 1, 'festival': 1, 'vitamin': 1, 'eight': 2, 'shoul': 1, 'news': 15, 'fired': 1, 'accommodation': 1, '0844': 2, 'lucyxx': 1, 'display': 3, 'cashto': 1, 'french': 1, 'snowball': 1, 'dabooks': 1, 'cocksucker': 1, 'blank': 2, 'dancce': 1, 'reservation': 1, 'easy': 26, 'probthat': 1, 'wad': 1, 'shd': 4, 'com1win150ppmx3age16subscription': 1, 'resend': 1, 'hmmmm': 1, 'lanre': 1, 'cup': 8, 'ashwini': 1, 'rest': 9, 'brdget': 1, 'miller': 1, 'detail': 24, 'tobed': 1, 'shrek': 1, 'wap': 5, 'write': 8, 'song': 10, 'completes': 1, '114': 2, '80086': 2, 'gauti': 1, 'liverpool': 1, 'shuhui': 7, 'seemed': 3, 'waheed': 1, 'kettoda': 3, 'stroke': 1, 'prakasamanu': 1, 'kotees': 1, 'gm': 5, 'getzed': 8, 'enketa': 1, 'oga': 1, 'stayin': 2, 'wml': 2, 'mate': 25, 'kb': 3, 'dangerous': 1, 'priest': 1, 'desparately': 1, 'wicklow': 1, 'doug': 1, 'esaplanade': 1, 'truth': 7, 'boob': 1, 'charity': 2, 'exam': 13, 'birth': 2, 'woould': 1, 'greeting': 3, 'e£nd': 1, 'moon': 5, 'asked': 25, 'denis': 1, 'post': 18, 'whole': 12, 'nickey': 1, 'clas': 1, 'hppnss': 1, 'insurance': 3, 'manual': 1, '2stoptx': 1, 'argh': 2, 'called': 25, 'sg': 1, 'grin': 9, 'oru': 4, 'sit': 7, 'fire': 3, '69669': 2, 'castor': 2, 'some1': 5, 'postcode': 3, 'hiding': 1, 'add': 7, 'phyhcmk': 1, 'vega': 1, 'havent': 21, 'netflix': 1, '08702490080': 1, 'milta': 1, 'carton': 1, 'beating': 1, 'popcorn': 1, 'brighten': 1, 'dare': 3, 'bcums': 3, 'aaooooright': 1, 'hate': 5, 'adewale': 1, 'listener': 1, 'believe': 17, 'cough': 1, 'piece': 4, 'ihave': 1, 'lost': 11, 'thirunelvali': 1, 'card': 14, 'sambar': 1, 'advice': 2, 'cable': 1, '£200': 6, 'neglet': 1, 'conform': 1, 'individual': 2, 'wah': 3, 'dlf': 1, 'msgrcvd': 1, 'twilight': 2, 'experiencehttp': 1, 'jas': 2, 'clearly': 1, 'pt2': 1, 'reminded': 1, 'tiger': 1, 'arngd': 1, 'tactless': 1, 'cute': 7, 'folk': 1, 'needa': 1, 'concentrate': 3, 'battery': 6, 'tablet': 3, 'randy': 2, 'entirely': 1, 'pobox365o4w45wq': 1, 'understood': 3, 'foregate': 1, 'answering': 4, 'lionp': 2, 'released': 3, 'ending': 7, 'chocolate': 1, 'muah': 2, 'summer': 4, 'oz': 4, 'dudette': 1, 'shortly': 3, 'bin': 4, '85': 2, 'buyer': 2, 'anjola': 1, 'fake': 2, 'think': 112, 'textoperator': 1, 'cool': 36, 'hurt': 20, 'gv': 2, '80': 1, 'person': 41, 'flower': 4, 'boring': 4, 'irritation': 1, 'avent': 3, 'texted': 2, 'sing': 2, 'visiting': 1, 'advise': 2, 'tom': 2, 'thanks': 59, 'harry': 2, 'boggy': 1, 'fee': 2, 'nearly': 3, '08714714011': 1, 'ana': 1, '645': 1, 'lancaster': 1, '15': 3, 'sunny': 6, '09066358152': 1, 'biro': 1, 'wk': 24, 'moby': 4, 'instantly': 3, '08717507382': 1, 'late': 45, 'reminds': 1, 'fan': 2, 'bailiff': 1, 'decision': 4, 'pl': 1, '09061702893': 1, 'digi': 1, 'fab': 2, 'combination': 1, 'merely': 1, 'non': 1, '£12': 1, 'cricketer': 2, 'smiled': 1, 'major': 2, 'i\\x92ve': 1, 'margaret': 2, 'ct': 1, 'reveal': 8, '£1000': 26, '07880867867': 1, 'drug': 13, 'mentionned': 1, 'gr8fun': 1, 'shit': 30, 'predict': 1, 'foreign': 2, '9': 27, 'twinks': 1, 'seventeen': 1, 'pool': 2, 'cyclist': 1, 'gettin': 7, 'ringing': 1, 'jide': 1, 'arrive': 6, 'ugo': 1, 'fold': 1, 'lasagna': 1, 'esplanade': 3, 'go': 229, 'dippeditinadew': 1, 'teach': 7, 'planning': 7, 'ave': 8, 'mat': 1, 'disconnected': 1, 'disclose': 2, 'joker': 1, 'mallika': 1, 'claire': 1, '84128': 3, 'breathe': 2, 'warwick': 1, 'imma': 6, 'apologise': 3, 'dear1': 3, 'follows': 1, 'sonathaya': 1, 'pehle': 1, 'chore': 1, 'neither': 2, 'lccltd': 1, 'bakrid': 1, 'worried': 10, '00': 7, 'block': 2, '09065989180': 1, 'nowadays': 2, 'bear': 3, 'tech': 2, 'ofsi': 1, 'chicken': 1, 'wewa': 1, 'surgical': 1, 'expressoffer': 2, 'text': 166, 'platt': 1, 'kerala': 6, 'smsrewards': 1, 'norm150p': 5, 'save': 9, 'lifebook': 1, 'skype': 4, 'zindgi': 1, 'ibm': 1, 'actor': 2, 'pod': 4, 'birthday': 23, 'hava': 1, 'egg': 8, 'hearted': 1, 'seems': 5, 'outsider': 1, 'axel': 1, 'heal': 1, 'say': 89, 'eleven': 1, 'partnership': 2, 'ho': 7, 'hmmm': 12, 'olage': 1, 'apo': 1, 'worrying': 1, 'african': 1, 'lucky': 15, 'culdnt': 1, 'fyi': 4, 'leading': 1, 'addamsfa': 2, 'shall': 25, 'inclu': 1, 'shijas': 2, 'nri': 1, 'ofstuff': 1, 'employee': 1, 'used': 11, 'explicit': 2, 'snatch': 1, 'course': 12, 'coffee': 8, 'oath': 1, 'choice': 4, 'event': 3, 'device': 1, 'wthout': 1, 'hanging': 4, 'swimming': 3, '62220cncl': 1, 'spiritual': 1, 'possible': 8, 'luck': 11, 'luckily': 1, 'real1': 1, 'wnevr': 1, 'resume': 2, '9ja': 1, 'splash': 1, 'slippery': 1, 'faggy': 2, 'melle': 3, 'weddingfriend': 1, 'eldest': 1, 'bedreal': 1, 'betta': 1, 'hank': 1, 'sip': 2, 'cann': 3, 'paypal': 1, 'multis': 1, 'goin2bed': 1, 'involve': 1, 'euro': 3, 'bangb': 1, 'foley': 2, '08700621170150p': 2, 'stop2': 1, 'rct': 1, 'grooved': 1, 'abta': 1, 'upping': 1, 'spreadsheet': 1, 'contribute': 1, 'made': 25, 'definite': 2, 'bread': 2, 'trauma': 1, 'ree': 1, '12': 9, 'someonone': 1, 'tap': 2, 'ecstacy': 1, 'ke': 2, 'amrca': 1, '08715705022': 2, 'mokka': 1, '09050000460': 1, 'breakfast': 1, '4my': 1, 'forgets': 1, 'wake': 23, 'instead': 5, 'pleased': 4, 'timi': 1, 'answered': 2, 'daily': 6, 'forum': 4, 'na': 79, 'guai': 1, 'cusoon': 1, '27': 1, 'randomly': 3, 'girlfrnd': 2, 'maaaan': 1, 'scared': 2, '‘': 22, 'location': 5, 'mobileupd8': 11, 'assume': 4, '4719': 1, 'angry': 9, 'dload': 4, 'pride': 2, 'love': 161, 'sagamu': 1, 'rajini': 1, 'dependable': 1, 'hundred': 3, 'huai': 1, 'elephant': 1, 'sha': 4, 'finance': 1, 'nvq': 1, 'wan2': 2, 'furniture': 2, 'sugababes': 1, 'marriage': 5, 'mycalls': 1, 'romantic': 5, 'happened': 13, 'smashed': 2, 'australia': 1, 'bbc': 1, 'tough': 5, 'paranoid': 1, 'connected': 1, 'gifted': 1, 'kick': 6, 'gimmi': 1, '4th': 5, 'lotto': 1, 'magicalsongs': 1, 'loxahatchee': 2, 'flea': 1, 'jeremiah': 1, 'theater': 1, 'mw': 1, 'fried': 1, 'weakness': 2, 'goggles': 1, 'dept': 1, '67441233': 1, '523': 1, 'borderline': 1, 'spain': 1, '864233': 1, 'tired': 9, 'dbuk': 1, 'santacalling': 1, 'honest': 1, 'showing': 5, 'alternative': 1, '09050000301': 1, 'gray': 1, 'jungle': 1, 'amigo': 1, 'ctter': 1, 'dessert': 1, 'lighter': 1, 'stopped': 4, 'howu': 1, 'chinky': 1, 'doke': 1, 'sitting': 7, 'payee': 2, 'outdoors': 1, 'taco': 2, 'interfued': 1, '85222': 1, 'yaxx': 1, 'provided': 3, 'death': 3, 'it\\x92s': 2, '09058094594': 1, 'bunker': 1, 'mono': 4, 'customercare': 1, 'package': 4, 'box39822': 3, 'disturb': 9, 'attach': 1, 'mentioned': 1, 'tape': 3, 'alrite': 6, 'stash': 1, 'anna': 2, 'hp': 1, 'rd': 2, 'transferred': 1, 'london': 5, 'february': 4, 'camcorder': 13, 'dane': 1, '6ph': 1, 'wamma': 1, 'drinking': 3, 'minor': 2, 'ello': 1, 'lover': 10, 'defer': 1, 'stylist': 1, 'realising': 1, 'gim': 3, 'callcost150ppmmobilesvary': 1, 'almost': 13, 'making': 19, 'sux': 1, 'pump': 1, 'hectic': 1, 'auction': 8, 'club4mobiles': 1, 'xclusive': 1, 'sinco': 2, 'beloved': 1, 'ppl': 3, '0796xxxxxx': 1, 'wrnog': 2, '4give': 1, '450p': 1, 'ideal': 2, '1stone': 1, 'irene': 1, 'vewy': 1, 'journey': 1, 'mtalk': 2, 'fight': 6, 'max10mins': 6, 'goal': 1, 'fiend': 1, '150ppermesssubscription': 3, 'alex': 6, 'drove': 2, 'ring': 18, 'fish': 3, 'learned': 1, 'hooked': 1, 'elaya': 1, 'creepy': 1, 'elaine': 1, 'aco': 1, 'prominent': 1, 'disturbing': 2, 'stupid': 11, '021': 2, '45pm': 1, 'trade': 2, 'bluff': 2, 'look': 32, 'belt': 1, 'atlanta': 3, 'polyc': 1, 'mobilesvary': 2, 'cardiff': 2, 'w1j6hl': 10, 'phil': 1, 'aboutas': 1, 'tescos': 1, 'shut': 1, 'frnd': 13, 'eastenders': 1, 'full': 14, 'whassup': 1, 'matthew': 1, 'yck': 2, 'sunoco': 1, 'leaving': 15, 'optout': 3, '2005': 3, '350': 2, 'silver': 2, 'ml': 1, 'broad': 2, 'wet': 4, 'fill': 7, 'abeg': 1, 'inclusive': 3, 'jsut': 2, 'vomiting': 1, 'cloud': 1, 'however': 6, 'reflection': 1, 'lib': 2, 'ldew': 7, 'uk': 61, 'skint': 1, 'barbie': 1, 'lionm': 2, '83435': 1, 'kickoff': 2, 'imagine': 6, 'ppt150x3': 1, 'aiya': 3, 'mb': 1, 'somethin': 4, '…': 10, 'worse': 6, 'losing': 2, 'decide': 6, 'google': 2, 'specialisation': 1, '3mins': 3, 'fever': 3, 'checkmate': 1, '98321561': 1, 'unsold': 3, 's3xy': 1, 'qlynnbv': 1, 'algarve': 2, 'loving': 16, 'fireplace': 1, 'dining': 1, 'sky': 2, 'joke': 6, 'sweater': 1, 'mutai': 1, '50ppm': 1, 'namous': 1, 'bone': 2, 'new': 111, 'exciting': 5, 'deviousbitch': 1, 'dhanush': 1, 'spend': 9, 'bowl': 5, 'removal': 2, 'taxi': 2, 'behind': 4, '\\x91morrow': 1, 'urgently': 2, 'diamond': 3, '£5': 2, 'mmmmmmm': 1, 'torture': 1, 'shola': 1, 'box177': 1, '\\x96': 3, 'member': 8, 'though': 23, 'winterstone': 1, 'twittering': 1, 'mone': 1, 'lul': 1, 'praise': 1, 'respectful': 2, 'rgent': 1, 'dizzee': 1, 'smarter': 1, 'prepaid': 1, 'tactful': 1, 'cost£1': 6, 'bbq': 1, 'handing': 1, 'lifeis': 1, 'studio': 1, 'box334': 1, 'chat80155': 1, 'possession': 2, 'al': 6, 'writhing': 1, 'fresh': 1, 'tv': 25, 'groovy': 1, 'treat': 11, 'sum': 2, 'exposed': 1, 'inner': 1, 'lodging': 1, 'langport': 2, 'as': 10, 'fancied': 1, '44': 1, 'logoff': 1, '08715203656': 1, 'costume': 1, 'ovr': 1, 'sore': 4, 'moan': 3, 'fakeye': 1, '08712404000': 1, 'allalo': 1, 'ourbacks': 1, '0800': 10, 'crashing': 1, 'stamped': 1, 'dance': 1, 'retired': 1, 'mite': 3, 'carly': 1, 'rcd': 1, 'mei': 2, 'sary': 1, 'tagged': 1, 'resubmit': 1, 'experience': 7, 'staff': 3, 'downloaded': 1, 'shinco': 1, 'xx': 12, 'frwd': 1, 'dom': 1, 'nmde': 1, 'working': 22, 'frndship': 4, 'bring': 19, 'owned': 1, 'normally': 3, 'jez': 1, 'engin': 2, 'chap': 1, 'mitsake': 2, 'fridge': 1, '50ea': 1, 'gent': 2, 'borin': 1, 'panasonic': 1, 'frankie': 1, '88877': 1, 'official': 5, 'eh74rr': 1, '9061100010': 1, '078498': 1, 'mike': 1, 'dinero': 1, 'freeentry': 1, 'abel': 1, 'èn': 1, 'resizing': 1, 'storming': 2, 'warm': 7, '08701237397': 1, 'hunny': 6, 'forgotten': 2, 'lucozade': 2, 'lush': 2, '09071512433': 2, 'ed': 1, 'scream': 5, 'behalf': 1, 'e14': 1, '83222': 3, 'specialise': 1, 'lool': 1, 'macleran': 1, 'ji': 1, 'slide': 2, 'since': 22, '255': 1, 'crucial': 1, 'myparents': 1, 'sculpture': 1, 'player': 17, 'guessing': 1, 'madodu': 1, 'um': 1, 'subscriber': 4, '28th': 1, 'realy': 6, 'screamed': 1, 'spk': 3, 'returning': 1, 'coach': 1, 'sez': 1, 'smartcall': 1, 'chastity': 1, 'studentfinancial': 1, 'wherevr': 1, 'hvae': 1, 'fails': 1, 'pest': 1, 'tcr': 2, '4041': 1, 'energy': 6, 'santa': 2, 'bluetoothhdset': 1, 'predicte': 1, 'elsewhere': 3, '〨ud': 1, 'independence': 1, 'dad': 26, 'horniest': 1, 'lasting': 1, 'bleh': 1, 'app': 4, 'rayan': 1, 'shorter': 3, 'pie': 2, 'mack': 1, 'insha': 2, 'belongs': 1, 'year': 62, 'wt': 2, 'adding': 1, '84199': 3, 'wendy': 1, 'beautiful': 17, 'olympics': 1, 'xxx': 27, 'kano': 5, 'colourful': 1, 'telediscount': 1, '81303': 3, '4742': 3, 'loyalty': 6, 'dormitory': 1, 'double': 15, 'distance': 3, 'rv': 1, 'spanish': 3, 'link': 6, '08719839835': 1, 'selfish': 2, 'remains': 1, 'ni8': 14, 'soul': 2, '07': 2, 'shelf': 3, 'ptbo': 3, 'avin': 1, 'yo': 26, 'chiong': 1, '82277': 6, 'colleg': 1, 'nb': 2, 'sorrow': 2, 'steed': 1, 'opinion': 8, 'poet': 1, 'prefer': 2, 'gym': 10, 'uneventful': 1, 'community': 1, 'playin': 1, 'wont': 26, 'rebtel': 1, 'play': 28, 'h': 3, 'surprise': 10, '3aj': 1, 'ego': 1, 'myspace': 1, 'condition': 4, 'satisfy': 2, 'hallaq': 2, 'necessary': 1, 'witout': 1, 'irritating': 3, 'isn\\x92t': 1, 'matter': 6, 'nursery': 1, 'job': 32, 'musta': 1, 'rimac': 1, 'afraid': 4, '21870000': 1, 'sr': 1, 'by\\x94leafcutter': 1, '4xx26': 1, 'hellogorgeous': 1, 'jogging': 2, 'terror': 1, '5pm': 2, 'hl': 3, 'medicine': 2, 'zaher': 1, 'raise': 2, 'salt': 1, 'jot': 1, '2optout': 5, 'entry': 18, 'zoom': 1, 'ay': 1, '4w': 1, 'check': 35, 'menu': 5, 'custcare': 8, 'acted': 2, 'le': 11, 'starting': 8, 'difficult': 10, 'conclusion': 1, 'puttin': 2, 'motivating': 1, 'emigrated': 1, 'jealous': 1, 'bang': 2, 'l8rs': 1, 'multimedia': 1, 'slipper': 3, 'dem': 4, 'libertine': 1, 'fond': 1, 'toothpaste': 1, 'pobox84': 4, 'hep': 1, 'today': 152, 'uwant': 1, 'document': 1, 'beauty': 2, '077xxx': 1, 'gal': 9, 'tunde': 1, 'fluid': 1, 'replying': 7, '09066362206': 1, 'cappuccino': 2, 'gymnastics': 1, 'ee': 1, 'bigger': 2, 'mesages': 2, 'jada': 4, 'honeybee': 3, 'lovingly': 1, 'make': 96, 'bridal': 1, 'polys': 6, 'bac': 1, 'astronomer': 1, 'tuth': 1, 'elaborating': 1, 'zyada': 1, 'hotmail': 1, 'weirdy': 1, 'alian': 1, 'carlie': 1, 'sticky': 2, 'killed': 2, 'tax': 1, 'fo': 1, 'reset': 1, 'shagged': 2, 'ere': 1, 'bell': 2, 'april': 5, 'ape': 1, 'rush': 4, 'presnts': 1, 'v': 38, 'professor': 2, 'mix': 2, 'irulinae': 1, 'following': 6, 'tiring': 1, 'chat': 38, '8883': 1, 'bike': 1, 'kaitlyn': 1, 'mk45': 2, 'willing': 5, 'hon': 2, 'orange': 25, 'possessive': 1, 'happily': 2, 'cheered': 1, 'expose': 1, 'aphex\\x92s': 1, 'fixed': 8, 'nat': 3, 'ey': 1, 'widelive': 2, 'mi': 2, 'gower': 1, 'psychologist': 1, 'convince': 1, 'deficient': 1, 'urination': 1, 'stylish': 5, 'maximize': 6, 'smoke': 11, 'vomit': 2, 'stuff42moro': 1, 'tahan': 2, 'hols': 3, 'worthless': 1, 'student': 6, 'tsunami': 3, 'didntgive': 1, 'transport': 2, 'express': 2, 'sneham': 1, '77': 1, 'slo': 1, 'nauseous': 1, 'exactly': 3, 'rem': 3, 'starshine': 1, 'subject': 1, 'jon': 1, 'depressed': 2, '08002986030': 2, 'pack': 4, 'murderer': 5, 'frank': 1, 'arsenal': 1, 'gentleman': 2, 'txtin': 2, 'kaiez': 1, 'relation': 4, '08712466669': 1, '09064011000': 1, 'exe': 1, 'lived': 2, 'minecraft': 1, 'yogasana': 3, 'proof': 3, 'tmw': 1, 'wale': 3, 'couple': 9, 'toledo': 1, 'sooooo': 2, 'illness': 1, 'xin': 1, 'award': 18, 'devil': 1, 'customersqueries': 1, 'ya': 38, 'challenge': 3, 'treasure': 1, 'gastroenteritis': 1, 'raping': 1, 'pobox45w2tg150p': 2, 'kanji': 1, 'theatre': 5, 'clearer': 1, 'bath': 8, 'borrow': 2, 'hour': 40, 'ela': 2, '09061743806': 2, 'obese': 1, 'pre': 2, 'messenger': 3, 'moseley': 1, 'practical': 2, 'heading': 2, 'prob': 13, 'bookedthe': 1, 'find': 67, 'tulip': 1, 'shot': 2, 'arm': 5, 'maybe': 25, 'rstm': 2, 'yup': 38, 'healer': 1, 'mornin': 2, 'nitros': 1, 'teenager': 1, 'crckt': 1, 'cola': 1, 'regular': 2, 'dismay': 1, 'notixiquating': 1, 'global': 1, 'nvm': 5, 'associate': 1, 'mission': 1, 'asda': 1, 'turn': 10, 'dancing': 2, 'cam': 3, 'b4': 12, 'reliant': 1, 'vettam': 3, 'suddenly': 1, 'record': 7, 'take': 119, 'true¡c': 1, 'cinema': 7, 'permanent': 1, 'shoppin': 2, 'effect': 3, 'rt': 1, 'local': 6, 'angel': 1, 'petrol': 2, 'brah': 2, 'abuse': 1, 'thgt': 1, 'arestaurant': 1, 'raglan': 1, 'qatar': 5, 'violence': 1, 'fetching': 1, 'travelled': 1, 'randomlly': 1, 'delicious': 1, 'com1win150ppmx3age16': 3, 'kalaachutaarama': 1, 'urgran': 1, 'admission': 1, 'opened': 1, 'rencontre': 1, 'parachute': 1, 'hand': 14, 'cereal': 1, 'r': 127, 'court': 1, 'njan': 1, 'strict': 1, 'b': 65, 'mad': 3, 'lab': 4, 'annoncement': 1, 'dismissial': 1, 'chosen': 3, 'feelingood': 1, 'everybody': 4, 'bffs': 1, 'grownup': 1, 'gently': 3, '087187262701': 3, 'hot': 17, 'sleeping': 15, 'trip': 11, 'shaved': 1, 'strain': 1, 'doctor': 8, 'theyre': 1, '08718726971': 1, 'torrent': 1, 'dice': 1, 'gokila': 1, 'satthen': 1, 'messy': 2, 'slowly': 9, 'webeburnin': 1, 'nearby': 1, 'owl': 1, 'upgrading': 1, 'dammit': 1, 'tampa': 8, 'finest': 1, 'noisy': 1, 'except': 6, 'acc': 5, 'extra': 10, '1x150p': 4, '87575': 2, 'seat': 2, '18p': 1, 'impress': 1, 'evng': 5, 'outfit': 1, 'superior': 2, 'elliot': 1, 'ctargg': 1, 'axis': 1, 'manageable': 1, 'peach': 1, 'palm': 1, 'dearly': 3, '09066362231': 2, 'hitler': 1, 'askd': 12, 'salon': 1, 'break': 14, 'dignity': 2, 'rental': 10, 'aid': 2, 'gay': 4, '861': 2, 'rodds1': 1, 'helpline': 1, 'pity': 1, 'nu': 2, 'dvd': 5, 'purity': 4, 'germany': 3, 'aftr': 4, 'quiz': 12, 'upto': 3, 'carry': 2, 'fifa': 1, 'studying': 8, 'surly': 1, 'renewing': 1, 'hlday': 1, '449050000301': 1, 'exorcist': 2, '8077': 2, 'west': 2, 'gnun': 1, 'well': 93, 'topped': 1, 'xafter': 1, 'mnths': 2, 'tddnewsletter': 1, '1tulsi': 1, 'wire3': 1, 'cliff': 1, 'eg': 9, 'still': 121, 'move': 12, 'ugh': 8, 'passion': 1, 'lonlines': 1, 'like': 185, 'ternal': 1, 'login': 5, 'attached': 2, '5249': 1, '09050002311': 2, '86021': 3, 'await': 17, 'four': 3, 'husband': 3, 'stunning': 1, 'dai': 2, 'complementary': 1, 'iknow': 1, 'winning': 3, 'rply': 10, 'manchester': 1, 'removed': 1, 'centre': 5, 'engalnd': 1, 'youdoing': 1, 'px3748': 1, 'dob': 1, 'improve': 1, 'pobox12n146tf150p': 1, '430': 1, 'cres': 1, 'onto': 4, '09066368470': 1, 'audition': 1, 'clark': 1, 'nora': 1, 'echo': 1, 'curious': 2, 'nitw': 1, 'mark': 7, 'wat': 83, 'true18': 1, 'helen': 2, 'hoody': 1, 'vary': 4, 'kept': 6, '2b': 1, 'misscall': 1, 'comfey': 1, 'tho': 14, 'finishing': 3, 'approve': 1, 'mail': 23, 'speedchat': 1, 'nok': 1, 'phd': 1, 'wasted': 1, '0': 4, 'talk': 38, 'art': 5, 'free': 183, 'wun': 6, 'soc': 1, 'small': 8, 'inr': 1, 'goodmorning': 13, 'driver': 2, 'dhorte': 1, 'pause': 1, 'radiator': 1, 'reader': 2, '26th': 2, 'qbank': 1, 'ttyl': 3, 'cudnt': 1, 'wee': 1, 'suggestion': 2, 'profile': 2, 'woohoo': 1, 'someplace': 1, 'speciale': 1, 'inst': 1, 'weak': 3, 'onam': 1, 'cabin': 5, 'club4': 1, '4msgs': 1, 'varunnathu': 1, 'left': 29, 'perpetual': 1, 'addicted': 1, 'ron': 4, '12hours': 1, 'budget': 4, '08708800282': 1, 'overheating': 1, 'otside': 2, 'would': 55, 'snowman': 2, 'funky': 1, 'nino': 1, 'smiling': 15, 'unrecognized': 1, 'coherently': 1, 'champneys': 1, '29': 3, 'ghost': 2, 'mailbox': 1, 'evening': 26, 'hui': 1, 'minnaminunginte': 3, 'envelope': 3, 'length': 2, '07090298926': 1, 'el': 1, 'suffering': 1, 'original': 4, 'careabout': 1, 'gran': 1, 'pathaya': 1, 'entropication': 1, '0quit': 1, 'supposed': 10, 'dictionary': 2, 'quitting': 1, 'exp': 1, 'remembr': 2, 'occupy': 2, 'thenampet': 1, 'added': 4, 'marking': 1, 'living': 4, 'sian': 2, 'usa': 1, '09050000878': 1, 'infernal': 4, 'please': 105, 'snot': 1, '123': 2, '762': 1, 'ringtoneking': 2, 'resort': 1, 'without': 18, '1yf': 1, 'liao': 31, 'usmle': 1, 'skyped': 1, 'themob': 4, 'kaila': 1, 'bloomberg': 1, 'tree': 4, '6th': 3, 'plaza': 2, 'go2': 1, 'kidz': 4, 'valued': 10, 'stagwood': 1, 'character': 6, 'island': 5, 'dependent': 1, 'promised': 1, 'progress': 1, 'pple': 5, '6pm': 2, 'screaming': 5, 'opponenter': 1, '3030': 6, '150p': 53, 'magical': 2, 'hum': 1, 'ever': 25, 'plaid': 1, 'wocay': 1, 'arrested': 4, 'panren': 1, 'vale': 1, 'token': 1, 'dasara': 1, 'yor': 3, 'trainners': 1, 'bahamas': 2, 'competition': 6, 'nusstu': 1, 'joy': 8, 'mobno': 2, 'study': 8, 'went': 42, 'raised': 1, 'spoken': 3, 'ability': 2, 'bcz': 1, '4eva': 2, 'assumed': 1, '382': 1, 'bluray': 1, '7pm': 4, '3d': 3, 'wating': 2, 'female': 1, 'telephone': 1, '2007': 2, 'harlem': 1, 'kl341': 1, 'leh': 23, 'highest': 1, 'praying': 3, 'freaking': 1, 'fml': 2, 'frog': 1, 'novelty': 1, '12hrs': 13, 'nw': 2, 'recount': 1, 'drugdealer': 1, 'bathe': 9, 'verified': 2, '08712405022': 2, 'safety': 1, 'mint': 1, '£1500': 2, 'unnecessarily': 1, '850': 1, 'warning': 2, '05': 4, 'hari': 1, 'unredeemed': 3, 'emotion': 1, 'flying': 1, 'courage': 1, 'setting': 6, 'ten': 13, 'likely': 2, 'receiving': 3, 'fwiw': 1, 'ktv': 1, 'long': 33, 'agent': 2, 'lucy': 1, '2p': 1, 'messaging': 1, 'minded': 1, 'otherwise': 6, 'wenever': 1, 'inconvenience': 1, 'sweetie': 2, 'dosomething': 1, 'essential': 3, 'ultimate': 1, 'prepared': 2, 'darling': 7, 'dealer': 1, 'audrie': 1, 'sway': 1, '9755': 1, '85023': 5, '4brekkie': 1, 'advising': 1, 'next': 48, 'biatch': 1, 'thnk': 5, 'always': 43, 'loveme': 2, 'billed': 2, 'soo': 2, 'program': 3, 'prospect': 2, 'jet': 1, 'piss': 2, 'ultimatum': 1, 'sufficient': 2, 'ruining': 1, 'aging': 1, 'nitro': 1, 'punch': 1, '100': 15, 'vodka': 1, 'frequently': 1, 'marvel': 1, 'ice': 8, 'print': 1, 'riley': 1, 'supervisor': 2, 'wth': 1, 'hang': 2, '’': 2, 'earlier': 11, 'crave': 11, 'commit': 1, 'datebox1282essexcm61xn': 1, '09058094597': 1, 'asking': 10, 'skip': 3, 'problum': 1, 'lock': 2, 'dao': 1, 'panalam': 1, 'contacted': 4, 'wondar': 1, 'monster': 1, 'skirt': 1, 'lyric': 1, '08712300220': 3, 'outta': 3, 'amazing': 4, '24th': 1, 'jabo': 1, 'fassyole': 1, 'wot': 18, 'shipped': 2, 'flag': 4, 'hail': 1, 'northampton': 2, 'let': 76, 'lei': 15, '2day': 8, '2getha': 1, 'ooh': 1, 'gaytextbuddy': 2, 'mee': 1, '82242': 2, 'cold': 4, 'partner': 2, 'lambu': 1, 'co': 99, 'ponnungale': 1, 'shade': 1, 'protect': 2, 'akon': 1, 'bangbabes': 1, 'w1t1jy': 1, 'frnds': 13, 'conference': 1, 'anonymous': 1, 'sight': 4, 'flippin': 1, 'seriously': 7, 'ray': 5, 'xxxxx': 2, 'barry': 1, 'ipaditan': 1, 'er': 5, 'ger': 1, 'hint': 1, 'tex': 1, '49557': 1, 'em': 9, 'waitin': 3, 'hp20': 1, 'celebrated': 1, 'dentist': 2, 'neva': 14, 'nookii': 1, 'suzy': 2, 'wise': 3, 'convey': 9, 'changing': 1, 'stress': 2, 'maintaining': 1, 'impede': 1, 'waste': 4, '08719899217': 1, 'bristol': 2, 'arabian': 1, 'ew': 1, 'amount': 4, 'cafe': 5, 'aeroplane': 2, 'prolly': 2, 'colleague': 6, 'reality': 1, '8lb': 1, 'factory': 1, 'last': 62, 'iwas': 1, 'format': 2, 'spook': 2, 'recpt': 1, 'spree': 6, 'mobile': 112, 'normal': 8, 'expensive': 3, 'acl03530150pm': 1, 'varma': 1, 'active': 2, 'fooled': 1, 'marandratha': 1, 'cud': 2, 'unbreakable': 2, 'chinchilla': 1, 'buddy': 1, 'maangalyam': 2, 'name': 40, 'problematic': 1, 'baaaaabe': 1, 'steak': 1, 'ruthful': 1, '08701752560': 1, 'doublemins': 1, 'apt': 1, 'watt': 1, 'dawn': 1, 'spark': 1, 'posh': 1, '2morrowxxxx': 1, 'fucked': 2, 'honeymoon': 1, 'slave': 6, 'towards': 7, 'xoxo': 1, 'leo': 1, 'wife': 18, 'hero': 2, 'men': 9, 'sane': 1, 'rahul': 1, 'preponed': 1, 'vikky': 7, 'credited': 4, 'refilled': 1, 'k61': 1, 'philosophical': 1, 'flaked': 3, 'james': 2, 'model': 6, 'sae': 18, 'cant': 49, 'stand': 7, 'elaborate': 1, 'wasting': 1, 'wasn\\x92t': 1, 'lie': 4, '0207': 3, '09111030116': 1, 'evone': 1, 'basically': 3, 'steam': 2, 'lotr': 2, 'bridgwater': 1, 'p': 10, 'property': 2, 'vava': 2, 'evo': 1, 'subscription': 4, 'future': 4, 'bright': 2, 'fizz': 1, 'party': 12, 'flew': 1, 'merememberin': 1, 'delayed': 1, 'ad': 6, 'moji': 4, 'paru': 1, 'mia': 1, 'pongal': 2, 'bajarangabali': 1, 'twiggs': 1, '2i': 1, 'inspection': 1, '08714712379': 1, 'kindly': 3, '92h': 1, '£s': 1, 'kr': 1, 'sullivan': 1, 'shangela': 1, 'meeting': 33, 'http': 15, 'fix': 5, 'knackered': 3, 'chennai': 9, 'middle': 3, 'aluable': 1, 'awake': 5, '10th': 1, 'aberdeen': 1, 'complexity': 1, 'lido': 3, 'rpl': 1, '09071517866': 1, 'brand': 6, 'stranger': 3, 'jersey': 1, 'accumulation': 1, '09063442151': 1, 'didnt': 26, 'anyway': 24, 'concert': 3, 'sphosting': 1, 'spl': 4, 'chinese': 3, 'else': 17, 'knowing': 3, 'cruise': 3, 'name2': 2, 'memory': 2, 'xavier': 2, 'shracomorsglsuplt': 1, 'five': 5, 'huge': 2, '99': 1, 'general': 1, 'indicate': 2, 'ld': 1, 'capital': 2, 'isv': 1, 'stereo': 1, 'kickboxing': 1, 'sea': 12, 'anyone': 16, 'jules': 1, 'kusruthi': 4, 'cuddling': 2, 'ericsson': 2, 'moved': 2, 'xy': 7, 'd3wv': 1, 'db': 1, 'placed': 1, 'pub': 18, 'delivered': 4, '050703': 2, 'basq': 1, 'fair': 1, 'pocked': 1, 'bmw': 2, 'canname': 1, 'ettans': 1, 'warranty': 1, '09': 2, 'hopeso': 1, 'alwys': 2, 'difficulty': 1, 'key': 6, 'saying': 14, 'visa': 1, 'board': 1, 'flat': 3, 'destiny': 1, 'exhibition': 1, 'bck': 1, 'poorly': 1, 'little': 27, 'workage': 1, 'video': 23, 'dr': 2, 'growing': 2, 'unconditionally': 1, 'near': 9, 'intelligent': 3, 'stdtxtrate': 1, 'dengra': 1, 'fathima': 2, 'fell': 2, 'good': 202, 'mys': 1, 'thia': 1, 'rodger': 1, 'seven': 3, '449071512431': 1, 'bus': 25, 'comb': 1, 'cc': 5, 'brolly': 1, 'monkey': 3, 'solve': 3, 'weapon': 1, 'winner': 13, 'peace': 3, 'true': 20, 'vivekanand': 1, 'landing': 1, 'iscoming': 3, 'casualty': 1, 'nipost': 1, 'gam': 1, 'loved': 10, 'mfl': 1, 'ache': 4, 'impressed': 1, 'cutie': 1, '1er': 1, 'glass': 1, 'ryan': 1, 'faglord': 1, 'number': 85, 'vital': 1, 'detailed': 1, 'flim': 1, 'sensible': 1, 'nevamind': 1, '6hl': 1, 'fightng': 3, 'teacher': 3, 'leaf': 9, 'unhappy': 1, 'report': 3, 'taka': 1, '63miles': 1, 'thuglyfe': 1, 'sw73ss': 1, 'tomarrow': 3, 'end': 41, 'shining': 2, 'lark': 1, 'smoked': 1, 'drinkin': 2, 'listen': 12, 'x29': 1, '1000': 4, 'whens': 1, 'chart': 3, 'laughed': 3, '2u2': 1, 'attend': 3, 'deep': 8, 'mindset': 1, 'coulda': 1, 'domain': 1, 'pist': 1, 'fal': 1, 'karaoke': 2, 'macedonia': 1, 'violated': 1, 'stomp': 1, 'pisces': 1, '30th': 1, 'adoring': 2, 'star': 1, 'limiting': 1, 'bros': 1, 'nuclear': 1, 'success': 1, 'bakra': 1, 'attitude': 1, 'kissing': 1, 'gentle': 4, 'imagination': 1, 'reverse': 2, 'suprman': 2, 'occupied': 1, 'urgent': 52, 'o': 1, 'thousand': 1, 'occurs': 1, 'pop': 1, '08718727868': 2, 'dun': 41, 'offline': 1, 'usual': 6, 'w8in': 1, '08715203028': 1, '08452810071': 1, 'stressed': 1, 'www': 79, 'twin': 1, 'carlos': 12, 'buy': 46, '09050090044': 6, 'pic': 24, 'forwarded': 8, '2rcv': 2, 'window': 4, 'faded': 1, 'mostly': 2, 'loyal': 2, 'werebored': 1, '09061221061': 1, 'apologize': 1, 'yesterday': 21, 'tkls': 1, '81010': 1, 'grab': 1, 'bsn': 1, 'forgive': 1, 'tomorro': 2, 'lautech': 1, 'beendropping': 1, 'excuse': 7, 'aproach': 2, 'surprised': 3, 'danger': 1, 'status': 2, 'tension': 2, 'jb': 1, 'wildest': 1, 'smsing': 1, 'beg': 1, 'annoying': 2, 'easily': 1, 'rain': 7, 'neshanth': 1, 'tonexs': 1, 'classmate': 1, 'pleassssssseeeeee': 1, 'lakh': 1, 'breaker': 1, 'edukkukayee': 1, 'souveniers': 1, 'colour': 19, 'pimple': 1, '0a': 1, 'moment': 11, 'farm': 3, 'uwana': 1, 'holla': 6, 'forwarding': 1, 'armenia': 1, 'know': 203, 'copied': 1, 'spin': 1, 'murali': 1, 'possessiveness': 1, '4ward': 1, 'cook': 3, 'firmware': 1, 'sound\\x92s': 1, 'slowing': 1, 'plural': 1, 'londn': 1, 'goto': 5, 'special': 40, 'da': 108, '08719899230': 1, 'listened2the': 1, 'weight': 5, 'westlife': 2, 'woken': 1, 'cream': 4, 'nan': 1, '08715203652': 1, 'kent': 1, 'aust': 1, 'chef': 1, 'creativity': 1, 'sex': 11, '30pp': 2, 'sathy': 1, 'comprehensive': 1, 'deliveredtomorrow': 3, 'minmoremobsemspobox45po139wa': 1, 'babysitting': 1, 'bloo': 1, 'becz': 1, 'bishan': 3, 'agree': 1, 'loss': 3, 'granted': 1, '£3': 10, 'minimum': 1, 'fro': 1, '08717890890£1': 1, 'includes': 1, 'feel': 53, 'trackmarque': 1, 'smart': 2, 'collecting': 3, 'relieved': 1, 'fb': 3, 'janarige': 1, 'tmorow': 1, 'powerful': 1, '89555': 1, 'bit': 35, 'fly': 4, 'serious': 5, 'personal': 3, 'recession': 2, 'yan': 4, 'payback': 1, 'safe': 8, '2667': 1, 'hont': 1, '9307622': 1, 'cheap': 6, 'acnt': 1, 'gardener': 2, '440': 2, 'deluxe': 1, 'reslove': 1, 'posted': 6, '08718738001': 1, '2nights': 1, '6': 37, '08707509020': 3, 'alright': 16, 'maniac': 1, 'cooked': 2, 'nuther': 1, 'positive': 1, '300p': 1, 'ec2a': 3, 'pert': 1, 'darker': 1, 'bead': 1, 'officially': 1, 'gave': 10, 'hustle': 1, 'fav': 2, 'mental': 2, 'schedule': 4, 'venugopal': 1, 'rtm': 1, 'freinds': 1, 'hoo': 1, 'mising': 1, 'become': 4, 'asusual': 1, '09058091870': 1, '89693': 2, 'pract': 1, '08081560665': 2, 'gbp5': 1, 'talent': 2, 'downloads': 3, 'rightio': 1, 'vouch4me': 1, '08452810073': 3, 'sum1': 3, 'thurs': 4, 'barrel': 1, 'ship': 2, 'brin': 1, 'fine': 38, 'heaven': 1, 'terrific': 2, '45': 1, '177': 1, 'den': 20, 'werethe': 1, 'kegger': 2, 'chuck': 1, 'cover': 9, '09058099801': 2, 'collection': 20, '1lemon': 1, 'donyt': 1, '09071512432': 1, 'buffet': 2, 'spoke': 6, 'anymore': 6, 'wud': 2, '6days': 1, 'freemsg': 10, 'allday': 1, 'kind': 12, 'filled': 2, 'thot': 2, 'emerging': 1, '2waxsto': 2, 'somewhat': 1, 'month': 35, 'oh': 90, 'peaceful': 1, 'damn': 6, 'help08718728876': 2, '09077818151': 1, 'machine': 1, 'bull': 1, 'least': 10, 'lv': 2, 'private': 15, 'noice': 1, 'likeyour': 1, 'learn': 6, 'prem': 1, 'flowing': 1, 'aretaking': 1, '08717111821': 1, 'hanger': 1, 'rowdy': 1, '2years': 1, 'oblivious': 1, 'attention': 1, 'curtsey': 1, 'strongly': 1, 'ploughing': 1, 'ink': 1, 'overtime': 1, 'afternoon': 25, '420': 1, 'bambling': 1, 'yoyyooo': 1, 'membership': 3, 'wearing': 3, 'takin': 2, 'patent': 1, 'toxic': 1, 'installing': 1, 'raviyog': 1, 'woot': 1, '87239': 4, 'lined': 1, 'unlimited': 11, 'bslvyl': 8, '09066364311': 2, 'mina': 1, 'confirm': 11, 'billion': 2, 'stuffed': 1, 'smth': 9, 'va': 1, 'grandfather': 1, 'compromised': 1, 'urfeeling': 1, '66': 1, '09099726429': 1, 'lookin': 5, 'lunchtime': 1, 'especially': 2, 'changed': 5, 'vijay': 3, '128': 1, 'fault': 4, 'religiously': 1, 'dysentry': 1, 'sometimes': 7, 'refreshed': 1, 'upd8': 2, 'many': 40, 'drum': 1, 'meanwhile': 3, 'south': 7, 'informed': 6, 'source': 2, 'z': 1, 'semi': 1, 'duffer': 1, 'facility': 1, 'buzzzz': 1, 'disaster': 2, '09056242159': 1, 'sq825': 1, '3230': 1, 'a£50': 1, 'typical': 1, 'weather': 7, 'who': 2, 'mistake': 9, 'evrydy': 2, 'dave': 3, 'going': 136, '7am': 1, 'ordinator': 1, 'heehee': 1, 'nz': 1, '650': 1, 'oxygen': 1, 'footy': 1, '08718727870': 4, 'frndz': 1, 'raja': 1, 'alaikkum': 1, '40': 1, '447801259231': 1, 'bloody': 3, 'squid': 1, 'regard': 7, '£48': 1, 'ls1': 1, 'decorating': 1, 'payasam': 1, 'waz': 1, 'chg': 1, 'spotty': 1, 'iraq': 1, 'toking': 1, 'durham': 1, 'finding': 1, 'shanil': 1, 'sed': 5, 'chase': 2, 'poboxox36504w45wq': 1, 'slap': 2, 'standard': 4, 'smeone': 1, '31': 2, 'straight': 3, 'processed': 1, 'checkboxes': 1, 'activate': 5, 'mo': 6, 'accidentally': 4, 'landmark': 1, 'heron': 1, 'registration': 1, 'educational': 2, 'bleak': 1, '6hrs': 3, 'arranging': 1, 'meal': 5, 'chatlines': 1, '08712402578': 1, 'lvblefrnd': 3, 'inc': 6, 'euro2004': 5, 'drivby': 1, 'cttergg': 1, 'asleep': 6, 'person2die': 1, '20': 6, 'sugar': 4, 'gautham': 2, '1apple': 1, '09061749602': 1, 'porn': 3, 'raining': 5, '1st4terms': 1, 'invite': 2, 'tuesday': 6, '09061213237': 1, '528': 1, 'habba': 1, 'hypotheticalhuagauahahuagahyuhagga': 1, 'clock': 1, 'chez': 1, 'ola': 2, 'die': 8, 'miiiiiiissssssssss': 1, 'lotsof': 1, 'laugh': 9, 'tht': 7, 'performed': 1, 'train': 9, 'unlike': 1, 'press': 12, '08702840625': 3, 'w1': 3, 'ha': 6, 'bother': 5, 'urgoin': 1, 'verifying': 1, 'lit': 1, 'ok': 217, 'opening': 3, 'china': 3, '8ball': 1, 'mca': 1, '80182': 3, '1146': 1, 'build': 2, 'saved': 4, 'grief': 1, 'alle': 1, 'caring': 3, 'txt43': 1, 'twat': 1, 'age16': 8, 'babe': 69, 'howz': 3, '8wp': 3, 'log': 9, 'loose': 1, 'lesson': 19, 'water': 8, 'hall': 1, 'soundtrack': 1, 'cm2': 3, 'tming': 1, 'gamestar': 2, 'dramatic': 1, '£71': 1, 'bilo': 1, 'sory': 3, '37819': 1, 'replacement': 2, 'hanuman': 1, '800': 11, 'whore': 1, 'impressively': 1, 'practising': 1, 'avoids': 1, 'smile': 32, 'played': 3, 'quote': 4, 'hold': 10, 'air1': 1, 'absolutely': 1, 'hollalater': 1, 'throwin': 1, '09050000332': 1, 'acid': 1, 'preview': 1, 'tried': 18, 'ibiza': 3, 'grocer': 1, 'occasion': 1, 'callertune': 5, 'captaining': 1, 'ocean': 1, 'begun': 1, 'ore': 1, 'young': 1, '81618': 3, 'promptly': 1, 'spacebucks': 1, 'min': 82, 'offer': 34, '09066368753': 1, 'sn': 4, 'scrounge': 2, 'wkent': 1, 'mymoby': 1, 'humanity': 1, 'subsequent': 1, 'g': 21, 'meh': 6, 'handset': 6, 'error': 2, '30pm': 1, 'penis': 1, 'payment': 2, 'result': 7, 'somebody': 10, 'sure': 56, '7th': 3, 'fear': 2, 'comp': 11, 'jackpot': 1, 'phoenix': 2, 'nte': 1, 'enjoyed': 3, 'jane': 3, '2moro': 4, 'baller': 1, 'currently': 11, 'casing': 1, '42478': 1, 'realizes': 1, 'billy': 1, 'call2optout': 7, 'jaya': 1, 'icic': 1, 'prod': 1, 'amused': 1, 'software': 3, 'sacked': 1, 'jan': 3, 'haha': 40, 'support': 11, 'duvet': 1, 'wudn': 1, 'appt': 3, 'sirji': 1, 'wrench': 1, 'confirmd': 2, 'forward': 5, '50': 49, '£1250': 2, 'transaction': 4, 'viva': 2, 'costing': 1, 'keep': 54, 'bribe': 1, 'aathi': 4, 'maga': 3, '09061221066': 4, '5ish': 1, 'finishd': 1, 'tlp': 3, 'using': 9, 'polyph': 2, 'tomo': 15, 'right': 70, 'manage': 2, '83332': 1, 'definitly': 1, 'philosophy': 2, '945': 1, 'poly': 12, 'scratch': 1, 'popping': 1, '鈥┾': 1, 'you\\x92re': 1, 'select': 2, 'appy': 1, 'st': 9, '2marrow': 1, 'blastin': 1, 'pretsorginta': 1, 'receive': 30, '69866': 2, 'awarded': 26, 'mayb': 13, 'registered': 8, 'retard': 1, 'solved': 2, '2find': 2, 'onwords': 1, 'chance': 29, '0871277810910p': 1, 'flirtparty': 1, 'picked': 7, 'past': 6, 'blacko': 1, 'networking': 3, 'laundry': 2, 'garment': 1, 'cuz': 6, '731': 1, 'loverboy': 6, 'temp': 1, 'lik': 5, 'whn': 2, 'swimsuit': 1, 'hella': 4, 'yifeng': 1, 'found': 12, 'shoranur': 1, 'taste': 2, 'olol': 1, 'spy': 1, 'nowhere': 1, 'guitar': 1, 'unable': 5, 'smash': 1, 'ge': 11, 'mmmm': 2, '08715203694': 1, 'diff': 2, 'failure': 1, 'edge': 2, 'din': 7, 'italian': 5, 'toshiba': 1, 'sexy': 22, 'matric': 1, 'mj': 1, 'ese': 3, 'r836': 1, '08704439680ts': 1, 'skateboarding': 1, 'referin': 1, 'ffectionate': 1, 'puzzle': 1, 'shitload': 2, '08718723815': 1, 'meant': 12, 'brison': 1, 'ax': 1, 'jolly': 2, 'ref': 4, 'together': 18, 'gap': 4, 'asap': 10, 'sickness': 1, 'interesting': 4, 'real': 29, 'prabha': 4, 'recognise': 2, 'develop': 2, 'cps': 1, 'msging': 2, 'boye': 3, 'curry': 2, 'remb': 1, 'amore': 1, '09066649731from': 1, 'process': 5, 'makin': 1, 'breeze': 1, 'lick': 3, 'slurp': 1, 'netcollex': 3, 'concerned': 1, 'marrge': 1, 'sashimi': 1, 'incident': 2, 'musthu': 2, '10k': 1, 'tessy': 2, '40411': 1, 'calicut': 3, 'adam': 2, 'dine': 1, 'inviting': 5, 'idu': 1, '151': 1, 'wrc': 2, 'hesitant': 1, 'blimey': 1, '09066362220': 1, 'ask': 62, 'sk38xh': 7, 'hmv': 2, '447797706009': 1, 'channel': 2, 'jen': 4, 'edward': 2, 'lage': 1, 'expired': 2, 'cheat': 2, 'unconscious': 1, 'bao': 1, 'vat': 1, 'babysit': 1, 'tea': 7, 'hard': 14, 'nigeria': 8, '88888': 1, 'anti': 2, '0870241182716': 1, '5000': 3, 'button': 1, 'poyyarikatur': 1, '69988': 1, 'jd': 2, 'grown': 1, 'maruti': 1, 'worc': 1, 'recorder': 1, 'rat': 1, 'melody': 1, 'sandiago': 1, 'houseful': 1, 'ortxt': 1, 'another': 29, 'england': 8, 'relationship': 1, 'youwanna': 1, '68866': 1, '2docd': 1, 'fullonsms': 4, 'brilliant': 4, 'meetin': 4, 'a£1': 1, 'telly': 2, 'gumby': 1, 'question': 30, 'mean': 40, 'eventually': 1, 'rise': 1, 'president': 1, 'dd': 1, 'beneficiary': 2, 'prop': 1, 'explosive': 1, 'sign': 5, '500': 20, 'mjzgroup': 1, 'hsbc': 2, '10ppm': 2, 'hm': 2, 'aom': 1, 'wi': 1, '07123456789': 2, 'class': 36, 'missed': 20, 'spell': 2, 'l8tr': 2, 'guy': 42, 'thinking': 13, 'afterwards': 1, 'contented': 1, '50perweeksub': 1, 'unsubscribed': 1, 'saeed': 1, 'battle': 2, 'inch': 4, 'content': 13, 'adore': 3, 'butt': 3, 'com': 53, 'litre': 1, 'asssssholeeee': 1, 'considering': 3, 'erotic': 1, 'oclock': 1, '4a': 2, 'prize': 66, 'rinu': 1, 'guilty': 3, '07732584351': 1, 'row': 16, 'daddy': 7, '30ish': 2, 'unintentional': 1, 'mapquest': 1, 'dating': 14, '09090204448': 1, 'okday': 1, 'legitimat': 1, 'fat': 6, 'internet': 6, '»': 1, 'oi': 1, 'tip': 2, 'hopefully': 5, 'bra': 1, 'inpersonation': 1, 'suite': 3, 'unfortuntly': 1, 'reapply': 1, 'accordingly': 3, 'achieve': 1, 'lead': 4, 'teaching': 2, 'fastest': 2, 'milk': 3, '2hrs': 1, 'odi': 2, 'kitty': 1, 'return': 10, '£250k': 2, 'cuddle': 3, 'item': 2, '48': 1, 'hourish': 1, 'body': 4, 'reflex': 1, '1thing': 1, 'mm': 7, 'callon': 1, 'inlude': 1, 'darkness': 1, 'drunkard': 1, 'nyc': 3, '08701417012': 2, '2003': 10, 'kz': 1, 'reached': 10, 'wknd': 1, 'samantha': 1, 'gek1510': 1, 'bam': 1, 'man': 36, 'ammae': 1, 'funk': 1, 'yi': 1, 'mrng': 13, '08712400602450p': 2, 'invoice': 1, 'tantrum': 1, 'spider': 1, '09058095107': 1, 'jenne': 1, 'deliver': 3, 'thinked': 1, 'spring': 2, 'argument': 3, 'gain': 2, 'aha': 6, 'actual': 1, 'lmao': 2, 'connect': 3, 'hype': 1, 'w1a': 1, 'gate': 1, 'alcohol': 2, 'reg': 2, 'remembered': 2, 'cheyyamo': 1, 'gudnyt': 1, 'ringtone': 23, 'bimbo': 1, 'sat': 25, 'pissed': 5, 'pretty': 12, 'juan': 1, '50rcvd': 1, 'gep': 1, 'pay': 24, 'sar': 2, '139': 1, 'txt82228': 1, 'sleepwell': 1, 'patient': 1, 'todo': 1, 'everyday': 1, 'vibrator': 1, 'm221bp': 1, 'hen': 1, 'also': 58, 'collapsed': 1, 'space': 6, 'wil': 16, 'election': 2, 'nobody': 9, '08000938767': 3, 'conacted': 1, 'exchanged': 1, 'practice': 4, 'night': 85, 'shakespeare': 1, '8714714': 1, 'hurricane': 1, 'indian': 7, 'subs16': 1, 'spec': 1, 'amk': 1, 'mmmmm': 2, 'motivate': 1, 'rofl': 2, 'pax': 1, 'colany': 1, 'murder': 3, 'ingredient': 1, 'infection': 1, 'msgrcvdhg': 3, 'booty': 3, 'slp': 2, 'virgin': 1, '674': 2, 'wedding': 3, 'justthought': 1, 'skillgame': 3, 'misfit': 1, 'txt': 125, 'coast': 2, 'reasonable': 2, 'box385': 2, 'yr': 14, 'parade': 1, 'sen': 2, '125gift': 3, 'rvx': 1, 'slower': 1, 'mquiz': 1, 'sorted': 3, 'village': 2, 'guild': 1, 'dino': 1, 'supplier': 1, '2309': 1, '2px': 1, 'subpoly': 3, 'opt': 15, 'lot': 47, 'weddin': 1, 'payed': 1, 'robs': 1, 'pen': 2, 'shifad': 1, 'refused': 3, 'e': 69, 'unsub': 6, 'slow': 8, 'promoting': 1, 'iriver': 1, 'tie': 1, 'completing': 1, 'toot': 2, 'dislike': 3, 'waking': 4, '07808': 1, 'sarcasm': 1, 'handsome': 1, 'dedicated': 2, 'ollu': 1, 'escape': 3, 'ar': 6, 'tool': 2, 'finn': 1, 'response': 3, 'max': 1, 'ralphs': 1, 'buzy': 2, 'sounding': 1, 'apnt': 1, 'po': 22, 'remind': 3, 'availa': 1, 'shrub': 1, 'imp': 1, 'cooky': 2, '83338': 1, 'respect': 4, 'recd': 4, 'stretch': 2, 'resuming': 1, '18yrs': 3, 'operator': 12, 'ground': 3, 'responding': 3, 'dryer': 1, 'forevr': 2, 'squeeeeeze': 1, 'shindig': 1, 'city': 4, 'often': 4, 'skyving': 1, 'ansr': 3, '6missed': 1, 'handed': 1, 'zealand': 1, 'bank': 7, 'evrey': 2, '09094646899': 2, 'plenty': 5, 'syd': 1, 'province': 1, 'grl': 1, '08000776320': 2, 'profit': 3, 'marry': 6, 'renewal': 2, 'cell': 5, 'understanding': 2, 'hmm': 14, 'ymca': 1, 'valid': 18, 'size': 2, 'downstem': 1, 'doesdiscount': 1, 'wer': 2, 'clothes': 1, 'hopeu': 1, 'gist': 2, 'calls£1': 4, 'o2fwd': 1, 'scraped': 1, 'heat': 1, 'pandy': 2, 'anything': 51, 'the4th': 1, 'txttowin': 2, 'benefit': 1, 'plate': 1, 'list': 4, '88039': 3, 'grow': 2, 'incorrect': 1, 'sharing': 2, 'theplace': 1, 'pole': 2, 'friend': 85, 'erupt': 1, '2price': 1, 'reacting': 1, 'beyond': 2, 'rushing': 1, '08719181259': 1, 'cali': 2, '09058094507': 1, 'ph': 2, 'realize': 1, 'adjustable': 1, 'pa': 27, '7732584351': 1, 'jstfrnd': 3, 'shb': 1, 'flaky': 1, 'meat': 1, 'paperwork': 1, 'massage': 2, 'happier': 1, '09094646631': 1, 'site': 3, 'devouring': 2, 'ikea': 3, '3lions': 1, 'weiyi': 1, 'arise': 1, 'whenevr': 2, 'breathe1': 1, 'disappeared': 1, 'roast': 1, 'nighters': 1, 'bcm4284': 2, 'ou': 1, 'cal': 4, 'uh': 1, 'never': 32, 'doin': 8, 'realise': 2, 'wtf': 2, 'lunsford': 1, 'ldnw15h': 3, 'tradition': 1, '0125698789': 1, 'hunting': 1, 'xxuk': 1, 'series': 4, 'divorce': 1, 'nonetheless': 1, 'thangam': 4, 'disk': 1, '4got': 1, '872': 1, 'tyler': 5, 'gift': 17, 'game': 27, 'lingerie': 1, 'stressfull': 1, 'thasa': 1, '08715203685': 1, 'fulfil': 1, 'bathroom': 1, 'm60': 1, 'chop': 1, 'shiny': 1, 'hit': 12, 'bt': 27, 'only1more': 1, 'tell': 115, '5we': 5, 'gucci': 1, 'tranquility': 1, 'avalarr': 1, 'september': 1, 'tear': 8, '08718725756': 1, 'exeter': 2, 'gsex': 1, 'graduated': 1, 'painting': 2, '7': 32, 'among': 3, 'blessing': 4, 'net': 16, 'comment': 1, 'irritated': 1, 'wen': 21, 'wotz': 1, 'munsters': 2, 'cochin': 2, 'ic': 2, 'aquarius': 1, 'terry': 1, 'sort': 12, 'unsubscribe': 15, 'upon': 1, 'goodnite': 2, 'mrt': 8, 'ovulate': 1, 'one': 134, 'franyxxxxx': 1, 'yar': 10, 'kalisidare': 1, 'occur': 1, 'broke': 4, 'skilgme': 3, 'talkin': 1, 'corvette': 1, 'fps': 1, 'kodstini': 1, 'footprint': 1, 'pull': 3, '65': 2, 'wihtuot': 2, 'paper': 11, 'product': 1, 'diaper': 1, 'pg': 2, 'tenant': 4, 'shirt': 6, '1win150ppmx3': 1, '09050001808': 2, 'pulling': 1, 'stomach': 3, 'badly': 1, 'afternon': 1, 'whats': 14, 'reboot': 2, 'grinder': 1, 'tau': 1, 'venaam': 1, 'ffffuuuuuuu': 1, 'senrd': 1, 'sabarish': 1, 'batchlor': 1, 'win150ppmx3age16': 1, 'unfortunately': 2, 'walked': 2, '08717895698': 1, 'flash': 3, 'miss': 57, 'witin': 1, '09050005321': 1, '09050000928': 1, 'failed': 2, 'happy': 73, 'wheat': 1, 'adventuring': 1, 'tait': 1, 'goodnight': 8, '09064015307': 1, 'park': 11, 'determine': 1, 'approaching': 1, 'hyde': 1, 'dontcha': 1, 'quality': 5, 'derek': 4, '88800': 1, 'show': 51, 'norm': 2, 'emailed': 1, 'count': 2, 'none': 5, 'pant': 1, 'umma': 5, '08714342399': 1, 'december': 4, 'server': 1, 'falconerf': 1, 'tm': 6, 'foundurself': 1, 'wallpaper': 3, 'wishlist': 1, '930': 2, 'jean': 1, 'noi\\x92m': 1, '1cup': 1, 'slept': 6, 'w4': 1, 'secret': 12, 'rob': 1, 'walkin': 1, 'smokin': 1, 'omw': 7, 'mountain': 2, 'share': 7, 'web': 2, 'tncs': 5, 'bedroom': 6, 'town': 20, '300603t': 1, 'sumthin': 1, 'thru': 8, 'cry': 4, '£33': 2, 'xxsp': 1, 'fals': 1, 'successfully': 1, 'prove': 2, 'filthy': 2, 'telugu': 2, 'cashbin': 1, 'lanka': 1, '89080': 1, 'wc1n3xx': 3, 'wizzle': 1, 'scotsman': 1, 'epsilon': 2, 'paid': 2, 'in2': 3, 'nitz': 1, 'soooo': 1, 'wenwecan': 1, 'touch': 17, 'raj': 2, 'relax': 5, 'mtmsgrcvd18': 3, 'pink': 2, 'starring': 1, 'responsible': 1, 'invitation': 1, 'tonight': 47, 'slaaaaave': 1, 'want': 174, 'limit': 1, 'mth': 2, 'wishin': 2, 'bluetooth': 6, 'amp': 56, 'alfie': 2, 'ls278bb': 1, 'hurting': 2, 'staring': 1, 'dnot': 1, 'cheesy': 1, 'desperate': 2, 'concern': 1, '330': 1, 'ujhhhhhhh': 1, 'x': 40, 'b4280703': 2, 'light': 9, '69969': 1, 'fumbling': 1, 'bb': 8, 'sic': 1, 'reduce': 1, 'noworriesloans': 1, '09096102316': 1, 'wadebridge': 1, 'initiate': 1, 'ish': 4, 'sarcastic': 2, 'goodnoon': 2, 'tues': 1, 'thkin': 1, 'uin': 1, 'triple': 1, 'large': 1, '08718711108': 1, '09053750005': 1, 'receipt': 4, 'fa': 2, 'checkup': 1, 'batch': 1, 'wrks': 1, 'infront': 2, 'ga': 1, 'organise': 1, 'lotsly': 1, 'wine': 6, 'diwali': 2, 'keyword': 1, '20m12aq': 1, 'conserve': 1, 'sef': 1, 'sayy': 1, 'pushbutton': 1, 'vipclub4u': 1, 'chatter': 1, 'sun': 12, 'mumhas': 1, 'participate': 1, 'rayman': 1, 'blue': 8, 'mystery': 1, 'film': 10, 'review': 4, 'fraud': 2, 'clearing': 2, 'keluviri': 1, 'tones2u': 1, 'pose': 1, 'surya': 1, 'contact': 52, 'bus8': 1, 'receipts—well': 1, 'table': 2, 'whilltake': 1, 'stalk': 1, 'madstini': 1, 'arcade': 3, 'breath': 2, 'latr': 4, 'edison': 2, 'sac': 1, '7250': 2, 'usher': 1, 'incredible': 1, 'message': 91, 'batt': 1, 'sold': 1, 'mileage': 1, 'satanic': 1, 'bloke': 3, 'unkempt': 2, 'actually': 29, 'cosign': 1, '2c': 2, 'correct': 9, '£54': 1, 'jay': 13, 'hear': 29, 'loser': 1, 'voila': 1, 'dark': 2, 'mumbai': 1, 'php': 1, 'stoner': 1, 'yetty': 1, 'rhode': 1, '750': 14, 'big': 24, 'sell': 8, 'cherish': 2, '2u': 3, 'bf': 4, 'mmmmmm': 2, 'heater': 1, 'lift': 4, 'answerin': 1, 'drink': 18, 'formatting': 1, 'badrith': 1, '4utxt': 1, 'astne': 1, 'trial': 1, 'pas': 7, 'treacle': 1, 'whenever': 9, 'vote': 4, 'underdtand': 1, '08709501522': 1, 'least5times': 1, '09094100151': 1, 'engaged': 1, 'sm': 40, 'nagar': 2, 'clover': 1, 'lyfu': 1, 'crowd': 1, 'ma': 3, 'lifetime': 2, '130': 1, 'gender': 2, 'recognises': 1, 'serving': 2, 'wondering': 7, 'anytime': 14, 'league': 1, 'giving': 5, 'snickering': 1, '5p': 2, 'worth': 11, 'brought': 4, 'missy': 1, 'offdam': 1, 'ago': 9, 'hamster': 1, 'fieldof': 1, 'somewhr': 1, 'ummma': 1, 'pending': 3, 'prizeswith': 1, 'lem': 6, 'si': 18, 'comingdown': 1, 'marine': 1, 'freezing': 3, 'gota': 1, 'bpo': 1, '4': 236, 'idk': 3, 'youre': 2, 'fishrman': 1, '150': 6, 'band': 1, 'dartboard': 1, 'msn': 2, 'career': 4, 'six': 3, 'sunday': 10, 'version': 4, '2gthr': 2, 'woke': 8, 'harish': 1, 'hottest': 1, 'p£3': 1, 'geeee': 5, 'request': 11, 'hv': 4, 'simpson': 1, 'gamb': 1, 'janinexx': 1, '£125': 1, 'interest': 1, 'orc': 1, 'hidden': 1, 'pc': 6, '150pm': 4, 'supose': 1, 'washob': 1, '08719180248': 1, 'enjoying': 1, 'passable': 1, 'steve': 1, 'closingdate04': 1, '0845': 3, 'twice': 3, 'famamus': 1, 'theory': 2, 'grandma': 2, 'nacho': 1, 'shaking': 1, 'power': 4, 'smoothly': 1, 'polyh': 2, 'mentor': 1, 'somtimes': 2, 'sony': 7, 'savamob': 6, 'barred': 1, 'sang': 1, '4wrd': 1, '50gbp': 3, 'splendid': 1, 'hehe': 1, '47': 1, 'cha': 3, 'illspeak': 1, '09050003091': 2, 'door': 9, 'survey': 2, 'waqt': 1, 'chill': 3, '0870': 5, 'std': 11, 'tuition': 3, 'priority': 1, 'etc': 9, 'orno': 1, 'replys150': 1, 'digital': 6, 'canceled': 1, '09041940223': 1, '169': 1, 'beverage': 1, '09064012160': 2, 'necessity': 1, 'housing': 1, 'cock': 3, 'proverb': 2, 'darkest': 1, 'countin': 1, 'ru': 2, 'f4q': 1, 'dogging': 6, 'bhaji': 2, 'unjalur': 1, 'trend': 1, 'ned': 1, 'current': 5, 'statement': 13, 'meet': 71, '400': 1, 'onwards': 3, 'steering': 1, '2lands': 11, 'awaiting': 5, 'unique': 4, 'notebook': 1, '24': 4, 'lamp': 1, 'clubsaisai': 1, 'cheating': 2, 'renewed': 1, 'lovely': 11, 'workin': 6, 'pls': 89, 'dnt': 10, 'misbehaved': 1, 'pesky': 1, 'position': 2, 'muhommad': 1, 'mila': 2, '786': 3, 'sipix': 5, 'gudnite': 3, 'harri': 1, 'asshole': 1, 'rtf': 1, 'advisor': 1, 'headset': 1, 'everywhere': 2, '200': 3, 'pocketbabe': 2, '14tcr': 1, 'claimcode': 1, 'machi': 1, 'upload': 2, 'vijaykanth': 1, 'ta': 13, 'urself': 5, 'ú1': 1, 'swear': 1, 'aah': 3, 'reading': 12, '88222': 1, 'hubby': 3, 'childrens': 1, 'lubly': 1, 'image': 2, 'jetton': 1, 'frm': 11, 'that2worzels': 1, 'pear': 1, 'adrian': 1, 'belong': 1, 'possibly': 1, 'fri': 11, 'crashed': 1, 'network': 26, 'overdid': 1, 'yellow': 2, 'cheese': 2, 'pei': 1, 'sol': 7, 'naked': 6, 'brothas': 3, 'arnt': 1, 'second': 15, 'bray': 1, 'biola': 2, '1225': 1, 'sooo': 1, 'sooner': 3, 'inning': 2, 'rebooting': 1, 'gona': 2, 'technical': 3, 'm26': 3, 'drms': 1, 'boy': 24, '09066612661': 3, 'scold': 1, 'later': 111, 'favourite': 2, 'ntwk': 3, 'je': 1, 'olave': 1, 'nurungu': 3, 'raji': 3, 'audrey': 2, '1stchoice': 1, 'ft': 1, 'toplay': 1, 'filling': 2, 'deny': 1, 'stability': 1, 'xt': 1, '08704439680': 1, 'w1j': 1, '1hr': 1, 'throat': 3, 'shell': 1, 'meow': 1, 'jock': 1, 'black': 4, 'recycling': 1, 'coca': 1, '09090900040': 1, 'bevy': 1, 'kay': 2, 'hdd': 1, 'fm': 1, 'yah': 1, 'fne': 1, 'texd': 1, 'perumbavoor': 1, 'ranjith': 1, 'greet': 2, 'icmb3cktz8r7': 1, 'dis': 19, 'okay': 21, 'nokia': 39, 'click': 4, 'threw': 2, 't': 8, 'experiment': 1, 'resolved': 1, 'tscs087147403231winawk': 2, 't91': 1, 'split': 1, 'adp': 1, 'brother': 19, 'pretsovru': 1, 'outl8r': 1, 'genius': 2, 'tirupur': 3, 'freefone': 4, 'or': 1, 'petey': 2, 'sensitive': 2, 'greatness': 1, 'horrible': 4, 'smsco': 1, 'clubzed': 1, 'mecause': 1, 'vargu': 1, 'running': 4, 'hungover': 1, 'restocked': 1, 'neville': 1, '08': 1, 'seperated': 1, 'spirit': 1, 'starer': 1, 'teasing': 4, 'wif': 21, 'x49': 1, 'barkley': 1, 'textpod': 2, 'jus': 20, 'strtd': 1, 'kallis': 6, 'cheaper': 3, 'whisper': 1, 'bettersn': 1, 'sofa': 7, 'house': 31, 'gailxx': 1, 'trouble': 5, 'ard': 15, 'update': 18, 'ton': 2, 'priscilla': 2, 'swtheart': 3, 'via': 10, 'minute': 41, 'vco': 1, 'division': 1, 'stopsms': 1, 'unbelievable': 2, 'tomorrow': 81, 'part': 23, '09057039994': 1, 'mandy': 1, 'malarky': 1, '100percent': 1, 'gossip': 2, '07786200117': 2, 'season': 3, 'tkts': 4, 'box95qu': 2, 'ken': 1, 'doesnt': 7, '820554ad0a1705572711': 1, 'latest': 31, 'eurodisinc': 1, 'swing': 8, 'hope': 86, 'concentrating': 1, 'dresser': 3, 'school': 21, 'threat': 3, 'yen': 1, 'sayhey': 1, 'gd': 13, 'shaping': 1, 'yourjob': 1, 'deleted': 3, 'toa': 2, 'xxxxxxxxxxxxxx': 1, 'tenerife': 5, 'selflessness': 1, 'urgh': 1, '61610': 2, 'arun': 3, 'restock': 1, 'want2come': 1, 'tissco': 2, 'sub': 10, '£2000': 16, 'csh11': 1, 'giggle': 1, 'proove': 1, 'caroline': 2, 'ball': 1, 'eve': 14, '4info': 2, 'refund': 1, 'rawring': 1, 'pussy': 6, 'aint': 2, 'symptom': 1, 'car': 35, 'department': 2, 'stil': 1, 'page': 10, 'closer': 4, 'childish': 5, 'uhhhhrmm': 1, '47per': 1, 'cheque': 1, 'male': 2, 'developer': 1, '5wkg': 1, 'howdy': 1, 'forgiven': 2, 'mood': 7, 'garbage': 2, '06': 8, 'offering': 1, 'turning': 2, 'luton': 1, 'reffering': 1, 'pressies': 1, 'cme': 1, 'swann': 1, 'troubleshooting': 1, 'meive': 1, 'attended': 1, 'footie': 1, 'planet': 2, 'rakhesh': 9, 'admin': 2, 'pee': 2, 'thats': 36, 'korli': 1, 'stoptxtstop£1': 1, 'reassuring': 1, 'belligerent': 1, 'unusual': 1, 'responce': 2, 'tight': 2, 'canlove': 1, 'lifpartnr': 3, 'asthere': 1, 'caveboy': 1, 'favorite': 1, 'potato': 2, 'reache': 1, 'hol': 2, 'care': 60, 'ciao': 1, 'burning': 2, 'snow': 11, 'diet': 2, 'yeah': 62, 'california': 2, 'charles': 2, '54': 1, '5': 47, '10am': 4, 'oops': 9, 'hr': 6, 'affair': 4, 'famous': 1, 'mobcudb': 1, '07821230901': 2, 'telphone': 2, 'miserable': 1, 'breather': 1, 'pobox12n146tf15': 1, 'cause': 17, 'mtnl': 1, 'owed': 1, 'abroad': 1, 'watever': 2, 'history': 3, 'knee': 1, 'project': 13, 'reallyneed': 1, 'guide': 6, 'gigolo': 1, 'evey': 1, 'cozy': 1, 'child': 10, 'sucker': 1, 'ive': 8, 'poly3': 1, 'logo': 5, 'hmph': 1, 'custom': 1, 'dock': 1, 'm263uz': 2, 'chikku': 11, 'alone': 14, 'thk': 37, 'banter': 1, 'earn': 1, 'disease': 1, 'dubsack': 2, 'equally': 1, 'previous': 2, 'sayin': 1, 'firefox': 1, '0870737910216yrs': 1, 'option': 2, 'kothi': 1, 'victoria': 1, 'avoid': 1, 'tp': 1, 'zed': 5, 'hostile': 1, 'listed': 1, 'jamster': 1, 'dusk': 1, '0825': 2, 'steal': 1, 'thriller': 1, 'wanting': 3, 'mummy': 2, 'thesis': 1, 'ordered': 4, '153': 2, 'cheek': 1, 'height': 3, '74355': 1, 'accept': 5, 'treated': 2, 'accent': 1, 'dang': 1, 'shant': 1, 'chk': 1, 'ready': 33, 'spending': 4, 'affection': 4, 'blind': 1, 'till': 18, 'sender': 3, 'shy': 3, '26': 4, 'kavalan': 2, '09050000555': 1, 'blanket': 2, 'heart': 38, 'crossing': 1, 'master': 2, 'canada': 1, 'nervous': 1, 'jordan': 4, 'round': 7, 'safely': 1, 'meaning': 3, 'engagement': 1, 'loko': 1, 'chief': 1, 'hungry': 9, 'poker': 2, 'probpop': 1, 'entrepreneur': 1, 'msg150p': 2, 'missin': 2, 'cruel': 1, 'arrival': 1, 'fffff': 1, 'thought': 37, 'resolution': 1, 'wisdom': 3, 'tarot': 1, 'mcat': 1, 'disagreeable': 1, 'indyarocks': 1, 'mom': 18, '1131': 1, 'cash': 57, 'joined': 8, 'abiola': 9, 'title': 4, 'holding': 6, 'obedient': 1, 'law': 5, 'half': 33, 'ileave': 1, 'selected': 23, 'visionsms': 2, 'stitch': 1, '150ppmpobox10183bhamb64xe': 1, 'chik': 1, 'muz': 8, '69911': 1, 'portion': 1, 'freak': 3, 'brat': 1, 'culture': 1, 'kidding': 1, 'snoring': 1, 'travel': 4, 'far': 13, 'ne': 2, 'finger': 6, 'spiffing': 1, 'callin': 3, 'shag': 1, 'sad': 18, 'gotbabes': 1, '4fil': 1, 'psxtra': 1, 'nokia6600': 2, '087016248': 1, 'tihs': 2, 'said': 65, 'admit': 1, '08712400200': 1, 'dontignore': 1, 'payed2day': 1, 'scary': 2, 'lavender': 1, '42049': 1, 'rough': 1, 'everything': 25, 'thecd': 1, 'qi': 1, '83049': 2, 'slightly': 2, 'emergency': 1, 'browse': 1, 'ipod': 11, 'impatient': 1, 'throw': 3, 'specially': 8, 'help08700621170150p': 1, '2stoptxt': 3, 'silently': 1, 'worst': 2, 'fusion': 1, 'fifty': 1, 'nuerologist': 1, 'weirdest': 2, 'kuch': 1, 'yelling': 2, 'control': 1, 'repent': 1, '3days': 1, 'arent': 2, 'orig': 2, '11': 15, 'durban': 2, 'excited': 1, '09066368327': 1, '12mths': 1, 'broken': 2, 'stopbcm': 1, 'dear': 91, 'bedbut': 1, '18': 39, 'attractive': 1, '23f': 1, 'submitted': 1, '402': 1, 'constant': 2, '9th': 1, '0871277810810': 1, 'andros': 2, 'calculated': 1, 'something': 52, 'ikno': 1, 'direct': 10, 'appear': 1, '07946746291': 1, 'front': 2, 'stamp': 2, 'hockey': 2, 'foot': 3, 'everyso': 1, 'ups': 1, 'mustprovide': 1, '09063440451': 1, 'two': 31, 'yun': 3, '09065989182': 1, 'boost': 2, 'strike': 3, 'traveling': 1, 'crisis': 2, 'anot': 2, '6wu': 2, 'frontierville': 1, 'thing': 89, 'triumphed': 1, 'yeesh': 1, 'coco': 1, 'summon': 1, 'puzzeles': 1, 'get': 292, 'burger': 2, 'october': 1, 'atlast': 2, 'clubmoby': 1, 'smiley': 1, 'admirer': 8, 'avatar': 3, '300603': 2, 'vday': 2, 'laying': 1, 'bein': 3, 'nokias': 2, 'cnn': 2, 'edition': 1, 'nurse': 1, 'drunk': 3, 'opener': 1, 'supreme': 1, 'secure': 1, 'nanny': 1, 'algorithm': 1, 'canary': 2, 'fiting': 1, 'lifting': 1, 'remember': 26, 'chain': 3, 'nokia6650': 1, 'pc1323': 1, 'astrology': 1, 'copy': 9, 'oncall': 1, 'anthony': 2, 'nbme': 1, 'jazz': 2, 'kid': 7, 'physic': 1, 'smear': 1, 'orchard': 7, 'cost£3': 1, 'ip': 1, 'tamilnadu': 1, 'sankranti': 1, 'adress': 1, 'sometime': 3, 'instruction': 2, '08712402972': 1, 'consent': 1, 'oredi': 14, 'driving': 13, 'tui': 1, 'beneath': 1, 'urgnt': 4, 'bringing': 4, 'dollar': 6, 'grr': 1, 'calculation': 1, 'sweetheart': 2, 'restrict': 1, 'konw': 2, '08718720201': 5, 'avo': 1, '08000930705': 14, 'fortune': 1, 'atural': 1, 'service': 59, 'self': 7, 'privacy': 1, '08707808226': 1, 'secretly': 1, 'immed': 1, '0578': 2, '87070': 1, 'daaaaa': 1, 'l8r': 5, 'stolen': 1, 'july': 3, 'shop': 18, 'iff': 1, 'hunt': 1, 'keen': 1, 'chillaxin': 1, 'type': 15, 'movie': 21, 'reminder': 3, 'watched': 1, 'declare': 1, 'mango': 1, '3100': 1, 'sending': 8, 'website': 6, 'abdomen': 1, 'performance': 1, 'kill': 3, 'tgxxrz': 1, 'campus': 5, 'nyt': 11, 'floor': 3, '84': 1, 'flip': 2, 'grateful': 1, 'gving': 2, 'waited': 2, 'withdraw': 1, 'feellikw': 1, 'wuld': 1, 'barely': 4, 'reserve': 2, 'footbl': 1, 'ip4': 5, 'cared': 2, 'fixedline': 1, 'redeemable': 1, 'charged': 8, 'taj': 1, 'cld': 2, 'y87': 1, '09063458130': 2, 'outage': 2, 'rude': 4, 'con': 1, 'morefrmmob': 1, 'reunion': 1, 'online': 19, 'stink': 1, 'parco': 2, 'upset': 3, 'search': 10, 'adventure': 2, '008704050406': 2, 'sorting': 3, 'plane': 2, 'urn': 2, 'box97n7qp': 3, 'muchxxlove': 1, 'gained': 1, 'minuts': 4, '150ppm': 27, 'haiz': 2, 'goody': 1, 'chgs': 1, 'poem': 2, 'flirting': 1, 'fantasy': 8, 'dream': 20, 'squeezed': 1, '2morrow': 3, 'flood': 1, 'bold2': 1, 'description': 1, 'ill': 34, 'extract': 1, 'silly': 1, 'bonus': 14, 'fucking': 11, '10': 24, 'down': 1, 'msg': 104, 'nxt': 5, 'studyn': 1, 'ugadi': 1, 'capacity': 1, '3qxj9': 3, 'innu': 1, 'b4190604': 2, 'age23': 2, 'empty': 2, 'khelate': 1, 'teeth': 3, 'sportsx': 1, 'champlaxigating': 1, 'activ8': 1, 'andrew': 1, 'tke': 1, 'calld': 2, 'motherfucker': 1, '08000839402': 10, '700': 2, 'teletext': 1, 'piah': 1, 'animation': 2, 'formally': 1, 'feb': 5, 'gibbs': 1, 'aburo': 1, 'videophones': 4, 'goldviking': 1, '07099833605': 1, 'shore': 1, 'plyr': 1, 'several': 2, 'sura': 3, 'cashed': 1, 'se': 1, 'died': 5, 'ammo': 1, 'scallies': 1, 'infact': 1, 'hardly': 2, 'appreciated': 2, 'bitching': 1, '02': 6, 'reckon': 2, 'home': 141, 'tones2you': 2, 'mt': 3, 'id': 18, 'compare': 1, 'replace': 1, 'prasanth': 1, 'paris': 3, 'expiry': 1, 'recorded': 1, 'careful': 3, 'nav': 1, 'module': 3, 'inform': 3, 'atrocious': 1, 'coin': 4, 'imat': 1, 'rcvd': 6, 'area': 9, 'sleepy': 2, 'brain': 3, '30apr': 1, 'urawinner': 4, 'gdeve': 1, '87121': 3, 'fuuuuck': 1, 'face': 19, 'printer': 1, '4t': 3, 'noe': 15, 'mess': 2, 'jamz': 1, 'itcould': 2, 'splleing': 2, 'worry': 27, '1956669': 3, 'woman': 7, 'bfore': 1, 'hugging': 1, 'julianaland': 1, 'fuelled': 1, 'apple': 1, 'apart': 2, 'morn': 3, 'intention': 1, 'owns': 2, 'lunch': 33, 'lounge': 3, 'landlineonly': 1, 'uniform': 1, 'av': 2, '3': 72, 'victor': 1, 'lonely': 4, 'named': 2, 'foned': 1, '15541': 1, 'facebook': 6, 'oli': 1, 'notification': 1, 'enna': 1, 'movietrivia': 2, 'athome': 1, 'noon': 11, '07781482378': 1, 'gf': 2, 'juicy': 2, 'checked': 5, 'cheer': 10, 'spouse': 1, 'decided': 15, '7548': 1, 'contains': 1, '07xxxxxxxxx': 3, 'watch': 28, 'macha': 1, 'semiobscure': 1, 'punj': 1, 'path': 1, 'drive': 13, 'taken': 4, 'dan': 2, 'happend': 3, 'lovejen': 2, 'ny': 2, '07046744435': 1, 'spam': 1, 'sick': 9, 'zogtorius': 1, 'violet': 1, 'bcmsfwc1n3xx': 1, 'juliana': 1, 'lag': 2, 'of£2000': 2, 'thirtyeight': 1, 'cupboard': 1, 'gyno': 1, 'superb': 2, 'identification': 1, 'erm': 2, 'icon': 1, 'shower': 11, 'premier': 1, 'filth': 1, 'sd': 2, 'early': 27, 'croydon': 4, 'transfred': 1, 'simply': 4, 'symbol': 2, '3wks': 1, '09061701461': 1, 'balloon': 1, 'age': 14, '0871': 2, 'premarica': 1, 'carlin': 1, 'eta': 2, 'flatter': 1, 'ben': 3, 'murdered': 5, 'naseeb': 1, 'synced': 1, 'temple': 3, 'haunt': 1, 'm227xy': 1, 'stage': 1, 'rally': 2, 'bx': 1, 'sliding': 1, 'prepayment': 2, 'africa': 1, 'opted': 1, 'desk': 1, 'receivea': 1, 'w1jhl': 1, 'dileep': 1, 'coz': 21, 'gt': 202, 'accommodationvouchers': 1, 'squatting': 1, '09064017295': 1, 'that\\x92scool': 1, 'half8th': 1, 'walking': 5, 'deepest': 1, 'zebra': 1, 'buffy': 1, '09066380611': 2, 'hoped': 2, '69876': 1, 'mary': 1, 'pokkiri': 1, 'ffffffffff': 1, 'lily': 1, 'looked': 5, 'feng': 1, 'wondarfull': 1, 'syria': 1, 'uploaded': 1, 'brief': 1, 'lk': 2, '09099726481': 1, 'cdgt': 1, 'servs': 1, 'snake': 2, 'plus': 17, 'rip': 1, 'killing': 2, 'youuuuu': 1, 'icicibank': 2, '08718727870150ppm': 1, 'horny': 5, 'thanksgiving': 3, 'extreme': 1, 'operate': 1, 'ubandu': 1, 'newquay': 1, 'tsandcs': 1, 'talking': 9, 'confuses': 2, 'bulb': 1, 'intha': 1, 'lara': 1, 'ashley': 2, 'liking': 1, '£1million': 1, 'prior': 1, 'treble': 1, 'lane': 1, 'camera': 27, 'hospital': 8, 'conduct': 1, 'wiv': 6, '1327': 4, 'happiness': 10, 'professional': 1, 'hitter': 1, 'grace': 1, '08448714184': 1, '2ez': 1, 'hopeful': 1, 'sptv': 1, '3xx': 1, 'blogspot': 1, 'three': 4, 'ironing': 1, 'neighbor': 2, 'mind': 31, 'celeb': 2, 'bar': 2, '07090201529': 1, 'hey': 94, 'enufcredeit': 1, 'bhayandar': 1, 'dry': 4, 'draw': 40, 'subtoitles': 1, '0121': 1, '£450': 1, 'remixed': 1, 'pocay': 1, 'trained': 1, 'money': 48, 'toughest': 1, '09065171142': 1, 'sleep': 47, 'prizeawaiting': 1, 'must': 25, 'hw': 7, 'wisheds': 1, 'kalainar': 1, 'hardcore': 3, 'wahleykkum': 1, 'doc': 5, 'txtstar': 1, 'lyf': 1, '09058094455': 1, 'brisk': 1, 'passionate': 4, 'replacing': 1, 'nosh': 1, 'catching': 2, 'thread': 2, 'main': 1, 'wave': 1, '60p': 5, 'whose': 2, 'christ': 1, 'appeal': 1, 'mu': 13, 'thanku': 1, 'callcost': 2, 'buzz': 5, 'ramaduth': 1, 'king': 6, 'sarasota': 2, 'continent': 1, 'aunty': 2, 'nimbomsons': 1, 'rael': 2, 'aeronautics': 2, 'valid12hrs': 3, 'meatball': 1, 'ure': 4, 'ovulation': 2, '£750': 1, 'strange': 1, '5free': 2, 'shoot': 2, 'kisi': 1, 'toppoly': 1, '08712402902': 1, 'director': 1, '89105': 1, 'eating': 6, 'poor': 6, 'doggy': 1, 'ah': 29, 'choose': 13, 'invited': 11, 'gram': 3, 'needy': 1, 'gotany': 1, 'prof': 1, 'oni': 2, 'morning': 66, '09061790126': 1, 'rajnikant': 1, 'b\\x92day': 2, 'hello': 38, 'chickened': 1, 'othrs': 1, 'japanese': 2, 'getstop': 1, 'halla': 1, 'intrude': 1, 'delivery': 18, 'company': 16, 'missing': 16, 'ow': 1, 'shortbreaks': 1, 'easter': 1, 'boatin': 1, 'neft': 2, 'speak': 29, '08717898035': 3, 'lf56': 2, 'uncut': 1, 'interview': 4, 'present': 3, 'action': 4, 'reply': 110, 'enough': 24, '£1000call': 1, 'follow': 1, 'bday': 3, 'junna': 1, 'priya': 1, '09066358361': 1, 'lux': 2, 'negative': 1, '2stop': 2, 'recent': 2, 'sudn': 1, 'lovable': 10, '09066364589': 1, 'jess': 3, 'fret': 2, 'hmv1': 1, 'areyouunique': 1, 'shoving': 1, 'apology': 1, 'volcano': 1, 'cloth': 1, 'immunisation': 1, 'wrecked': 1, 'maturity': 1, 'gr8': 13, 'cutefrnd': 3, 'finally': 11, 'ti': 5, 'wrote': 2, 'vl': 7, 'leftover': 1, 'anniversary': 2, 'mag': 2, 'diddy': 1, 'best1': 3, 'rupaul': 1, 'forgt': 1, 'max6': 1, 'ba': 1, 'bay': 4, 'soryda': 3, 'representative': 7, 'lobby': 1, 'afghanistan': 1, 'recharged': 1, 'others': 7, 'speed': 2, '50perwksub': 2, '526': 1, 'smsservices': 1, 'internal': 1, 'perform': 1, 'executive': 3, 'roger': 3, 'w111wx': 3, 'ur': 236, 'winnersclub': 1, 'cnl': 1, 'tone': 40, 'ls15hb': 1, 'cancer': 6, 'eat': 28, 'field': 2, 'wo': 1, '£50award': 1, 'could': 43, '61200': 2, 'duchess': 2, '£1': 33, 'rumbling': 1, 'papa': 1, 'portal': 1, 'regretted': 1, 'rubber': 1, 'digit': 1, 'nick': 1, 'nt': 13, '9280114': 1, 'india': 10, 'thus': 1, 'quite': 25, 'gnt': 2, 'overemphasise': 1, 'lttrs': 2, 'friday': 12, 'sec': 6, 'dwn': 1, 'miwa': 1, 'box': 23, 'styling': 1, 'bedrm': 1, '3lp': 3, 'loses': 1, 'thursday': 4, 'sense': 3, 'sutra': 1, 'apartment': 8, 'coat': 1, 'jaklin': 1, '08701213186': 1, 'yes': 85, 'craziest': 2, 'gobi': 1, 'teresa': 1, 'embarassing': 1, 'max£7': 3, 'cutest': 1, '146tf150p': 1, 'bye': 4, 'friendsare': 1, 'particularly': 1, 'celebration': 1, 'ate': 3, 'velusamy': 1, 'final': 14, 'felt': 13, 'emc1': 1, 'prometazine': 1, 'hows': 14, 'yunny': 1, 'usc': 3, 'fated': 1, '85069': 1, 'shoe': 1, 'amanda': 1, 'kvb': 1, '88600': 3, 'xmas': 19, '80062': 4, 'kingdom': 1, 'unintentionally': 1, '97n7qp': 1, 'dobby': 2, 'batsman': 1, 'corect': 1, 'force': 2, 'sweet': 26, 'financial': 1, 'jaykwon': 1, 'nap': 3, 'personality': 3, 'watchng': 1, 'bruv': 2, 'greatest': 1, 'approx': 1, 'jerry': 1, 'dict': 1, 'jumper': 1, 'enter': 10, 'jam': 1, 'booked': 8, '3rd': 3, 'brings': 5, 'british': 1, 'cougar': 1, 'tongued': 1, 'txtno': 2, 'allowed': 1, 'wipe': 1, 'torch': 4, 'completed': 2, 'load': 11, 'story': 18, 'oreo': 2, '62735': 1, 'police': 4, 'box245c2150pm': 1, 'monkeyaround': 1, 'juswoke': 1, 'needed': 3, 'selling': 3, 'laxinorficated': 1, '24hrs': 2, 'time': 190, '9am': 4, 'tackle': 1, 'call09050000327': 2, 'mega': 2, 'ba128nnfwfly150ppm': 1, 'rcb': 1, 'funeral': 2, 'upcharge': 1, 'rummer': 1, 'uncle': 15, '3510i': 5, 'announced': 1, 'havbeen': 1, 'chechi': 1, 'flavour': 1, 'minapn': 1, '09099726553': 1, 'usf': 11, 'bad': 27, 'tick': 1, '28': 6, 'ko': 1, 'speechless': 3, 'maintain': 3, 'panty': 1, 'boyf': 1, 'stopcost': 1, 'nichols': 2, 'oble': 1, 'youphone': 1, 'princess': 25, 'gandhipuram': 1, 'antibiotic': 1, 'swt': 6, 'disconnect': 2, '545': 1, 'bak': 7, '48922': 1, '32000': 1, 'archive': 1, 'figure': 10, 'neighbour': 2, 'bbdeluxe': 1, 'inperialmusic': 1, 'configure': 1, 'thinkthis': 1, '25': 7, 'charge': 18, 'accounting': 1, 'letter': 6, '£350': 6, 'messaged': 2, 'aaniye': 1, 'kilo': 1, 'gari': 1, 'tariff': 4, 'cricket': 1, '310303': 1, 'room': 28, 'basic': 4, 'customer': 47, 'no1': 7, 'ear': 1, 'along': 3, '69888': 1, '08718726270': 2, 'iz': 4, 'intend': 1, 'bullshit': 1, 'spoon': 2, 'itz': 2, 'cu': 1, 'liver': 1, 'difference': 1, 'thy': 2, 'case': 11, 'christmas': 10, 'selection': 3, 'preschoolco': 1, 'college': 12, 'eh': 10, 'eerie': 4, '09061743386': 2, 'duo': 1, 'btwn': 1, 'dint': 4, 'lov': 1, '08718738002': 1, 'affidavit': 1, 'within': 11, 'spoiled': 2, 'tank': 2, 'okie': 15, '3000': 1, 'childporn': 1, '6zf': 1, 'unspoken': 1, 'ondu': 1, '£79': 1, 'sry': 3, 'research': 2, 'paul': 1, 'citizen': 1, 'tix': 1, 'guess': 27, '4217': 1, 'maat': 1, 'orh': 1, 'shesil': 2, 'laptop': 10, 'significant': 1, 'stopcs': 1, 'comin': 11, 'usb': 1, 'decent': 1, 'ppm150': 1, 'arul': 1, 'asjesus': 1, 'married': 7, 'listening2the': 1, 'pan': 1, 'owo': 1, 'persevered': 1, 'resent': 1, 'boo': 6, '87021': 2, 'workand': 1, 'dat': 32, 'yeovil': 1, 'pleasant': 1, 'turned': 1, 'quarter': 1, 'nìte': 1, 'academic': 1, 'bruce': 2, 'yest': 1, 'linerental': 3, 'sends': 2, 'cost': 28, 'ibuprofen': 1, '22': 2, 'describe': 1, '08719899229': 1, 'anjie': 1, 'nutter': 1, '08712317606': 2, 'desire': 2, 'rock': 10, 'spinout': 1, 'tirunelvai': 1, 'mall': 1, 'stuffing': 1, 'loosing': 1, 'neck': 2, 'toss': 1, 'noline': 4, 'tiz': 1, 'retrieve': 1, 'glory': 1, 'yaxxx': 1, 'lrg': 1, 'outrageous': 1, 'korean': 1, 'callfreefone': 2, 'looovvve': 1, 'k52': 3, 'yummy': 3, 'xxxxxxx': 1, 'ceri': 1, 'freaked': 1, 'nosy': 1, 'molested': 1, '50p': 7, 'center': 2, 'clue': 1, '21st': 2, 'surrounded': 1, 'ummmmmaah': 2, 'fancy': 14, 'courtroom': 1, 'music': 18, 'airtel': 1, 'sterm': 1, 'able': 21, 'eckankar': 1, 'slice': 1, 'locaxx': 1, '8': 25, 'csc': 1, '087187272008': 1, 'bag': 8, 'attending': 1, 'language': 2, 'required': 1, 'undrstnd': 1, 'mnth': 2, 'txtstop': 1, '09066350750': 2, 'apparently': 4, 'uworld': 1, 'spare': 3, 'thm': 3, '09065069154': 1, 'trash': 1, 'bognor': 1, 'regret': 4, 'failing': 1, 'stu': 1, 'route': 1, 'linear': 1, 'answr': 1, 'swoop': 1, 'rather': 6, 'heavily': 1, 'information': 10, 'askin': 5, 'strewn': 1, 'cherthala': 1, '300': 4, 'dirt': 1, 'dehydration': 1, '–': 3, 'raed': 2, 'lately': 2, 'sherawat': 1, 'visit': 12, 'wishing': 8, 'top': 20, 'send': 157, 'confirmed': 2, 'conversation': 1, 'kaypoh': 1, 'univ': 1, 'phrase': 1, 'waiting': 49, 'taxt': 1, 'prone': 1, 'met': 11, 'lazy': 9, 'brownie': 1, 'trying': 36, 'dificult': 3, 'sall': 1, 'chrgd': 1, 'sponsor': 1, 'fowler': 1, 'dontplease': 1, 'situation': 5, 'machan': 3, 'lo': 2, 'auto': 3, 'fuckinnice': 1, '8552': 2, 'cumin': 1, 'autocorrect': 1, '0870753331018': 1, 'yeh': 3, 'degree': 2, 'november': 1, 'beggar': 1, 'frnt': 1, '69101': 1, 'mtmsg': 1, 'rang': 3, 'aiyo': 5, 'hesitate': 1, 'ofice': 1, '80155': 1, 'lotta': 2, 'srsly': 1, 'wither': 1, '140ppm': 1, 'weighed': 1, 'testing': 2, 'suit': 1, 'wildlife': 1, 'bottom': 3, 'mathematics': 2, 'lion': 3, 'kane': 1, 'reason': 14, 'trouser': 1, 'wright': 1, 'yahoo': 8, 'function': 2, 'hug': 4, 'tallahassee': 1, 'outgoing': 1, 'mths': 5, 'pray': 8, 'hotmix': 1, 'pavanaputra': 1, 'dick': 3, 'hurry': 5, 'starve': 1, 'havnt': 3, 'god': 35, 'twelve': 3, 'audiitions': 1, 'bridge': 1, 'convenience': 1, 'join': 18, 'white': 4, 'pansy': 1, 'jurong': 1, 'meaningless': 1, 'family': 18, 'heard': 8, 'm': 1, 'ithink': 1, 'map': 4, 'lar': 36, 'wld': 2, 'chloe': 1, 'grand': 4, '03': 10, 'panicks': 1, 'century': 1, 'giv': 3, 'imposed': 1, 'inshah': 1, 'hut': 1, 'returned': 3, 'dude': 19, '20p': 6, 'c': 130, 'onbus': 1, 'merry': 9, 'definitely': 5, 'dt': 2, 'lose': 10, '7876150ppm': 2, 'spent': 7, 'punto': 1, 'nasty': 2, '80160': 1, 'bought': 5, 'inconsiderate': 2, 'closed': 5, 'marley': 1, 'cn': 3, 'deus': 2, 'dot': 2, 'hat': 1, 'hav': 20, 'knew': 9, 'ripped': 1, 'abi': 2, 'xuhui': 3, 'natwest': 1, 'push': 3, 'sexual': 1, 'install': 1, 'mtmsg18': 3, 'monday': 11, 'tarpon': 1, 'urmom': 1, 'boytoy': 15, 'alert': 3, 'keypad': 1, 'perfume': 1, 'team': 6, '2000': 1, 't4get2text': 1, 'crash': 1, 'tigress': 1, 'ijust': 1, 'eruku': 1, 'la': 6, 'callback': 3, 'eighth': 1, 'txtauction': 5, 'nammanna': 1, '40533': 1, 'replied': 6, 'calling': 19, '\\x91rents': 1, 'texting': 6, 'sorta': 1, 'genuine': 1, 'cumming': 1, 'hamper': 1, 'womdarfull': 1, 'cnupdates': 1, 'makiing': 1, 'tmr': 24, 'dena': 1, 'premium': 2, 'attraction': 1, 'vomitin': 1, 'converted': 1, 'pix': 8, '8pm': 1, 'luvs': 2, 'poop': 2, 'excellent': 8, 'sochte': 1, 'evr': 2, 'created': 4, 'objection': 1, '08712101358': 2, 'contract': 5, 'pure': 1, 'datz': 2, 'thts': 4, 'eveb': 2, '08701417012150p': 2, '08718738034': 1, '630': 2, 'ym': 5, '6months': 3, 'compensation': 1, 'bed': 21, 'collected': 2, 'generally': 2, 'windy': 1, 'kodthini': 1, 'vivek': 1, 'theme': 1, 'dont': 116, 'upgrdcentre': 1, 'monkeespeople': 1, '2nite': 8, 'wish': 48, 'armand': 4, '07801543489': 1, 'daytime': 1, 'cr9': 4, 'termsapply': 1, 'usually': 6, 'wkly': 12, 'happens': 7, 'tayseer': 2, 'guarantee': 1, 'burrito': 1, 'stop': 116, 'library': 8, 'nothing': 27, 'cancelled': 2, 'environment': 2, 'telling': 8, 'watevr': 1, '09061701851': 1, 'related': 1, '09065174042': 2, 'thanx': 25, 'garage': 3, 'ganesh': 1, 'hunk': 1, 'closeby': 1, 'showroom': 1, 'naal': 1, '0430': 1, 'lousy': 2, '83021': 1, 'submitting': 1, 'way2sms': 1, '087123002209am': 1, 'veggie': 1, 'jeetey': 1, 'vodafone': 5, 'sweetest': 3, 'a30': 1, 'praps': 1, 'edrunk': 1, 'whatsup': 1, 'standing': 2, 'happen': 16, 'better': 33, 'havebeen': 1, '087147123779am': 1, 'leave': 46, 'madam': 2, 'irritates': 1, 'athletic': 1, 'predicting': 1, 'thesmszone': 1, 'english': 4, 'favour': 4, 'bored': 15, 'rebel': 1, 'amrita': 1, 'masked': 1, 'expect': 3, 'dha': 1, 'wear': 4, 'complimentary': 8, 'org': 1, 'parking': 3, 'reltnship': 1, 'nigpun': 1, 'drama': 1, 'n': 98, 'loan': 9, 'fit': 2, 'hussey': 1, 'chip': 1, 'lipo': 1, 'purchase': 3, 'bold': 6, 'g696ga': 1, 'he\\x92s': 1, 'golden': 1, 'price': 19, 'onlyfound': 1, 'fact': 9, '3pound': 1, 'voted': 1, 'everyone': 13, 'gon': 45, 'hole': 1, 'webpage': 1, 'pizza': 6, 'sausage': 1, 'promo': 2, 'delete': 1, 'getting': 40, 'notice': 7, 'scotland': 1, 'eye': 10, 'quoting': 3, 'outside': 10, 'heavy': 5, 'cbe': 3, 'now1': 1, 'dogwood': 1, 'envy': 1, 'notxt': 1, 'cop': 1, 'helloooo': 2, 'etlp': 1, 'crazyin': 1, 'motorola': 9, 'mobilesdirect': 3, 'radio': 4, 'matrix3': 2, 'bought\\x94braindance\\x94a': 1, '2end': 2, 'doggin': 1, 'backwards': 1, 'minmobsmore': 1, 'arises': 1, 'instant': 1, 'analysis': 1, 'sigh': 6, 'taunton': 4, 'luvd': 1, 'xxxx': 4, 'tai': 1, 'smoking': 3, 'football': 4, 'cleaning': 4, 'govt': 3, '9yt': 1, 'comfort': 1, 'he': 2, 'point': 25, 'even': 50, 'hoping': 7, 'increment': 2, 'waheeda': 1, 'jiu': 4, 'doit': 1, 'rightly': 2, 'simulate': 1, 'okey': 3, 'eng': 3, 'avenge': 1, 'doubletxt': 1, 'valuing': 1, 'okors': 1, 'tomorw': 1, 'promise': 9, 'defeat': 1, 'obey': 1, 'ibh': 2, 'url': 4, 'info': 12, '1b6a5ecef91ff9': 1, 'told': 44, 'achan': 1, 'mouse': 1, 'chasing': 3, 'important': 22, 'mr': 10, 'offered': 1, 'complaint': 2, 'coping': 2, 'checking': 10, 'shattered': 1, 'set': 18, 'terminated': 1, 'percent': 1, 'earth': 5, 'erode': 1, 'soiree': 1, 'dontmatter': 1, 'sentence': 3, 'flame': 1, 'shadow': 1, 'pain': 23, 'problem': 35, 'win': 59, 'lotz': 1, 'shitinnit': 1, 'laid': 3, 'yet': 41, 'ecstasy': 1, 'shun': 1, 'corrct': 1, 'someone': 48, 'ishtamayoo': 1, 'clarification': 1, 'goin': 18, 'tt': 3, 'k': 91, 'phone750': 1, 'faggot': 1, 'basketball': 1, 'crush': 1, '32': 1, 'swashbuckling': 1, 'apply': 26, 'instituitions': 3, 'i\\x92d': 2, 'persolvo': 1, '1': 83, 'saibaba': 1, 'place': 49, '08709222922': 1, 'supply': 2, 'relaxing': 1, 'plm': 1, 'arab': 1, 'fighting': 5, 'east': 2, 'oveable': 1, 'bw': 1, 'blogging': 1, 'textbook': 1, 'limping': 1, 'animal': 1, 'finalise': 1, 'recharge': 1, 'around': 49, 'doinat': 1, 'aka': 2, 'becoz': 4, 'served': 1, 'blah': 1, '02073162414': 2, 'textin': 1, 'charming': 1, 'wesley': 2, 'photo': 10, 'breathing': 1, 'quickly': 3, 'republic': 1, 'sf': 1, 'timing': 4, 'falling': 1, 'feature': 1, 'l8er': 1, 'excused': 1, 'free2day': 1, 'lim': 1, 'updat': 1, 'vilikkam': 1, 'establish': 1, 'xxxxxx': 1, 'settle': 3, 'cd': 10, 'shipping': 2, 'boltblue': 1, '09061104276': 1, 'dead': 7, 'haven\\x92t': 2, 'panic': 1, 'dress': 2, 'q': 4, 'vth': 1, 'asian': 1, 'slacking': 1, '16': 36, '910': 1, '86688': 15, '09066660100': 1}\n"
          ]
        }
      ],
      "source": [
        "vectors_train,index_unique_words,doc_word_count,total_sentences=calc_tf_idf(text_train)"
      ]
    },
    {
      "cell_type": "markdown",
      "id": "4ec94e97",
      "metadata": {},
      "source": [
        "##### Calculating TF-IDF for Test data using Train Vector size"
      ]
    },
    {
      "cell_type": "code",
      "execution_count": 61,
      "id": "9o5i8UVi5yT_",
      "metadata": {
        "id": "9o5i8UVi5yT_"
      },
      "outputs": [],
      "source": [
        "#testing data\n",
        "def testing_tf_idf(data,index_unique_words,doc_word_count,total_sentences):\n",
        "  vectors=[]\n",
        "  i=0\n",
        "  for sentence in data:\n",
        "    unique_words=index_unique_words.keys()\n",
        "    vector=np.zeros((len(unique_words),))\n",
        "    for word in set(sentence):\n",
        "      if word not in unique_words:\n",
        "        continue\n",
        "      tf = term_freq(sentence,word)\n",
        "      idf = inverse_doc_freq(word,doc_word_count,total_sentences+1)\n",
        "      value = tf*idf\n",
        "      vector[index_unique_words[word]] = value\n",
        "    vectors.append(vector)\n",
        "    i+=1\n",
        "  return vectors\n",
        "vectors_test=testing_tf_idf(text_test,index_unique_words,doc_word_count,total_sentences)"
      ]
    },
    {
      "cell_type": "code",
      "execution_count": 51,
      "id": "f75e6cd2",
      "metadata": {
        "colab": {
          "base_uri": "https://localhost:8080/"
        },
        "id": "f75e6cd2",
        "outputId": "59e45c5d-8df2-43e9-e5f7-43ad6fba01e1"
      },
      "outputs": [
        {
          "name": "stdout",
          "output_type": "stream",
          "text": [
            "7280\n"
          ]
        }
      ],
      "source": [
        "#labels_train, labels_test, vectors_train, vectors_test = train_test_split(labels, vectors, test_size=0.05, random_state=42)\n",
        "print(len(index_unique_words))"
      ]
    },
    {
      "cell_type": "code",
      "execution_count": 52,
      "id": "11agGu-ry-DT",
      "metadata": {
        "colab": {
          "base_uri": "https://localhost:8080/"
        },
        "id": "11agGu-ry-DT",
        "outputId": "8a06bc25-c4d3-42f6-c826-8affa4b7577d"
      },
      "outputs": [
        {
          "name": "stdout",
          "output_type": "stream",
          "text": [
            "1113\n",
            "4452\n",
            "1113\n",
            "4452\n"
          ]
        }
      ],
      "source": [
        "print(len(labels_test))\n",
        "print(len(labels_train))\n",
        "print(len(vectors_test))\n",
        "print(len(vectors_train))"
      ]
    },
    {
      "cell_type": "markdown",
      "id": "ee6eb76b",
      "metadata": {
        "id": "ee6eb76b"
      },
      "source": [
        "### Train your KNN model (reuse previously iplemented model built from scratch) and test on your data"
      ]
    },
    {
      "cell_type": "markdown",
      "id": "22baf6b2",
      "metadata": {
        "id": "22baf6b2"
      },
      "source": [
        "***1. Experiment with different distance measures [Euclidean distance, Manhattan distance, Hamming Distance] and compare with the Cosine Similarity distance results.***"
      ]
    },
    {
      "cell_type": "code",
      "execution_count": 78,
      "id": "uSRRl2HRoXTP",
      "metadata": {
        "id": "uSRRl2HRoXTP"
      },
      "outputs": [],
      "source": [
        "#Calculating cosine similarity\n",
        "def cosine_distance(vector_a,vector_b):\n",
        "  dot_product=np.dot(vector_a, vector_b)\n",
        "  mag_a=math.sqrt(np.dot(vector_a, vector_a.T))\n",
        "  mag_b=math.sqrt(np.dot(vector_b,vector_b.T))\n",
        "  val=0\n",
        "  if mag_a != 0 and mag_b != 0:\n",
        "    val=dot_product/float(mag_a*mag_b)\n",
        "  return (1.0-(val))\n",
        "def euclidean_distance(vector_a,vector_b):\n",
        "  return np.linalg.norm(vector_a - vector_b)\n",
        "def manhattan_distance(a, b):\n",
        "    return np.abs(a - b).sum()\n",
        "def hamming_distance(vector_a,vector_b):\n",
        "  return hamming(vector_a,vector_b)*len(vector_a)\n",
        "def calc_distance(vector_a,vector_b,metric):\n",
        "  if metric == \"euclidean\":\n",
        "    return euclidean_distance(vector_a,vector_b)\n",
        "  elif metric == \"manhattan\":\n",
        "    return manhattan_distance(vector_a,vector_b)\n",
        "  elif metric == \"hamming\":\n",
        "    return hamming_distance(vector_a,vector_b)\n",
        "  else:\n",
        "    return cosine_distance(vector_a,vector_b)"
      ]
    },
    {
      "cell_type": "markdown",
      "id": "3c9b85f3",
      "metadata": {},
      "source": [
        "Assigns class based on majority"
      ]
    },
    {
      "cell_type": "code",
      "execution_count": 54,
      "id": "rxJjWRhavZW4",
      "metadata": {
        "id": "rxJjWRhavZW4"
      },
      "outputs": [],
      "source": [
        "def get_class(selected_values):\n",
        "    s,h = 0,0\n",
        "    for value in selected_values:\n",
        "        if value == \"spam\":\n",
        "            s += 1\n",
        "        else:\n",
        "            h += 1\n",
        "    if s > h:\n",
        "        return \"spam\"\n",
        "    else:\n",
        "        return \"ham\""
      ]
    },
    {
      "cell_type": "markdown",
      "id": "2f222f64",
      "metadata": {},
      "source": [
        "* f1_score calculates the f1 score\n",
        "* score_display prints confusionmatrix,precision,recall,f1_score"
      ]
    },
    {
      "cell_type": "code",
      "execution_count": 91,
      "id": "26521377",
      "metadata": {},
      "outputs": [],
      "source": [
        "def score_display(y_true,y_pred,labels):\n",
        "    print('Confusion matrix: ')\n",
        "    print(confusion_matrix(y_true, y_pred,labels=labels))\n",
        "    tn, fp, fn, tp = confusion_matrix(y_true, y_pred,labels=labels).ravel()\n",
        "    precision=tp/(tp+fp)\n",
        "    print('Precision: ',end='')\n",
        "    print(precision,end='')\n",
        "    recall=tp/(tp+fn)\n",
        "    print('\\tRecall: ',end='')\n",
        "    print(recall,end='')\n",
        "    f1_score=2*(precision*recall)/(precision+recall)\n",
        "    print('\\tF1 Score: ',end='')\n",
        "    print(f1_score,end='')\n",
        "    print('\\tAccuracy: ',end='')\n",
        "    print(accuracy_score(y_true,y_pred))\n",
        "def f1_score(y_true,y_pred,labels):\n",
        "    tn, fp, fn, tp = confusion_matrix(y_true, y_pred,labels=labels).ravel()\n",
        "    precision=tp/(tp+fp)\n",
        "    recall=tp/(tp+fn)\n",
        "    f1_score=2*(precision*recall)/(precision+recall)\n",
        "    return f1_score"
      ]
    },
    {
      "cell_type": "markdown",
      "id": "9e779f1b",
      "metadata": {},
      "source": [
        "Implementation of K-NN"
      ]
    },
    {
      "cell_type": "code",
      "execution_count": 56,
      "id": "3beNoZ0GFOSh",
      "metadata": {
        "id": "3beNoZ0GFOSh"
      },
      "outputs": [],
      "source": [
        "\n",
        "def k_nearest_neighbours(k,train_data,train_labels,test_data,metric=\"cosine\"):\n",
        "  test_labels=[]\n",
        "  for i in range(len(test_data)):\n",
        "    k_labels=[]\n",
        "    distances=[]\n",
        "    for j in range(len(train_data)):\n",
        "      distance=calc_distance(test_data[i],train_data[j],metric)\n",
        "      distances.append((distance,train_labels[j]))\n",
        "    top_k_labels=[]\n",
        "    distances.sort()\n",
        "    for j  in distances[:k]:\n",
        "      top_k_labels.append(j[1])\n",
        "    test_labels.append(get_class(top_k_labels))\n",
        "  test_labels=np.array(test_labels)\n",
        "  return test_labels\n",
        "#testing_labels=k_nearest_neighbours(5,vectors_train,labels_train,vectors_test)\n",
        "#f1_score(labels_test,testing_labels,['ham','spam'])"
      ]
    },
    {
      "cell_type": "markdown",
      "id": "f0f0e621",
      "metadata": {},
      "source": [
        "KNN for list of k values"
      ]
    },
    {
      "cell_type": "code",
      "execution_count": 89,
      "id": "b9e08883",
      "metadata": {},
      "outputs": [],
      "source": [
        "#using an array of k-values\n",
        "def k_nearest_neighbours_batch(k_values,train_data,train_labels,test_data,true_label,metric=\"cosine\",display=False):\n",
        "    xtrue_label=np.array(true_label)\n",
        "    all_distances=[]\n",
        "    for i in range(len(test_data)):\n",
        "        distances=[]\n",
        "        for j in range(len(train_data)):\n",
        "            distance=calc_distance(test_data[i],train_data[j],metric)\n",
        "            distances.append((distance,train_labels[j]))\n",
        "        distances.sort()\n",
        "        all_distances.append(distances)\n",
        "    f1_scores=[]\n",
        "    for k in k_values:\n",
        "        test_labels=[]\n",
        "        for i in range(len(test_data)):\n",
        "            top_k_labels=[]\n",
        "            for pair  in all_distances[i][:k]:\n",
        "                top_k_labels.append(pair[1])\n",
        "            test_labels.append(get_class(top_k_labels))\n",
        "        test_labels=np.array(test_labels)\n",
        "        score=f1_score(xtrue_label,test_labels,['ham','spam'])\n",
        "        if display:\n",
        "            print(f\"k = {k}\")\n",
        "            score_display(xtrue_label,test_labels,['ham','spam'])\n",
        "        f1_scores.append(score)\n",
        "    return f1_scores"
      ]
    },
    {
      "cell_type": "code",
      "execution_count": 58,
      "id": "1630ff2b",
      "metadata": {},
      "outputs": [],
      "source": [
        "k_values=[1,3,5,7,11,17,23,28]"
      ]
    },
    {
      "cell_type": "code",
      "execution_count": 69,
      "id": "63ea8f79",
      "metadata": {},
      "outputs": [
        {
          "data": {
            "image/png": "[encoded data removed]",
            "text/plain": [
              "<Figure size 432x288 with 1 Axes>"
            ]
          },
          "metadata": {
            "needs_background": "light"
          },
          "output_type": "display_data"
        }
      ],
      "source": [
        "f1_scores_cosine=k_nearest_neighbours_batch(k_values,vectors_train,labels_train,vectors_test,labels_test,metric=\"cosine\")\n",
        "plt.plot(k_values,f1_scores_cosine)\n",
        "plt.xlabel(\"k\")\n",
        "plt.ylabel(\"F1 score\")\n",
        "plt.title(\"KNN Cosine distance\")\n",
        "plt.show()"
      ]
    },
    {
      "cell_type": "code",
      "execution_count": 70,
      "id": "Z0TnckGnd1o5",
      "metadata": {
        "id": "Z0TnckGnd1o5"
      },
      "outputs": [
        {
          "data": {
            "image/png": "[encoded data removed]",
            "text/plain": [
              "<Figure size 432x288 with 1 Axes>"
            ]
          },
          "metadata": {
            "needs_background": "light"
          },
          "output_type": "display_data"
        }
      ],
      "source": [
        "f1_scores_euclidean=k_nearest_neighbours_batch(k_values,vectors_train,labels_train,vectors_test,labels_test,metric=\"euclidean\")\n",
        "plt.plot(k_values,f1_scores_euclidean)\n",
        "plt.xlabel(\"k\")\n",
        "plt.ylabel(\"F1 score\")\n",
        "plt.title(\"KNN Euclidean distance\")\n",
        "plt.show()"
      ]
    },
    {
      "cell_type": "code",
      "execution_count": 71,
      "id": "330f2689",
      "metadata": {},
      "outputs": [
        {
          "data": {
            "image/png": "[encoded data removed]",
            "text/plain": [
              "<Figure size 432x288 with 1 Axes>"
            ]
          },
          "metadata": {
            "needs_background": "light"
          },
          "output_type": "display_data"
        }
      ],
      "source": [
        "f1_scores_manhattan=k_nearest_neighbours_batch(k_values,vectors_train,labels_train,vectors_test,labels_test,metric=\"manhattan\")\n",
        "plt.plot(k_values,f1_scores_manhattan)\n",
        "plt.xlabel(\"k\")\n",
        "plt.ylabel(\"F1 score\")\n",
        "plt.title(\"KNN Manhattan distance\")\n",
        "plt.show()"
      ]
    },
    {
      "cell_type": "code",
      "execution_count": 79,
      "id": "6cbe2273",
      "metadata": {},
      "outputs": [
        {
          "name": "stderr",
          "output_type": "stream",
          "text": [
            "/tmp/ipykernel_14442/1166549201.py:18: RuntimeWarning: invalid value encountered in long_scalars\n",
            "  precision=tp/(tp+fp)\n",
            "/tmp/ipykernel_14442/1166549201.py:18: RuntimeWarning: invalid value encountered in long_scalars\n",
            "  precision=tp/(tp+fp)\n",
            "/tmp/ipykernel_14442/1166549201.py:18: RuntimeWarning: invalid value encountered in long_scalars\n",
            "  precision=tp/(tp+fp)\n",
            "/tmp/ipykernel_14442/1166549201.py:18: RuntimeWarning: invalid value encountered in long_scalars\n",
            "  precision=tp/(tp+fp)\n",
            "/tmp/ipykernel_14442/1166549201.py:18: RuntimeWarning: invalid value encountered in long_scalars\n",
            "  precision=tp/(tp+fp)\n"
          ]
        },
        {
          "data": {
            "image/png": "[encoded data removed]",
            "text/plain": [
              "<Figure size 432x288 with 1 Axes>"
            ]
          },
          "metadata": {
            "needs_background": "light"
          },
          "output_type": "display_data"
        }
      ],
      "source": [
        "f1_scores_hamming=k_nearest_neighbours_batch(k_values,vectors_train,labels_train,vectors_test,labels_test,metric=\"hamming\")\n",
        "plt.plot(k_values,f1_scores_hamming)\n",
        "plt.xlabel(\"k\")\n",
        "plt.ylabel(\"F1 score\")\n",
        "plt.title(\"KNN Hamming distance\")\n",
        "plt.show()"
      ]
    },
    {
      "cell_type": "markdown",
      "id": "bcf6f3b1",
      "metadata": {
        "id": "bcf6f3b1"
      },
      "source": [
        "***2. Explain which distance measure works best and why? Explore the distance measures and weigh their pro and cons in different application settings.***"
      ]
    },
    {
      "cell_type": "markdown",
      "id": "d5db7d0c",
      "metadata": {},
      "source": [
        "According to our experiment"
      ]
    },
    {
      "cell_type": "markdown",
      "id": "45a99c76",
      "metadata": {
        "id": "45a99c76"
      },
      "source": [
        "***3. For evaluating model, show confusion matrix, accuracy, recall, precision and F1-score. Answer why accuracy alone is not sufficient to evaluate the model. Why we need precision/recall/f1-score. ?***"
      ]
    },
    {
      "cell_type": "markdown",
      "id": "67cfe50b",
      "metadata": {},
      "source": [
        "Cosine Metric"
      ]
    },
    {
      "cell_type": "code",
      "execution_count": 90,
      "id": "f9e4b72b",
      "metadata": {},
      "outputs": [
        {
          "name": "stdout",
          "output_type": "stream",
          "text": [
            "k = 1\n",
            "Confusion matrix: \n",
            "[[948   3]\n",
            " [ 17 145]]\n",
            "Precision: 0.9797297297297297\tRecall: 0.8950617283950617\tF1 Score: 0.9354838709677419\tAccuracy: 0.9820305480682839\n",
            "---------------------------------------------------------------------------------\n",
            "k = 3\n",
            "Confusion matrix: \n",
            "[[949   2]\n",
            " [ 33 129]]\n",
            "Precision: 0.9847328244274809\tRecall: 0.7962962962962963\tF1 Score: 0.8805460750853241\tAccuracy: 0.9685534591194969\n",
            "---------------------------------------------------------------------------------\n",
            "k = 5\n",
            "Confusion matrix: \n",
            "[[949   2]\n",
            " [ 42 120]]\n",
            "Precision: 0.9836065573770492\tRecall: 0.7407407407407407\tF1 Score: 0.8450704225352113\tAccuracy: 0.9604672057502246\n",
            "---------------------------------------------------------------------------------\n",
            "k = 7\n",
            "Confusion matrix: \n",
            "[[948   3]\n",
            " [ 41 121]]\n",
            "Precision: 0.9758064516129032\tRecall: 0.7469135802469136\tF1 Score: 0.8461538461538461\tAccuracy: 0.9604672057502246\n",
            "---------------------------------------------------------------------------------\n",
            "k = 11\n",
            "Confusion matrix: \n",
            "[[949   2]\n",
            " [ 44 118]]\n",
            "Precision: 0.9833333333333333\tRecall: 0.7283950617283951\tF1 Score: 0.8368794326241135\tAccuracy: 0.958670260557053\n",
            "---------------------------------------------------------------------------------\n",
            "k = 17\n",
            "Confusion matrix: \n",
            "[[948   3]\n",
            " [ 44 118]]\n",
            "Precision: 0.9752066115702479\tRecall: 0.7283950617283951\tF1 Score: 0.8339222614840989\tAccuracy: 0.9577717879604672\n",
            "---------------------------------------------------------------------------------\n",
            "k = 23\n",
            "Confusion matrix: \n",
            "[[950   1]\n",
            " [ 51 111]]\n",
            "Precision: 0.9910714285714286\tRecall: 0.6851851851851852\tF1 Score: 0.8102189781021897\tAccuracy: 0.9532794249775381\n",
            "---------------------------------------------------------------------------------\n",
            "k = 28\n",
            "Confusion matrix: \n",
            "[[950   1]\n",
            " [ 58 104]]\n",
            "Precision: 0.9904761904761905\tRecall: 0.6419753086419753\tF1 Score: 0.7790262172284643\tAccuracy: 0.9469901168014375\n",
            "---------------------------------------------------------------------------------\n"
          ]
        },
        {
          "data": {
            "text/plain": [
              "[0.9354838709677419,\n",
              " 0.8805460750853241,\n",
              " 0.8450704225352113,\n",
              " 0.8461538461538461,\n",
              " 0.8368794326241135,\n",
              " 0.8339222614840989,\n",
              " 0.8102189781021897,\n",
              " 0.7790262172284643]"
            ]
          },
          "execution_count": 90,
          "metadata": {},
          "output_type": "execute_result"
        }
      ],
      "source": [
        "k_nearest_neighbours_batch(k_values,vectors_train,labels_train,vectors_test,labels_test,metric=\"cosine\",display=True)"
      ]
    },
    {
      "cell_type": "markdown",
      "id": "dd383ccd",
      "metadata": {},
      "source": [
        "Euclidean Metric"
      ]
    },
    {
      "cell_type": "code",
      "execution_count": 92,
      "id": "3d769eb6",
      "metadata": {},
      "outputs": [
        {
          "name": "stdout",
          "output_type": "stream",
          "text": [
            "k = 1\n",
            "Confusion matrix: \n",
            "[[933  18]\n",
            " [ 36 126]]\n",
            "Precision: 0.875\tRecall: 0.7777777777777778\tF1 Score: 0.823529411764706\tAccuracy: 0.9514824797843666\n",
            "k = 3\n",
            "Confusion matrix: \n",
            "[[938  13]\n",
            " [ 67  95]]\n",
            "Precision: 0.8796296296296297\tRecall: 0.5864197530864198\tF1 Score: 0.7037037037037037\tAccuracy: 0.9281221922731356\n",
            "k = 5\n",
            "Confusion matrix: \n",
            "[[940  11]\n",
            " [ 75  87]]\n",
            "Precision: 0.8877551020408163\tRecall: 0.5370370370370371\tF1 Score: 0.6692307692307694\tAccuracy: 0.9227313566936208\n",
            "k = 7\n",
            "Confusion matrix: \n",
            "[[943   8]\n",
            " [ 86  76]]\n",
            "Precision: 0.9047619047619048\tRecall: 0.4691358024691358\tF1 Score: 0.6178861788617886\tAccuracy: 0.9155435759209344\n",
            "k = 11\n",
            "Confusion matrix: \n",
            "[[943   8]\n",
            " [ 97  65]]\n",
            "Precision: 0.8904109589041096\tRecall: 0.4012345679012346\tF1 Score: 0.5531914893617021\tAccuracy: 0.9056603773584906\n",
            "k = 17\n",
            "Confusion matrix: \n",
            "[[944   7]\n",
            " [111  51]]\n",
            "Precision: 0.8793103448275862\tRecall: 0.3148148148148148\tF1 Score: 0.4636363636363637\tAccuracy: 0.8939802336028752\n",
            "k = 23\n",
            "Confusion matrix: \n",
            "[[946   5]\n",
            " [124  38]]\n",
            "Precision: 0.8837209302325582\tRecall: 0.2345679012345679\tF1 Score: 0.37073170731707317\tAccuracy: 0.8840970350404312\n",
            "k = 28\n",
            "Confusion matrix: \n",
            "[[945   6]\n",
            " [138  24]]\n",
            "Precision: 0.8\tRecall: 0.14814814814814814\tF1 Score: 0.25\tAccuracy: 0.8706199460916442\n"
          ]
        },
        {
          "data": {
            "text/plain": [
              "[0.823529411764706,\n",
              " 0.7037037037037037,\n",
              " 0.6692307692307694,\n",
              " 0.6178861788617886,\n",
              " 0.5531914893617021,\n",
              " 0.4636363636363637,\n",
              " 0.37073170731707317,\n",
              " 0.25]"
            ]
          },
          "execution_count": 92,
          "metadata": {},
          "output_type": "execute_result"
        }
      ],
      "source": [
        "k_nearest_neighbours_batch(k_values,vectors_train,labels_train,vectors_test,labels_test,metric=\"euclidean\",display=True)"
      ]
    },
    {
      "cell_type": "markdown",
      "id": "2c2fb7b0",
      "metadata": {},
      "source": [
        "Manhattan Metric"
      ]
    },
    {
      "cell_type": "code",
      "execution_count": 93,
      "id": "04c5d648",
      "metadata": {},
      "outputs": [
        {
          "name": "stdout",
          "output_type": "stream",
          "text": [
            "k = 1\n",
            "Confusion matrix: \n",
            "[[933  18]\n",
            " [ 36 126]]\n",
            "Precision: 0.875\tRecall: 0.7777777777777778\tF1 Score: 0.823529411764706\tAccuracy: 0.9514824797843666\n",
            "k = 3\n",
            "Confusion matrix: \n",
            "[[938  13]\n",
            " [ 67  95]]\n",
            "Precision: 0.8796296296296297\tRecall: 0.5864197530864198\tF1 Score: 0.7037037037037037\tAccuracy: 0.9281221922731356\n",
            "k = 5\n",
            "Confusion matrix: \n",
            "[[940  11]\n",
            " [ 75  87]]\n",
            "Precision: 0.8877551020408163\tRecall: 0.5370370370370371\tF1 Score: 0.6692307692307694\tAccuracy: 0.9227313566936208\n",
            "k = 7\n",
            "Confusion matrix: \n",
            "[[943   8]\n",
            " [ 86  76]]\n",
            "Precision: 0.9047619047619048\tRecall: 0.4691358024691358\tF1 Score: 0.6178861788617886\tAccuracy: 0.9155435759209344\n",
            "k = 11\n",
            "Confusion matrix: \n",
            "[[943   8]\n",
            " [ 97  65]]\n",
            "Precision: 0.8904109589041096\tRecall: 0.4012345679012346\tF1 Score: 0.5531914893617021\tAccuracy: 0.9056603773584906\n",
            "k = 17\n",
            "Confusion matrix: \n",
            "[[944   7]\n",
            " [111  51]]\n",
            "Precision: 0.8793103448275862\tRecall: 0.3148148148148148\tF1 Score: 0.4636363636363637\tAccuracy: 0.8939802336028752\n",
            "k = 23\n",
            "Confusion matrix: \n",
            "[[946   5]\n",
            " [124  38]]\n",
            "Precision: 0.8837209302325582\tRecall: 0.2345679012345679\tF1 Score: 0.37073170731707317\tAccuracy: 0.8840970350404312\n",
            "k = 28\n",
            "Confusion matrix: \n",
            "[[945   6]\n",
            " [138  24]]\n",
            "Precision: 0.8\tRecall: 0.14814814814814814\tF1 Score: 0.25\tAccuracy: 0.8706199460916442\n"
          ]
        },
        {
          "data": {
            "text/plain": [
              "[0.823529411764706,\n",
              " 0.7037037037037037,\n",
              " 0.6692307692307694,\n",
              " 0.6178861788617886,\n",
              " 0.5531914893617021,\n",
              " 0.4636363636363637,\n",
              " 0.37073170731707317,\n",
              " 0.25]"
            ]
          },
          "execution_count": 93,
          "metadata": {},
          "output_type": "execute_result"
        }
      ],
      "source": [
        "k_nearest_neighbours_batch(k_values,vectors_train,labels_train,vectors_test,labels_test,metric=\"euclidean\",display=True)"
      ]
    },
    {
      "cell_type": "markdown",
      "id": "ab8e6384",
      "metadata": {},
      "source": [
        "Hamming Metric"
      ]
    },
    {
      "cell_type": "code",
      "execution_count": 94,
      "id": "92550537",
      "metadata": {},
      "outputs": [
        {
          "name": "stdout",
          "output_type": "stream",
          "text": [
            "k = 1\n",
            "Confusion matrix: \n",
            "[[951   0]\n",
            " [149  13]]\n",
            "Precision: 1.0\tRecall: 0.08024691358024691\tF1 Score: 0.14857142857142858\tAccuracy: 0.8661275831087152\n",
            "k = 3\n",
            "Confusion matrix: \n",
            "[[951   0]\n",
            " [160   2]]\n",
            "Precision: 1.0\tRecall: 0.012345679012345678\tF1 Score: 0.024390243902439022\tAccuracy: 0.8562443845462714\n",
            "k = 5\n",
            "Confusion matrix: \n",
            "[[951   0]\n",
            " [161   1]]\n",
            "Precision: 1.0\tRecall: 0.006172839506172839\tF1 Score: 0.012269938650306747\tAccuracy: 0.8553459119496856\n",
            "k = 7\n",
            "Confusion matrix: \n",
            "[[951   0]\n",
            " [162   0]]\n",
            "Precision: nan\tRecall: 0.0\tF1 Score: nan\tAccuracy: 0.8544474393530997\n",
            "k = 11\n",
            "Confusion matrix: \n",
            "[[951   0]\n",
            " [162   0]]\n",
            "Precision: nan\tRecall: 0.0\tF1 Score: nan\tAccuracy: 0.8544474393530997\n",
            "k = 17\n",
            "Confusion matrix: \n",
            "[[951   0]\n",
            " [162   0]]\n",
            "Precision: nan\tRecall: 0.0\tF1 Score: nan\tAccuracy: 0.8544474393530997\n",
            "k = 23\n",
            "Confusion matrix: \n",
            "[[951   0]\n",
            " [162   0]]\n",
            "Precision: nan\tRecall: 0.0\tF1 Score: nan\tAccuracy: 0.8544474393530997\n",
            "k = 28\n",
            "Confusion matrix: \n",
            "[[951   0]\n",
            " [162   0]]\n",
            "Precision: nan\tRecall: 0.0\tF1 Score: nan\tAccuracy: 0.8544474393530997\n"
          ]
        },
        {
          "name": "stderr",
          "output_type": "stream",
          "text": [
            "/tmp/ipykernel_14442/279340802.py:18: RuntimeWarning: invalid value encountered in long_scalars\n",
            "  precision=tp/(tp+fp)\n",
            "/tmp/ipykernel_14442/279340802.py:5: RuntimeWarning: invalid value encountered in long_scalars\n",
            "  precision=tp/(tp+fp)\n",
            "/tmp/ipykernel_14442/279340802.py:18: RuntimeWarning: invalid value encountered in long_scalars\n",
            "  precision=tp/(tp+fp)\n",
            "/tmp/ipykernel_14442/279340802.py:5: RuntimeWarning: invalid value encountered in long_scalars\n",
            "  precision=tp/(tp+fp)\n",
            "/tmp/ipykernel_14442/279340802.py:18: RuntimeWarning: invalid value encountered in long_scalars\n",
            "  precision=tp/(tp+fp)\n",
            "/tmp/ipykernel_14442/279340802.py:5: RuntimeWarning: invalid value encountered in long_scalars\n",
            "  precision=tp/(tp+fp)\n",
            "/tmp/ipykernel_14442/279340802.py:18: RuntimeWarning: invalid value encountered in long_scalars\n",
            "  precision=tp/(tp+fp)\n",
            "/tmp/ipykernel_14442/279340802.py:5: RuntimeWarning: invalid value encountered in long_scalars\n",
            "  precision=tp/(tp+fp)\n",
            "/tmp/ipykernel_14442/279340802.py:18: RuntimeWarning: invalid value encountered in long_scalars\n",
            "  precision=tp/(tp+fp)\n",
            "/tmp/ipykernel_14442/279340802.py:5: RuntimeWarning: invalid value encountered in long_scalars\n",
            "  precision=tp/(tp+fp)\n"
          ]
        },
        {
          "data": {
            "text/plain": [
              "[0.14857142857142858,\n",
              " 0.024390243902439022,\n",
              " 0.012269938650306747,\n",
              " nan,\n",
              " nan,\n",
              " nan,\n",
              " nan,\n",
              " nan]"
            ]
          },
          "execution_count": 94,
          "metadata": {},
          "output_type": "execute_result"
        }
      ],
      "source": [
        "k_nearest_neighbours_batch(k_values,vectors_train,labels_train,vectors_test,labels_test,metric=\"hamming\",display=True)"
      ]
    },
    {
      "cell_type": "markdown",
      "id": "17295626",
      "metadata": {},
      "source": [
        "**Why accuracy is not sufficient?**\n"
      ]
    },
    {
      "cell_type": "markdown",
      "id": "d4dde8d3",
      "metadata": {
        "id": "d4dde8d3"
      },
      "source": [
        "***4. Choose different K values (k=1,3,5,7,11,17,23,28) and experiment. Plot a graph showing F1 - score vs k.***"
      ]
    },
    {
      "cell_type": "code",
      "execution_count": null,
      "id": "45e0fd2f",
      "metadata": {
        "id": "45e0fd2f"
      },
      "outputs": [],
      "source": []
    },
    {
      "cell_type": "code",
      "execution_count": 56,
      "id": "eea67c5a",
      "metadata": {},
      "outputs": [
        {
          "name": "stdout",
          "output_type": "stream",
          "text": [
            "0.8076923076923077\n",
            "0.8620689655172414\n"
          ]
        }
      ],
      "source": [
        "print(f1_score)\n",
        "print(accuracy_list[0])"
      ]
    },
    {
      "cell_type": "code",
      "execution_count": 57,
      "id": "bysikuqCXWmt",
      "metadata": {
        "colab": {
          "base_uri": "https://localhost:8080/"
        },
        "id": "bysikuqCXWmt",
        "outputId": "611376e1-3316-45ac-9427-d0e513466f8f"
      },
      "outputs": [
        {
          "data": {
            "image/png": "[encoded data removed]",
            "text/plain": [
              "<Figure size 432x288 with 1 Axes>"
            ]
          },
          "metadata": {
            "needs_background": "light"
          },
          "output_type": "display_data"
        }
      ],
      "source": [
        "plt.plot(k_values,accuracy_list)\n",
        "plt.xlabel(\"k\")\n",
        "plt.ylabel(\"F1 score\")\n",
        "plt.show()"
      ]
    },
    {
      "cell_type": "code",
      "execution_count": 34,
      "id": "cd638b28",
      "metadata": {},
      "outputs": [
        {
          "data": {
            "image/png": "[encoded data removed]",
            "text/plain": [
              "<Figure size 432x288 with 1 Axes>"
            ]
          },
          "metadata": {
            "needs_background": "light"
          },
          "output_type": "display_data"
        }
      ],
      "source": [
        "from sklearn.metrics import accuracy_score\n",
        "from sklearn.metrics import confusion_matrix\n",
        "k_values=[1,3,5,7,11,17,23,28]\n",
        "#k_values=[5]\n",
        "accuracy_list=[]\n",
        "predicted_labels_list=[]\n",
        "for k in k_values:\n",
        "  predicted_labels=k_nearest_neighbours(k,vectors_train,labels_train,vectors_test,metric='euclidean')\n",
        "  score=accuracy_score(labels_test,predicted_labels)\n",
        "  tn, fp, fn, tp = confusion_matrix(labels_test, predicted_labels,labels=['ham','spam']).ravel()\n",
        "  precision=tp/(tp+fp)\n",
        "  recall=tp/(tp+fn)\n",
        "  f1_score=2*(precision*recall)/(precision+recall)\n",
        "  accuracy_list.append(f1_score)\n",
        "  predicted_labels_list.append(predicted_labels)\n",
        "k_values=np.array(k_values)\n",
        "accuracy_list=np.array(accuracy_list)\n",
        "plt.plot(k_values,accuracy_list)\n",
        "plt.xlabel(\"k\")\n",
        "plt.ylabel(\"F1 score\")\n",
        "plt.title(\"\")\n",
        "plt.show()"
      ]
    },
    {
      "cell_type": "markdown",
      "id": "15000352",
      "metadata": {
        "id": "15000352"
      },
      "source": [
        "### Train and test Sklearn's KNN classifier model on your data (use metric which gave best results on your experimentation with built-from-scratch model.)"
      ]
    },
    {
      "cell_type": "code",
      "execution_count": 95,
      "id": "233d56a6",
      "metadata": {},
      "outputs": [
        {
          "name": "stdout",
          "output_type": "stream",
          "text": [
            "Confusion matrix: \n",
            "[[949   2]\n",
            " [ 34 128]]\n",
            "Precision: 0.9846153846153847\tRecall: 0.7901234567901234\tF1 Score: 0.8767123287671232\tAccuracy: 0.967654986522911\n",
            "0.967654986522911\n",
            "[[949   2]\n",
            " [ 34 128]]\n"
          ]
        }
      ],
      "source": [
        "tfidf = TfidfVectorizer(tokenizer=lambda x:x, stop_words=None, lowercase=False)    \n",
        "tf_idf_text = tfidf.fit_transform(data['text'])\n",
        "x_train, x_test, y_train, y_test = train_test_split(tf_idf_text, data['type'], test_size=0.2, random_state=42)\n",
        "neigh = KNeighborsClassifier(n_neighbors=3,metric='cosine')\n",
        "neigh.fit(x_train, y_train)\n",
        "y_pred_sk=neigh.predict(x_test)\n",
        "score_display(y_test,y_pred_sk,labels=['ham','spam'])\n",
        "score=accuracy_score(y_test,y_pred_sk)\n",
        "print(score)\n",
        "print(confusion_matrix(y_test, y_pred_sk,labels=['ham','spam']))"
      ]
    },
    {
      "cell_type": "code",
      "execution_count": 97,
      "id": "a24d5d1c",
      "metadata": {},
      "outputs": [
        {
          "data": {
            "image/png": "[encoded data removed]",
            "text/plain": [
              "<Figure size 432x288 with 1 Axes>"
            ]
          },
          "metadata": {
            "needs_background": "light"
          },
          "output_type": "display_data"
        }
      ],
      "source": [
        "k_values=[1,3,5,7,11,17,23,28]\n",
        "#k_values=[5]\n",
        "accuracy_list_pred_sk=[]\n",
        "predicted_labels_list_sk=[]\n",
        "for k in k_values:\n",
        "  neigh = KNeighborsClassifier(n_neighbors=k,metric='cosine')\n",
        "  neigh.fit(x_train,y_train)\n",
        "  predicted_labels_sk=neigh.predict(x_test)\n",
        "  tn, fp, fn, tp = confusion_matrix(y_test, predicted_labels_sk,labels=['ham','spam']).ravel()\n",
        "  precision=tp/(tp+fp)\n",
        "  recall=tp/(tp+fn)\n",
        "  f1_score=2*(precision*recall)/(precision+recall)\n",
        "  accuracy_list_pred_sk.append(f1_score)\n",
        "  predicted_labels_list_sk.append(predicted_labels_sk)\n",
        "plt.plot(k_values,accuracy_list_pred_sk,label=\"SK LEARN\")\n",
        "plt.xlabel(\"k\")\n",
        "plt.ylabel(\"F1 score\")\n",
        "plt.title(\"Comparison\")\n",
        "plt.legend()\n",
        "plt.show()"
      ]
    },
    {
      "cell_type": "code",
      "execution_count": null,
      "id": "5dd6a8eb",
      "metadata": {},
      "outputs": [],
      "source": [
        "k_values=[1,3,5,7,11,17,23,28]\n",
        "#k_values=[5]\n",
        "accuracy_list_pred_sk=[]\n",
        "predicted_labels_list_sk=[]\n",
        "for k in k_values:\n",
        "  neigh = KNeighborsClassifier(n_neighbors=k,metric='cosine')\n",
        "  neigh.fit(x_train,y_train)\n",
        "  predicted_labels_sk=neigh.predict(x_test)\n",
        "  tn, fp, fn, tp = confusion_matrix(y_test, predicted_labels_sk,labels=['ham','spam']).ravel()\n",
        "  precision=tp/(tp+fp)\n",
        "  recall=tp/(tp+fn)\n",
        "  f1_score=2*(precision*recall)/(precision+recall)\n",
        "  accuracy_list_pred_sk.append(f1_score)\n",
        "  predicted_labels_list_sk.append(predicted_labels_sk)\n",
        "plt.plot(k_values,accuracy_list_pred_sk)\n",
        "plt.plot(k_values,accuracy_list_cosine)\n",
        "plt.xlabel(\"k\")\n",
        "plt.ylabel(\"F1 score\")\n",
        "plt.title(\"\")\n",
        "plt.show()\n",
        "print(accuracy_list_pred_sk)"
      ]
    },
    {
      "cell_type": "markdown",
      "id": "7d22aa47",
      "metadata": {
        "id": "7d22aa47"
      },
      "source": [
        "***Compare both the models result.***"
      ]
    },
    {
      "cell_type": "code",
      "execution_count": null,
      "id": "6a7a5274",
      "metadata": {
        "id": "6a7a5274"
      },
      "outputs": [],
      "source": []
    },
    {
      "cell_type": "markdown",
      "id": "64987575",
      "metadata": {
        "id": "64987575"
      },
      "source": [
        "***What is the time complexity of training using KNN classifier?***"
      ]
    },
    {
      "cell_type": "markdown",
      "id": "2770c106",
      "metadata": {
        "id": "2770c106"
      },
      "source": []
    },
    {
      "cell_type": "markdown",
      "id": "fad1f345",
      "metadata": {
        "id": "fad1f345"
      },
      "source": [
        "***What is the time complexity while testing? Is KNN a linear classifier or can it learn any boundary?***"
      ]
    },
    {
      "cell_type": "raw",
      "id": "0daaa324",
      "metadata": {
        "id": "0daaa324"
      },
      "source": []
    }
  ],
  "metadata": {
    "colab": {
      "collapsed_sections": [],
      "name": "2021201086_Assignment1_Question3.ipynb",
      "provenance": []
    },
    "kernelspec": {
      "display_name": "Python 3",
      "language": "python",
      "name": "python3"
    },
    "language_info": {
      "codemirror_mode": {
        "name": "ipython",
        "version": 3
      },
      "file_extension": ".py",
      "mimetype": "text/x-python",
      "name": "python",
      "nbconvert_exporter": "python",
      "pygments_lexer": "ipython3",
      "version": "3.8.10"
    }
  },
  "nbformat": 4,
  "nbformat_minor": 5
}
