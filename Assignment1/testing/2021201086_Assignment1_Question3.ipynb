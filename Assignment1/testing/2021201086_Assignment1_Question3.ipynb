{
  "cells": [
    {
      "cell_type": "markdown",
      "id": "02c54141",
      "metadata": {
        "id": "02c54141"
      },
      "source": [
        "## Spam Email Classifier with KNN using TF-IDF scores"
      ]
    },
    {
      "cell_type": "markdown",
      "id": "1c17102e",
      "metadata": {
        "id": "1c17102e"
      },
      "source": [
        "1.   Assignment must be implemented in Python 3 only.\n",
        "2.   You are allowed to use libraries for data preprocessing (numpy, pandas, nltk etc) and for evaluation metrics, data visualization (matplotlib etc.).\n",
        "3.   You will be evaluated not just on the overall performance of the model and also on the experimentation with hyper parameters, data prepossessing techniques etc.\n",
        "4.   The report file must be a well documented jupyter notebook, explaining the experiments you have performed, evaluation metrics and corresponding code. The code must run and be able to reproduce the accuracies, figures/graphs etc.\n",
        "5.   For all the questions, you must create a train-validation data split and test the hyperparameter tuning on the validation set. Your jupyter notebook must reflect the same.\n",
        "6.   Strict plagiarism checking will be done. An F will be awarded for plagiarism."
      ]
    },
    {
      "cell_type": "markdown",
      "id": "0d34a310",
      "metadata": {
        "id": "0d34a310"
      },
      "source": [
        "**Task: Given an email, classify it as spam or ham**\n",
        "\n",
        "Given input text file (\"emails.txt\") containing 5572 email messages, with each row having its corresponding label (spam/ham) attached to it.\n",
        "\n",
        "This task also requires basic pre-processing of text (like removing stopwords, stemming/lemmatizing, replacing email_address with 'email-tag', etc..).\n",
        "\n",
        "You are required to find the tf-idf scores for the given data and use them to perform KNN using Cosine Similarity."
      ]
    },
    {
      "cell_type": "markdown",
      "id": "b0c87696",
      "metadata": {
        "id": "b0c87696"
      },
      "source": [
        "### Import necessary libraries"
      ]
    },
    {
      "cell_type": "code",
      "execution_count": 33,
      "id": "3d5a1fe2",
      "metadata": {
        "id": "3d5a1fe2"
      },
      "outputs": [],
      "source": [
        "import pandas as pd\n",
        "import numpy as np\n",
        "import matplotlib.pyplot as plt\n",
        "import string\n",
        "from nltk.corpus import stopwords\n",
        "from nltk.tokenize import word_tokenize\n",
        "from nltk.stem.wordnet import WordNetLemmatizer\n",
        "from sklearn.model_selection import train_test_split\n",
        "from sklearn.neighbors import KNeighborsClassifier\n",
        "from sklearn.metrics import accuracy_score\n",
        "from sklearn.metrics import confusion_matrix\n",
        "from sklearn.feature_extraction.text import CountVectorizer\n",
        "from sklearn.feature_extraction.text import TfidfTransformer\n",
        "from sklearn.feature_extraction.text import TfidfVectorizer\n",
        "import nltk\n",
        "import math"
      ]
    },
    {
      "cell_type": "code",
      "execution_count": 34,
      "id": "sQJ8c3MjtqUG",
      "metadata": {
        "colab": {
          "base_uri": "https://localhost:8080/"
        },
        "id": "sQJ8c3MjtqUG",
        "outputId": "92cb3688-4235-491c-d9fb-947048edf7e1"
      },
      "outputs": [
        {
          "name": "stderr",
          "output_type": "stream",
          "text": [
            "[nltk_data] Downloading package punkt to\n",
            "[nltk_data]     /home/soumodiptab/nltk_data...\n",
            "[nltk_data]   Package punkt is already up-to-date!\n",
            "[nltk_data] Downloading package stopwords to\n",
            "[nltk_data]     /home/soumodiptab/nltk_data...\n",
            "[nltk_data]   Package stopwords is already up-to-date!\n",
            "[nltk_data] Downloading package wordnet to\n",
            "[nltk_data]     /home/soumodiptab/nltk_data...\n",
            "[nltk_data]   Package wordnet is already up-to-date!\n"
          ]
        },
        {
          "data": {
            "text/plain": [
              "True"
            ]
          },
          "execution_count": 34,
          "metadata": {},
          "output_type": "execute_result"
        }
      ],
      "source": [
        "#Downloading the nltk libraries\n",
        "nltk.download('punkt')\n",
        "nltk.download('stopwords')\n",
        "nltk.download('wordnet')"
      ]
    },
    {
      "cell_type": "markdown",
      "id": "yMyWwAWj_wKa",
      "metadata": {
        "id": "yMyWwAWj_wKa"
      },
      "source": [
        "### Load Dataset"
      ]
    },
    {
      "cell_type": "code",
      "execution_count": 35,
      "id": "f178f892",
      "metadata": {
        "colab": {
          "base_uri": "https://localhost:8080/",
          "height": 458
        },
        "id": "f178f892",
        "outputId": "0f14c687-90b1-4c49-fcc5-3ffb0ff85513"
      },
      "outputs": [
        {
          "data": {
            "text/html": [
              "<div>\n",
              "<style scoped>\n",
              "    .dataframe tbody tr th:only-of-type {\n",
              "        vertical-align: middle;\n",
              "    }\n",
              "\n",
              "    .dataframe tbody tr th {\n",
              "        vertical-align: top;\n",
              "    }\n",
              "\n",
              "    .dataframe thead th {\n",
              "        text-align: right;\n",
              "    }\n",
              "</style>\n",
              "<table border=\"1\" class=\"dataframe\">\n",
              "  <thead>\n",
              "    <tr style=\"text-align: right;\">\n",
              "      <th></th>\n",
              "      <th>type</th>\n",
              "      <th>text</th>\n",
              "    </tr>\n",
              "  </thead>\n",
              "  <tbody>\n",
              "    <tr>\n",
              "      <th>0</th>\n",
              "      <td>ham</td>\n",
              "      <td>Go until jurong point, crazy.. Available only ...</td>\n",
              "    </tr>\n",
              "    <tr>\n",
              "      <th>1</th>\n",
              "      <td>ham</td>\n",
              "      <td>Ok lar... Joking wif u oni...</td>\n",
              "    </tr>\n",
              "    <tr>\n",
              "      <th>2</th>\n",
              "      <td>spam</td>\n",
              "      <td>Free entry in 2 a wkly comp to win FA Cup fina...</td>\n",
              "    </tr>\n",
              "    <tr>\n",
              "      <th>3</th>\n",
              "      <td>ham</td>\n",
              "      <td>U dun say so early hor... U c already then say...</td>\n",
              "    </tr>\n",
              "    <tr>\n",
              "      <th>4</th>\n",
              "      <td>ham</td>\n",
              "      <td>Nah I don't think he goes to usf, he lives aro...</td>\n",
              "    </tr>\n",
              "    <tr>\n",
              "      <th>...</th>\n",
              "      <td>...</td>\n",
              "      <td>...</td>\n",
              "    </tr>\n",
              "    <tr>\n",
              "      <th>5567</th>\n",
              "      <td>spam</td>\n",
              "      <td>This is the 2nd time we have tried 2 contact u...</td>\n",
              "    </tr>\n",
              "    <tr>\n",
              "      <th>5568</th>\n",
              "      <td>ham</td>\n",
              "      <td>Will ü b going to esplanade fr home?</td>\n",
              "    </tr>\n",
              "    <tr>\n",
              "      <th>5569</th>\n",
              "      <td>ham</td>\n",
              "      <td>Pity, * was in mood for that. So...any other s...</td>\n",
              "    </tr>\n",
              "    <tr>\n",
              "      <th>5570</th>\n",
              "      <td>ham</td>\n",
              "      <td>The guy did some bitching but I acted like i'd...</td>\n",
              "    </tr>\n",
              "    <tr>\n",
              "      <th>5571</th>\n",
              "      <td>ham</td>\n",
              "      <td>Rofl. Its true to its name</td>\n",
              "    </tr>\n",
              "  </tbody>\n",
              "</table>\n",
              "<p>5572 rows × 2 columns</p>\n",
              "</div>"
            ],
            "text/plain": [
              "      type                                               text\n",
              "0      ham  Go until jurong point, crazy.. Available only ...\n",
              "1      ham                      Ok lar... Joking wif u oni...\n",
              "2     spam  Free entry in 2 a wkly comp to win FA Cup fina...\n",
              "3      ham  U dun say so early hor... U c already then say...\n",
              "4      ham  Nah I don't think he goes to usf, he lives aro...\n",
              "...    ...                                                ...\n",
              "5567  spam  This is the 2nd time we have tried 2 contact u...\n",
              "5568   ham               Will ü b going to esplanade fr home?\n",
              "5569   ham  Pity, * was in mood for that. So...any other s...\n",
              "5570   ham  The guy did some bitching but I acted like i'd...\n",
              "5571   ham                         Rofl. Its true to its name\n",
              "\n",
              "[5572 rows x 2 columns]"
            ]
          },
          "execution_count": 35,
          "metadata": {},
          "output_type": "execute_result"
        }
      ],
      "source": [
        "\"\"\"from google.colab import drive\n",
        "drive.mount('/content/drive')\n",
        "%cd /content/drive/My Drive/smai/\n",
        "\"\"\"\n",
        "data=pd.read_csv('emails.txt',sep='\\t',header=None)\n",
        "data.columns=['type','text']\n",
        "data"
      ]
    },
    {
      "cell_type": "markdown",
      "id": "cd1ef5ba",
      "metadata": {
        "id": "cd1ef5ba"
      },
      "source": [
        "### Preprocess data:\n",
        "1. Removing Punctuation\n",
        "2. Tokenizing\n",
        "3. Converting to lower case\n",
        "4. Removing stop words\n",
        "5. Lemmatizing the tokens"
      ]
    },
    {
      "cell_type": "code",
      "execution_count": 36,
      "id": "fd1733d7",
      "metadata": {
        "id": "fd1733d7"
      },
      "outputs": [],
      "source": [
        "# punctuations\n",
        "punctuations=string.punctuation\n",
        "# stopwords\n",
        "stop_words=stopwords.words('english')\n",
        "def remove_punctuations(text):\n",
        "  for c in punctuations:\n",
        "    text=text.replace(c,\" \")\n",
        "  return text\n",
        "wn = WordNetLemmatizer()\n",
        "#removing stopwords\n",
        "data['text'] = data['text'].apply(remove_punctuations)\n",
        "#tokenizing the text\n",
        "data['text'] = data['text'].apply(word_tokenize)\n",
        "#removing the \n",
        "data['text'] = data['text'].apply(lambda x: ([word.lower() for word in x if word.lower() not in stop_words]))\n",
        "#Lemmatizing\n",
        "data['text'] = data['text'].apply(lambda x: [wn.lemmatize(word) for word in x])"
      ]
    },
    {
      "cell_type": "code",
      "execution_count": 37,
      "id": "zjbnH-DisfLO",
      "metadata": {
        "colab": {
          "base_uri": "https://localhost:8080/"
        },
        "id": "zjbnH-DisfLO",
        "outputId": "3cbe448e-6676-4c1e-de1c-6ad8749b6209"
      },
      "outputs": [
        {
          "data": {
            "text/html": [
              "<div>\n",
              "<style scoped>\n",
              "    .dataframe tbody tr th:only-of-type {\n",
              "        vertical-align: middle;\n",
              "    }\n",
              "\n",
              "    .dataframe tbody tr th {\n",
              "        vertical-align: top;\n",
              "    }\n",
              "\n",
              "    .dataframe thead th {\n",
              "        text-align: right;\n",
              "    }\n",
              "</style>\n",
              "<table border=\"1\" class=\"dataframe\">\n",
              "  <thead>\n",
              "    <tr style=\"text-align: right;\">\n",
              "      <th></th>\n",
              "      <th>type</th>\n",
              "      <th>text</th>\n",
              "    </tr>\n",
              "  </thead>\n",
              "  <tbody>\n",
              "    <tr>\n",
              "      <th>988</th>\n",
              "      <td>ham</td>\n",
              "      <td>[geeee, miss, already, know, think, fuck, wait...</td>\n",
              "    </tr>\n",
              "    <tr>\n",
              "      <th>1259</th>\n",
              "      <td>ham</td>\n",
              "      <td>[honey, boo, missing, u]</td>\n",
              "    </tr>\n",
              "    <tr>\n",
              "      <th>5502</th>\n",
              "      <td>ham</td>\n",
              "      <td>[apo, mokka, player]</td>\n",
              "    </tr>\n",
              "    <tr>\n",
              "      <th>4054</th>\n",
              "      <td>ham</td>\n",
              "      <td>[slept, time]</td>\n",
              "    </tr>\n",
              "    <tr>\n",
              "      <th>796</th>\n",
              "      <td>ham</td>\n",
              "      <td>[really, getting, hanging, around]</td>\n",
              "    </tr>\n",
              "    <tr>\n",
              "      <th>328</th>\n",
              "      <td>ham</td>\n",
              "      <td>[say, good, sign, well, know, track, record, r...</td>\n",
              "    </tr>\n",
              "    <tr>\n",
              "      <th>3933</th>\n",
              "      <td>ham</td>\n",
              "      <td>[so, amount, get, pls]</td>\n",
              "    </tr>\n",
              "    <tr>\n",
              "      <th>2048</th>\n",
              "      <td>ham</td>\n",
              "      <td>[de, call, time, ill, tell, k]</td>\n",
              "    </tr>\n",
              "    <tr>\n",
              "      <th>4342</th>\n",
              "      <td>ham</td>\n",
              "      <td>[ü, write, wat]</td>\n",
              "    </tr>\n",
              "    <tr>\n",
              "      <th>292</th>\n",
              "      <td>ham</td>\n",
              "      <td>[haf, u, found, feel, stupid, da, v, cam, work...</td>\n",
              "    </tr>\n",
              "  </tbody>\n",
              "</table>\n",
              "</div>"
            ],
            "text/plain": [
              "     type                                               text\n",
              "988   ham  [geeee, miss, already, know, think, fuck, wait...\n",
              "1259  ham                           [honey, boo, missing, u]\n",
              "5502  ham                               [apo, mokka, player]\n",
              "4054  ham                                      [slept, time]\n",
              "796   ham                 [really, getting, hanging, around]\n",
              "328   ham  [say, good, sign, well, know, track, record, r...\n",
              "3933  ham                             [so, amount, get, pls]\n",
              "2048  ham                     [de, call, time, ill, tell, k]\n",
              "4342  ham                                    [ü, write, wat]\n",
              "292   ham  [haf, u, found, feel, stupid, da, v, cam, work..."
            ]
          },
          "execution_count": 37,
          "metadata": {},
          "output_type": "execute_result"
        }
      ],
      "source": [
        "data.sample(10)"
      ]
    },
    {
      "cell_type": "code",
      "execution_count": 38,
      "id": "wMLUMyu_2gj5",
      "metadata": {
        "colab": {
          "base_uri": "https://localhost:8080/"
        },
        "id": "wMLUMyu_2gj5",
        "outputId": "93b45c37-52f2-41a9-a1fe-aa837d2e0b58"
      },
      "outputs": [
        {
          "data": {
            "text/html": [
              "<div>\n",
              "<style scoped>\n",
              "    .dataframe tbody tr th:only-of-type {\n",
              "        vertical-align: middle;\n",
              "    }\n",
              "\n",
              "    .dataframe tbody tr th {\n",
              "        vertical-align: top;\n",
              "    }\n",
              "\n",
              "    .dataframe thead th {\n",
              "        text-align: right;\n",
              "    }\n",
              "</style>\n",
              "<table border=\"1\" class=\"dataframe\">\n",
              "  <thead>\n",
              "    <tr style=\"text-align: right;\">\n",
              "      <th></th>\n",
              "      <th>type</th>\n",
              "      <th>text</th>\n",
              "    </tr>\n",
              "  </thead>\n",
              "  <tbody>\n",
              "    <tr>\n",
              "      <th>782</th>\n",
              "      <td>ham</td>\n",
              "      <td>[hmmm, thought, said, 2, hour, slave, 3, late,...</td>\n",
              "    </tr>\n",
              "    <tr>\n",
              "      <th>4396</th>\n",
              "      <td>ham</td>\n",
              "      <td>[got, message, ignoring, yes, shopping]</td>\n",
              "    </tr>\n",
              "    <tr>\n",
              "      <th>3600</th>\n",
              "      <td>ham</td>\n",
              "      <td>[wat, r, u, busy, wif, work]</td>\n",
              "    </tr>\n",
              "    <tr>\n",
              "      <th>1964</th>\n",
              "      <td>ham</td>\n",
              "      <td>[yes, completely, form, clark, also, utter, wa...</td>\n",
              "    </tr>\n",
              "    <tr>\n",
              "      <th>2343</th>\n",
              "      <td>spam</td>\n",
              "      <td>[double, min, txts, orange, 1, 2, price, liner...</td>\n",
              "    </tr>\n",
              "    <tr>\n",
              "      <th>1351</th>\n",
              "      <td>ham</td>\n",
              "      <td>[bugis, oso, near, wat]</td>\n",
              "    </tr>\n",
              "    <tr>\n",
              "      <th>2358</th>\n",
              "      <td>ham</td>\n",
              "      <td>[okay, well, thanks, clarification]</td>\n",
              "    </tr>\n",
              "    <tr>\n",
              "      <th>5178</th>\n",
              "      <td>spam</td>\n",
              "      <td>[sm, auction, brand, new, nokia, 7250, 4, auct...</td>\n",
              "    </tr>\n",
              "    <tr>\n",
              "      <th>3255</th>\n",
              "      <td>ham</td>\n",
              "      <td>[make, lasagna, vodka]</td>\n",
              "    </tr>\n",
              "    <tr>\n",
              "      <th>554</th>\n",
              "      <td>ham</td>\n",
              "      <td>[ok, every, night, take, warm, bath, drink, cu...</td>\n",
              "    </tr>\n",
              "  </tbody>\n",
              "</table>\n",
              "</div>"
            ],
            "text/plain": [
              "      type                                               text\n",
              "782    ham  [hmmm, thought, said, 2, hour, slave, 3, late,...\n",
              "4396   ham            [got, message, ignoring, yes, shopping]\n",
              "3600   ham                       [wat, r, u, busy, wif, work]\n",
              "1964   ham  [yes, completely, form, clark, also, utter, wa...\n",
              "2343  spam  [double, min, txts, orange, 1, 2, price, liner...\n",
              "1351   ham                            [bugis, oso, near, wat]\n",
              "2358   ham                [okay, well, thanks, clarification]\n",
              "5178  spam  [sm, auction, brand, new, nokia, 7250, 4, auct...\n",
              "3255   ham                             [make, lasagna, vodka]\n",
              "554    ham  [ok, every, night, take, warm, bath, drink, cu..."
            ]
          },
          "execution_count": 38,
          "metadata": {},
          "output_type": "execute_result"
        }
      ],
      "source": [
        "#removing lines with empty text\n",
        "data=data[data['text'].map(lambda d: len(d)) > 0]\n",
        "data.sample(10)"
      ]
    },
    {
      "cell_type": "markdown",
      "id": "gfzjouR_tDOy",
      "metadata": {
        "id": "gfzjouR_tDOy"
      },
      "source": [
        "#### Splitting Cleaned Data into test and train:"
      ]
    },
    {
      "cell_type": "code",
      "execution_count": 39,
      "id": "6TwW4rqA0ZDY",
      "metadata": {
        "id": "6TwW4rqA0ZDY"
      },
      "outputs": [],
      "source": [
        "text_train, text_test,labels_train, labels_test = train_test_split(data['text'],data['type'] ,test_size=0.20, random_state=42)\n",
        "labels_train=np.array(labels_train)\n",
        "labels_test=np.array(labels_test)\n",
        "text_train=np.array(text_train)\n",
        "text_test=np.array(text_test)"
      ]
    },
    {
      "cell_type": "markdown",
      "id": "b15bb760",
      "metadata": {},
      "source": [
        "##### Functions to calculate TF-IDF"
      ]
    },
    {
      "cell_type": "code",
      "execution_count": 40,
      "id": "z481EBWm5DbY",
      "metadata": {
        "id": "z481EBWm5DbY"
      },
      "outputs": [],
      "source": [
        "def term_freq(sentence, word):\n",
        "    N = len(sentence)\n",
        "    freq = len([x for x in sentence if x==word])\n",
        "    return freq/float(N)\n",
        "\n",
        "def inverse_doc_freq(word,doc_word_count,total_sentences):\n",
        "    doc_freq = doc_word_count[word] + 1\n",
        "    return math.log10(total_sentences/float(doc_freq))\n",
        "\n",
        "def tf_idf(sentence,doc_word_count,index_unique_words,unique_words,total_sentences):\n",
        "    tf_idf_vector = np.zeros((len(unique_words),))\n",
        "    for word in set(sentence):\n",
        "      tf = term_freq(sentence,word)\n",
        "      idf = inverse_doc_freq(word,doc_word_count,total_sentences)\n",
        "      value = tf*idf\n",
        "      tf_idf_vector[index_unique_words[word]] = value\n",
        "    return tf_idf_vector\n",
        "test_data=[]"
      ]
    },
    {
      "cell_type": "code",
      "execution_count": 41,
      "id": "eVf-q930y89N",
      "metadata": {
        "id": "eVf-q930y89N"
      },
      "outputs": [],
      "source": [
        "def build_unique_words(data_frame_col):\n",
        "  unique_words=set()\n",
        "  for text in data_frame_col:\n",
        "    unique_words=unique_words.union(set(text))\n",
        "  return unique_words\n",
        "def build_doc_freq(data_frame_col,unique_words):\n",
        "  doc_word_count=dict.fromkeys(unique_words, 0)\n",
        "  for text in data_frame_col:\n",
        "    for word in unique_words:\n",
        "      if word in text:\n",
        "        doc_word_count[word]+=1\n",
        "  return doc_word_count\n",
        "def calc_tf_idf(data_frame_col):\n",
        "  total_sentences=len(data_frame_col)\n",
        "  unique_words=build_unique_words(data_frame_col)\n",
        "  #for calculation of document freq:\n",
        "  doc_word_count=build_doc_freq(data_frame_col,unique_words)\n",
        "  print(doc_word_count)\n",
        "  index_unique_words={}\n",
        "  index=0\n",
        "  for word in unique_words:\n",
        "    index_unique_words[word]=index\n",
        "    index+=1\n",
        "  vectors=[]\n",
        "  for sentence in data_frame_col:\n",
        "    tf_idf_vector = tf_idf(sentence,doc_word_count,index_unique_words\n",
        "                             ,unique_words,total_sentences)\n",
        "    vectors.append(tf_idf_vector)\n",
        "  return vectors,index_unique_words,doc_word_count,total_sentences\n",
        "#labels=np.array(data['type'])\n",
        "#vectors=calc_tf_idf(data['text'])\n",
        "#test_data=data['text'].sample(10)\n",
        "#vectors,index_dict=calc_tf_idf(test_data)\n",
        "#test_data"
      ]
    },
    {
      "cell_type": "markdown",
      "id": "7413aa4c",
      "metadata": {},
      "source": [
        "##### Calculating the TF-IDF Vector for the Train Data"
      ]
    },
    {
      "cell_type": "code",
      "execution_count": 42,
      "id": "MpJz5qZByGSa",
      "metadata": {
        "colab": {
          "base_uri": "https://localhost:8080/"
        },
        "id": "MpJz5qZByGSa",
        "outputId": "0b6bbdf2-ab8d-4ee9-9a03-ce75ce8daa1a"
      },
      "outputs": [
        {
          "name": "stdout",
          "output_type": "stream",
          "text": [
            "{'murderer': 5, 'pert': 1, 'armenia': 1, 'barrel': 1, 'discus': 4, '0125698789': 1, 'ondu': 1, '〨ud': 1, 'captain': 2, 'predicte': 1, 'feelin': 3, 'mega': 2, 'iff': 1, 'thanx4': 1, 'elaborate': 1, 'weiyi': 1, 'ntt': 5, 'keen': 1, '09050000460': 1, 'drunk': 3, 'phd': 1, 'sw7': 2, '09065069120': 1, 'or2stoptxt': 3, 'space': 6, 'mist': 1, 'thousand': 1, '07781482378': 1, 'unbelievable': 2, 'usa': 1, 'arrow': 1, 'inr': 1, 'laying': 1, 'borrow': 2, 'fried': 1, '08718727868': 2, 'bid': 4, 'termsapply': 1, '89693': 2, 'erutupalam': 1, 'jetton': 1, 'ralphs': 1, 'andros': 2, 'site': 3, 'yeesh': 1, 'raiden': 1, 'lavender': 1, 'shiny': 1, 'follow': 1, 'ip4': 5, 'taylor': 3, 'nic': 2, 'speak': 29, '09090204448': 1, 'everything': 25, 'hai': 4, 'minecraft': 1, 'scrumptious': 1, 'order': 17, 'persolvo': 1, 'open': 14, 'night': 85, 'complete': 8, 'magical': 2, 'gong': 1, 'track': 5, 'ugh': 8, 'japanese': 2, 'deltomorrow': 1, 'aww': 2, 'impress': 1, 'tooth': 1, 'vary': 4, 'nxt': 5, 'mi': 2, '82242': 2, 'shy': 3, 'wheellock': 1, 'mike': 1, '6times': 1, 'accounting': 1, 'heart': 38, 'renewed': 1, 'chapter': 1, '08712466669': 1, 'refunded': 1, 'wocay': 1, 'chuck': 1, 'mee': 1, 'safe': 8, 'prize': 66, 'aah': 3, '86021': 3, 'pobox114': 1, 'durban': 2, 'coin': 4, 'arrange': 5, 'sen': 2, '£100': 18, '1yf': 1, 'directly': 4, 'urination': 1, 'pansy': 1, 'even': 50, '08719181259': 1, '09061743386': 2, '08714714011': 1, 'vivekanand': 1, 'mfl': 1, 'peaceful': 1, '2day': 8, '0776xxxxxxx': 2, 'musthu': 2, 'pillow': 1, 'keeping': 5, 'firmware': 1, 'flavour': 1, 'valentine': 13, 'purse': 2, '£800': 9, 'spoilt': 1, 'crashed': 1, 'email': 14, 'blood': 8, 'reserved': 1, '77': 1, 'yourinclusive': 1, 'wondering': 7, 'misbehaved': 1, 'gd': 13, 'dsn': 1, 'confirmed': 2, 'atlanta': 3, 'thm': 3, 'bring': 19, 'gr8fun': 1, 'jenne': 1, 'workin': 6, 'referin': 1, '0430': 1, 'fuckin': 2, 'attending': 1, 'v': 38, 'sarasota': 2, '730': 1, 'cme': 1, 'specialise': 1, 'wing': 1, 'bsn': 1, 'pin': 6, 'foreign': 2, 'twenty': 2, 'bloody': 3, 'okden': 1, 'section': 2, 'house': 31, '06': 8, 'stool': 1, 'ken': 1, 'save': 9, 'max6': 1, 'rahul': 1, 'flirtparty': 1, 'catch': 8, '4wrd': 1, 'w1j': 1, 'shirt': 6, 'gotbabes': 1, 'fishrman': 1, 'frm': 11, 'okie': 15, 'really': 68, 'punish': 1, 'chad': 1, 'youphone': 1, 'arabian': 1, 'prepaid': 1, '0578': 2, 'inspection': 1, 'dogging': 6, 'paragon': 2, 'cheaper': 3, 'seriously': 7, '£50': 1, 'passion': 1, 'compare': 1, 'ahold': 1, 'owl': 1, 'nino': 1, '7876150ppm': 2, 'premium': 2, 'sinco': 2, '0870737910216yrs': 1, 'contact': 52, 'peril': 1, 'known': 1, 'signal': 1, 'manageable': 1, 'pthis': 1, 'diesel': 1, 'sam': 4, 'ger': 1, 'txtauction': 5, 'jeremiah': 1, 'aaooooright': 1, 'prob': 13, 'mention': 1, 'joking': 5, 'jenxxx': 1, 'amanda': 1, 'voted': 1, 'petey': 2, 'blogging': 1, 'radiator': 1, 'challenging': 1, 'studyn': 1, 'relation': 4, 'sim': 7, '113': 1, 'veggie': 1, 'ennal': 1, 'hmmross': 1, 'new': 111, 'amplikater': 1, 'relax': 5, 'availa': 1, 'allow': 2, 'petrol': 2, 'accumulation': 1, '6ish': 1, 'tongued': 1, 'program': 3, 'mtmsgrcvd18': 3, 'wotz': 1, 'spark': 1, 'gifted': 1, 'mobilesdirect': 3, 'box326': 2, 'dip': 1, 'havn': 1, 'wasn\\x92t': 1, 'toothpaste': 1, '864233': 1, 'held': 2, 'donate': 1, 'golf': 1, 'church': 3, 'nt': 13, 'okies': 1, 'liked': 7, '83435': 1, 'maat': 1, 'txt82228': 1, 'hail': 1, 'processed': 1, 'vijaykanth': 1, 'oble': 1, '09061209465': 2, 'hot': 17, 'ee': 1, 'nigh': 1, 'swell': 1, 'sane': 1, 'scotland': 1, 'checkboxes': 1, '£1450': 3, 'thriller': 1, 'sexual': 1, 'grumble': 1, 'kama': 1, 'mary': 1, 'reminder': 3, 'bathroom': 1, 'never': 32, 'definitely': 5, 'digit': 1, 'chik': 1, 'agree': 1, 'propose': 2, 'xam': 2, 'pete': 8, '81151': 3, 'smoke': 11, 'fuck': 24, 'tmw': 1, 'ive': 8, 'sack': 1, 'rajitha': 1, 'enketa': 1, 'add': 7, 'ashwini': 1, 'jobyet': 1, 'lyric': 1, 'charming': 1, '09058094455': 1, 'suite342': 11, 'ill': 34, 'weaseling': 1, 'matured': 4, 'rebooting': 1, 'cn': 3, 'txtin': 2, '09066612661': 3, 'mp3': 6, 'quarter': 1, 'l8er': 1, 'rearrange': 1, 'failing': 1, 'steal': 1, 'shrub': 1, 'w1t1jy': 1, '80062': 4, 'bugis': 7, 'mys': 1, 'puttin': 2, 'ques': 1, '8pm': 1, 'tex': 1, 'logo': 5, 'warwick': 1, 'rayman': 1, 'yest': 1, 'fumbling': 1, 'master': 2, 'lvblefrnd': 3, 'doug': 1, 'nvm': 5, 'senthil': 3, '08715500022': 1, 'sends': 2, 'barkley': 1, 'lovingly': 1, 'mess': 2, 'jean': 1, 'sc': 1, 'meat': 1, 'hugging': 1, 'da': 108, 'ashley': 2, 'extract': 1, 'yummy': 3, 'keyword': 1, 'rememberi': 1, 'sandiago': 1, 'lipo': 1, 'chap': 1, 'emotion': 1, 'drugdealer': 1, 'wkent': 1, 'rally': 2, '4fil': 1, 'videophones': 4, 'alone': 14, 'royal': 2, 'move': 12, 'plumber': 1, 'illspeak': 1, 'diwali': 2, 'j': 6, 'fucking': 11, 'lazy': 9, 'sum1': 3, 'cancer': 6, 'duffer': 1, 'lighter': 1, 'um': 1, 'child': 10, 'budget': 4, 'upon': 1, 'opted': 1, 'conveying': 1, 'raji': 3, 'faster': 3, 'shaved': 1, 'tobed': 1, 'durham': 1, 'aig': 1, 'sweetest': 3, '87575': 2, 'rael': 2, 'blake': 3, 'breeze': 1, 'boob': 1, 'fro': 1, 'demand': 2, 'feelingood': 1, 'awkward': 1, 'presence': 1, 'killed': 2, 'jacuzzi': 1, 'outage': 2, 'filling': 2, 'im': 58, 'bambling': 1, 'snoring': 1, 'transfered': 2, '99': 1, 'yijue': 6, 'onion': 1, 'greet': 2, 'top': 20, 'adoring': 2, 'control': 1, 'txt43': 1, 'couldn\\x92t': 1, '021': 2, 'proof': 3, 'inconsiderate': 2, 'llc': 1, 'rodds1': 1, 'gautham': 2, 'california': 2, 'tonite': 7, 'queen': 3, 'courtroom': 1, 'evrydy': 2, 'world': 31, 'math': 3, 'dad': 26, 'supervisor': 2, 'touch': 17, 'entrepreneur': 1, 'suzy': 2, 'sac': 1, '6hrs': 3, 'gardener': 2, 'iam': 5, 'barely': 4, 'clear': 2, 'max': 1, '08707500020': 1, 'end': 41, 'doublemins': 1, '£54': 1, 'adding': 1, 'wun': 6, 'tour': 6, 'march': 11, 'get': 292, 'freaking': 1, 'defer': 1, 'moment': 11, 'w8in': 1, 'jules': 1, '47per': 1, '3510i': 5, 'cheesy': 1, 'test': 19, 'tho': 14, 'abstract': 1, '077xxx': 1, 'obese': 1, 'hungry': 9, 'fidalfication': 1, 'zealand': 1, 'loses': 1, 'petticoatdreams': 1, 'darren': 7, 'happend': 3, 'wee': 1, 'ttyl': 3, 'whens': 1, 'netflix': 1, 'angel': 1, 'sigh': 6, 'formally': 1, 'would': 55, 'along': 3, 'glass': 1, 'smartcall': 1, 'shijutta': 1, 'adrian': 1, 'l8r': 5, 'interviw': 1, 'left': 29, 'worc': 1, '£750': 1, 'cola': 1, '786': 3, '08712460324': 5, 'ibuprofen': 1, 'renewal': 2, 'onlyfound': 1, '09064011000': 1, '£71': 1, 'ordinator': 1, 'cheer': 10, 'va': 1, 'cum': 11, 'datebox1282essexcm61xn': 1, 'eldest': 1, 'cool': 36, 'disclose': 2, 'giv': 3, '08002888812': 2, 'sound': 21, '09066382422': 2, 'cell': 5, 'childrens': 1, '20p': 6, 'pay': 24, 'pax': 1, '12mths': 1, 'screamed': 1, 'dodda': 1, 'heron': 1, 'lily': 1, '2667': 1, 'cinema': 7, '800': 11, 'cust': 4, 'orchard': 7, 'randy': 2, 'dusk': 1, 'tncs': 5, 'tablet': 3, 'verify': 2, 'prepare': 3, 'satthen': 1, 'pest': 1, 'dracula': 2, 'fly': 4, 'theplace': 1, '145': 3, '150ppm': 27, 'denying': 1, 'sexychat': 1, 'boyf': 1, 'gotmarried': 1, 'shangela': 1, 'abnormally': 1, 'efficient': 1, 'ffectionate': 1, 'wherevr': 1, 'bold2': 1, '150pm': 4, 'foregate': 1, 'thinked': 1, 'lifebook': 1, 'soiree': 1, 'oath': 1, 'keypad': 1, 'malarky': 1, 'digital': 6, 'aluable': 1, 'choice': 4, 'guarantee': 1, '150ppmpobox10183bhamb64xe': 1, 'triple': 1, 'recently': 7, 'sang': 1, 'cleaning': 4, 'alfie': 2, 'stamp': 2, '930': 2, 'html': 1, 'outside': 10, '08712402902': 1, 'ni8': 14, 'irulinae': 1, 'checkmate': 1, 'toss': 1, 'callcost150ppmmobilesvary': 1, 'broken': 2, 'success': 1, '1winawk': 1, 'salam': 2, 'managed': 2, 'progress': 1, '09071512432': 1, '1': 83, 'brison': 1, 'pg': 2, 'enufcredeit': 1, 'cuddle': 3, 'bulb': 1, 'm60': 1, 'yahoo': 8, 'sometime': 3, 'selflessness': 1, 'housewife': 1, 'reader': 2, 'range': 2, 'wrench': 1, 'screaming': 5, 'explicit': 2, 'lor': 116, '09066358152': 1, '40mph': 1, 'sens': 1, 'george': 1, 'anniversary': 2, 'topped': 1, 'garment': 1, 'selected': 23, 'kath': 1, 'rakhesh': 9, 'onto': 4, 'logon': 1, 'careful': 3, '09065989180': 1, 'button': 1, 'sheet': 2, 'swt': 6, 'iwas': 1, 'antha': 1, 'shoranur': 1, 'patient': 1, 'litre': 1, 'di': 3, 'shanil': 1, 'honest': 1, 'least': 10, 'mcat': 1, 'valuing': 1, 'emerging': 1, 'signing': 2, 'salary': 2, 'sae': 18, 'alwa': 1, 'expect': 3, 'giggle': 1, 'vodafone': 5, 'dependable': 1, 'significance': 1, '09058094594': 1, 'statement': 13, 'instituitions': 3, 'login': 5, 'feb': 5, 'lifting': 1, 'symbol': 2, 'konw': 2, 'kidding': 1, 'largest': 2, 'ollu': 1, '74355': 1, '200': 3, 'preferably': 3, 'prakasamanu': 1, 'apartment': 8, 'mmmmmm': 2, 'moby': 4, 'maintaining': 1, 'www': 79, 'langport': 2, 'sort': 12, '09065171142': 1, 'torch': 4, 'booty': 3, 'inpersonation': 1, 'brainy': 1, 'teacher': 3, 'transaction': 4, 'neighbor': 2, 'nationwide': 1, 'afew': 1, 'speciale': 1, 'theme': 1, 'dvd': 5, 'adventure': 2, 'vday': 2, 'sindu': 1, '1win150ppmx3': 1, 'ternal': 1, 'name': 40, 'slacking': 1, 'darkness': 1, 'strong': 5, 'dnot': 1, 'push': 3, 'coping': 2, 'attended': 1, 'forgive': 1, 'destiny': 1, 'wnevr': 1, 'topic': 1, '89545': 3, 'remembrs': 1, 'naughty': 6, 'worried': 10, 'infront': 2, 'impression': 1, '09061701461': 1, 'pack': 4, 'movie': 21, 'biola': 2, 'arcade': 3, 'teresa': 1, 'italian': 5, 'coz': 21, 'franxx': 1, 'starving': 1, 'mnths': 2, '0a': 1, 'face': 19, 'plural': 1, 'argentina': 1, 'diddy': 1, 'shitload': 2, 'omw': 7, 'confidence': 4, 'onum': 1, 'carly': 1, 'trust': 8, 'beer': 2, 'kodstini': 1, 'maximum': 1, 'drivin': 3, '1b6a5ecef91ff9': 1, 'ü': 115, 'complimentary': 8, 'gynae': 1, 'conversation': 1, 'oclock': 1, 'sway': 1, 'nh': 1, 'date': 20, 'name2': 2, 'mn': 1, 'loud': 2, 'corect': 1, 'part': 23, 'ikno': 1, 'wearing': 3, 'comuk': 3, 'erm': 2, '32': 1, 'lane': 1, 'slaaaaave': 1, 'bowl': 5, 'advising': 1, '£2000': 16, 'nigpun': 1, 'ummmmmaah': 2, 'unni': 1, 'installing': 1, 'goodo': 2, 'landmark': 1, 'm263uz': 2, 'going': 136, 'scraped': 1, 'missed': 20, 'inviting': 5, 'select': 2, 'spageddies': 1, 'nan': 1, 'prolly': 2, 'b4190604': 2, '09061701444': 1, 'named': 2, 'wanting': 3, 'neither': 2, 'slowing': 1, 'value': 4, 'waz': 1, 'activate': 5, 'religiously': 1, '0quit': 1, '08717111821': 1, 'luvd': 1, 'goldviking': 1, 'empty': 2, 'yourjob': 1, 'stomach': 3, 'tog': 3, 'occur': 1, 'hesitate': 1, 'sup': 6, 'peace': 3, 'thirtyeight': 1, 'battle': 2, 'traffic': 1, 'mumhas': 1, 'goin': 18, 'sooner': 3, 'owned': 1, 'ammo': 1, 'frnd': 13, 'alrite': 6, 'prescribed': 1, 'meaning': 3, 'student': 6, 'embarassing': 1, 'gee': 5, 'fm': 1, 'peep': 1, 'offline': 1, 'wisdom': 3, 'mom': 18, 'evry1': 1, 'moseley': 1, '10k': 1, 'verifying': 1, 'juicy': 2, 'weapon': 1, 'evening': 26, 'bong': 1, 'discount': 6, 'jelly': 1, '1x150p': 4, 'bet': 3, 'tomo': 15, 'tgxxrz': 1, 'maintain': 3, 'pop': 1, 'cud': 2, 'anjie': 1, 'bloo': 1, 'dark': 2, 'drunkard': 1, 'guai': 1, '82468': 1, '09058094597': 1, 'talent': 2, 'already': 73, 'anthony': 2, 'vital': 1, 'mailbox': 1, 'center': 2, 'salmon': 1, 'lotsly': 1, 'expose': 1, 'well': 93, 'able': 21, 'personal': 3, 'max£7': 3, 'traveling': 1, 'defeat': 1, 'craziest': 2, 'grow': 2, 'splash': 1, 'us': 1, 'selling': 3, 'error': 2, 'must': 25, '50gbp': 3, 'craving': 1, 'reminds': 1, 'p': 10, 'unintentional': 1, 'timin': 1, 'onam': 1, 'max10mins': 6, '£4': 4, 'bruv': 2, 'avoid': 1, 'cake': 6, 'purpose': 4, 'kb': 3, 'graduated': 1, 'jerry': 1, 'antelope': 1, 'jackpot': 1, 'cup': 8, 'dorm': 2, 'peak': 1, 'lifetime': 2, 'northampton': 2, 'multimedia': 1, 'stopcost': 1, 'kegger': 2, 'm221bp': 1, 'east': 2, 'thought': 37, 'facility': 1, 'anot': 2, 'solve': 3, 'better': 33, 'link': 6, 'fantasy': 8, 'todo': 1, 'xxxxxxxxxxxxxx': 1, 'lotsof': 1, 'emergency': 1, 'flatter': 1, 'anyones': 1, 'soladha': 1, 'othrs': 1, 'tome': 1, 'running': 4, 'lion': 3, 'snot': 1, 'length': 2, 'waaaat': 1, 'one': 134, 'wherre': 1, 'unsold': 3, '24hrs': 2, 'gsex': 1, 'fixedline': 1, 'gt': 202, 'juan': 1, 'joanna': 1, 'claim': 87, 'swann': 1, 'skirt': 1, 'missy': 1, 'box1146': 1, '08717509990': 1, 'jan': 3, 'yetty': 1, 'tree': 4, 'roomate': 1, 'gsoh': 1, 'dartboard': 1, 'surly': 1, 'tactful': 1, 'sr': 1, '80182': 3, 'kickoff': 2, '50perwksub': 2, '0789xxxxxxx': 1, 'pending': 3, 'redeemable': 1, 'din': 7, 'scallies': 1, '1120': 1, 'gr8': 13, '177': 1, 'shracomorsglsuplt': 1, 'erotic': 1, 'mia': 1, 'deepest': 1, 'software': 3, 'spile': 2, 'irritates': 1, 'advise': 2, 'stdtxtrate': 1, 'mmm': 4, 'freek': 1, 'insurance': 3, 'okey': 3, 'letter': 6, 'spelled': 1, '8714714': 1, 'flowing': 1, 'election': 2, 'nuerologist': 1, 'invitation': 1, 'writhing': 1, 'hut': 1, 'marvel': 1, 'lacking': 1, 'bbq': 1, 'countin': 1, 'weigh': 2, 'among': 3, 'starve': 1, 'ntimate': 1, 'deliveredtomorrow': 3, 'wood': 1, 'pilate': 6, 'bless': 3, 'bruce': 2, 'ctxt': 1, 'urfeeling': 1, 'sad': 18, 'company': 16, 'performance': 1, 'beverage': 1, 'hmmm': 12, 'half': 33, 'excellent': 8, 'papa': 1, 'recorder': 1, 'icky': 1, '08715203685': 1, 'subject': 1, 'mnth': 2, 'sumthin': 1, 'canada': 1, 'drop': 14, 'nitw': 1, 'lautech': 1, 'brothas': 3, 'deck': 1, 'dysentry': 1, 'tissco': 2, 'yor': 3, 'blessed': 2, 'jap': 1, 'built': 1, '00': 7, 'xoxo': 1, '08718738001': 1, 'shitinnit': 1, '09066358361': 1, 'violated': 1, '515': 1, 'meeting': 33, 'sleep': 47, 'networking': 3, 'prizeswith': 1, '£500': 17, 'm8': 3, '1hr': 1, 'apologise': 3, 'sender': 3, '0871277810710p': 1, 'fakeye': 1, '08702490080': 1, 'sall': 1, 'withdraw': 1, '5years': 1, 'assumed': 1, 'entitled': 7, 'dob': 1, 'ihave': 1, 'dead': 7, 'difference': 1, 'stopbcm': 1, 'cry': 4, 'dis': 19, 'amla': 1, '28days': 1, 'chk': 1, 'plane': 2, '42810': 1, 'neck': 2, 'regarding': 3, 'spinout': 1, 'style': 6, 'nipost': 1, 'serena': 1, 'exciting': 5, 'slower': 1, '»': 1, '08707509020': 3, 'dormitory': 1, 'evry': 1, '872': 1, 'weight': 5, 'flaked': 3, 'hardcore': 3, 'compass': 1, 'alex': 6, 'living': 4, 'finn': 1, 'dhanush': 1, 'commit': 1, 'signin': 1, 'chez': 1, 'phoned': 2, '8wp': 3, 'ramaduth': 1, 'izzit': 7, 'english': 4, 'true¡c': 1, 'tradition': 1, 'definitly': 1, 'chatlines': 1, 'invoice': 1, 'stopcs': 1, 'tonsolitusaswell': 1, 'jd': 2, 'others': 7, 'pc1323': 1, '30apr': 1, 'mental': 2, '09066380611': 2, 'raglan': 1, 'necessarily': 2, 'lousy': 2, 'planning': 7, 'ava': 1, 'exmpel': 2, 'seventeen': 1, 'sary': 1, 'tarpon': 1, 'guessing': 1, 'hyde': 1, 'zoom': 1, 'storming': 2, 'rugby': 1, 'co': 99, 'eta': 2, 'amount': 4, 'waliking': 1, '83355': 4, 'explosive': 1, 'nope': 12, 'laid': 3, 'coincidence': 1, 'noline': 4, 'recognises': 1, 'dawn': 1, 'flight': 7, 'manage': 2, 'transport': 2, 'depends': 6, '20m12aq': 1, 'write': 8, 'moan': 3, 'file': 5, 'nmde': 1, 'bian': 1, 'dey': 5, 'returning': 1, 'shouted': 2, 'machine': 1, 'victor': 1, 'evng': 5, 'discussed': 1, 'monthlysubscription': 1, 'av': 2, 'aphex\\x92s': 1, 'club4': 1, 'watchin': 1, 'oncall': 1, 'jones': 1, 'merely': 1, '500': 20, 'blur': 1, 'hittng': 1, 'liquor': 1, 'pattern': 2, 'vote': 4, 'borin': 1, 'location': 5, '150p': 53, 'bunker': 1, 'abt': 19, 'gain': 2, 'porn': 3, 'soooo': 1, 'party': 12, 'practice': 4, 'sum': 2, 'eaten': 1, 'mutai': 1, 'down': 1, 'wml': 2, '84025': 1, '£6': 1, 'ratio': 1, 'scoring': 2, 'book': 22, 'rebel': 1, 'aberdeen': 1, 'taste': 2, 'condition': 4, '2814032': 1, 'pandy': 2, 'mylife': 1, 'career': 4, '£250k': 2, 'gf': 2, 'attitude': 1, '08712317606': 2, '29': 3, 'sip': 2, 'bw': 1, '7th': 3, '‘': 22, 'actin': 1, 'posh': 1, '08706091795': 1, 'wahala': 1, 'urgent': 52, 'republic': 1, 'period': 3, 'hunk': 1, 'dismissial': 1, 'ba': 1, 'wale': 3, 'anyway': 24, 'gravity': 2, 'jumper': 1, 'xin': 1, 'lunsford': 1, 'apologize': 1, 'postal': 1, 'ls15hb': 1, 'natwest': 1, 'broad': 2, 'inc': 6, 'coaxing': 1, 'org': 1, '£350': 6, 'kadeem': 3, 'mandan': 2, 'shakara': 1, '169': 1, 'wherever': 4, 'lady': 8, 'buff': 3, 'spider': 1, 'testing': 2, 'lotr': 2, 'freaked': 1, 'grooved': 1, 'janinexx': 1, 'ovulation': 2, 'transferred': 1, 'overdose': 1, '449071512431': 1, 'wheat': 1, 'wth': 1, 'true': 20, 'wan2': 2, 'tyler': 5, 'kalstiya': 1, '08002986906': 3, 'busetop': 1, 'gonnamissu': 1, 'starting': 8, 'url': 4, 'whassup': 1, 'salesman': 1, 'styling': 1, 'lambda': 1, 'pen': 2, 'reapply': 1, 'leading': 1, 'base': 1, 'rhythm': 1, 'delivery': 18, 'funky': 1, 'everytime': 1, '18p': 1, 'goodtime': 1, 'outdoors': 1, 'vague': 1, '1thing': 1, 'dialling': 1, 'avalarr': 1, 'den': 20, 'together': 18, 'kept': 6, 'wise': 3, 'prabu': 1, 'regretted': 1, 'wipro': 2, 'frog': 1, 'reservation': 1, 'wright': 1, 'hospital': 8, 'specific': 2, 'engin': 2, 'vip': 3, 'anythingtomorrow': 1, 'ducking': 1, 'happen': 16, 'opener': 1, 'lux': 2, '1000': 4, 'hitler': 1, 'abdomen': 1, '674': 2, 'wait': 55, 'twilight': 2, 'sday': 1, 'hdd': 1, 'combine': 1, 'nasdaq': 1, '9yt': 1, 'prepared': 2, 'sk3': 3, 'wi': 1, 'deluxe': 1, 'freely': 1, 'chinchilla': 1, 'consent': 1, 'widelive': 2, 'bridge': 1, 'attend': 3, 'usb': 1, 'three': 4, 'mother': 6, 'xuhui': 3, 'ofice': 1, 'wknd': 1, 'week': 98, 'desire': 2, 'name1': 2, 'idea': 10, 'announcement': 5, 'download': 6, 'involved': 1, 'connect': 3, 'make': 96, 'net': 16, 'courage': 1, 'plus': 17, 'surrounded': 1, 'behave': 2, 'mornin': 2, 'silly': 1, 'sit': 7, '80488': 3, 'icicibank': 2, 'maangalyam': 2, 'celeb': 2, 'text': 166, 'illness': 1, 'transfred': 1, 'wihtuot': 2, 'fo': 1, 'callcost': 2, '762': 1, 'bak': 7, 'racing': 1, 'cali': 2, 'ability': 2, 'dentist': 2, '24': 4, 'tht': 7, 'trend': 1, 'hole': 1, 'bath': 8, 'jog': 1, 'rct': 1, '6pm': 2, 'scenario': 1, 'nvq': 1, 'useful': 1, 'safely': 1, 'contains': 1, 'shud': 1, 'free2day': 1, 'pump': 1, 'sem': 2, 'box245c2150pm': 1, 'meow': 1, 'm39m51': 1, 'ia': 2, 'afterwards': 1, 'engagement': 1, 'em': 9, 'suffering': 1, 'audiitions': 1, 'landing': 1, 'beforehand': 1, 'regular': 2, 'cann': 3, 'ipads': 1, '3lp': 3, '08712400603': 1, 'txts': 9, 'el': 1, 'player': 17, 'though': 23, 'ritten': 1, 'jstfrnd': 3, 'dao': 1, 'exercise': 1, 'time': 190, 'crucial': 1, 'understood': 3, 'country': 5, 'requirement': 1, 'surprised': 3, 'previously': 3, 'cruel': 1, 'cashto': 1, 'yetunde': 4, 'refused': 3, 'theatre': 5, 'aunty': 2, 'gopalettan': 1, '\\x93harry': 1, 'opposite': 1, 'looking': 20, '6ph': 1, 'costa': 7, 'phil': 1, 'chat': 38, 'cant': 49, 'rdy': 1, '1apple': 1, 'peach': 1, 'burning': 2, 'fab': 2, 'acc': 5, 'don\\x92t': 3, 'upgrade': 3, 'treated': 2, 'school': 21, 'meaningless': 1, 'payee': 2, 'reunion': 1, 'detail': 24, 'minute': 41, 'thrown': 1, 'spiritual': 1, 'job': 32, 'sponsor': 1, 'oooooh': 1, 'cutefrnd': 3, 'watevr': 1, 'coupla': 1, 'smiled': 1, 'ful': 3, 'low': 2, 'repeat': 2, 'app': 4, 'nearby': 1, 'advice': 2, 'opinion': 8, 'mahaveer': 1, 'fastest': 2, 'gbp': 2, 'yavnt': 1, 'braved': 1, 'fifteen': 4, 'truth': 7, 'lose': 10, 'miiiiiiissssssssss': 1, 'rt': 1, 'chillin': 3, 'texd': 1, 'fated': 1, 'monthly': 1, 's3xy': 1, 'several': 2, 'coulda': 1, 'partner': 2, 'pocay': 1, 'technical': 3, 'package': 4, 'reception': 1, 'nb': 2, 'neglet': 1, 'enough': 24, 'show': 51, 'wenwecan': 1, 'everywhere': 2, 'clubzed': 1, 'dem': 4, 'winnersclub': 1, 'brb': 1, 'cbe': 3, '9280114': 1, 'cuddling': 2, 'probthat': 1, 'expensive': 3, '£900': 4, 'samantha': 1, 'needa': 1, 'insha': 2, 'sextextuk': 1, 'textcomp': 3, 'token': 1, 'groovy': 1, 'sub': 10, 'submitting': 1, 'john\\x94': 1, 'treble': 1, 'bawling': 1, 'despite': 1, '4years': 1, 'volcano': 1, 'booking': 3, 'java': 4, 'simpler': 1, 'subtoitles': 1, 'minuts': 4, 'laden': 1, 'aboutas': 1, '05': 4, 'university': 1, 'bmw': 2, 'prasanth': 1, 'fox': 1, 'kochi': 1, 'victoria': 1, 'didntgive': 1, '84128': 3, 'urgh': 1, 'apply': 26, 'matric': 1, 'pile': 1, 'customersqueries': 1, 'join': 18, 'self': 7, 'leona': 4, 'companion': 1, 'cozy': 1, 'receivea': 1, 'worse': 6, 'scared': 2, '3pound': 1, 'scenery': 1, 'praise': 1, 'snickering': 1, 'inde': 1, 'begin': 6, 'manda': 3, 'bellearlier': 1, 'pressies': 1, 'shocking': 2, '100percent': 1, 'collected': 2, 'formal': 1, 'maid': 5, 'organise': 1, 'fire': 3, 'vava': 2, 'dobby': 2, 'hitter': 1, 'hate': 5, '09065069154': 1, 'massage': 2, 'swashbuckling': 1, 'akon': 1, 'box': 23, 'converted': 1, 'chloe': 1, 'box334': 1, 'vu': 2, 'avatar': 3, 'boltblue': 1, 'done': 37, '61610': 2, 'message': 91, 'nz': 1, 'ivatte': 1, 'elaya': 1, '2wt': 2, 'behind': 4, 'know': 203, 'jacket': 1, 'ready': 33, 'index': 2, 'watching': 26, 'flat': 3, 'noice': 1, 'railway': 3, 'difficult': 10, 'minnaminunginte': 3, 'brum': 1, 'polyph': 2, 'infra': 1, '08719180219': 1, 'gossip': 2, 'watt': 1, 'clas': 1, 'moon': 5, 'zyada': 1, 'notification': 1, 'invnted': 2, 'liao': 31, 'dine': 1, 'uworld': 1, 'joke': 6, 'ft': 1, 'effect': 3, 'babygoodbye': 1, 'tattoo': 1, 'phyhcmk': 1, 'tming': 1, 'goin2bed': 1, 'lim': 1, 'buyer': 2, 'losing': 2, 'bend': 1, 'afternoon': 25, 'breakin': 1, 'freak': 3, 'retard': 1, 'psychologist': 1, 'plaid': 1, 'sound\\x92s': 1, 'strip': 1, 'lionm': 2, 'olol': 1, 'desparately': 1, 'drunken': 2, 'model': 6, 'bunch': 1, 'whereare': 1, 'upset': 3, 'favour': 4, 'five': 5, 'rem': 3, 'bull': 1, 'frens': 6, 'patent': 1, 'soc': 1, 'eire': 1, 'hypotheticalhuagauahahuagahyuhagga': 1, 'recorded': 1, 'std': 11, 'hols': 3, 'sleepwell': 1, 'dbuk': 1, 'swoop': 1, 'speaking': 2, 'billy': 1, 'unnecessarily': 1, 'definite': 2, 'normally': 3, 'cm': 2, 'battery': 6, 'lodging': 1, 'hurried': 2, 'playing': 4, 'rply': 10, 'kotees': 1, 'forgot': 27, 'harri': 1, 'praveesh': 1, 'jackson': 1, '41685': 2, 'smashed': 2, 'bac': 1, 'qi': 1, '09063458130': 2, 'chasing': 3, 'bathing': 3, 'tahan': 2, '4217': 1, 'christmassy': 1, 'x29': 1, '84199': 3, 'day': 209, 'philosophical': 1, 'parco': 2, 'maximize': 6, 'outrageous': 1, 'flim': 1, 'specify': 1, '8th': 4, 'city': 4, 'ph': 2, 'calm': 1, 'neshanth': 1, 'flaky': 1, 'british': 1, '2b': 1, 'uhhhhrmm': 1, 'cnn': 2, 'com': 53, 'radio': 4, 'handsomes': 1, 'l': 3, 'nap': 3, 'hogli': 1, 'freephone': 7, 'iraq': 1, '89938': 1, 'i\\x92ve': 1, 'outbid': 1, 'ac': 9, '87066': 11, 'increment': 2, 'july': 3, 'way2sms': 1, 'asia': 1, 'capacity': 1, 'free': 183, 'toxic': 1, 'spending': 4, 'birth': 2, 'childporn': 1, 'congratulation': 13, 'express': 2, 'interesting': 4, '66': 1, 'yes': 85, 'prakasam': 1, 'stayin': 2, 'cdgt': 1, 'body': 4, 'spirit': 1, 'holy': 1, 'tightly': 1, 'b\\x92day': 2, 'thankyou': 1, 'deep': 8, 'r836': 1, 'plz': 12, 'waiting': 49, 'sunoco': 1, 'outsider': 1, 'com1win150ppmx3age16': 3, '861': 2, 'ay': 1, 'barmed': 1, '3030': 6, 'hustle': 1, 'specialisation': 1, 'cine': 7, 'wizzle': 1, 'champneys': 1, 'query': 1, 'passed': 3, 'passable': 1, 'kaitlyn': 1, 'spook': 2, 'gudnite': 3, 'guoyang': 1, 'fink': 1, 'dd': 1, 'ar': 6, 'acl03530150pm': 1, 'terminated': 1, '02085076972': 1, 'yep': 10, 'pole': 2, 'newport': 1, 'ofcourse': 1, 'kalaachutaarama': 1, 'run': 21, 'receipt': 4, '09050000555': 1, 'smaller': 1, 'peripheral': 1, 'gower': 1, '850': 1, 'de': 15, 'hallaq': 2, 'wnt': 3, 'look': 32, 'vibrant': 1, 'initiate': 1, 'saeed': 1, '0796xxxxxx': 1, 'fifth': 1, 'nav': 1, 'invited': 11, 'fiend': 1, 'ma': 3, 'cut': 8, 'experience': 7, 'fight': 6, 'treat': 11, 'replying': 7, 'westshore': 1, 'situation': 5, 'vodka': 1, 'studying': 8, 'darlin': 15, 'accomodations': 1, 'lkpobox177hp51fl': 1, 'lastest': 1, 'idiot': 4, 'turkey': 1, 'virtual': 1, '£2': 10, 'shared': 1, 'century': 1, '2u': 3, 'happens': 7, 'no': 1, 'stand': 7, 'monkey': 3, 'missin': 2, 'listening2the': 1, 'truble': 1, 'register': 3, 'kodthini': 1, 'aroundn': 1, '3days': 1, 'cuddled': 1, 'flower': 4, 'marrge': 1, 'priya': 1, 'brings': 5, 'meh': 6, 'placed': 1, 'improved': 2, 'possessive': 1, 'offdam': 1, 'used': 11, 'accept': 5, 'immunisation': 1, '0871750': 1, 'science': 3, 'kay': 2, 'tscs087147403231winawk': 2, '5free': 2, 'eightish': 1, 'eventually': 1, 'basically': 3, 'otbox': 1, 'heavily': 1, 'dec': 1, '4info': 2, 'pm': 17, 'exhausted': 2, 'wad': 1, 'badly': 1, 'muchand': 1, 'suggest': 3, 'tkls': 1, 'elephant': 1, 'mite': 3, 'shoe': 1, '08712405020': 4, 'mesages': 2, '1tulsi': 1, 'fifa': 1, 'sherawat': 1, 'user': 7, 'imagine': 6, 'glory': 1, 'del': 9, 'record': 7, 'harish': 1, 'everythin': 1, 'hesitation': 1, 'tron': 1, 'praying': 3, '4a': 2, 'opt': 15, '4403ldnw1a7rw18': 1, 'jade': 1, '\\x91rents': 1, 'str': 1, '8am': 2, 'nite': 19, 'mine': 16, 'belive': 1, 'update': 18, 'exchanged': 1, 'lucyxx': 1, 'oxygen': 1, 'hiding': 1, 'panicks': 1, 'typical': 1, 'suggestion': 2, 'ola': 2, 'bailiff': 1, '5pm': 2, 'concerned': 1, 'dual': 1, 'true18': 1, 'carlie': 1, 'sickness': 1, 'little': 27, 'ex': 9, 'cheered': 1, 'rpl': 1, 'by\\x94leafcutter': 1, 'dieting': 1, 'takin': 2, 'couple': 9, 'edge': 2, '09061104276': 1, 'shesil': 2, 'item': 2, 'jordan': 4, 'calculation': 1, 'cha': 3, 'grahmbell': 2, 'absolutely': 1, 'asjesus': 1, 'romcapspam': 1, 'refund': 1, 'kiss': 28, 'bright': 2, 'bros': 1, 'title': 4, 'en': 1, 'texting': 6, 'wen': 21, '08712404000': 1, 'bcoz': 9, 'clearly': 1, 'said': 65, 'gucci': 1, 'reverse': 2, 'sea': 12, 'pretend': 1, 'yi': 1, '087018728737': 1, 'n': 98, 'coming': 34, 'luck': 11, 'talk': 38, 'spam': 1, 'drivby': 1, 'pray': 8, 'upto': 3, 'count': 2, 'toilet': 1, 'google': 2, 'sculpture': 1, '121': 2, 'tui': 1, '09061213237': 1, 'ffffuuuuuuu': 1, 'careabout': 1, 't4get2text': 1, 'network': 26, 'comfort': 1, 'burden': 1, 'bowa': 1, 'yay': 4, 'restaurant': 1, '530': 5, 'astoundingly': 1, 'late': 45, 'tmr': 24, 'felt': 13, 'module': 3, 'fredericksburg': 1, 'tank': 2, '09061221066': 4, 'checked': 5, 'bonus': 14, 'cr9': 4, 'oh': 90, 'overheating': 1, 'shd': 4, 'yeah': 62, '08714712379': 1, 'sayy': 1, 'jus': 20, 'cream': 4, 'admin': 2, 'dislike': 3, 'grandma': 2, 'listed': 1, 'praps': 1, 'nokia6600': 2, 'urself': 5, 'sweater': 1, 'adventuring': 1, 'elsewhere': 3, '2morrow': 3, '09058094454': 1, 'deny': 1, 'prevent': 1, 'eastenders': 1, 'i\\x92llspeak': 1, 'profile': 2, 'goggles': 1, 'popcorn': 1, 'ad': 6, 'kip': 1, '09058095107': 1, 'understanding': 2, 'natural': 2, '2nights': 1, 'juz': 13, 'involve': 1, 'dificult': 3, 'wkg': 2, 'cheque': 1, 'august': 2, 'curious': 2, 'privacy': 1, 'mystery': 1, 'mobile': 112, 'abj': 2, 'let': 76, 'imp': 1, 'babysitting': 1, 'ml': 1, 'uh': 1, 'mon': 8, 'description': 1, 'ummma': 1, 'looked': 5, 'onwards': 3, 'eh': 10, 'jaklin': 1, 'arranging': 1, 'muhommad': 1, 'wrongly': 1, 'outta': 3, 'hex': 2, 'ourbacks': 1, 'ovr': 1, 'capital': 2, 'restock': 1, 'revealing': 1, 'exam': 13, 'w': 15, 'obey': 1, 'listn': 1, 'senrd': 1, 'miss': 57, 'minmobsmorelkpobox177hp51fl': 3, 'desperate': 2, 'rub': 2, 'cost': 28, 'lovely': 11, 'abbey': 1, '87070': 1, 'w1a': 1, 'palm': 1, 'skint': 1, 'frnds': 13, 'yupz': 1, 'also': 58, 'sign': 5, 'promo': 2, 'club4mobiles': 1, 'admission': 1, '08715203028': 1, 'watever': 2, 'xxxxxxx': 1, '80878': 2, 'ammae': 1, 'payment': 2, 'correct': 9, 'lnly': 1, 'nokias': 2, 'active': 2, 'issue': 7, 'reslove': 1, 'required': 1, 'yoville': 1, 'smell': 1, 'toking': 1, 'carton': 1, '3uz': 3, 'weekend': 34, 'course': 12, 'awesome': 17, 'woke': 8, 'handset': 6, 'forever': 7, 'fave': 2, 'meal': 5, 'wanted': 21, '30pm': 1, 'hmmmm': 1, 'tddnewsletter': 1, 'actual': 1, 'hp': 1, 'pocketbabe': 2, 'gudnyt': 1, 'website': 6, 'water': 8, 'custcare': 8, 'madodu': 1, '09099726481': 1, 'go': 229, 'mind': 31, 'newsletter': 1, 'help': 45, 'responsible': 1, 'increase': 1, '2mrw': 4, 'yo': 26, 'unless': 5, 'hence': 2, 'boyfriend': 1, 'weddingfriend': 1, 'mr': 10, 'thandiyachu': 1, 'devil': 1, 'sorrow': 2, 'dosomething': 1, 'home': 141, 'misscall': 1, 'height': 3, 'suganya': 1, 'korean': 1, 'nevamind': 1, 'maybe': 25, '2c': 2, 'emigrated': 1, 'finest': 1, 'prod': 1, 'frankie': 1, 'flew': 1, 'police': 4, 'clean': 10, 'fulfil': 1, 'pei': 1, 'giving': 5, 'golddigger': 1, 'optin': 1, 'hair': 13, 'a£50': 1, 'walkin': 1, 'jada': 4, 'in2': 3, 'indeed': 1, 'minmobsmore': 1, 'sick': 9, 'unsubscribe': 15, 'comedy': 3, '0089': 1, 'survey': 2, 'training': 6, 'cardiff': 2, '731': 1, 'complacent': 1, 'starwars3': 2, 'maretare': 1, '18yrs': 3, 'portion': 1, '£s': 1, '08701752560': 1, 'lecture': 3, '08712400602450p': 2, 'poop': 2, 'burrito': 1, 'speedchat': 1, '4xx26': 1, 'as': 10, 'faded': 1, 'sar': 2, 'hellogorgeous': 1, 'proper': 1, 'abi': 2, '1225': 1, 'mecause': 1, 'two': 31, 'unfolds': 1, 'cashbin': 1, 'lotta': 2, 'string': 1, 'b4': 12, 'disappointment': 1, 'zouk': 1, 'etlp': 1, 'tait': 1, 'creep': 1, 'problematic': 1, 'sagamu': 1, 'attach': 1, 'everyones': 1, 'phne': 2, 'mrng': 13, 'siva': 1, 'restocked': 1, 'i\\x92m': 3, 'premarica': 1, 'dealing': 2, 'shola': 1, 'search': 10, 'underwear': 2, 'calicut': 3, 'cave': 1, '30pp': 2, 'identifier': 13, 'placement': 1, 'biggest': 4, 'olowoyey': 1, 'spice': 1, 'evil': 1, '087016248': 1, 'yuo': 2, 'kz': 1, 'amrita': 1, 'speed': 2, 'friend': 85, 'pobox': 13, 'bell': 2, 'biatch': 1, 'opportunity': 4, 'box61': 1, '123': 2, 'freefone': 4, 'belligerent': 1, '12hours': 1, 'readiness': 1, 'ji': 1, 'woah': 1, 'install': 1, 'wld': 2, 'rvx': 1, 'suddenly': 1, 'pro': 2, 'crossing': 1, 'tessy': 2, 'mk45': 2, 'ctter': 1, 'sportsx': 1, 'ummifying': 1, 'trying': 36, 'acid': 1, 'mid': 5, 'valuable': 3, 'folk': 1, '80082': 2, 'uptown': 1, 'else': 17, 'cricketer': 2, 'goodmate': 1, 'enuff': 2, 'txtstop': 1, '10am': 4, 'factory': 1, 'beneficiary': 2, 'grin': 9, 'distance': 3, 'motorola': 9, 'could': 43, 'riley': 1, 'wasnt': 1, 'revision': 1, 'wudn': 1, 'decision': 4, 'saucy': 2, 'handing': 1, 'jabo': 1, 'gang': 2, 'tranquility': 1, '10th': 1, 'verified': 2, 'reltnship': 1, 'straight': 3, 'power': 4, 'molested': 1, 'xxuk': 1, 'disappeared': 1, 'howdy': 1, '1131': 1, 'comb': 1, 'monoc': 1, 'waheed': 1, 'halla': 1, 'duo': 1, 'cnl': 1, 'stylist': 1, 'kuch': 1, 'care': 60, 'ditto': 1, 'dai': 2, 'amused': 1, 'arrested': 4, 'drinkin': 2, '8007': 10, 'grab': 1, 'someplace': 1, 'temple': 3, 'misfit': 1, 'nte': 1, 'artist': 1, '1st4terms': 1, 'priest': 1, 'ubandu': 1, 'picked': 7, 'dictionary': 2, 'o': 1, 'panther': 1, 'skateboarding': 1, 'actor': 2, 'hopeu': 1, 'dot': 2, 'ibh': 2, 'wthout': 1, 'upping': 1, 'playng': 1, 'xmas': 19, 'nydc': 1, 'cleared': 2, 'machan': 3, 'itcould': 2, 'education': 1, 'ha': 6, 'sunny': 6, 'anythiing': 1, 'shorter': 3, 'laptop': 10, 'funk': 1, 'shakespeare': 1, 'swear': 1, 'bout': 15, 'breathe1': 1, 'returned': 3, 'possibly': 1, '6th': 3, 'aiyar': 4, 'archive': 1, 'prefer': 2, 'single': 8, 'raj': 2, 'vijay': 3, 'eighth': 1, 'buzz': 5, 'achieve': 1, 'ibn': 2, 'quitting': 1, 'considering': 3, 'status': 2, 'chain': 3, 'minmoremobsemspobox45po139wa': 1, 'excited': 1, 'helpline': 1, 'sometext': 1, 'everyone': 13, 'early': 27, 'ym': 5, 'press': 12, '’': 2, 'forgt': 1, 'apple': 1, 'studentfinancial': 1, 'arrive': 6, 'ú1': 1, 'cuck': 1, 'lrg': 1, 'libertine': 1, 'tomeandsaid': 1, 'thats': 36, 'tax': 1, 'happenin': 1, 'jb': 1, 'lect': 7, '10ppm': 2, 'fresh': 1, 'smiling': 15, 'invite': 2, 'sambar': 1, 'burn': 3, 'urgran': 1, '82050': 2, 'great': 93, 'corvette': 1, '153': 2, 'alwys': 2, 'crammed': 1, 'nickey': 1, 'step': 2, 'stranger': 3, '4th': 5, '7': 32, 'interview': 4, 'delivered': 4, 'slot': 1, '60p': 5, '450p': 1, 'grocer': 1, 'makin': 1, 'flirting': 1, 'animation': 2, 'viva': 2, 'mrt': 8, 'geeeee': 2, 'chicken': 1, 'shop': 18, 'mm': 7, 'chrgd': 1, 'somone': 1, 'webeburnin': 1, 'printed': 2, 'freemsg': 10, 'divorce': 1, 'rain': 7, 'doke': 1, 'owns': 2, 'dreamz': 1, 'favor': 2, 'bottle': 1, 'waking': 4, 'travelled': 1, 'yuou': 1, '645': 1, 'thursday': 4, 'checkin': 1, 'journey': 1, 'remembr': 2, 'remixed': 1, 'theoretically': 1, 'ah': 29, 'possessiveness': 1, 'hussey': 1, 'sun': 12, 'rise': 1, '2005': 3, 'picking': 8, 'hoping': 7, '3680': 2, 'lib': 2, '078498': 1, 'olave': 1, 'tell': 115, 'x49': 1, 'spatula': 1, 'wrking': 1, 'concentrate': 3, 'hsbc': 2, '07946746291': 1, '01223585334': 2, 'pace': 1, '4utxt': 1, 'ahmad': 6, '300': 4, 'gnt': 2, 'okay': 21, 'sure': 56, 'posted': 6, 'orno': 1, 'somethin': 4, 'note': 5, 'tmrw': 1, 'korli': 1, 'nokia6650': 1, 'phone': 112, '9pm': 3, 'mint': 1, 'howu': 1, 'hectic': 1, 'foundurself': 1, 'ldnw15h': 3, 'jokin': 2, 'tocall': 1, 'towards': 7, '523': 1, 'fool': 5, 'planned': 7, 'scary': 2, 'blame': 3, '89123': 1, 'rd': 2, 'happening': 7, '09071517866': 1, 'fujitsu': 2, 'hanging': 4, 'sink': 1, 'spreadsheet': 1, 'blah': 1, 'rr': 1, '08452810073': 3, 'grinder': 1, '08712400200': 1, 'comp': 11, 'kl341': 1, 'dr': 2, 'fudge': 1, 'footie': 1, 'instant': 1, 'efreefone': 1, 'heater': 1, 'realizes': 1, 'jam': 1, 'reading': 12, 'fat': 6, 'prasad': 1, '2years': 1, 'eatin': 6, 'cheating': 2, 'red': 9, '9t': 2, 'cooked': 2, 'k718': 1, 'purity': 4, 'quickly': 3, 'every1': 1, 'cliff': 1, 'iscoming': 3, 'leh': 23, 'etc': 9, '08717898035': 3, 'tunde': 1, 'caroline': 2, 'mission': 1, 'urawinner': 4, 'mathematics': 2, '08714712412': 1, 'insect': 1, 'lucky': 15, 'prove': 2, 'stoptxtstop£1': 1, 'pint': 1, 'resort': 1, 'professor': 2, 'stifled': 1, 'nearly': 3, 'algebra': 1, 'celebrated': 1, 'nutter': 1, 'replied': 6, '08000839402': 10, 'bfore': 1, 'sooo': 1, 'mag': 2, 'e': 69, 'fuuuuck': 1, 'sf': 1, '2end': 2, 'important': 22, 'gv': 2, 'closed': 5, '80086': 2, 'jason': 3, 'pound': 23, 'babe': 69, 'mostly': 2, 'forget': 14, 'however': 6, 'gamestar': 2, '07734396839': 2, 'vomitin': 1, 'gona': 2, 'shagged': 2, 'gray': 1, 'enc': 1, 'til': 23, 'dose': 1, 'themob': 4, 'shattered': 1, '83222': 3, 'conference': 1, 'payed2day': 1, '128': 1, 'updat': 1, 'trav': 1, 'dint': 4, 'disaster': 2, 'shortly': 3, 'predicting': 1, 'grownup': 1, 'torture': 1, 'problem': 35, '2p': 1, 'iknow': 1, 'parantella': 1, 'ron': 4, 'match': 12, 'golden': 1, 'lasagna': 1, '09063442151': 1, 'sing': 2, '08712402050': 2, 'sooooo': 2, 'access': 7, 'urgoin': 1, 'probpop': 1, 'aproach': 2, 'responsibility': 1, 'pouch': 1, 'asusual': 1, 'unkempt': 2, 'needy': 1, 'fund': 1, 'arngd': 1, 'lara': 1, 'fusion': 1, 'saristar': 1, 'stolen': 1, 'nver': 1, 'rv': 1, 'bathe': 9, 'earth': 5, 'decent': 1, 'prince': 3, 'chord': 1, 'earliest': 1, 'yet': 41, 'removal': 2, 'isaiah': 1, 'changed': 5, '2yr': 1, 'revealed': 4, 'twelve': 3, 'quiteamuzing': 1, '08712402578': 1, 'apology': 1, 'someone': 48, 'pokkiri': 1, 'vat': 1, 'nuther': 1, 'ecstacy': 1, 'pickle': 2, 'ups': 1, 'christmas': 10, 'r': 127, '300p': 1, 'created': 4, 'spoiled': 2, 'sufficient': 2, 'negative': 1, 'hvae': 1, 'previous': 2, 'invader': 2, 'nange': 1, 'split': 1, 'successful': 2, 'inclu': 1, 'foley': 2, 'bay': 4, 'carry': 2, 'stereo': 1, 'hubby': 3, 'offcampus': 1, 'sol': 7, 'famous': 1, 'grl': 1, 'ticket': 13, 'oblivious': 1, 'loyalty': 6, 'becoz': 4, 'wrnog': 2, 'report': 3, 'feed': 1, 'batt': 1, 'thenampet': 1, 'fixed': 8, 'powerful': 1, 'hesitant': 1, 'umma': 5, 'junna': 1, '0906346330': 1, 'wiv': 6, 'win150ppmx3age16': 1, 'billed': 2, 'rich': 2, 'dudette': 1, 'gibbs': 1, 'tke': 1, 'bread': 2, 'instruction': 2, 'beendropping': 1, 'constantly': 3, 'friendsare': 1, 'masteriastering': 1, 'galileo': 2, 'crowd': 1, 'tigress': 1, 'perform': 1, 'rcvd': 6, 'bluff': 2, 'reffering': 1, 'morn': 3, '£600': 1, 'reasonable': 2, 'aldrine': 1, 'proove': 1, 'ordered': 4, 'dropped': 4, 'took': 14, 'planet': 2, 'pleassssssseeeeee': 1, 'brighten': 1, '09094646899': 2, 'yoyyooo': 1, 'nurse': 1, 'soonlots': 1, 'irritated': 1, 'pesky': 1, '4thnov': 1, 'exp': 1, 'shld': 3, 'preponed': 1, '526': 1, '50p': 7, '15pm': 1, 'wan': 70, 'biro': 1, 'lololo': 1, 'an': 8, 'murder': 3, 'reward': 6, 'smsrewards': 1, 'tonight': 47, 'theater': 1, 'aid': 2, 'cherish': 2, 'dizzee': 1, 'dreading': 1, 'm6': 2, '86688': 15, 'selfindependence': 1, 'soup': 3, 'shoul': 1, 'keep': 54, '083': 1, '1cup': 1, 'abel': 1, 'pose': 1, 'urmom': 1, 'wake': 23, 'only1more': 1, 'harder': 1, 'yunny': 1, '07880867867': 1, 'particular': 1, '80608': 2, 'hostile': 1, '0871277810910p': 1, 'gyno': 1, 'complaint': 2, 'surname': 1, 'sic': 1, 'image': 2, 'closingdate04': 1, 'terrible': 3, 'adult': 5, 'weighed': 1, 'tick': 1, 'foot': 3, 'pressure': 1, 'kusruthi': 4, 'dignity': 2, 'eleven': 1, '4give': 1, 'erupt': 1, 'equally': 1, 'hurry': 5, 'haiz': 2, '21': 5, 'lik': 5, '07008009200': 1, '08712402972': 1, 'reliant': 1, 'staring': 1, 'table': 2, 'gbp4': 1, 'pass': 1, 'nat27081980': 2, 'textoperator': 1, '09066649731from': 1, 'provider': 1, 'abiola': 9, 'visionsms': 2, 'united': 1, '08718727870': 4, 'warranty': 1, 'msg150p': 2, 'building': 3, 'ish': 4, 'thread': 2, 'nacho': 1, 'uk': 61, 'likely': 2, 'buffy': 1, 'billion': 2, 'beauty': 2, 'callin': 3, 'legal': 4, 'concentrating': 1, 'call09050000327': 2, 'milk': 3, 'gnarl': 1, 'borderline': 1, 'blown': 1, '08718711108': 1, 'mum': 19, 'reaching': 5, 'superior': 2, 'i\\x92l': 1, 'figure': 10, 'ujhhhhhhh': 1, 'sleeping': 15, 'offered': 1, 'age16': 8, 'paypal': 1, 'cudnt': 1, 'sympathetic': 1, 'rather': 6, 'promise': 9, 'xy': 7, 'fatty': 1, 'standing': 2, 'varunnathu': 1, 'club': 15, 'urgently': 2, 'sittin': 1, 'winterstone': 1, '09050002311': 2, 'cst': 1, 'dating': 14, 'dabooks': 1, 'boy': 24, 'anybody': 4, 'macha': 1, 'deviousbitch': 1, 'marking': 1, '3mins': 3, 'bcums': 3, 'brolly': 1, 'skillgame': 3, 'awarded': 26, 'margaret': 2, 'chapel': 1, 'stil': 1, 'paid': 2, 'ofsi': 1, 'fifty': 1, 'prem': 1, 'loo': 1, 'yer': 3, 'hank': 1, 'tones2u': 1, 'market': 1, 'cook': 3, 'tight': 2, 'badrith': 1, 'convinced': 1, 'exhaust': 2, 'mix': 2, 'clubsaisai': 1, 'un': 10, 'chart': 3, 'hl': 3, 'consider': 2, 'head…': 1, 'tool': 2, 'brownie': 1, 'jeetey': 1, 'crazy': 9, 'cab': 1, 'weather': 7, 'electricity': 1, 'oli': 1, 'wine': 6, 'field': 2, 'deduct': 1, 'c52': 2, 'psychiatrist': 1, 'infact': 1, 'phb1': 1, 'year': 62, 'shortcode': 1, 'dontplease': 1, 'disconnected': 1, 'gender': 2, 'kind': 12, 'syrup': 1, 'permission': 2, 'tease': 2, 'threat': 3, 'scrounge': 2, '300603': 2, 'edition': 1, 'pant': 1, 'dict': 1, 'that2worzels': 1, 'fever': 3, 'loan': 9, 'appointment': 3, 'box334sk38ch': 1, 'sky': 2, 'walked': 2, 'aiyo': 5, 'gailxx': 1, 'preschoolco': 1, 'floor': 3, 'shove': 1, 'polo': 1, 'cps': 1, '09058097218': 1, 'wats': 6, 'wildlife': 1, '£200': 6, 'delete': 1, 'xxxx': 4, 'large': 1, 'isnt': 6, 'cooperative': 1, 'expression': 2, '08712103738': 1, 'teasing': 4, 'fold': 1, 'eng': 3, 'replys150': 1, 'setting': 6, 'ingredient': 1, 'lool': 1, 'opposed': 1, 'secretly': 1, 'reason': 14, 'received': 4, 'thekingshead': 1, '07821230901': 2, 'tortilla': 2, 'haha': 40, 'huge': 2, 'tuition': 3, 'edukkukayee': 1, 'project': 13, 'disturbance': 1, '09061221061': 1, 'n9dx': 2, '83600': 2, 'begun': 1, 'jez': 1, 'selection': 3, 'september': 1, 'lifpartnr': 3, 'quoting': 3, '£50award': 1, '–': 3, 'disc': 1, 'reboot': 2, 'p£3': 1, 'tscs08714740323': 1, 'witot': 1, 'ipod': 11, 'believe': 17, 'lyf': 1, 'correctly': 1, 'screen': 2, 'thanks': 59, '09053750005': 1, 'stubborn': 1, 'ti': 5, 'sphosting': 1, '08006344447': 2, 'tv': 25, 'smart': 2, '18': 39, 'loverboy': 6, 'reformat': 1, 'send': 157, 'walmart': 3, 'hanuman': 1, '139': 1, '£1': 33, '7am': 1, '84': 1, 'poker': 2, 'rhode': 1, '5we': 5, 'gap': 4, 'php': 1, 'casing': 1, 'forgiveness': 1, 'soil': 1, '5th': 3, 'sitting': 7, 'footy': 1, 'katexxx': 1, 'athome': 1, 'hamster': 1, 'upload': 2, 'heal': 1, 'reality': 1, 'permanent': 1, 'ldn': 8, 'miserable': 1, 'rajini': 1, 'away': 19, 'nitro': 1, 'addamsfa': 2, 'luxury': 3, 'enter': 10, 'reset': 1, 'marandratha': 1, 'bubbletext': 1, 'finishd': 1, 'neighbour': 2, 'necesity': 1, 'indicate': 2, '08712101358': 2, '2px': 1, 'suffer': 1, 'darker': 1, 'helloooo': 2, 'cash': 57, 'ed': 1, 'fletcher': 1, 'camp': 1, 'surely': 5, 'receive': 30, 'staying': 7, 'significant': 1, 'doin': 8, 'approx': 1, 'belong': 1, 'prospect': 2, 'clock': 1, 'limit': 1, 'england': 8, '118p': 1, 'calls1': 1, 'wow': 11, 'coherently': 1, 'shit': 30, 'hopeful': 1, 'real': 29, 'remove': 8, 'mindset': 1, 'see': 129, 'shame': 4, 'xchat': 3, 'ec2a': 3, 'cared': 2, 'bajarangabali': 1, 'gate': 1, 'tantrum': 1, 'wks': 2, 'taj': 1, 'clark': 1, '69911': 1, 'idew': 2, 'money': 48, 'rec': 2, 'concert': 3, 'ceiling': 1, 'laundry': 2, 'hmph': 1, 'released': 3, 'inperialmusic': 1, '250': 2, 'intelligent': 3, '6zf': 1, 'payoh': 2, 'chinese': 3, 'product': 1, 'ese': 3, 'song': 10, 'wedding': 3, '85555': 1, 'followin': 1, '750': 14, 'cw25wx': 2, '5226': 1, 'bat': 2, 'raping': 1, 'alle': 1, 'meaningful': 1, 'chgs': 1, 'thru': 8, 'weirdo': 1, 'cocksucker': 1, 'unique': 4, 'unredeemed': 3, 'cl': 1, 'nosh': 1, 'experiment': 1, '30th': 1, 'buzzzz': 1, 'rummer': 1, '88039': 3, 'nobody': 9, 'adore': 3, 'ak': 1, 'frying': 2, 'walking': 5, 'fancy': 14, 'pocy': 1, 'motivate': 1, 'anymore': 6, '87239': 4, 'otside': 2, 'impede': 1, 'laughed': 3, 'narcotic': 1, 'certainly': 3, 'connected': 1, 'hooked': 1, 'neva': 14, 'remind': 3, 'billing': 1, 'filled': 2, 'ibiza': 3, 'tirupur': 3, 'govt': 3, 'finger': 6, 'tau': 1, 'ettans': 1, 'another': 29, 'profit': 3, '6031': 1, 'infernal': 4, '9th': 1, 'receipts—well': 1, 'slurp': 1, 'forum': 4, 'bored': 15, 'discreet': 2, '10': 24, 'ie': 1, 'play': 28, 'ninish': 1, 'strongly': 1, 'trishul': 1, '07046744435': 1, 'caring': 3, 'white': 4, 'sonetimes': 1, 'lancaster': 1, 'legitimat': 1, 'vl': 7, 'seed': 1, 'due': 5, '08719839835': 1, 'option': 2, '09061790121': 2, 'w111wx': 3, 'assume': 4, 'ring': 18, 'cheap': 6, 'jeevithathile': 1, 'filthyguys': 1, '07808': 1, 'moral': 8, 'symptom': 1, 'hoo': 1, 'def': 3, 'jaz': 1, '6230': 1, 'lie': 4, '07808247860': 1, 'printing': 1, 'cheese': 2, 'give': 82, 'datz': 2, '09090900040': 1, 'handle': 3, 'toa': 2, 'c': 130, 'ny': 2, 'perspective': 1, 'fish': 3, 'thy': 2, 'yan': 4, 'yummmm': 1, 'barry': 1, 'anywhere': 1, 'con': 1, 'gone': 14, 'taco': 2, 'dippeditinadew': 1, 'grr': 1, 'nooooooo': 1, 'brilliant': 4, 'impressed': 1, '88800': 1, 'cmon': 1, '07801543489': 1, 'hockey': 2, 'frosty': 1, 'truffle': 1, 'carlin': 1, 'ppm': 3, 'bud': 2, 'mumtaz': 1, 'warner': 1, 'bilo': 1, 'land': 17, 'usually': 6, 'heehee': 1, 'river': 1, 'chuckin': 1, 'deal': 7, 'loss': 3, '09050090044': 6, '15541': 1, 'blogspot': 1, 'jersey': 1, 'eshxxxxxxxxxxx': 1, 'landlineonly': 1, 'crckt': 1, 'hep': 1, 'activity': 4, 'format': 2, 'ganesh': 1, '7mp': 1, '2morro': 1, 'blue': 8, 'source': 2, 'pushbutton': 1, '09066350750': 2, 'visitor': 2, 'receiving': 3, 'prsn': 1, 'nothin': 2, 'thus': 1, 'hp20': 1, 'cloth': 1, '000pes': 1, 'cochin': 2, 'sptv': 1, 'hee': 9, '83110': 1, '£250': 12, 'coccooning': 1, 'rite': 13, 'relocate': 1, 'lambu': 1, 'dealer': 1, 'lucy': 1, 'sleepin': 2, 'mina': 1, 'hype': 1, 'there': 1, 'meive': 1, 'ansr': 3, 'clos1': 3, 'might': 27, 'shortage': 2, 'park': 11, 'fear': 2, 'amazing': 4, '2nd': 22, 'accordingly': 3, 'er': 5, 'snuggle': 1, 'semi': 1, 'fireplace': 1, 'anyone': 16, 'melt': 2, 'fake': 2, 'gay': 4, 'barred': 1, 'saturday': 14, 'female': 1, 'sk38xh': 7, 'gist': 2, 'icmb3cktz8r7': 1, 'map': 4, 'cutest': 1, 'conacted': 1, 'havebeen': 1, 'kothi': 1, 'vibrate': 1, 'knackered': 3, '49557': 1, 'weirdest': 2, 'including': 6, 'bec': 2, '10p': 16, 'mono': 4, 'bottom': 3, 'arab': 1, 'strange': 1, '12hrs': 13, 'youuuuu': 1, 'dock': 1, 'absence': 1, 'tried': 18, 'properly': 2, 'dun': 41, 'ringtoneking': 2, 'myparents': 1, 'wenever': 1, 'pa': 27, 'answered': 2, 'usc': 3, 'sofa': 7, '09095350301': 1, 'nora': 1, 'dearly': 3, 'gei': 1, 'box39822': 3, 'instead': 5, 'info': 12, 'thing': 89, 'dokey': 2, 'wil': 16, 'uin': 1, 'whenever': 9, 'ooooooh': 1, 'usher': 1, 'bedbut': 1, 'nursery': 1, 'costume': 1, 'original': 4, 'dining': 1, '20': 6, 'renting': 1, 'winning': 3, 'gudni8': 1, 'happy': 73, '45': 1, 'isn\\x92t': 1, 'andre': 1, 'cold': 4, 'murdered': 5, 'born': 3, 'evey': 1, 'halloween': 2, 'continue': 2, '8ball': 1, 'nasty': 2, 'plaza': 2, 'alter': 1, 'u4': 2, '300603t': 1, 'learned': 1, 'punj': 1, 'bx420': 5, 'gold': 1, 'id': 18, '0870': 5, 'officially': 1, 'flag': 4, 'brat': 1, 'hi': 97, 'fighting': 5, '09056242159': 1, 'spin': 1, 'people': 42, 'brisk': 1, '146tf150p': 1, 'shipping': 2, 'maniac': 1, 'exist': 1, 'hillsborough': 1, 'pair': 1, 'server': 1, 'sathy': 1, 'sarcasm': 1, 'exe': 1, 'wrks': 1, 'ringing': 1, 'african': 1, 'worth': 11, 'ayn': 2, 'pale': 1, 'curry': 2, 'shindig': 1, '09057039994': 1, 'hv': 4, 'summer': 4, 'shant': 1, 'px3748': 1, 'ktv': 1, '9755': 1, 'mising': 1, '£75': 3, 'baby': 26, 'called': 25, 'annoying': 2, 'inlude': 1, 'oz': 4, '450ppw': 1, 'crush': 1, 'hg': 8, 'accident': 3, 'audrie': 1, '09066660100': 1, 'art': 5, 'front': 2, 'taka': 1, 'fml': 2, 'opened': 1, 'loyal': 2, 'clue': 1, 'supply': 2, '1lemon': 1, 'problum': 1, 'january': 6, 'bootydelious': 1, 'exhibition': 1, 'strike': 3, 'weasel': 1, 'tag': 1, 'macleran': 1, 'blimey': 1, 'wot': 18, 'aftr': 4, 'sux': 1, 'punishment': 1, 'poorly': 1, 'tiger': 1, 'f4q': 1, 'o2': 6, 'familiar': 1, 'bought\\x94braindance\\x94a': 1, 'argument': 3, 'saibaba': 1, 'risk': 1, 'maggi': 1, 'chennai': 9, 'whore': 1, 'prix': 1, 'mobypobox734ls27yf': 1, 'suck': 6, 'banter': 1, 'sry': 3, 'challenge': 3, 'cat': 2, 'sun0819': 1, 'housing': 1, 'help08700621170150p': 1, 'clothes': 1, 'thuglyfe': 1, 'thasa': 1, 'document': 1, 'idc': 1, 'chiong': 1, 'account': 29, 'recharge': 1, 'bank': 7, 'specially': 8, 'limiting': 1, 'talkin': 1, '08717895698': 1, 'major': 2, 'achan': 1, 'newquay': 1, 'sake': 2, 'theory': 2, 'describe': 1, 'go2': 1, 'lip': 3, 'tuth': 1, '5wq': 1, '31': 2, 'shes': 1, 'calculated': 1, '4txt': 1, 'drug': 13, '0844': 2, 'inner': 1, 'tackle': 1, '08718727870150ppm': 1, 'hurting': 2, 'chess': 1, 'grace': 1, 'hannaford': 1, 'foned': 1, 'allday': 1, 'w1j6hl': 10, 'stress': 2, 'elaborating': 1, 'genuine': 1, 'weak': 3, 'greatness': 1, 'spelling': 1, '09061749602': 1, 'dime': 1, 'thinl': 1, 'pleasant': 1, 'oil': 2, 'jide': 1, '28th': 1, 'anti': 2, 'stroke': 1, 'lag': 2, 'tomorrow': 81, 'frwd': 1, 'ringtone': 23, 'wither': 1, 'becaus': 1, 'entropication': 1, 'elliot': 1, 'notixiquating': 1, '3hrs': 1, 'lyricalladie': 1, 'blonde': 2, 'santa': 2, 'benefit': 1, 'poor': 6, 'washob': 1, 'across': 8, 'sneham': 1, '2price': 1, 'childish': 5, 'posible': 1, 'dat': 32, 'repair': 3, 'y87': 1, 'property': 2, 'scrappy': 1, 'bang': 2, 'doubletxt': 1, '4got': 1, 'thnk': 5, '54': 1, 'minded': 1, 'ne': 2, 'seems': 5, 'nbme': 1, 'adewale': 1, 'ax': 1, 'listened2the': 1, 'okors': 1, 'minor': 2, 'deserve': 1, 'popping': 1, 'hav': 20, 'chop': 1, 'realy': 6, 'sounding': 1, 'touched': 2, 'bead': 1, 'anal': 1, 'wall': 3, 'mandara': 1, 'mall': 1, '3qxj9': 3, '08715705022': 2, 'scotsman': 1, 'chit': 1, 'trade': 2, 'canary': 2, 'canname': 1, 'nighters': 1, 'velly': 1, 'pretty': 12, 'deus': 2, 'kappa': 2, 'swhrt': 1, 'beautiful': 17, 'thia': 1, 'hurt': 20, '09066368327': 1, 'ppm150': 1, 'imin': 1, '09066368470': 1, 'sensible': 1, 'ham': 3, 'hearing': 1, 'nelson': 1, 'arrived': 1, 'recent': 2, 'pleasured': 1, 'rose': 7, 'persian': 1, 'snowball': 1, 'tension': 2, 'cashed': 1, 'cheyyamo': 1, 'busy': 17, 'dinero': 1, 'always': 43, 'arul': 1, 'past': 6, '69866': 2, 'ishtamayoo': 1, 'fightng': 3, 'warming': 1, 'hopeso': 1, 'hamper': 1, 'hint': 1, 'fals': 1, '1stone': 1, 'icon': 1, 'gram': 3, 'tactless': 1, 'tuesday': 6, 'deciding': 1, 'jo': 1, 'aa': 1, 'motor': 1, 'internal': 1, 'doc': 5, 'thatmum': 1, 'tip': 2, 'close': 16, 'venaam': 1, 'portal': 1, 'mallika': 1, '8lb': 1, 'ball': 1, 'aight': 24, 'pity': 1, 'snatch': 1, '09111030116': 1, '83332': 1, 'appt': 3, 'promptly': 1, 'side': 7, 'pee': 2, 'asa': 1, 'celebration': 1, 'juswoke': 1, 'frndsship': 1, 'wrong': 13, 'liking': 1, 'pongal': 2, 'since': 22, 'restrict': 1, 'comingdown': 1, 'opening': 3, 'kolathupalayam': 1, 'question': 30, 'platt': 1, 'asleep': 6, 'chosen': 3, 'exterminator': 1, '125gift': 3, 'drms': 1, 'tampa': 8, 'khelate': 1, 'feature': 1, 'soo': 2, '630': 2, 'sterling': 1, 'game': 27, 'amrca': 1, '07090298926': 1, 'overtime': 1, 'frequently': 1, 'woo': 1, 'ocean': 1, 'batsman': 1, 'something': 52, 'remembered': 2, 'ended': 6, 'lo': 2, 'mack': 1, 'china': 3, 'pple': 5, 'bothering': 1, 'mk17': 1, 'died': 5, '5k': 1, 'place': 49, 'quite': 25, 'alert': 3, 'final': 14, 'bringing': 4, 'jamster': 1, 'velachery': 1, 'corrct': 1, '30ish': 2, 'fne': 1, 'dane': 1, 'blind': 1, 'raja': 1, 'recd': 4, 'amp': 56, 'dresser': 3, 'fired': 1, 'partnership': 2, 'cribbs': 1, 'acting': 2, '09099726395': 1, '4eva': 2, 'netcollex': 3, 'bullshit': 1, 'fair': 1, 'h': 3, 'muchxxlove': 1, 'conduct': 1, 'm': 1, 'nyc': 3, 'yck': 2, 'chickened': 1, 'enjoyin': 2, 'cost£3': 1, 'click': 4, 'cutie': 1, 'confused': 1, 'general': 1, 'wamma': 1, '09061744553': 2, 'saved': 4, 'appy': 1, 'incorrect': 1, 'set': 18, 'uneventful': 1, 'disagreeable': 1, 'captaining': 1, 'immed': 1, 'ibm': 1, '08081560665': 2, 'current': 5, 'area': 9, 'tamilnadu': 1, 'owed': 1, 'mtalk': 2, 'balloon': 1, 'gage': 1, 'propsd': 2, 'frndship': 4, 'goodmorning': 13, 'imposed': 1, 'nat': 3, 'asthere': 1, 'street': 9, 'mmmm': 2, 'delicious': 1, 'shock': 1, 'slp': 2, 'chillaxin': 1, 'cougar': 1, 'supreme': 1, 'airport': 4, 'figuring': 1, 'skin': 1, 'subscribe6gbp': 1, 'bag': 8, 'whenevr': 2, 'attraction': 1, 'bed': 21, 'essential': 3, 'without': 18, 'nigeria': 8, 'reacting': 1, 'satanic': 1, 'aretaking': 1, 'plyr': 1, 'skilgme': 3, 'okday': 1, 'lido': 3, 'ls1': 1, 'machi': 1, '08702840625': 3, 'case': 11, '09064015307': 1, 'throwin': 1, 'la3': 1, 'tat': 7, 'tenerife': 5, 'finance': 1, 'high': 6, 'pisces': 1, 'weddin': 1, 'messaging': 1, 'pobox45w2tg150p': 2, 'blessing': 4, '0207': 3, 'internet': 6, 'lei': 15, 'grave': 1, 'wkend': 3, '86888': 1, 'spell': 2, 'audrey': 2, '7548': 1, 'brought': 4, 'warning': 2, 'taken': 4, 'gobi': 1, 'sacked': 1, 'album': 3, 'betta': 1, 'looovvve': 1, 'horniest': 1, 'imposter': 1, 'gumby': 1, 'uploaded': 1, '447801259231': 1, 'hiphop': 1, 'wicklow': 1, '08717507382': 1, 'cable': 1, 'snake': 2, 'pist': 1, 'vitamin': 1, '62468': 6, 'shifad': 1, 'puzzeles': 1, '4719': 1, 'g696ga': 1, 'bye': 4, 'present': 3, 'puzzle': 1, 'dress': 2, 'vouch4me': 1, 'settle': 3, '3100': 1, 'slowly': 9, '88066': 2, 'rewarding': 2, 'mouth': 2, 'buffet': 2, 'sale': 7, 'nokia': 39, 'mandy': 1, 'bedroom': 6, 'gotten': 2, 'june': 3, 'gettin': 7, 'girlie': 1, 'american': 3, 'omg': 6, 'mobstorequiz10ppm': 1, 'zogtorius': 1, 'ploughing': 1, 'follows': 1, 'emailed': 1, 'silence': 1, 'getiing': 1, 'online': 19, 'usf': 11, 'entry': 18, '48': 1, 'ringtone¡': 1, 'wed': 5, '08719899217': 1, 'hun': 5, '08701237397': 1, 'ppl': 3, 'addie': 2, '\\x91morrow': 1, 'hrishi': 2, 'eating': 6, 'for£38': 1, 'worrying': 1, 'around': 49, 'eight': 2, 'hen': 1, 'goody': 1, 'official': 5, 'tmorow': 1, 'stalk': 1, 'smoked': 1, 'lookin': 5, 'footbl': 1, '3000': 1, 'promotion': 1, 'gdeve': 1, 'matter': 6, '2docd': 1, 'pear': 1, 'rcb': 1, 'animal': 1, 'nitz': 1, 'nottingham': 1, 'west': 2, '09099726553': 1, 'trouser': 1, 'eerulli': 1, 'nuclear': 1, 'perf': 1, 'cusoon': 1, '09064019014': 2, 'getting': 40, '89555': 1, 'mila': 2, 'tonexs': 1, 'cornwall': 3, 'ey': 1, 'compensation': 1, 'generally': 2, 'adjustable': 1, 'chinky': 1, 'vic': 1, 'loose': 1, 'ache': 4, 'story': 18, 'flung': 1, 'ru': 2, 'smoothly': 1, 'sausage': 1, 'raksha': 1, 'virgin': 1, 'mathews': 1, '1327': 4, 'tcr': 2, '08081263000': 1, 'dammit': 1, 'evr': 2, 'bitch': 3, '2hrs': 1, 'dontignore': 1, '420': 1, 't': 8, 'raise': 2, 'wating': 2, 'bck': 1, 'splendid': 1, 'tomarrow': 3, 'dear1': 3, 'extra': 10, 'dunno': 24, '09063440451': 1, 'hello': 38, 'unicef': 1, 'tix': 1, 'service': 59, 'stash': 1, 'sankranti': 1, '820554ad0a1705572711': 1, '\\x96': 3, 'evone': 1, 'clearing': 2, 'rcd': 1, 'await': 17, 'airtel': 1, '08701213186': 1, 'convey': 9, 'aha': 6, '09094100151': 1, 'advisor': 1, 'hogolo': 1, 'leftover': 1, 'eve': 14, '32000': 1, 'sell': 8, 'ctla': 1, '07123456789': 2, 'jas': 2, 'daywith': 1, 'crucify': 1, 'ear': 1, 'vargu': 1, 'cttargg': 1, 'dont': 116, 'aathi': 4, 'hav2hear': 1, 'stupid': 11, 'flea': 1, 'passionate': 4, 'sez': 1, 'ultimately': 1, '9am': 4, 'servs': 1, '0121': 1, 'block': 2, 'accessible': 1, 'dude': 19, 'learn': 6, '8': 25, 'randomly': 3, 'vco': 1, '69101': 1, 'nalli': 1, 'furniture': 2, 'jurong': 1, 'console': 2, 'followed': 2, 'bhaji': 2, 'gaytextbuddy': 2, 'syd': 1, 'germany': 3, 'namous': 1, 'ct': 1, '21st': 2, 'sudn': 1, 'tolerance': 1, 'europe': 2, '24th': 1, 'unfortuntly': 1, 'announced': 1, 'box385': 2, 'attracts': 1, 'doesdiscount': 1, 'lanka': 1, 'utter': 1, 'disastrous': 1, 'dice': 1, '8883': 1, 'hlp': 2, 'arm': 5, 'loko': 1, 'checkup': 1, 'monster': 1, 'nookii': 1, 'roller': 1, 'whose': 2, 'bar': 2, 'gud': 49, 'enjoyed': 3, 'spring': 2, 'deliver': 3, 'pussy': 6, 'burnt': 1, '08448350055': 1, 'panren': 1, 'accommodation': 1, 'plate': 1, 'steak': 1, 'customer': 47, 'otherwise': 6, 'choose': 13, 'dancce': 1, 'taxi': 2, 'super': 4, 'turning': 2, 'forfeit': 1, 'contacted': 4, 'fps': 1, '2morow': 2, 'sth': 1, '0870753331018': 1, 'poly3': 1, 'green': 4, 'mate': 25, 'sozi': 1, 'boytoy': 15, '3gbp': 3, 'denis': 1, 'french': 1, 'rightly': 2, 'cuz': 6, 'apps': 3, 'rayan': 1, '2309': 1, 'videochat': 4, 'workand': 1, 'sorta': 1, 'pobox365o4w45wq': 1, 'sliding': 1, 'alternative': 1, 'odalebeku': 1, 'colleg': 1, 'action': 4, 'tirunelvali': 2, 'cap': 1, 'annoncement': 1, 'sh': 2, 'cereal': 1, 'ugadi': 1, 'concern': 1, 'abuser': 1, 'calling': 19, 'kanji': 1, 'askin': 5, 'sian': 2, '8077': 2, '£400': 2, '09066362206': 1, 'pic': 24, 'bribe': 1, 'mca': 1, 'subs16': 1, 'xxxxx': 2, 'necessity': 1, 'vibrator': 1, '2go': 2, 'exeter': 2, 'national': 15, 'resolved': 1, 'ned': 1, 'renewing': 1, 'common': 4, 'gbp5': 1, '3g': 5, 'depressed': 2, 'jock': 1, 'analysis': 1, 'soft': 3, 'knock': 1, 'lover': 10, 'yen': 1, 'potter': 2, 'redeemed': 10, 'playin': 1, 'bird': 5, 'wif': 21, '09061743806': 2, 'aging': 1, 'indyarocks': 1, 'subscribed': 2, 'telediscount': 1, '4041': 1, 'overemphasise': 1, 'dom': 1, 'wikipedia': 1, 'double': 15, '14': 2, '£33': 2, 'buzy': 2, 'cute': 7, 'kettoda': 3, 'q': 4, 'sura': 3, 'ere': 1, 'wicked': 1, 'lol': 54, 'w1jhl': 1, 'fizz': 1, 'he': 2, 'hotel': 8, 'tram': 1, 'rightio': 1, 'havbeen': 1, 'seeing': 13, 'dhorte': 1, 'bluetoothhdset': 1, 'anyways': 2, 'atm': 4, 'pie': 2, 'pobox12n146tf15': 1, 'karaoke': 2, 'recycling': 1, 'cast': 1, '08715203656': 1, '4u': 7, 'tyrone': 3, 'fell': 2, 'carlos': 12, 'first': 56, 'auction': 8, 'lobby': 1, 'payasam': 1, 'dhoni': 2, 'jon': 1, 'pride': 2, 'you\\x92re': 1, 'slippery': 1, 'bx': 1, 'finishing': 3, '0845': 3, 'expires': 14, 'happened': 13, 'forced': 1, 'shot': 2, 'film': 10, 'promoting': 1, 'cancel': 7, '2000': 1, 'pout': 1, 'wind': 3, 'credited': 4, 'gift': 17, 'forwarding': 1, '89105': 1, '11': 15, 'trackmarque': 1, '85222': 1, 'triumphed': 1, 'buddy': 1, 'mobno': 2, '4742': 3, 'ltdhelpdesk': 1, 'tosend': 1, '69855': 1, 'least5times': 1, 'ic': 2, 'bandage': 1, 'cousin': 2, 'identification': 1, 'custom': 1, 'relieved': 1, 'lead': 4, 'mtmsg18': 3, 'princess': 25, 'flippin': 1, 'retrieve': 1, 'ponnungale': 1, 'black': 4, 'funny': 7, 'rat': 1, 'liver': 1, 'muah': 2, 'joy': 8, 'rest': 9, 'penny': 4, 'croydon': 4, 'technology': 1, 'packing': 1, 'kanagu': 1, 'lunchtime': 1, 'sucker': 1, '2moro': 4, 'isv': 1, 'calls£1': 4, '2nite': 8, 'filthy': 2, 'excuse': 7, '2lands': 11, 'fathima': 2, 'aft': 17, 'ecstasy': 1, 'birthday': 23, 'tone': 40, '2stop': 2, 'dl': 1, 'six': 3, 'upstairs': 2, 'perumbavoor': 1, 'wondar': 1, 'astne': 1, 'squatting': 1, 'burgundy': 1, '08718720201': 5, 'rto': 1, 'wap': 5, 'messy': 2, 'falling': 1, '08712405022': 2, '5000': 3, 'unspoken': 1, 'garden': 1, 'wa14': 1, 'headache': 3, 'brin': 1, '…': 10, 'shah': 1, 'meetins': 1, 'dream': 20, 'ridden': 1, 'macho': 3, 'eye': 10, '08719899230': 1, 'talking': 9, 'lil': 2, 'thanku': 1, 'cld': 2, 'beg': 1, 'medical': 5, 'txt': 125, 'dnt': 10, 'laughing': 4, '4d': 1, 'maraikara': 1, 'shopping': 25, 'answerin': 1, 'within': 11, 'kent': 1, 'lift': 4, 'avenge': 1, 'juliana': 1, 'anytime': 14, 'funeral': 2, 'friday': 12, 'lounge': 3, 'that\\x92scool': 1, 'laxinorficated': 1, 'ente': 1, 'le': 11, 'mummy': 2, 'tkts': 4, '08717890890£1': 1, 'hour': 40, 'gym': 10, 'ooh': 1, 'forward': 5, 'hat': 1, 'fringe': 2, 'ctargg': 1, 'itwhichturnedinto': 1, 'code': 23, 'helen': 2, 'stagwood': 1, '08000938767': 3, 'l8rs': 1, 'euro2004': 5, 'afghanistan': 1, 'pod': 4, 'so': 1, 'hunt': 1, 'bluetooth': 6, 'ortxt': 1, 'information': 10, 'employee': 1, 'epi': 1, 'sacrifice': 2, 'stuff42moro': 1, 'guess': 27, '2025050': 1, '7ws': 1, 'kid': 7, 'sayin': 1, 'entered': 9, 'dough': 2, 'nri': 1, 'crave': 11, 'makiing': 1, 'lived': 2, 'paul': 1, '88222': 1, 'rgds': 2, 'fluid': 1, 'difficulty': 1, 'greatly': 1, 'stretch': 2, 'philosophy': 2, 'flip': 2, 'develop': 2, 'callon': 1, 'strtd': 1, 'eg': 9, 'unconsciously': 1, 'mayb': 13, 'wound': 1, 'linear': 1, 'virgil': 1, 'aom': 1, '000': 22, 'box95qu': 2, 'humanity': 1, 'sankatmochan': 1, 'spend': 9, 'edrunk': 1, 'bam': 1, 'win': 59, 'someonone': 1, 'dedicate': 2, 'atural': 1, 'think': 112, 'practicing': 2, 'ing': 2, 'inclusive': 3, 'various': 2, 'ow': 1, 'poly': 12, 'working': 22, 'bhaskar': 1, 'nagar': 2, 'educational': 2, 'f': 9, 'blanket': 2, '08715203652': 1, 'award': 18, 'sticky': 2, 'owo': 1, 'dressed': 2, 'msging': 2, 'helpful': 1, 'multis': 1, 'uniform': 1, 'garage': 3, 'wkly': 12, 'zed': 5, '2006': 1, 'photo': 10, 'kintu': 1, 'key': 6, 'misundrstud': 1, 'knew': 9, 'ew': 1, 'eerie': 4, 'parade': 1, 'filth': 1, 'baaaaabe': 1, 'medicine': 2, 'flame': 1, 'mailed': 1, 'messaged': 2, 'contract': 5, 'forwarded': 8, 'checking': 10, 'prescription': 1, 'problms': 1, 'log': 9, 'aptitude': 1, 'watch': 28, 'although': 2, 'man': 36, 'breathing': 1, 'father': 8, 'wont': 26, 'natalja': 2, 'irritating': 3, 'presnts': 1, '08452810071': 1, 'twittering': 1, 'completes': 1, 'ruining': 1, 'road': 8, 'determine': 1, 'kick': 6, 'december': 4, 'feel': 53, 'creepy': 1, 'james': 2, '2i': 1, 'ten': 13, 'werethe': 1, 'oi': 1, '910': 1, 'india': 10, 'g': 21, 'newest': 2, 'yalru': 1, '2wu': 1, 'toyota': 1, 'desk': 1, 'odi': 2, 'ciao': 1, 'number': 85, 'corporation': 1, 'lf56': 2, 'waitin': 3, 'twat': 1, 'escape': 3, 'warm': 7, '050703': 2, 'cnupdates': 1, 'creativity': 1, 'sexy': 22, 'necessary': 1, 'whilltake': 1, 'winner': 13, 'wendy': 1, 'maneesha': 3, 'growing': 2, 'month': 35, 'ship': 2, 'breather': 1, 'gained': 1, 'fav': 2, 'racal': 1, 'soryda': 3, 'eruku': 1, 'csc': 1, 'fullonsms': 4, 'w4': 1, 'nusstu': 1, 'convince': 1, 'supposed': 10, 'forgiven': 2, 'almost': 13, 'remain': 4, '900': 2, 'clover': 1, 'loveme': 2, 'crazyin': 1, 'somewhr': 1, 'respond': 4, 'rate': 29, 'visa': 1, 'oni': 2, '88600': 3, 'subpoly': 3, 'professional': 1, 'deposit': 1, 'horrible': 4, '£10': 8, 'assessment': 1, '11mths': 8, '434': 4, 'reserve': 2, 'password': 4, '09058099801': 2, 'bus': 25, 'help08718728876': 2, 'relaxing': 1, 'terrific': 2, 'willpower': 1, 'punch': 1, 'bloke': 3, 'someday': 1, 'a21': 1, 'claimcode': 1, 'meetin': 4, '75max': 1, 'bhayandar': 1, 'come': 191, 'slipper': 3, 'rentl': 4, '2004': 7, 'autocorrect': 1, '3x£150pw': 1, 'janx': 1, 'rounder': 1, 'unlimited': 11, '9ja': 1, 'using': 9, 'pas': 7, 'caught': 3, 'sathya': 1, 'relationship': 1, 'innocent': 1, 'hollalater': 1, 'wishlist': 1, 'customercare': 1, 'oops': 9, 'inform': 3, 'havent': 21, 'dryer': 1, 'jaya': 1, 'pobox334': 6, 'cage': 1, 'cr': 1, 'kill': 3, 'obedient': 1, 'fails': 1, 'arun': 3, 'suntec': 3, 'beneath': 1, 'goto': 5, '65': 2, 'tiny': 1, '600': 1, 'supose': 1, 'fieldof': 1, '50pmmorefrommobile2bremoved': 1, 'ton': 2, 'sutra': 1, 'upd8': 2, 'spouse': 1, 'private': 15, 'finalise': 1, 'office': 23, 'hmv1': 1, 'poortiyagi': 1, 'motherfucker': 1, 'role': 6, 'bookedthe': 1, 'trained': 1, 'spy': 1, 'doggin': 1, 'slap': 2, 'pocket': 1, 'jay': 13, 'duvet': 1, 'unsubscribed': 1, 'panalam': 1, 'yelling': 2, 'drove': 2, 'hlday': 1, '447797706009': 1, '3lions': 1, '08708800282': 1, 'oga': 1, 'replace': 1, 'nice': 50, 'wahleykkum': 1, 'unit': 1, 'robs': 1, '4ward': 1, 'usmle': 1, 'aspect': 1, '6missed': 1, '9996': 1, '08': 1, 'unbreakable': 2, 'mode': 7, 'cherthala': 1, 'exorcist': 2, 'sometme': 1, 'mentionned': 1, 'na': 79, 'soul': 2, '2find': 2, 'went': 42, 'nature': 5, 'teletext': 1, 'db': 1, 'heavy': 5, 'penis': 1, '2exit': 1, 'browse': 1, 'bos': 8, 'rowdy': 1, 'store': 10, '09050001808': 2, '69988': 1, 'joining': 2, '4t': 3, 'anjola': 1, 'whisper': 1, 'exposed': 1, 'following': 6, 'resent': 1, 'po19': 1, 'cartoon': 3, 'mah': 8, 'mentioned': 1, 'fine': 38, 'yar': 10, '2gthr': 2, 'bakrid': 1, 'failure': 1, 'shb': 1, '40533': 1, 'preview': 1, 'ifink': 1, 'rough': 1, 'jamz': 1, 'uncomfortable': 1, 'kisi': 1, 'failed': 2, 'chikku': 11, 'chg': 1, 'punto': 1, 'gari': 1, '100': 15, 'mat': 1, 'subscriptn3gbp': 1, 'nike': 1, 'ya': 38, 'ofstuff': 1, '350': 2, 'tea': 7, 'silver': 2, 'charged': 8, '9153': 1, 'reassuring': 1, '69200': 1, 'big': 24, '700': 2, 'started': 16, 'camera': 27, 'no1': 7, 'trip': 11, 'luv': 25, 'manchester': 1, '255': 1, 'idu': 1, 'w1': 3, '09058094583': 1, 'eat': 28, 'sport': 5, 'credit': 16, 'raed': 2, 'asking': 10, 'chat80155': 1, 'arrival': 1, '08718726970': 1, 'd3wv': 1, 'owe': 1, '2hook': 1, 'surprise': 10, '09099726429': 1, 'ok': 217, 'fond': 1, 'fucked': 2, 'bristol': 2, 'texted': 2, 'matra': 1, 'lucozade': 2, 'crack': 3, '08718730666': 1, 'domain': 1, 'varma': 1, 'envy': 1, 'village': 2, 'surgical': 1, 'aint': 2, '09058094565': 2, 'a30': 1, 'somtimes': 2, 'everyso': 1, 'highest': 1, 'naal': 1, 'la1': 1, 'wk': 24, 'gving': 2, 'potential': 2, '130': 1, 'entertain': 1, 'membership': 3, 'available': 13, 'vatian': 1, 'bot': 1, 'printer': 1, 'bf': 4, 'telly': 2, 'dontcha': 1, 'bridal': 1, 'yup': 38, 'include': 2, 'dollar': 6, 'cam': 3, 'breaker': 1, 'guild': 1, 'notice': 7, 'raised': 1, 'picsfree1': 1, 'person': 41, '61200': 2, 'forth': 1, 'crap': 2, 'campus': 5, 'apt': 1, 'piece': 4, 'colany': 1, 'dry': 4, 'audition': 1, 'throat': 3, 'related': 1, 'ubi': 1, 'news': 15, 'kidz': 4, 'takecare': 1, 'individual': 2, 'luvs': 2, '09058091870': 1, 'stay': 19, 'future': 4, 'rtf': 1, '69669': 2, 'tue': 1, 'tarot': 1, 'hunny': 6, 'bk': 1, 'parent': 14, 'decimal': 17, 'different': 7, 'latelyxxx': 1, 'class': 36, 'thecd': 1, 'dlf': 1, 'operate': 1, 'can\\x92t': 1, 'wah': 3, 'bishan': 3, 'flying': 1, 'ymca': 1, 'interfued': 1, 'operator': 12, 'many': 40, 'lotz': 1, 'broke': 4, 'notebook': 1, 'listen': 12, 'nurungu': 3, '02072069400': 1, 'pmt': 1, 'zebra': 1, 'polys': 6, 'havin': 2, 'moving': 2, 'paranoid': 1, 'bought': 5, 'arises': 1, 'honi': 1, 'mj': 1, 'sugababes': 1, '08712402779': 1, 'th': 13, 'hide': 2, 'skyving': 1, 'prepayment': 2, 'far': 13, 'harlem': 1, 'boo': 6, 'unconditionally': 1, 'greece': 1, 'slow': 8, 'bin': 4, 'swatch': 1, '382': 1, 'irritation': 1, 'saving': 1, 'minimum': 1, 'cough': 1, 'howard': 2, '85069': 1, 'granite': 1, 'iriver': 1, 'dept': 1, '09077818151': 1, 'second': 15, 'bother': 5, 'sleepy': 2, '150p16': 1, '81303': 3, 'random': 5, 'travel': 4, 'stunning': 1, 'clearer': 1, 'possible': 8, 'drink': 18, 'm227xy': 1, 'prone': 1, 'hang': 2, 'vipclub4u': 1, 'shoot': 2, 'msn': 2, 'batch': 1, 'plenty': 5, 'firsg': 1, 'bun': 5, 'lost': 11, '449050000301': 1, 'taunton': 4, 'chase': 2, '2007': 2, 'ice': 8, 'executive': 3, 'reckon': 2, 'pulling': 1, 'simple': 9, 'competition': 6, 'cover': 9, 'finish': 34, 'pobox84': 4, 'fraud': 2, 'somewhat': 1, 'twin': 1, 'pract': 1, '0871': 2, 'thx': 1, 'edu': 2, 'wishing': 8, 'hidden': 1, '3': 72, 'painful': 3, 'tiz': 1, 'africa': 1, 'clever': 2, 'macedonia': 1, '£1500': 2, 'msgrcvdhg': 3, '2marrow': 1, 'okmail': 1, 'mei': 2, 'missing': 16, '528': 1, '07742676969': 1, 'lyfu': 1, 'melle': 3, 'smarter': 1, 'regard': 7, 'beware': 2, 'alaipayuthe': 2, 'resend': 1, 'lovable': 10, 'auto': 3, '08718725756': 1, 'smth': 9, 'hostel': 3, 'vale': 1, 'menu': 5, '4mths': 3, 'wtlp': 1, 'norm': 2, 'othrwise': 1, 'tensed': 1, 'merry': 9, 'vomit': 2, 'struggling': 1, 'dumb': 1, 'cosign': 1, 'hon': 2, 'got': 194, 'univ': 1, 'famamus': 1, 'woot': 1, 'jen': 4, 'faglord': 1, 'u': 711, 'full': 14, 'type': 15, 'stream': 1, 'houseful': 1, 'dubsack': 2, 'poured': 1, 'satisfied': 3, 'comprehensive': 1, 'leo': 1, 'charge': 18, 'sorted': 3, 'oso': 18, 'toshiba': 1, 'decided': 15, 'shudvetold': 1, '62220cncl': 1, 'protect': 2, 'csbcm4235wc1n3xx': 3, 'fwiw': 1, 'quit': 2, 'genius': 2, 'twinks': 1, 'hairdresser': 1, 'family': 18, 'shining': 2, 'plm': 1, 'donyt': 1, 'gran': 1, 'bcm4284': 2, 'doubt': 1, '3xx': 1, 'admit': 1, 'lay': 3, 'doesnt': 7, 'stockport': 6, '83738': 1, 'honey': 7, '87021': 2, 'ntwk': 3, 'a£1': 1, 'wtc': 1, 'noon': 11, 'hell': 6, 'tsunami': 3, 'toll': 3, 'headset': 1, 'build': 2, 'skype': 4, '50ea': 1, 'unknown': 2, 'njan': 1, 'thank': 26, 'm95': 2, 'comin': 11, 'kate': 9, 'guaranteed': 41, 'bcmsfwc1n3xx': 1, 'athletic': 1, 'reache': 1, 'paper': 11, 'cupboard': 1, 'nothing': 27, 'collapsed': 1, '5wkg': 1, 'soz': 1, 'rencontre': 1, 'greeting': 3, '0825': 2, 'youre': 2, 'sib': 2, 'door': 9, 'pt2': 1, 'voucher': 27, 'andrew': 1, 'ray': 5, 'prominent': 1, 'personality': 3, 'uwant': 1, 'whn': 2, 'prestige': 1, 'remains': 1, 'belly': 4, 'subscriber': 4, 'squid': 1, 'robinson': 1, 'jsut': 2, '8p': 1, 'address': 19, 'review': 4, 'bear': 3, 'frndz': 1, 'absolutly': 1, '2geva': 1, 'walkabout': 1, 'appreciated': 2, 'particularly': 1, 'mobileupd8': 11, 'justfound': 1, 'swimsuit': 1, 'whatsup': 1, 'persevered': 1, 'tasts': 1, 'percent': 1, 'brother': 19, '08718723815': 1, '95': 1, 'superb': 2, '650': 1, 'ur': 236, 'searching': 4, 'orh': 1, 'shinco': 1, 'smsing': 1, 'necklace': 2, 'shuhui': 7, 'stressed': 1, 'logged': 1, 'camry': 1, 'iq': 4, 'loser': 1, 'ld': 1, 'data': 1, 'espe': 1, 'associate': 1, '08707808226': 1, 'collect': 24, 'hanger': 1, 'board': 1, '5mls': 1, 'speeding': 2, 'hava': 1, 'content': 13, 'luckily': 1, 'asda': 1, '2': 335, 'wasting': 1, 'blastin': 1, 'easter': 1, 'sunday': 10, 'habba': 1, 'sarcastic': 2, 'positive': 1, 'fuckinnice': 1, '81618': 3, '3mobile': 1, 'shipped': 2, 'allah': 3, 'business': 3, 'hol': 2, 'flood': 1, 'age': 14, 'submitted': 1, 'tsandcs': 1, 'firefox': 1, 'sg': 1, 'impressively': 1, 'miller': 1, 'st': 9, 'joker': 1, 'mad': 3, 'kallis': 6, 'delayed': 1, 'arise': 1, 'sugardad': 1, 'wn': 3, 'fone': 11, 'honeybee': 3, 'gorgeous': 4, 'ip': 1, 'fast': 15, 'strt': 1, 'fan': 2, 'entry41': 1, 'ever': 25, 'phoenix': 2, 'minapn': 1, 'still': 121, 'smash': 1, 'euro': 3, 'adam': 2, 'vth': 1, '97n7qp': 1, '09066364589': 1, 'enna': 1, 'favorite': 1, 'witout': 1, '15': 3, 'toplay': 1, 'num': 3, 'sullivan': 1, 'rajnikant': 1, 'lunch': 33, '140ppm': 1, 'hook': 2, 'begging': 1, 'cttergg': 1, '4my': 1, 'husband': 3, '09111032124': 1, 'surya': 1, 'womdarfull': 1, 'vid': 2, 'load': 11, 'eppolum': 1, 'reg': 2, 'mustprovide': 1, 'valid': 18, '08715203694': 1, 'pobox75ldns7': 1, '2ez': 1, '2u2': 1, 'accidentally': 4, 'death': 3, 'group': 6, 'watched': 1, 'lab': 4, 'copy': 9, 'affidavit': 1, 'jot': 1, 'dog': 6, 'box177': 1, 'driver': 2, 'ppt150x3': 1, '087187262701': 3, 'ileave': 1, 'premier': 1, 'sex': 11, 'arsenal': 1, 'prop': 1, 'unintentionally': 1, 'given': 2, 'wc1n': 1, 'nowadays': 2, 'computer': 8, '98321561': 1, 'fridge': 1, 'motive': 1, 'reminded': 1, 'terrorist': 2, 'vry': 4, 'happier': 1, 'found': 12, 'raviyog': 1, '08700435505150p': 1, 'putting': 6, 'bite': 2, 'intention': 1, 'thesis': 1, 'img': 1, 'october': 1, 'gam': 1, '09071512433': 2, 'lovin': 1, 'phrase': 1, 'daddy': 7, 'reppurcussions': 1, 'kaypoh': 1, 'resizing': 1, '09050000878': 1, 'msgrcvd18': 1, 'ptbo': 3, 'hppnss': 1, 'aka': 2, 't91': 1, '4882': 2, '87077': 4, 'mobcudb': 1, 'lager': 1, '62735': 1, '£48': 1, '5ish': 1, 'evn': 2, 'spare': 3, 'agalla': 1, 'skyped': 1, 'faggot': 1, 'request': 11, 'total': 3, 'bill': 11, 'jet': 1, 'fooled': 1, 'upcharge': 1, 'postcode': 3, '44': 1, 'somewhere': 5, 'mu': 13, 'kerala': 6, 'provided': 3, 'optout': 3, 'ure': 4, 'sony': 7, 'mmmmmmm': 1, 'imagination': 1, 'masked': 1, 'haven\\x92t': 2, 'venugopal': 1, 'it\\x92s': 2, 'bit': 35, '5p': 2, 'netvision': 1, '28thfeb': 1, '21870000': 1, 'cock': 3, 'vega': 1, 'tayseer': 2, 'groovying': 1, 'unlike': 1, 'k52': 3, 'weakness': 2, 'stripe': 1, 'underdtand': 1, 'reach': 25, 'bcum': 1, 'dload': 4, 'bitching': 1, 'device': 1, '83049': 2, 'wonderful': 12, '50': 49, 'sabarish': 1, 'smsservices': 1, 'unrecognized': 1, 'subsequent': 1, 'youdoing': 1, 'detroit': 2, 'share': 7, '7cfca1a': 1, 'flash': 3, 'stone': 3, 'geeee': 5, 'westonzoyland': 1, 'saying': 14, 'gal': 9, 'tap': 2, 'girl': 33, 'need': 143, 'director': 1, 'dismay': 1, 'shoving': 1, 'kano': 5, 'la': 6, 'appeal': 1, 'sorry': 126, 'degree': 2, 'witin': 1, 'jesus': 3, 'memory': 2, 'chastity': 1, 'convenience': 1, 'term': 12, 'waheeda': 1, 'wet': 4, '80160': 1, 'psxtra': 1, 'respect': 4, 'belt': 1, '4brekkie': 1, 'dasara': 1, 'ithink': 1, 'jealous': 1, 'mirror': 1, '08718738034': 1, 'plumbing': 1, 'alive': 3, 'rtm': 1, 'nonetheless': 1, 'festival': 1, 'apnt': 1, 'auntie': 1, 'contribute': 1, '2wks': 1, 'clarify': 1, 'spl': 4, 'may': 43, 'goodnight': 8, 'force': 2, 'lush': 2, 'breathe': 2, '2nhite': 1, 'check': 35, 'pause': 1, 'lage': 1, 'chachi': 1, 'goodnoon': 2, 'haf': 15, 'freaky': 1, 'textpod': 2, 'practical': 2, 'sitter': 1, 'courageous': 1, '09065394973': 1, 'payed': 1, 'stereophonics': 1, 'detailed': 1, 'amore': 1, 'lovejen': 2, '50rcvd': 1, 'singing': 2, 'x': 40, 'chef': 1, 'hardly': 2, 'uwana': 1, '1172': 1, 'cross': 3, 'dirt': 1, 'cumming': 1, 'xxx': 27, 'zero': 1, 'med': 5, 'invention': 1, 'division': 1, '6wu': 2, '23g': 1, 'prof': 1, 'approaching': 1, 'mountain': 2, 'norm150p': 5, 'ghost': 2, 'esplanade': 3, 'wana': 9, '3750': 1, 'path': 1, 'tonght': 1, 'bcaz': 1, '36504': 6, 'po': 22, 'yr': 14, 'train': 9, 'gary': 3, 'interested': 7, 'leaf': 9, 'malaria': 1, 'occasion': 1, 'parking': 3, 'annie': 2, 'thanx': 25, 'car': 35, 'teju': 1, 'afford': 1, 'turn': 10, 'fortune': 1, 'mobilesvary': 2, 'person2die': 1, 'plan': 36, 'accommodationvouchers': 1, 'cantdo': 1, '08701417012': 2, 'fun': 23, 'lst': 2, 'reassurance': 1, 'telugu': 2, 'dehydrated': 1, 'serving': 2, 'txting': 8, 'brdget': 1, 'terry': 1, 'avo': 1, 'sachin': 3, 'aco': 1, '09061702893': 1, 'sleepingwith': 1, 'cabin': 5, 'outgoing': 1, '7pm': 4, 'daytime': 1, 'go2sri': 1, 'blog': 1, 'midnight': 5, 'paying': 8, 'paining': 1, 'weekly': 20, 'talkbut': 1, 'noe': 15, 'eh74rr': 1, 'thts': 4, 'asian': 1, 'slice': 1, 'smile': 32, 'cancelled': 2, 'mojibiola': 1, 'shexy': 1, 'refreshed': 1, 'diamond': 3, 'responding': 3, '16': 36, 'bein': 3, 'john': 7, 'favourite': 2, 'mumbai': 1, 'kr': 1, 'pocked': 1, 'lttrs': 2, 'iter': 1, 'ebay': 2, 'came': 24, 'madam': 2, 'woould': 1, 'sentiment': 1, 'holiday': 37, 'thesmszone': 1, 'lionp': 2, 'mone': 1, 'culdnt': 1, 'aletter': 1, 'jane': 3, 'btw': 3, 'benny': 1, 'textbook': 1, 'becz': 1, 'establish': 1, 'truly': 3, 'welcome': 15, 'tear': 8, 'intro': 5, 'nah': 7, 'aiyah': 4, 'lindsay': 1, 'o2fwd': 1, 'reached': 10, 'janarige': 1, 'olympics': 1, 'granted': 1, 'ard': 15, 'timing': 4, 'aunt': 2, 'tie': 1, 'window': 4, 'agency': 1, 'mean': 40, 'nag': 2, 'piss': 2, 'tagged': 1, '08000776320': 2, 'uterus': 1, '114': 2, 'slide': 2, 'appear': 1, 'likeyour': 1, 'prabha': 4, 'nigro': 1, 'rent': 7, 'explain': 4, 'wc1n3xx': 3, 'heat': 1, 'worry': 27, 'seen': 10, 'chocolate': 1, 'aquarius': 1, 'research': 2, 'hill': 4, 'carefully': 2, 'occupy': 2, 'barbie': 1, 'phone750': 1, 'wisheds': 1, 'baaaaaaaabe': 1, 'madstini': 1, 'axel': 1, 'level': 1, 'saw': 17, 'gon': 45, 'stuff': 37, 'kinda': 6, 'pre': 2, 'bookmark': 1, '42049': 1, 'small': 8, 'disturb': 9, 'dialogue': 1, 'wer': 2, 'tlk': 1, 'indian': 7, 'elaine': 1, 'entirely': 1, 'applyed': 1, 'paru': 1, 'rubber': 1, 'gimmi': 1, 'tape': 3, 'gauti': 1, 'feng': 1, 'poyyarikatur': 1, 'payback': 1, 'summon': 1, 'casualty': 1, '1er': 1, 'showroom': 1, 'si': 18, 'bstfrnd': 3, 'wrk': 2, '2waxsto': 2, 'refilled': 1, 'sense': 3, 'tp': 1, 'good': 202, 'trainners': 1, 'blow': 2, 'nyt': 11, 'listener': 1, 'independence': 1, 'admirer': 8, 'randomlly': 1, 'shut': 1, 'quiz': 12, 'dick': 3, 'chip': 1, 'hows': 14, 'spent': 7, 'apart': 2, 'tues': 1, '945': 1, 'armand': 4, '0800': 10, '087123002209am': 1, 'amnow': 1, 'wud': 2, 'awake': 5, 'amk': 1, 'nu': 2, 'busty': 1, 'openin': 1, 'talked': 1, 'waht': 2, 'egg': 8, 'roommate': 6, 'btwn': 1, '09066362231': 2, 'yellow': 2, 'seven': 3, '4': 236, 'tenant': 4, 'gamb': 1, 'weirdy': 1, 'informed': 6, 'everyday': 1, '1030': 2, 'sending': 8, 'asssssholeeee': 1, 'massive': 1, 'smack': 1, 'attached': 2, 'keralacircle': 1, 'study': 8, 'celebrate': 4, 'willing': 5, 'jogging': 2, 'lccltd': 1, 'activ8': 1, 'astrology': 1, 'madurai': 1, 'enjoying': 1, '25': 7, 'nahi': 1, 'gotany': 1, 'moved': 2, 'jack': 1, 'boat': 2, 'jaykwon': 1, '07753741225': 1, 'sm': 40, 'algorithm': 1, 'completed': 2, 'incident': 2, '6hl': 1, 'chief': 1, 'shrek': 1, 'diet': 2, 'page': 10, 'bra': 1, 'bridgwater': 1, 'parachute': 1, 'aburo': 1, 'rebtel': 1, 'real1': 1, 'doinat': 1, 'dungerees': 1, 'serious': 5, '4msgs': 1, 'publish': 1, 'season': 3, 'band': 1, 'erode': 1, 'includes': 1, 'offer': 34, 'skye': 1, 'sparkling': 1, 'sight': 4, 'ben': 3, 'balance': 11, 'price': 19, 'ink': 1, 'put': 25, 'pure': 1, 'reminding': 2, 'axis': 1, 'april': 5, 'floating': 1, 'breakfast': 1, 'dena': 1, 'woulda': 1, 'smoking': 3, 'gandhipuram': 1, 'yifeng': 1, 'costing': 1, 'nanny': 1, 'goodnite': 2, 'panty': 1, 'made': 25, 'gprs': 1, '07786200117': 2, 'hoped': 2, 'kickboxing': 1, 'gas': 11, '440': 2, 'switch': 2, 'knw': 11, 'pizza': 6, 'marriage': 5, '1winaweek': 3, 'woozles': 1, 'cafe': 5, 'spec': 1, 'bleak': 1, 'itz': 2, '2stoptxt': 3, 'cappuccino': 2, 'served': 1, '08712300220': 3, '14thmarch': 1, 'boost': 2, 'pick': 62, 'bray': 1, 'resubmit': 1, 'mc': 1, 'thnq': 1, 'enemy': 4, 'football': 4, 'management': 3, 'voila': 1, 'leave': 46, 'mood': 7, 'gent': 2, 'dinner': 28, 'some1': 5, 'lubly': 1, 'cooky': 2, 'dedicated': 2, 'roast': 1, 'experiencehttp': 1, 'dare': 3, '07': 2, '3d': 3, 'hont': 1, 'vivek': 1, 'wallpaper': 3, 'zaher': 1, 'hope': 86, 'ideal': 2, 'rule': 3, 'stated': 1, 'bday': 3, '100txt': 1, '09058094599': 2, '£150': 7, 'christ': 1, 'remb': 1, 'b4280703': 2, 'hip': 3, 'countinlots': 1, 'txttowin': 2, 'freeentry': 1, 'thou': 1, '1st': 31, 'morning': 66, 'settled': 4, 'registration': 1, 'leaving': 15, '09050000332': 1, 'divert': 1, 'noi\\x92m': 1, 'snogs': 1, 'z': 1, 'dessert': 1, 'souveniers': 1, 'schedule': 4, 'monday': 11, 'position': 2, 'pub': 18, 'butt': 3, 'energy': 6, 'we\\x92ve': 1, 'amt': 4, 'perhaps': 2, 'helping': 1, '09058091854': 2, 'fancied': 1, 'twice': 3, 'showing': 5, 'sweetie': 2, 'asks': 4, '09094646631': 1, 'clarification': 1, 'centre': 5, 'spiffing': 1, '6days': 1, 'picture': 4, 'sept': 4, 'brain': 3, 'drinking': 3, 'mg': 1, 'cumin': 1, 'esaplanade': 1, 'probably': 22, 'fee': 2, 'xavier': 2, 'start': 38, '£5000': 15, 'olage': 1, 'mark': 7, 'carryin': 1, 'birthdate': 1, 'csh11': 1, 'finally': 11, 'kvb': 1, 'tom': 2, 'glorious': 1, 'finished': 17, '1im': 1, 'heading': 2, 'textbuddy': 2, 'hilarious': 1, 'avoiding': 2, '26th': 2, 'drama': 1, 'closer': 4, '89034': 1, 'whether': 4, 'usual': 6, 'mwahs': 1, 'easier': 4, 'usps': 1, '83338': 1, 'tough': 5, 'computational': 1, 'ape': 1, 'secure': 1, 'hottest': 1, 'savamob': 6, 'bad': 27, 'sory': 3, 'headstart': 1, 'find': 67, 'quality': 5, 'bevy': 1, 'noworriesloans': 1, 'knowing': 3, 'ride': 5, 'gail': 1, 'rcv': 2, 'transfer': 3, 'antibiotic': 1, 'freedom': 1, 'wrecked': 1, 'nit': 2, 'expired': 2, 'pehle': 1, 'whatever': 14, 'justthought': 1, 'bangb': 1, 'rumbling': 1, 'treacle': 1, '448712404000': 1, '09041940223': 1, 'tescos': 1, 'tallahassee': 1, 'played': 3, 'edward': 2, 'starshine': 1, 'basq': 1, 'bike': 1, 'ignore': 5, 'vikky': 7, '£450': 1, 'rawring': 1, 'bslvyl': 8, 'gim': 3, 'orc': 1, 'werebored': 1, 'loxahatchee': 2, '0870241182716': 1, 'simpson': 1, 'wish': 48, 'ericsson': 2, 'expecting': 4, 'ringtones': 7, 'ke': 2, 'prediction': 1, 'gave': 10, 'desparate': 2, 'ryan': 1, '48922': 1, 'academic': 1, 'realising': 1, 'sec': 6, 'outl8r': 1, '1pm': 1, 'fixd': 1, 'beside': 1, 'gn': 8, 'hero': 2, 'ripped': 1, 'sat': 25, 'pharmacy': 1, 'except': 6, '09065989182': 1, 'turned': 1, '09050000928': 1, 'icic': 1, '08709501522': 1, 'tiime': 1, 'inning': 2, 'sonathaya': 1, '08708034412': 2, 'hotmix': 1, '2003': 10, 'grateful': 1, 'nearer': 1, 'pimple': 1, 'diaper': 1, 'longer': 6, 'pissed': 5, 'grown': 1, 'messenger': 3, 'earning': 1, '1146': 1, 'middle': 3, 'non': 1, 'freinds': 1, 'snow': 11, 'oyster': 1, '09065174042': 2, 'dang': 1, 'last': 62, 'weird': 3, 'lou': 2, 'ko': 1, '50ppm': 1, 'removed': 1, 'landline': 25, 'poem': 2, 'shell': 1, 'mundhe': 1, '87131': 2, '09064017295': 1, 'regret': 4, 'remember': 26, 'layin': 1, 'twiggs': 1, 'ipad': 2, 'echo': 1, 'instantly': 3, 'pan': 1, 'dust': 1, 'orig': 2, 'fit': 2, 'mb': 1, 'm26': 3, 'love': 161, '£12': 1, 'oreo': 2, 'lul': 1, 'bookshelf': 1, 'acted': 2, 'justify': 1, 'bloomberg': 1, 'sochte': 1, 'dehydration': 1, 'answr': 1, 'staff': 3, 'every': 48, 'spoken': 3, 'noisy': 1, 'change': 21, '09050003091': 2, 'stop': 116, 'stamped': 1, 'dan': 2, 'alian': 1, '087187272008': 1, '02073162414': 2, 'yah': 1, 'swap': 1, 'blank': 2, 'flirt': 4, 'shelf': 3, 'thinkthis': 1, 'fix': 5, 'pobox12n146tf150p': 1, 'nobbing': 1, 'size': 2, 'process': 5, 'decide': 6, 'idk': 3, 'baig': 1, 'bash': 1, 'mob': 17, 'kingdom': 1, 'didn\\x92t': 2, 'shake': 1, 'gnun': 1, 'infection': 1, 'kg': 2, 'arestaurant': 1, '61': 1, 'thurs': 4, '83383': 2, '07xxxxxxxxx': 3, 'threw': 2, 'star': 1, 'mouse': 1, 'ago': 9, 'mapquest': 1, 'cloud': 1, 'lakh': 1, 'lock': 2, 'finding': 1, 'annoyin': 1, 'hoody': 1, 'chic': 1, 'hop': 4, 'argue': 1, 'chest': 2, 'studio': 1, 'argh': 2, 'department': 2, 'onbus': 1, 'teenager': 1, 'westlife': 2, '69888': 1, 'lt': 202, 'wid': 15, 'feeling': 18, 'yeh': 3, 'haunt': 1, 'qlynnbv': 1, 'lolnice': 1, 'whole': 12, 'thk': 37, 'worst': 2, 'callfreefone': 2, 'fffff': 1, 'gbp1': 1, 'fruit': 1, 'aaniye': 1, 'inshah': 1, 'hearted': 1, 'daily': 6, 'munsters': 2, 'xafter': 1, 'thangam': 4, 'seemed': 3, 'piah': 1, 'interest': 1, 'tariff': 4, 'apologetic': 1, 'speling': 1, 'stomp': 1, 'buy': 46, 'gymnastics': 1, 'married': 7, 'subscription': 4, '“': 2, 'melnite': 1, 'thedailydraw': 1, 'fr': 12, 'unclaimed': 1, 'way': 81, 'ego': 1, 'grief': 1, 'tiwary': 2, 'sha': 4, 'allalo': 1, 'slo': 1, 'areyouunique': 1, 'bimbo': 1, 'room': 28, 'ba128nnfwfly150ppm': 1, '08001950382': 3, 'londn': 1, 'snd': 1, 'spacebucks': 1, 'determined': 1, 'jazz': 2, '09064012160': 2, 'dependent': 1, 'cc': 5, 'holla': 6, 'lyk': 1, 'shoppin': 2, 'bcz': 1, 'atlast': 2, 'leg': 4, 'teaching': 2, 'starer': 1, 'smeone': 1, 'use': 39, 'jolly': 2, 'abroad': 1, 'laugh': 9, 'bettersn': 1, 'stylish': 5, 'deleted': 3, 'lov': 1, 'zindgi': 1, 'il': 8, 'residency': 1, 'lot': 47, 'young': 1, 'abeg': 1, 'lesson': 19, 'environment': 2, 'miracle': 8, 'jungle': 1, 'crab': 1, 'homeowner': 3, 'predict': 1, 'muz': 8, 'uve': 1, '9307622': 1, 'labor': 1, 'hehe': 1, 'wrc': 2, 'occupied': 1, 'dancin': 1, 'south': 7, 'welp': 3, 'morphine': 3, '88888': 1, 'huh': 14, 'via': 10, 'hw': 7, 'pink': 2, 'novelty': 1, 'bone': 2, 'smear': 1, 'mistake': 9, 'form': 3, 'glad': 8, 'pleasure': 6, 'outfit': 1, 'min': 82, 'speechless': 3, 'temper': 1, 'ambitious': 1, 'girlfrnd': 2, 'adress': 1, 'rock': 10, 'especially': 2, 'yogasana': 3, 'hmv': 2, 'engalnd': 1, 'chill': 3, 'treasure': 1, 'sw73ss': 1, '2getha': 1, 'somewheresomeone': 1, 'hall': 1, 'ello': 1, 'oyea': 1, 'eckankar': 1, 'ceri': 1, 'congrats': 16, 'island': 5, 'bluray': 1, 'hug': 4, 'shahjahan': 1, 'kalisidare': 1, 'terror': 1, 'simonwatson5120': 1, 'who': 2, 'fact': 9, 'suprman': 2, 'windy': 1, '09': 2, 'applausestore': 1, 'wellda': 1, 'quick': 5, '6089': 1, 'completing': 1, 'catching': 2, 'toughest': 1, 'nervous': 1, 'damn': 6, 'either': 15, 'invest': 2, 'kitty': 1, '08448714184': 1, 'pull': 3, 'lmao': 2, 'everybody': 4, 'nìte': 1, 'mt': 3, 'ovulate': 1, 'affection': 4, 'voice': 9, 'shade': 1, '80155': 1, 'short': 7, 'reveal': 8, 'line': 37, 'tomorw': 1, 'cres': 1, 'alaikkum': 1, 'charity': 2, 'constant': 2, 'yoga': 5, 'or': 1, 'stadium': 1, 'mths': 5, 'nammanna': 1, 'realize': 1, 'meatball': 1, 'sed': 5, 'tomorro': 2, 'court': 1, 'skip': 3, 'soundtrack': 1, 'direct': 10, 'chance': 29, 'kissing': 1, 'fal': 1, 'lar': 36, 'gek1510': 1, 'best1': 3, '08718726971': 1, 'oru': 4, 'age23': 2, 'forgets': 1, 'panic': 1, 'headin': 2, 'strict': 1, 'normal': 8, 'trauma': 1, 'seperated': 1, '09066368753': 1, 'wonder': 12, 'bb': 8, 'franyxxxxx': 1, 'spot': 1, 'cried': 1, 'per': 48, 'shag': 1, 'camcorder': 13, '25p': 6, 'fa': 2, 'rgent': 1, 'frnt': 1, 'afternon': 1, 'havnt': 3, 'lately': 2, 'sore': 4, 'bt': 27, 'alright': 16, 'lesser': 1, '151': 1, 'ding': 2, 'algarve': 2, 'scratch': 1, '42478': 1, 'hopefully': 5, 'afraid': 4, 'fret': 2, 'purchase': 3, 'driving': 13, 'onluy': 1, 'priority': 1, 'box97n7qp': 3, 'complementary': 1, 'nimya': 5, 'satisfy': 2, 'strewn': 1, 'cthen': 1, 'violence': 1, 'draw': 40, 'getstop': 1, 'waste': 4, 'system': 4, 'character': 6, 'disk': 1, 'steve': 1, 'meant': 12, 'long': 33, 'say': 89, 'nosy': 1, 'troubleshooting': 1, 'crisis': 2, 'sister': 17, '85023': 5, 'meg': 1, '08719899229': 1, 'dub': 1, '83021': 1, 'intrude': 1, 'deer': 1, 'mahal': 2, 'abuse': 1, 'trial': 1, 'jiu': 4, 'today': 152, '30': 14, '37819': 1, 'recount': 1, 'se': 1, 'ranjith': 1, 'latest': 31, 'derek': 4, 'suit': 1, 'polyc': 1, 'wtf': 2, 'support': 11, '008704050406': 2, 'toot': 2, 'steam': 2, 'feathery': 1, '£5': 2, '07732584351': 1, 'com1win150ppmx3age16subscription': 1, 'series': 4, 'ho': 7, 'somerset': 1, 'musta': 1, 'melody': 1, 'atleast': 1, 'mquiz': 1, 'jiayin': 2, 'britney': 1, 'arent': 2, 'salon': 1, 'changing': 1, 'swing': 8, 'social': 3, 'thinking': 13, 'marry': 6, 'expiry': 1, 'up4': 1, 'b': 65, 'visiting': 1, 'satsgettin': 1, 'useless': 1, 'lifeis': 1, '8552': 2, 'cheat': 2, 'solved': 2, 'decking': 1, 'attractive': 1, 'jos': 1, 'smokin': 1, 'neville': 1, 'bao': 1, 'svc': 1, 'frndshp': 1, 'ls278bb': 1, 'tlp': 3, 'obviously': 4, 'gpu': 2, 'oscar': 1, 'awaiting': 5, 'sundayish': 1, 'pavanaputra': 1, '087147123779am': 1, 'grasp': 1, 'wt': 2, 'inside': 7, 'slightly': 2, 'farm': 3, 'sao': 1, '09058094507': 1, 'sef': 1, 'freezing': 3, 'reflection': 1, 'darling': 7, 'sunshine': 7, '09064017305': 1, 'measure': 1, '£1250': 2, 'ground': 3, 'shall': 25, 'joined': 8, 'howz': 3, 'supplier': 1, 'strain': 1, 'tiring': 1, 'wave': 1, 'gaze': 1, '7732584351': 1, 'work': 83, 'declare': 1, 'ro': 1, 'hard': 14, 'nd': 1, 'acknowledgement': 1, 'romantic': 5, 'gmw': 1, 'paris': 3, 'unsub': 6, 'monkeespeople': 1, 'julianaland': 1, 'manual': 1, 'blackberry': 4, 'yaxxx': 1, 'fiting': 1, 'stopsms': 1, 'allowed': 1, 'soon': 50, 'shore': 1, 'event': 3, 'added': 4, 'valued': 10, 'none': 5, 'appreciate': 7, 'aeronautics': 2, 'roger': 3, 'lord': 1, 'retired': 1, 'toclaim': 6, 'prizeawaiting': 1, '67441233': 1, 'sch': 16, 'ga': 1, 'cr01327bt': 1, 'team': 6, 'mokka': 1, 'kane': 1, 'bpo': 1, 'want': 174, 'èn': 1, 'wishin': 2, 'station': 6, '07090201529': 1, 'mile': 1, 'oveable': 1, '220': 3, '08704439680ts': 1, 'spain': 1, 'guy': 42, 'goigng': 1, '08719180248': 1, 'buck': 6, 'cricket': 1, 'beerage': 1, 'settling': 1, 'gep': 1, 'live': 32, 'colleague': 6, 'birla': 3, 'charles': 2, 'honestly': 1, '5249': 1, 'kalainar': 1, 'poet': 1, 'suite': 3, 'lac': 2, 'crickiting': 1, 'configure': 1, 'rental': 10, 'inch': 4, 'impossible': 2, 'vpod': 1, 'disconnect': 2, 'dangerous': 1, 'president': 1, 'affair': 4, 'downloads': 3, 'lotto': 1, 'ela': 2, 'doctor': 8, 'of£2000': 2, 'envelope': 3, 'meanwhile': 3, 'resolution': 1, 'wylie': 4, 'earn': 1, 'splleing': 2, 'bold': 6, 'webpage': 1, 'inst': 1, '08000407165': 1, '88088': 2, 'shun': 1, 'pretsovru': 1, 'mango': 1, 'timi': 1, 'quote': 4, 'shaking': 1, 'christian': 1, 'hotmail': 1, 'expressoffer': 2, 'participate': 1, 'brief': 1, 'rushing': 1, 'egbon': 1, 'walsall': 1, 'stuffed': 1, 'allo': 1, 'thirunelvali': 1, 'food': 16, 'proverb': 2, 'fault': 4, 'cause': 17, 'next': 48, 'canceled': 1, 'faggy': 2, 'sent': 50, 'sharing': 2, 'dontmatter': 1, 'i\\x92d': 2, 'vomiting': 1, 'anand': 1, 'like': 185, 'eveb': 2, '07099833605': 1, 'semiobscure': 1, 'basic': 4, 'score': 3, 'stapati': 1, 'box403': 1, 'perpetual': 1, 'possession': 2, 'gota': 1, 'fassyole': 1, 'easy': 26, 'marley': 1, 'deficient': 1, 'evo': 1, 'imat': 1, 'dramatic': 1, 'belongs': 1, 'bangbabes': 1, '2morrowxxxx': 1, 'taxt': 1, 'noun': 1, 'asshole': 1, '0808': 3, 'copied': 1, 'engaged': 1, 'amma': 1, 'now1': 1, 'head': 16, 'intrepid': 1, 'mac': 3, 'mileage': 1, 'jst': 6, 'boatin': 1, 'answer': 20, '8000930705': 1, 'tot': 17, 'am': 1, '5': 47, 'fetching': 1, 'tb': 5, 'valid12hrs': 3, 'panasonic': 1, 'itried2tell': 1, 'lamp': 1, '69876': 1, 'wat': 83, 'resuming': 1, 'salt': 1, '545': 1, 'rude': 4, 'wannatell': 1, 'burger': 2, '08718738002': 1, 'surfing': 4, 'ran': 4, 'wipe': 1, 'completely': 7, 'holder': 6, 'scratching': 1, 'prompt': 1, '4get': 3, 'channel': 2, 'tooo': 2, 'dear': 91, 'matrix3': 2, 'temp': 1, 'starring': 1, 'dent': 1, 'coca': 1, 'bakra': 1, 'embarassed': 3, '542': 4, 'oredi': 14, 'entire': 1, 'vilikkam': 1, 'wa': 3, 'tihs': 2, 'conform': 1, 'coffee': 8, 'logoff': 1, 'stoner': 1, 'whats': 14, 'syria': 1, 'mtmsg': 1, 'edhae': 1, 'waqt': 1, 'pudunga': 1, 'uncut': 1, 'priscilla': 2, 'waited': 2, 'chex': 1, 'adp': 1, 'feellikw': 1, 'abta': 1, 'txtno': 2, 'stopped': 4, 'wrote': 2, 'law': 5, '3650': 2, 'read': 11, 'developer': 1, 'response': 3, 'steed': 1, 'recession': 2, 'greatest': 1, 'aiya': 3, 'inconvenience': 1, 'stu': 1, 'web': 2, 'drum': 1, 'secret': 12, 'ref': 4, 'seem': 2, 'league': 1, 'dozen': 1, 'that\\x92s': 4, 'm8s': 2, 'replacing': 1, 'oblisingately': 1, 'squeezed': 1, 'hurricane': 1, 'acnt': 1, 'lingo': 1, 'province': 1, 'ag': 2, 'tc': 16, 'eurodisinc': 1, 'darkest': 1, 'tones2you': 2, 'gastroenteritis': 1, 'bleh': 1, 'harry': 2, 'srsly': 1, 'tall': 1, '82277': 6, '08002986030': 2, 'ltd': 10, 'closeby': 1, 'bffs': 1, 'merememberin': 1, 'canal': 2, 'stink': 1, 'member': 8, 'undrstndng': 1, '09096102316': 1, 'pc': 6, 'sold': 1, 'popped': 2, 'probs': 1, '1956669': 3, 'bigger': 2, 'latr': 4, 'marine': 1, 'planettalkinstant': 1, '2stoptx': 1, 'sayhey': 1, 'hanumanji': 1, 'sn': 4, 'workage': 1, 'happiness': 10, '09066362220': 1, 'yesterday': 21, 'physic': 1, 'ccna': 1, 'u2moro': 1, 'sunlight': 1, 'cd': 10, 'fetch': 4, 'thepub': 1, 'beggar': 1, 'tirunelvai': 1, '50perweeksub': 1, '08704439680': 1, 'selfish': 2, 'sensitive': 2, 'aeroplane': 2, 'grandfather': 1, 'lick': 3, 'teeth': 3, '08714342399': 1, 'certificate': 1, '330': 1, 'fran': 3, 'murali': 1, 'tai': 1, 'woken': 1, 'frank': 1, 'potato': 2, '12': 9, 'citizen': 1, 'become': 4, '402': 1, 'colour': 19, 'classmate': 1, 'movietrivia': 2, 'violet': 1, 'teach': 7, '92h': 1, 'pleased': 4, '08000930705': 14, '1205': 1, 'lonlines': 1, 'buttheres': 1, 'rinu': 1, 'avent': 3, 'much': 83, '3rd': 3, 'chore': 1, 'como': 1, 'al': 6, 'xx': 12, 'word': 55, 'e£nd': 1, 'matthew': 1, 'stuffing': 1, 'pathaya': 1, 'recharged': 1, 'forgotten': 2, 'successfully': 1, 'dino': 1, 'fallen': 1, 'fantastic': 7, 'call2optout': 7, 'hit': 12, 'occurs': 1, 'old': 15, 'contention': 1, 'footprint': 1, 'mth': 2, 'wife': 18, 'boston': 2, 'nw': 2, 'hopeing': 1, 'town': 20, 'yaxx': 1, 'attention': 1, 'sir': 29, 'row': 16, 'tt': 3, 'rip': 1, 'xt': 1, 'call': 447, 'trouble': 5, 'enjoy': 31, 'urn': 2, 'backwards': 1, 'extreme': 1, 'arnt': 1, 'vettam': 3, '27': 1, 'conclusion': 1, 'ta': 13, 'ldew': 7, 'woohoo': 1, 'milta': 1, 'mmmmm': 2, 'gentleman': 2, 'fyi': 4, 'near': 9, 'olayiwola': 1, 'didnt': 26, 'ugo': 1, 'culture': 1, '08718726270': 2, 'xxxxxx': 1, '45239': 2, 'contented': 1, 'devouring': 2, 'seat': 2, 'daaaaa': 1, 'avoids': 1, 'buying': 7, 'nok': 1, 'spoon': 2, 'exactly': 3, 'synced': 1, 'improve': 1, 'australia': 1, 'stressfull': 1, 'truck': 2, 'rumour': 2, 'ranju': 1, 'performed': 1, 'promised': 1, 'nichols': 2, 'die': 8, 'facebook': 6, 'met': 11, 'totally': 4, '63miles': 1, 'arr': 1, 'boggy': 1, 'unfortunately': 2, 'iz': 4, 'jess': 3, 'mw': 1, 'calld': 2, 'mycalls': 1, 'boye': 3, 'emc1': 1, 'formatting': 1, 'santacalling': 1, 'fedex': 1, 'accent': 1, 'allows': 1, 'coimbatore': 1, 'rofl': 2, 'pls': 89, 'angry': 9, 'ultimatum': 1, 'display': 3, 'lv': 2, 'wifi': 1, 'shaping': 1, 'half8th': 1, 'dramastorm': 1, 'trash': 1, 'compromised': 1, 'hundred': 3, 'thinkin': 7, 'library': 8, 'text82228': 1, 'sirji': 1, 'pix': 8, 'result': 7, 'reference': 7, 'anythin': 3, 'respectful': 2, 'lasting': 1, 'sd': 2, 'swimming': 3, 'chatter': 1, 'crash': 1, 'flurry': 1, 'till': 18, 'evrey': 2, 'reduce': 1, 'raining': 5, 'guitar': 1, 'fall': 5, 'thgt': 1, 'irene': 1, 'colourful': 1, 'youwanna': 1, 'unhappy': 1, 'shower': 11, 'dengra': 1, 'cutter': 1, 'conserve': 1, 'imma': 6, 'bedrm': 1, 'babysit': 1, 'lightly': 1, 'wondarfull': 1, '85': 2, 'reaction': 1, 'outfor': 1, 'sugar': 4, 'askd': 12, '5wb': 4, 'fren': 4, 'downloaded': 1, 'doggy': 1, '09050005321': 1, 'semester': 9, 'thanksgiving': 3, 'organizer': 1, 'xxsp': 1, 'anything': 51, 'limping': 1, 'realise': 2, 'youi': 1, 'locaxx': 1, 'mitsake': 2, '08715203677': 1, 'drive': 13, 'beyond': 2, 'killing': 2, 'cer': 1, 'reply': 110, 'incredible': 1, 'goodfriend': 1, 'telling': 8, 'morefrmmob': 1, 'pretsorginta': 1, 'oic': 3, 'shortbreaks': 1, 'rush': 4, 'biz': 5, 'taking': 16, 'k61': 1, 'pours': 2, 'claire': 1, 'lark': 1, 'hey': 94, '24m': 1, 'cost£1': 6, '£125': 1, '£3': 10, 'diff': 2, 'four': 3, 'chatting': 2, 'wasted': 1, 'realized': 2, 'toledo': 1, 'lk': 2, 'collecting': 3, 'registered': 8, 'card': 14, 'atrocious': 1, 'pain': 23, 'grand': 4, 'walk': 14, 'decorating': 1, 'cu': 1, 'resume': 2, 'frontierville': 1, 'wuld': 1, 'king': 6, '08700621170150p': 2, 'he\\x92s': 1, 'healer': 1, '7250i': 1, 'baller': 1, 'kavalan': 2, 'myspace': 1, 'ree': 1, 'questioned': 2, 'advance': 5, 'painting': 2, 'basketball': 1, '0871277810810': 1, 'agent': 2, 'fondly': 1, 'siguviri': 1, '373': 1, 'snowman': 2, 'making': 19, 'round': 7, '2yrs': 1, 'ruthful': 1, 'boring': 4, 'cm2': 3, 'dogbreath': 1, 'financial': 1, 'j89': 1, 'transfr': 2, 'heaven': 1, '89080': 1, '84484': 1, 'lit': 1, '28': 6, '0': 4, 'confirm': 11, 'music': 18, 'lanre': 1, '87121': 3, 'ore': 1, 'stop2': 1, 'anna': 2, 'best': 27, 'mo': 6, 'garbage': 2, 'smsco': 1, 'intha': 1, 'the4th': 1, 'hungover': 1, 'ending': 7, 'confirmd': 2, '9': 27, 'recognise': 2, 'theyre': 1, '23f': 1, 'quiet': 1, '5min': 1, 'wildest': 1, 'gm': 5, 'kilo': 1, 'ge': 11, 'mtnl': 1, 'list': 4, '150': 6, 'plum': 1, 'lem': 6, 'global': 1, 'coach': 1, '80': 1, '3aj': 1, 'uni': 4, 'version': 4, 'gently': 3, '1stchoice': 1, 'debating': 1, 'simply': 4, 'sterm': 1, 'function': 2, 'stuck': 3, 'delhi': 1, 'horny': 5, '7oz': 1, 'behalf': 1, 'hiya': 9, 'mjzgroup': 1, 'vill': 1, 'wavering': 1, 'oooh': 2, '£1000': 26, 'hmm': 14, 'imprtant': 1, 'back': 116, 'tired': 9, 'fill': 7, 'throw': 3, 'bedreal': 1, 'watr': 1, 'spoke': 6, 'qatar': 5, 'cyclist': 1, 'sq825': 1, 'sp': 6, 'unconvinced': 1, 'objection': 1, 'ultimate': 1, 'easily': 1, 'history': 3, 'w45wq': 5, 'rob': 1, 'toppoly': 1, '03': 10, 'ipaditan': 1, 'mymoby': 1, 'http': 15, 'naseeb': 1, 'prior': 1, 'ffffffffff': 1, 'fromm': 4, 'shivratri': 1, 'ana': 1, 'unable': 5, 'overdid': 1, 'apo': 1, 'pool': 2, 'moji': 4, 'stage': 1, 'l8tr': 2, 'undrstnd': 1, 'dileep': 1, 'kaiez': 1, 'treatin': 1, 'unconscious': 1, 'kindly': 3, 'confuses': 2, 'castor': 2, 'want2come': 1, 'steering': 1, 'downstem': 1, 'gigolo': 1, 'vegetable': 2, 'curtsey': 1, 'nimbomsons': 1, 'dancing': 2, 'sehwag': 1, '400': 1, 'video': 23, 'weed': 7, 'fuelled': 1, 'sweet': 26, '47': 1, 'yeovil': 1, '6': 37, '2rcv': 2, 'onwords': 1, 'continued': 1, 'badass': 1, 'miwa': 1, 'neft': 2, 'rstm': 2, 'neekunna': 1, '13': 2, 'reflex': 1, 'breath': 2, '£1000call': 1, 'bahamas': 2, 'spotty': 1, 'replacement': 2, 'hahaha': 3, 'alcohol': 2, 'designation': 1, 'stable': 1, 'fri': 11, 'pig': 4, 'dave': 3, 'slept': 6, '69969': 1, 'spree': 6, 'dogwood': 1, 'e14': 1, '7250': 2, 'disease': 1, 'actually': 29, 'connection': 6, 'guide': 6, '81010': 1, 'dance': 1, 'anyhow': 1, 'return': 10, '08452810075over18': 2, 'dwn': 1, 'motivating': 1, 'naked': 6, 'velusamy': 1, 'silently': 1, 'callertune': 5, 'responce': 2, 'champlaxigating': 1, 'scold': 1, 'reallyneed': 1, 'silent': 9, 'comfey': 1, 'weightloss': 1, 'squishy': 1, 'earlier': 11, 'perfect': 3, 'arng': 2, '22': 2, 'lined': 1, 'excused': 1, 'msgrcvd': 1, 'ave': 8, 'upgrading': 1, 'currently': 11, 'ahead': 7, '11pm': 3, 'huai': 1, 'whr': 1, 'k': 91, 'hum': 1, 'watchng': 1, 'swtheart': 3, 'bus8': 1, 'honeymoon': 1, 'swan': 1, 'anonymous': 1, '68866': 1, '6months': 3, 'point': 25, 'answering': 4, 'shadow': 1, 'standard': 4, 'thkin': 1, 'linerental': 3, 'wo': 1, 'neway': 2, 'cruise': 3, 'falconerf': 1, 'gravy': 1, 'handsome': 1, 'cheek': 1, 'pobox36504w45wq': 5, 'stability': 1, '09061701851': 1, '150ppermesssubscription': 3, 'eek': 2, 'varaya': 1, 'language': 2, 'hunting': 1, 'tm': 6, 'squeeeeeze': 1, 'prometazine': 1, 'tulip': 1, 'coat': 1, 'life': 54, 'blacko': 1, 'depression': 1, 'ask': 62, 'iouri': 3, '09066364311': 2, '08709222922': 1, 'innu': 1, '7ish': 1, 'tscs': 3, 'ali': 1, 'notxt': 1, 'knee': 1, 'stitch': 1, 'understand': 12, 'safety': 1, 'maruti': 1, 'outstanding': 2, 'visit': 12, 'yun': 3, 'simulate': 1, 'appendix': 1, 'happily': 2, 'forevr': 2, 'edison': 2, '26': 4, 'mail': 23, 'complexity': 1, 'dha': 1, 'avin': 1, 'impatient': 1, 'disturbing': 2, 'upgrdcentre': 1, 'shite': 1, 'brand': 6, 'carpark': 1, 'cal': 4, 'please': 105, 'magicalsongs': 1, 'nowhere': 1, 'befor': 3, 'polyh': 2, 'dirty': 3, 'nauseous': 1, 'fb': 3, 'rimac': 1, 'wire3': 1, 'eyed': 1, 'monkeyaround': 1, '9ae': 3, 'bbdeluxe': 1, '0871212025016': 1, 'hor': 2, 'practising': 1, 'handed': 1, 'exact': 3, 'mentor': 1, 'prayrs': 1, 'bob': 1, 'endof': 1, 'lingerie': 1, '08701417012150p': 2, 'phonebook': 1, 'community': 1, 'intend': 1, 'nitros': 1, 'clubmoby': 1, 'literally': 1, 'tel': 11, 'sashimi': 1, '09061790126': 1, 'explicitly': 1, 'combination': 1, '4w': 1, 'taught': 1, '83039': 1, 'txtstar': 1, '£1million': 1, '2optout': 5, 'rudi': 1, 'addicted': 1, '09050001295': 1, 'thot': 2, 'air': 4, 'brah': 2, 'ctagg': 1, 'steamboat': 1, 'jolt': 2, 'main': 1, 'recpt': 1, 'apparently': 4, 'light': 9, '40411': 1, 'hella': 4, 'hr': 6, '02': 6, 'repent': 1, '£79': 1, 'secretary': 2, 'later': 111, 'prey': 3, 'worthless': 1, 'amy': 2, 'digi': 1, 'stock': 4, 'print': 1, 'air1': 1, '69696': 2, 'representative': 7, '310303': 1, '45pm': 1, 'callback': 3, 'booked': 8, 'smiley': 1, 'pap': 2, 'anderson': 1, 'offering': 1, 'post': 18, 'wear': 4, 'beloved': 1, 'right': 70, 'paperwork': 1, 'tata': 1, 'blu': 1, 'sentence': 3, 'danger': 1, 'xclusive': 1, 'loved': 10, '9061100010': 1, 'ibhltd': 3, 'telephone': 1, '09050000301': 1, 'batchlor': 1, 'vewy': 1, 'telphone': 2, 'brilliantly': 1, 'break': 14, 'scream': 5, 'maga': 3, 'local': 6, 'faith': 2, 'untamed': 2, '40': 1, 'college': 12, 'fowler': 1, 'dearer': 3, 'messed': 1, 'astronomer': 1, 'friendship': 20, 'perfume': 1, 'graphic': 1, 'distract': 2, 'sweetheart': 2, 'msg': 104, 'tech': 2, 'unusual': 1, 'ijust': 1, 'spanish': 3, 'ambrith': 1, 'shijas': 2, 'byatch': 1, 'chechi': 1, 'comment': 1, 'special': 40, 'canlove': 1, 'epsilon': 2, '0721072': 1, 'tor': 1, 'torrent': 1, 'wesley': 2, 'holding': 6, 'sometimes': 7, 'tnc': 2, 'keluviri': 1, 'spk': 3, 'male': 2, 'chick': 1, 'predictive': 1, 'mids': 2, 'sipix': 5, 'bbc': 1, 'maturity': 1, 'textin': 1, 'polyphonic': 3, 'luton': 1, 'ate': 3, 'gentle': 4, 'poboxox36504w45wq': 1, 'hm': 2, 'lonely': 4, 'loosing': 1, 'nick': 1, 'ajith': 1, 'immediately': 9, 'caller': 15, 'somebody': 10, 'dt': 2, 'qbank': 1, 'kaila': 1, 'ayo': 1, 'november': 1, 'ou': 1, 'hui': 1, 'causing': 2, 'inconvenient': 1, 'bognor': 1, 'asked': 25, 'dental': 1, 'hear': 29, 'wadebridge': 1, 'route': 1, 'crashing': 1, 'listening': 4, 'caveboy': 1, 'get4an18th': 1, 'administrator': 1, 'tallent': 1, 'coast': 2, 'asus': 1, 'uawake': 1, 'wednesday': 5, 'told': 44, '04': 10, 'parked': 1, 'asp': 1, 'continent': 1, 'suppose': 2, 'try': 43, 'beating': 1, 'london': 5, 'guilty': 3, '430': 1, 'cop': 1, 'rodger': 1, 'rupaul': 1, 'opponenter': 1, 'men': 9, 'tune': 1, 'february': 4, 'wit': 10, 'nevr': 1, 'possibility': 1, 'hari': 1, '40gb': 6, 'approve': 1, 'pl': 1, 'kfc': 1, 'liverpool': 1, 'uncle': 15, 'slave': 6, 'recieve': 1, 'collection': 20, 'hand': 14, 'rang': 3, 'public': 3, 'voda': 3, 'duchess': 2, 'loving': 16, 'maaaan': 1, 'hold': 10, 'heard': 8, 'meet': 71, 'postcard': 2, 'hourish': 1, 'ikea': 3, 'unjalur': 1, 'je': 1, 'god': 35, 'gokila': 1, 'woman': 7, 'amigo': 1, 'aust': 1, 'jul': 1, '88877': 1, 'lower': 2, 'jia': 2, '3wks': 1, 'derp': 1, 'shldxxxx': 1, 'sonyericsson': 1, 'goal': 1, '14tcr': 1, 'bcm1896wc1n3xx': 2, 'orange': 25, 'unemployed': 1, 'belovd': 4, 'needed': 3, 'often': 4, 'wewa': 1, 'coco': 1, 'attempt': 19, 'ironing': 1, 'urgnt': 4, 'asap': 10, '3230': 1, '鈥┾': 1, 'getzed': 8, 'sitll': 2, 'doit': 1, 'take': 119, 'cooking': 3, 'seing': 1, 'sorting': 3}\n"
          ]
        }
      ],
      "source": [
        "vectors_train,index_unique_words,doc_word_count,total_sentences=calc_tf_idf(text_train)"
      ]
    },
    {
      "cell_type": "markdown",
      "id": "4ec94e97",
      "metadata": {},
      "source": [
        "##### Calculating TF-IDF for Test data using Train Vector size"
      ]
    },
    {
      "cell_type": "code",
      "execution_count": 43,
      "id": "9o5i8UVi5yT_",
      "metadata": {
        "id": "9o5i8UVi5yT_"
      },
      "outputs": [],
      "source": [
        "#testing data\n",
        "def testing_tf_idf(data,index_unique_words,doc_word_count,total_sentences):\n",
        "  vectors=[]\n",
        "  for sentence in data:\n",
        "    unique_words=index_unique_words.keys()\n",
        "    vector=np.zeros((len(unique_words),))\n",
        "    for word in set(sentence):\n",
        "      if word not in unique_words:\n",
        "        continue\n",
        "      tf = term_freq(sentence,word)\n",
        "      idf = inverse_doc_freq(word,doc_word_count,total_sentences+1)\n",
        "      value = tf*idf\n",
        "      vector[index_unique_words[word]] = value\n",
        "    vectors.append(vector)\n",
        "  return vectors\n",
        "vectors_test=testing_tf_idf(text_test,index_unique_words,doc_word_count,total_sentences)"
      ]
    },
    {
      "cell_type": "code",
      "execution_count": 44,
      "id": "f75e6cd2",
      "metadata": {
        "colab": {
          "base_uri": "https://localhost:8080/"
        },
        "id": "f75e6cd2",
        "outputId": "59e45c5d-8df2-43e9-e5f7-43ad6fba01e1"
      },
      "outputs": [
        {
          "name": "stdout",
          "output_type": "stream",
          "text": [
            "7280\n"
          ]
        }
      ],
      "source": [
        "#labels_train, labels_test, vectors_train, vectors_test = train_test_split(labels, vectors, test_size=0.05, random_state=42)\n",
        "print(len(index_unique_words))"
      ]
    },
    {
      "cell_type": "code",
      "execution_count": 45,
      "id": "11agGu-ry-DT",
      "metadata": {
        "colab": {
          "base_uri": "https://localhost:8080/"
        },
        "id": "11agGu-ry-DT",
        "outputId": "8a06bc25-c4d3-42f6-c826-8affa4b7577d"
      },
      "outputs": [
        {
          "name": "stdout",
          "output_type": "stream",
          "text": [
            "1113\n",
            "4452\n",
            "1113\n",
            "4452\n",
            "\n"
          ]
        }
      ],
      "source": [
        "print(len(labels_test))\n",
        "print(len(labels_train))\n",
        "print(len(vectors_test))\n",
        "print(len(vectors_train))\n",
        "print()"
      ]
    },
    {
      "cell_type": "code",
      "execution_count": null,
      "id": "e0e6d8d5",
      "metadata": {},
      "outputs": [],
      "source": []
    },
    {
      "cell_type": "markdown",
      "id": "ee6eb76b",
      "metadata": {
        "id": "ee6eb76b"
      },
      "source": [
        "### Train your KNN model (reuse previously iplemented model built from scratch) and test on your data"
      ]
    },
    {
      "cell_type": "markdown",
      "id": "22baf6b2",
      "metadata": {
        "id": "22baf6b2"
      },
      "source": [
        "***1. Experiment with different distance measures [Euclidean distance, Manhattan distance, Hamming Distance] and compare with the Cosine Similarity distance results.***"
      ]
    },
    {
      "cell_type": "code",
      "execution_count": 46,
      "id": "uSRRl2HRoXTP",
      "metadata": {
        "id": "uSRRl2HRoXTP"
      },
      "outputs": [],
      "source": [
        "#Calculating cosine similarity\n",
        "def cosine_distance(vector_a,vector_b):\n",
        "  dot_product=np.dot(vector_a, vector_b)\n",
        "  mag_a=math.sqrt(np.dot(vector_a, vector_a.T))\n",
        "  mag_b=math.sqrt(np.dot(vector_b,vector_b.T))\n",
        "  return (1.0-(dot_product/float(mag_a*mag_b)))\n",
        "def euclidean_distance(vector_a,vector_b):\n",
        "  return np.linalg.norm(vector_a - vector_b)\n",
        "def manhattan_distance(a, b):\n",
        "    return np.abs(a - b).sum()\n",
        "def calc_distance(vector_a,vector_b,metric):\n",
        "  if metric == \"euclidean\":\n",
        "    return euclidean_distance(vector_a,vector_b)\n",
        "  elif metric == \"manhattan\":\n",
        "    return manhattan_distance(vector_a,vector_b)\n",
        "  else:\n",
        "    return cosine_distance(vector_a,vector_b)"
      ]
    },
    {
      "cell_type": "markdown",
      "id": "3c9b85f3",
      "metadata": {},
      "source": [
        "Assigns class based on majority"
      ]
    },
    {
      "cell_type": "code",
      "execution_count": 47,
      "id": "rxJjWRhavZW4",
      "metadata": {
        "id": "rxJjWRhavZW4"
      },
      "outputs": [],
      "source": [
        "def get_class(selected_values):\n",
        "    s,h = 0,0\n",
        "    for value in selected_values:\n",
        "        if value == \"spam\":\n",
        "            s += 1\n",
        "        else:\n",
        "            h += 1\n",
        "    if s > h:\n",
        "        return \"spam\"\n",
        "    else:\n",
        "        return \"ham\""
      ]
    },
    {
      "cell_type": "code",
      "execution_count": 48,
      "id": "26521377",
      "metadata": {},
      "outputs": [],
      "source": [
        "def score_display(y_true,y_pred,labels):\n",
        "    print('Confusion matrix: ')\n",
        "    print(confusion_matrix(y_true, y_pred,labels=labels))\n",
        "    tn, fp, fn, tp = confusion_matrix(y_true, y_pred,labels=labels).ravel()\n",
        "    precision=tp/(tp+fp)\n",
        "    print('Precision: ',end='')\n",
        "    print(precision)\n",
        "    recall=tp/(tp+fn)\n",
        "    print('Recall: ',end='')\n",
        "    print(recall)\n",
        "    f1_score=2*(precision*recall)/(precision+recall)\n",
        "    print('F1 Score: ',end='')\n",
        "    print(f1_score)\n",
        "    print('Accuracy: ',end='')\n",
        "    print(accuracy_score(y_true,y_pred))\n",
        "def f1_score(y_true,y_pred,labels):\n",
        "    tn, fp, fn, tp = confusion_matrix(y_true, y_pred,labels=labels).ravel()\n",
        "    precision=tp/(tp+fp)\n",
        "    recall=tp/(tp+fn)\n",
        "    f1_score=2*(precision*recall)/(precision+recall)\n",
        "    return f1_score"
      ]
    },
    {
      "cell_type": "markdown",
      "id": "9e779f1b",
      "metadata": {},
      "source": [
        "Implementation of K-NN"
      ]
    },
    {
      "cell_type": "code",
      "execution_count": 49,
      "id": "3beNoZ0GFOSh",
      "metadata": {
        "id": "3beNoZ0GFOSh"
      },
      "outputs": [],
      "source": [
        "\n",
        "def k_nearest_neighbours(k,train_data,train_labels,test_data,metric=\"cosine\"):\n",
        "  test_labels=[]\n",
        "  for i in range(len(test_data)):\n",
        "    k_labels=[]\n",
        "    distances=[]\n",
        "    for j in range(len(train_data)):\n",
        "      distance=calc_distance(test_data[i],train_data[j],metric)\n",
        "      distances.append((distance,train_labels[j]))\n",
        "    top_k_labels=[]\n",
        "    distances.sort()\n",
        "    for j  in distances[:k]:\n",
        "      top_k_labels.append(j[1])\n",
        "    test_labels.append(get_class(top_k_labels))\n",
        "  test_labels=np.array(test_labels)\n",
        "  return test_labels\n",
        "#testing_labels=k_nearest_neighbours(5,vectors_train,labels_train,vectors_test)"
      ]
    },
    {
      "cell_type": "markdown",
      "id": "29dff742",
      "metadata": {},
      "source": []
    },
    {
      "cell_type": "code",
      "execution_count": 50,
      "id": "1ee82b0b",
      "metadata": {},
      "outputs": [],
      "source": [
        "# k nearest neigbour using single k value\n",
        "def k_nearest_neighbours(k_values,train_data,train_labels,test_data,metric=\"cosine\"):\n",
        "  test_labels=[]\n",
        "  for i in range(len(test_data)):\n",
        "    k_labels=[]\n",
        "    distances=[]\n",
        "    for j in range(len(train_data)):\n",
        "      distance=calc_distance(test_data[i],train_data[j],metric)\n",
        "      distances.append((distance,train_labels[j]))\n",
        "    top_k_labels=[]\n",
        "    distances.sort()\n",
        "    for j  in distances[:k]:\n",
        "      top_k_labels.append(j[1])\n",
        "    test_labels.append(get_class(top_k_labels))\n",
        "  test_labels=np.array(test_labels)\n",
        "  return test_labels"
      ]
    },
    {
      "cell_type": "code",
      "execution_count": 51,
      "id": "b9e08883",
      "metadata": {},
      "outputs": [],
      "source": [
        "#using an array of k-values\n",
        "def k_nearest_neighbours_batch(k_values,train_data,train_labels,test_data,true_label,metric=\"cosine\"):\n",
        "    xtrue_label=np.array(true_label)\n",
        "    all_distances=[]\n",
        "    for i in range(len(test_data)):\n",
        "        distances=[]\n",
        "        for j in range(len(train_data)):\n",
        "            distance=calc_distance(test_data[i],train_data[j],metric)\n",
        "            distances.append((distance,train_labels[j]))\n",
        "        distances.sort()\n",
        "        all_distances.append(distances)\n",
        "    f1_scores=[]\n",
        "    for k in k_values:\n",
        "        test_labels=[]\n",
        "        top_k_labels=[]\n",
        "        for i in range(len(test_data)):\n",
        "            for j  in all_distances[i][:k]:\n",
        "                top_k_labels.append(j[1])\n",
        "            test_labels.append(get_class(top_k_labels))\n",
        "        test_labels=np.array(test_labels)\n",
        "        score=f1_score(xtrue_label,test_labels,['ham','spam'])\n",
        "        f1_scores.append(score)\n",
        "    return f1_scores\n",
        "        "
      ]
    },
    {
      "cell_type": "code",
      "execution_count": 53,
      "id": "63ea8f79",
      "metadata": {},
      "outputs": [
        {
          "ename": "RuntimeWarning",
          "evalue": "invalid value encountered in double_scalars",
          "output_type": "error",
          "traceback": [
            "\u001b[0;31m---------------------------------------------------------------------------\u001b[0m",
            "\u001b[0;31mRuntimeWarning\u001b[0m                            Traceback (most recent call last)",
            "Input \u001b[0;32mIn [53]\u001b[0m, in \u001b[0;36m<module>\u001b[0;34m\u001b[0m\n\u001b[0;32m----> 1\u001b[0m f1_scores_cosine\u001b[38;5;241m=\u001b[39m\u001b[43mk_nearest_neighbours_batch\u001b[49m\u001b[43m(\u001b[49m\u001b[43m[\u001b[49m\u001b[38;5;241;43m1\u001b[39;49m\u001b[43m,\u001b[49m\u001b[38;5;241;43m3\u001b[39;49m\u001b[43m,\u001b[49m\u001b[38;5;241;43m5\u001b[39;49m\u001b[43m,\u001b[49m\u001b[38;5;241;43m7\u001b[39;49m\u001b[43m,\u001b[49m\u001b[38;5;241;43m11\u001b[39;49m\u001b[43m,\u001b[49m\u001b[38;5;241;43m17\u001b[39;49m\u001b[43m,\u001b[49m\u001b[38;5;241;43m23\u001b[39;49m\u001b[43m,\u001b[49m\u001b[38;5;241;43m28\u001b[39;49m\u001b[43m]\u001b[49m\u001b[43m,\u001b[49m\u001b[43mvectors_train\u001b[49m\u001b[43m,\u001b[49m\u001b[43mlabels_train\u001b[49m\u001b[43m,\u001b[49m\u001b[43mvectors_test\u001b[49m\u001b[43m,\u001b[49m\u001b[43mlabels_test\u001b[49m\u001b[43m,\u001b[49m\u001b[43mmetric\u001b[49m\u001b[38;5;241;43m=\u001b[39;49m\u001b[38;5;124;43m\"\u001b[39;49m\u001b[38;5;124;43mcosine\u001b[39;49m\u001b[38;5;124;43m\"\u001b[39;49m\u001b[43m)\u001b[49m\n",
            "Input \u001b[0;32mIn [51]\u001b[0m, in \u001b[0;36mk_nearest_neighbours_batch\u001b[0;34m(k_values, train_data, train_labels, test_data, true_label, metric)\u001b[0m\n\u001b[1;32m      6\u001b[0m distances\u001b[38;5;241m=\u001b[39m[]\n\u001b[1;32m      7\u001b[0m \u001b[38;5;28;01mfor\u001b[39;00m j \u001b[38;5;129;01min\u001b[39;00m \u001b[38;5;28mrange\u001b[39m(\u001b[38;5;28mlen\u001b[39m(train_data)):\n\u001b[0;32m----> 8\u001b[0m     distance\u001b[38;5;241m=\u001b[39m\u001b[43mcalc_distance\u001b[49m\u001b[43m(\u001b[49m\u001b[43mtest_data\u001b[49m\u001b[43m[\u001b[49m\u001b[43mi\u001b[49m\u001b[43m]\u001b[49m\u001b[43m,\u001b[49m\u001b[43mtrain_data\u001b[49m\u001b[43m[\u001b[49m\u001b[43mj\u001b[49m\u001b[43m]\u001b[49m\u001b[43m,\u001b[49m\u001b[43mmetric\u001b[49m\u001b[43m)\u001b[49m\n\u001b[1;32m      9\u001b[0m     distances\u001b[38;5;241m.\u001b[39mappend((distance,train_labels[j]))\n\u001b[1;32m     10\u001b[0m distances\u001b[38;5;241m.\u001b[39msort()\n",
            "Input \u001b[0;32mIn [46]\u001b[0m, in \u001b[0;36mcalc_distance\u001b[0;34m(vector_a, vector_b, metric)\u001b[0m\n\u001b[1;32m     15\u001b[0m   \u001b[38;5;28;01mreturn\u001b[39;00m manhattan_distance(vector_a,vector_b)\n\u001b[1;32m     16\u001b[0m \u001b[38;5;28;01melse\u001b[39;00m:\n\u001b[0;32m---> 17\u001b[0m   \u001b[38;5;28;01mreturn\u001b[39;00m \u001b[43mcosine_distance\u001b[49m\u001b[43m(\u001b[49m\u001b[43mvector_a\u001b[49m\u001b[43m,\u001b[49m\u001b[43mvector_b\u001b[49m\u001b[43m)\u001b[49m\n",
            "Input \u001b[0;32mIn [46]\u001b[0m, in \u001b[0;36mcosine_distance\u001b[0;34m(vector_a, vector_b)\u001b[0m\n\u001b[1;32m      4\u001b[0m mag_a\u001b[38;5;241m=\u001b[39mmath\u001b[38;5;241m.\u001b[39msqrt(np\u001b[38;5;241m.\u001b[39mdot(vector_a, vector_a\u001b[38;5;241m.\u001b[39mT))\n\u001b[1;32m      5\u001b[0m mag_b\u001b[38;5;241m=\u001b[39mmath\u001b[38;5;241m.\u001b[39msqrt(np\u001b[38;5;241m.\u001b[39mdot(vector_b,vector_b\u001b[38;5;241m.\u001b[39mT))\n\u001b[0;32m----> 6\u001b[0m \u001b[38;5;28;01mreturn\u001b[39;00m (\u001b[38;5;241m1.0\u001b[39m\u001b[38;5;241m-\u001b[39m(\u001b[43mdot_product\u001b[49m\u001b[38;5;241;43m/\u001b[39;49m\u001b[38;5;28;43mfloat\u001b[39;49m\u001b[43m(\u001b[49m\u001b[43mmag_a\u001b[49m\u001b[38;5;241;43m*\u001b[39;49m\u001b[43mmag_b\u001b[49m\u001b[43m)\u001b[49m))\n",
            "\u001b[0;31mRuntimeWarning\u001b[0m: invalid value encountered in double_scalars"
          ]
        }
      ],
      "source": [
        "f1_scores_cosine=k_nearest_neighbours_batch([1,3,5,7,11,17,23,28],vectors_train,labels_train,vectors_test,labels_test,metric=\"cosine\")"
      ]
    },
    {
      "cell_type": "code",
      "execution_count": null,
      "id": "Z0TnckGnd1o5",
      "metadata": {
        "id": "Z0TnckGnd1o5"
      },
      "outputs": [],
      "source": [
        "k_values=[1,3,5,7,11,17,23,28]\n",
        "accuracy_list_cosine=[]\n",
        "predicted_labels_list=[]\n",
        "for k in k_values:\n",
        "  predicted_labels=k_nearest_neighbours(k,vectors_train,labels_train,vectors_test,metric='cosine')\n",
        "  score=accuracy_score(labels_test,predicted_labels)\n",
        "  tn, fp, fn, tp = confusion_matrix(labels_test, predicted_labels,labels=['ham','spam']).ravel()\n",
        "  precision=tp/(tp+fp)\n",
        "  recall=tp/(tp+fn)\n",
        "  f1_score=2*(precision*recall)/(precision+recall)\n",
        "  accuracy_list_cosine.append(f1_score)\n",
        "  predicted_labels_list.append(predicted_labels)\n",
        "k_values=np.array(k_values)\n",
        "accuracy_list_cosine=np.array(accuracy_list_cosine)\n",
        "plt.plot(k_values,accuracy_list_cosine)\n",
        "plt.xlabel(\"k\")\n",
        "plt.ylabel(\"F1 score\")\n",
        "plt.title(\"KNN Cosine distance\")\n",
        "plt.show()"
      ]
    },
    {
      "cell_type": "code",
      "execution_count": 53,
      "id": "330f2689",
      "metadata": {},
      "outputs": [
        {
          "name": "stdout",
          "output_type": "stream",
          "text": [
            "Confusion matrix: \n",
            "[[113  56]\n",
            " [  1  30]]\n",
            "Precision: 0.3488372093023256\n",
            "Recall: 0.967741935483871\n",
            "F1 Score: 0.5128205128205129\n",
            "Accuracy: 0.715\n"
          ]
        }
      ],
      "source": [
        "from sklearn.metrics import accuracy_score\n",
        "from sklearn.metrics import confusion_matrix\n",
        "k_values=[1,3,5,7,11,17,23,28]\n",
        "accuracy_list_euclidean=[]\n",
        "predicted_labels_list=[]\n",
        "for k in k_values:\n",
        "  predicted_labels=k_nearest_neighbours(k,vectors_train,labels_train,vectors_test,metric='euclidean')\n",
        "  score=accuracy_score(labels_test,predicted_labels)\n",
        "  tn, fp, fn, tp = confusion_matrix(labels_test, predicted_labels,labels=['ham','spam']).ravel()\n",
        "  precision=tp/(tp+fp)\n",
        "  recall=tp/(tp+fn)\n",
        "  f1_score=2*(precision*recall)/(precision+recall)\n",
        "  accuracy_list_cosine.append(f1_score)\n",
        "  predicted_labels_list.append(predicted_labels)\n",
        "k_values=np.array(k_values)\n",
        "accuracy_list_euclidean=np.array(accuracy_list_cosine)\n",
        "plt.plot(k_values,m)\n",
        "plt.xlabel(\"k\")\n",
        "plt.ylabel(\"F1 score\")\n",
        "plt.title(\"KNN Euclidean distance\")\n",
        "plt.show()"
      ]
    },
    {
      "cell_type": "code",
      "execution_count": 54,
      "id": "a737af5c",
      "metadata": {},
      "outputs": [
        {
          "name": "stdout",
          "output_type": "stream",
          "text": [
            "Confusion matrix: \n",
            "[[169   0]\n",
            " [ 19  12]]\n",
            "Precision: 1.0\n",
            "Recall: 0.3870967741935484\n",
            "F1 Score: 0.5581395348837209\n",
            "Accuracy: 0.905\n"
          ]
        }
      ],
      "source": [
        "#Manhattan\n",
        "predicted_labels_manhattan=k_nearest_neighbours(5,vectors_train,labels_train,vectors_test,\"manhattan\")\n",
        "score_display(labels_test,predicted_labels_manhattan,labels=['ham','spam'])"
      ]
    },
    {
      "cell_type": "markdown",
      "id": "bcf6f3b1",
      "metadata": {
        "id": "bcf6f3b1"
      },
      "source": [
        "***2. Explain which distance measure works best and why? Explore the distance measures and weigh their pro and cons in different application settings.***"
      ]
    },
    {
      "cell_type": "markdown",
      "id": "d5db7d0c",
      "metadata": {},
      "source": [
        "Cosine Distance works best for "
      ]
    },
    {
      "cell_type": "markdown",
      "id": "45a99c76",
      "metadata": {
        "id": "45a99c76"
      },
      "source": [
        "***3. ***"
      ]
    },
    {
      "cell_type": "markdown",
      "id": "d4dde8d3",
      "metadata": {
        "id": "d4dde8d3"
      },
      "source": [
        "***4. Choose different K values (k=1,3,5,7,11,17,23,28) and experiment. Plot a graph showing F1 - score vs k.***"
      ]
    },
    {
      "cell_type": "code",
      "execution_count": 55,
      "id": "45e0fd2f",
      "metadata": {
        "id": "45e0fd2f"
      },
      "outputs": [
        {
          "name": "stderr",
          "output_type": "stream",
          "text": [
            "/tmp/ipykernel_5730/3250139233.py:6: RuntimeWarning: invalid value encountered in double_scalars\n",
            "  return (1.0-(dot_product/float(mag_a*mag_b)))\n",
            "/tmp/ipykernel_5730/3250139233.py:6: RuntimeWarning: invalid value encountered in double_scalars\n",
            "  return (1.0-(dot_product/float(mag_a*mag_b)))\n",
            "/tmp/ipykernel_5730/3250139233.py:6: RuntimeWarning: invalid value encountered in double_scalars\n",
            "  return (1.0-(dot_product/float(mag_a*mag_b)))\n",
            "/tmp/ipykernel_5730/3250139233.py:6: RuntimeWarning: invalid value encountered in double_scalars\n",
            "  return (1.0-(dot_product/float(mag_a*mag_b)))\n",
            "/tmp/ipykernel_5730/3250139233.py:6: RuntimeWarning: invalid value encountered in double_scalars\n",
            "  return (1.0-(dot_product/float(mag_a*mag_b)))\n",
            "/tmp/ipykernel_5730/3250139233.py:6: RuntimeWarning: invalid value encountered in double_scalars\n",
            "  return (1.0-(dot_product/float(mag_a*mag_b)))\n",
            "/tmp/ipykernel_5730/3250139233.py:6: RuntimeWarning: invalid value encountered in double_scalars\n",
            "  return (1.0-(dot_product/float(mag_a*mag_b)))\n",
            "/tmp/ipykernel_5730/3250139233.py:6: RuntimeWarning: invalid value encountered in double_scalars\n",
            "  return (1.0-(dot_product/float(mag_a*mag_b)))\n"
          ]
        }
      ],
      "source": [
        "from sklearn.metrics import accuracy_score\n",
        "from sklearn.metrics import confusion_matrix\n",
        "k_values=[1,3,5,7,11,17,23,28]\n",
        "#k_values=[5]\n",
        "accuracy_list=[]\n",
        "predicted_labels_list=[]\n",
        "for k in k_values:\n",
        "  predicted_labels=k_nearest_neighbours(k,vectors_train,labels_train,vectors_test,metric='cosine')\n",
        "  score=accuracy_score(labels_test,predicted_labels)\n",
        "  tn, fp, fn, tp = confusion_matrix(labels_test, predicted_labels,labels=['ham','spam']).ravel()\n",
        "  precision=tp/(tp+fp)\n",
        "  recall=tp/(tp+fn)\n",
        "  f1_score=2*(precision*recall)/(precision+recall)\n",
        "  accuracy_list.append(f1_score)\n",
        "  predicted_labels_list.append(predicted_labels)\n",
        "k_values=np.array(k_values)\n",
        "accuracy_list=np.array(accuracy_list)"
      ]
    },
    {
      "cell_type": "code",
      "execution_count": 56,
      "id": "eea67c5a",
      "metadata": {},
      "outputs": [
        {
          "name": "stdout",
          "output_type": "stream",
          "text": [
            "0.8076923076923077\n",
            "0.8620689655172414\n"
          ]
        }
      ],
      "source": [
        "print(f1_score)\n",
        "print(accuracy_list[0])"
      ]
    },
    {
      "cell_type": "code",
      "execution_count": 57,
      "id": "bysikuqCXWmt",
      "metadata": {
        "colab": {
          "base_uri": "https://localhost:8080/"
        },
        "id": "bysikuqCXWmt",
        "outputId": "611376e1-3316-45ac-9427-d0e513466f8f"
      },
      "outputs": [
        {
          "data": {
            "image/png": "[encoded data removed]",
            "text/plain": [
              "<Figure size 432x288 with 1 Axes>"
            ]
          },
          "metadata": {
            "needs_background": "light"
          },
          "output_type": "display_data"
        }
      ],
      "source": [
        "plt.plot(k_values,accuracy_list)\n",
        "plt.xlabel(\"k\")\n",
        "plt.ylabel(\"F1 score\")\n",
        "plt.show()"
      ]
    },
    {
      "cell_type": "code",
      "execution_count": 34,
      "id": "cd638b28",
      "metadata": {},
      "outputs": [
        {
          "data": {
            "image/png": "[encoded data removed]",
            "text/plain": [
              "<Figure size 432x288 with 1 Axes>"
            ]
          },
          "metadata": {
            "needs_background": "light"
          },
          "output_type": "display_data"
        }
      ],
      "source": [
        "from sklearn.metrics import accuracy_score\n",
        "from sklearn.metrics import confusion_matrix\n",
        "k_values=[1,3,5,7,11,17,23,28]\n",
        "#k_values=[5]\n",
        "accuracy_list=[]\n",
        "predicted_labels_list=[]\n",
        "for k in k_values:\n",
        "  predicted_labels=k_nearest_neighbours(k,vectors_train,labels_train,vectors_test,metric='euclidean')\n",
        "  score=accuracy_score(labels_test,predicted_labels)\n",
        "  tn, fp, fn, tp = confusion_matrix(labels_test, predicted_labels,labels=['ham','spam']).ravel()\n",
        "  precision=tp/(tp+fp)\n",
        "  recall=tp/(tp+fn)\n",
        "  f1_score=2*(precision*recall)/(precision+recall)\n",
        "  accuracy_list.append(f1_score)\n",
        "  predicted_labels_list.append(predicted_labels)\n",
        "k_values=np.array(k_values)\n",
        "accuracy_list=np.array(accuracy_list)\n",
        "plt.plot(k_values,accuracy_list)\n",
        "plt.xlabel(\"k\")\n",
        "plt.ylabel(\"F1 score\")\n",
        "plt.title(\"\")\n",
        "plt.show()"
      ]
    },
    {
      "cell_type": "markdown",
      "id": "15000352",
      "metadata": {
        "id": "15000352"
      },
      "source": [
        "### Train and test Sklearn's KNN classifier model on your data (use metric which gave best results on your experimentation with built-from-scratch model.)"
      ]
    },
    {
      "cell_type": "code",
      "execution_count": 44,
      "id": "233d56a6",
      "metadata": {},
      "outputs": [
        {
          "name": "stdout",
          "output_type": "stream",
          "text": [
            "Confusion matrix: \n",
            "[[949   2]\n",
            " [ 34 128]]\n",
            "Precision: 0.9846153846153847\n",
            "Recall: 0.7901234567901234\n",
            "F1 Score: 0.8767123287671232\n",
            "Accuracy: 0.967654986522911\n",
            "0.967654986522911\n",
            "[[949   2]\n",
            " [ 34 128]]\n"
          ]
        }
      ],
      "source": [
        "tfidf = TfidfVectorizer(tokenizer=lambda x:x, stop_words=None, lowercase=False)    \n",
        "tf_idf_text = tfidf.fit_transform(data['text'])\n",
        "x_train, x_test, y_train, y_test = train_test_split(tf_idf_text, data['type'], test_size=0.2, random_state=42)\n",
        "neigh = KNeighborsClassifier(n_neighbors=3,metric='cosine')\n",
        "neigh.fit(x_train, y_train)\n",
        "y_pred_sk=neigh.predict(x_test)\n",
        "score_display(y_test,y_pred_sk,labels=['ham','spam'])\n",
        "score=accuracy_score(y_test,y_pred_sk)\n",
        "print(score)\n",
        "print(confusion_matrix(y_test, y_pred_sk,labels=['ham','spam']))"
      ]
    },
    {
      "cell_type": "code",
      "execution_count": 46,
      "id": "a24d5d1c",
      "metadata": {},
      "outputs": [
        {
          "data": {
            "image/png": "[encoded data removed]",
            "text/plain": [
              "<Figure size 432x288 with 1 Axes>"
            ]
          },
          "metadata": {
            "needs_background": "light"
          },
          "output_type": "display_data"
        },
        {
          "name": "stdout",
          "output_type": "stream",
          "text": [
            "[0.932475884244373, 0.8767123287671232, 0.8571428571428572, 0.8531468531468532, 0.8398576512455516, 0.8172043010752689, 0.8145454545454545, 0.7925925925925926]\n"
          ]
        }
      ],
      "source": [
        "k_values=[1,3,5,7,11,17,23,28]\n",
        "#k_values=[5]\n",
        "accuracy_list_pred_sk=[]\n",
        "predicted_labels_list_sk=[]\n",
        "for k in k_values:\n",
        "  neigh = KNeighborsClassifier(n_neighbors=k,metric='cosine')\n",
        "  neigh.fit(x_train,y_train)\n",
        "  predicted_labels_sk=neigh.predict(x_test)\n",
        "  tn, fp, fn, tp = confusion_matrix(y_test, predicted_labels_sk,labels=['ham','spam']).ravel()\n",
        "  precision=tp/(tp+fp)\n",
        "  recall=tp/(tp+fn)\n",
        "  f1_score=2*(precision*recall)/(precision+recall)\n",
        "  accuracy_list_pred_sk.append(f1_score)\n",
        "  predicted_labels_list_sk.append(predicted_labels_sk)\n",
        "plt.plot(k_values,accuracy_list_pred_sk,label=\"SK LEARN\")\n",
        "plt.plot(k_values,accuracy_list_cosine,label=\"COSINE\")\n",
        "plt.xlabel(\"k\")\n",
        "plt.ylabel(\"F1 score\")\n",
        "plt.title(\"Comparison\")\n",
        "plt.legend()\n",
        "plt.show()\n",
        "print(accuracy_list_pred_sk)"
      ]
    },
    {
      "cell_type": "code",
      "execution_count": null,
      "id": "5dd6a8eb",
      "metadata": {},
      "outputs": [],
      "source": [
        "k_values=[1,3,5,7,11,17,23,28]\n",
        "#k_values=[5]\n",
        "accuracy_list_pred_sk=[]\n",
        "predicted_labels_list_sk=[]\n",
        "for k in k_values:\n",
        "  neigh = KNeighborsClassifier(n_neighbors=k,metric='cosine')\n",
        "  neigh.fit(x_train,y_train)\n",
        "  predicted_labels_sk=neigh.predict(x_test)\n",
        "  tn, fp, fn, tp = confusion_matrix(y_test, predicted_labels_sk,labels=['ham','spam']).ravel()\n",
        "  precision=tp/(tp+fp)\n",
        "  recall=tp/(tp+fn)\n",
        "  f1_score=2*(precision*recall)/(precision+recall)\n",
        "  accuracy_list_pred_sk.append(f1_score)\n",
        "  predicted_labels_list_sk.append(predicted_labels_sk)\n",
        "plt.plot(k_values,accuracy_list_pred_sk)\n",
        "plt.plot(k_values,accuracy_list_cosine)\n",
        "plt.xlabel(\"k\")\n",
        "plt.ylabel(\"F1 score\")\n",
        "plt.title(\"\")\n",
        "plt.show()\n",
        "print(accuracy_list_pred_sk)"
      ]
    },
    {
      "cell_type": "markdown",
      "id": "7d22aa47",
      "metadata": {
        "id": "7d22aa47"
      },
      "source": [
        "***Compare both the models result.***"
      ]
    },
    {
      "cell_type": "code",
      "execution_count": null,
      "id": "6a7a5274",
      "metadata": {
        "id": "6a7a5274"
      },
      "outputs": [],
      "source": []
    },
    {
      "cell_type": "markdown",
      "id": "64987575",
      "metadata": {
        "id": "64987575"
      },
      "source": [
        "***What is the time complexity of training using KNN classifier?***"
      ]
    },
    {
      "cell_type": "markdown",
      "id": "2770c106",
      "metadata": {
        "id": "2770c106"
      },
      "source": []
    },
    {
      "cell_type": "markdown",
      "id": "fad1f345",
      "metadata": {
        "id": "fad1f345"
      },
      "source": [
        "***What is the time complexity while testing? Is KNN a linear classifier or can it learn any boundary?***"
      ]
    },
    {
      "cell_type": "raw",
      "id": "0daaa324",
      "metadata": {
        "id": "0daaa324"
      },
      "source": []
    }
  ],
  "metadata": {
    "colab": {
      "collapsed_sections": [],
      "name": "2021201086_Assignment1_Question3.ipynb",
      "provenance": []
    },
    "kernelspec": {
      "display_name": "Python 3",
      "language": "python",
      "name": "python3"
    },
    "language_info": {
      "codemirror_mode": {
        "name": "ipython",
        "version": 3
      },
      "file_extension": ".py",
      "mimetype": "text/x-python",
      "name": "python",
      "nbconvert_exporter": "python",
      "pygments_lexer": "ipython3",
      "version": "3.8.10"
    }
  },
  "nbformat": 4,
  "nbformat_minor": 5
}
