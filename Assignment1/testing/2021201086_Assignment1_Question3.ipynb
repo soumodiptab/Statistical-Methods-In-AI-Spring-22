{
  "cells": [
    {
      "cell_type": "markdown",
      "id": "02c54141",
      "metadata": {
        "id": "02c54141"
      },
      "source": [
        "## Spam Email Classifier with KNN using TF-IDF scores"
      ]
    },
    {
      "cell_type": "markdown",
      "id": "1c17102e",
      "metadata": {
        "id": "1c17102e"
      },
      "source": [
        "1.   Assignment must be implemented in Python 3 only.\n",
        "2.   You are allowed to use libraries for data preprocessing (numpy, pandas, nltk etc) and for evaluation metrics, data visualization (matplotlib etc.).\n",
        "3.   You will be evaluated not just on the overall performance of the model and also on the experimentation with hyper parameters, data prepossessing techniques etc.\n",
        "4.   The report file must be a well documented jupyter notebook, explaining the experiments you have performed, evaluation metrics and corresponding code. The code must run and be able to reproduce the accuracies, figures/graphs etc.\n",
        "5.   For all the questions, you must create a train-validation data split and test the hyperparameter tuning on the validation set. Your jupyter notebook must reflect the same.\n",
        "6.   Strict plagiarism checking will be done. An F will be awarded for plagiarism."
      ]
    },
    {
      "cell_type": "markdown",
      "id": "0d34a310",
      "metadata": {
        "id": "0d34a310"
      },
      "source": [
        "**Task: Given an email, classify it as spam or ham**\n",
        "\n",
        "Given input text file (\"emails.txt\") containing 5572 email messages, with each row having its corresponding label (spam/ham) attached to it.\n",
        "\n",
        "This task also requires basic pre-processing of text (like removing stopwords, stemming/lemmatizing, replacing email_address with 'email-tag', etc..).\n",
        "\n",
        "You are required to find the tf-idf scores for the given data and use them to perform KNN using Cosine Similarity."
      ]
    },
    {
      "cell_type": "markdown",
      "id": "b0c87696",
      "metadata": {
        "id": "b0c87696"
      },
      "source": [
        "### Import necessary libraries"
      ]
    },
    {
      "cell_type": "code",
      "execution_count": 41,
      "id": "3d5a1fe2",
      "metadata": {
        "id": "3d5a1fe2"
      },
      "outputs": [],
      "source": [
        "import pandas as pd\n",
        "import numpy as np\n",
        "import matplotlib.pyplot as plt\n",
        "import string\n",
        "from nltk.corpus import stopwords\n",
        "from nltk.tokenize import word_tokenize\n",
        "from nltk.stem.wordnet import WordNetLemmatizer\n",
        "from sklearn.model_selection import train_test_split\n",
        "from sklearn.neighbors import KNeighborsClassifier\n",
        "from sklearn.metrics import accuracy_score\n",
        "from sklearn.metrics import confusion_matrix\n",
        "from scipy.spatial.distance import hamming\n",
        "from sklearn.feature_extraction.text import CountVectorizer\n",
        "from sklearn.feature_extraction.text import TfidfTransformer\n",
        "from sklearn.feature_extraction.text import TfidfVectorizer\n",
        "import nltk\n",
        "import math"
      ]
    },
    {
      "cell_type": "code",
      "execution_count": 42,
      "id": "sQJ8c3MjtqUG",
      "metadata": {
        "colab": {
          "base_uri": "https://localhost:8080/"
        },
        "id": "sQJ8c3MjtqUG",
        "outputId": "92cb3688-4235-491c-d9fb-947048edf7e1"
      },
      "outputs": [
        {
          "name": "stderr",
          "output_type": "stream",
          "text": [
            "[nltk_data] Downloading package punkt to\n",
            "[nltk_data]     /home/soumodiptab/nltk_data...\n",
            "[nltk_data]   Package punkt is already up-to-date!\n",
            "[nltk_data] Downloading package stopwords to\n",
            "[nltk_data]     /home/soumodiptab/nltk_data...\n",
            "[nltk_data]   Package stopwords is already up-to-date!\n",
            "[nltk_data] Downloading package wordnet to\n",
            "[nltk_data]     /home/soumodiptab/nltk_data...\n",
            "[nltk_data]   Package wordnet is already up-to-date!\n"
          ]
        },
        {
          "data": {
            "text/plain": [
              "True"
            ]
          },
          "execution_count": 42,
          "metadata": {},
          "output_type": "execute_result"
        }
      ],
      "source": [
        "#Downloading the nltk libraries\n",
        "nltk.download('punkt')\n",
        "nltk.download('stopwords')\n",
        "nltk.download('wordnet')"
      ]
    },
    {
      "cell_type": "markdown",
      "id": "yMyWwAWj_wKa",
      "metadata": {
        "id": "yMyWwAWj_wKa"
      },
      "source": [
        "### Load Dataset"
      ]
    },
    {
      "cell_type": "code",
      "execution_count": 43,
      "id": "f178f892",
      "metadata": {
        "colab": {
          "base_uri": "https://localhost:8080/",
          "height": 458
        },
        "id": "f178f892",
        "outputId": "0f14c687-90b1-4c49-fcc5-3ffb0ff85513"
      },
      "outputs": [
        {
          "data": {
            "text/html": [
              "<div>\n",
              "<style scoped>\n",
              "    .dataframe tbody tr th:only-of-type {\n",
              "        vertical-align: middle;\n",
              "    }\n",
              "\n",
              "    .dataframe tbody tr th {\n",
              "        vertical-align: top;\n",
              "    }\n",
              "\n",
              "    .dataframe thead th {\n",
              "        text-align: right;\n",
              "    }\n",
              "</style>\n",
              "<table border=\"1\" class=\"dataframe\">\n",
              "  <thead>\n",
              "    <tr style=\"text-align: right;\">\n",
              "      <th></th>\n",
              "      <th>type</th>\n",
              "      <th>text</th>\n",
              "    </tr>\n",
              "  </thead>\n",
              "  <tbody>\n",
              "    <tr>\n",
              "      <th>0</th>\n",
              "      <td>ham</td>\n",
              "      <td>Go until jurong point, crazy.. Available only ...</td>\n",
              "    </tr>\n",
              "    <tr>\n",
              "      <th>1</th>\n",
              "      <td>ham</td>\n",
              "      <td>Ok lar... Joking wif u oni...</td>\n",
              "    </tr>\n",
              "    <tr>\n",
              "      <th>2</th>\n",
              "      <td>spam</td>\n",
              "      <td>Free entry in 2 a wkly comp to win FA Cup fina...</td>\n",
              "    </tr>\n",
              "    <tr>\n",
              "      <th>3</th>\n",
              "      <td>ham</td>\n",
              "      <td>U dun say so early hor... U c already then say...</td>\n",
              "    </tr>\n",
              "    <tr>\n",
              "      <th>4</th>\n",
              "      <td>ham</td>\n",
              "      <td>Nah I don't think he goes to usf, he lives aro...</td>\n",
              "    </tr>\n",
              "    <tr>\n",
              "      <th>...</th>\n",
              "      <td>...</td>\n",
              "      <td>...</td>\n",
              "    </tr>\n",
              "    <tr>\n",
              "      <th>5567</th>\n",
              "      <td>spam</td>\n",
              "      <td>This is the 2nd time we have tried 2 contact u...</td>\n",
              "    </tr>\n",
              "    <tr>\n",
              "      <th>5568</th>\n",
              "      <td>ham</td>\n",
              "      <td>Will ü b going to esplanade fr home?</td>\n",
              "    </tr>\n",
              "    <tr>\n",
              "      <th>5569</th>\n",
              "      <td>ham</td>\n",
              "      <td>Pity, * was in mood for that. So...any other s...</td>\n",
              "    </tr>\n",
              "    <tr>\n",
              "      <th>5570</th>\n",
              "      <td>ham</td>\n",
              "      <td>The guy did some bitching but I acted like i'd...</td>\n",
              "    </tr>\n",
              "    <tr>\n",
              "      <th>5571</th>\n",
              "      <td>ham</td>\n",
              "      <td>Rofl. Its true to its name</td>\n",
              "    </tr>\n",
              "  </tbody>\n",
              "</table>\n",
              "<p>5572 rows × 2 columns</p>\n",
              "</div>"
            ],
            "text/plain": [
              "      type                                               text\n",
              "0      ham  Go until jurong point, crazy.. Available only ...\n",
              "1      ham                      Ok lar... Joking wif u oni...\n",
              "2     spam  Free entry in 2 a wkly comp to win FA Cup fina...\n",
              "3      ham  U dun say so early hor... U c already then say...\n",
              "4      ham  Nah I don't think he goes to usf, he lives aro...\n",
              "...    ...                                                ...\n",
              "5567  spam  This is the 2nd time we have tried 2 contact u...\n",
              "5568   ham               Will ü b going to esplanade fr home?\n",
              "5569   ham  Pity, * was in mood for that. So...any other s...\n",
              "5570   ham  The guy did some bitching but I acted like i'd...\n",
              "5571   ham                         Rofl. Its true to its name\n",
              "\n",
              "[5572 rows x 2 columns]"
            ]
          },
          "execution_count": 43,
          "metadata": {},
          "output_type": "execute_result"
        }
      ],
      "source": [
        "\"\"\"from google.colab import drive\n",
        "drive.mount('/content/drive')\n",
        "%cd /content/drive/My Drive/smai/\n",
        "\"\"\"\n",
        "data=pd.read_csv('emails.txt',sep='\\t',header=None)\n",
        "data.columns=['type','text']\n",
        "data"
      ]
    },
    {
      "cell_type": "markdown",
      "id": "cd1ef5ba",
      "metadata": {
        "id": "cd1ef5ba"
      },
      "source": [
        "### Preprocess data:\n",
        "1. Removing Punctuation\n",
        "2. Tokenizing\n",
        "3. Converting to lower case\n",
        "4. Removing stop words\n",
        "5. Lemmatizing the tokens"
      ]
    },
    {
      "cell_type": "code",
      "execution_count": 44,
      "id": "fd1733d7",
      "metadata": {
        "id": "fd1733d7"
      },
      "outputs": [],
      "source": [
        "# punctuations\n",
        "punctuations=string.punctuation\n",
        "# stopwords\n",
        "stop_words=stopwords.words('english')\n",
        "def remove_punctuations(text):\n",
        "  for c in punctuations:\n",
        "    text=text.replace(c,\" \")\n",
        "  return text\n",
        "wn = WordNetLemmatizer()\n",
        "#removing stopwords\n",
        "data['text'] = data['text'].apply(remove_punctuations)\n",
        "#tokenizing the text\n",
        "data['text'] = data['text'].apply(word_tokenize)\n",
        "#removing the \n",
        "data['text'] = data['text'].apply(lambda x: ([word.lower() for word in x if word.lower() not in stop_words]))\n",
        "#Lemmatizing\n",
        "data['text'] = data['text'].apply(lambda x: [wn.lemmatize(word) for word in x])"
      ]
    },
    {
      "cell_type": "code",
      "execution_count": 45,
      "id": "zjbnH-DisfLO",
      "metadata": {
        "colab": {
          "base_uri": "https://localhost:8080/"
        },
        "id": "zjbnH-DisfLO",
        "outputId": "3cbe448e-6676-4c1e-de1c-6ad8749b6209"
      },
      "outputs": [
        {
          "data": {
            "text/html": [
              "<div>\n",
              "<style scoped>\n",
              "    .dataframe tbody tr th:only-of-type {\n",
              "        vertical-align: middle;\n",
              "    }\n",
              "\n",
              "    .dataframe tbody tr th {\n",
              "        vertical-align: top;\n",
              "    }\n",
              "\n",
              "    .dataframe thead th {\n",
              "        text-align: right;\n",
              "    }\n",
              "</style>\n",
              "<table border=\"1\" class=\"dataframe\">\n",
              "  <thead>\n",
              "    <tr style=\"text-align: right;\">\n",
              "      <th></th>\n",
              "      <th>type</th>\n",
              "      <th>text</th>\n",
              "    </tr>\n",
              "  </thead>\n",
              "  <tbody>\n",
              "    <tr>\n",
              "      <th>4517</th>\n",
              "      <td>spam</td>\n",
              "      <td>[congrats, 2, mobile, 3g, videophones, r, call...</td>\n",
              "    </tr>\n",
              "    <tr>\n",
              "      <th>4452</th>\n",
              "      <td>ham</td>\n",
              "      <td>[problem, walk, around, julianaland, oblivious...</td>\n",
              "    </tr>\n",
              "    <tr>\n",
              "      <th>2594</th>\n",
              "      <td>ham</td>\n",
              "      <td>[tmr, timin, still, da, wat, co, got, lesson, 6]</td>\n",
              "    </tr>\n",
              "    <tr>\n",
              "      <th>2614</th>\n",
              "      <td>ham</td>\n",
              "      <td>[thanks, sending, mental, ability, question]</td>\n",
              "    </tr>\n",
              "    <tr>\n",
              "      <th>2196</th>\n",
              "      <td>ham</td>\n",
              "      <td>[v, aluable, ffectionate, l, oveable, e, terna...</td>\n",
              "    </tr>\n",
              "    <tr>\n",
              "      <th>5170</th>\n",
              "      <td>ham</td>\n",
              "      <td>[school, n, da, lab, stuff, give, call, ü, r, ...</td>\n",
              "    </tr>\n",
              "    <tr>\n",
              "      <th>2115</th>\n",
              "      <td>spam</td>\n",
              "      <td>[sunshine, hols, claim, ur, med, holiday, send...</td>\n",
              "    </tr>\n",
              "    <tr>\n",
              "      <th>5346</th>\n",
              "      <td>ham</td>\n",
              "      <td>[parent, kidz, friend, n, colleague, screaming...</td>\n",
              "    </tr>\n",
              "    <tr>\n",
              "      <th>4303</th>\n",
              "      <td>ham</td>\n",
              "      <td>[aiyar, hard, 2, type, u, later, free, tell, c...</td>\n",
              "    </tr>\n",
              "    <tr>\n",
              "      <th>1005</th>\n",
              "      <td>ham</td>\n",
              "      <td>[umma, say, anything]</td>\n",
              "    </tr>\n",
              "  </tbody>\n",
              "</table>\n",
              "</div>"
            ],
            "text/plain": [
              "      type                                               text\n",
              "4517  spam  [congrats, 2, mobile, 3g, videophones, r, call...\n",
              "4452   ham  [problem, walk, around, julianaland, oblivious...\n",
              "2594   ham   [tmr, timin, still, da, wat, co, got, lesson, 6]\n",
              "2614   ham       [thanks, sending, mental, ability, question]\n",
              "2196   ham  [v, aluable, ffectionate, l, oveable, e, terna...\n",
              "5170   ham  [school, n, da, lab, stuff, give, call, ü, r, ...\n",
              "2115  spam  [sunshine, hols, claim, ur, med, holiday, send...\n",
              "5346   ham  [parent, kidz, friend, n, colleague, screaming...\n",
              "4303   ham  [aiyar, hard, 2, type, u, later, free, tell, c...\n",
              "1005   ham                              [umma, say, anything]"
            ]
          },
          "execution_count": 45,
          "metadata": {},
          "output_type": "execute_result"
        }
      ],
      "source": [
        "data.sample(10)"
      ]
    },
    {
      "cell_type": "code",
      "execution_count": 46,
      "id": "wMLUMyu_2gj5",
      "metadata": {
        "colab": {
          "base_uri": "https://localhost:8080/"
        },
        "id": "wMLUMyu_2gj5",
        "outputId": "93b45c37-52f2-41a9-a1fe-aa837d2e0b58"
      },
      "outputs": [
        {
          "data": {
            "text/html": [
              "<div>\n",
              "<style scoped>\n",
              "    .dataframe tbody tr th:only-of-type {\n",
              "        vertical-align: middle;\n",
              "    }\n",
              "\n",
              "    .dataframe tbody tr th {\n",
              "        vertical-align: top;\n",
              "    }\n",
              "\n",
              "    .dataframe thead th {\n",
              "        text-align: right;\n",
              "    }\n",
              "</style>\n",
              "<table border=\"1\" class=\"dataframe\">\n",
              "  <thead>\n",
              "    <tr style=\"text-align: right;\">\n",
              "      <th></th>\n",
              "      <th>type</th>\n",
              "      <th>text</th>\n",
              "    </tr>\n",
              "  </thead>\n",
              "  <tbody>\n",
              "    <tr>\n",
              "      <th>3897</th>\n",
              "      <td>spam</td>\n",
              "      <td>[tell, u, 2, call, 09066358152, claim, £5000, ...</td>\n",
              "    </tr>\n",
              "    <tr>\n",
              "      <th>101</th>\n",
              "      <td>ham</td>\n",
              "      <td>[okay, name, ur, price, long, legal, wen, pick...</td>\n",
              "    </tr>\n",
              "    <tr>\n",
              "      <th>4578</th>\n",
              "      <td>spam</td>\n",
              "      <td>[contract, mobile, 11, mnths, latest, motorola...</td>\n",
              "    </tr>\n",
              "    <tr>\n",
              "      <th>4988</th>\n",
              "      <td>ham</td>\n",
              "      <td>[rushing, working, school, rush, go, hungry]</td>\n",
              "    </tr>\n",
              "    <tr>\n",
              "      <th>728</th>\n",
              "      <td>ham</td>\n",
              "      <td>[alright, omw, got, ta, change, order, half8th]</td>\n",
              "    </tr>\n",
              "    <tr>\n",
              "      <th>5175</th>\n",
              "      <td>ham</td>\n",
              "      <td>[raji, pls, favour, pls, convey, birthday, wis...</td>\n",
              "    </tr>\n",
              "    <tr>\n",
              "      <th>4187</th>\n",
              "      <td>ham</td>\n",
              "      <td>[hmm, ok, stay, like, hour, co, eye, really, s...</td>\n",
              "    </tr>\n",
              "    <tr>\n",
              "      <th>2172</th>\n",
              "      <td>ham</td>\n",
              "      <td>[wont, wat, wit, guy]</td>\n",
              "    </tr>\n",
              "    <tr>\n",
              "      <th>522</th>\n",
              "      <td>ham</td>\n",
              "      <td>[shall, come, get, pickle]</td>\n",
              "    </tr>\n",
              "    <tr>\n",
              "      <th>820</th>\n",
              "      <td>ham</td>\n",
              "      <td>[boo, babe, u, enjoyin, yourjob, u, seemed, 2,...</td>\n",
              "    </tr>\n",
              "  </tbody>\n",
              "</table>\n",
              "</div>"
            ],
            "text/plain": [
              "      type                                               text\n",
              "3897  spam  [tell, u, 2, call, 09066358152, claim, £5000, ...\n",
              "101    ham  [okay, name, ur, price, long, legal, wen, pick...\n",
              "4578  spam  [contract, mobile, 11, mnths, latest, motorola...\n",
              "4988   ham       [rushing, working, school, rush, go, hungry]\n",
              "728    ham    [alright, omw, got, ta, change, order, half8th]\n",
              "5175   ham  [raji, pls, favour, pls, convey, birthday, wis...\n",
              "4187   ham  [hmm, ok, stay, like, hour, co, eye, really, s...\n",
              "2172   ham                              [wont, wat, wit, guy]\n",
              "522    ham                         [shall, come, get, pickle]\n",
              "820    ham  [boo, babe, u, enjoyin, yourjob, u, seemed, 2,..."
            ]
          },
          "execution_count": 46,
          "metadata": {},
          "output_type": "execute_result"
        }
      ],
      "source": [
        "#removing lines with empty text\n",
        "data=data[data['text'].map(lambda d: len(d)) > 0]\n",
        "data.sample(10)"
      ]
    },
    {
      "cell_type": "markdown",
      "id": "gfzjouR_tDOy",
      "metadata": {
        "id": "gfzjouR_tDOy"
      },
      "source": [
        "#### Splitting Cleaned Data into test and train:"
      ]
    },
    {
      "cell_type": "code",
      "execution_count": 47,
      "id": "6TwW4rqA0ZDY",
      "metadata": {
        "id": "6TwW4rqA0ZDY"
      },
      "outputs": [],
      "source": [
        "text_train, text_test,labels_train, labels_test = train_test_split(data['text'],data['type'] ,test_size=0.20, random_state=42)\n",
        "labels_train=np.array(labels_train)\n",
        "labels_test=np.array(labels_test)\n",
        "text_train=np.array(text_train)\n",
        "text_test=np.array(text_test)"
      ]
    },
    {
      "cell_type": "markdown",
      "id": "b15bb760",
      "metadata": {},
      "source": [
        "##### Functions to calculate TF-IDF"
      ]
    },
    {
      "cell_type": "code",
      "execution_count": 48,
      "id": "z481EBWm5DbY",
      "metadata": {
        "id": "z481EBWm5DbY"
      },
      "outputs": [],
      "source": [
        "def term_freq(sentence, word):\n",
        "    N = len(sentence)\n",
        "    freq = len([x for x in sentence if x==word])\n",
        "    return freq/float(N)\n",
        "\n",
        "def inverse_doc_freq(word,doc_word_count,total_sentences):\n",
        "    doc_freq = doc_word_count[word] + 1\n",
        "    return math.log10(total_sentences/float(doc_freq))\n",
        "\n",
        "def tf_idf(sentence,doc_word_count,index_unique_words,unique_words,total_sentences):\n",
        "    tf_idf_vector = np.zeros((len(unique_words),))\n",
        "    for word in set(sentence):\n",
        "      tf = term_freq(sentence,word)\n",
        "      idf = inverse_doc_freq(word,doc_word_count,total_sentences)\n",
        "      value = tf*idf\n",
        "      tf_idf_vector[index_unique_words[word]] = value\n",
        "    return tf_idf_vector\n",
        "test_data=[]"
      ]
    },
    {
      "cell_type": "code",
      "execution_count": 49,
      "id": "eVf-q930y89N",
      "metadata": {
        "id": "eVf-q930y89N"
      },
      "outputs": [],
      "source": [
        "def build_unique_words(data_frame_col):\n",
        "  unique_words=set()\n",
        "  for text in data_frame_col:\n",
        "    unique_words=unique_words.union(set(text))\n",
        "  return unique_words\n",
        "def build_doc_freq(data_frame_col,unique_words):\n",
        "  doc_word_count=dict.fromkeys(unique_words, 0)\n",
        "  for text in data_frame_col:\n",
        "    for word in unique_words:\n",
        "      if word in text:\n",
        "        doc_word_count[word]+=1\n",
        "  return doc_word_count\n",
        "def calc_tf_idf(data_frame_col):\n",
        "  total_sentences=len(data_frame_col)\n",
        "  unique_words=build_unique_words(data_frame_col)\n",
        "  #for calculation of document freq:\n",
        "  doc_word_count=build_doc_freq(data_frame_col,unique_words)\n",
        "  print(doc_word_count)\n",
        "  index_unique_words={}\n",
        "  index=0\n",
        "  for word in unique_words:\n",
        "    index_unique_words[word]=index\n",
        "    index+=1\n",
        "  vectors=[]\n",
        "  for sentence in data_frame_col:\n",
        "    tf_idf_vector = tf_idf(sentence,doc_word_count,index_unique_words\n",
        "                             ,unique_words,total_sentences)\n",
        "    vectors.append(tf_idf_vector)\n",
        "  return vectors,index_unique_words,doc_word_count,total_sentences\n",
        "#labels=np.array(data['type'])\n",
        "#vectors=calc_tf_idf(data['text'])\n",
        "#test_data=data['text'].sample(10)\n",
        "#vectors,index_dict=calc_tf_idf(test_data)\n",
        "#test_data"
      ]
    },
    {
      "cell_type": "markdown",
      "id": "7413aa4c",
      "metadata": {},
      "source": [
        "##### Calculating the TF-IDF Vector for the Train Data"
      ]
    },
    {
      "cell_type": "code",
      "execution_count": null,
      "id": "MpJz5qZByGSa",
      "metadata": {
        "colab": {
          "base_uri": "https://localhost:8080/"
        },
        "id": "MpJz5qZByGSa",
        "outputId": "0b6bbdf2-ab8d-4ee9-9a03-ce75ce8daa1a"
      },
      "outputs": [],
      "source": [
        "vectors_train,index_unique_words,doc_word_count,total_sentences=calc_tf_idf(text_train)"
      ]
    },
    {
      "cell_type": "markdown",
      "id": "4ec94e97",
      "metadata": {},
      "source": [
        "##### Calculating TF-IDF for Test data using Train Vector size"
      ]
    },
    {
      "cell_type": "code",
      "execution_count": 51,
      "id": "9o5i8UVi5yT_",
      "metadata": {
        "id": "9o5i8UVi5yT_"
      },
      "outputs": [],
      "source": [
        "#testing data\n",
        "def testing_tf_idf(data,index_unique_words,doc_word_count,total_sentences):\n",
        "  vectors=[]\n",
        "  i=0\n",
        "  for sentence in data:\n",
        "    unique_words=index_unique_words.keys()\n",
        "    vector=np.zeros((len(unique_words),))\n",
        "    for word in set(sentence):\n",
        "      if word not in unique_words:\n",
        "        continue\n",
        "      tf = term_freq(sentence,word)\n",
        "      idf = inverse_doc_freq(word,doc_word_count,total_sentences+1)\n",
        "      value = tf*idf\n",
        "      vector[index_unique_words[word]] = value\n",
        "    vectors.append(vector)\n",
        "    i+=1\n",
        "  return vectors\n",
        "vectors_test=testing_tf_idf(text_test,index_unique_words,doc_word_count,total_sentences)"
      ]
    },
    {
      "cell_type": "code",
      "execution_count": 52,
      "id": "f75e6cd2",
      "metadata": {
        "colab": {
          "base_uri": "https://localhost:8080/"
        },
        "id": "f75e6cd2",
        "outputId": "59e45c5d-8df2-43e9-e5f7-43ad6fba01e1"
      },
      "outputs": [
        {
          "name": "stdout",
          "output_type": "stream",
          "text": [
            "7280\n"
          ]
        }
      ],
      "source": [
        "#labels_train, labels_test, vectors_train, vectors_test = train_test_split(labels, vectors, test_size=0.05, random_state=42)\n",
        "print(len(index_unique_words))"
      ]
    },
    {
      "cell_type": "code",
      "execution_count": 53,
      "id": "11agGu-ry-DT",
      "metadata": {
        "colab": {
          "base_uri": "https://localhost:8080/"
        },
        "id": "11agGu-ry-DT",
        "outputId": "8a06bc25-c4d3-42f6-c826-8affa4b7577d"
      },
      "outputs": [
        {
          "name": "stdout",
          "output_type": "stream",
          "text": [
            "1113\n",
            "4452\n",
            "1113\n",
            "4452\n"
          ]
        }
      ],
      "source": [
        "print(len(labels_test))\n",
        "print(len(labels_train))\n",
        "print(len(vectors_test))\n",
        "print(len(vectors_train))"
      ]
    },
    {
      "cell_type": "markdown",
      "id": "9b205075",
      "metadata": {},
      "source": [
        "Functions for Different distances: Cosine, Euclidean, Manhattan"
      ]
    },
    {
      "cell_type": "code",
      "execution_count": 54,
      "id": "bff45ebc",
      "metadata": {},
      "outputs": [],
      "source": [
        "#Calculating cosine similarity\n",
        "def cosine_distance(vector_a,vector_b):\n",
        "  dot_product=np.dot(vector_a, vector_b)\n",
        "  mag_a=math.sqrt(np.dot(vector_a, vector_a.T))\n",
        "  mag_b=math.sqrt(np.dot(vector_b,vector_b.T))\n",
        "  val=0\n",
        "  if mag_a != 0 and mag_b != 0:\n",
        "    val=dot_product/float(mag_a*mag_b)\n",
        "  return (1.0-(val))\n",
        "def euclidean_distance(vector_a,vector_b):\n",
        "  return np.linalg.norm(vector_a - vector_b)\n",
        "def manhattan_distance(a, b):\n",
        "    return np.abs(a - b).sum()\n",
        "def hamming_distance(vector_a,vector_b):\n",
        "  return hamming(vector_a,vector_b)*len(vector_a)\n",
        "def calc_distance(vector_a,vector_b,metric):\n",
        "  if metric == \"euclidean\":\n",
        "    return euclidean_distance(vector_a,vector_b)\n",
        "  elif metric == \"manhattan\":\n",
        "    return manhattan_distance(vector_a,vector_b)\n",
        "  elif metric == \"hamming\":\n",
        "    return hamming_distance(vector_a,vector_b)\n",
        "  else:\n",
        "    return cosine_distance(vector_a,vector_b)"
      ]
    },
    {
      "cell_type": "markdown",
      "id": "3c9b85f3",
      "metadata": {},
      "source": [
        "Assigns class based on majority"
      ]
    },
    {
      "cell_type": "code",
      "execution_count": 55,
      "id": "rxJjWRhavZW4",
      "metadata": {
        "id": "rxJjWRhavZW4"
      },
      "outputs": [],
      "source": [
        "def get_class(selected_values):\n",
        "    s,h = 0,0\n",
        "    for value in selected_values:\n",
        "        if value == \"spam\":\n",
        "            s += 1\n",
        "        else:\n",
        "            h += 1\n",
        "    if s > h:\n",
        "        return \"spam\"\n",
        "    else:\n",
        "        return \"ham\""
      ]
    },
    {
      "cell_type": "markdown",
      "id": "2f222f64",
      "metadata": {},
      "source": [
        "- f1_score calculates the f1 score\n",
        "- score_display prints confusionmatrix,precision,recall,f1_score"
      ]
    },
    {
      "cell_type": "code",
      "execution_count": 56,
      "id": "26521377",
      "metadata": {},
      "outputs": [],
      "source": [
        "def score_display(y_true,y_pred,labels):\n",
        "    print('Confusion matrix: ')\n",
        "    print(confusion_matrix(y_true, y_pred,labels=labels))\n",
        "    tn, fp, fn, tp = confusion_matrix(y_true, y_pred,labels=labels).ravel()\n",
        "    precision=tp/(tp+fp)\n",
        "    print('Precision: ',end='')\n",
        "    print(precision,end='')\n",
        "    recall=tp/(tp+fn)\n",
        "    print('\\tRecall: ',end='')\n",
        "    print(recall,end='')\n",
        "    f1_score=2*(precision*recall)/(precision+recall)\n",
        "    print('\\tF1 Score: ',end='')\n",
        "    print(f1_score,end='')\n",
        "    print('\\tAccuracy: ',end='')\n",
        "    print(accuracy_score(y_true,y_pred))\n",
        "def f1_score(y_true,y_pred,labels):\n",
        "    tn, fp, fn, tp = confusion_matrix(y_true, y_pred,labels=labels).ravel()\n",
        "    precision=tp/(tp+fp)\n",
        "    recall=tp/(tp+fn)\n",
        "    f1_score=2*(precision*recall)/(precision+recall)\n",
        "    return f1_score"
      ]
    },
    {
      "cell_type": "markdown",
      "id": "ee6eb76b",
      "metadata": {
        "id": "ee6eb76b"
      },
      "source": [
        "### Train your KNN model (reuse previously iplemented model built from scratch) and test on your data"
      ]
    },
    {
      "cell_type": "markdown",
      "id": "9e779f1b",
      "metadata": {},
      "source": [
        "Implementation of K-NN"
      ]
    },
    {
      "cell_type": "code",
      "execution_count": 57,
      "id": "3beNoZ0GFOSh",
      "metadata": {
        "id": "3beNoZ0GFOSh"
      },
      "outputs": [],
      "source": [
        "\n",
        "def k_nearest_neighbours(k,train_data,train_labels,test_data,metric=\"cosine\"):\n",
        "  test_labels=[]\n",
        "  for i in range(len(test_data)):\n",
        "    k_labels=[]\n",
        "    distances=[]\n",
        "    for j in range(len(train_data)):\n",
        "      distance=calc_distance(test_data[i],train_data[j],metric)\n",
        "      distances.append((distance,train_labels[j]))\n",
        "    top_k_labels=[]\n",
        "    distances.sort()\n",
        "    for j  in distances[:k]:\n",
        "      top_k_labels.append(j[1])\n",
        "    test_labels.append(get_class(top_k_labels))\n",
        "  test_labels=np.array(test_labels)\n",
        "  return test_labels\n",
        "#testing_labels=k_nearest_neighbours(5,vectors_train,labels_train,vectors_test)\n",
        "#f1_score(labels_test,testing_labels,['ham','spam'])"
      ]
    },
    {
      "cell_type": "markdown",
      "id": "f0f0e621",
      "metadata": {},
      "source": [
        "KNN for list of k values"
      ]
    },
    {
      "cell_type": "code",
      "execution_count": 58,
      "id": "b9e08883",
      "metadata": {},
      "outputs": [],
      "source": [
        "#using an array of k-values\n",
        "def k_nearest_neighbours_batch(k_values,train_data,train_labels,test_data,true_label,metric=\"cosine\",display=False):\n",
        "    xtrue_label=np.array(true_label)\n",
        "    all_distances=[]\n",
        "    for i in range(len(test_data)):\n",
        "        distances=[]\n",
        "        for j in range(len(train_data)):\n",
        "            distance=calc_distance(test_data[i],train_data[j],metric)\n",
        "            distances.append((distance,train_labels[j]))\n",
        "        distances.sort()\n",
        "        all_distances.append(distances)\n",
        "    f1_scores=[]\n",
        "    for k in k_values:\n",
        "        test_labels=[]\n",
        "        for i in range(len(test_data)):\n",
        "            top_k_labels=[]\n",
        "            for pair  in all_distances[i][:k]:\n",
        "                top_k_labels.append(pair[1])\n",
        "            test_labels.append(get_class(top_k_labels))\n",
        "        test_labels=np.array(test_labels)\n",
        "        score=f1_score(xtrue_label,test_labels,['ham','spam'])\n",
        "        if display:\n",
        "            print(f\"k = {k}\")\n",
        "            score_display(xtrue_label,test_labels,['ham','spam'])\n",
        "        f1_scores.append(score)\n",
        "    return f1_scores"
      ]
    },
    {
      "cell_type": "markdown",
      "id": "22baf6b2",
      "metadata": {
        "id": "22baf6b2"
      },
      "source": [
        "***1. Experiment with different distance measures [Euclidean distance, Manhattan distance, Hamming Distance] and compare with the Cosine Similarity distance results.***"
      ]
    },
    {
      "cell_type": "code",
      "execution_count": 59,
      "id": "5d7ae1e6",
      "metadata": {},
      "outputs": [
        {
          "name": "stdout",
          "output_type": "stream",
          "text": [
            "Confusion matrix: \n",
            "[[949   2]\n",
            " [ 42 120]]\n",
            "Precision: 0.9836065573770492\tRecall: 0.7407407407407407\tF1 Score: 0.8450704225352113\tAccuracy: 0.9604672057502246\n"
          ]
        }
      ],
      "source": [
        "cosine_labels=k_nearest_neighbours(5,vectors_train,labels_train,vectors_test)\n",
        "score_display(labels_test,cosine_labels,['ham','spam'])"
      ]
    },
    {
      "cell_type": "code",
      "execution_count": 60,
      "id": "660711bd",
      "metadata": {},
      "outputs": [
        {
          "name": "stdout",
          "output_type": "stream",
          "text": [
            "Confusion matrix: \n",
            "[[949   2]\n",
            " [ 42 120]]\n",
            "Precision: 0.9836065573770492\tRecall: 0.7407407407407407\tF1 Score: 0.8450704225352113\tAccuracy: 0.9604672057502246\n"
          ]
        }
      ],
      "source": [
        "euclidean_labels=k_nearest_neighbours(5,vectors_train,labels_train,vectors_test)\n",
        "score_display(labels_test,euclidean_labels,['ham','spam'])"
      ]
    },
    {
      "cell_type": "code",
      "execution_count": 61,
      "id": "9f276ba3",
      "metadata": {},
      "outputs": [
        {
          "name": "stdout",
          "output_type": "stream",
          "text": [
            "Confusion matrix: \n",
            "[[949   2]\n",
            " [ 42 120]]\n",
            "Precision: 0.9836065573770492\tRecall: 0.7407407407407407\tF1 Score: 0.8450704225352113\tAccuracy: 0.9604672057502246\n"
          ]
        }
      ],
      "source": [
        "manhattan_labels=k_nearest_neighbours(5,vectors_train,labels_train,vectors_test)\n",
        "score_display(labels_test,manhattan_labels,['ham','spam'])"
      ]
    },
    {
      "cell_type": "code",
      "execution_count": 62,
      "id": "a274a682",
      "metadata": {},
      "outputs": [],
      "source": [
        "k_values=[1,3,5,7,11,17,23,28]"
      ]
    },
    {
      "cell_type": "code",
      "execution_count": 63,
      "id": "dc86afcf",
      "metadata": {},
      "outputs": [],
      "source": [
        "f1_scores_cosine=k_nearest_neighbours_batch(k_values,vectors_train,labels_train,vectors_test,labels_test,metric=\"cosine\")\n",
        "f1_scores_euclidean=k_nearest_neighbours_batch(k_values,vectors_train,labels_train,vectors_test,labels_test,metric=\"euclidean\")\n",
        "f1_scores_manhattan=k_nearest_neighbours_batch(k_values,vectors_train,labels_train,vectors_test,labels_test,metric=\"manhattan\")"
      ]
    },
    {
      "cell_type": "code",
      "execution_count": 70,
      "id": "9d72a358",
      "metadata": {},
      "outputs": [
        {
          "data": {
            "image/png": "[encoded data removed]",
            "text/plain": [
              "<Figure size 432x288 with 1 Axes>"
            ]
          },
          "metadata": {
            "needs_background": "light"
          },
          "output_type": "display_data"
        }
      ],
      "source": [
        "plt.plot(k_values,f1_scores_cosine,label='Cosine')\n",
        "plt.plot(k_values,f1_scores_euclidean,label='Euclidean')\n",
        "plt.plot(k_values,f1_scores_manhattan,label='Manhattan')\n",
        "plt.xlabel(\"k\")\n",
        "plt.ylabel(\"F1 score\")\n",
        "plt.legend()\n",
        "plt.title(\"KNN distance comparison\")\n",
        "plt.show()"
      ]
    },
    {
      "cell_type": "markdown",
      "id": "bcf6f3b1",
      "metadata": {
        "id": "bcf6f3b1"
      },
      "source": [
        "***2. Explain which distance measure works best and why? Explore the distance measures and weigh their pro and cons in different application settings.***"
      ]
    },
    {
      "cell_type": "markdown",
      "id": "d5db7d0c",
      "metadata": {},
      "source": [
        "Observing the above graph we clearly understand that Cosine distance metric works best as it has better f1 score than the other metrics. This is because in Cosine similarity we look for the angle between two vectors whereas in Eucledian and Manhattan we look for the distance between them using the Minkowski formula.\n",
        "\n",
        "In our particluar use case the angle measurements provide far more accuracy for similarity between words due to the fact that it measures number counts between terms that are semantically similar, on the other hand euclidean and manhattan suffers from high dimensionality of vectors.\n",
        "\n",
        "* Cosine similarity: \n",
        "* Eucledian distance: \n",
        "* Manhattan distance: "
      ]
    },
    {
      "cell_type": "markdown",
      "id": "45a99c76",
      "metadata": {
        "id": "45a99c76"
      },
      "source": [
        "***3. For evaluating model, show confusion matrix, accuracy, recall, precision and F1-score. Answer why accuracy alone is not sufficient to evaluate the model. Why we need precision/recall/f1-score. ?***"
      ]
    },
    {
      "cell_type": "markdown",
      "id": "67cfe50b",
      "metadata": {},
      "source": [
        "Cosine Metric"
      ]
    },
    {
      "cell_type": "code",
      "execution_count": 30,
      "id": "f9e4b72b",
      "metadata": {},
      "outputs": [
        {
          "name": "stdout",
          "output_type": "stream",
          "text": [
            "k = 1\n",
            "Confusion matrix: \n",
            "[[948   3]\n",
            " [ 17 145]]\n",
            "Precision: 0.9797297297297297\tRecall: 0.8950617283950617\tF1 Score: 0.9354838709677419\tAccuracy: 0.9820305480682839\n",
            "k = 3\n",
            "Confusion matrix: \n",
            "[[949   2]\n",
            " [ 33 129]]\n",
            "Precision: 0.9847328244274809\tRecall: 0.7962962962962963\tF1 Score: 0.8805460750853241\tAccuracy: 0.9685534591194969\n",
            "k = 5\n",
            "Confusion matrix: \n",
            "[[949   2]\n",
            " [ 42 120]]\n",
            "Precision: 0.9836065573770492\tRecall: 0.7407407407407407\tF1 Score: 0.8450704225352113\tAccuracy: 0.9604672057502246\n",
            "k = 7\n",
            "Confusion matrix: \n",
            "[[948   3]\n",
            " [ 41 121]]\n",
            "Precision: 0.9758064516129032\tRecall: 0.7469135802469136\tF1 Score: 0.8461538461538461\tAccuracy: 0.9604672057502246\n",
            "k = 11\n",
            "Confusion matrix: \n",
            "[[949   2]\n",
            " [ 44 118]]\n",
            "Precision: 0.9833333333333333\tRecall: 0.7283950617283951\tF1 Score: 0.8368794326241135\tAccuracy: 0.958670260557053\n",
            "k = 17\n",
            "Confusion matrix: \n",
            "[[948   3]\n",
            " [ 44 118]]\n",
            "Precision: 0.9752066115702479\tRecall: 0.7283950617283951\tF1 Score: 0.8339222614840989\tAccuracy: 0.9577717879604672\n",
            "k = 23\n",
            "Confusion matrix: \n",
            "[[950   1]\n",
            " [ 51 111]]\n",
            "Precision: 0.9910714285714286\tRecall: 0.6851851851851852\tF1 Score: 0.8102189781021897\tAccuracy: 0.9532794249775381\n",
            "k = 28\n",
            "Confusion matrix: \n",
            "[[950   1]\n",
            " [ 58 104]]\n",
            "Precision: 0.9904761904761905\tRecall: 0.6419753086419753\tF1 Score: 0.7790262172284643\tAccuracy: 0.9469901168014375\n"
          ]
        },
        {
          "data": {
            "text/plain": [
              "[0.9354838709677419,\n",
              " 0.8805460750853241,\n",
              " 0.8450704225352113,\n",
              " 0.8461538461538461,\n",
              " 0.8368794326241135,\n",
              " 0.8339222614840989,\n",
              " 0.8102189781021897,\n",
              " 0.7790262172284643]"
            ]
          },
          "execution_count": 30,
          "metadata": {},
          "output_type": "execute_result"
        }
      ],
      "source": [
        "k_nearest_neighbours_batch(k_values,vectors_train,labels_train,vectors_test,labels_test,metric=\"cosine\",display=True)"
      ]
    },
    {
      "cell_type": "markdown",
      "id": "dd383ccd",
      "metadata": {},
      "source": [
        "Euclidean Metric"
      ]
    },
    {
      "cell_type": "code",
      "execution_count": 31,
      "id": "3d769eb6",
      "metadata": {},
      "outputs": [
        {
          "name": "stdout",
          "output_type": "stream",
          "text": [
            "k = 1\n",
            "Confusion matrix: \n",
            "[[933  18]\n",
            " [ 36 126]]\n",
            "Precision: 0.875\tRecall: 0.7777777777777778\tF1 Score: 0.823529411764706\tAccuracy: 0.9514824797843666\n",
            "k = 3\n",
            "Confusion matrix: \n",
            "[[938  13]\n",
            " [ 67  95]]\n",
            "Precision: 0.8796296296296297\tRecall: 0.5864197530864198\tF1 Score: 0.7037037037037037\tAccuracy: 0.9281221922731356\n",
            "k = 5\n",
            "Confusion matrix: \n",
            "[[940  11]\n",
            " [ 75  87]]\n",
            "Precision: 0.8877551020408163\tRecall: 0.5370370370370371\tF1 Score: 0.6692307692307694\tAccuracy: 0.9227313566936208\n",
            "k = 7\n",
            "Confusion matrix: \n",
            "[[943   8]\n",
            " [ 86  76]]\n",
            "Precision: 0.9047619047619048\tRecall: 0.4691358024691358\tF1 Score: 0.6178861788617886\tAccuracy: 0.9155435759209344\n",
            "k = 11\n",
            "Confusion matrix: \n",
            "[[943   8]\n",
            " [ 97  65]]\n",
            "Precision: 0.8904109589041096\tRecall: 0.4012345679012346\tF1 Score: 0.5531914893617021\tAccuracy: 0.9056603773584906\n",
            "k = 17\n",
            "Confusion matrix: \n",
            "[[944   7]\n",
            " [111  51]]\n",
            "Precision: 0.8793103448275862\tRecall: 0.3148148148148148\tF1 Score: 0.4636363636363637\tAccuracy: 0.8939802336028752\n",
            "k = 23\n",
            "Confusion matrix: \n",
            "[[946   5]\n",
            " [124  38]]\n",
            "Precision: 0.8837209302325582\tRecall: 0.2345679012345679\tF1 Score: 0.37073170731707317\tAccuracy: 0.8840970350404312\n",
            "k = 28\n",
            "Confusion matrix: \n",
            "[[945   6]\n",
            " [138  24]]\n",
            "Precision: 0.8\tRecall: 0.14814814814814814\tF1 Score: 0.25\tAccuracy: 0.8706199460916442\n"
          ]
        },
        {
          "data": {
            "text/plain": [
              "[0.823529411764706,\n",
              " 0.7037037037037037,\n",
              " 0.6692307692307694,\n",
              " 0.6178861788617886,\n",
              " 0.5531914893617021,\n",
              " 0.4636363636363637,\n",
              " 0.37073170731707317,\n",
              " 0.25]"
            ]
          },
          "execution_count": 31,
          "metadata": {},
          "output_type": "execute_result"
        }
      ],
      "source": [
        "k_nearest_neighbours_batch(k_values,vectors_train,labels_train,vectors_test,labels_test,metric=\"euclidean\",display=True)"
      ]
    },
    {
      "cell_type": "markdown",
      "id": "2c2fb7b0",
      "metadata": {},
      "source": [
        "Manhattan Metric"
      ]
    },
    {
      "cell_type": "code",
      "execution_count": 32,
      "id": "04c5d648",
      "metadata": {},
      "outputs": [
        {
          "name": "stdout",
          "output_type": "stream",
          "text": [
            "k = 1\n",
            "Confusion matrix: \n",
            "[[933  18]\n",
            " [ 36 126]]\n",
            "Precision: 0.875\tRecall: 0.7777777777777778\tF1 Score: 0.823529411764706\tAccuracy: 0.9514824797843666\n",
            "k = 3\n",
            "Confusion matrix: \n",
            "[[938  13]\n",
            " [ 67  95]]\n",
            "Precision: 0.8796296296296297\tRecall: 0.5864197530864198\tF1 Score: 0.7037037037037037\tAccuracy: 0.9281221922731356\n",
            "k = 5\n",
            "Confusion matrix: \n",
            "[[940  11]\n",
            " [ 75  87]]\n",
            "Precision: 0.8877551020408163\tRecall: 0.5370370370370371\tF1 Score: 0.6692307692307694\tAccuracy: 0.9227313566936208\n",
            "k = 7\n",
            "Confusion matrix: \n",
            "[[943   8]\n",
            " [ 86  76]]\n",
            "Precision: 0.9047619047619048\tRecall: 0.4691358024691358\tF1 Score: 0.6178861788617886\tAccuracy: 0.9155435759209344\n",
            "k = 11\n",
            "Confusion matrix: \n",
            "[[943   8]\n",
            " [ 97  65]]\n",
            "Precision: 0.8904109589041096\tRecall: 0.4012345679012346\tF1 Score: 0.5531914893617021\tAccuracy: 0.9056603773584906\n",
            "k = 17\n",
            "Confusion matrix: \n",
            "[[944   7]\n",
            " [111  51]]\n",
            "Precision: 0.8793103448275862\tRecall: 0.3148148148148148\tF1 Score: 0.4636363636363637\tAccuracy: 0.8939802336028752\n",
            "k = 23\n",
            "Confusion matrix: \n",
            "[[946   5]\n",
            " [124  38]]\n",
            "Precision: 0.8837209302325582\tRecall: 0.2345679012345679\tF1 Score: 0.37073170731707317\tAccuracy: 0.8840970350404312\n",
            "k = 28\n",
            "Confusion matrix: \n",
            "[[945   6]\n",
            " [138  24]]\n",
            "Precision: 0.8\tRecall: 0.14814814814814814\tF1 Score: 0.25\tAccuracy: 0.8706199460916442\n"
          ]
        },
        {
          "data": {
            "text/plain": [
              "[0.823529411764706,\n",
              " 0.7037037037037037,\n",
              " 0.6692307692307694,\n",
              " 0.6178861788617886,\n",
              " 0.5531914893617021,\n",
              " 0.4636363636363637,\n",
              " 0.37073170731707317,\n",
              " 0.25]"
            ]
          },
          "execution_count": 32,
          "metadata": {},
          "output_type": "execute_result"
        }
      ],
      "source": [
        "k_nearest_neighbours_batch(k_values,vectors_train,labels_train,vectors_test,labels_test,metric=\"euclidean\",display=True)"
      ]
    },
    {
      "cell_type": "markdown",
      "id": "ab8e6384",
      "metadata": {},
      "source": [
        "Hamming Metric"
      ]
    },
    {
      "cell_type": "code",
      "execution_count": 33,
      "id": "92550537",
      "metadata": {},
      "outputs": [
        {
          "name": "stdout",
          "output_type": "stream",
          "text": [
            "k = 1\n",
            "Confusion matrix: \n",
            "[[951   0]\n",
            " [149  13]]\n",
            "Precision: 1.0\tRecall: 0.08024691358024691\tF1 Score: 0.14857142857142858\tAccuracy: 0.8661275831087152\n",
            "k = 3\n",
            "Confusion matrix: \n",
            "[[951   0]\n",
            " [160   2]]\n",
            "Precision: 1.0\tRecall: 0.012345679012345678\tF1 Score: 0.024390243902439022\tAccuracy: 0.8562443845462714\n",
            "k = 5\n",
            "Confusion matrix: \n",
            "[[951   0]\n",
            " [161   1]]\n",
            "Precision: 1.0\tRecall: 0.006172839506172839\tF1 Score: 0.012269938650306747\tAccuracy: 0.8553459119496856\n",
            "k = 7\n",
            "Confusion matrix: \n",
            "[[951   0]\n",
            " [162   0]]\n",
            "Precision: nan\tRecall: 0.0\tF1 Score: nan\tAccuracy: 0.8544474393530997\n",
            "k = 11\n",
            "Confusion matrix: \n",
            "[[951   0]\n",
            " [162   0]]\n",
            "Precision: nan\tRecall: 0.0\tF1 Score: nan\tAccuracy: 0.8544474393530997\n",
            "k = 17\n",
            "Confusion matrix: \n",
            "[[951   0]\n",
            " [162   0]]\n",
            "Precision: nan\tRecall: 0.0\tF1 Score: nan\tAccuracy: 0.8544474393530997\n",
            "k = 23\n",
            "Confusion matrix: \n",
            "[[951   0]\n",
            " [162   0]]\n",
            "Precision: nan\tRecall: 0.0\tF1 Score: nan\tAccuracy: 0.8544474393530997\n",
            "k = 28\n",
            "Confusion matrix: \n",
            "[[951   0]\n",
            " [162   0]]\n",
            "Precision: nan\tRecall: 0.0\tF1 Score: nan\tAccuracy: 0.8544474393530997\n"
          ]
        },
        {
          "name": "stderr",
          "output_type": "stream",
          "text": [
            "/tmp/ipykernel_15296/279340802.py:18: RuntimeWarning: invalid value encountered in long_scalars\n",
            "  precision=tp/(tp+fp)\n",
            "/tmp/ipykernel_15296/279340802.py:5: RuntimeWarning: invalid value encountered in long_scalars\n",
            "  precision=tp/(tp+fp)\n",
            "/tmp/ipykernel_15296/279340802.py:18: RuntimeWarning: invalid value encountered in long_scalars\n",
            "  precision=tp/(tp+fp)\n",
            "/tmp/ipykernel_15296/279340802.py:5: RuntimeWarning: invalid value encountered in long_scalars\n",
            "  precision=tp/(tp+fp)\n",
            "/tmp/ipykernel_15296/279340802.py:18: RuntimeWarning: invalid value encountered in long_scalars\n",
            "  precision=tp/(tp+fp)\n",
            "/tmp/ipykernel_15296/279340802.py:5: RuntimeWarning: invalid value encountered in long_scalars\n",
            "  precision=tp/(tp+fp)\n",
            "/tmp/ipykernel_15296/279340802.py:18: RuntimeWarning: invalid value encountered in long_scalars\n",
            "  precision=tp/(tp+fp)\n",
            "/tmp/ipykernel_15296/279340802.py:5: RuntimeWarning: invalid value encountered in long_scalars\n",
            "  precision=tp/(tp+fp)\n",
            "/tmp/ipykernel_15296/279340802.py:18: RuntimeWarning: invalid value encountered in long_scalars\n",
            "  precision=tp/(tp+fp)\n",
            "/tmp/ipykernel_15296/279340802.py:5: RuntimeWarning: invalid value encountered in long_scalars\n",
            "  precision=tp/(tp+fp)\n"
          ]
        },
        {
          "data": {
            "text/plain": [
              "[0.14857142857142858,\n",
              " 0.024390243902439022,\n",
              " 0.012269938650306747,\n",
              " nan,\n",
              " nan,\n",
              " nan,\n",
              " nan,\n",
              " nan]"
            ]
          },
          "execution_count": 33,
          "metadata": {},
          "output_type": "execute_result"
        }
      ],
      "source": [
        "k_nearest_neighbours_batch(k_values,vectors_train,labels_train,vectors_test,labels_test,metric=\"hamming\",display=True)"
      ]
    },
    {
      "cell_type": "markdown",
      "id": "17295626",
      "metadata": {},
      "source": [
        "**Why accuracy is not sufficient?**\n"
      ]
    },
    {
      "cell_type": "markdown",
      "id": "d3f81917",
      "metadata": {},
      "source": []
    },
    {
      "cell_type": "markdown",
      "id": "d4dde8d3",
      "metadata": {
        "id": "d4dde8d3"
      },
      "source": [
        "***4. Choose different K values (k=1,3,5,7,11,17,23,28) and experiment. Plot a graph showing F1 - score vs k.***"
      ]
    },
    {
      "cell_type": "code",
      "execution_count": 34,
      "id": "45e0fd2f",
      "metadata": {
        "id": "45e0fd2f"
      },
      "outputs": [
        {
          "data": {
            "image/png": "[encoded data removed]",
            "text/plain": [
              "<Figure size 432x288 with 1 Axes>"
            ]
          },
          "metadata": {
            "needs_background": "light"
          },
          "output_type": "display_data"
        }
      ],
      "source": [
        "f1_scores_cosine=k_nearest_neighbours_batch(k_values,vectors_train,labels_train,vectors_test,labels_test,metric=\"cosine\")\n",
        "plt.plot(k_values,f1_scores_cosine)\n",
        "plt.xlabel(\"k\")\n",
        "plt.ylabel(\"F1 score\")\n",
        "plt.title(\"KNN Cosine distance\")\n",
        "plt.show()"
      ]
    },
    {
      "cell_type": "code",
      "execution_count": 35,
      "id": "ea06275a",
      "metadata": {},
      "outputs": [
        {
          "data": {
            "image/png": "[encoded data removed]",
            "text/plain": [
              "<Figure size 432x288 with 1 Axes>"
            ]
          },
          "metadata": {
            "needs_background": "light"
          },
          "output_type": "display_data"
        }
      ],
      "source": [
        "f1_scores_euclidean=k_nearest_neighbours_batch(k_values,vectors_train,labels_train,vectors_test,labels_test,metric=\"euclidean\")\n",
        "plt.plot(k_values,f1_scores_euclidean)\n",
        "plt.xlabel(\"k\")\n",
        "plt.ylabel(\"F1 score\")\n",
        "plt.title(\"KNN Euclidean distance\")\n",
        "plt.show()"
      ]
    },
    {
      "cell_type": "code",
      "execution_count": 36,
      "id": "eea67c5a",
      "metadata": {},
      "outputs": [
        {
          "data": {
            "image/png": "[encoded data removed]",
            "text/plain": [
              "<Figure size 432x288 with 1 Axes>"
            ]
          },
          "metadata": {
            "needs_background": "light"
          },
          "output_type": "display_data"
        }
      ],
      "source": [
        "f1_scores_manhattan=k_nearest_neighbours_batch(k_values,vectors_train,labels_train,vectors_test,labels_test,metric=\"manhattan\")\n",
        "plt.plot(k_values,f1_scores_manhattan)\n",
        "plt.xlabel(\"k\")\n",
        "plt.ylabel(\"F1 score\")\n",
        "plt.title(\"KNN Manhattan distance\")\n",
        "plt.show()"
      ]
    },
    {
      "cell_type": "markdown",
      "id": "15000352",
      "metadata": {
        "id": "15000352"
      },
      "source": [
        "### Train and test Sklearn's KNN classifier model on your data (use metric which gave best results on your experimentation with built-from-scratch model.)"
      ]
    },
    {
      "cell_type": "markdown",
      "id": "fff3949f",
      "metadata": {},
      "source": [
        "Using ideal TF-IDF Vectorizer to compare results between own TF-IDF and sklearn's TF-IDF"
      ]
    },
    {
      "cell_type": "code",
      "execution_count": 37,
      "id": "233d56a6",
      "metadata": {},
      "outputs": [],
      "source": [
        "tfidf = TfidfVectorizer(tokenizer=lambda x:x, stop_words=None, lowercase=False)    \n",
        "tf_idf_text = tfidf.fit_transform(data['text'])\n",
        "x_train, x_test, y_train, y_test = train_test_split(tf_idf_text, data['type'], test_size=0.2, random_state=42)"
      ]
    },
    {
      "cell_type": "code",
      "execution_count": 38,
      "id": "5dd6a8eb",
      "metadata": {},
      "outputs": [
        {
          "data": {
            "image/png": "[encoded data removed]",
            "text/plain": [
              "<Figure size 432x288 with 1 Axes>"
            ]
          },
          "metadata": {
            "needs_background": "light"
          },
          "output_type": "display_data"
        }
      ],
      "source": [
        "k_values=[1,3,5,7,11,17,23,28]\n",
        "accuracy_list_pred_sk=[]\n",
        "predicted_labels_list_sk=[]\n",
        "for k in k_values:\n",
        "  neigh = KNeighborsClassifier(n_neighbors=k,metric='cosine')\n",
        "  neigh.fit(x_train,y_train)\n",
        "  predicted_labels_sk=neigh.predict(x_test)\n",
        "  score=f1_score(y_test,predicted_labels_sk,labels=['ham','spam'])\n",
        "  accuracy_list_pred_sk.append(score)\n",
        "  predicted_labels_list_sk.append(predicted_labels_sk)\n",
        "plt.plot(k_values,accuracy_list_pred_sk)\n",
        "plt.xlabel(\"k\")\n",
        "plt.ylabel(\"F1 score\")\n",
        "plt.title(\"SK Learn cosine\")\n",
        "plt.show()"
      ]
    },
    {
      "cell_type": "markdown",
      "id": "7d22aa47",
      "metadata": {
        "id": "7d22aa47"
      },
      "source": [
        "***Compare both the models result.***"
      ]
    },
    {
      "cell_type": "code",
      "execution_count": 39,
      "id": "deb7c4c1",
      "metadata": {},
      "outputs": [
        {
          "name": "stdout",
          "output_type": "stream",
          "text": [
            "Confusion matrix: \n"
          ]
        },
        {
          "ename": "ValueError",
          "evalue": "Found input variables with inconsistent numbers of samples: [1113, 8]",
          "output_type": "error",
          "traceback": [
            "\u001b[0;31m---------------------------------------------------------------------------\u001b[0m",
            "\u001b[0;31mValueError\u001b[0m                                Traceback (most recent call last)",
            "Input \u001b[0;32mIn [39]\u001b[0m, in \u001b[0;36m<module>\u001b[0;34m\u001b[0m\n\u001b[0;32m----> 1\u001b[0m \u001b[43mscore_display\u001b[49m\u001b[43m(\u001b[49m\u001b[43my_test\u001b[49m\u001b[43m,\u001b[49m\u001b[43mpredicted_labels_list_sk\u001b[49m\u001b[43m,\u001b[49m\u001b[43mlabels\u001b[49m\u001b[38;5;241;43m=\u001b[39;49m\u001b[43m[\u001b[49m\u001b[38;5;124;43m'\u001b[39;49m\u001b[38;5;124;43mham\u001b[39;49m\u001b[38;5;124;43m'\u001b[39;49m\u001b[43m,\u001b[49m\u001b[38;5;124;43m'\u001b[39;49m\u001b[38;5;124;43mspam\u001b[39;49m\u001b[38;5;124;43m'\u001b[39;49m\u001b[43m]\u001b[49m\u001b[43m)\u001b[49m\n",
            "Input \u001b[0;32mIn [23]\u001b[0m, in \u001b[0;36mscore_display\u001b[0;34m(y_true, y_pred, labels)\u001b[0m\n\u001b[1;32m      1\u001b[0m \u001b[38;5;28;01mdef\u001b[39;00m \u001b[38;5;21mscore_display\u001b[39m(y_true,y_pred,labels):\n\u001b[1;32m      2\u001b[0m     \u001b[38;5;28mprint\u001b[39m(\u001b[38;5;124m'\u001b[39m\u001b[38;5;124mConfusion matrix: \u001b[39m\u001b[38;5;124m'\u001b[39m)\n\u001b[0;32m----> 3\u001b[0m     \u001b[38;5;28mprint\u001b[39m(\u001b[43mconfusion_matrix\u001b[49m\u001b[43m(\u001b[49m\u001b[43my_true\u001b[49m\u001b[43m,\u001b[49m\u001b[43m \u001b[49m\u001b[43my_pred\u001b[49m\u001b[43m,\u001b[49m\u001b[43mlabels\u001b[49m\u001b[38;5;241;43m=\u001b[39;49m\u001b[43mlabels\u001b[49m\u001b[43m)\u001b[49m)\n\u001b[1;32m      4\u001b[0m     tn, fp, fn, tp \u001b[38;5;241m=\u001b[39m confusion_matrix(y_true, y_pred,labels\u001b[38;5;241m=\u001b[39mlabels)\u001b[38;5;241m.\u001b[39mravel()\n\u001b[1;32m      5\u001b[0m     precision\u001b[38;5;241m=\u001b[39mtp\u001b[38;5;241m/\u001b[39m(tp\u001b[38;5;241m+\u001b[39mfp)\n",
            "File \u001b[0;32m~/.local/lib/python3.8/site-packages/sklearn/metrics/_classification.py:307\u001b[0m, in \u001b[0;36mconfusion_matrix\u001b[0;34m(y_true, y_pred, labels, sample_weight, normalize)\u001b[0m\n\u001b[1;32m    222\u001b[0m \u001b[38;5;28;01mdef\u001b[39;00m \u001b[38;5;21mconfusion_matrix\u001b[39m(\n\u001b[1;32m    223\u001b[0m     y_true, y_pred, \u001b[38;5;241m*\u001b[39m, labels\u001b[38;5;241m=\u001b[39m\u001b[38;5;28;01mNone\u001b[39;00m, sample_weight\u001b[38;5;241m=\u001b[39m\u001b[38;5;28;01mNone\u001b[39;00m, normalize\u001b[38;5;241m=\u001b[39m\u001b[38;5;28;01mNone\u001b[39;00m\n\u001b[1;32m    224\u001b[0m ):\n\u001b[1;32m    225\u001b[0m     \u001b[38;5;124;03m\"\"\"Compute confusion matrix to evaluate the accuracy of a classification.\u001b[39;00m\n\u001b[1;32m    226\u001b[0m \n\u001b[1;32m    227\u001b[0m \u001b[38;5;124;03m    By definition a confusion matrix :math:`C` is such that :math:`C_{i, j}`\u001b[39;00m\n\u001b[0;32m   (...)\u001b[0m\n\u001b[1;32m    305\u001b[0m \u001b[38;5;124;03m    (0, 2, 1, 1)\u001b[39;00m\n\u001b[1;32m    306\u001b[0m \u001b[38;5;124;03m    \"\"\"\u001b[39;00m\n\u001b[0;32m--> 307\u001b[0m     y_type, y_true, y_pred \u001b[38;5;241m=\u001b[39m \u001b[43m_check_targets\u001b[49m\u001b[43m(\u001b[49m\u001b[43my_true\u001b[49m\u001b[43m,\u001b[49m\u001b[43m \u001b[49m\u001b[43my_pred\u001b[49m\u001b[43m)\u001b[49m\n\u001b[1;32m    308\u001b[0m     \u001b[38;5;28;01mif\u001b[39;00m y_type \u001b[38;5;129;01mnot\u001b[39;00m \u001b[38;5;129;01min\u001b[39;00m (\u001b[38;5;124m\"\u001b[39m\u001b[38;5;124mbinary\u001b[39m\u001b[38;5;124m\"\u001b[39m, \u001b[38;5;124m\"\u001b[39m\u001b[38;5;124mmulticlass\u001b[39m\u001b[38;5;124m\"\u001b[39m):\n\u001b[1;32m    309\u001b[0m         \u001b[38;5;28;01mraise\u001b[39;00m \u001b[38;5;167;01mValueError\u001b[39;00m(\u001b[38;5;124m\"\u001b[39m\u001b[38;5;132;01m%s\u001b[39;00m\u001b[38;5;124m is not supported\u001b[39m\u001b[38;5;124m\"\u001b[39m \u001b[38;5;241m%\u001b[39m y_type)\n",
            "File \u001b[0;32m~/.local/lib/python3.8/site-packages/sklearn/metrics/_classification.py:84\u001b[0m, in \u001b[0;36m_check_targets\u001b[0;34m(y_true, y_pred)\u001b[0m\n\u001b[1;32m     57\u001b[0m \u001b[38;5;28;01mdef\u001b[39;00m \u001b[38;5;21m_check_targets\u001b[39m(y_true, y_pred):\n\u001b[1;32m     58\u001b[0m     \u001b[38;5;124;03m\"\"\"Check that y_true and y_pred belong to the same classification task.\u001b[39;00m\n\u001b[1;32m     59\u001b[0m \n\u001b[1;32m     60\u001b[0m \u001b[38;5;124;03m    This converts multiclass or binary types to a common shape, and raises a\u001b[39;00m\n\u001b[0;32m   (...)\u001b[0m\n\u001b[1;32m     82\u001b[0m \u001b[38;5;124;03m    y_pred : array or indicator matrix\u001b[39;00m\n\u001b[1;32m     83\u001b[0m \u001b[38;5;124;03m    \"\"\"\u001b[39;00m\n\u001b[0;32m---> 84\u001b[0m     \u001b[43mcheck_consistent_length\u001b[49m\u001b[43m(\u001b[49m\u001b[43my_true\u001b[49m\u001b[43m,\u001b[49m\u001b[43m \u001b[49m\u001b[43my_pred\u001b[49m\u001b[43m)\u001b[49m\n\u001b[1;32m     85\u001b[0m     type_true \u001b[38;5;241m=\u001b[39m type_of_target(y_true)\n\u001b[1;32m     86\u001b[0m     type_pred \u001b[38;5;241m=\u001b[39m type_of_target(y_pred)\n",
            "File \u001b[0;32m~/.local/lib/python3.8/site-packages/sklearn/utils/validation.py:332\u001b[0m, in \u001b[0;36mcheck_consistent_length\u001b[0;34m(*arrays)\u001b[0m\n\u001b[1;32m    330\u001b[0m uniques \u001b[38;5;241m=\u001b[39m np\u001b[38;5;241m.\u001b[39munique(lengths)\n\u001b[1;32m    331\u001b[0m \u001b[38;5;28;01mif\u001b[39;00m \u001b[38;5;28mlen\u001b[39m(uniques) \u001b[38;5;241m>\u001b[39m \u001b[38;5;241m1\u001b[39m:\n\u001b[0;32m--> 332\u001b[0m     \u001b[38;5;28;01mraise\u001b[39;00m \u001b[38;5;167;01mValueError\u001b[39;00m(\n\u001b[1;32m    333\u001b[0m         \u001b[38;5;124m\"\u001b[39m\u001b[38;5;124mFound input variables with inconsistent numbers of samples: \u001b[39m\u001b[38;5;132;01m%r\u001b[39;00m\u001b[38;5;124m\"\u001b[39m\n\u001b[1;32m    334\u001b[0m         \u001b[38;5;241m%\u001b[39m [\u001b[38;5;28mint\u001b[39m(l) \u001b[38;5;28;01mfor\u001b[39;00m l \u001b[38;5;129;01min\u001b[39;00m lengths]\n\u001b[1;32m    335\u001b[0m     )\n",
            "\u001b[0;31mValueError\u001b[0m: Found input variables with inconsistent numbers of samples: [1113, 8]"
          ]
        }
      ],
      "source": [
        "score_display(y_test,predicted_labels_list_sk,labels=['ham','spam'])"
      ]
    },
    {
      "cell_type": "code",
      "execution_count": 141,
      "id": "6a7a5274",
      "metadata": {
        "id": "6a7a5274"
      },
      "outputs": [
        {
          "data": {
            "image/png": "[encoded data removed]",
            "text/plain": [
              "<Figure size 432x288 with 1 Axes>"
            ]
          },
          "metadata": {
            "needs_background": "light"
          },
          "output_type": "display_data"
        }
      ],
      "source": [
        "plt.plot(k_values,accuracy_list_pred_sk,label=\" SK LEARN\")\n",
        "plt.plot(k_values,f1_scores_cosine,label=\"OWN\")\n",
        "plt.legend()\n",
        "plt.xlabel(\"k\")\n",
        "plt.ylabel(\"F1 score\")\n",
        "plt.title(\"Comparison SKLEARN VS OWN\")\n",
        "plt.show()"
      ]
    },
    {
      "cell_type": "markdown",
      "id": "491c20ee",
      "metadata": {},
      "source": [
        "If we observe the above graph, it is evident that our KNN implementation works very similar to that of SK Learn's KNN.\n",
        "This is firstly due to the fact that our Initial pre-processing steps are same for both.\n",
        "\n",
        "We can also conclude that our own TF-IDF vectorizer works very close to the SK Learn's Vectorizer because of the aboce result."
      ]
    },
    {
      "cell_type": "markdown",
      "id": "64987575",
      "metadata": {
        "id": "64987575"
      },
      "source": [
        "***What is the time complexity of training using KNN classifier?***"
      ]
    },
    {
      "cell_type": "markdown",
      "id": "2770c106",
      "metadata": {
        "id": "2770c106"
      },
      "source": [
        "#### SK Learn :\n",
        "Time complexity: O(1)\n",
        "#### Our Implementation:\n",
        "Time Complexity: O(1)\n",
        "\n",
        "#### Reason:\n"
      ]
    },
    {
      "cell_type": "markdown",
      "id": "fad1f345",
      "metadata": {
        "id": "fad1f345"
      },
      "source": [
        "***What is the time complexity while testing? Is KNN a linear classifier or can it learn any boundary?***"
      ]
    },
    {
      "cell_type": "markdown",
      "id": "931c2471",
      "metadata": {},
      "source": []
    }
  ],
  "metadata": {
    "colab": {
      "collapsed_sections": [],
      "name": "2021201086_Assignment1_Question3.ipynb",
      "provenance": []
    },
    "kernelspec": {
      "display_name": "Python 3",
      "language": "python",
      "name": "python3"
    },
    "language_info": {
      "codemirror_mode": {
        "name": "ipython",
        "version": 3
      },
      "file_extension": ".py",
      "mimetype": "text/x-python",
      "name": "python",
      "nbconvert_exporter": "python",
      "pygments_lexer": "ipython3",
      "version": "3.8.10"
    }
  },
  "nbformat": 4,
  "nbformat_minor": 5
}
