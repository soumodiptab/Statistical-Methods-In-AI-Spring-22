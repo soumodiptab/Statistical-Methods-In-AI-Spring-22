{
 "cells": [
  {
   "cell_type": "markdown",
   "id": "866ed254",
   "metadata": {},
   "source": [
    "# Approximate Nearest Neighbors:\n",
    "\n",
    "# Image Recommendation System via Collaborative Filtering"
   ]
  },
  {
   "cell_type": "markdown",
   "id": "2e08937a",
   "metadata": {},
   "source": [
    "# ***Please read the instructions very carefully***\n",
    "This is a modified version of the previous question and requires you to use an artificial nearest neighbors library\n",
    "\n",
    "We suggest you to use one of the following:\n",
    "- [ScaNN](https://github.com/google-research/google-research/tree/master/scann)\n",
    "- [FAISS](https://github.com/facebookresearch/faiss)\n",
    "- [Annoy](https://github.com/spotify/annoy.git)"
   ]
  },
  {
   "cell_type": "markdown",
   "id": "489a4212",
   "metadata": {},
   "source": [
    "1.   Assignment must be implemented in Python 3 only.\n",
    "2.   You are allowed to use libraries for data preprocessing (numpy, pandas, nltk etc) and for evaluation metrics, data visualization (matplotlib etc.).\n",
    "3.   You will be evaluated not just on the overall performance of the model and also on the experimentation with hyper parameters, data prepossessing techniques etc.\n",
    "4.   ⚠️ The Assignment will be evaluated automatically. Please adhere to taking proper inputs from `config.csv` file. You can change your `config.csv` file to experiment with your code. But at the end, make sure that your outputs are corresponding to input values in `config.csv`\n",
    "5.   Strict plagiarism checking will be done. An F will be awarded for plagiarism."
   ]
  },
  {
   "cell_type": "markdown",
   "id": "f494560c",
   "metadata": {},
   "source": [
    "## About the Dataset\n",
    "Behance is a community art website where users showcase and discover creative work. Each user is able to “appreciate” (equivalent to a “like” on Instagram or a “react” on Facebook) an image, indicating that they like the image. It is in the website’s best interests to show users pictures that they would like, to keep them engaged for longer. For this question, given a set of pictures that a user has already appreciated, you have to show them a new picture that they would like based on what similar users appreciated.\n",
    "\n",
    "\n",
    "<br><br>\n",
    "**The dataset has information of 1 million appreciates of 63,497 users on 178,788 items. The file Behance appreciate 1M has a triplet in each line in the form of (user id, item id, unix timestamp).**"
   ]
  },
  {
   "cell_type": "markdown",
   "id": "d8dd3f15",
   "metadata": {},
   "source": [
    "**Task: Take the inputs from the config.csv file and output the recommendations for a particular person**\n",
    "- Collaborative Filtering is a way to predict items to the user based on the the\n",
    "user’s history and the history of similar users. The similarity between users can be quantified by the number of images that both the users appreciated.\n",
    "- The images appreciated by a similar user would be the most suitable images to show a user. Since we can find the similarity between any two users, we would be able to find the “nearest” neighbours of any user, allowing us to use a KNN-based algorithm to recommend new images to a user.\n",
    "- Since people do not like seeing pictures that they have seen already. Make sure that you do not recommend pictures that a user has appreciated already.\n",
    "- Output the final response will be saved in the file named ```config['output_file']```.\n"
   ]
  },
  {
   "cell_type": "markdown",
   "id": "68a52fe5",
   "metadata": {},
   "source": [
    "**Output file format:**\n",
    "Populate the output file with images that the user has not seen of the k most\n",
    "similar users, in descending order of their similarity. Each line in the output\n",
    "file should be a duplet in the form of (item id, user id), where the user id is the\n",
    "id of the kth similar user. The order of the images corresponding to the same\n",
    "similar user would not matter. The output file would look something like this:\n",
    "```\n",
    "item_id_1_of_1st_similar_user 1st_most_similar_user_id\n",
    "item_id_2_of_1st_similar_user 1st_most_similar_user_id\n",
    "item_id_3_of_1st_similar_user 1st_most_similar_user_id\n",
    "...\n",
    "item_id_1_of_2nd_similar_user 2nd_most_similar_user_id\n",
    "item_id_2_of_2nd_similar_user 2nd_most_similar_user_id\n",
    "item_id_3_of_2nd_similar_user 2nd_most_similar_user_id\n",
    "...\n",
    "item_id_1_of_kth_similar_user kth_most_similar_user_id\n",
    "item_id_2_of_kth_similar_user kth_most_similar_user_id\n",
    "item_id_3_of_kth_similar_user kth_most_similar_user_id\n",
    "```"
   ]
  },
  {
   "cell_type": "markdown",
   "id": "26d46fd2",
   "metadata": {},
   "source": [
    "You may use any other recommendation system that you wish to use. However,\n",
    "evaluation script will score your submission by measuring the similarity between\n",
    "users with the number of common images they appreciated.\n",
    "The dataset was extracted using Behance’s API as a part of the paper\n",
    "“Vista: A visually, socially, and temporally-aware model for artistic\n",
    "recommendation, RecSys, 2016”. Check out this [Google Drive folder](https://drive.google.com/drive/folders/0B9Ck8jw-TZUEc3NlMjVXdDlPU1k?resourcekey=0-6_8ykn0o4fLc5fuTEm91xA) for\n",
    "more information about the dataset.\n",
    "\n",
    "\n",
    "Have fun! The users are waiting to see new pictures!"
   ]
  },
  {
   "cell_type": "markdown",
   "id": "912088cf",
   "metadata": {},
   "source": [
    "### Import necessary libraries"
   ]
  },
  {
   "cell_type": "code",
   "execution_count": 1,
   "id": "13e9cbe3",
   "metadata": {},
   "outputs": [],
   "source": [
    "import numpy as np\n",
    "import pandas as pd"
   ]
  },
  {
   "cell_type": "code",
   "execution_count": null,
   "id": "0c9c4cd1",
   "metadata": {},
   "outputs": [],
   "source": [
    "# Config Generation Sample Code.\n",
    "# ⚠️ Only for experimentation on your side.\n",
    "# ⚠️ Should be commented during submission.\n",
    "\n",
    "# df = pd.DataFrame(data=[{'id':276633,\n",
    "#                   'k':5,\n",
    "#                   'dataset_file':'./Behance_appreciate_1M',\n",
    "#                   'output_file':'./output.txt'}])\n",
    "# df.to_csv('config.csv')"
   ]
  },
  {
   "cell_type": "code",
   "execution_count": 2,
   "id": "cb6bc1ff",
   "metadata": {},
   "outputs": [
    {
     "ename": "FileNotFoundError",
     "evalue": "[Errno 2] No such file or directory: 'config.csv'",
     "output_type": "error",
     "traceback": [
      "\u001b[0;31m---------------------------------------------------------------------------\u001b[0m",
      "\u001b[0;31mFileNotFoundError\u001b[0m                         Traceback (most recent call last)",
      "\u001b[1;32m/home/soumodiptab/courses/SMAI/Assignment1/rollnumber_Assignment1_Question2.ipynb Cell 11'\u001b[0m in \u001b[0;36m<module>\u001b[0;34m\u001b[0m\n\u001b[0;32m----> <a href='vscode-notebook-cell://wsl%2Bubuntu/home/soumodiptab/courses/SMAI/Assignment1/rollnumber_Assignment1_Question2.ipynb#ch0000010vscode-remote?line=0'>1</a>\u001b[0m config \u001b[39m=\u001b[39m pd\u001b[39m.\u001b[39;49mread_csv(\u001b[39m'\u001b[39;49m\u001b[39mconfig.csv\u001b[39;49m\u001b[39m'\u001b[39;49m)\u001b[39m.\u001b[39miloc[\u001b[39m0\u001b[39m]\n",
      "File \u001b[0;32m~/.local/lib/python3.8/site-packages/pandas/util/_decorators.py:311\u001b[0m, in \u001b[0;36mdeprecate_nonkeyword_arguments.<locals>.decorate.<locals>.wrapper\u001b[0;34m(*args, **kwargs)\u001b[0m\n\u001b[1;32m    <a href='file:///home/soumodiptab/.local/lib/python3.8/site-packages/pandas/util/_decorators.py?line=304'>305</a>\u001b[0m \u001b[39mif\u001b[39;00m \u001b[39mlen\u001b[39m(args) \u001b[39m>\u001b[39m num_allow_args:\n\u001b[1;32m    <a href='file:///home/soumodiptab/.local/lib/python3.8/site-packages/pandas/util/_decorators.py?line=305'>306</a>\u001b[0m     warnings\u001b[39m.\u001b[39mwarn(\n\u001b[1;32m    <a href='file:///home/soumodiptab/.local/lib/python3.8/site-packages/pandas/util/_decorators.py?line=306'>307</a>\u001b[0m         msg\u001b[39m.\u001b[39mformat(arguments\u001b[39m=\u001b[39marguments),\n\u001b[1;32m    <a href='file:///home/soumodiptab/.local/lib/python3.8/site-packages/pandas/util/_decorators.py?line=307'>308</a>\u001b[0m         \u001b[39mFutureWarning\u001b[39;00m,\n\u001b[1;32m    <a href='file:///home/soumodiptab/.local/lib/python3.8/site-packages/pandas/util/_decorators.py?line=308'>309</a>\u001b[0m         stacklevel\u001b[39m=\u001b[39mstacklevel,\n\u001b[1;32m    <a href='file:///home/soumodiptab/.local/lib/python3.8/site-packages/pandas/util/_decorators.py?line=309'>310</a>\u001b[0m     )\n\u001b[0;32m--> <a href='file:///home/soumodiptab/.local/lib/python3.8/site-packages/pandas/util/_decorators.py?line=310'>311</a>\u001b[0m \u001b[39mreturn\u001b[39;00m func(\u001b[39m*\u001b[39;49margs, \u001b[39m*\u001b[39;49m\u001b[39m*\u001b[39;49mkwargs)\n",
      "File \u001b[0;32m~/.local/lib/python3.8/site-packages/pandas/io/parsers/readers.py:586\u001b[0m, in \u001b[0;36mread_csv\u001b[0;34m(filepath_or_buffer, sep, delimiter, header, names, index_col, usecols, squeeze, prefix, mangle_dupe_cols, dtype, engine, converters, true_values, false_values, skipinitialspace, skiprows, skipfooter, nrows, na_values, keep_default_na, na_filter, verbose, skip_blank_lines, parse_dates, infer_datetime_format, keep_date_col, date_parser, dayfirst, cache_dates, iterator, chunksize, compression, thousands, decimal, lineterminator, quotechar, quoting, doublequote, escapechar, comment, encoding, encoding_errors, dialect, error_bad_lines, warn_bad_lines, on_bad_lines, delim_whitespace, low_memory, memory_map, float_precision, storage_options)\u001b[0m\n\u001b[1;32m    <a href='file:///home/soumodiptab/.local/lib/python3.8/site-packages/pandas/io/parsers/readers.py?line=570'>571</a>\u001b[0m kwds_defaults \u001b[39m=\u001b[39m _refine_defaults_read(\n\u001b[1;32m    <a href='file:///home/soumodiptab/.local/lib/python3.8/site-packages/pandas/io/parsers/readers.py?line=571'>572</a>\u001b[0m     dialect,\n\u001b[1;32m    <a href='file:///home/soumodiptab/.local/lib/python3.8/site-packages/pandas/io/parsers/readers.py?line=572'>573</a>\u001b[0m     delimiter,\n\u001b[0;32m   (...)\u001b[0m\n\u001b[1;32m    <a href='file:///home/soumodiptab/.local/lib/python3.8/site-packages/pandas/io/parsers/readers.py?line=581'>582</a>\u001b[0m     defaults\u001b[39m=\u001b[39m{\u001b[39m\"\u001b[39m\u001b[39mdelimiter\u001b[39m\u001b[39m\"\u001b[39m: \u001b[39m\"\u001b[39m\u001b[39m,\u001b[39m\u001b[39m\"\u001b[39m},\n\u001b[1;32m    <a href='file:///home/soumodiptab/.local/lib/python3.8/site-packages/pandas/io/parsers/readers.py?line=582'>583</a>\u001b[0m )\n\u001b[1;32m    <a href='file:///home/soumodiptab/.local/lib/python3.8/site-packages/pandas/io/parsers/readers.py?line=583'>584</a>\u001b[0m kwds\u001b[39m.\u001b[39mupdate(kwds_defaults)\n\u001b[0;32m--> <a href='file:///home/soumodiptab/.local/lib/python3.8/site-packages/pandas/io/parsers/readers.py?line=585'>586</a>\u001b[0m \u001b[39mreturn\u001b[39;00m _read(filepath_or_buffer, kwds)\n",
      "File \u001b[0;32m~/.local/lib/python3.8/site-packages/pandas/io/parsers/readers.py:482\u001b[0m, in \u001b[0;36m_read\u001b[0;34m(filepath_or_buffer, kwds)\u001b[0m\n\u001b[1;32m    <a href='file:///home/soumodiptab/.local/lib/python3.8/site-packages/pandas/io/parsers/readers.py?line=478'>479</a>\u001b[0m _validate_names(kwds\u001b[39m.\u001b[39mget(\u001b[39m\"\u001b[39m\u001b[39mnames\u001b[39m\u001b[39m\"\u001b[39m, \u001b[39mNone\u001b[39;00m))\n\u001b[1;32m    <a href='file:///home/soumodiptab/.local/lib/python3.8/site-packages/pandas/io/parsers/readers.py?line=480'>481</a>\u001b[0m \u001b[39m# Create the parser.\u001b[39;00m\n\u001b[0;32m--> <a href='file:///home/soumodiptab/.local/lib/python3.8/site-packages/pandas/io/parsers/readers.py?line=481'>482</a>\u001b[0m parser \u001b[39m=\u001b[39m TextFileReader(filepath_or_buffer, \u001b[39m*\u001b[39;49m\u001b[39m*\u001b[39;49mkwds)\n\u001b[1;32m    <a href='file:///home/soumodiptab/.local/lib/python3.8/site-packages/pandas/io/parsers/readers.py?line=483'>484</a>\u001b[0m \u001b[39mif\u001b[39;00m chunksize \u001b[39mor\u001b[39;00m iterator:\n\u001b[1;32m    <a href='file:///home/soumodiptab/.local/lib/python3.8/site-packages/pandas/io/parsers/readers.py?line=484'>485</a>\u001b[0m     \u001b[39mreturn\u001b[39;00m parser\n",
      "File \u001b[0;32m~/.local/lib/python3.8/site-packages/pandas/io/parsers/readers.py:811\u001b[0m, in \u001b[0;36mTextFileReader.__init__\u001b[0;34m(self, f, engine, **kwds)\u001b[0m\n\u001b[1;32m    <a href='file:///home/soumodiptab/.local/lib/python3.8/site-packages/pandas/io/parsers/readers.py?line=807'>808</a>\u001b[0m \u001b[39mif\u001b[39;00m \u001b[39m\"\u001b[39m\u001b[39mhas_index_names\u001b[39m\u001b[39m\"\u001b[39m \u001b[39min\u001b[39;00m kwds:\n\u001b[1;32m    <a href='file:///home/soumodiptab/.local/lib/python3.8/site-packages/pandas/io/parsers/readers.py?line=808'>809</a>\u001b[0m     \u001b[39mself\u001b[39m\u001b[39m.\u001b[39moptions[\u001b[39m\"\u001b[39m\u001b[39mhas_index_names\u001b[39m\u001b[39m\"\u001b[39m] \u001b[39m=\u001b[39m kwds[\u001b[39m\"\u001b[39m\u001b[39mhas_index_names\u001b[39m\u001b[39m\"\u001b[39m]\n\u001b[0;32m--> <a href='file:///home/soumodiptab/.local/lib/python3.8/site-packages/pandas/io/parsers/readers.py?line=810'>811</a>\u001b[0m \u001b[39mself\u001b[39m\u001b[39m.\u001b[39m_engine \u001b[39m=\u001b[39m \u001b[39mself\u001b[39;49m\u001b[39m.\u001b[39;49m_make_engine(\u001b[39mself\u001b[39;49m\u001b[39m.\u001b[39;49mengine)\n",
      "File \u001b[0;32m~/.local/lib/python3.8/site-packages/pandas/io/parsers/readers.py:1040\u001b[0m, in \u001b[0;36mTextFileReader._make_engine\u001b[0;34m(self, engine)\u001b[0m\n\u001b[1;32m   <a href='file:///home/soumodiptab/.local/lib/python3.8/site-packages/pandas/io/parsers/readers.py?line=1035'>1036</a>\u001b[0m     \u001b[39mraise\u001b[39;00m \u001b[39mValueError\u001b[39;00m(\n\u001b[1;32m   <a href='file:///home/soumodiptab/.local/lib/python3.8/site-packages/pandas/io/parsers/readers.py?line=1036'>1037</a>\u001b[0m         \u001b[39mf\u001b[39m\u001b[39m\"\u001b[39m\u001b[39mUnknown engine: \u001b[39m\u001b[39m{\u001b[39;00mengine\u001b[39m}\u001b[39;00m\u001b[39m (valid options are \u001b[39m\u001b[39m{\u001b[39;00mmapping\u001b[39m.\u001b[39mkeys()\u001b[39m}\u001b[39;00m\u001b[39m)\u001b[39m\u001b[39m\"\u001b[39m\n\u001b[1;32m   <a href='file:///home/soumodiptab/.local/lib/python3.8/site-packages/pandas/io/parsers/readers.py?line=1037'>1038</a>\u001b[0m     )\n\u001b[1;32m   <a href='file:///home/soumodiptab/.local/lib/python3.8/site-packages/pandas/io/parsers/readers.py?line=1038'>1039</a>\u001b[0m \u001b[39m# error: Too many arguments for \"ParserBase\"\u001b[39;00m\n\u001b[0;32m-> <a href='file:///home/soumodiptab/.local/lib/python3.8/site-packages/pandas/io/parsers/readers.py?line=1039'>1040</a>\u001b[0m \u001b[39mreturn\u001b[39;00m mapping[engine](\u001b[39mself\u001b[39;49m\u001b[39m.\u001b[39;49mf, \u001b[39m*\u001b[39;49m\u001b[39m*\u001b[39;49m\u001b[39mself\u001b[39;49m\u001b[39m.\u001b[39;49moptions)\n",
      "File \u001b[0;32m~/.local/lib/python3.8/site-packages/pandas/io/parsers/c_parser_wrapper.py:51\u001b[0m, in \u001b[0;36mCParserWrapper.__init__\u001b[0;34m(self, src, **kwds)\u001b[0m\n\u001b[1;32m     <a href='file:///home/soumodiptab/.local/lib/python3.8/site-packages/pandas/io/parsers/c_parser_wrapper.py?line=47'>48</a>\u001b[0m kwds[\u001b[39m\"\u001b[39m\u001b[39musecols\u001b[39m\u001b[39m\"\u001b[39m] \u001b[39m=\u001b[39m \u001b[39mself\u001b[39m\u001b[39m.\u001b[39musecols\n\u001b[1;32m     <a href='file:///home/soumodiptab/.local/lib/python3.8/site-packages/pandas/io/parsers/c_parser_wrapper.py?line=49'>50</a>\u001b[0m \u001b[39m# open handles\u001b[39;00m\n\u001b[0;32m---> <a href='file:///home/soumodiptab/.local/lib/python3.8/site-packages/pandas/io/parsers/c_parser_wrapper.py?line=50'>51</a>\u001b[0m \u001b[39mself\u001b[39;49m\u001b[39m.\u001b[39;49m_open_handles(src, kwds)\n\u001b[1;32m     <a href='file:///home/soumodiptab/.local/lib/python3.8/site-packages/pandas/io/parsers/c_parser_wrapper.py?line=51'>52</a>\u001b[0m \u001b[39massert\u001b[39;00m \u001b[39mself\u001b[39m\u001b[39m.\u001b[39mhandles \u001b[39mis\u001b[39;00m \u001b[39mnot\u001b[39;00m \u001b[39mNone\u001b[39;00m\n\u001b[1;32m     <a href='file:///home/soumodiptab/.local/lib/python3.8/site-packages/pandas/io/parsers/c_parser_wrapper.py?line=53'>54</a>\u001b[0m \u001b[39m# Have to pass int, would break tests using TextReader directly otherwise :(\u001b[39;00m\n",
      "File \u001b[0;32m~/.local/lib/python3.8/site-packages/pandas/io/parsers/base_parser.py:222\u001b[0m, in \u001b[0;36mParserBase._open_handles\u001b[0;34m(self, src, kwds)\u001b[0m\n\u001b[1;32m    <a href='file:///home/soumodiptab/.local/lib/python3.8/site-packages/pandas/io/parsers/base_parser.py?line=217'>218</a>\u001b[0m \u001b[39mdef\u001b[39;00m \u001b[39m_open_handles\u001b[39m(\u001b[39mself\u001b[39m, src: FilePathOrBuffer, kwds: \u001b[39mdict\u001b[39m[\u001b[39mstr\u001b[39m, Any]) \u001b[39m-\u001b[39m\u001b[39m>\u001b[39m \u001b[39mNone\u001b[39;00m:\n\u001b[1;32m    <a href='file:///home/soumodiptab/.local/lib/python3.8/site-packages/pandas/io/parsers/base_parser.py?line=218'>219</a>\u001b[0m     \u001b[39m\"\"\"\u001b[39;00m\n\u001b[1;32m    <a href='file:///home/soumodiptab/.local/lib/python3.8/site-packages/pandas/io/parsers/base_parser.py?line=219'>220</a>\u001b[0m \u001b[39m    Let the readers open IOHandles after they are done with their potential raises.\u001b[39;00m\n\u001b[1;32m    <a href='file:///home/soumodiptab/.local/lib/python3.8/site-packages/pandas/io/parsers/base_parser.py?line=220'>221</a>\u001b[0m \u001b[39m    \"\"\"\u001b[39;00m\n\u001b[0;32m--> <a href='file:///home/soumodiptab/.local/lib/python3.8/site-packages/pandas/io/parsers/base_parser.py?line=221'>222</a>\u001b[0m     \u001b[39mself\u001b[39m\u001b[39m.\u001b[39mhandles \u001b[39m=\u001b[39m get_handle(\n\u001b[1;32m    <a href='file:///home/soumodiptab/.local/lib/python3.8/site-packages/pandas/io/parsers/base_parser.py?line=222'>223</a>\u001b[0m         src,\n\u001b[1;32m    <a href='file:///home/soumodiptab/.local/lib/python3.8/site-packages/pandas/io/parsers/base_parser.py?line=223'>224</a>\u001b[0m         \u001b[39m\"\u001b[39;49m\u001b[39mr\u001b[39;49m\u001b[39m\"\u001b[39;49m,\n\u001b[1;32m    <a href='file:///home/soumodiptab/.local/lib/python3.8/site-packages/pandas/io/parsers/base_parser.py?line=224'>225</a>\u001b[0m         encoding\u001b[39m=\u001b[39;49mkwds\u001b[39m.\u001b[39;49mget(\u001b[39m\"\u001b[39;49m\u001b[39mencoding\u001b[39;49m\u001b[39m\"\u001b[39;49m, \u001b[39mNone\u001b[39;49;00m),\n\u001b[1;32m    <a href='file:///home/soumodiptab/.local/lib/python3.8/site-packages/pandas/io/parsers/base_parser.py?line=225'>226</a>\u001b[0m         compression\u001b[39m=\u001b[39;49mkwds\u001b[39m.\u001b[39;49mget(\u001b[39m\"\u001b[39;49m\u001b[39mcompression\u001b[39;49m\u001b[39m\"\u001b[39;49m, \u001b[39mNone\u001b[39;49;00m),\n\u001b[1;32m    <a href='file:///home/soumodiptab/.local/lib/python3.8/site-packages/pandas/io/parsers/base_parser.py?line=226'>227</a>\u001b[0m         memory_map\u001b[39m=\u001b[39;49mkwds\u001b[39m.\u001b[39;49mget(\u001b[39m\"\u001b[39;49m\u001b[39mmemory_map\u001b[39;49m\u001b[39m\"\u001b[39;49m, \u001b[39mFalse\u001b[39;49;00m),\n\u001b[1;32m    <a href='file:///home/soumodiptab/.local/lib/python3.8/site-packages/pandas/io/parsers/base_parser.py?line=227'>228</a>\u001b[0m         storage_options\u001b[39m=\u001b[39;49mkwds\u001b[39m.\u001b[39;49mget(\u001b[39m\"\u001b[39;49m\u001b[39mstorage_options\u001b[39;49m\u001b[39m\"\u001b[39;49m, \u001b[39mNone\u001b[39;49;00m),\n\u001b[1;32m    <a href='file:///home/soumodiptab/.local/lib/python3.8/site-packages/pandas/io/parsers/base_parser.py?line=228'>229</a>\u001b[0m         errors\u001b[39m=\u001b[39;49mkwds\u001b[39m.\u001b[39;49mget(\u001b[39m\"\u001b[39;49m\u001b[39mencoding_errors\u001b[39;49m\u001b[39m\"\u001b[39;49m, \u001b[39m\"\u001b[39;49m\u001b[39mstrict\u001b[39;49m\u001b[39m\"\u001b[39;49m),\n\u001b[1;32m    <a href='file:///home/soumodiptab/.local/lib/python3.8/site-packages/pandas/io/parsers/base_parser.py?line=229'>230</a>\u001b[0m     )\n",
      "File \u001b[0;32m~/.local/lib/python3.8/site-packages/pandas/io/common.py:702\u001b[0m, in \u001b[0;36mget_handle\u001b[0;34m(path_or_buf, mode, encoding, compression, memory_map, is_text, errors, storage_options)\u001b[0m\n\u001b[1;32m    <a href='file:///home/soumodiptab/.local/lib/python3.8/site-packages/pandas/io/common.py?line=696'>697</a>\u001b[0m \u001b[39melif\u001b[39;00m \u001b[39misinstance\u001b[39m(handle, \u001b[39mstr\u001b[39m):\n\u001b[1;32m    <a href='file:///home/soumodiptab/.local/lib/python3.8/site-packages/pandas/io/common.py?line=697'>698</a>\u001b[0m     \u001b[39m# Check whether the filename is to be opened in binary mode.\u001b[39;00m\n\u001b[1;32m    <a href='file:///home/soumodiptab/.local/lib/python3.8/site-packages/pandas/io/common.py?line=698'>699</a>\u001b[0m     \u001b[39m# Binary mode does not support 'encoding' and 'newline'.\u001b[39;00m\n\u001b[1;32m    <a href='file:///home/soumodiptab/.local/lib/python3.8/site-packages/pandas/io/common.py?line=699'>700</a>\u001b[0m     \u001b[39mif\u001b[39;00m ioargs\u001b[39m.\u001b[39mencoding \u001b[39mand\u001b[39;00m \u001b[39m\"\u001b[39m\u001b[39mb\u001b[39m\u001b[39m\"\u001b[39m \u001b[39mnot\u001b[39;00m \u001b[39min\u001b[39;00m ioargs\u001b[39m.\u001b[39mmode:\n\u001b[1;32m    <a href='file:///home/soumodiptab/.local/lib/python3.8/site-packages/pandas/io/common.py?line=700'>701</a>\u001b[0m         \u001b[39m# Encoding\u001b[39;00m\n\u001b[0;32m--> <a href='file:///home/soumodiptab/.local/lib/python3.8/site-packages/pandas/io/common.py?line=701'>702</a>\u001b[0m         handle \u001b[39m=\u001b[39m \u001b[39mopen\u001b[39;49m(\n\u001b[1;32m    <a href='file:///home/soumodiptab/.local/lib/python3.8/site-packages/pandas/io/common.py?line=702'>703</a>\u001b[0m             handle,\n\u001b[1;32m    <a href='file:///home/soumodiptab/.local/lib/python3.8/site-packages/pandas/io/common.py?line=703'>704</a>\u001b[0m             ioargs\u001b[39m.\u001b[39;49mmode,\n\u001b[1;32m    <a href='file:///home/soumodiptab/.local/lib/python3.8/site-packages/pandas/io/common.py?line=704'>705</a>\u001b[0m             encoding\u001b[39m=\u001b[39;49mioargs\u001b[39m.\u001b[39;49mencoding,\n\u001b[1;32m    <a href='file:///home/soumodiptab/.local/lib/python3.8/site-packages/pandas/io/common.py?line=705'>706</a>\u001b[0m             errors\u001b[39m=\u001b[39;49merrors,\n\u001b[1;32m    <a href='file:///home/soumodiptab/.local/lib/python3.8/site-packages/pandas/io/common.py?line=706'>707</a>\u001b[0m             newline\u001b[39m=\u001b[39;49m\u001b[39m\"\u001b[39;49m\u001b[39m\"\u001b[39;49m,\n\u001b[1;32m    <a href='file:///home/soumodiptab/.local/lib/python3.8/site-packages/pandas/io/common.py?line=707'>708</a>\u001b[0m         )\n\u001b[1;32m    <a href='file:///home/soumodiptab/.local/lib/python3.8/site-packages/pandas/io/common.py?line=708'>709</a>\u001b[0m     \u001b[39melse\u001b[39;00m:\n\u001b[1;32m    <a href='file:///home/soumodiptab/.local/lib/python3.8/site-packages/pandas/io/common.py?line=709'>710</a>\u001b[0m         \u001b[39m# Binary mode\u001b[39;00m\n\u001b[1;32m    <a href='file:///home/soumodiptab/.local/lib/python3.8/site-packages/pandas/io/common.py?line=710'>711</a>\u001b[0m         handle \u001b[39m=\u001b[39m \u001b[39mopen\u001b[39m(handle, ioargs\u001b[39m.\u001b[39mmode)\n",
      "\u001b[0;31mFileNotFoundError\u001b[0m: [Errno 2] No such file or directory: 'config.csv'"
     ]
    }
   ],
   "source": [
    "config = pd.read_csv('config.csv').iloc[0]"
   ]
  },
  {
   "cell_type": "code",
   "execution_count": null,
   "id": "ef721d6b",
   "metadata": {},
   "outputs": [],
   "source": [
    "config"
   ]
  },
  {
   "cell_type": "code",
   "execution_count": null,
   "id": "4966a889",
   "metadata": {},
   "outputs": [],
   "source": [
    "user = config['id']\n",
    "k_value = config['k']"
   ]
  },
  {
   "cell_type": "markdown",
   "id": "e8e50dee",
   "metadata": {},
   "source": [
    "### Read the Data"
   ]
  },
  {
   "cell_type": "code",
   "execution_count": null,
   "id": "cd74173b",
   "metadata": {},
   "outputs": [],
   "source": [
    "with open(config['dataset_file'], 'r') as inFile:\n",
    "    appreciate_data = inFile.readlines()"
   ]
  },
  {
   "cell_type": "code",
   "execution_count": null,
   "id": "e8542cda",
   "metadata": {},
   "outputs": [],
   "source": [
    "# your code here"
   ]
  },
  {
   "cell_type": "markdown",
   "id": "e09e9961",
   "metadata": {},
   "source": [
    "### Initialize a dictionary to store the item_ids that a user likes\n",
    "\n",
    "### Go through each line of the input file and construct the user_likes dictionary"
   ]
  },
  {
   "cell_type": "code",
   "execution_count": null,
   "id": "8ff4a80d",
   "metadata": {},
   "outputs": [],
   "source": [
    "user_likes = dict()"
   ]
  },
  {
   "cell_type": "code",
   "execution_count": null,
   "id": "5b55dc0b",
   "metadata": {},
   "outputs": [],
   "source": [
    "for line in appreciate_data:\n",
    "    line = line.strip()\n",
    "    \n",
    "    user_id = int(line.split()[0])\n",
    "    item_id = int(line.split()[1])\n",
    "\n",
    "    if user_id not in user_likes:\n",
    "        user_likes[user_id] = list()\n",
    "    \n",
    "    user_likes[user_id].append(item_id)"
   ]
  },
  {
   "cell_type": "markdown",
   "id": "cd017880",
   "metadata": {},
   "source": [
    "### Use your choice of Approximate Nearest Neigbor after Collaborative Filtering to find nearest neighbors"
   ]
  },
  {
   "cell_type": "code",
   "execution_count": null,
   "id": "5ee1d377",
   "metadata": {},
   "outputs": [],
   "source": [
    "# your code here\n",
    "def neighbors(user,k_value):\n",
    "    \"\"\" returns an iterable object (like list or generator) \"\"\"\n",
    "    pass"
   ]
  },
  {
   "cell_type": "markdown",
   "id": "0b6f24d6",
   "metadata": {},
   "source": [
    "### Answer the following questions:"
   ]
  },
  {
   "cell_type": "markdown",
   "id": "012f72f8",
   "metadata": {},
   "source": [
    "#### Q1. **Explain how your choice of library works**\n",
    "\n",
    "*your solution here*"
   ]
  },
  {
   "cell_type": "markdown",
   "id": "3b0ac14b",
   "metadata": {},
   "source": [
    "#### Q2. **Compare your choice of library with vanilla KNN.**\n",
    "***Hint: Include Time Complexity, and explain the tradeoff with recall***\n",
    "\n",
    "*your solution here*"
   ]
  },
  {
   "cell_type": "markdown",
   "id": "400d7827",
   "metadata": {},
   "source": [
    "#### Q3. **Compare your choice of library with implementation of ScaNN, faiss and annoy.**\n",
    "***Hint: Include Time Complexity, and explain the tradeoff with recall***\n",
    "\n",
    "*your solution here*"
   ]
  },
  {
   "cell_type": "markdown",
   "id": "142440b0",
   "metadata": {},
   "source": [
    "### Open the output file to write all the lines to the file"
   ]
  },
  {
   "cell_type": "code",
   "execution_count": null,
   "id": "977b08f9",
   "metadata": {},
   "outputs": [],
   "source": [
    "outFile = open(config['output_file'], 'w')\n",
    "\n",
    "for n_user in neighbors(user,k_value):\n",
    "    user_id = list(user_likes.keys())[n_user]\n",
    "    for item_id in user_likes[user_id]:\n",
    "        outFile.write(str(item_id) + ' ' + str(user_id) + '\\n')\n",
    "\n",
    "outFile.close()"
   ]
  }
 ],
 "metadata": {
  "kernelspec": {
   "display_name": "Python 3",
   "language": "python",
   "name": "python3"
  },
  "language_info": {
   "codemirror_mode": {
    "name": "ipython",
    "version": 3
   },
   "file_extension": ".py",
   "mimetype": "text/x-python",
   "name": "python",
   "nbconvert_exporter": "python",
   "pygments_lexer": "ipython3",
   "version": "3.8.10"
  }
 },
 "nbformat": 4,
 "nbformat_minor": 5
}
