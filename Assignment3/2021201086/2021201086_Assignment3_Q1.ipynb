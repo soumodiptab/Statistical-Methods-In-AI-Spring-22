{
  "cells": [
    {
      "cell_type": "markdown",
      "id": "5b7c2e76",
      "metadata": {
        "id": "5b7c2e76"
      },
      "source": [
        "# Assignment 3\n",
        "\n",
        "## Instructions\n",
        "- Run this notebook on ```Google Colab(preferable)```\n",
        "- Write your code and analysis in the indicated cells.\n",
        "- Ensure that this notebook runs without errors when the cells are run in sequence.\n",
        "- Do not attempt to change the contents of other cells. \n",
        "\n",
        "## Packages Used\n",
        "- Keras [link](https://keras.io/guides/)\n",
        "\n",
        "## Submission\n",
        "- Rename the notebook to `<roll_number>_Assignment3_Q1.ipynb`."
      ]
    },
    {
      "cell_type": "markdown",
      "id": "81a04618",
      "metadata": {
        "id": "81a04618"
      },
      "source": [
        "## Question 1"
      ]
    },
    {
      "cell_type": "markdown",
      "id": "b7be834e",
      "metadata": {
        "id": "b7be834e"
      },
      "source": [
        "This question is based on seminal work by Zhang et al. The paper is titled 'Understanding deep learning requires rethinking generalization'. The paper talks about how the traditional methods fail to explain generalization of neural network. They show that a sufficiently parameterized network can easily fit a random labeling of the training data. This fitting cannot be curbed by explicit regularization.\n"
      ]
    },
    {
      "cell_type": "markdown",
      "id": "c1082657",
      "metadata": {
        "id": "c1082657"
      },
      "source": [
        "## Q) 1.1 \n",
        "Lets take a hello world dataset for ML algorithm the MNIST!\n",
        "This question requires you to train a convolutional neural network.\n",
        "Architecture: 4 layers of convolution with 64 filters in each layer. Keep activation map size same using padding."
      ]
    },
    {
      "cell_type": "code",
      "execution_count": null,
      "id": "d93211d0",
      "metadata": {
        "id": "d93211d0"
      },
      "outputs": [],
      "source": [
        "from tensorflow import keras   # feel free to use MNIST data from other sources \n",
        "import numpy as np\n",
        "from keras.utils.np_utils import to_categorical\n",
        "import matplotlib.pyplot as plt"
      ]
    },
    {
      "cell_type": "code",
      "source": [
        "from sklearn.utils import shuffle\n",
        "import random"
      ],
      "metadata": {
        "id": "Z16Cco77VwcV"
      },
      "id": "Z16Cco77VwcV",
      "execution_count": null,
      "outputs": []
    },
    {
      "cell_type": "code",
      "execution_count": null,
      "id": "c4301e9e",
      "metadata": {
        "id": "c4301e9e",
        "colab": {
          "base_uri": "https://localhost:8080/"
        },
        "outputId": "9bfeda6b-e7b4-4560-d4a2-8530953badf1"
      },
      "outputs": [
        {
          "output_type": "stream",
          "name": "stdout",
          "text": [
            "Downloading data from https://storage.googleapis.com/tensorflow/tf-keras-datasets/mnist.npz\n",
            "11493376/11490434 [==============================] - 0s 0us/step\n",
            "11501568/11490434 [==============================] - 0s 0us/step\n"
          ]
        }
      ],
      "source": [
        "(x_train, y_train), (x_test, y_test) = keras.datasets.mnist.load_data()"
      ]
    },
    {
      "cell_type": "code",
      "execution_count": null,
      "id": "8f8db95a",
      "metadata": {
        "id": "8f8db95a",
        "outputId": "bb812be4-635f-4e65-cdc4-6565daeff7a6",
        "colab": {
          "base_uri": "https://localhost:8080/"
        }
      },
      "outputs": [
        {
          "output_type": "stream",
          "name": "stdout",
          "text": [
            "Train data shape: (60000, 28, 28, 1)\n",
            "60000 train samples\n",
            "10000 test samples\n"
          ]
        }
      ],
      "source": [
        "x_train = x_train.astype(\"float32\") / 255\n",
        "x_test = x_test.astype(\"float32\") / 255\n",
        "\n",
        "x_train = np.expand_dims(x_train, -1)\n",
        "x_test = np.expand_dims(x_test, -1)\n",
        "\n",
        "print(\"Train data shape:\", x_train.shape)\n",
        "print(x_train.shape[0], \"train samples\")\n",
        "print(x_test.shape[0], \"test samples\")"
      ]
    },
    {
      "cell_type": "markdown",
      "id": "c2f5bafd",
      "metadata": {
        "id": "c2f5bafd"
      },
      "source": [
        "#### One-hot-encode your labels here"
      ]
    },
    {
      "cell_type": "code",
      "execution_count": null,
      "id": "73520c0c",
      "metadata": {
        "id": "73520c0c",
        "outputId": "c4ee9893-c0b9-4f00-ea86-2f0fc39a1db9",
        "colab": {
          "base_uri": "https://localhost:8080/"
        }
      },
      "outputs": [
        {
          "output_type": "stream",
          "name": "stdout",
          "text": [
            "label shape:  (60000,) (10000,)\n",
            "label shape:  (60000, 10) (10000, 10)\n"
          ]
        }
      ],
      "source": [
        "print ('label shape: ',np.shape(y_train),np.shape(y_test))\n",
        "def encode(y):\n",
        "    return to_categorical(y,num_classes=10)\n",
        "original_y=y_train\n",
        "y_train = encode(y_train)\n",
        "y_test = encode(y_test)\n",
        "print ('label shape: ',np.shape(y_train),np.shape(y_test))"
      ]
    },
    {
      "cell_type": "code",
      "source": [
        "y_train[0]"
      ],
      "metadata": {
        "colab": {
          "base_uri": "https://localhost:8080/"
        },
        "id": "UL_aGy-1Zo_T",
        "outputId": "3616686f-d043-4b89-c524-0c6262643de0"
      },
      "id": "UL_aGy-1Zo_T",
      "execution_count": null,
      "outputs": [
        {
          "output_type": "execute_result",
          "data": {
            "text/plain": [
              "array([0., 0., 0., 0., 0., 1., 0., 0., 0., 0.], dtype=float32)"
            ]
          },
          "metadata": {},
          "execution_count": 6
        }
      ]
    },
    {
      "cell_type": "markdown",
      "id": "38b8a6fa",
      "metadata": {
        "id": "38b8a6fa"
      },
      "source": [
        "#### Define the model mentioned above\n",
        "    1) Print the number of trainable parameters\n",
        "     Use sgd optimizer with softmax at last layer \n",
        "     Train the model until convergence (use test data only for model selection and early stopping!)\n",
        "    2) Report the train and test accuracy\n",
        "    3) Plot the train and test accuracy and loss throughout the training"
      ]
    },
    {
      "cell_type": "markdown",
      "source": [
        "CNN Model"
      ],
      "metadata": {
        "id": "SI-BEXp35IOr"
      },
      "id": "SI-BEXp35IOr"
    },
    {
      "cell_type": "code",
      "execution_count": null,
      "id": "novel-gambling",
      "metadata": {
        "id": "novel-gambling"
      },
      "outputs": [],
      "source": [
        "from keras.models import Sequential\n",
        "from keras.layers import Conv2D, Lambda, MaxPooling2D # convolution layers\n",
        "from keras.layers import Dense, Dropout, Flatten # core layers\n",
        "from keras.layers import BatchNormalization\n",
        "from keras.callbacks import EarlyStopping, ModelCheckpoint\n",
        "class Model:\n",
        "  def __init__(self):\n",
        "    self.model=Sequential()\n",
        "    self.add_layers()\n",
        "    self.compile()\n",
        "  def add_layers(self):\n",
        "    #hidden layers:\n",
        "    self.model.add(Conv2D(filters=64, kernel_size = (3,3), activation=\"relu\",padding=\"same\", input_shape=(28,28,1)))\n",
        "    self.model.add(Conv2D(filters=64, kernel_size = (3,3), activation=\"relu\",padding=\"same\"))\n",
        "    self.model.add(Conv2D(filters=64, kernel_size = (3,3),padding=\"same\", activation=\"relu\"))\n",
        "    self.model.add(Conv2D(filters=64, kernel_size = (3,3), padding=\"same\",activation=\"relu\"))\n",
        "    self.model.add(Flatten())\n",
        "    self.model.add(Dense(10,activation=\"softmax\"))\n",
        "  def compile(self):\n",
        "    self.model.compile(loss=\"categorical_crossentropy\", optimizer=\"sgd\", metrics=[\"accuracy\"])\n",
        "  def set_early_stopping(self,monitor_value):\n",
        "    self.early_stopping = EarlyStopping(monitor=monitor_value, patience=10, verbose=0, mode='min')\n",
        "  def set_hyper_parameters(self,epochs,batch_size):\n",
        "    self.epochs=epochs\n",
        "    self.batch_size=batch_size\n",
        "  def train(self,x_train,y_train,x_test,y_test):\n",
        "    self.histories=self.model.fit(x_train, y_train, epochs=15, batch_size=128, callbacks=[self.early_stopping],validation_data=(x_test,y_test))\n",
        "  def summary(self):\n",
        "    return self.model.summary()\n",
        "  def show_results(self):\n",
        "    #displaying the results\n",
        "    plt.plot(self.histories.history['accuracy'],label = \"Train Accuracy\")\n",
        "    plt.plot(self.histories.history['val_accuracy'],label=\"Test accuracy\")\n",
        "    plt.plot(self.histories.history['val_loss'],label=\"Test loss\")\n",
        "    plt.plot(self.histories.history['loss'],label=\"Train Loss\")\n",
        "    plt.title('Model results')\n",
        "    plt.ylabel('Percentage')\n",
        "    plt.xlabel('Epochs')\n",
        "    plt.legend()\n",
        "    plt.show()"
      ]
    },
    {
      "cell_type": "code",
      "source": [
        "#creating the model\n",
        "cnn=Model()"
      ],
      "metadata": {
        "id": "c4SFInJhUUGs"
      },
      "id": "c4SFInJhUUGs",
      "execution_count": null,
      "outputs": []
    },
    {
      "cell_type": "code",
      "source": [
        "#showing the parameters and the different layers\n",
        "cnn.summary()"
      ],
      "metadata": {
        "colab": {
          "base_uri": "https://localhost:8080/"
        },
        "id": "hhuo9PJQUWak",
        "outputId": "24bc9dd1-c58f-425c-8473-677a88d5d4c7"
      },
      "id": "hhuo9PJQUWak",
      "execution_count": null,
      "outputs": [
        {
          "output_type": "stream",
          "name": "stdout",
          "text": [
            "Model: \"sequential_2\"\n",
            "_________________________________________________________________\n",
            " Layer (type)                Output Shape              Param #   \n",
            "=================================================================\n",
            " conv2d_8 (Conv2D)           (None, 28, 28, 64)        640       \n",
            "                                                                 \n",
            " conv2d_9 (Conv2D)           (None, 28, 28, 64)        36928     \n",
            "                                                                 \n",
            " conv2d_10 (Conv2D)          (None, 28, 28, 64)        36928     \n",
            "                                                                 \n",
            " conv2d_11 (Conv2D)          (None, 28, 28, 64)        36928     \n",
            "                                                                 \n",
            " flatten_2 (Flatten)         (None, 50176)             0         \n",
            "                                                                 \n",
            " dense_2 (Dense)             (None, 10)                501770    \n",
            "                                                                 \n",
            "=================================================================\n",
            "Total params: 613,194\n",
            "Trainable params: 613,194\n",
            "Non-trainable params: 0\n",
            "_________________________________________________________________\n"
          ]
        }
      ]
    },
    {
      "cell_type": "code",
      "source": [
        "cnn.set_hyper_parameters(epochs=15,batch_size=128)\n",
        "cnn.set_early_stopping('val_loss')"
      ],
      "metadata": {
        "id": "iVAVzrc7gEJE"
      },
      "id": "iVAVzrc7gEJE",
      "execution_count": null,
      "outputs": []
    },
    {
      "cell_type": "code",
      "source": [
        "cnn.train(x_train,y_train,x_test,y_test)\n",
        "cnn.show_results()"
      ],
      "metadata": {
        "colab": {
          "base_uri": "https://localhost:8080/",
          "height": 815
        },
        "id": "CSVWxd7PSGBV",
        "outputId": "e3d69d95-67f6-46d9-a0bc-e6e33399a33d"
      },
      "id": "CSVWxd7PSGBV",
      "execution_count": null,
      "outputs": [
        {
          "output_type": "stream",
          "name": "stdout",
          "text": [
            "Epoch 1/15\n",
            "469/469 [==============================] - 21s 24ms/step - loss: 0.6865 - accuracy: 0.8040 - val_loss: 0.3064 - val_accuracy: 0.9126\n",
            "Epoch 2/15\n",
            "469/469 [==============================] - 11s 24ms/step - loss: 0.2956 - accuracy: 0.9144 - val_loss: 0.2437 - val_accuracy: 0.9314\n",
            "Epoch 3/15\n",
            "469/469 [==============================] - 11s 24ms/step - loss: 0.1883 - accuracy: 0.9459 - val_loss: 0.1304 - val_accuracy: 0.9630\n",
            "Epoch 4/15\n",
            "469/469 [==============================] - 11s 23ms/step - loss: 0.1148 - accuracy: 0.9664 - val_loss: 0.0873 - val_accuracy: 0.9746\n",
            "Epoch 5/15\n",
            "469/469 [==============================] - 11s 24ms/step - loss: 0.0887 - accuracy: 0.9737 - val_loss: 0.0762 - val_accuracy: 0.9756\n",
            "Epoch 6/15\n",
            "469/469 [==============================] - 11s 24ms/step - loss: 0.0749 - accuracy: 0.9771 - val_loss: 0.0613 - val_accuracy: 0.9802\n",
            "Epoch 7/15\n",
            "469/469 [==============================] - 11s 24ms/step - loss: 0.0665 - accuracy: 0.9801 - val_loss: 0.0602 - val_accuracy: 0.9805\n",
            "Epoch 8/15\n",
            "469/469 [==============================] - 11s 23ms/step - loss: 0.0603 - accuracy: 0.9819 - val_loss: 0.0656 - val_accuracy: 0.9798\n",
            "Epoch 9/15\n",
            "469/469 [==============================] - 11s 24ms/step - loss: 0.0557 - accuracy: 0.9826 - val_loss: 0.0564 - val_accuracy: 0.9818\n",
            "Epoch 10/15\n",
            "469/469 [==============================] - 11s 23ms/step - loss: 0.0508 - accuracy: 0.9847 - val_loss: 0.0585 - val_accuracy: 0.9796\n",
            "Epoch 11/15\n",
            "469/469 [==============================] - 11s 24ms/step - loss: 0.0468 - accuracy: 0.9855 - val_loss: 0.0489 - val_accuracy: 0.9845\n",
            "Epoch 12/15\n",
            "469/469 [==============================] - 11s 23ms/step - loss: 0.0443 - accuracy: 0.9865 - val_loss: 0.0606 - val_accuracy: 0.9800\n",
            "Epoch 13/15\n",
            "469/469 [==============================] - 11s 24ms/step - loss: 0.0420 - accuracy: 0.9868 - val_loss: 0.0503 - val_accuracy: 0.9842\n",
            "Epoch 14/15\n",
            "469/469 [==============================] - 11s 23ms/step - loss: 0.0390 - accuracy: 0.9877 - val_loss: 0.0508 - val_accuracy: 0.9836\n",
            "Epoch 15/15\n",
            "469/469 [==============================] - 11s 23ms/step - loss: 0.0367 - accuracy: 0.9885 - val_loss: 0.0534 - val_accuracy: 0.9825\n"
          ]
        },
        {
          "output_type": "display_data",
          "data": {
            "text/plain": [
              "<Figure size 432x288 with 1 Axes>"
            ],
            "image/png": "[encoded data removed]"
          },
          "metadata": {
            "needs_background": "light"
          }
        }
      ]
    },
    {
      "cell_type": "markdown",
      "id": "003189e1",
      "metadata": {
        "id": "003189e1"
      },
      "source": [
        "## Q) 1.2\n",
        "Now lets start adding label noise to the dataset\n"
      ]
    },
    {
      "cell_type": "markdown",
      "id": "fc09bd79",
      "metadata": {
        "id": "fc09bd79"
      },
      "source": [
        "1) Randomize 20% of train labels and repeat Q1 (1,2 & 3)\n",
        "\n",
        "2) Randomize 40% of train labels and repeat Q1 (3)\n",
        "\n",
        "3) Randomize 60% of train labels and repeat Q1 (3)\n",
        "\n",
        "4) Randomize 80% of train labels and repeat Q1 (3)\n",
        "\n",
        "5) Randomize 100% of train labels and repeat Q1 (3)\n"
      ]
    },
    {
      "cell_type": "code",
      "execution_count": null,
      "id": "4204eb72",
      "metadata": {
        "id": "4204eb72",
        "colab": {
          "base_uri": "https://localhost:8080/"
        },
        "outputId": "9d087531-9773-4729-e8ce-72c67ac8e4e2"
      },
      "outputs": [
        {
          "output_type": "stream",
          "name": "stdout",
          "text": [
            "\n",
            "Training labels randomizing for:20.0% noise\n",
            "12000\n",
            "(60000, 10)\n",
            "Epoch 1/15\n",
            "469/469 [==============================] - 11s 24ms/step - loss: 0.9769 - accuracy: 0.8145 - val_loss: 0.3738 - val_accuracy: 0.9736\n",
            "Epoch 2/15\n",
            "469/469 [==============================] - 11s 24ms/step - loss: 0.9241 - accuracy: 0.8190 - val_loss: 0.3123 - val_accuracy: 0.9778\n",
            "Epoch 3/15\n",
            "469/469 [==============================] - 11s 23ms/step - loss: 0.9101 - accuracy: 0.8201 - val_loss: 0.2727 - val_accuracy: 0.9779\n",
            "Epoch 4/15\n",
            "469/469 [==============================] - 11s 23ms/step - loss: 0.9002 - accuracy: 0.8210 - val_loss: 0.2640 - val_accuracy: 0.9788\n",
            "Epoch 5/15\n",
            "469/469 [==============================] - 11s 23ms/step - loss: 0.8925 - accuracy: 0.8216 - val_loss: 0.2633 - val_accuracy: 0.9791\n",
            "Epoch 6/15\n",
            "469/469 [==============================] - 11s 23ms/step - loss: 0.8850 - accuracy: 0.8220 - val_loss: 0.2728 - val_accuracy: 0.9802\n",
            "Epoch 7/15\n",
            "469/469 [==============================] - 11s 23ms/step - loss: 0.8790 - accuracy: 0.8224 - val_loss: 0.2604 - val_accuracy: 0.9790\n",
            "Epoch 8/15\n",
            " 43/469 [=>............................] - ETA: 9s - loss: 0.8878 - accuracy: 0.8185"
          ]
        }
      ],
      "source": [
        "experiment=[0.2,0.4,0.6,0.8,1]\n",
        "for perc in experiment:\n",
        "  print()\n",
        "  print(\"Training labels randomizing for:{}% noise\".format(perc*100))\n",
        "  results = []\n",
        "  y_rand=original_y\n",
        "  b=int(perc*y_train.shape[0])\n",
        "  print(b)\n",
        "  for i in range(b):\n",
        "    results.append(random.randint(0, y_train.shape[0]-1))\n",
        "  for j in results:\n",
        "    y_rand[j]=random.randint(0, 9)\n",
        "  y_rand=encode(y_rand)\n",
        "  print(y_rand.shape)\n",
        "  cnn.train(x_train,y_rand,x_test,y_test)\n",
        "  cnn.show_results()"
      ]
    }
  ],
  "metadata": {
    "kernelspec": {
      "display_name": "Python 3",
      "language": "python",
      "name": "python3"
    },
    "language_info": {
      "codemirror_mode": {
        "name": "ipython",
        "version": 3
      },
      "file_extension": ".py",
      "mimetype": "text/x-python",
      "name": "python",
      "nbconvert_exporter": "python",
      "pygments_lexer": "ipython3",
      "version": "3.8.5"
    },
    "colab": {
      "name": "2021201086_Assignment3_Q1.ipynb",
      "provenance": [],
      "collapsed_sections": []
    },
    "accelerator": "GPU"
  },
  "nbformat": 4,
  "nbformat_minor": 5
}