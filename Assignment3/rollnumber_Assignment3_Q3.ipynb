{
 "cells": [
  {
   "cell_type": "markdown",
   "metadata": {},
   "source": [
    "# Assignment 3\n",
    "\n",
    "## Instructions\n",
    "- Run this notebook on ```Google Colab(preferable)```\n",
    "- Write your code and analysis in the indicated cells.\n",
    "- Ensure that this notebook runs without errors when the cells are run in sequence.\n",
    "- Do not attempt to change the contents of other cells. \n",
    "\n",
    "## Packages Used\n",
    "- sklearn [link](https://scikit-learn.org/)\n",
    "- Keras [link](https://keras.io/guides/)\n",
    "\n",
    "## Submission\n",
    "- Rename the notebook to `<roll_number>_Assignment3_Q3.ipynb`.\n",
    "\n",
    "\n",
    "## Question 3\n",
    "Fake news is a widespread problem and there are many methods for combating it.\n",
    "You have to build a fake news detection system using a ML model. Train any ML model (ANN, LSTM) over the given Dataset.\n",
    "The dataset has short statements spoken by people and has the meta-information and corresponding label for those sentences. \n",
    "Your target is label column which has 6 labels(in the increasing order of truthfullness): pants-fire, false, barely-true, half-true, mostly-true, true.\n",
    "\n",
    "The features are 'statement', 'subject', 'speaker', 'job', 'state', 'party', 'barely_true_c', 'false_c', 'half_true_c', 'mostly_true_c', 'pants_on_fire_c', 'venue' and the target is column \"label\".\n",
    "\n",
    "The statement is made by speaker whose job, party are given along with 6 columns which are an account of the  type of news(labels) the person has shared before. \n",
    "The person who has shared fake content before is likely to share it in future and this can be accounted by the ML model as a feature. Column barely_true_c contains how many barely_true news has the speaker shared (and so is with column X_c, value of X_c is number of X the person shared).\n",
    "\n",
    "\n",
    "You have to perform two tasks:\n",
    "* task1: Binary classification <br>\n",
    "Classify the given news as true/false. Take the labels pants-fire, false, barely-true as false and rest (half-true, mostly-true, true) as true.\n",
    "* task2: Six-way classification <br>\n",
    "Classify the given news into six-classes \"pants-fire, false, barely-true, half-true, mostly-true, true\".\n",
    "\n",
    "For each of the tasks:\n",
    "1) Experiment with depth of network and try to fine-tune hyperparameters reporting your observations. <br>\n",
    "2) Report the accuracy, f1-score, confusion matrix on train, val and test sets. <br>\n",
    "3) Experiment with bag-of-words, glove and bert embeddings(code given in the below notebook) and report results. <br> Comment on what is the affect of embedding on the results.\n",
    "\n",
    "The pre-processing code is provided, you need to write the training and test.\n",
    "\n",
    "Note: You are supposed to train on trainset, fine-tune on val and just eval on test set. If found that you trained on val/test sets, the penalty will be incurred."
   ]
  },
  {
   "cell_type": "code",
   "execution_count": 1,
   "metadata": {},
   "outputs": [],
   "source": [
    "# !pip install numpy\n",
    "# !pip install tensorflow\n",
    "# !pip install re\n",
    "# !pip install nltk\n",
    "# !pip install keras\n",
    "# !pip install sklearn"
   ]
  },
  {
   "cell_type": "code",
   "execution_count": 2,
   "metadata": {
    "colab": {
     "base_uri": "https://localhost:8080/",
     "height": 67
    },
    "colab_type": "code",
    "id": "Agl6JEo_gaBT",
    "outputId": "98655cec-75b4-4fd8-9070-c1c9d0706ceb"
   },
   "outputs": [
    {
     "name": "stderr",
     "output_type": "stream",
     "text": [
      "[nltk_data] Downloading package stopwords to /home/avani/nltk_data...\n",
      "[nltk_data]   Package stopwords is already up-to-date!\n"
     ]
    }
   ],
   "source": [
    "# Importing libraries\n",
    "import numpy as np\n",
    "import pandas as pd\n",
    "from tensorflow import keras  #feel free to use any other library\n",
    "import numpy as np\n",
    "\n",
    "import re\n",
    "import nltk\n",
    "import numpy as np\n",
    "from nltk.corpus import stopwords\n",
    "from nltk.stem.porter import PorterStemmer\n",
    "nltk.download('stopwords')\n",
    "from sklearn.preprocessing import LabelEncoder, OneHotEncoder\n",
    "from sklearn.feature_extraction.text import CountVectorizer\n",
    "from keras.utils import np_utils\n"
   ]
  },
  {
   "cell_type": "code",
   "execution_count": 3,
   "metadata": {},
   "outputs": [],
   "source": [
    "train = pd.read_csv('q3_data/train.csv')\n",
    "val = pd.read_csv('q3_data/val.csv')\n",
    "test = pd.read_csv('q3_data/test.csv')"
   ]
  },
  {
   "cell_type": "code",
   "execution_count": 4,
   "metadata": {
    "colab": {},
    "colab_type": "code",
    "id": "enAZ4DvUffVr"
   },
   "outputs": [],
   "source": [
    "# Dropping the 'id' column\n",
    "train.drop('id', axis = 1, inplace = True)\n",
    "test.drop('id', axis = 1, inplace = True)\n",
    "val.drop('id', axis = 1, inplace = True)"
   ]
  },
  {
   "cell_type": "code",
   "execution_count": 5,
   "metadata": {
    "colab": {
     "base_uri": "https://localhost:8080/",
     "height": 602
    },
    "colab_type": "code",
    "id": "7pEJ-G4yITrd",
    "outputId": "a4999c4c-8531-4a1b-9b9a-f139b995a66e"
   },
   "outputs": [
    {
     "data": {
      "text/html": [
       "<div>\n",
       "<style scoped>\n",
       "    .dataframe tbody tr th:only-of-type {\n",
       "        vertical-align: middle;\n",
       "    }\n",
       "\n",
       "    .dataframe tbody tr th {\n",
       "        vertical-align: top;\n",
       "    }\n",
       "\n",
       "    .dataframe thead th {\n",
       "        text-align: right;\n",
       "    }\n",
       "</style>\n",
       "<table border=\"1\" class=\"dataframe\">\n",
       "  <thead>\n",
       "    <tr style=\"text-align: right;\">\n",
       "      <th></th>\n",
       "      <th>label</th>\n",
       "      <th>statement</th>\n",
       "      <th>subject</th>\n",
       "      <th>speaker</th>\n",
       "      <th>job</th>\n",
       "      <th>state</th>\n",
       "      <th>party</th>\n",
       "      <th>barely_true_c</th>\n",
       "      <th>false_c</th>\n",
       "      <th>half_true_c</th>\n",
       "      <th>mostly_true_c</th>\n",
       "      <th>pants_on_fire_c</th>\n",
       "      <th>venue</th>\n",
       "    </tr>\n",
       "  </thead>\n",
       "  <tbody>\n",
       "    <tr>\n",
       "      <th>0</th>\n",
       "      <td>False</td>\n",
       "      <td>Says the Annies List political group supports ...</td>\n",
       "      <td>abortion</td>\n",
       "      <td>dwayne-bohac</td>\n",
       "      <td>State representative</td>\n",
       "      <td>Texas</td>\n",
       "      <td>republican</td>\n",
       "      <td>0</td>\n",
       "      <td>1</td>\n",
       "      <td>0</td>\n",
       "      <td>0</td>\n",
       "      <td>0</td>\n",
       "      <td>a mailer</td>\n",
       "    </tr>\n",
       "    <tr>\n",
       "      <th>1</th>\n",
       "      <td>half-true</td>\n",
       "      <td>When did the decline of coal start? It started...</td>\n",
       "      <td>energy,history,job-accomplishments</td>\n",
       "      <td>scott-surovell</td>\n",
       "      <td>State delegate</td>\n",
       "      <td>Virginia</td>\n",
       "      <td>democrat</td>\n",
       "      <td>0</td>\n",
       "      <td>0</td>\n",
       "      <td>1</td>\n",
       "      <td>1</td>\n",
       "      <td>0</td>\n",
       "      <td>a floor speech.</td>\n",
       "    </tr>\n",
       "    <tr>\n",
       "      <th>2</th>\n",
       "      <td>mostly-true</td>\n",
       "      <td>Hillary Clinton agrees with John McCain \"by vo...</td>\n",
       "      <td>foreign-policy</td>\n",
       "      <td>barack-obama</td>\n",
       "      <td>President</td>\n",
       "      <td>Illinois</td>\n",
       "      <td>democrat</td>\n",
       "      <td>70</td>\n",
       "      <td>71</td>\n",
       "      <td>160</td>\n",
       "      <td>163</td>\n",
       "      <td>9</td>\n",
       "      <td>Denver</td>\n",
       "    </tr>\n",
       "    <tr>\n",
       "      <th>3</th>\n",
       "      <td>False</td>\n",
       "      <td>Health care reform legislation is likely to ma...</td>\n",
       "      <td>health-care</td>\n",
       "      <td>blog-posting</td>\n",
       "      <td>NaN</td>\n",
       "      <td>NaN</td>\n",
       "      <td>none</td>\n",
       "      <td>7</td>\n",
       "      <td>19</td>\n",
       "      <td>3</td>\n",
       "      <td>5</td>\n",
       "      <td>44</td>\n",
       "      <td>a news release</td>\n",
       "    </tr>\n",
       "    <tr>\n",
       "      <th>4</th>\n",
       "      <td>half-true</td>\n",
       "      <td>The economic turnaround started at the end of ...</td>\n",
       "      <td>economy,jobs</td>\n",
       "      <td>charlie-crist</td>\n",
       "      <td>NaN</td>\n",
       "      <td>Florida</td>\n",
       "      <td>democrat</td>\n",
       "      <td>15</td>\n",
       "      <td>9</td>\n",
       "      <td>20</td>\n",
       "      <td>19</td>\n",
       "      <td>2</td>\n",
       "      <td>an interview on CNN</td>\n",
       "    </tr>\n",
       "  </tbody>\n",
       "</table>\n",
       "</div>"
      ],
      "text/plain": [
       "         label                                          statement  \\\n",
       "0        False  Says the Annies List political group supports ...   \n",
       "1    half-true  When did the decline of coal start? It started...   \n",
       "2  mostly-true  Hillary Clinton agrees with John McCain \"by vo...   \n",
       "3        False  Health care reform legislation is likely to ma...   \n",
       "4    half-true  The economic turnaround started at the end of ...   \n",
       "\n",
       "                              subject         speaker                   job  \\\n",
       "0                            abortion    dwayne-bohac  State representative   \n",
       "1  energy,history,job-accomplishments  scott-surovell        State delegate   \n",
       "2                      foreign-policy    barack-obama             President   \n",
       "3                         health-care    blog-posting                   NaN   \n",
       "4                        economy,jobs   charlie-crist                   NaN   \n",
       "\n",
       "      state       party  barely_true_c  false_c  half_true_c  mostly_true_c  \\\n",
       "0     Texas  republican              0        1            0              0   \n",
       "1  Virginia    democrat              0        0            1              1   \n",
       "2  Illinois    democrat             70       71          160            163   \n",
       "3       NaN        none              7       19            3              5   \n",
       "4   Florida    democrat             15        9           20             19   \n",
       "\n",
       "   pants_on_fire_c                venue  \n",
       "0                0             a mailer  \n",
       "1                0      a floor speech.  \n",
       "2                9               Denver  \n",
       "3               44       a news release  \n",
       "4                2  an interview on CNN  "
      ]
     },
     "execution_count": 5,
     "metadata": {},
     "output_type": "execute_result"
    }
   ],
   "source": [
    "train.head(5)"
   ]
  },
  {
   "cell_type": "code",
   "execution_count": 6,
   "metadata": {
    "colab": {
     "base_uri": "https://localhost:8080/",
     "height": 67
    },
    "colab_type": "code",
    "id": "UbFqDO8_U6df",
    "outputId": "6c7e60d4-47d4-4039-d4b8-c04547d04d39"
   },
   "outputs": [
    {
     "name": "stdout",
     "output_type": "stream",
     "text": [
      "(10269, 13)\n",
      "(1284, 13)\n",
      "(1283, 13)\n"
     ]
    }
   ],
   "source": [
    "# Checking the shape of data\n",
    "print(train.shape)\n",
    "print(val.shape)\n",
    "print(test.shape)"
   ]
  },
  {
   "cell_type": "markdown",
   "metadata": {},
   "source": [
    "## Clean and pre-process data\n",
    "* Replace missing values\n",
    "* Remove numbers and special characters\n",
    "* Convert to upper-case\n",
    "\n",
    "We experiment with two types of processing, one directly appending the other attributes like subject, job, state, party to sentence and then applying bag of words on it.\n",
    "\n",
    "Other being encoding sentence with glove embeddings and passing just that."
   ]
  },
  {
   "cell_type": "code",
   "execution_count": 7,
   "metadata": {
    "colab": {},
    "colab_type": "code",
    "id": "w7tTpAClApgJ"
   },
   "outputs": [],
   "source": [
    "\n",
    "def dataPreprocessing(data):\n",
    "    '''Function for cleaning the dataset\n",
    "    '''\n",
    "    corpus = []\n",
    "    # Missing values\n",
    "    data[\"job\"].fillna(\"no-job\", inplace = True)\n",
    "    data[\"state\"].fillna(\"no-state\", inplace = True)\n",
    "\n",
    "    for x in range(data.shape[0]):\n",
    "        statement = re.sub('[^a-zA-Z]', ' ', data['statement'][x]) # Removing all numbers and special characters\n",
    "        statement = statement.lower() # Converting uppercase to lowercase\n",
    "        statement = statement.split()\n",
    "        \n",
    "        # you can experiment with any other stemmers\n",
    "        ps = PorterStemmer()\n",
    "        statement = [ps.stem(word) for word in statement if not word in set(stopwords.words('english'))] # Stemming the dataset and removing stopwords\n",
    "        statement = ' '.join(statement)\n",
    "        subject = data['subject'][x].replace(',', ' ')\n",
    "        speaker = data['speaker'][x]\n",
    "        job = data['job'][x].lower()\n",
    "        # job = job.replace(' ', '-')\n",
    "        state = data['state'][x].lower()\n",
    "        party = data['party'][x].lower()\n",
    "        corpus.append(statement + ' '  + subject + ' ' + job + ' ' + state + ' ' + party)\n",
    "    return corpus"
   ]
  },
  {
   "cell_type": "code",
   "execution_count": 8,
   "metadata": {
    "colab": {},
    "colab_type": "code",
    "id": "uy1ikPhJ9LoS"
   },
   "outputs": [],
   "source": [
    "x_train = dataPreprocessing(train)\n",
    "x_val = dataPreprocessing(val) \n",
    "x_test = dataPreprocessing(test) "
   ]
  },
  {
   "cell_type": "code",
   "execution_count": 9,
   "metadata": {},
   "outputs": [
    {
     "data": {
      "text/plain": [
       "(10269, 1284, 1283)"
      ]
     },
     "execution_count": 9,
     "metadata": {},
     "output_type": "execute_result"
    }
   ],
   "source": [
    "len(x_train), len(x_val), len(x_test)"
   ]
  },
  {
   "cell_type": "code",
   "execution_count": 10,
   "metadata": {},
   "outputs": [],
   "source": [
    "corpus = x_train + x_val + x_test"
   ]
  },
  {
   "cell_type": "markdown",
   "metadata": {},
   "source": [
    "## Using bag-of-words embedding\n"
   ]
  },
  {
   "cell_type": "code",
   "execution_count": 11,
   "metadata": {
    "colab": {},
    "colab_type": "code",
    "id": "sopw2zusZwn4"
   },
   "outputs": [],
   "source": [
    "# Converting the corpus into bag-of-words\n",
    "cv = CountVectorizer(max_features = 8000)\n",
    "X = cv.fit_transform(corpus).toarray()"
   ]
  },
  {
   "cell_type": "code",
   "execution_count": 12,
   "metadata": {},
   "outputs": [
    {
     "data": {
      "text/plain": [
       "array([[0, 0, 0, ..., 0, 0, 0],\n",
       "       [0, 0, 0, ..., 0, 0, 0],\n",
       "       [0, 0, 0, ..., 0, 0, 0],\n",
       "       ...,\n",
       "       [0, 0, 0, ..., 0, 0, 0],\n",
       "       [1, 0, 0, ..., 0, 0, 0],\n",
       "       [0, 0, 0, ..., 0, 0, 0]])"
      ]
     },
     "execution_count": 12,
     "metadata": {},
     "output_type": "execute_result"
    }
   ],
   "source": [
    "X"
   ]
  },
  {
   "cell_type": "code",
   "execution_count": 13,
   "metadata": {
    "colab": {
     "base_uri": "https://localhost:8080/",
     "height": 34
    },
    "colab_type": "code",
    "id": "o06bP9FJEaMU",
    "outputId": "170f01c4-fea8-4a99-94fa-7f54dd6b0826"
   },
   "outputs": [
    {
     "data": {
      "text/plain": [
       "(12836, 8000)"
      ]
     },
     "execution_count": 13,
     "metadata": {},
     "output_type": "execute_result"
    }
   ],
   "source": [
    "X.shape"
   ]
  },
  {
   "cell_type": "code",
   "execution_count": 14,
   "metadata": {},
   "outputs": [
    {
     "data": {
      "text/plain": [
       "Index(['label', 'statement', 'subject', 'speaker', 'job', 'state', 'party',\n",
       "       'barely_true_c', 'false_c', 'half_true_c', 'mostly_true_c',\n",
       "       'pants_on_fire_c', 'venue'],\n",
       "      dtype='object')"
      ]
     },
     "execution_count": 14,
     "metadata": {},
     "output_type": "execute_result"
    }
   ],
   "source": [
    "train.columns"
   ]
  },
  {
   "cell_type": "code",
   "execution_count": 15,
   "metadata": {
    "colab": {},
    "colab_type": "code",
    "id": "RCqMgDpiLDhu"
   },
   "outputs": [],
   "source": [
    "# Selecting the columns 'barely_true_c',\t'false_c',\t'half_true_c',\t'mostly_true_c',\t'pants_on_fire_c'\n",
    "label_cols = ['barely_true_c', 'false_c', 'half_true_c', 'mostly_true_c',\n",
    "       'pants_on_fire_c']\n",
    "x_train2 = train[label_cols]\n",
    "x_val2 = val[label_cols]\n",
    "x_test2 = test[label_cols]"
   ]
  },
  {
   "cell_type": "code",
   "execution_count": 16,
   "metadata": {
    "colab": {},
    "colab_type": "code",
    "id": "QglKXzA_w6DH"
   },
   "outputs": [],
   "source": [
    "# Stacking x_train and x_train2 horizontally\n",
    "x_train_bow = np.hstack((X[:len(x_train)], x_train2))\n",
    "x_val_bow = np.hstack((X[len(x_train):len(x_train)+len(x_val)], x_val2))\n",
    "x_test_bow = np.hstack((X[len(x_train)+len(x_val):], x_test2))"
   ]
  },
  {
   "cell_type": "code",
   "execution_count": 17,
   "metadata": {
    "colab": {
     "base_uri": "https://localhost:8080/",
     "height": 34
    },
    "colab_type": "code",
    "id": "E3pskgViw99U",
    "outputId": "52aee74f-5d69-42ce-de42-8df4c498ecd8"
   },
   "outputs": [
    {
     "data": {
      "text/plain": [
       "(10269, 8005)"
      ]
     },
     "execution_count": 17,
     "metadata": {},
     "output_type": "execute_result"
    }
   ],
   "source": [
    "x_train_bow.shape"
   ]
  },
  {
   "cell_type": "markdown",
   "metadata": {},
   "source": [
    "## Use of Glove Embedding\n"
   ]
  },
  {
   "cell_type": "markdown",
   "metadata": {},
   "source": [
    "download glove embeddings from 'https://nlp.stanford.edu/data/glove.6B.zip','glove.6B.zip'\n",
    "and place in your current working folder\n"
   ]
  },
  {
   "cell_type": "code",
   "execution_count": 18,
   "metadata": {},
   "outputs": [],
   "source": [
    "#!unzip \"glove.6B.zip\" -d \"glove\""
   ]
  },
  {
   "cell_type": "code",
   "execution_count": 19,
   "metadata": {},
   "outputs": [],
   "source": [
    "emmbed_dict = {}\n",
    "with open('glove/glove.6B.200d.txt','r') as f:\n",
    "  for line in f:\n",
    "    values = line.split()\n",
    "    word = values[0]\n",
    "    vector = np.asarray(values[1:],'float32')\n",
    "    emmbed_dict[word]=vector\n"
   ]
  },
  {
   "cell_type": "code",
   "execution_count": 20,
   "metadata": {},
   "outputs": [],
   "source": [
    "emmbed_dict['oov'] = np.zeros(200)"
   ]
  },
  {
   "cell_type": "code",
   "execution_count": 21,
   "metadata": {},
   "outputs": [],
   "source": [
    "from sentence_transformers import SentenceTransformer\n",
    "model = SentenceTransformer('paraphrase-MiniLM-L6-v2')"
   ]
  },
  {
   "cell_type": "code",
   "execution_count": 22,
   "metadata": {},
   "outputs": [
    {
     "name": "stderr",
     "output_type": "stream",
     "text": [
      "[nltk_data] Downloading package punkt to /home/avani/nltk_data...\n",
      "[nltk_data]   Package punkt is already up-to-date!\n"
     ]
    }
   ],
   "source": [
    "from nltk.tokenize import word_tokenize\n",
    "nltk.download('punkt')\n",
    "def dataPreprocessing_glove(data):\n",
    "    corpus = []\n",
    "    # Missing values\n",
    "    data[\"job\"].fillna(\"no-job\", inplace = True)\n",
    "    data[\"state\"].fillna(\"no-state\", inplace = True)\n",
    "\n",
    "    for x in range(data.shape[0]):\n",
    "        statement = re.sub('[^a-zA-Z]', ' ', data['statement'][x]) # Removing all numbers and special characters\n",
    "        statement = statement.lower() # Converting uppercase to lowercase\n",
    "        statement = word_tokenize(statement)\n",
    "\n",
    "        embed_statement = []\n",
    "        for w in statement:\n",
    "            if w in emmbed_dict:\n",
    "                embed_statement.append(emmbed_dict[w])\n",
    "            else:\n",
    "                embed_statement.append(emmbed_dict['oov'])\n",
    "         \n",
    "        # bonus: Think how you can encode the below features(hint: look upon label encoding or training your own word2vec or any other embedding model)\n",
    "    \n",
    "#         subject = data['subject'][x].replace(',', ' ')\n",
    "#         speaker = data['speaker'][x]\n",
    "#         job = data['job'][x].lower()\n",
    "#         # job = job.replace(' ', '-')\n",
    "#         state = data['state'][x].lower()\n",
    "#         party = data['party'][x].lower()\n",
    "        corpus.append(embed_statement)\n",
    "    \n",
    "    return np.array(corpus)"
   ]
  },
  {
   "cell_type": "code",
   "execution_count": 23,
   "metadata": {},
   "outputs": [
    {
     "name": "stderr",
     "output_type": "stream",
     "text": [
      "/home/avani/miniconda3/lib/python3.7/site-packages/ipykernel_launcher.py:31: VisibleDeprecationWarning: Creating an ndarray from ragged nested sequences (which is a list-or-tuple of lists-or-tuples-or ndarrays with different lengths or shapes) is deprecated. If you meant to do this, you must specify 'dtype=object' when creating the ndarray.\n"
     ]
    }
   ],
   "source": [
    "x_train_glove = dataPreprocessing_glove(train)\n",
    "x_val_glove = dataPreprocessing_glove(val) \n",
    "x_test_glove = dataPreprocessing_glove(test) "
   ]
  },
  {
   "cell_type": "code",
   "execution_count": 24,
   "metadata": {},
   "outputs": [],
   "source": [
    "x_train_glove = np.hstack((x_train_glove.reshape(-1,1), x_train2))\n",
    "x_val_glove = np.hstack((x_val_glove.reshape(-1,1), x_val2))\n",
    "x_test_glove = np.hstack((x_test_glove.reshape(-1,1), x_test2))"
   ]
  },
  {
   "cell_type": "markdown",
   "metadata": {},
   "source": [
    "## Use of bert embeddings\n",
    "note: we used our pre-processed code for bow which has the attributed appended to end the end of sentence. "
   ]
  },
  {
   "cell_type": "code",
   "execution_count": 26,
   "metadata": {},
   "outputs": [],
   "source": [
    "from sentence_transformers import SentenceTransformer\n",
    "model = SentenceTransformer('paraphrase-MiniLM-L6-v2')\n",
    "\n",
    "x_train_bert = np.hstack((model.encode(x_train), x_train2))\n",
    "x_val_bert = np.hstack((model.encode(x_val), x_val2))\n",
    "x_test_bert = np.hstack((model.encode(x_test), x_test2))"
   ]
  },
  {
   "cell_type": "markdown",
   "metadata": {},
   "source": [
    "Now use the above 3 types of embedded inputs(bow, glove, bert embeddings) for the 2 classification tasks and compare their outputs\n"
   ]
  },
  {
   "cell_type": "markdown",
   "metadata": {
    "colab_type": "text",
    "id": "lmavEzWHrTC8"
   },
   "source": [
    "# Six-way classification"
   ]
  },
  {
   "cell_type": "markdown",
   "metadata": {
    "colab_type": "text",
    "id": "1wAhr39Aq41J"
   },
   "source": [
    "## Preprocessing"
   ]
  },
  {
   "cell_type": "code",
   "execution_count": 27,
   "metadata": {
    "colab": {},
    "colab_type": "code",
    "id": "yJwZwMXANg9_"
   },
   "outputs": [],
   "source": [
    "num_classes = 6\n",
    "# Preprocessing function for the labels\n",
    "def categorize(data):\n",
    "    y = data[\"label\"].tolist()\n",
    "\n",
    "    # Encoding the Dependent Variable\n",
    "    labelencoder_y = LabelEncoder()\n",
    "    y = labelencoder_y.fit_transform(y)\n",
    "\n",
    "    # Converting to binary class matrix\n",
    "    y = np_utils.to_categorical(y, num_classes)\n",
    "    return y"
   ]
  },
  {
   "cell_type": "code",
   "execution_count": 28,
   "metadata": {
    "colab": {},
    "colab_type": "code",
    "id": "XIKTUSM3MJ-u"
   },
   "outputs": [],
   "source": [
    "y_train_six_way = categorize(train)\n",
    "y_test_six_way = categorize(test)\n",
    "y_val_six_way = categorize(val)"
   ]
  },
  {
   "cell_type": "markdown",
   "metadata": {},
   "source": [
    "Build a model and pass bow, glove and bert embedded inputs: x_train_bow, x_train_glove, x_train_bert(similarly validate for val and report results on test)\n"
   ]
  },
  {
   "cell_type": "markdown",
   "metadata": {
    "colab_type": "text",
    "id": "2Y-dusAUolnI"
   },
   "source": [
    "## Model"
   ]
  },
  {
   "cell_type": "code",
   "execution_count": 30,
   "metadata": {},
   "outputs": [],
   "source": [
    "## write your code here\n",
    "# Initialize hyperparameters\n",
    "# Create model\n",
    "# train\n",
    "# test\n",
    "# report accuracy, f1-score and confusion matrix"
   ]
  },
  {
   "cell_type": "markdown",
   "metadata": {
    "colab_type": "text",
    "id": "ctoTOw2uIK1G"
   },
   "source": [
    "# Binary Classification"
   ]
  },
  {
   "cell_type": "markdown",
   "metadata": {
    "colab_type": "text",
    "id": "2ZJUrQ1SrEBa"
   },
   "source": [
    "## Preprocessing"
   ]
  },
  {
   "cell_type": "code",
   "execution_count": 31,
   "metadata": {
    "colab": {},
    "colab_type": "code",
    "id": "eA3wQH1JinNx"
   },
   "outputs": [],
   "source": [
    "num_classes = 2"
   ]
  },
  {
   "cell_type": "code",
   "execution_count": 33,
   "metadata": {
    "colab": {},
    "colab_type": "code",
    "id": "Mk-q1zwVF5KZ"
   },
   "outputs": [],
   "source": [
    "# Function for preprocessing labels\n",
    "def dataPreprocessingBinary(data):\n",
    "    y = data[\"label\"].tolist()\n",
    "\n",
    "    # Changing the 'half-true', 'mostly-true', barely-true', 'pants-fire' labels to True/False for Binary Classification\n",
    "    for x in range(len(y)):\n",
    "        if(y[x] == 'half-true'):\n",
    "            y[x] = 'True'\n",
    "        elif(y[x] == 'mostly-true'):\n",
    "            y[x] = 'True'\n",
    "        elif(y[x] == 'barely-true'):\n",
    "            y[x] = 'False'\n",
    "        elif(y[x] == 'pants-fire'):\n",
    "            y[x] = 'False'\n",
    "\n",
    "    # Converting the lables into binary class matrix\n",
    "    labelencoder_y = LabelEncoder()\n",
    "    y = labelencoder_y.fit_transform(y)\n",
    "    y = np_utils.to_categorical(y, num_classes)\n",
    "    return y"
   ]
  },
  {
   "cell_type": "code",
   "execution_count": 34,
   "metadata": {
    "colab": {},
    "colab_type": "code",
    "id": "REu1ue0xbuqp"
   },
   "outputs": [],
   "source": [
    "y_train_binary = dataPreprocessingBinary(train)\n",
    "y_test_binary = dataPreprocessingBinary(test)\n",
    "y_val_binary = dataPreprocessingBinary(val)"
   ]
  },
  {
   "cell_type": "markdown",
   "metadata": {
    "colab_type": "text",
    "id": "KI4PIrgR01Sd"
   },
   "source": [
    "## Model\n",
    "Build a model and pass bow, glove and bert embedded inputs: x_train_bow, x_train_glove, x_train_bert(similarly validate for val and report results on test)\n"
   ]
  },
  {
   "cell_type": "code",
   "execution_count": 35,
   "metadata": {
    "colab": {},
    "colab_type": "code",
    "id": "-J0inPaQb-8Y"
   },
   "outputs": [],
   "source": [
    "## write your code here\n",
    "# Initialize hyperparameters\n",
    "# Create model\n",
    "# train\n",
    "# test\n",
    "# report accuracy, f1-score and confusion matrix"
   ]
  }
 ],
 "metadata": {
  "accelerator": "GPU",
  "colab": {
   "collapsed_sections": [],
   "include_colab_link": true,
   "name": "Fake News Detection",
   "provenance": [],
   "toc_visible": true,
   "version": "0.3.2"
  },
  "kernelspec": {
   "display_name": "Python 3",
   "language": "python",
   "name": "python3"
  },
  "language_info": {
   "codemirror_mode": {
    "name": "ipython",
    "version": 3
   },
   "file_extension": ".py",
   "mimetype": "text/x-python",
   "name": "python",
   "nbconvert_exporter": "python",
   "pygments_lexer": "ipython3",
   "version": "3.8.5"
  }
 },
 "nbformat": 4,
 "nbformat_minor": 1
}
