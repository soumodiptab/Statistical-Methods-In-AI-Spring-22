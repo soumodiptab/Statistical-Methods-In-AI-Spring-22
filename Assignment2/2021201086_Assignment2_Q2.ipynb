{
 "cells": [
  {
   "cell_type": "markdown",
   "id": "improving-pepper",
   "metadata": {},
   "source": [
    "# Assignment 2 - Question 2\n",
    "The objective of this assignment is to get you familiarize with  the  problem  of  `Linear Regression`.\n",
    "\n",
    "## Instructions\n",
    "- Write your code and analysis in the indicated cells.\n",
    "- Ensure that this notebook runs without errors when the cells are run in sequence.\n",
    "- Do not attempt to change the contents of other cells.\n",
    "- No inbuilt functions to be used until specified\n",
    "\n",
    "## Submission\n",
    "- Ensure that this notebook runs without errors when the cells are run in sequence.\n",
    "- Rename the notebook to `<roll_number>_Assignment2_Q2.ipynb`."
   ]
  },
  {
   "cell_type": "markdown",
   "id": "final-transaction",
   "metadata": {},
   "source": [
    "## 2.0 Background about the dataset\n",
    "\n",
    "TLDR: You have 4 independent variables (`float`) for each molecule. You can use a linear combination of these 4 independent variables to predict the bandgap (dependent variable) of each molecule.\n",
    "\n",
    "You can read more about the problem in [Li et al, Bandgap tuning strategy by cations and halide ions of lead halide perovskites learned from machine learning, RSC Adv., 2021,11, 15688-15694](https://doi.org/10.1039/D1RA03117A)."
   ]
  },
  {
   "cell_type": "code",
   "execution_count": 1,
   "id": "lyric-olympus",
   "metadata": {},
   "outputs": [],
   "source": [
    "import csv\n",
    "import random\n",
    "import numpy as np\n",
    "import matplotlib.pyplot as plt"
   ]
  },
  {
   "cell_type": "code",
   "execution_count": 2,
   "id": "hundred-receipt",
   "metadata": {},
   "outputs": [],
   "source": [
    "all_molecules = list()\n",
    "\n",
    "with open('bg_data.txt', 'r') as infile:\n",
    "    input_rows = csv.DictReader(infile)\n",
    "    \n",
    "    for row in input_rows:\n",
    "        current_mol = ([float(row['Cs']), float(row['FA']), float(row['Cl']), float(row['Br'])], float(row['Bandgap']))\n",
    "        all_molecules.append(current_mol)\n",
    "\n",
    "random.shuffle(all_molecules)\n",
    "\n",
    "\n",
    "num_train = int(len(all_molecules) * 0.8)\n",
    "\n",
    "# each point in x_train has 4 values - 1 for each feature\n",
    "x_train = [x[0] for x in all_molecules[:num_train]]\n",
    "# each point in y_train has 1 value - the bandgap of the molecule\n",
    "y_train = [x[1] for x in all_molecules[:num_train]]\n",
    "\n",
    "x_test = [x[0] for x in all_molecules[num_train:]]\n",
    "y_test = [x[1] for x in all_molecules[num_train:]]"
   ]
  },
  {
   "cell_type": "markdown",
   "id": "square-direction",
   "metadata": {},
   "source": [
    "### 2.1 Implement a Linear Regression model that minimizes the MSE **without using any libraries**. You may use NumPy to vectorize your code, but *do not use numpy.polyfit* or anything similar.\n",
    "\n",
    "2.1.1 Explain how you plan to implement Linear Regression in 5-10 lines."
   ]
  },
  {
   "cell_type": "markdown",
   "id": "frozen-forth",
   "metadata": {},
   "source": [
    "<!-- your answer to 1.1.1 -->\n",
    "* To implement linear regression our main goal would be to find the weights of the regression equation.\n",
    "* The equation would also contain a bias term `w0`. So we need to bias our initial weights to include it.\n",
    "* We are going to use gradient descent to minimize the loss function such that we have least difference between the actual and predicted values.\n",
    "* Here we would be using two hyper parameters `epoch` and `learning_rate` which we will arrive by trial error.\n",
    "* In each iteration we would be finding the partial derivates with respect to each weight and use the `learning_rate` to update the new value of the weights.\n",
    "* `learning_rate` is very important here as it dictates how fast or slow we arrive at our minimum by finding the gradient in each iteration.\n",
    "* We will keep repeating and tuning the parameters until we arrive at a optimum one that can be used in our linear regression function to predict the values of `y` given `x`."
   ]
  },
  {
   "cell_type": "markdown",
   "id": "addressed-winter",
   "metadata": {},
   "source": [
    "2.1.2 Implement Linear Regression using `x_train` and `y_train` as the train dataset.\n",
    "\n",
    "2.1.2.1 Choose the best learning rate and print the learning rate for which you achieved the best MSE."
   ]
  },
  {
   "cell_type": "code",
   "execution_count": 2,
   "id": "6650fe18",
   "metadata": {},
   "outputs": [],
   "source": [
    "# implement Linear Regression\n",
    "def biasing(x):\n",
    "    return np.c_[np.ones(len(x)),x]\n",
    "def cost_func(y,y_pred):\n",
    "    sr=np.square(y-y_pred)\n",
    "    return np.mean(sr)/2\n",
    "def gradient_descent(x,y,learning_rate,epochs):\n",
    "    cost=[]\n",
    "    epoch=[]\n",
    "    x_bias=biasing(np.mat(x))\n",
    "    w=np.mat(np.zeros(x_bias.shape[1])).T\n",
    "    y=np.mat(y).T\n",
    "    for e in range(epochs):\n",
    "        y_pred=np.matmul(x_bias,w)\n",
    "        gradient=-1*(np.matmul(x_bias.T,(y-y_pred))/len(x_bias))\n",
    "        w=w-learning_rate*gradient\n",
    "        epoch.append(e+1)\n",
    "        cost.append(cost_func(y,y_pred))\n",
    "    return w,epoch,cost      "
   ]
  },
  {
   "cell_type": "code",
   "execution_count": 1,
   "id": "f23bcd0c",
   "metadata": {},
   "outputs": [
    {
     "ename": "NameError",
     "evalue": "name 'gradient_descent' is not defined",
     "output_type": "error",
     "traceback": [
      "\u001b[0;31m---------------------------------------------------------------------------\u001b[0m",
      "\u001b[0;31mNameError\u001b[0m                                 Traceback (most recent call last)",
      "\u001b[1;32m/home/soumodiptab/courses/SMAI/Assignment2/2021201086_Assignment2_Q2.ipynb Cell 9'\u001b[0m in \u001b[0;36m<module>\u001b[0;34m\u001b[0m\n\u001b[0;32m----> <a href='vscode-notebook-cell://wsl%2Bubuntu/home/soumodiptab/courses/SMAI/Assignment2/2021201086_Assignment2_Q2.ipynb#ch0000008vscode-remote?line=0'>1</a>\u001b[0m weights,epochs,cost\u001b[39m=\u001b[39mgradient_descent(x_train,y_train,\u001b[39m1e-1\u001b[39m,\u001b[39m1000\u001b[39m)\n\u001b[1;32m      <a href='vscode-notebook-cell://wsl%2Bubuntu/home/soumodiptab/courses/SMAI/Assignment2/2021201086_Assignment2_Q2.ipynb#ch0000008vscode-remote?line=1'>2</a>\u001b[0m plt\u001b[39m.\u001b[39mxlabel(\u001b[39m'\u001b[39m\u001b[39mEpochs\u001b[39m\u001b[39m'\u001b[39m)\n\u001b[1;32m      <a href='vscode-notebook-cell://wsl%2Bubuntu/home/soumodiptab/courses/SMAI/Assignment2/2021201086_Assignment2_Q2.ipynb#ch0000008vscode-remote?line=2'>3</a>\u001b[0m plt\u001b[39m.\u001b[39mylabel(\u001b[39m'\u001b[39m\u001b[39mcost\u001b[39m\u001b[39m'\u001b[39m)\n",
      "\u001b[0;31mNameError\u001b[0m: name 'gradient_descent' is not defined"
     ]
    }
   ],
   "source": [
    "weights,epochs,cost=gradient_descent(x_train,y_train,1e-1,1000)\n",
    "plt.xlabel('Epochs')\n",
    "plt.ylabel('cost')\n",
    "plt.plot(epochs,cost)\n",
    "plt.legend()\n",
    "plt.show()"
   ]
  },
  {
   "cell_type": "code",
   "execution_count": 9,
   "id": "2972f5e9",
   "metadata": {},
   "outputs": [
    {
     "data": {
      "text/plain": [
       "matrix([[ 1.6317503 ],\n",
       "        [-0.01744744],\n",
       "        [-0.14604204],\n",
       "        [ 1.50243789],\n",
       "        [ 0.59804659]])"
      ]
     },
     "execution_count": 9,
     "metadata": {},
     "output_type": "execute_result"
    }
   ],
   "source": [
    "weights"
   ]
  },
  {
   "cell_type": "code",
   "execution_count": 5,
   "id": "dcbd88be",
   "metadata": {},
   "outputs": [],
   "source": [
    "#linear regression\n",
    "def linear_regression(x_train,y_train,x_test,learning_rate=1e-1,epochs=1000):\n",
    "    w_parameters,epoch,cost=gradient_descent(x_train,y_train,learning_rate,epochs)\n",
    "    x=x_bias=biasing(np.mat(x_test))\n",
    "    y_test=np.matmul(x,w_parameters)\n",
    "    return y_test.tolist()"
   ]
  },
  {
   "cell_type": "code",
   "execution_count": 6,
   "id": "cb89361f",
   "metadata": {},
   "outputs": [],
   "source": [
    "y_pred=linear_regression(x_train,y_train,x_test)"
   ]
  },
  {
   "cell_type": "markdown",
   "id": "angry-tampa",
   "metadata": {},
   "source": [
    "2.1.3 Make a [Parity Plot](https://en.wikipedia.org/wiki/Parity_plot) of your model's bandgap predictions on the test set with the actual values."
   ]
  },
  {
   "cell_type": "code",
   "execution_count": 7,
   "id": "foster-center",
   "metadata": {},
   "outputs": [
    {
     "data": {
      "image/png": "[encoded data removed]",
      "text/plain": [
       "<Figure size 720x1440 with 1 Axes>"
      ]
     },
     "metadata": {
      "needs_background": "light"
     },
     "output_type": "display_data"
    }
   ],
   "source": [
    "# Get the predictions of x_test into `y_pred`\n",
    "\n",
    "#\n",
    "# ...\n",
    "#\n",
    "\n",
    "import matplotlib.pyplot as plt\n",
    "fig, ax = plt.subplots(figsize=(10,20))\n",
    "\n",
    "ax.scatter(y_test, y_pred)\n",
    "\n",
    "lims = [\n",
    "    np.min([ax.get_xlim(), ax.get_ylim()]),\n",
    "    np.max([ax.get_xlim(), ax.get_ylim()]),\n",
    "]\n",
    "ax.plot(lims, lims, 'k-', alpha=0.75, zorder=0)\n",
    "ax.set_aspect('equal')\n",
    "ax.set_xlim(lims)\n",
    "ax.set_ylim(lims)\n",
    "\n",
    "ax.set_title('Parity Plot of Custom Linear Regression')\n",
    "ax.set_xlabel('Ground truth bandgap values')\n",
    "ax.set_ylabel('Predicted bandgap values')\n",
    "plt.show()"
   ]
  },
  {
   "cell_type": "markdown",
   "id": "dominant-chaos",
   "metadata": {},
   "source": [
    "### 2.2 Implement Ridge regression\n",
    "2.2.1 Explain Ridge regression briefly in 1-2 lines."
   ]
  },
  {
   "cell_type": "markdown",
   "id": "e9b0e844",
   "metadata": {},
   "source": [
    "Ridge regression is a regularization technique used to tune our linear regression model that is used to analyse any data that suffers from multicollinearity. This method performs L2 regularization. When we face tbe issue of multicollinearity, least-squares are unbiased, and variances are large, this results in predicted values being far away from the actual values. "
   ]
  },
  {
   "cell_type": "markdown",
   "id": "tight-forwarding",
   "metadata": {},
   "source": [
    "2.2.2 Implement Ridge regression and make a table of different RMSE scores you achieved with different values of alpha. What does the parameter `alpha` do? How does it affect the results here? Explain in 5-10 lines in total. (You can use scikit-learn from this cell onwards)"
   ]
  },
  {
   "cell_type": "code",
   "execution_count": 8,
   "id": "violent-northern",
   "metadata": {},
   "outputs": [
    {
     "data": {
      "text/html": [
       "<div>\n",
       "<style scoped>\n",
       "    .dataframe tbody tr th:only-of-type {\n",
       "        vertical-align: middle;\n",
       "    }\n",
       "\n",
       "    .dataframe tbody tr th {\n",
       "        vertical-align: top;\n",
       "    }\n",
       "\n",
       "    .dataframe thead th {\n",
       "        text-align: right;\n",
       "    }\n",
       "</style>\n",
       "<table border=\"1\" class=\"dataframe\">\n",
       "  <thead>\n",
       "    <tr style=\"text-align: right;\">\n",
       "      <th></th>\n",
       "      <th>alpha</th>\n",
       "      <th>RMSE</th>\n",
       "    </tr>\n",
       "  </thead>\n",
       "  <tbody>\n",
       "    <tr>\n",
       "      <th>0</th>\n",
       "      <td>1.000000e-15</td>\n",
       "      <td>0.054319</td>\n",
       "    </tr>\n",
       "    <tr>\n",
       "      <th>1</th>\n",
       "      <td>1.000000e-10</td>\n",
       "      <td>0.054319</td>\n",
       "    </tr>\n",
       "    <tr>\n",
       "      <th>2</th>\n",
       "      <td>1.000000e-08</td>\n",
       "      <td>0.054319</td>\n",
       "    </tr>\n",
       "    <tr>\n",
       "      <th>3</th>\n",
       "      <td>1.000000e-04</td>\n",
       "      <td>0.054318</td>\n",
       "    </tr>\n",
       "    <tr>\n",
       "      <th>4</th>\n",
       "      <td>1.000000e-03</td>\n",
       "      <td>0.054309</td>\n",
       "    </tr>\n",
       "    <tr>\n",
       "      <th>5</th>\n",
       "      <td>1.000000e-02</td>\n",
       "      <td>0.054222</td>\n",
       "    </tr>\n",
       "    <tr>\n",
       "      <th>6</th>\n",
       "      <td>0.000000e+00</td>\n",
       "      <td>0.054319</td>\n",
       "    </tr>\n",
       "    <tr>\n",
       "      <th>7</th>\n",
       "      <td>1.000000e+00</td>\n",
       "      <td>0.068291</td>\n",
       "    </tr>\n",
       "    <tr>\n",
       "      <th>8</th>\n",
       "      <td>5.000000e+00</td>\n",
       "      <td>0.149718</td>\n",
       "    </tr>\n",
       "    <tr>\n",
       "      <th>9</th>\n",
       "      <td>1.000000e+01</td>\n",
       "      <td>0.201012</td>\n",
       "    </tr>\n",
       "    <tr>\n",
       "      <th>10</th>\n",
       "      <td>2.000000e+01</td>\n",
       "      <td>0.252860</td>\n",
       "    </tr>\n",
       "  </tbody>\n",
       "</table>\n",
       "</div>"
      ],
      "text/plain": [
       "           alpha      RMSE\n",
       "0   1.000000e-15  0.054319\n",
       "1   1.000000e-10  0.054319\n",
       "2   1.000000e-08  0.054319\n",
       "3   1.000000e-04  0.054318\n",
       "4   1.000000e-03  0.054309\n",
       "5   1.000000e-02  0.054222\n",
       "6   0.000000e+00  0.054319\n",
       "7   1.000000e+00  0.068291\n",
       "8   5.000000e+00  0.149718\n",
       "9   1.000000e+01  0.201012\n",
       "10  2.000000e+01  0.252860"
      ]
     },
     "execution_count": 8,
     "metadata": {},
     "output_type": "execute_result"
    }
   ],
   "source": [
    "# you should not have imported sklearn before this point\n",
    "import sklearn\n",
    "import pandas as pd\n",
    "from sklearn.linear_model import Ridge\n",
    "from sklearn.metrics import mean_squared_error\n",
    "# implement Ridge regression and make a table where you explore the effect of different values of `alpha`\n",
    "alphas = [1e-15, 1e-10, 1e-8, 1e-4, 1e-3,1e-2,0, 1, 5, 10, 20]\n",
    "rmses=[]\n",
    "for a in alphas:\n",
    "    model=Ridge(alpha=a)\n",
    "    model.fit(x_train,y_train)\n",
    "    y_pred=model.predict(x_test)\n",
    "    rmse=mean_squared_error(y_test, y_pred, squared=False)\n",
    "    rmses.append(rmse)\n",
    "df=pd.DataFrame(list(zip(alphas,rmses)),columns=['alpha','RMSE'])\n",
    "df"
   ]
  },
  {
   "cell_type": "markdown",
   "id": "d3e856cb",
   "metadata": {},
   "source": [
    "#### Ans. Explaination\n",
    "RMSE or Root Mean Squared Error measures the average magnitude of the residuals or error.Here the Alpha value represents the amount by which we want to penalize the model to make it more generic( i.e. underfit). \n",
    "\n",
    "The value of alpha typically ranges from 0 - infinity. Higher the alpha coefficient, more generic our model. If the alpha value is very less then the model performs similarly to normal linear regression model. From the above table we can see that with decreasing alpha values the model becomes more accurate and RMSE score decreases. This is due to the fact that the particular dataset we are working on is very simple, so overfitting is very unlikely. Thus increasing the alpha values do not increase the RMSE score. In Ridge Regression, we can see that as the values of alpha increases, RMSE also increases, this is because Ridge Regression tends to make the weights of the parameters close to 0 rather than making it absolutely 0. "
   ]
  },
  {
   "cell_type": "markdown",
   "id": "adolescent-temperature",
   "metadata": {},
   "source": [
    "### 2.3 Implement Lasso regression\n",
    "2.3.1 Explain Lasso regression briefly in 1-2 lines."
   ]
  },
  {
   "cell_type": "markdown",
   "id": "0a84cc77",
   "metadata": {},
   "source": [
    "Lasso regression, or the Least Absolute Shrinkage and Selection Operator, is also a modification of linear regression.It performs L1 regulariation which adds a penalty equal to the absolute value of the magnitude of coefficients. This type of regularization can result in sparse models with few coefficients. Some coefficients can become zero and eliminated from the model. Larger penalties result in coefficient values closer to zero, which is the ideal for producing simpler models. "
   ]
  },
  {
   "cell_type": "markdown",
   "id": "popular-wonder",
   "metadata": {},
   "source": [
    "2.3.2 Implement Lasso regression and make a table of different RMSE scores you achieved with different values of alpha. What does the parameter `alpha` do? How does it affect the results here? Explain in 5-10 lines in total."
   ]
  },
  {
   "cell_type": "code",
   "execution_count": 10,
   "id": "extra-brighton",
   "metadata": {},
   "outputs": [
    {
     "data": {
      "text/html": [
       "<div>\n",
       "<style scoped>\n",
       "    .dataframe tbody tr th:only-of-type {\n",
       "        vertical-align: middle;\n",
       "    }\n",
       "\n",
       "    .dataframe tbody tr th {\n",
       "        vertical-align: top;\n",
       "    }\n",
       "\n",
       "    .dataframe thead th {\n",
       "        text-align: right;\n",
       "    }\n",
       "</style>\n",
       "<table border=\"1\" class=\"dataframe\">\n",
       "  <thead>\n",
       "    <tr style=\"text-align: right;\">\n",
       "      <th></th>\n",
       "      <th>alpha</th>\n",
       "      <th>RMSE</th>\n",
       "    </tr>\n",
       "  </thead>\n",
       "  <tbody>\n",
       "    <tr>\n",
       "      <th>0</th>\n",
       "      <td>1.000000e-15</td>\n",
       "      <td>0.054319</td>\n",
       "    </tr>\n",
       "    <tr>\n",
       "      <th>1</th>\n",
       "      <td>1.000000e-10</td>\n",
       "      <td>0.054319</td>\n",
       "    </tr>\n",
       "    <tr>\n",
       "      <th>2</th>\n",
       "      <td>1.000000e-08</td>\n",
       "      <td>0.054319</td>\n",
       "    </tr>\n",
       "    <tr>\n",
       "      <th>3</th>\n",
       "      <td>1.000000e-04</td>\n",
       "      <td>0.054318</td>\n",
       "    </tr>\n",
       "    <tr>\n",
       "      <th>4</th>\n",
       "      <td>1.000000e-03</td>\n",
       "      <td>0.054309</td>\n",
       "    </tr>\n",
       "    <tr>\n",
       "      <th>5</th>\n",
       "      <td>1.000000e-02</td>\n",
       "      <td>0.054222</td>\n",
       "    </tr>\n",
       "    <tr>\n",
       "      <th>6</th>\n",
       "      <td>1.000000e+00</td>\n",
       "      <td>0.054319</td>\n",
       "    </tr>\n",
       "    <tr>\n",
       "      <th>7</th>\n",
       "      <td>5.000000e+00</td>\n",
       "      <td>0.068291</td>\n",
       "    </tr>\n",
       "    <tr>\n",
       "      <th>8</th>\n",
       "      <td>1.000000e+01</td>\n",
       "      <td>0.149718</td>\n",
       "    </tr>\n",
       "    <tr>\n",
       "      <th>9</th>\n",
       "      <td>2.000000e+01</td>\n",
       "      <td>0.201012</td>\n",
       "    </tr>\n",
       "  </tbody>\n",
       "</table>\n",
       "</div>"
      ],
      "text/plain": [
       "          alpha      RMSE\n",
       "0  1.000000e-15  0.054319\n",
       "1  1.000000e-10  0.054319\n",
       "2  1.000000e-08  0.054319\n",
       "3  1.000000e-04  0.054318\n",
       "4  1.000000e-03  0.054309\n",
       "5  1.000000e-02  0.054222\n",
       "6  1.000000e+00  0.054319\n",
       "7  5.000000e+00  0.068291\n",
       "8  1.000000e+01  0.149718\n",
       "9  2.000000e+01  0.201012"
      ]
     },
     "execution_count": 10,
     "metadata": {},
     "output_type": "execute_result"
    }
   ],
   "source": [
    "# implement Lasso regression and make a table where you explore the effect of different values of `alpha`\n",
    "from sklearn.linear_model import Lasso\n",
    "alphas = [1e-15, 1e-10, 1e-8, 1e-4, 1e-3,1e-2, 1, 5, 10, 20]\n",
    "for a in alphas:\n",
    "    model=Lasso(alpha=a)\n",
    "    model.fit(x_train,y_train)\n",
    "    y_pred=model.predict(x_test)\n",
    "    rmse=mean_squared_error(y_test, y_pred, squared=False)\n",
    "    rmses.append(rmse)\n",
    "df=pd.DataFrame(list(zip(alphas,rmses)),columns=['alpha','RMSE'])\n",
    "df"
   ]
  },
  {
   "cell_type": "markdown",
   "id": "6d903813",
   "metadata": {},
   "source": [
    "#### Ans. Explaination\n",
    "RMSE or Root Mean Squared Error measures the average magnitude of the residuals or error.Here the Alpha value represents the amount by which we want to penalize the model to make it more generic( i.e. underfit). \n",
    "\n",
    "The value of alpha typically ranges from 0 - infinity. Higher the alpha coefficient, more generic our model. If the alpha value is very less then the model performs similarly to normal linear regression model. From the above table we can see that with decreasing alpha values the model becomes more accurate and RMSE score decreases. This is due to the fact that the particular dataset we are working on is very simple, so overfitting is very unlikely. Thus increasing the alpha values do not increase the RMSE score. In Lasso Regression, we can see that as the values of alpha increases, RMSE also increases, this is because Ridge Regression tends to make the weights of the parameters close to 0 rather than making it absolutely 0. "
   ]
  }
 ],
 "metadata": {
  "kernelspec": {
   "display_name": "Python 3",
   "language": "python",
   "name": "python3"
  },
  "language_info": {
   "codemirror_mode": {
    "name": "ipython",
    "version": 3
   },
   "file_extension": ".py",
   "mimetype": "text/x-python",
   "name": "python",
   "nbconvert_exporter": "python",
   "pygments_lexer": "ipython3",
   "version": "3.8.10"
  }
 },
 "nbformat": 4,
 "nbformat_minor": 5
}
